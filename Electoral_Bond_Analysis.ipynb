{
  "cells": [
    {
      "cell_type": "markdown",
      "metadata": {
        "id": "view-in-github",
        "colab_type": "text"
      },
      "source": [
        "<a href=\"https://colab.research.google.com/github/beingmechon/DataAnalysisWithPython/blob/main/Electoral_Bond_Analysis.ipynb\" target=\"_parent\"><img src=\"https://colab.research.google.com/assets/colab-badge.svg\" alt=\"Open In Colab\"/></a>"
      ]
    },
    {
      "cell_type": "markdown",
      "source": [
        "## Install required packages"
      ],
      "metadata": {
        "id": "Me4ZiJp66izs"
      }
    },
    {
      "cell_type": "code",
      "source": [
        "! sudo apt-get install -q graphviz libgraphviz-dev pkg-config"
      ],
      "metadata": {
        "colab": {
          "base_uri": "https://localhost:8080/"
        },
        "id": "KNGh2OD_68bW",
        "outputId": "9b895deb-7be5-4d92-d165-1c96f8f320d0"
      },
      "execution_count": 324,
      "outputs": [
        {
          "output_type": "stream",
          "name": "stdout",
          "text": [
            "Reading package lists...\n",
            "Building dependency tree...\n",
            "Reading state information...\n",
            "pkg-config is already the newest version (0.29.2-1ubuntu3).\n",
            "graphviz is already the newest version (2.42.2-6).\n",
            "libgraphviz-dev is already the newest version (2.42.2-6).\n",
            "0 upgraded, 0 newly installed, 0 to remove and 45 not upgraded.\n"
          ]
        }
      ]
    },
    {
      "cell_type": "code",
      "source": [
        "! pip install -q tabula-py squarify plotly dash pyspark pyvis networkx[default,extra]"
      ],
      "metadata": {
        "id": "ErPQRfbesObU",
        "colab": {
          "base_uri": "https://localhost:8080/"
        },
        "outputId": "e567700f-9899-4be2-92f7-c40155cc849b"
      },
      "execution_count": 322,
      "outputs": [
        {
          "output_type": "stream",
          "name": "stdout",
          "text": [
            "  Installing build dependencies ... \u001b[?25l\u001b[?25hdone\n",
            "  Getting requirements to build wheel ... \u001b[?25l\u001b[?25hdone\n",
            "  Installing backend dependencies ... \u001b[?25l\u001b[?25hdone\n",
            "  Preparing metadata (pyproject.toml) ... \u001b[?25l\u001b[?25hdone\n",
            "  Building wheel for pygraphviz (pyproject.toml) ... \u001b[?25l\u001b[?25hdone\n"
          ]
        }
      ]
    },
    {
      "cell_type": "code",
      "source": [
        "import tabula\n",
        "import squarify\n",
        "import numpy as np\n",
        "import pandas as pd\n",
        "import plotly.express as px\n",
        "import matplotlib.pyplot as plt\n",
        "from dash import Dash, dcc, html, Input, Output\n"
      ],
      "metadata": {
        "id": "XAJ4z6dmsRY4"
      },
      "execution_count": 204,
      "outputs": []
    },
    {
      "cell_type": "code",
      "source": [
        "def pdf_to_df(path):\n",
        "  pdf_output = tabula.read_pdf(path, pages='all', lattice=True)\n",
        "\n",
        "  for i in range(1, len(pdf_output)):\n",
        "    pdf_output[i].columns = pdf_output[0].columns\n",
        "\n",
        "  return pd.concat(pdf_output, ignore_index=True)"
      ],
      "metadata": {
        "id": "tq3WnbkZtQCw"
      },
      "execution_count": 205,
      "outputs": []
    },
    {
      "cell_type": "code",
      "source": [
        "# !wget -O ECI-Enchasers.pdf https://raw.githubusercontent.com/beingmechon/DataAnalysisWithPython/main/electoral_bond/ECI-Enchasers.pdf\n",
        "# !wget -O ECI-Purchasers.pdf https://raw.githubusercontent.com/beingmechon/DataAnalysisWithPython/main/electoral_bond/ECI-Purchasers.pdf"
      ],
      "metadata": {
        "id": "JLhha286bHm1"
      },
      "execution_count": 206,
      "outputs": []
    },
    {
      "cell_type": "code",
      "source": [
        "enchaser_pdf = \"https://raw.githubusercontent.com/beingmechon/DataAnalysisWithPython/main/electoral_bond/ECI-Enchasers.pdf\"\n",
        "purchaser_pdf = \"https://raw.githubusercontent.com/beingmechon/DataAnalysisWithPython/main/electoral_bond/ECI-Purchasers.pdf\""
      ],
      "metadata": {
        "id": "-aU-0xpSb-34"
      },
      "execution_count": 207,
      "outputs": []
    },
    {
      "cell_type": "code",
      "source": [
        "enchasers = pdf_to_df(enchaser_pdf)\n",
        "purchasers = pdf_to_df(purchaser_pdf)"
      ],
      "metadata": {
        "id": "fRJHoKvQuB2q"
      },
      "execution_count": 208,
      "outputs": []
    },
    {
      "cell_type": "markdown",
      "source": [
        "## Explore and Wrangle the data"
      ],
      "metadata": {
        "id": "HRmOcdCK5naT"
      }
    },
    {
      "cell_type": "markdown",
      "source": [
        "### Explore dataframes"
      ],
      "metadata": {
        "id": "pG965NlG3B1d"
      }
    },
    {
      "cell_type": "code",
      "source": [
        "enchasers.head()"
      ],
      "metadata": {
        "colab": {
          "base_uri": "https://localhost:8080/",
          "height": 310
        },
        "id": "8s5Gm5NrtbXX",
        "outputId": "35656b84-412d-4554-f216-90088dbbd405"
      },
      "execution_count": 209,
      "outputs": [
        {
          "output_type": "execute_result",
          "data": {
            "text/plain": [
              "   Sr No. Date of\\rEncashment               Name of the Political Party  \\\n",
              "0       1         12/Apr/2019  ALL INDIA ANNA DRAVIDA MUNNETRA KAZHAGAM   \n",
              "1       2         12/Apr/2019  ALL INDIA ANNA DRAVIDA MUNNETRA KAZHAGAM   \n",
              "2       3         12/Apr/2019  ALL INDIA ANNA DRAVIDA MUNNETRA KAZHAGAM   \n",
              "3       4         12/Apr/2019  ALL INDIA ANNA DRAVIDA MUNNETRA KAZHAGAM   \n",
              "4       5         12/Apr/2019  ALL INDIA ANNA DRAVIDA MUNNETRA KAZHAGAM   \n",
              "\n",
              "  Account no. of\\rPolitical Party Prefix  Bond\\rNumber Denominations  \\\n",
              "0                     *******5199     OC           775   1,00,00,000   \n",
              "1                     *******5199     OC          3975   1,00,00,000   \n",
              "2                     *******5199     OC          3967   1,00,00,000   \n",
              "3                     *******5199     TL         10418     10,00,000   \n",
              "4                     *******5199     TL           126     10,00,000   \n",
              "\n",
              "   Pay Branch\\rCode  Pay Teller  \n",
              "0               800     2770121  \n",
              "1               800     2770121  \n",
              "2               800     2770121  \n",
              "3               800     2770121  \n",
              "4               800     2770121  "
            ],
            "text/html": [
              "\n",
              "  <div id=\"df-0e71e3eb-f689-4324-a364-3670e1cb4fce\" class=\"colab-df-container\">\n",
              "    <div>\n",
              "<style scoped>\n",
              "    .dataframe tbody tr th:only-of-type {\n",
              "        vertical-align: middle;\n",
              "    }\n",
              "\n",
              "    .dataframe tbody tr th {\n",
              "        vertical-align: top;\n",
              "    }\n",
              "\n",
              "    .dataframe thead th {\n",
              "        text-align: right;\n",
              "    }\n",
              "</style>\n",
              "<table border=\"1\" class=\"dataframe\">\n",
              "  <thead>\n",
              "    <tr style=\"text-align: right;\">\n",
              "      <th></th>\n",
              "      <th>Sr No.</th>\n",
              "      <th>Date of\\rEncashment</th>\n",
              "      <th>Name of the Political Party</th>\n",
              "      <th>Account no. of\\rPolitical Party</th>\n",
              "      <th>Prefix</th>\n",
              "      <th>Bond\\rNumber</th>\n",
              "      <th>Denominations</th>\n",
              "      <th>Pay Branch\\rCode</th>\n",
              "      <th>Pay Teller</th>\n",
              "    </tr>\n",
              "  </thead>\n",
              "  <tbody>\n",
              "    <tr>\n",
              "      <th>0</th>\n",
              "      <td>1</td>\n",
              "      <td>12/Apr/2019</td>\n",
              "      <td>ALL INDIA ANNA DRAVIDA MUNNETRA KAZHAGAM</td>\n",
              "      <td>*******5199</td>\n",
              "      <td>OC</td>\n",
              "      <td>775</td>\n",
              "      <td>1,00,00,000</td>\n",
              "      <td>800</td>\n",
              "      <td>2770121</td>\n",
              "    </tr>\n",
              "    <tr>\n",
              "      <th>1</th>\n",
              "      <td>2</td>\n",
              "      <td>12/Apr/2019</td>\n",
              "      <td>ALL INDIA ANNA DRAVIDA MUNNETRA KAZHAGAM</td>\n",
              "      <td>*******5199</td>\n",
              "      <td>OC</td>\n",
              "      <td>3975</td>\n",
              "      <td>1,00,00,000</td>\n",
              "      <td>800</td>\n",
              "      <td>2770121</td>\n",
              "    </tr>\n",
              "    <tr>\n",
              "      <th>2</th>\n",
              "      <td>3</td>\n",
              "      <td>12/Apr/2019</td>\n",
              "      <td>ALL INDIA ANNA DRAVIDA MUNNETRA KAZHAGAM</td>\n",
              "      <td>*******5199</td>\n",
              "      <td>OC</td>\n",
              "      <td>3967</td>\n",
              "      <td>1,00,00,000</td>\n",
              "      <td>800</td>\n",
              "      <td>2770121</td>\n",
              "    </tr>\n",
              "    <tr>\n",
              "      <th>3</th>\n",
              "      <td>4</td>\n",
              "      <td>12/Apr/2019</td>\n",
              "      <td>ALL INDIA ANNA DRAVIDA MUNNETRA KAZHAGAM</td>\n",
              "      <td>*******5199</td>\n",
              "      <td>TL</td>\n",
              "      <td>10418</td>\n",
              "      <td>10,00,000</td>\n",
              "      <td>800</td>\n",
              "      <td>2770121</td>\n",
              "    </tr>\n",
              "    <tr>\n",
              "      <th>4</th>\n",
              "      <td>5</td>\n",
              "      <td>12/Apr/2019</td>\n",
              "      <td>ALL INDIA ANNA DRAVIDA MUNNETRA KAZHAGAM</td>\n",
              "      <td>*******5199</td>\n",
              "      <td>TL</td>\n",
              "      <td>126</td>\n",
              "      <td>10,00,000</td>\n",
              "      <td>800</td>\n",
              "      <td>2770121</td>\n",
              "    </tr>\n",
              "  </tbody>\n",
              "</table>\n",
              "</div>\n",
              "    <div class=\"colab-df-buttons\">\n",
              "\n",
              "  <div class=\"colab-df-container\">\n",
              "    <button class=\"colab-df-convert\" onclick=\"convertToInteractive('df-0e71e3eb-f689-4324-a364-3670e1cb4fce')\"\n",
              "            title=\"Convert this dataframe to an interactive table.\"\n",
              "            style=\"display:none;\">\n",
              "\n",
              "  <svg xmlns=\"http://www.w3.org/2000/svg\" height=\"24px\" viewBox=\"0 -960 960 960\">\n",
              "    <path d=\"M120-120v-720h720v720H120Zm60-500h600v-160H180v160Zm220 220h160v-160H400v160Zm0 220h160v-160H400v160ZM180-400h160v-160H180v160Zm440 0h160v-160H620v160ZM180-180h160v-160H180v160Zm440 0h160v-160H620v160Z\"/>\n",
              "  </svg>\n",
              "    </button>\n",
              "\n",
              "  <style>\n",
              "    .colab-df-container {\n",
              "      display:flex;\n",
              "      gap: 12px;\n",
              "    }\n",
              "\n",
              "    .colab-df-convert {\n",
              "      background-color: #E8F0FE;\n",
              "      border: none;\n",
              "      border-radius: 50%;\n",
              "      cursor: pointer;\n",
              "      display: none;\n",
              "      fill: #1967D2;\n",
              "      height: 32px;\n",
              "      padding: 0 0 0 0;\n",
              "      width: 32px;\n",
              "    }\n",
              "\n",
              "    .colab-df-convert:hover {\n",
              "      background-color: #E2EBFA;\n",
              "      box-shadow: 0px 1px 2px rgba(60, 64, 67, 0.3), 0px 1px 3px 1px rgba(60, 64, 67, 0.15);\n",
              "      fill: #174EA6;\n",
              "    }\n",
              "\n",
              "    .colab-df-buttons div {\n",
              "      margin-bottom: 4px;\n",
              "    }\n",
              "\n",
              "    [theme=dark] .colab-df-convert {\n",
              "      background-color: #3B4455;\n",
              "      fill: #D2E3FC;\n",
              "    }\n",
              "\n",
              "    [theme=dark] .colab-df-convert:hover {\n",
              "      background-color: #434B5C;\n",
              "      box-shadow: 0px 1px 3px 1px rgba(0, 0, 0, 0.15);\n",
              "      filter: drop-shadow(0px 1px 2px rgba(0, 0, 0, 0.3));\n",
              "      fill: #FFFFFF;\n",
              "    }\n",
              "  </style>\n",
              "\n",
              "    <script>\n",
              "      const buttonEl =\n",
              "        document.querySelector('#df-0e71e3eb-f689-4324-a364-3670e1cb4fce button.colab-df-convert');\n",
              "      buttonEl.style.display =\n",
              "        google.colab.kernel.accessAllowed ? 'block' : 'none';\n",
              "\n",
              "      async function convertToInteractive(key) {\n",
              "        const element = document.querySelector('#df-0e71e3eb-f689-4324-a364-3670e1cb4fce');\n",
              "        const dataTable =\n",
              "          await google.colab.kernel.invokeFunction('convertToInteractive',\n",
              "                                                    [key], {});\n",
              "        if (!dataTable) return;\n",
              "\n",
              "        const docLinkHtml = 'Like what you see? Visit the ' +\n",
              "          '<a target=\"_blank\" href=https://colab.research.google.com/notebooks/data_table.ipynb>data table notebook</a>'\n",
              "          + ' to learn more about interactive tables.';\n",
              "        element.innerHTML = '';\n",
              "        dataTable['output_type'] = 'display_data';\n",
              "        await google.colab.output.renderOutput(dataTable, element);\n",
              "        const docLink = document.createElement('div');\n",
              "        docLink.innerHTML = docLinkHtml;\n",
              "        element.appendChild(docLink);\n",
              "      }\n",
              "    </script>\n",
              "  </div>\n",
              "\n",
              "\n",
              "<div id=\"df-5a4ff2cf-e4b4-4424-9202-0e5bc86cba77\">\n",
              "  <button class=\"colab-df-quickchart\" onclick=\"quickchart('df-5a4ff2cf-e4b4-4424-9202-0e5bc86cba77')\"\n",
              "            title=\"Suggest charts\"\n",
              "            style=\"display:none;\">\n",
              "\n",
              "<svg xmlns=\"http://www.w3.org/2000/svg\" height=\"24px\"viewBox=\"0 0 24 24\"\n",
              "     width=\"24px\">\n",
              "    <g>\n",
              "        <path d=\"M19 3H5c-1.1 0-2 .9-2 2v14c0 1.1.9 2 2 2h14c1.1 0 2-.9 2-2V5c0-1.1-.9-2-2-2zM9 17H7v-7h2v7zm4 0h-2V7h2v10zm4 0h-2v-4h2v4z\"/>\n",
              "    </g>\n",
              "</svg>\n",
              "  </button>\n",
              "\n",
              "<style>\n",
              "  .colab-df-quickchart {\n",
              "      --bg-color: #E8F0FE;\n",
              "      --fill-color: #1967D2;\n",
              "      --hover-bg-color: #E2EBFA;\n",
              "      --hover-fill-color: #174EA6;\n",
              "      --disabled-fill-color: #AAA;\n",
              "      --disabled-bg-color: #DDD;\n",
              "  }\n",
              "\n",
              "  [theme=dark] .colab-df-quickchart {\n",
              "      --bg-color: #3B4455;\n",
              "      --fill-color: #D2E3FC;\n",
              "      --hover-bg-color: #434B5C;\n",
              "      --hover-fill-color: #FFFFFF;\n",
              "      --disabled-bg-color: #3B4455;\n",
              "      --disabled-fill-color: #666;\n",
              "  }\n",
              "\n",
              "  .colab-df-quickchart {\n",
              "    background-color: var(--bg-color);\n",
              "    border: none;\n",
              "    border-radius: 50%;\n",
              "    cursor: pointer;\n",
              "    display: none;\n",
              "    fill: var(--fill-color);\n",
              "    height: 32px;\n",
              "    padding: 0;\n",
              "    width: 32px;\n",
              "  }\n",
              "\n",
              "  .colab-df-quickchart:hover {\n",
              "    background-color: var(--hover-bg-color);\n",
              "    box-shadow: 0 1px 2px rgba(60, 64, 67, 0.3), 0 1px 3px 1px rgba(60, 64, 67, 0.15);\n",
              "    fill: var(--button-hover-fill-color);\n",
              "  }\n",
              "\n",
              "  .colab-df-quickchart-complete:disabled,\n",
              "  .colab-df-quickchart-complete:disabled:hover {\n",
              "    background-color: var(--disabled-bg-color);\n",
              "    fill: var(--disabled-fill-color);\n",
              "    box-shadow: none;\n",
              "  }\n",
              "\n",
              "  .colab-df-spinner {\n",
              "    border: 2px solid var(--fill-color);\n",
              "    border-color: transparent;\n",
              "    border-bottom-color: var(--fill-color);\n",
              "    animation:\n",
              "      spin 1s steps(1) infinite;\n",
              "  }\n",
              "\n",
              "  @keyframes spin {\n",
              "    0% {\n",
              "      border-color: transparent;\n",
              "      border-bottom-color: var(--fill-color);\n",
              "      border-left-color: var(--fill-color);\n",
              "    }\n",
              "    20% {\n",
              "      border-color: transparent;\n",
              "      border-left-color: var(--fill-color);\n",
              "      border-top-color: var(--fill-color);\n",
              "    }\n",
              "    30% {\n",
              "      border-color: transparent;\n",
              "      border-left-color: var(--fill-color);\n",
              "      border-top-color: var(--fill-color);\n",
              "      border-right-color: var(--fill-color);\n",
              "    }\n",
              "    40% {\n",
              "      border-color: transparent;\n",
              "      border-right-color: var(--fill-color);\n",
              "      border-top-color: var(--fill-color);\n",
              "    }\n",
              "    60% {\n",
              "      border-color: transparent;\n",
              "      border-right-color: var(--fill-color);\n",
              "    }\n",
              "    80% {\n",
              "      border-color: transparent;\n",
              "      border-right-color: var(--fill-color);\n",
              "      border-bottom-color: var(--fill-color);\n",
              "    }\n",
              "    90% {\n",
              "      border-color: transparent;\n",
              "      border-bottom-color: var(--fill-color);\n",
              "    }\n",
              "  }\n",
              "</style>\n",
              "\n",
              "  <script>\n",
              "    async function quickchart(key) {\n",
              "      const quickchartButtonEl =\n",
              "        document.querySelector('#' + key + ' button');\n",
              "      quickchartButtonEl.disabled = true;  // To prevent multiple clicks.\n",
              "      quickchartButtonEl.classList.add('colab-df-spinner');\n",
              "      try {\n",
              "        const charts = await google.colab.kernel.invokeFunction(\n",
              "            'suggestCharts', [key], {});\n",
              "      } catch (error) {\n",
              "        console.error('Error during call to suggestCharts:', error);\n",
              "      }\n",
              "      quickchartButtonEl.classList.remove('colab-df-spinner');\n",
              "      quickchartButtonEl.classList.add('colab-df-quickchart-complete');\n",
              "    }\n",
              "    (() => {\n",
              "      let quickchartButtonEl =\n",
              "        document.querySelector('#df-5a4ff2cf-e4b4-4424-9202-0e5bc86cba77 button');\n",
              "      quickchartButtonEl.style.display =\n",
              "        google.colab.kernel.accessAllowed ? 'block' : 'none';\n",
              "    })();\n",
              "  </script>\n",
              "</div>\n",
              "\n",
              "    </div>\n",
              "  </div>\n"
            ],
            "application/vnd.google.colaboratory.intrinsic+json": {
              "type": "dataframe",
              "variable_name": "enchasers",
              "summary": "{\n  \"name\": \"enchasers\",\n  \"rows\": 20421,\n  \"fields\": [\n    {\n      \"column\": \"Sr No.\",\n      \"properties\": {\n        \"dtype\": \"number\",\n        \"std\": 5895,\n        \"min\": 1,\n        \"max\": 20421,\n        \"num_unique_values\": 20421,\n        \"samples\": [\n          17244,\n          12657,\n          12693\n        ],\n        \"semantic_type\": \"\",\n        \"description\": \"\"\n      }\n    },\n    {\n      \"column\": \"Date of\\rEncashment\",\n      \"properties\": {\n        \"dtype\": \"object\",\n        \"num_unique_values\": 230,\n        \"samples\": [\n          \"08/Jan/2024\",\n          \"09/Apr/2021\",\n          \"26/Apr/2019\"\n        ],\n        \"semantic_type\": \"\",\n        \"description\": \"\"\n      }\n    },\n    {\n      \"column\": \"Name of the Political Party\",\n      \"properties\": {\n        \"dtype\": \"category\",\n        \"num_unique_values\": 24,\n        \"samples\": [\n          \"JANATA DAL ( SECULAR )\",\n          \"JHARKHAND MUKTI MORCHA\",\n          \"ALL INDIA ANNA DRAVIDA MUNNETRA KAZHAGAM\"\n        ],\n        \"semantic_type\": \"\",\n        \"description\": \"\"\n      }\n    },\n    {\n      \"column\": \"Account no. of\\rPolitical Party\",\n      \"properties\": {\n        \"dtype\": \"category\",\n        \"num_unique_values\": 24,\n        \"samples\": [\n          \"*******3286\",\n          \"*******5076\",\n          \"*******5199\"\n        ],\n        \"semantic_type\": \"\",\n        \"description\": \"\"\n      }\n    },\n    {\n      \"column\": \"Prefix\",\n      \"properties\": {\n        \"dtype\": \"category\",\n        \"num_unique_values\": 5,\n        \"samples\": [\n          \"TL\",\n          \"OT\",\n          \"OL\"\n        ],\n        \"semantic_type\": \"\",\n        \"description\": \"\"\n      }\n    },\n    {\n      \"column\": \"Bond\\rNumber\",\n      \"properties\": {\n        \"dtype\": \"number\",\n        \"std\": 6525,\n        \"min\": 10,\n        \"max\": 71548,\n        \"num_unique_values\": 15296,\n        \"samples\": [\n          4733,\n          7863,\n          13687\n        ],\n        \"semantic_type\": \"\",\n        \"description\": \"\"\n      }\n    },\n    {\n      \"column\": \"Denominations\",\n      \"properties\": {\n        \"dtype\": \"category\",\n        \"num_unique_values\": 5,\n        \"samples\": [\n          \"10,00,000\",\n          \"1,000\",\n          \"1,00,000\"\n        ],\n        \"semantic_type\": \"\",\n        \"description\": \"\"\n      }\n    },\n    {\n      \"column\": \"Pay Branch\\rCode\",\n      \"properties\": {\n        \"dtype\": \"number\",\n        \"std\": 297,\n        \"min\": 1,\n        \"max\": 2295,\n        \"num_unique_values\": 13,\n        \"samples\": [\n          509,\n          2295,\n          800\n        ],\n        \"semantic_type\": \"\",\n        \"description\": \"\"\n      }\n    },\n    {\n      \"column\": \"Pay Teller\",\n      \"properties\": {\n        \"dtype\": \"number\",\n        \"std\": 1953103,\n        \"min\": 149845,\n        \"max\": 8212066,\n        \"num_unique_values\": 87,\n        \"samples\": [\n          6391354,\n          2770121,\n          3303527\n        ],\n        \"semantic_type\": \"\",\n        \"description\": \"\"\n      }\n    }\n  ]\n}"
            }
          },
          "metadata": {},
          "execution_count": 209
        }
      ]
    },
    {
      "cell_type": "code",
      "source": [
        "purchasers.head()"
      ],
      "metadata": {
        "colab": {
          "base_uri": "https://localhost:8080/",
          "height": 310
        },
        "id": "vvolxd-Huhyl",
        "outputId": "753adedd-2952-43e1-aff0-7f5967a2b5fe"
      },
      "execution_count": 210,
      "outputs": [
        {
          "output_type": "execute_result",
          "data": {
            "text/plain": [
              "   Sr No.      Reference No  (URN) Journal Date Date of\\rPurchase  \\\n",
              "0       1  00001201904120000001166  12/Apr/2019       12/Apr/2019   \n",
              "1       2  00001201904120000001166  12/Apr/2019       12/Apr/2019   \n",
              "2       3  00001201904120000001166  12/Apr/2019       12/Apr/2019   \n",
              "3       4  00001201904120000001166  12/Apr/2019       12/Apr/2019   \n",
              "4       5  00001201904120000001166  12/Apr/2019       12/Apr/2019   \n",
              "\n",
              "  Date of Expiry Name of the Purchaser Prefix  Bond\\rNumber Denominations  \\\n",
              "0    26/Apr/2019   A B C INDIA LIMITED     TL         11448     10,00,000   \n",
              "1    26/Apr/2019   A B C INDIA LIMITED     TL         11447     10,00,000   \n",
              "2    26/Apr/2019   A B C INDIA LIMITED     TL         11441     10,00,000   \n",
              "3    26/Apr/2019   A B C INDIA LIMITED     OL          1113      1,00,000   \n",
              "4    26/Apr/2019   A B C INDIA LIMITED     OL          1118      1,00,000   \n",
              "\n",
              "   Issue Branch Code  Issue Teller Status  \n",
              "0                  1       5899230   Paid  \n",
              "1                  1       5899230   Paid  \n",
              "2                  1       5899230   Paid  \n",
              "3                  1       5899230   Paid  \n",
              "4                  1       5899230   Paid  "
            ],
            "text/html": [
              "\n",
              "  <div id=\"df-ec549c6c-2147-4574-b21f-183255b8d567\" class=\"colab-df-container\">\n",
              "    <div>\n",
              "<style scoped>\n",
              "    .dataframe tbody tr th:only-of-type {\n",
              "        vertical-align: middle;\n",
              "    }\n",
              "\n",
              "    .dataframe tbody tr th {\n",
              "        vertical-align: top;\n",
              "    }\n",
              "\n",
              "    .dataframe thead th {\n",
              "        text-align: right;\n",
              "    }\n",
              "</style>\n",
              "<table border=\"1\" class=\"dataframe\">\n",
              "  <thead>\n",
              "    <tr style=\"text-align: right;\">\n",
              "      <th></th>\n",
              "      <th>Sr No.</th>\n",
              "      <th>Reference No  (URN)</th>\n",
              "      <th>Journal Date</th>\n",
              "      <th>Date of\\rPurchase</th>\n",
              "      <th>Date of Expiry</th>\n",
              "      <th>Name of the Purchaser</th>\n",
              "      <th>Prefix</th>\n",
              "      <th>Bond\\rNumber</th>\n",
              "      <th>Denominations</th>\n",
              "      <th>Issue Branch Code</th>\n",
              "      <th>Issue Teller</th>\n",
              "      <th>Status</th>\n",
              "    </tr>\n",
              "  </thead>\n",
              "  <tbody>\n",
              "    <tr>\n",
              "      <th>0</th>\n",
              "      <td>1</td>\n",
              "      <td>00001201904120000001166</td>\n",
              "      <td>12/Apr/2019</td>\n",
              "      <td>12/Apr/2019</td>\n",
              "      <td>26/Apr/2019</td>\n",
              "      <td>A B C INDIA LIMITED</td>\n",
              "      <td>TL</td>\n",
              "      <td>11448</td>\n",
              "      <td>10,00,000</td>\n",
              "      <td>1</td>\n",
              "      <td>5899230</td>\n",
              "      <td>Paid</td>\n",
              "    </tr>\n",
              "    <tr>\n",
              "      <th>1</th>\n",
              "      <td>2</td>\n",
              "      <td>00001201904120000001166</td>\n",
              "      <td>12/Apr/2019</td>\n",
              "      <td>12/Apr/2019</td>\n",
              "      <td>26/Apr/2019</td>\n",
              "      <td>A B C INDIA LIMITED</td>\n",
              "      <td>TL</td>\n",
              "      <td>11447</td>\n",
              "      <td>10,00,000</td>\n",
              "      <td>1</td>\n",
              "      <td>5899230</td>\n",
              "      <td>Paid</td>\n",
              "    </tr>\n",
              "    <tr>\n",
              "      <th>2</th>\n",
              "      <td>3</td>\n",
              "      <td>00001201904120000001166</td>\n",
              "      <td>12/Apr/2019</td>\n",
              "      <td>12/Apr/2019</td>\n",
              "      <td>26/Apr/2019</td>\n",
              "      <td>A B C INDIA LIMITED</td>\n",
              "      <td>TL</td>\n",
              "      <td>11441</td>\n",
              "      <td>10,00,000</td>\n",
              "      <td>1</td>\n",
              "      <td>5899230</td>\n",
              "      <td>Paid</td>\n",
              "    </tr>\n",
              "    <tr>\n",
              "      <th>3</th>\n",
              "      <td>4</td>\n",
              "      <td>00001201904120000001166</td>\n",
              "      <td>12/Apr/2019</td>\n",
              "      <td>12/Apr/2019</td>\n",
              "      <td>26/Apr/2019</td>\n",
              "      <td>A B C INDIA LIMITED</td>\n",
              "      <td>OL</td>\n",
              "      <td>1113</td>\n",
              "      <td>1,00,000</td>\n",
              "      <td>1</td>\n",
              "      <td>5899230</td>\n",
              "      <td>Paid</td>\n",
              "    </tr>\n",
              "    <tr>\n",
              "      <th>4</th>\n",
              "      <td>5</td>\n",
              "      <td>00001201904120000001166</td>\n",
              "      <td>12/Apr/2019</td>\n",
              "      <td>12/Apr/2019</td>\n",
              "      <td>26/Apr/2019</td>\n",
              "      <td>A B C INDIA LIMITED</td>\n",
              "      <td>OL</td>\n",
              "      <td>1118</td>\n",
              "      <td>1,00,000</td>\n",
              "      <td>1</td>\n",
              "      <td>5899230</td>\n",
              "      <td>Paid</td>\n",
              "    </tr>\n",
              "  </tbody>\n",
              "</table>\n",
              "</div>\n",
              "    <div class=\"colab-df-buttons\">\n",
              "\n",
              "  <div class=\"colab-df-container\">\n",
              "    <button class=\"colab-df-convert\" onclick=\"convertToInteractive('df-ec549c6c-2147-4574-b21f-183255b8d567')\"\n",
              "            title=\"Convert this dataframe to an interactive table.\"\n",
              "            style=\"display:none;\">\n",
              "\n",
              "  <svg xmlns=\"http://www.w3.org/2000/svg\" height=\"24px\" viewBox=\"0 -960 960 960\">\n",
              "    <path d=\"M120-120v-720h720v720H120Zm60-500h600v-160H180v160Zm220 220h160v-160H400v160Zm0 220h160v-160H400v160ZM180-400h160v-160H180v160Zm440 0h160v-160H620v160ZM180-180h160v-160H180v160Zm440 0h160v-160H620v160Z\"/>\n",
              "  </svg>\n",
              "    </button>\n",
              "\n",
              "  <style>\n",
              "    .colab-df-container {\n",
              "      display:flex;\n",
              "      gap: 12px;\n",
              "    }\n",
              "\n",
              "    .colab-df-convert {\n",
              "      background-color: #E8F0FE;\n",
              "      border: none;\n",
              "      border-radius: 50%;\n",
              "      cursor: pointer;\n",
              "      display: none;\n",
              "      fill: #1967D2;\n",
              "      height: 32px;\n",
              "      padding: 0 0 0 0;\n",
              "      width: 32px;\n",
              "    }\n",
              "\n",
              "    .colab-df-convert:hover {\n",
              "      background-color: #E2EBFA;\n",
              "      box-shadow: 0px 1px 2px rgba(60, 64, 67, 0.3), 0px 1px 3px 1px rgba(60, 64, 67, 0.15);\n",
              "      fill: #174EA6;\n",
              "    }\n",
              "\n",
              "    .colab-df-buttons div {\n",
              "      margin-bottom: 4px;\n",
              "    }\n",
              "\n",
              "    [theme=dark] .colab-df-convert {\n",
              "      background-color: #3B4455;\n",
              "      fill: #D2E3FC;\n",
              "    }\n",
              "\n",
              "    [theme=dark] .colab-df-convert:hover {\n",
              "      background-color: #434B5C;\n",
              "      box-shadow: 0px 1px 3px 1px rgba(0, 0, 0, 0.15);\n",
              "      filter: drop-shadow(0px 1px 2px rgba(0, 0, 0, 0.3));\n",
              "      fill: #FFFFFF;\n",
              "    }\n",
              "  </style>\n",
              "\n",
              "    <script>\n",
              "      const buttonEl =\n",
              "        document.querySelector('#df-ec549c6c-2147-4574-b21f-183255b8d567 button.colab-df-convert');\n",
              "      buttonEl.style.display =\n",
              "        google.colab.kernel.accessAllowed ? 'block' : 'none';\n",
              "\n",
              "      async function convertToInteractive(key) {\n",
              "        const element = document.querySelector('#df-ec549c6c-2147-4574-b21f-183255b8d567');\n",
              "        const dataTable =\n",
              "          await google.colab.kernel.invokeFunction('convertToInteractive',\n",
              "                                                    [key], {});\n",
              "        if (!dataTable) return;\n",
              "\n",
              "        const docLinkHtml = 'Like what you see? Visit the ' +\n",
              "          '<a target=\"_blank\" href=https://colab.research.google.com/notebooks/data_table.ipynb>data table notebook</a>'\n",
              "          + ' to learn more about interactive tables.';\n",
              "        element.innerHTML = '';\n",
              "        dataTable['output_type'] = 'display_data';\n",
              "        await google.colab.output.renderOutput(dataTable, element);\n",
              "        const docLink = document.createElement('div');\n",
              "        docLink.innerHTML = docLinkHtml;\n",
              "        element.appendChild(docLink);\n",
              "      }\n",
              "    </script>\n",
              "  </div>\n",
              "\n",
              "\n",
              "<div id=\"df-3a30ad81-8044-4c74-8082-d161f21b8822\">\n",
              "  <button class=\"colab-df-quickchart\" onclick=\"quickchart('df-3a30ad81-8044-4c74-8082-d161f21b8822')\"\n",
              "            title=\"Suggest charts\"\n",
              "            style=\"display:none;\">\n",
              "\n",
              "<svg xmlns=\"http://www.w3.org/2000/svg\" height=\"24px\"viewBox=\"0 0 24 24\"\n",
              "     width=\"24px\">\n",
              "    <g>\n",
              "        <path d=\"M19 3H5c-1.1 0-2 .9-2 2v14c0 1.1.9 2 2 2h14c1.1 0 2-.9 2-2V5c0-1.1-.9-2-2-2zM9 17H7v-7h2v7zm4 0h-2V7h2v10zm4 0h-2v-4h2v4z\"/>\n",
              "    </g>\n",
              "</svg>\n",
              "  </button>\n",
              "\n",
              "<style>\n",
              "  .colab-df-quickchart {\n",
              "      --bg-color: #E8F0FE;\n",
              "      --fill-color: #1967D2;\n",
              "      --hover-bg-color: #E2EBFA;\n",
              "      --hover-fill-color: #174EA6;\n",
              "      --disabled-fill-color: #AAA;\n",
              "      --disabled-bg-color: #DDD;\n",
              "  }\n",
              "\n",
              "  [theme=dark] .colab-df-quickchart {\n",
              "      --bg-color: #3B4455;\n",
              "      --fill-color: #D2E3FC;\n",
              "      --hover-bg-color: #434B5C;\n",
              "      --hover-fill-color: #FFFFFF;\n",
              "      --disabled-bg-color: #3B4455;\n",
              "      --disabled-fill-color: #666;\n",
              "  }\n",
              "\n",
              "  .colab-df-quickchart {\n",
              "    background-color: var(--bg-color);\n",
              "    border: none;\n",
              "    border-radius: 50%;\n",
              "    cursor: pointer;\n",
              "    display: none;\n",
              "    fill: var(--fill-color);\n",
              "    height: 32px;\n",
              "    padding: 0;\n",
              "    width: 32px;\n",
              "  }\n",
              "\n",
              "  .colab-df-quickchart:hover {\n",
              "    background-color: var(--hover-bg-color);\n",
              "    box-shadow: 0 1px 2px rgba(60, 64, 67, 0.3), 0 1px 3px 1px rgba(60, 64, 67, 0.15);\n",
              "    fill: var(--button-hover-fill-color);\n",
              "  }\n",
              "\n",
              "  .colab-df-quickchart-complete:disabled,\n",
              "  .colab-df-quickchart-complete:disabled:hover {\n",
              "    background-color: var(--disabled-bg-color);\n",
              "    fill: var(--disabled-fill-color);\n",
              "    box-shadow: none;\n",
              "  }\n",
              "\n",
              "  .colab-df-spinner {\n",
              "    border: 2px solid var(--fill-color);\n",
              "    border-color: transparent;\n",
              "    border-bottom-color: var(--fill-color);\n",
              "    animation:\n",
              "      spin 1s steps(1) infinite;\n",
              "  }\n",
              "\n",
              "  @keyframes spin {\n",
              "    0% {\n",
              "      border-color: transparent;\n",
              "      border-bottom-color: var(--fill-color);\n",
              "      border-left-color: var(--fill-color);\n",
              "    }\n",
              "    20% {\n",
              "      border-color: transparent;\n",
              "      border-left-color: var(--fill-color);\n",
              "      border-top-color: var(--fill-color);\n",
              "    }\n",
              "    30% {\n",
              "      border-color: transparent;\n",
              "      border-left-color: var(--fill-color);\n",
              "      border-top-color: var(--fill-color);\n",
              "      border-right-color: var(--fill-color);\n",
              "    }\n",
              "    40% {\n",
              "      border-color: transparent;\n",
              "      border-right-color: var(--fill-color);\n",
              "      border-top-color: var(--fill-color);\n",
              "    }\n",
              "    60% {\n",
              "      border-color: transparent;\n",
              "      border-right-color: var(--fill-color);\n",
              "    }\n",
              "    80% {\n",
              "      border-color: transparent;\n",
              "      border-right-color: var(--fill-color);\n",
              "      border-bottom-color: var(--fill-color);\n",
              "    }\n",
              "    90% {\n",
              "      border-color: transparent;\n",
              "      border-bottom-color: var(--fill-color);\n",
              "    }\n",
              "  }\n",
              "</style>\n",
              "\n",
              "  <script>\n",
              "    async function quickchart(key) {\n",
              "      const quickchartButtonEl =\n",
              "        document.querySelector('#' + key + ' button');\n",
              "      quickchartButtonEl.disabled = true;  // To prevent multiple clicks.\n",
              "      quickchartButtonEl.classList.add('colab-df-spinner');\n",
              "      try {\n",
              "        const charts = await google.colab.kernel.invokeFunction(\n",
              "            'suggestCharts', [key], {});\n",
              "      } catch (error) {\n",
              "        console.error('Error during call to suggestCharts:', error);\n",
              "      }\n",
              "      quickchartButtonEl.classList.remove('colab-df-spinner');\n",
              "      quickchartButtonEl.classList.add('colab-df-quickchart-complete');\n",
              "    }\n",
              "    (() => {\n",
              "      let quickchartButtonEl =\n",
              "        document.querySelector('#df-3a30ad81-8044-4c74-8082-d161f21b8822 button');\n",
              "      quickchartButtonEl.style.display =\n",
              "        google.colab.kernel.accessAllowed ? 'block' : 'none';\n",
              "    })();\n",
              "  </script>\n",
              "</div>\n",
              "\n",
              "    </div>\n",
              "  </div>\n"
            ],
            "application/vnd.google.colaboratory.intrinsic+json": {
              "type": "dataframe",
              "variable_name": "purchasers",
              "summary": "{\n  \"name\": \"purchasers\",\n  \"rows\": 18871,\n  \"fields\": [\n    {\n      \"column\": \"Sr No.\",\n      \"properties\": {\n        \"dtype\": \"number\",\n        \"std\": 5447,\n        \"min\": 1,\n        \"max\": 18871,\n        \"num_unique_values\": 18871,\n        \"samples\": [\n          17734,\n          314,\n          5333\n        ],\n        \"semantic_type\": \"\",\n        \"description\": \"\"\n      }\n    },\n    {\n      \"column\": \"Reference No  (URN)\",\n      \"properties\": {\n        \"dtype\": \"category\",\n        \"num_unique_values\": 2171,\n        \"samples\": [\n          \"00847202307110000003154\",\n          \"00001201910090000001570\",\n          \"00001202301240000002789\"\n        ],\n        \"semantic_type\": \"\",\n        \"description\": \"\"\n      }\n    },\n    {\n      \"column\": \"Journal Date\",\n      \"properties\": {\n        \"dtype\": \"object\",\n        \"num_unique_values\": 146,\n        \"samples\": [\n          \"07/Apr/2021\",\n          \"21/Jan/2023\",\n          \"18/Jan/2020\"\n        ],\n        \"semantic_type\": \"\",\n        \"description\": \"\"\n      }\n    },\n    {\n      \"column\": \"Date of\\rPurchase\",\n      \"properties\": {\n        \"dtype\": \"object\",\n        \"num_unique_values\": 146,\n        \"samples\": [\n          \"07/Apr/2021\",\n          \"21/Jan/2023\",\n          \"18/Jan/2020\"\n        ],\n        \"semantic_type\": \"\",\n        \"description\": \"\"\n      }\n    },\n    {\n      \"column\": \"Date of Expiry\",\n      \"properties\": {\n        \"dtype\": \"object\",\n        \"num_unique_values\": 146,\n        \"samples\": [\n          \"21/Apr/2021\",\n          \"04/Feb/2023\",\n          \"01/Feb/2020\"\n        ],\n        \"semantic_type\": \"\",\n        \"description\": \"\"\n      }\n    },\n    {\n      \"column\": \"Name of the Purchaser\",\n      \"properties\": {\n        \"dtype\": \"category\",\n        \"num_unique_values\": 1320,\n        \"samples\": [\n          \"14 REELS PLUS LLP\",\n          \"GREENKO SRI SAI KRISHNA HYDRO ENERGIES PVT LTD\",\n          \"PALM SHELTER ESTATE DEVELOPMENT LLP\"\n        ],\n        \"semantic_type\": \"\",\n        \"description\": \"\"\n      }\n    },\n    {\n      \"column\": \"Prefix\",\n      \"properties\": {\n        \"dtype\": \"category\",\n        \"num_unique_values\": 5,\n        \"samples\": [\n          \"OL\",\n          \"TT\",\n          \"OC\"\n        ],\n        \"semantic_type\": \"\",\n        \"description\": \"\"\n      }\n    },\n    {\n      \"column\": \"Bond\\rNumber\",\n      \"properties\": {\n        \"dtype\": \"number\",\n        \"std\": 6573,\n        \"min\": 8,\n        \"max\": 71548,\n        \"num_unique_values\": 14491,\n        \"samples\": [\n          29541,\n          15644,\n          28838\n        ],\n        \"semantic_type\": \"\",\n        \"description\": \"\"\n      }\n    },\n    {\n      \"column\": \"Denominations\",\n      \"properties\": {\n        \"dtype\": \"category\",\n        \"num_unique_values\": 5,\n        \"samples\": [\n          \"1,00,000\",\n          \"10,000\",\n          \"1,00,00,000\"\n        ],\n        \"semantic_type\": \"\",\n        \"description\": \"\"\n      }\n    },\n    {\n      \"column\": \"Issue Branch Code\",\n      \"properties\": {\n        \"dtype\": \"number\",\n        \"std\": 395,\n        \"min\": 1,\n        \"max\": 1355,\n        \"num_unique_values\": 19,\n        \"samples\": [\n          1,\n          813,\n          941\n        ],\n        \"semantic_type\": \"\",\n        \"description\": \"\"\n      }\n    },\n    {\n      \"column\": \"Issue Teller\",\n      \"properties\": {\n        \"dtype\": \"number\",\n        \"std\": 1825394,\n        \"min\": 1013030,\n        \"max\": 8492239,\n        \"num_unique_values\": 93,\n        \"samples\": [\n          7430841,\n          6830668,\n          6422705\n        ],\n        \"semantic_type\": \"\",\n        \"description\": \"\"\n      }\n    },\n    {\n      \"column\": \"Status\",\n      \"properties\": {\n        \"dtype\": \"category\",\n        \"num_unique_values\": 2,\n        \"samples\": [\n          \"Expired\",\n          \"Paid\"\n        ],\n        \"semantic_type\": \"\",\n        \"description\": \"\"\n      }\n    }\n  ]\n}"
            }
          },
          "metadata": {},
          "execution_count": 210
        }
      ]
    },
    {
      "cell_type": "code",
      "source": [
        "purchasers.describe()"
      ],
      "metadata": {
        "colab": {
          "base_uri": "https://localhost:8080/",
          "height": 300
        },
        "id": "sZji3AstvUHy",
        "outputId": "9ca2ee5f-093f-4249-e882-e95551592f27"
      },
      "execution_count": 211,
      "outputs": [
        {
          "output_type": "execute_result",
          "data": {
            "text/plain": [
              "             Sr No.  Bond\\rNumber  Issue Branch Code  Issue Teller\n",
              "count  18871.000000  18871.000000       18871.000000  1.887100e+04\n",
              "mean    9436.000000  12181.003338         480.065550  5.895737e+06\n",
              "std     5447.732801   6573.754865         395.446834  1.825395e+06\n",
              "min        1.000000      8.000000           1.000000  1.013030e+06\n",
              "25%     4718.500000   8317.500000           1.000000  5.054982e+06\n",
              "50%     9436.000000  12350.000000         509.000000  6.405134e+06\n",
              "75%    14153.500000  14764.000000         813.000000  7.273126e+06\n",
              "max    18871.000000  71548.000000        1355.000000  8.492239e+06"
            ],
            "text/html": [
              "\n",
              "  <div id=\"df-e34ac615-eac5-4bb4-a9c4-3eb3ba11cc75\" class=\"colab-df-container\">\n",
              "    <div>\n",
              "<style scoped>\n",
              "    .dataframe tbody tr th:only-of-type {\n",
              "        vertical-align: middle;\n",
              "    }\n",
              "\n",
              "    .dataframe tbody tr th {\n",
              "        vertical-align: top;\n",
              "    }\n",
              "\n",
              "    .dataframe thead th {\n",
              "        text-align: right;\n",
              "    }\n",
              "</style>\n",
              "<table border=\"1\" class=\"dataframe\">\n",
              "  <thead>\n",
              "    <tr style=\"text-align: right;\">\n",
              "      <th></th>\n",
              "      <th>Sr No.</th>\n",
              "      <th>Bond\\rNumber</th>\n",
              "      <th>Issue Branch Code</th>\n",
              "      <th>Issue Teller</th>\n",
              "    </tr>\n",
              "  </thead>\n",
              "  <tbody>\n",
              "    <tr>\n",
              "      <th>count</th>\n",
              "      <td>18871.000000</td>\n",
              "      <td>18871.000000</td>\n",
              "      <td>18871.000000</td>\n",
              "      <td>1.887100e+04</td>\n",
              "    </tr>\n",
              "    <tr>\n",
              "      <th>mean</th>\n",
              "      <td>9436.000000</td>\n",
              "      <td>12181.003338</td>\n",
              "      <td>480.065550</td>\n",
              "      <td>5.895737e+06</td>\n",
              "    </tr>\n",
              "    <tr>\n",
              "      <th>std</th>\n",
              "      <td>5447.732801</td>\n",
              "      <td>6573.754865</td>\n",
              "      <td>395.446834</td>\n",
              "      <td>1.825395e+06</td>\n",
              "    </tr>\n",
              "    <tr>\n",
              "      <th>min</th>\n",
              "      <td>1.000000</td>\n",
              "      <td>8.000000</td>\n",
              "      <td>1.000000</td>\n",
              "      <td>1.013030e+06</td>\n",
              "    </tr>\n",
              "    <tr>\n",
              "      <th>25%</th>\n",
              "      <td>4718.500000</td>\n",
              "      <td>8317.500000</td>\n",
              "      <td>1.000000</td>\n",
              "      <td>5.054982e+06</td>\n",
              "    </tr>\n",
              "    <tr>\n",
              "      <th>50%</th>\n",
              "      <td>9436.000000</td>\n",
              "      <td>12350.000000</td>\n",
              "      <td>509.000000</td>\n",
              "      <td>6.405134e+06</td>\n",
              "    </tr>\n",
              "    <tr>\n",
              "      <th>75%</th>\n",
              "      <td>14153.500000</td>\n",
              "      <td>14764.000000</td>\n",
              "      <td>813.000000</td>\n",
              "      <td>7.273126e+06</td>\n",
              "    </tr>\n",
              "    <tr>\n",
              "      <th>max</th>\n",
              "      <td>18871.000000</td>\n",
              "      <td>71548.000000</td>\n",
              "      <td>1355.000000</td>\n",
              "      <td>8.492239e+06</td>\n",
              "    </tr>\n",
              "  </tbody>\n",
              "</table>\n",
              "</div>\n",
              "    <div class=\"colab-df-buttons\">\n",
              "\n",
              "  <div class=\"colab-df-container\">\n",
              "    <button class=\"colab-df-convert\" onclick=\"convertToInteractive('df-e34ac615-eac5-4bb4-a9c4-3eb3ba11cc75')\"\n",
              "            title=\"Convert this dataframe to an interactive table.\"\n",
              "            style=\"display:none;\">\n",
              "\n",
              "  <svg xmlns=\"http://www.w3.org/2000/svg\" height=\"24px\" viewBox=\"0 -960 960 960\">\n",
              "    <path d=\"M120-120v-720h720v720H120Zm60-500h600v-160H180v160Zm220 220h160v-160H400v160Zm0 220h160v-160H400v160ZM180-400h160v-160H180v160Zm440 0h160v-160H620v160ZM180-180h160v-160H180v160Zm440 0h160v-160H620v160Z\"/>\n",
              "  </svg>\n",
              "    </button>\n",
              "\n",
              "  <style>\n",
              "    .colab-df-container {\n",
              "      display:flex;\n",
              "      gap: 12px;\n",
              "    }\n",
              "\n",
              "    .colab-df-convert {\n",
              "      background-color: #E8F0FE;\n",
              "      border: none;\n",
              "      border-radius: 50%;\n",
              "      cursor: pointer;\n",
              "      display: none;\n",
              "      fill: #1967D2;\n",
              "      height: 32px;\n",
              "      padding: 0 0 0 0;\n",
              "      width: 32px;\n",
              "    }\n",
              "\n",
              "    .colab-df-convert:hover {\n",
              "      background-color: #E2EBFA;\n",
              "      box-shadow: 0px 1px 2px rgba(60, 64, 67, 0.3), 0px 1px 3px 1px rgba(60, 64, 67, 0.15);\n",
              "      fill: #174EA6;\n",
              "    }\n",
              "\n",
              "    .colab-df-buttons div {\n",
              "      margin-bottom: 4px;\n",
              "    }\n",
              "\n",
              "    [theme=dark] .colab-df-convert {\n",
              "      background-color: #3B4455;\n",
              "      fill: #D2E3FC;\n",
              "    }\n",
              "\n",
              "    [theme=dark] .colab-df-convert:hover {\n",
              "      background-color: #434B5C;\n",
              "      box-shadow: 0px 1px 3px 1px rgba(0, 0, 0, 0.15);\n",
              "      filter: drop-shadow(0px 1px 2px rgba(0, 0, 0, 0.3));\n",
              "      fill: #FFFFFF;\n",
              "    }\n",
              "  </style>\n",
              "\n",
              "    <script>\n",
              "      const buttonEl =\n",
              "        document.querySelector('#df-e34ac615-eac5-4bb4-a9c4-3eb3ba11cc75 button.colab-df-convert');\n",
              "      buttonEl.style.display =\n",
              "        google.colab.kernel.accessAllowed ? 'block' : 'none';\n",
              "\n",
              "      async function convertToInteractive(key) {\n",
              "        const element = document.querySelector('#df-e34ac615-eac5-4bb4-a9c4-3eb3ba11cc75');\n",
              "        const dataTable =\n",
              "          await google.colab.kernel.invokeFunction('convertToInteractive',\n",
              "                                                    [key], {});\n",
              "        if (!dataTable) return;\n",
              "\n",
              "        const docLinkHtml = 'Like what you see? Visit the ' +\n",
              "          '<a target=\"_blank\" href=https://colab.research.google.com/notebooks/data_table.ipynb>data table notebook</a>'\n",
              "          + ' to learn more about interactive tables.';\n",
              "        element.innerHTML = '';\n",
              "        dataTable['output_type'] = 'display_data';\n",
              "        await google.colab.output.renderOutput(dataTable, element);\n",
              "        const docLink = document.createElement('div');\n",
              "        docLink.innerHTML = docLinkHtml;\n",
              "        element.appendChild(docLink);\n",
              "      }\n",
              "    </script>\n",
              "  </div>\n",
              "\n",
              "\n",
              "<div id=\"df-74120a51-5dde-4478-ba3b-80375cb274e5\">\n",
              "  <button class=\"colab-df-quickchart\" onclick=\"quickchart('df-74120a51-5dde-4478-ba3b-80375cb274e5')\"\n",
              "            title=\"Suggest charts\"\n",
              "            style=\"display:none;\">\n",
              "\n",
              "<svg xmlns=\"http://www.w3.org/2000/svg\" height=\"24px\"viewBox=\"0 0 24 24\"\n",
              "     width=\"24px\">\n",
              "    <g>\n",
              "        <path d=\"M19 3H5c-1.1 0-2 .9-2 2v14c0 1.1.9 2 2 2h14c1.1 0 2-.9 2-2V5c0-1.1-.9-2-2-2zM9 17H7v-7h2v7zm4 0h-2V7h2v10zm4 0h-2v-4h2v4z\"/>\n",
              "    </g>\n",
              "</svg>\n",
              "  </button>\n",
              "\n",
              "<style>\n",
              "  .colab-df-quickchart {\n",
              "      --bg-color: #E8F0FE;\n",
              "      --fill-color: #1967D2;\n",
              "      --hover-bg-color: #E2EBFA;\n",
              "      --hover-fill-color: #174EA6;\n",
              "      --disabled-fill-color: #AAA;\n",
              "      --disabled-bg-color: #DDD;\n",
              "  }\n",
              "\n",
              "  [theme=dark] .colab-df-quickchart {\n",
              "      --bg-color: #3B4455;\n",
              "      --fill-color: #D2E3FC;\n",
              "      --hover-bg-color: #434B5C;\n",
              "      --hover-fill-color: #FFFFFF;\n",
              "      --disabled-bg-color: #3B4455;\n",
              "      --disabled-fill-color: #666;\n",
              "  }\n",
              "\n",
              "  .colab-df-quickchart {\n",
              "    background-color: var(--bg-color);\n",
              "    border: none;\n",
              "    border-radius: 50%;\n",
              "    cursor: pointer;\n",
              "    display: none;\n",
              "    fill: var(--fill-color);\n",
              "    height: 32px;\n",
              "    padding: 0;\n",
              "    width: 32px;\n",
              "  }\n",
              "\n",
              "  .colab-df-quickchart:hover {\n",
              "    background-color: var(--hover-bg-color);\n",
              "    box-shadow: 0 1px 2px rgba(60, 64, 67, 0.3), 0 1px 3px 1px rgba(60, 64, 67, 0.15);\n",
              "    fill: var(--button-hover-fill-color);\n",
              "  }\n",
              "\n",
              "  .colab-df-quickchart-complete:disabled,\n",
              "  .colab-df-quickchart-complete:disabled:hover {\n",
              "    background-color: var(--disabled-bg-color);\n",
              "    fill: var(--disabled-fill-color);\n",
              "    box-shadow: none;\n",
              "  }\n",
              "\n",
              "  .colab-df-spinner {\n",
              "    border: 2px solid var(--fill-color);\n",
              "    border-color: transparent;\n",
              "    border-bottom-color: var(--fill-color);\n",
              "    animation:\n",
              "      spin 1s steps(1) infinite;\n",
              "  }\n",
              "\n",
              "  @keyframes spin {\n",
              "    0% {\n",
              "      border-color: transparent;\n",
              "      border-bottom-color: var(--fill-color);\n",
              "      border-left-color: var(--fill-color);\n",
              "    }\n",
              "    20% {\n",
              "      border-color: transparent;\n",
              "      border-left-color: var(--fill-color);\n",
              "      border-top-color: var(--fill-color);\n",
              "    }\n",
              "    30% {\n",
              "      border-color: transparent;\n",
              "      border-left-color: var(--fill-color);\n",
              "      border-top-color: var(--fill-color);\n",
              "      border-right-color: var(--fill-color);\n",
              "    }\n",
              "    40% {\n",
              "      border-color: transparent;\n",
              "      border-right-color: var(--fill-color);\n",
              "      border-top-color: var(--fill-color);\n",
              "    }\n",
              "    60% {\n",
              "      border-color: transparent;\n",
              "      border-right-color: var(--fill-color);\n",
              "    }\n",
              "    80% {\n",
              "      border-color: transparent;\n",
              "      border-right-color: var(--fill-color);\n",
              "      border-bottom-color: var(--fill-color);\n",
              "    }\n",
              "    90% {\n",
              "      border-color: transparent;\n",
              "      border-bottom-color: var(--fill-color);\n",
              "    }\n",
              "  }\n",
              "</style>\n",
              "\n",
              "  <script>\n",
              "    async function quickchart(key) {\n",
              "      const quickchartButtonEl =\n",
              "        document.querySelector('#' + key + ' button');\n",
              "      quickchartButtonEl.disabled = true;  // To prevent multiple clicks.\n",
              "      quickchartButtonEl.classList.add('colab-df-spinner');\n",
              "      try {\n",
              "        const charts = await google.colab.kernel.invokeFunction(\n",
              "            'suggestCharts', [key], {});\n",
              "      } catch (error) {\n",
              "        console.error('Error during call to suggestCharts:', error);\n",
              "      }\n",
              "      quickchartButtonEl.classList.remove('colab-df-spinner');\n",
              "      quickchartButtonEl.classList.add('colab-df-quickchart-complete');\n",
              "    }\n",
              "    (() => {\n",
              "      let quickchartButtonEl =\n",
              "        document.querySelector('#df-74120a51-5dde-4478-ba3b-80375cb274e5 button');\n",
              "      quickchartButtonEl.style.display =\n",
              "        google.colab.kernel.accessAllowed ? 'block' : 'none';\n",
              "    })();\n",
              "  </script>\n",
              "</div>\n",
              "\n",
              "    </div>\n",
              "  </div>\n"
            ],
            "application/vnd.google.colaboratory.intrinsic+json": {
              "type": "dataframe",
              "summary": "{\n  \"name\": \"purchasers\",\n  \"rows\": 8,\n  \"fields\": [\n    {\n      \"column\": \"Sr No.\",\n      \"properties\": {\n        \"dtype\": \"number\",\n        \"std\": 6800.894904125542,\n        \"min\": 1.0,\n        \"max\": 18871.0,\n        \"num_unique_values\": 6,\n        \"samples\": [\n          18871.0,\n          9436.0,\n          14153.5\n        ],\n        \"semantic_type\": \"\",\n        \"description\": \"\"\n      }\n    },\n    {\n      \"column\": \"Bond\\rNumber\",\n      \"properties\": {\n        \"dtype\": \"number\",\n        \"std\": 22336.315083566995,\n        \"min\": 8.0,\n        \"max\": 71548.0,\n        \"num_unique_values\": 8,\n        \"samples\": [\n          12181.003338455832,\n          12350.0,\n          18871.0\n        ],\n        \"semantic_type\": \"\",\n        \"description\": \"\"\n      }\n    },\n    {\n      \"column\": \"Issue Branch Code\",\n      \"properties\": {\n        \"dtype\": \"number\",\n        \"std\": 6507.079753410633,\n        \"min\": 1.0,\n        \"max\": 18871.0,\n        \"num_unique_values\": 7,\n        \"samples\": [\n          18871.0,\n          480.0655503152986,\n          813.0\n        ],\n        \"semantic_type\": \"\",\n        \"description\": \"\"\n      }\n    },\n    {\n      \"column\": \"Issue Teller\",\n      \"properties\": {\n        \"dtype\": \"number\",\n        \"std\": 3137486.5956623587,\n        \"min\": 18871.0,\n        \"max\": 8492239.0,\n        \"num_unique_values\": 8,\n        \"samples\": [\n          5895736.581792168,\n          6405134.0,\n          18871.0\n        ],\n        \"semantic_type\": \"\",\n        \"description\": \"\"\n      }\n    }\n  ]\n}"
            }
          },
          "metadata": {},
          "execution_count": 211
        }
      ]
    },
    {
      "cell_type": "code",
      "source": [
        "purchasers.isnull().sum()"
      ],
      "metadata": {
        "colab": {
          "base_uri": "https://localhost:8080/"
        },
        "id": "-4dpmnzVxAhk",
        "outputId": "e94da91d-695c-4f04-dd76-3011f5b136d1"
      },
      "execution_count": 212,
      "outputs": [
        {
          "output_type": "execute_result",
          "data": {
            "text/plain": [
              "Sr No.                   0\n",
              "Reference No  (URN)      0\n",
              "Journal Date             0\n",
              "Date of\\rPurchase        0\n",
              "Date of Expiry           0\n",
              "Name of the Purchaser    0\n",
              "Prefix                   0\n",
              "Bond\\rNumber             0\n",
              "Denominations            0\n",
              "Issue Branch Code        0\n",
              "Issue Teller             0\n",
              "Status                   0\n",
              "dtype: int64"
            ]
          },
          "metadata": {},
          "execution_count": 212
        }
      ]
    },
    {
      "cell_type": "code",
      "source": [
        "enchasers.describe()"
      ],
      "metadata": {
        "colab": {
          "base_uri": "https://localhost:8080/",
          "height": 300
        },
        "id": "Gy05arIDwFS2",
        "outputId": "e22e3c58-bbab-4018-8f82-46ba3f2e5b32"
      },
      "execution_count": 213,
      "outputs": [
        {
          "output_type": "execute_result",
          "data": {
            "text/plain": [
              "             Sr No.  Bond\\rNumber  Pay Branch\\rCode    Pay Teller\n",
              "count  20421.000000  20421.000000      20421.000000  2.042100e+04\n",
              "mean   10211.000000  11783.435140        559.467852  5.293055e+06\n",
              "std     5895.179259   6525.685559        297.836567  1.953104e+06\n",
              "min        1.000000     10.000000          1.000000  1.498450e+05\n",
              "25%     5106.000000   7797.000000        691.000000  3.490777e+06\n",
              "50%    10211.000000  11913.000000        691.000000  5.614473e+06\n",
              "75%    15316.000000  14585.000000        691.000000  7.516991e+06\n",
              "max    20421.000000  71548.000000       2295.000000  8.212066e+06"
            ],
            "text/html": [
              "\n",
              "  <div id=\"df-36c5635a-8f73-4bdd-a05e-951c6c34f698\" class=\"colab-df-container\">\n",
              "    <div>\n",
              "<style scoped>\n",
              "    .dataframe tbody tr th:only-of-type {\n",
              "        vertical-align: middle;\n",
              "    }\n",
              "\n",
              "    .dataframe tbody tr th {\n",
              "        vertical-align: top;\n",
              "    }\n",
              "\n",
              "    .dataframe thead th {\n",
              "        text-align: right;\n",
              "    }\n",
              "</style>\n",
              "<table border=\"1\" class=\"dataframe\">\n",
              "  <thead>\n",
              "    <tr style=\"text-align: right;\">\n",
              "      <th></th>\n",
              "      <th>Sr No.</th>\n",
              "      <th>Bond\\rNumber</th>\n",
              "      <th>Pay Branch\\rCode</th>\n",
              "      <th>Pay Teller</th>\n",
              "    </tr>\n",
              "  </thead>\n",
              "  <tbody>\n",
              "    <tr>\n",
              "      <th>count</th>\n",
              "      <td>20421.000000</td>\n",
              "      <td>20421.000000</td>\n",
              "      <td>20421.000000</td>\n",
              "      <td>2.042100e+04</td>\n",
              "    </tr>\n",
              "    <tr>\n",
              "      <th>mean</th>\n",
              "      <td>10211.000000</td>\n",
              "      <td>11783.435140</td>\n",
              "      <td>559.467852</td>\n",
              "      <td>5.293055e+06</td>\n",
              "    </tr>\n",
              "    <tr>\n",
              "      <th>std</th>\n",
              "      <td>5895.179259</td>\n",
              "      <td>6525.685559</td>\n",
              "      <td>297.836567</td>\n",
              "      <td>1.953104e+06</td>\n",
              "    </tr>\n",
              "    <tr>\n",
              "      <th>min</th>\n",
              "      <td>1.000000</td>\n",
              "      <td>10.000000</td>\n",
              "      <td>1.000000</td>\n",
              "      <td>1.498450e+05</td>\n",
              "    </tr>\n",
              "    <tr>\n",
              "      <th>25%</th>\n",
              "      <td>5106.000000</td>\n",
              "      <td>7797.000000</td>\n",
              "      <td>691.000000</td>\n",
              "      <td>3.490777e+06</td>\n",
              "    </tr>\n",
              "    <tr>\n",
              "      <th>50%</th>\n",
              "      <td>10211.000000</td>\n",
              "      <td>11913.000000</td>\n",
              "      <td>691.000000</td>\n",
              "      <td>5.614473e+06</td>\n",
              "    </tr>\n",
              "    <tr>\n",
              "      <th>75%</th>\n",
              "      <td>15316.000000</td>\n",
              "      <td>14585.000000</td>\n",
              "      <td>691.000000</td>\n",
              "      <td>7.516991e+06</td>\n",
              "    </tr>\n",
              "    <tr>\n",
              "      <th>max</th>\n",
              "      <td>20421.000000</td>\n",
              "      <td>71548.000000</td>\n",
              "      <td>2295.000000</td>\n",
              "      <td>8.212066e+06</td>\n",
              "    </tr>\n",
              "  </tbody>\n",
              "</table>\n",
              "</div>\n",
              "    <div class=\"colab-df-buttons\">\n",
              "\n",
              "  <div class=\"colab-df-container\">\n",
              "    <button class=\"colab-df-convert\" onclick=\"convertToInteractive('df-36c5635a-8f73-4bdd-a05e-951c6c34f698')\"\n",
              "            title=\"Convert this dataframe to an interactive table.\"\n",
              "            style=\"display:none;\">\n",
              "\n",
              "  <svg xmlns=\"http://www.w3.org/2000/svg\" height=\"24px\" viewBox=\"0 -960 960 960\">\n",
              "    <path d=\"M120-120v-720h720v720H120Zm60-500h600v-160H180v160Zm220 220h160v-160H400v160Zm0 220h160v-160H400v160ZM180-400h160v-160H180v160Zm440 0h160v-160H620v160ZM180-180h160v-160H180v160Zm440 0h160v-160H620v160Z\"/>\n",
              "  </svg>\n",
              "    </button>\n",
              "\n",
              "  <style>\n",
              "    .colab-df-container {\n",
              "      display:flex;\n",
              "      gap: 12px;\n",
              "    }\n",
              "\n",
              "    .colab-df-convert {\n",
              "      background-color: #E8F0FE;\n",
              "      border: none;\n",
              "      border-radius: 50%;\n",
              "      cursor: pointer;\n",
              "      display: none;\n",
              "      fill: #1967D2;\n",
              "      height: 32px;\n",
              "      padding: 0 0 0 0;\n",
              "      width: 32px;\n",
              "    }\n",
              "\n",
              "    .colab-df-convert:hover {\n",
              "      background-color: #E2EBFA;\n",
              "      box-shadow: 0px 1px 2px rgba(60, 64, 67, 0.3), 0px 1px 3px 1px rgba(60, 64, 67, 0.15);\n",
              "      fill: #174EA6;\n",
              "    }\n",
              "\n",
              "    .colab-df-buttons div {\n",
              "      margin-bottom: 4px;\n",
              "    }\n",
              "\n",
              "    [theme=dark] .colab-df-convert {\n",
              "      background-color: #3B4455;\n",
              "      fill: #D2E3FC;\n",
              "    }\n",
              "\n",
              "    [theme=dark] .colab-df-convert:hover {\n",
              "      background-color: #434B5C;\n",
              "      box-shadow: 0px 1px 3px 1px rgba(0, 0, 0, 0.15);\n",
              "      filter: drop-shadow(0px 1px 2px rgba(0, 0, 0, 0.3));\n",
              "      fill: #FFFFFF;\n",
              "    }\n",
              "  </style>\n",
              "\n",
              "    <script>\n",
              "      const buttonEl =\n",
              "        document.querySelector('#df-36c5635a-8f73-4bdd-a05e-951c6c34f698 button.colab-df-convert');\n",
              "      buttonEl.style.display =\n",
              "        google.colab.kernel.accessAllowed ? 'block' : 'none';\n",
              "\n",
              "      async function convertToInteractive(key) {\n",
              "        const element = document.querySelector('#df-36c5635a-8f73-4bdd-a05e-951c6c34f698');\n",
              "        const dataTable =\n",
              "          await google.colab.kernel.invokeFunction('convertToInteractive',\n",
              "                                                    [key], {});\n",
              "        if (!dataTable) return;\n",
              "\n",
              "        const docLinkHtml = 'Like what you see? Visit the ' +\n",
              "          '<a target=\"_blank\" href=https://colab.research.google.com/notebooks/data_table.ipynb>data table notebook</a>'\n",
              "          + ' to learn more about interactive tables.';\n",
              "        element.innerHTML = '';\n",
              "        dataTable['output_type'] = 'display_data';\n",
              "        await google.colab.output.renderOutput(dataTable, element);\n",
              "        const docLink = document.createElement('div');\n",
              "        docLink.innerHTML = docLinkHtml;\n",
              "        element.appendChild(docLink);\n",
              "      }\n",
              "    </script>\n",
              "  </div>\n",
              "\n",
              "\n",
              "<div id=\"df-49b30754-67df-4516-a239-b03cdc22e97e\">\n",
              "  <button class=\"colab-df-quickchart\" onclick=\"quickchart('df-49b30754-67df-4516-a239-b03cdc22e97e')\"\n",
              "            title=\"Suggest charts\"\n",
              "            style=\"display:none;\">\n",
              "\n",
              "<svg xmlns=\"http://www.w3.org/2000/svg\" height=\"24px\"viewBox=\"0 0 24 24\"\n",
              "     width=\"24px\">\n",
              "    <g>\n",
              "        <path d=\"M19 3H5c-1.1 0-2 .9-2 2v14c0 1.1.9 2 2 2h14c1.1 0 2-.9 2-2V5c0-1.1-.9-2-2-2zM9 17H7v-7h2v7zm4 0h-2V7h2v10zm4 0h-2v-4h2v4z\"/>\n",
              "    </g>\n",
              "</svg>\n",
              "  </button>\n",
              "\n",
              "<style>\n",
              "  .colab-df-quickchart {\n",
              "      --bg-color: #E8F0FE;\n",
              "      --fill-color: #1967D2;\n",
              "      --hover-bg-color: #E2EBFA;\n",
              "      --hover-fill-color: #174EA6;\n",
              "      --disabled-fill-color: #AAA;\n",
              "      --disabled-bg-color: #DDD;\n",
              "  }\n",
              "\n",
              "  [theme=dark] .colab-df-quickchart {\n",
              "      --bg-color: #3B4455;\n",
              "      --fill-color: #D2E3FC;\n",
              "      --hover-bg-color: #434B5C;\n",
              "      --hover-fill-color: #FFFFFF;\n",
              "      --disabled-bg-color: #3B4455;\n",
              "      --disabled-fill-color: #666;\n",
              "  }\n",
              "\n",
              "  .colab-df-quickchart {\n",
              "    background-color: var(--bg-color);\n",
              "    border: none;\n",
              "    border-radius: 50%;\n",
              "    cursor: pointer;\n",
              "    display: none;\n",
              "    fill: var(--fill-color);\n",
              "    height: 32px;\n",
              "    padding: 0;\n",
              "    width: 32px;\n",
              "  }\n",
              "\n",
              "  .colab-df-quickchart:hover {\n",
              "    background-color: var(--hover-bg-color);\n",
              "    box-shadow: 0 1px 2px rgba(60, 64, 67, 0.3), 0 1px 3px 1px rgba(60, 64, 67, 0.15);\n",
              "    fill: var(--button-hover-fill-color);\n",
              "  }\n",
              "\n",
              "  .colab-df-quickchart-complete:disabled,\n",
              "  .colab-df-quickchart-complete:disabled:hover {\n",
              "    background-color: var(--disabled-bg-color);\n",
              "    fill: var(--disabled-fill-color);\n",
              "    box-shadow: none;\n",
              "  }\n",
              "\n",
              "  .colab-df-spinner {\n",
              "    border: 2px solid var(--fill-color);\n",
              "    border-color: transparent;\n",
              "    border-bottom-color: var(--fill-color);\n",
              "    animation:\n",
              "      spin 1s steps(1) infinite;\n",
              "  }\n",
              "\n",
              "  @keyframes spin {\n",
              "    0% {\n",
              "      border-color: transparent;\n",
              "      border-bottom-color: var(--fill-color);\n",
              "      border-left-color: var(--fill-color);\n",
              "    }\n",
              "    20% {\n",
              "      border-color: transparent;\n",
              "      border-left-color: var(--fill-color);\n",
              "      border-top-color: var(--fill-color);\n",
              "    }\n",
              "    30% {\n",
              "      border-color: transparent;\n",
              "      border-left-color: var(--fill-color);\n",
              "      border-top-color: var(--fill-color);\n",
              "      border-right-color: var(--fill-color);\n",
              "    }\n",
              "    40% {\n",
              "      border-color: transparent;\n",
              "      border-right-color: var(--fill-color);\n",
              "      border-top-color: var(--fill-color);\n",
              "    }\n",
              "    60% {\n",
              "      border-color: transparent;\n",
              "      border-right-color: var(--fill-color);\n",
              "    }\n",
              "    80% {\n",
              "      border-color: transparent;\n",
              "      border-right-color: var(--fill-color);\n",
              "      border-bottom-color: var(--fill-color);\n",
              "    }\n",
              "    90% {\n",
              "      border-color: transparent;\n",
              "      border-bottom-color: var(--fill-color);\n",
              "    }\n",
              "  }\n",
              "</style>\n",
              "\n",
              "  <script>\n",
              "    async function quickchart(key) {\n",
              "      const quickchartButtonEl =\n",
              "        document.querySelector('#' + key + ' button');\n",
              "      quickchartButtonEl.disabled = true;  // To prevent multiple clicks.\n",
              "      quickchartButtonEl.classList.add('colab-df-spinner');\n",
              "      try {\n",
              "        const charts = await google.colab.kernel.invokeFunction(\n",
              "            'suggestCharts', [key], {});\n",
              "      } catch (error) {\n",
              "        console.error('Error during call to suggestCharts:', error);\n",
              "      }\n",
              "      quickchartButtonEl.classList.remove('colab-df-spinner');\n",
              "      quickchartButtonEl.classList.add('colab-df-quickchart-complete');\n",
              "    }\n",
              "    (() => {\n",
              "      let quickchartButtonEl =\n",
              "        document.querySelector('#df-49b30754-67df-4516-a239-b03cdc22e97e button');\n",
              "      quickchartButtonEl.style.display =\n",
              "        google.colab.kernel.accessAllowed ? 'block' : 'none';\n",
              "    })();\n",
              "  </script>\n",
              "</div>\n",
              "\n",
              "    </div>\n",
              "  </div>\n"
            ],
            "application/vnd.google.colaboratory.intrinsic+json": {
              "type": "dataframe",
              "summary": "{\n  \"name\": \"enchasers\",\n  \"rows\": 8,\n  \"fields\": [\n    {\n      \"column\": \"Sr No.\",\n      \"properties\": {\n        \"dtype\": \"number\",\n        \"std\": 7359.522403202191,\n        \"min\": 1.0,\n        \"max\": 20421.0,\n        \"num_unique_values\": 6,\n        \"samples\": [\n          20421.0,\n          10211.0,\n          15316.0\n        ],\n        \"semantic_type\": \"\",\n        \"description\": \"\"\n      }\n    },\n    {\n      \"column\": \"Bond\\rNumber\",\n      \"properties\": {\n        \"dtype\": \"number\",\n        \"std\": 22424.373585227622,\n        \"min\": 10.0,\n        \"max\": 71548.0,\n        \"num_unique_values\": 8,\n        \"samples\": [\n          11783.435140296753,\n          11913.0,\n          20421.0\n        ],\n        \"semantic_type\": \"\",\n        \"description\": \"\"\n      }\n    },\n    {\n      \"column\": \"Pay Branch\\rCode\",\n      \"properties\": {\n        \"dtype\": \"number\",\n        \"std\": 6988.71940959367,\n        \"min\": 1.0,\n        \"max\": 20421.0,\n        \"num_unique_values\": 6,\n        \"samples\": [\n          20421.0,\n          559.4678517212674,\n          2295.0\n        ],\n        \"semantic_type\": \"\",\n        \"description\": \"\"\n      }\n    },\n    {\n      \"column\": \"Pay Teller\",\n      \"properties\": {\n        \"dtype\": \"number\",\n        \"std\": 3150764.4820827134,\n        \"min\": 20421.0,\n        \"max\": 8212066.0,\n        \"num_unique_values\": 8,\n        \"samples\": [\n          5293055.255423339,\n          5614473.0,\n          20421.0\n        ],\n        \"semantic_type\": \"\",\n        \"description\": \"\"\n      }\n    }\n  ]\n}"
            }
          },
          "metadata": {},
          "execution_count": 213
        }
      ]
    },
    {
      "cell_type": "code",
      "source": [
        "enchasers.isnull().sum()"
      ],
      "metadata": {
        "colab": {
          "base_uri": "https://localhost:8080/"
        },
        "id": "phr1qBlWxE6k",
        "outputId": "e937a16b-409e-463d-bcef-9e20350e9136"
      },
      "execution_count": 214,
      "outputs": [
        {
          "output_type": "execute_result",
          "data": {
            "text/plain": [
              "Sr No.                             0\n",
              "Date of\\rEncashment                0\n",
              "Name of the Political Party        0\n",
              "Account no. of\\rPolitical Party    0\n",
              "Prefix                             0\n",
              "Bond\\rNumber                       0\n",
              "Denominations                      0\n",
              "Pay Branch\\rCode                   0\n",
              "Pay Teller                         0\n",
              "dtype: int64"
            ]
          },
          "metadata": {},
          "execution_count": 214
        }
      ]
    },
    {
      "cell_type": "code",
      "source": [
        "from pyspark.sql import SparkSession\n",
        "from pyspark.sql.functions import *\n",
        "from pyspark.sql.types import *\n",
        "\n",
        "spark = SparkSession.builder.appName(\"Electoral Bond Analysis\").config(\"spark.memory.offHeap.enabled\",\"true\").config(\"spark.memory.offHeap.size\",\"10g\").getOrCreate()\n"
      ],
      "metadata": {
        "id": "-Pf_Id51uoBs"
      },
      "execution_count": 215,
      "outputs": []
    },
    {
      "cell_type": "code",
      "source": [
        "enchaser_df = spark.createDataFrame(enchasers)\n",
        "purchaser_df = spark.createDataFrame(purchasers)\n"
      ],
      "metadata": {
        "id": "j0H3a8jou5WG"
      },
      "execution_count": 216,
      "outputs": []
    },
    {
      "cell_type": "code",
      "source": [
        "enchaser_df_c = enchaser_df.alias('enchaser_df_c')\n",
        "purchaser_df_c = purchaser_df.alias('purchaser_df_c')"
      ],
      "metadata": {
        "id": "f0NG6qz9zdg7"
      },
      "execution_count": 217,
      "outputs": []
    },
    {
      "cell_type": "markdown",
      "source": [
        "### Remove unwnated Columns"
      ],
      "metadata": {
        "id": "nHU0d4c324IA"
      }
    },
    {
      "cell_type": "code",
      "source": [
        "# Remove unwanted cols from purchasers and enchasers\n",
        "\n",
        "enchaser_df = enchaser_df.drop('Account no. of\\rPolitical Party', 'Pay Teller', 'Pay Branch\\rCode')\n",
        "purchaser_df = purchaser_df.drop('Reference No  (URN)', 'Journal Date', 'Issue Branch Code', 'Issue Teller')"
      ],
      "metadata": {
        "id": "3V6f_yYbye5z"
      },
      "execution_count": 218,
      "outputs": []
    },
    {
      "cell_type": "markdown",
      "source": [
        "### Rename Columns"
      ],
      "metadata": {
        "id": "XqGl1NXg2zG7"
      }
    },
    {
      "cell_type": "code",
      "source": [
        "enchaser_df = enchaser_df.withColumnsRenamed({'Sr No.': 'SrNo',\n",
        "                                              'Date of\\rEncashment': 'EnchasedDate',\n",
        "                                              'Name of the Political Party': 'EnchaserName',\n",
        "                                              'Bond\\rNumber': 'BondNumber'})"
      ],
      "metadata": {
        "id": "IsJabMtPyHWh"
      },
      "execution_count": 219,
      "outputs": []
    },
    {
      "cell_type": "code",
      "source": [
        "purchaser_df = purchaser_df.withColumnsRenamed({'Sr No.': 'SrNo',\n",
        "                                                'Date of\\rPurchase': 'PurchasedDate',\n",
        "                                                'Date of Expiry': 'ExpiryDate',\n",
        "                                                'Name of the Purchaser': 'PurchaserName',\n",
        "                                                'Bond\\rNumber': 'BondNumber'})"
      ],
      "metadata": {
        "id": "67FHPGq-0k-3"
      },
      "execution_count": 220,
      "outputs": []
    },
    {
      "cell_type": "markdown",
      "source": [
        "### Make unique identifier\n",
        "Merged prefix and existing bond numbers to make new Bond Number\n",
        "\n"
      ],
      "metadata": {
        "id": "pqeuW9RI3p-d"
      }
    },
    {
      "cell_type": "code",
      "source": [
        "# Merged prefix and bond_number\n",
        "\n",
        "enchaser_df = enchaser_df.withColumn('BondNo', concat(col('Prefix'), lit('-'), col('BondNumber')))\n",
        "purchaser_df = purchaser_df.withColumn('BondNo', concat(col('Prefix'), lit('-'), col('BondNumber')))\n"
      ],
      "metadata": {
        "id": "FSYbiT6YvEfO"
      },
      "execution_count": 221,
      "outputs": []
    },
    {
      "cell_type": "code",
      "source": [
        "# Removed merged columns\n",
        "\n",
        "enchaser_df = enchaser_df.drop('Prefix', 'BondNumber')\n",
        "purchaser_df = purchaser_df.drop('Prefix', 'BondNumber')"
      ],
      "metadata": {
        "id": "fIv-NfZv2Xyx"
      },
      "execution_count": 222,
      "outputs": []
    },
    {
      "cell_type": "code",
      "source": [
        "enchaser_df.show(2)"
      ],
      "metadata": {
        "colab": {
          "base_uri": "https://localhost:8080/"
        },
        "id": "9tKoVMbP7k9x",
        "outputId": "b57f81b1-ed7c-46b1-d8a2-e239b6346974"
      },
      "execution_count": 223,
      "outputs": [
        {
          "output_type": "stream",
          "name": "stdout",
          "text": [
            "+----+------------+--------------------+-------------+-------+\n",
            "|SrNo|EnchasedDate|        EnchaserName|Denominations| BondNo|\n",
            "+----+------------+--------------------+-------------+-------+\n",
            "|   1| 12/Apr/2019|ALL INDIA ANNA DR...|  1,00,00,000| OC-775|\n",
            "|   2| 12/Apr/2019|ALL INDIA ANNA DR...|  1,00,00,000|OC-3975|\n",
            "+----+------------+--------------------+-------------+-------+\n",
            "only showing top 2 rows\n",
            "\n"
          ]
        }
      ]
    },
    {
      "cell_type": "markdown",
      "source": [
        "### Split date"
      ],
      "metadata": {
        "id": "0WNyM7bX_XNH"
      }
    },
    {
      "cell_type": "code",
      "source": [
        "enchaser_df = enchaser_df.withColumn(\"EnchasedDate\", to_date(enchaser_df[\"EnchasedDate\"], \"dd/MMM/yyyy\"))\n",
        "enchaser_df = enchaser_df.withColumn(\"Day\", dayofmonth(\"EnchasedDate\")) \\\n",
        "                         .withColumn(\"Month\", month(\"EnchasedDate\")) \\\n",
        "                         .withColumn(\"Year\", year(\"EnchasedDate\"))\n",
        "\n",
        "enchaser_df.show(5)"
      ],
      "metadata": {
        "colab": {
          "base_uri": "https://localhost:8080/"
        },
        "id": "WnysOndvfKEs",
        "outputId": "3a09d211-63f8-432b-c9cc-820993f2d4c2"
      },
      "execution_count": 224,
      "outputs": [
        {
          "output_type": "stream",
          "name": "stdout",
          "text": [
            "+----+------------+--------------------+-------------+--------+---+-----+----+\n",
            "|SrNo|EnchasedDate|        EnchaserName|Denominations|  BondNo|Day|Month|Year|\n",
            "+----+------------+--------------------+-------------+--------+---+-----+----+\n",
            "|   1|  2019-04-12|ALL INDIA ANNA DR...|  1,00,00,000|  OC-775| 12|    4|2019|\n",
            "|   2|  2019-04-12|ALL INDIA ANNA DR...|  1,00,00,000| OC-3975| 12|    4|2019|\n",
            "|   3|  2019-04-12|ALL INDIA ANNA DR...|  1,00,00,000| OC-3967| 12|    4|2019|\n",
            "|   4|  2019-04-12|ALL INDIA ANNA DR...|    10,00,000|TL-10418| 12|    4|2019|\n",
            "|   5|  2019-04-12|ALL INDIA ANNA DR...|    10,00,000|  TL-126| 12|    4|2019|\n",
            "+----+------------+--------------------+-------------+--------+---+-----+----+\n",
            "only showing top 5 rows\n",
            "\n"
          ]
        }
      ]
    },
    {
      "cell_type": "code",
      "source": [
        "purchaser_df = purchaser_df.withColumn(\"PurchasedDate\", to_date(purchaser_df[\"PurchasedDate\"], \"dd/MMM/yyyy\"))\n",
        "purchaser_df = purchaser_df.withColumn(\"Day\", dayofmonth(\"PurchasedDate\")) \\\n",
        "                         .withColumn(\"Month\", month(\"PurchasedDate\")) \\\n",
        "                         .withColumn(\"Year\", year(\"PurchasedDate\"))\n",
        "\n",
        "purchaser_df.show(5)"
      ],
      "metadata": {
        "colab": {
          "base_uri": "https://localhost:8080/"
        },
        "id": "E5MaNdg2_aAA",
        "outputId": "8c0115b7-0389-4b3d-ad5a-d3507d558775"
      },
      "execution_count": 225,
      "outputs": [
        {
          "output_type": "stream",
          "name": "stdout",
          "text": [
            "+----+-------------+-----------+-------------------+-------------+------+--------+---+-----+----+\n",
            "|SrNo|PurchasedDate| ExpiryDate|      PurchaserName|Denominations|Status|  BondNo|Day|Month|Year|\n",
            "+----+-------------+-----------+-------------------+-------------+------+--------+---+-----+----+\n",
            "|   1|   2019-04-12|26/Apr/2019|A B C INDIA LIMITED|    10,00,000|  Paid|TL-11448| 12|    4|2019|\n",
            "|   2|   2019-04-12|26/Apr/2019|A B C INDIA LIMITED|    10,00,000|  Paid|TL-11447| 12|    4|2019|\n",
            "|   3|   2019-04-12|26/Apr/2019|A B C INDIA LIMITED|    10,00,000|  Paid|TL-11441| 12|    4|2019|\n",
            "|   4|   2019-04-12|26/Apr/2019|A B C INDIA LIMITED|     1,00,000|  Paid| OL-1113| 12|    4|2019|\n",
            "|   5|   2019-04-12|26/Apr/2019|A B C INDIA LIMITED|     1,00,000|  Paid| OL-1118| 12|    4|2019|\n",
            "+----+-------------+-----------+-------------------+-------------+------+--------+---+-----+----+\n",
            "only showing top 5 rows\n",
            "\n"
          ]
        }
      ]
    },
    {
      "cell_type": "markdown",
      "source": [
        "### Change column data types"
      ],
      "metadata": {
        "id": "nia5G6rm7DuJ"
      }
    },
    {
      "cell_type": "code",
      "source": [
        "enchaser_df = enchaser_df.withColumn(\"Denominations\", col(\"Denominations\").cast(\"string\")) \\\n",
        "    .withColumn(\"Denominations\", regexp_replace(col(\"Denominations\"), \",\", \"\")) \\\n",
        "    .withColumn(\"Denominations\", col(\"Denominations\").cast(\"float\"))"
      ],
      "metadata": {
        "id": "Oo0KX1XU7HO5"
      },
      "execution_count": 226,
      "outputs": []
    },
    {
      "cell_type": "code",
      "source": [
        "purchaser_df = purchaser_df.withColumn(\"Denominations\", col(\"Denominations\").cast(\"string\")) \\\n",
        "    .withColumn(\"Denominations\", regexp_replace(col(\"Denominations\"), \",\", \"\")) \\\n",
        "    .withColumn(\"Denominations\", col(\"Denominations\").cast(\"float\"))"
      ],
      "metadata": {
        "id": "upMEtwiY8UtB"
      },
      "execution_count": 227,
      "outputs": []
    },
    {
      "cell_type": "markdown",
      "source": [
        "## Analysis on Enchasers"
      ],
      "metadata": {
        "id": "2FkNFNzy5hjl"
      }
    },
    {
      "cell_type": "code",
      "source": [
        "from pyspark.sql.functions import sum as _sum"
      ],
      "metadata": {
        "id": "uuTvxLT_6Y9v"
      },
      "execution_count": 228,
      "outputs": []
    },
    {
      "cell_type": "code",
      "source": [
        "enchaser_df.show(5)"
      ],
      "metadata": {
        "colab": {
          "base_uri": "https://localhost:8080/"
        },
        "id": "uNfU975leitg",
        "outputId": "3b0715f5-b91f-4d13-da89-e325116c48aa"
      },
      "execution_count": 229,
      "outputs": [
        {
          "output_type": "stream",
          "name": "stdout",
          "text": [
            "+----+------------+--------------------+-------------+--------+---+-----+----+\n",
            "|SrNo|EnchasedDate|        EnchaserName|Denominations|  BondNo|Day|Month|Year|\n",
            "+----+------------+--------------------+-------------+--------+---+-----+----+\n",
            "|   1|  2019-04-12|ALL INDIA ANNA DR...|        1.0E7|  OC-775| 12|    4|2019|\n",
            "|   2|  2019-04-12|ALL INDIA ANNA DR...|        1.0E7| OC-3975| 12|    4|2019|\n",
            "|   3|  2019-04-12|ALL INDIA ANNA DR...|        1.0E7| OC-3967| 12|    4|2019|\n",
            "|   4|  2019-04-12|ALL INDIA ANNA DR...|    1000000.0|TL-10418| 12|    4|2019|\n",
            "|   5|  2019-04-12|ALL INDIA ANNA DR...|    1000000.0|  TL-126| 12|    4|2019|\n",
            "+----+------------+--------------------+-------------+--------+---+-----+----+\n",
            "only showing top 5 rows\n",
            "\n"
          ]
        }
      ]
    },
    {
      "cell_type": "code",
      "source": [
        "topEnchaser = enchaser_df.groupBy('EnchaserName').agg(_sum('Denominations').alias('TotalAmount')).orderBy('TotalAmount', ascending=False)\n",
        "topEnchaser.show(5, truncate=False)"
      ],
      "metadata": {
        "colab": {
          "base_uri": "https://localhost:8080/"
        },
        "id": "iytyxZMZ4C9p",
        "outputId": "55288151-1876-4eae-8152-12ccd6896501"
      },
      "execution_count": 230,
      "outputs": [
        {
          "output_type": "stream",
          "name": "stdout",
          "text": [
            "+---------------------------------------+------------+\n",
            "|EnchaserName                           |TotalAmount |\n",
            "+---------------------------------------+------------+\n",
            "|BHARATIYA JANATA PARTY                 |6.0605111E10|\n",
            "|ALL INDIA TRINAMOOL CONGRESS           |1.6095314E10|\n",
            "|PRESIDENT, ALL INDIA CONGRESS COMMITTEE|1.4218655E10|\n",
            "|BHARAT RASHTRA SAMITHI                 |1.2147099E10|\n",
            "|BIJU JANATA DAL                        |7.755E9     |\n",
            "+---------------------------------------+------------+\n",
            "only showing top 5 rows\n",
            "\n"
          ]
        }
      ]
    },
    {
      "cell_type": "code",
      "source": [
        "n = 50\n",
        "\n",
        "top_n_parties = topEnchaser.orderBy('TotalAmount', descending=False).limit(n)\n",
        "\n",
        "fig1 = px.bar(top_n_parties.toPandas(),\n",
        "              y='EnchaserName',\n",
        "              x='TotalAmount',\n",
        "              color='TotalAmount',\n",
        "              title=f'Top {n} Bonds Enchased Parties (Amount in Crores)',\n",
        "              text_auto='.2s',\n",
        "              orientation='h')\n",
        "\n",
        "fig1.update_traces(textfont_size=12, textangle=0, cliponaxis=False, textposition='outside')\n",
        "fig1.update_layout(uniformtext_minsize=8,\n",
        "                   uniformtext_mode='hide',\n",
        "                   height=800,\n",
        "                   barmode=\"stack\",\n",
        "                   hovermode=\"y unified\",)\n",
        "\n",
        "fig1.show()"
      ],
      "metadata": {
        "colab": {
          "base_uri": "https://localhost:8080/",
          "height": 817
        },
        "id": "1kWs7SLd5eWa",
        "outputId": "a68f1fbe-65bc-4cb8-8888-17fe9271a666"
      },
      "execution_count": 231,
      "outputs": [
        {
          "output_type": "display_data",
          "data": {
            "text/html": [
              "<html>\n",
              "<head><meta charset=\"utf-8\" /></head>\n",
              "<body>\n",
              "    <div>            <script src=\"https://cdnjs.cloudflare.com/ajax/libs/mathjax/2.7.5/MathJax.js?config=TeX-AMS-MML_SVG\"></script><script type=\"text/javascript\">if (window.MathJax && window.MathJax.Hub && window.MathJax.Hub.Config) {window.MathJax.Hub.Config({SVG: {font: \"STIX-Web\"}});}</script>                <script type=\"text/javascript\">window.PlotlyConfig = {MathJaxConfig: 'local'};</script>\n",
              "        <script charset=\"utf-8\" src=\"https://cdn.plot.ly/plotly-2.24.1.min.js\"></script>                <div id=\"d3e10a76-2fde-4fdf-8384-c36bb13130da\" class=\"plotly-graph-div\" style=\"height:800px; width:100%;\"></div>            <script type=\"text/javascript\">                                    window.PLOTLYENV=window.PLOTLYENV || {};                                    if (document.getElementById(\"d3e10a76-2fde-4fdf-8384-c36bb13130da\")) {                    Plotly.newPlot(                        \"d3e10a76-2fde-4fdf-8384-c36bb13130da\",                        [{\"alignmentgroup\":\"True\",\"hovertemplate\":\"TotalAmount=%{marker.color}\\u003cbr\\u003eEnchaserName=%{y}\\u003cextra\\u003e\\u003c\\u002fextra\\u003e\",\"legendgroup\":\"\",\"marker\":{\"color\":[3500000.0,5000000.0,5500000.0,55000000.0,60500000.0,72600000.0,135000000.0,140000000.0,140500000.0,210000000.0,310000000.0,365000000.0,435000000.0,654500000.0,735000000.0,1593814000.0,2188800000.0,3370000000.0,6390000000.0,7755000000.0,12147099000.0,14218655000.0,16095314000.0,60605111000.0],\"coloraxis\":\"coloraxis\",\"pattern\":{\"shape\":\"\"}},\"name\":\"\",\"offsetgroup\":\"\",\"orientation\":\"h\",\"showlegend\":false,\"textposition\":\"outside\",\"texttemplate\":\"%{x:.2s}\",\"x\":[3500000.0,5000000.0,5500000.0,55000000.0,60500000.0,72600000.0,135000000.0,140000000.0,140500000.0,210000000.0,310000000.0,365000000.0,435000000.0,654500000.0,735000000.0,1593814000.0,2188800000.0,3370000000.0,6390000000.0,7755000000.0,12147099000.0,14218655000.0,16095314000.0,60605111000.0],\"xaxis\":\"x\",\"y\":[\"GOA FORWARD PARTY\",\"JAMMU AND KASHMIR NATIONAL CONFERENCE\",\"MAHARASHTRAWADI GOMNTAK PARTY\",\"SIKKIM DEMOCRATIC FRONT\",\"ALL INDIA ANNA DRAVIDA MUNNETRA KAZHAGAM\",\"SHIROMANI AKALI DAL\",\"JHARKHAND MUKTI MORCHA\",\"BIHAR PRADESH JANTA DAL(UNITED)\",\"ADYAKSHA SAMAJVADI PARTY\",\"JANASENA PARTY\",\"NATIONALIST CONGRESS PARTY MAHARASHTRA PRADESH\",\"SIKKIM KRANTIKARI MORCHA\",\"JANATA DAL ( SECULAR )\",\"AAM AADMI PARTY\",\"RASHTRIYA JANTA DAL\",\"SHIVSENA\",\"TELUGU DESAM PARTY\",\"YSR  CONGRESS PARTY  (YUVAJANA SRAMIKA RYTHU CONGRESS PARTY)\",\"DRAVIDA MUNNETRA KAZHAGAM (DMK)\",\"BIJU JANATA DAL\",\"BHARAT RASHTRA SAMITHI\",\"PRESIDENT, ALL INDIA CONGRESS COMMITTEE\",\"ALL INDIA TRINAMOOL CONGRESS\",\"BHARATIYA JANATA PARTY\"],\"yaxis\":\"y\",\"type\":\"bar\",\"textfont\":{\"size\":12},\"cliponaxis\":false,\"textangle\":0}],                        {\"template\":{\"data\":{\"histogram2dcontour\":[{\"type\":\"histogram2dcontour\",\"colorbar\":{\"outlinewidth\":0,\"ticks\":\"\"},\"colorscale\":[[0.0,\"#0d0887\"],[0.1111111111111111,\"#46039f\"],[0.2222222222222222,\"#7201a8\"],[0.3333333333333333,\"#9c179e\"],[0.4444444444444444,\"#bd3786\"],[0.5555555555555556,\"#d8576b\"],[0.6666666666666666,\"#ed7953\"],[0.7777777777777778,\"#fb9f3a\"],[0.8888888888888888,\"#fdca26\"],[1.0,\"#f0f921\"]]}],\"choropleth\":[{\"type\":\"choropleth\",\"colorbar\":{\"outlinewidth\":0,\"ticks\":\"\"}}],\"histogram2d\":[{\"type\":\"histogram2d\",\"colorbar\":{\"outlinewidth\":0,\"ticks\":\"\"},\"colorscale\":[[0.0,\"#0d0887\"],[0.1111111111111111,\"#46039f\"],[0.2222222222222222,\"#7201a8\"],[0.3333333333333333,\"#9c179e\"],[0.4444444444444444,\"#bd3786\"],[0.5555555555555556,\"#d8576b\"],[0.6666666666666666,\"#ed7953\"],[0.7777777777777778,\"#fb9f3a\"],[0.8888888888888888,\"#fdca26\"],[1.0,\"#f0f921\"]]}],\"heatmap\":[{\"type\":\"heatmap\",\"colorbar\":{\"outlinewidth\":0,\"ticks\":\"\"},\"colorscale\":[[0.0,\"#0d0887\"],[0.1111111111111111,\"#46039f\"],[0.2222222222222222,\"#7201a8\"],[0.3333333333333333,\"#9c179e\"],[0.4444444444444444,\"#bd3786\"],[0.5555555555555556,\"#d8576b\"],[0.6666666666666666,\"#ed7953\"],[0.7777777777777778,\"#fb9f3a\"],[0.8888888888888888,\"#fdca26\"],[1.0,\"#f0f921\"]]}],\"heatmapgl\":[{\"type\":\"heatmapgl\",\"colorbar\":{\"outlinewidth\":0,\"ticks\":\"\"},\"colorscale\":[[0.0,\"#0d0887\"],[0.1111111111111111,\"#46039f\"],[0.2222222222222222,\"#7201a8\"],[0.3333333333333333,\"#9c179e\"],[0.4444444444444444,\"#bd3786\"],[0.5555555555555556,\"#d8576b\"],[0.6666666666666666,\"#ed7953\"],[0.7777777777777778,\"#fb9f3a\"],[0.8888888888888888,\"#fdca26\"],[1.0,\"#f0f921\"]]}],\"contourcarpet\":[{\"type\":\"contourcarpet\",\"colorbar\":{\"outlinewidth\":0,\"ticks\":\"\"}}],\"contour\":[{\"type\":\"contour\",\"colorbar\":{\"outlinewidth\":0,\"ticks\":\"\"},\"colorscale\":[[0.0,\"#0d0887\"],[0.1111111111111111,\"#46039f\"],[0.2222222222222222,\"#7201a8\"],[0.3333333333333333,\"#9c179e\"],[0.4444444444444444,\"#bd3786\"],[0.5555555555555556,\"#d8576b\"],[0.6666666666666666,\"#ed7953\"],[0.7777777777777778,\"#fb9f3a\"],[0.8888888888888888,\"#fdca26\"],[1.0,\"#f0f921\"]]}],\"surface\":[{\"type\":\"surface\",\"colorbar\":{\"outlinewidth\":0,\"ticks\":\"\"},\"colorscale\":[[0.0,\"#0d0887\"],[0.1111111111111111,\"#46039f\"],[0.2222222222222222,\"#7201a8\"],[0.3333333333333333,\"#9c179e\"],[0.4444444444444444,\"#bd3786\"],[0.5555555555555556,\"#d8576b\"],[0.6666666666666666,\"#ed7953\"],[0.7777777777777778,\"#fb9f3a\"],[0.8888888888888888,\"#fdca26\"],[1.0,\"#f0f921\"]]}],\"mesh3d\":[{\"type\":\"mesh3d\",\"colorbar\":{\"outlinewidth\":0,\"ticks\":\"\"}}],\"scatter\":[{\"fillpattern\":{\"fillmode\":\"overlay\",\"size\":10,\"solidity\":0.2},\"type\":\"scatter\"}],\"parcoords\":[{\"type\":\"parcoords\",\"line\":{\"colorbar\":{\"outlinewidth\":0,\"ticks\":\"\"}}}],\"scatterpolargl\":[{\"type\":\"scatterpolargl\",\"marker\":{\"colorbar\":{\"outlinewidth\":0,\"ticks\":\"\"}}}],\"bar\":[{\"error_x\":{\"color\":\"#2a3f5f\"},\"error_y\":{\"color\":\"#2a3f5f\"},\"marker\":{\"line\":{\"color\":\"#E5ECF6\",\"width\":0.5},\"pattern\":{\"fillmode\":\"overlay\",\"size\":10,\"solidity\":0.2}},\"type\":\"bar\"}],\"scattergeo\":[{\"type\":\"scattergeo\",\"marker\":{\"colorbar\":{\"outlinewidth\":0,\"ticks\":\"\"}}}],\"scatterpolar\":[{\"type\":\"scatterpolar\",\"marker\":{\"colorbar\":{\"outlinewidth\":0,\"ticks\":\"\"}}}],\"histogram\":[{\"marker\":{\"pattern\":{\"fillmode\":\"overlay\",\"size\":10,\"solidity\":0.2}},\"type\":\"histogram\"}],\"scattergl\":[{\"type\":\"scattergl\",\"marker\":{\"colorbar\":{\"outlinewidth\":0,\"ticks\":\"\"}}}],\"scatter3d\":[{\"type\":\"scatter3d\",\"line\":{\"colorbar\":{\"outlinewidth\":0,\"ticks\":\"\"}},\"marker\":{\"colorbar\":{\"outlinewidth\":0,\"ticks\":\"\"}}}],\"scattermapbox\":[{\"type\":\"scattermapbox\",\"marker\":{\"colorbar\":{\"outlinewidth\":0,\"ticks\":\"\"}}}],\"scatterternary\":[{\"type\":\"scatterternary\",\"marker\":{\"colorbar\":{\"outlinewidth\":0,\"ticks\":\"\"}}}],\"scattercarpet\":[{\"type\":\"scattercarpet\",\"marker\":{\"colorbar\":{\"outlinewidth\":0,\"ticks\":\"\"}}}],\"carpet\":[{\"aaxis\":{\"endlinecolor\":\"#2a3f5f\",\"gridcolor\":\"white\",\"linecolor\":\"white\",\"minorgridcolor\":\"white\",\"startlinecolor\":\"#2a3f5f\"},\"baxis\":{\"endlinecolor\":\"#2a3f5f\",\"gridcolor\":\"white\",\"linecolor\":\"white\",\"minorgridcolor\":\"white\",\"startlinecolor\":\"#2a3f5f\"},\"type\":\"carpet\"}],\"table\":[{\"cells\":{\"fill\":{\"color\":\"#EBF0F8\"},\"line\":{\"color\":\"white\"}},\"header\":{\"fill\":{\"color\":\"#C8D4E3\"},\"line\":{\"color\":\"white\"}},\"type\":\"table\"}],\"barpolar\":[{\"marker\":{\"line\":{\"color\":\"#E5ECF6\",\"width\":0.5},\"pattern\":{\"fillmode\":\"overlay\",\"size\":10,\"solidity\":0.2}},\"type\":\"barpolar\"}],\"pie\":[{\"automargin\":true,\"type\":\"pie\"}]},\"layout\":{\"autotypenumbers\":\"strict\",\"colorway\":[\"#636efa\",\"#EF553B\",\"#00cc96\",\"#ab63fa\",\"#FFA15A\",\"#19d3f3\",\"#FF6692\",\"#B6E880\",\"#FF97FF\",\"#FECB52\"],\"font\":{\"color\":\"#2a3f5f\"},\"hovermode\":\"closest\",\"hoverlabel\":{\"align\":\"left\"},\"paper_bgcolor\":\"white\",\"plot_bgcolor\":\"#E5ECF6\",\"polar\":{\"bgcolor\":\"#E5ECF6\",\"angularaxis\":{\"gridcolor\":\"white\",\"linecolor\":\"white\",\"ticks\":\"\"},\"radialaxis\":{\"gridcolor\":\"white\",\"linecolor\":\"white\",\"ticks\":\"\"}},\"ternary\":{\"bgcolor\":\"#E5ECF6\",\"aaxis\":{\"gridcolor\":\"white\",\"linecolor\":\"white\",\"ticks\":\"\"},\"baxis\":{\"gridcolor\":\"white\",\"linecolor\":\"white\",\"ticks\":\"\"},\"caxis\":{\"gridcolor\":\"white\",\"linecolor\":\"white\",\"ticks\":\"\"}},\"coloraxis\":{\"colorbar\":{\"outlinewidth\":0,\"ticks\":\"\"}},\"colorscale\":{\"sequential\":[[0.0,\"#0d0887\"],[0.1111111111111111,\"#46039f\"],[0.2222222222222222,\"#7201a8\"],[0.3333333333333333,\"#9c179e\"],[0.4444444444444444,\"#bd3786\"],[0.5555555555555556,\"#d8576b\"],[0.6666666666666666,\"#ed7953\"],[0.7777777777777778,\"#fb9f3a\"],[0.8888888888888888,\"#fdca26\"],[1.0,\"#f0f921\"]],\"sequentialminus\":[[0.0,\"#0d0887\"],[0.1111111111111111,\"#46039f\"],[0.2222222222222222,\"#7201a8\"],[0.3333333333333333,\"#9c179e\"],[0.4444444444444444,\"#bd3786\"],[0.5555555555555556,\"#d8576b\"],[0.6666666666666666,\"#ed7953\"],[0.7777777777777778,\"#fb9f3a\"],[0.8888888888888888,\"#fdca26\"],[1.0,\"#f0f921\"]],\"diverging\":[[0,\"#8e0152\"],[0.1,\"#c51b7d\"],[0.2,\"#de77ae\"],[0.3,\"#f1b6da\"],[0.4,\"#fde0ef\"],[0.5,\"#f7f7f7\"],[0.6,\"#e6f5d0\"],[0.7,\"#b8e186\"],[0.8,\"#7fbc41\"],[0.9,\"#4d9221\"],[1,\"#276419\"]]},\"xaxis\":{\"gridcolor\":\"white\",\"linecolor\":\"white\",\"ticks\":\"\",\"title\":{\"standoff\":15},\"zerolinecolor\":\"white\",\"automargin\":true,\"zerolinewidth\":2},\"yaxis\":{\"gridcolor\":\"white\",\"linecolor\":\"white\",\"ticks\":\"\",\"title\":{\"standoff\":15},\"zerolinecolor\":\"white\",\"automargin\":true,\"zerolinewidth\":2},\"scene\":{\"xaxis\":{\"backgroundcolor\":\"#E5ECF6\",\"gridcolor\":\"white\",\"linecolor\":\"white\",\"showbackground\":true,\"ticks\":\"\",\"zerolinecolor\":\"white\",\"gridwidth\":2},\"yaxis\":{\"backgroundcolor\":\"#E5ECF6\",\"gridcolor\":\"white\",\"linecolor\":\"white\",\"showbackground\":true,\"ticks\":\"\",\"zerolinecolor\":\"white\",\"gridwidth\":2},\"zaxis\":{\"backgroundcolor\":\"#E5ECF6\",\"gridcolor\":\"white\",\"linecolor\":\"white\",\"showbackground\":true,\"ticks\":\"\",\"zerolinecolor\":\"white\",\"gridwidth\":2}},\"shapedefaults\":{\"line\":{\"color\":\"#2a3f5f\"}},\"annotationdefaults\":{\"arrowcolor\":\"#2a3f5f\",\"arrowhead\":0,\"arrowwidth\":1},\"geo\":{\"bgcolor\":\"white\",\"landcolor\":\"#E5ECF6\",\"subunitcolor\":\"white\",\"showland\":true,\"showlakes\":true,\"lakecolor\":\"white\"},\"title\":{\"x\":0.05},\"mapbox\":{\"style\":\"light\"}}},\"xaxis\":{\"anchor\":\"y\",\"domain\":[0.0,1.0],\"title\":{\"text\":\"TotalAmount\"}},\"yaxis\":{\"anchor\":\"x\",\"domain\":[0.0,1.0],\"title\":{\"text\":\"EnchaserName\"}},\"coloraxis\":{\"colorbar\":{\"title\":{\"text\":\"TotalAmount\"}},\"colorscale\":[[0.0,\"#0d0887\"],[0.1111111111111111,\"#46039f\"],[0.2222222222222222,\"#7201a8\"],[0.3333333333333333,\"#9c179e\"],[0.4444444444444444,\"#bd3786\"],[0.5555555555555556,\"#d8576b\"],[0.6666666666666666,\"#ed7953\"],[0.7777777777777778,\"#fb9f3a\"],[0.8888888888888888,\"#fdca26\"],[1.0,\"#f0f921\"]]},\"legend\":{\"tracegroupgap\":0},\"title\":{\"text\":\"Top 50 Bonds Enchased Parties (Amount in Crores)\"},\"barmode\":\"stack\",\"uniformtext\":{\"minsize\":8,\"mode\":\"hide\"},\"height\":800,\"hovermode\":\"y unified\"},                        {\"responsive\": true}                    ).then(function(){\n",
              "                            \n",
              "var gd = document.getElementById('d3e10a76-2fde-4fdf-8384-c36bb13130da');\n",
              "var x = new MutationObserver(function (mutations, observer) {{\n",
              "        var display = window.getComputedStyle(gd).display;\n",
              "        if (!display || display === 'none') {{\n",
              "            console.log([gd, 'removed!']);\n",
              "            Plotly.purge(gd);\n",
              "            observer.disconnect();\n",
              "        }}\n",
              "}});\n",
              "\n",
              "// Listen for the removal of the full notebook cells\n",
              "var notebookContainer = gd.closest('#notebook-container');\n",
              "if (notebookContainer) {{\n",
              "    x.observe(notebookContainer, {childList: true});\n",
              "}}\n",
              "\n",
              "// Listen for the clearing of the current output cell\n",
              "var outputEl = gd.closest('.output');\n",
              "if (outputEl) {{\n",
              "    x.observe(outputEl, {childList: true});\n",
              "}}\n",
              "\n",
              "                        })                };                            </script>        </div>\n",
              "</body>\n",
              "</html>"
            ]
          },
          "metadata": {}
        }
      ]
    },
    {
      "cell_type": "code",
      "source": [
        "totalByYear_enchasers = enchaser_df.groupBy('EnchaserName', 'Year').agg(_sum('Denominations').alias('TotalAmountByYear')).orderBy('EnchaserName', 'Year', 'TotalAmountByYear')\n",
        "totalByYear_enchasers.show(5, truncate=False)"
      ],
      "metadata": {
        "colab": {
          "base_uri": "https://localhost:8080/"
        },
        "id": "gmCskyUTWh9D",
        "outputId": "1a4fb159-62c3-49df-8af6-db62d09bec05"
      },
      "execution_count": 232,
      "outputs": [
        {
          "output_type": "stream",
          "name": "stdout",
          "text": [
            "+---------------+----+-----------------+\n",
            "|EnchaserName   |Year|TotalAmountByYear|\n",
            "+---------------+----+-----------------+\n",
            "|AAM AADMI PARTY|2019|2.2E7            |\n",
            "|AAM AADMI PARTY|2020|3.3E7            |\n",
            "|AAM AADMI PARTY|2021|1.85E7           |\n",
            "|AAM AADMI PARTY|2022|4.795E8          |\n",
            "|AAM AADMI PARTY|2023|1.015E8          |\n",
            "+---------------+----+-----------------+\n",
            "only showing top 5 rows\n",
            "\n"
          ]
        }
      ]
    },
    {
      "cell_type": "code",
      "source": [
        "from dash import Dash, html, dcc, callback, Output, Input\n",
        "import plotly.express as px\n",
        "import pandas as pd\n",
        "\n",
        "totalByYearPD_enchasers = totalByYear_enchasers.toPandas()\n",
        "partyName = [row.EnchaserName for row in totalByYear_enchasers.select('EnchaserName').distinct().collect()]\n",
        "\n",
        "\n",
        "app = Dash(__name__)\n",
        "\n",
        "app.layout = html.Div([\n",
        "    html.H1(children='Party Enchased per Year', style={'textAlign': 'center', 'color': 'white'}),\n",
        "    dcc.Dropdown(\n",
        "        id='dropdown-selection',\n",
        "        options=[{'label': party, 'value': party} for party in totalByYearPD_enchasers['EnchaserName'].unique()],\n",
        "        value='AAM AADMI PARTY'\n",
        "    ),\n",
        "    dcc.Graph(id='graph-content')\n",
        "])\n",
        "\n",
        "@app.callback(\n",
        "    Output('graph-content', 'figure'),\n",
        "    [Input('dropdown-selection', 'value')]\n",
        ")\n",
        "def update_graph(value):\n",
        "    df = totalByYearPD_enchasers[totalByYearPD_enchasers['EnchaserName'] == value]\n",
        "    fig = px.bar(df, x='Year', y='TotalAmountByYear', color='TotalAmountByYear')\n",
        "    fig.update_xaxes(type='category')\n",
        "    fig.update_layout(bargap=0.3)\n",
        "\n",
        "    return fig\n",
        "\n",
        "if __name__ == '__main__':\n",
        "     app.run_server(mode='inline', host=\"0.0.0.0\", port=1005)\n"
      ],
      "metadata": {
        "colab": {
          "base_uri": "https://localhost:8080/",
          "height": 671
        },
        "id": "r6cTPLZlke_N",
        "outputId": "db3aeff9-8f24-4cc3-f520-6bf6494756e8"
      },
      "execution_count": 233,
      "outputs": [
        {
          "output_type": "display_data",
          "data": {
            "text/plain": [
              "<IPython.core.display.Javascript object>"
            ],
            "application/javascript": [
              "(async (port, path, width, height, cache, element) => {\n",
              "    if (!google.colab.kernel.accessAllowed && !cache) {\n",
              "      return;\n",
              "    }\n",
              "    element.appendChild(document.createTextNode(''));\n",
              "    const url = await google.colab.kernel.proxyPort(port, {cache});\n",
              "    const iframe = document.createElement('iframe');\n",
              "    iframe.src = new URL(path, url).toString();\n",
              "    iframe.height = height;\n",
              "    iframe.width = width;\n",
              "    iframe.style.border = 0;\n",
              "    iframe.allow = [\n",
              "        'accelerometer',\n",
              "        'autoplay',\n",
              "        'camera',\n",
              "        'clipboard-read',\n",
              "        'clipboard-write',\n",
              "        'gyroscope',\n",
              "        'magnetometer',\n",
              "        'microphone',\n",
              "        'serial',\n",
              "        'usb',\n",
              "        'xr-spatial-tracking',\n",
              "    ].join('; ');\n",
              "    element.appendChild(iframe);\n",
              "  })(1005, \"/\", \"100%\", 650, false, window.element)"
            ]
          },
          "metadata": {}
        }
      ]
    },
    {
      "cell_type": "markdown",
      "source": [
        "## Analysis on Purchasers"
      ],
      "metadata": {
        "id": "yyNtOY7r91tG"
      }
    },
    {
      "cell_type": "code",
      "source": [
        "from pyspark.sql.functions import sum as _sum"
      ],
      "metadata": {
        "id": "pJifLZ9-91tZ"
      },
      "execution_count": 234,
      "outputs": []
    },
    {
      "cell_type": "code",
      "source": [
        "purchaser_df.show(5)"
      ],
      "metadata": {
        "colab": {
          "base_uri": "https://localhost:8080/"
        },
        "outputId": "e5ea16b0-de63-48ce-ebcb-29a7b7e5eef0",
        "id": "i3laXGBx91tZ"
      },
      "execution_count": 235,
      "outputs": [
        {
          "output_type": "stream",
          "name": "stdout",
          "text": [
            "+----+-------------+-----------+-------------------+-------------+------+--------+---+-----+----+\n",
            "|SrNo|PurchasedDate| ExpiryDate|      PurchaserName|Denominations|Status|  BondNo|Day|Month|Year|\n",
            "+----+-------------+-----------+-------------------+-------------+------+--------+---+-----+----+\n",
            "|   1|   2019-04-12|26/Apr/2019|A B C INDIA LIMITED|    1000000.0|  Paid|TL-11448| 12|    4|2019|\n",
            "|   2|   2019-04-12|26/Apr/2019|A B C INDIA LIMITED|    1000000.0|  Paid|TL-11447| 12|    4|2019|\n",
            "|   3|   2019-04-12|26/Apr/2019|A B C INDIA LIMITED|    1000000.0|  Paid|TL-11441| 12|    4|2019|\n",
            "|   4|   2019-04-12|26/Apr/2019|A B C INDIA LIMITED|     100000.0|  Paid| OL-1113| 12|    4|2019|\n",
            "|   5|   2019-04-12|26/Apr/2019|A B C INDIA LIMITED|     100000.0|  Paid| OL-1118| 12|    4|2019|\n",
            "+----+-------------+-----------+-------------------+-------------+------+--------+---+-----+----+\n",
            "only showing top 5 rows\n",
            "\n"
          ]
        }
      ]
    },
    {
      "cell_type": "code",
      "source": [
        "topPurchaser = purchaser_df.groupBy('PurchaserName').agg(_sum('Denominations').alias('TotalAmount')).orderBy('TotalAmount', ascending=False)\n",
        "topPurchaser.show(5, truncate=False)"
      ],
      "metadata": {
        "colab": {
          "base_uri": "https://localhost:8080/"
        },
        "outputId": "ec8e2145-9293-4446-e0fa-f6d460b66a6b",
        "id": "LQ8CRXSU91tZ"
      },
      "execution_count": 236,
      "outputs": [
        {
          "output_type": "stream",
          "name": "stdout",
          "text": [
            "+----------------------------------------------+-----------+\n",
            "|PurchaserName                                 |TotalAmount|\n",
            "+----------------------------------------------+-----------+\n",
            "|FUTURE GAMING AND HOTEL SERVICES PR           |1.208E10   |\n",
            "|MEGHA ENGINEERING AND INFRASTRUCTURES LI MITED|8.21E9     |\n",
            "|QWIKSUPPLYCHAINPRIVATELIMITED                 |4.1E9      |\n",
            "|HALDIA ENERGY LIMITED                         |3.77E9     |\n",
            "|VEDANTA LIMITED                               |3.7565E9   |\n",
            "+----------------------------------------------+-----------+\n",
            "only showing top 5 rows\n",
            "\n"
          ]
        }
      ]
    },
    {
      "cell_type": "code",
      "source": [
        "topPurchaser.orderBy('TotalAmount', ascending=False).show()"
      ],
      "metadata": {
        "colab": {
          "base_uri": "https://localhost:8080/"
        },
        "id": "Xl4OnWxr-ip0",
        "outputId": "4ae0675d-fb69-46f3-bf97-57f9fbca9ce9"
      },
      "execution_count": 237,
      "outputs": [
        {
          "output_type": "stream",
          "name": "stdout",
          "text": [
            "+--------------------+-----------+\n",
            "|       PurchaserName|TotalAmount|\n",
            "+--------------------+-----------+\n",
            "|FUTURE GAMING AND...|   1.208E10|\n",
            "|MEGHA ENGINEERING...|     8.21E9|\n",
            "|QWIKSUPPLYCHAINPR...|      4.1E9|\n",
            "|HALDIA ENERGY LIM...|     3.77E9|\n",
            "|     VEDANTA LIMITED|   3.7565E9|\n",
            "|ESSEL MINING AND ...|    2.245E9|\n",
            "|WESTERN UP POWER ...|      2.2E9|\n",
            "|KEVENTER FOODPARK...|     1.95E9|\n",
            "|       MADANLAL LTD.|    1.855E9|\n",
            "|BHARTI AIRTEL LIM...|     1.83E9|\n",
            "|YASHODA SUPER SPE...|     1.62E9|\n",
            "|UTKAL ALUMINA INT...|    1.353E9|\n",
            "|DLF COMMERCIAL DE...|      1.3E9|\n",
            "|MKJ ENTERPRISES L...|   1.2835E9|\n",
            "|JINDAL STEEL AND ...|     1.23E9|\n",
            "|B G SHIRKE CONSTR...|     1.17E9|\n",
            "|DHARIWAL INFRASTR...|     1.15E9|\n",
            "|CHENNAI GREEN WOO...|     1.05E9|\n",
            "|BIRLACARBONINDIAP...|     1.05E9|\n",
            "|   RUNGTA SONS P LTD|      1.0E9|\n",
            "+--------------------+-----------+\n",
            "only showing top 20 rows\n",
            "\n"
          ]
        }
      ]
    },
    {
      "cell_type": "code",
      "source": [
        "n = 50\n",
        "top_n_purchasers = topPurchaser.orderBy('TotalAmount', ascending=False).limit(n)\n",
        "\n",
        "fig1 = px.bar(top_n_purchasers.orderBy('TotalAmount', ascending=True).toPandas(),\n",
        "              y='PurchaserName',\n",
        "              x='TotalAmount',\n",
        "              color='TotalAmount',\n",
        "              title=f'Top {n} Bonds Purchased Parties (Amount in Crores)',\n",
        "              text_auto='.2s',\n",
        "              orientation='h')\n",
        "\n",
        "fig1.update_traces(textfont_size=12, textangle=0, cliponaxis=False, textposition='outside')\n",
        "fig1.update_layout(uniformtext_minsize=8,\n",
        "                   uniformtext_mode='hide',\n",
        "                   height=800,\n",
        "                   barmode=\"stack\",\n",
        "                   hovermode=\"y unified\",)\n",
        "\n",
        "fig1.show()"
      ],
      "metadata": {
        "colab": {
          "base_uri": "https://localhost:8080/",
          "height": 817
        },
        "outputId": "8fe5ce5a-f974-443f-870f-86271a62d12e",
        "id": "d2Kg2lB091ta"
      },
      "execution_count": 238,
      "outputs": [
        {
          "output_type": "display_data",
          "data": {
            "text/html": [
              "<html>\n",
              "<head><meta charset=\"utf-8\" /></head>\n",
              "<body>\n",
              "    <div>            <script src=\"https://cdnjs.cloudflare.com/ajax/libs/mathjax/2.7.5/MathJax.js?config=TeX-AMS-MML_SVG\"></script><script type=\"text/javascript\">if (window.MathJax && window.MathJax.Hub && window.MathJax.Hub.Config) {window.MathJax.Hub.Config({SVG: {font: \"STIX-Web\"}});}</script>                <script type=\"text/javascript\">window.PlotlyConfig = {MathJaxConfig: 'local'};</script>\n",
              "        <script charset=\"utf-8\" src=\"https://cdn.plot.ly/plotly-2.24.1.min.js\"></script>                <div id=\"a5111804-9fb0-4984-b7fc-a9c2a0206cfd\" class=\"plotly-graph-div\" style=\"height:800px; width:100%;\"></div>            <script type=\"text/javascript\">                                    window.PLOTLYENV=window.PLOTLYENV || {};                                    if (document.getElementById(\"a5111804-9fb0-4984-b7fc-a9c2a0206cfd\")) {                    Plotly.newPlot(                        \"a5111804-9fb0-4984-b7fc-a9c2a0206cfd\",                        [{\"alignmentgroup\":\"True\",\"hovertemplate\":\"TotalAmount=%{marker.color}\\u003cbr\\u003ePurchaserName=%{y}\\u003cextra\\u003e\\u003c\\u002fextra\\u003e\",\"legendgroup\":\"\",\"marker\":{\"color\":[400000000.0,400000000.0,400000000.0,400000000.0,415000000.0,425000000.0,440000000.0,450000000.0,450000000.0,450000000.0,450000000.0,490000000.0,500000000.0,540000000.0,550000000.0,572500000.0,600000000.0,600000000.0,601000000.0,635000000.0,640700000.0,650000000.0,700000000.0,750000000.0,780000000.0,800000000.0,855000000.0,865000000.0,923000000.0,950000000.0,1000000000.0,1050000000.0,1050000000.0,1150000000.0,1170000000.0,1230000000.0,1283500000.0,1300000000.0,1353000000.0,1620000000.0,1830000000.0,1855000000.0,1950000000.0,2200000000.0,2245000000.0,3756500000.0,3770000000.0,4100000000.0,8210000000.0,12080000000.0],\"coloraxis\":\"coloraxis\",\"pattern\":{\"shape\":\"\"}},\"name\":\"\",\"offsetgroup\":\"\",\"orientation\":\"h\",\"showlegend\":false,\"textposition\":\"outside\",\"texttemplate\":\"%{x:.2s}\",\"x\":[400000000.0,400000000.0,400000000.0,400000000.0,415000000.0,425000000.0,440000000.0,450000000.0,450000000.0,450000000.0,450000000.0,490000000.0,500000000.0,540000000.0,550000000.0,572500000.0,600000000.0,600000000.0,601000000.0,635000000.0,640700000.0,650000000.0,700000000.0,750000000.0,780000000.0,800000000.0,855000000.0,865000000.0,923000000.0,950000000.0,1000000000.0,1050000000.0,1050000000.0,1150000000.0,1170000000.0,1230000000.0,1283500000.0,1300000000.0,1353000000.0,1620000000.0,1830000000.0,1855000000.0,1950000000.0,2200000000.0,2245000000.0,3756500000.0,3770000000.0,4100000000.0,8210000000.0,12080000000.0],\"xaxis\":\"x\",\"y\":[\"PHL FINIVEST PVT LTD\",\"MODERN ROAD MAKERS PVT. LTD.\",\"LAXMI CIVIL ENGINEERING SERVICES PR\",\"SEPC POWER PVT LTD OPERATION RETEN\",\"TRANSWAYS EXIM PRIVATE LIMITED\",\"TORRENT PHARMACEUTICALS LTD\",\"SASMAL INFRASTRUCTURE PRIVATE LIMITED\",\"NAVAYUGA  ENGINEERING COMPANY LIMITED\",\"MS S N MOHANTY\",\"PCBL LIMITED\",\"RITHWIK PROJECTS  PRIVATE LIMITED\",\"AUROBINDO PHARMA LIMITED\",\"UNITED PHOSPHORUS INDIA LLP\",\"THE RAMCO CEMENTS LIMITED\",\"DIVI S LABORATORIES LIMITED\",\"NATCO PHARMA LTD\",\"INFINA FINANCE PRIVATE LIMITED\",\"NCC LIMITED\",\"SRI SIDDHARTH INFRATECH AND SERVICES I P\",\"RASHMI CEMENT LTD\",\"MKJ ENTERPRISES LTD\",\"FUTURE GAMING AND HOTEL SERVICES PVT LTD\",\"MEGHA ENGINEERING AND INFRASTRUCTURES LTD\",\"MEGHA ENGINEERING & INFRASTRUCTURES LIMITED\",\"PRARAMBH SECURITIES PVT LTDPROPRIET\",\"DR.REDDY'S LABORATORIES LTD\",\"AVEES TRADING FINANCE PVT LTD\",\"TORRENT  POWER  LIMITED\",\"IFB AGRO INDUSTRIES LIMITED\",\"FUTURE GAMING AND HOTEL SERVICES PRIVATE LIMITED\",\"RUNGTA SONS P LTD\",\"CHENNAI GREEN WOODS PRIVATE LIMITED\",\"BIRLACARBONINDIAPRIVATELIMITED\",\"DHARIWAL INFRASTRUCTURE LIMITED\",\"B G SHIRKE CONSTRUCTION TECHNOLOGY PVT L TD\",\"JINDAL STEEL AND POWER LIMITED\",\"MKJ ENTERPRISES LIMITED\",\"DLF COMMERCIAL DEVELOPERS LIMITED\",\"UTKAL ALUMINA INTERNATIONAL LIMITED\",\"YASHODA SUPER SPECIALITY HOSPITAL\",\"BHARTI AIRTEL LIMITED\",\"MADANLAL LTD.\",\"KEVENTER FOODPARK INFRA LIMITED\",\"WESTERN UP POWER TRANSMISSION COMPANY LI MITED\",\"ESSEL MINING AND INDS LTD\",\"VEDANTA LIMITED\",\"HALDIA ENERGY LIMITED\",\"QWIKSUPPLYCHAINPRIVATELIMITED\",\"MEGHA ENGINEERING AND INFRASTRUCTURES LI MITED\",\"FUTURE GAMING AND HOTEL SERVICES PR\"],\"yaxis\":\"y\",\"type\":\"bar\",\"textfont\":{\"size\":12},\"cliponaxis\":false,\"textangle\":0}],                        {\"template\":{\"data\":{\"histogram2dcontour\":[{\"type\":\"histogram2dcontour\",\"colorbar\":{\"outlinewidth\":0,\"ticks\":\"\"},\"colorscale\":[[0.0,\"#0d0887\"],[0.1111111111111111,\"#46039f\"],[0.2222222222222222,\"#7201a8\"],[0.3333333333333333,\"#9c179e\"],[0.4444444444444444,\"#bd3786\"],[0.5555555555555556,\"#d8576b\"],[0.6666666666666666,\"#ed7953\"],[0.7777777777777778,\"#fb9f3a\"],[0.8888888888888888,\"#fdca26\"],[1.0,\"#f0f921\"]]}],\"choropleth\":[{\"type\":\"choropleth\",\"colorbar\":{\"outlinewidth\":0,\"ticks\":\"\"}}],\"histogram2d\":[{\"type\":\"histogram2d\",\"colorbar\":{\"outlinewidth\":0,\"ticks\":\"\"},\"colorscale\":[[0.0,\"#0d0887\"],[0.1111111111111111,\"#46039f\"],[0.2222222222222222,\"#7201a8\"],[0.3333333333333333,\"#9c179e\"],[0.4444444444444444,\"#bd3786\"],[0.5555555555555556,\"#d8576b\"],[0.6666666666666666,\"#ed7953\"],[0.7777777777777778,\"#fb9f3a\"],[0.8888888888888888,\"#fdca26\"],[1.0,\"#f0f921\"]]}],\"heatmap\":[{\"type\":\"heatmap\",\"colorbar\":{\"outlinewidth\":0,\"ticks\":\"\"},\"colorscale\":[[0.0,\"#0d0887\"],[0.1111111111111111,\"#46039f\"],[0.2222222222222222,\"#7201a8\"],[0.3333333333333333,\"#9c179e\"],[0.4444444444444444,\"#bd3786\"],[0.5555555555555556,\"#d8576b\"],[0.6666666666666666,\"#ed7953\"],[0.7777777777777778,\"#fb9f3a\"],[0.8888888888888888,\"#fdca26\"],[1.0,\"#f0f921\"]]}],\"heatmapgl\":[{\"type\":\"heatmapgl\",\"colorbar\":{\"outlinewidth\":0,\"ticks\":\"\"},\"colorscale\":[[0.0,\"#0d0887\"],[0.1111111111111111,\"#46039f\"],[0.2222222222222222,\"#7201a8\"],[0.3333333333333333,\"#9c179e\"],[0.4444444444444444,\"#bd3786\"],[0.5555555555555556,\"#d8576b\"],[0.6666666666666666,\"#ed7953\"],[0.7777777777777778,\"#fb9f3a\"],[0.8888888888888888,\"#fdca26\"],[1.0,\"#f0f921\"]]}],\"contourcarpet\":[{\"type\":\"contourcarpet\",\"colorbar\":{\"outlinewidth\":0,\"ticks\":\"\"}}],\"contour\":[{\"type\":\"contour\",\"colorbar\":{\"outlinewidth\":0,\"ticks\":\"\"},\"colorscale\":[[0.0,\"#0d0887\"],[0.1111111111111111,\"#46039f\"],[0.2222222222222222,\"#7201a8\"],[0.3333333333333333,\"#9c179e\"],[0.4444444444444444,\"#bd3786\"],[0.5555555555555556,\"#d8576b\"],[0.6666666666666666,\"#ed7953\"],[0.7777777777777778,\"#fb9f3a\"],[0.8888888888888888,\"#fdca26\"],[1.0,\"#f0f921\"]]}],\"surface\":[{\"type\":\"surface\",\"colorbar\":{\"outlinewidth\":0,\"ticks\":\"\"},\"colorscale\":[[0.0,\"#0d0887\"],[0.1111111111111111,\"#46039f\"],[0.2222222222222222,\"#7201a8\"],[0.3333333333333333,\"#9c179e\"],[0.4444444444444444,\"#bd3786\"],[0.5555555555555556,\"#d8576b\"],[0.6666666666666666,\"#ed7953\"],[0.7777777777777778,\"#fb9f3a\"],[0.8888888888888888,\"#fdca26\"],[1.0,\"#f0f921\"]]}],\"mesh3d\":[{\"type\":\"mesh3d\",\"colorbar\":{\"outlinewidth\":0,\"ticks\":\"\"}}],\"scatter\":[{\"fillpattern\":{\"fillmode\":\"overlay\",\"size\":10,\"solidity\":0.2},\"type\":\"scatter\"}],\"parcoords\":[{\"type\":\"parcoords\",\"line\":{\"colorbar\":{\"outlinewidth\":0,\"ticks\":\"\"}}}],\"scatterpolargl\":[{\"type\":\"scatterpolargl\",\"marker\":{\"colorbar\":{\"outlinewidth\":0,\"ticks\":\"\"}}}],\"bar\":[{\"error_x\":{\"color\":\"#2a3f5f\"},\"error_y\":{\"color\":\"#2a3f5f\"},\"marker\":{\"line\":{\"color\":\"#E5ECF6\",\"width\":0.5},\"pattern\":{\"fillmode\":\"overlay\",\"size\":10,\"solidity\":0.2}},\"type\":\"bar\"}],\"scattergeo\":[{\"type\":\"scattergeo\",\"marker\":{\"colorbar\":{\"outlinewidth\":0,\"ticks\":\"\"}}}],\"scatterpolar\":[{\"type\":\"scatterpolar\",\"marker\":{\"colorbar\":{\"outlinewidth\":0,\"ticks\":\"\"}}}],\"histogram\":[{\"marker\":{\"pattern\":{\"fillmode\":\"overlay\",\"size\":10,\"solidity\":0.2}},\"type\":\"histogram\"}],\"scattergl\":[{\"type\":\"scattergl\",\"marker\":{\"colorbar\":{\"outlinewidth\":0,\"ticks\":\"\"}}}],\"scatter3d\":[{\"type\":\"scatter3d\",\"line\":{\"colorbar\":{\"outlinewidth\":0,\"ticks\":\"\"}},\"marker\":{\"colorbar\":{\"outlinewidth\":0,\"ticks\":\"\"}}}],\"scattermapbox\":[{\"type\":\"scattermapbox\",\"marker\":{\"colorbar\":{\"outlinewidth\":0,\"ticks\":\"\"}}}],\"scatterternary\":[{\"type\":\"scatterternary\",\"marker\":{\"colorbar\":{\"outlinewidth\":0,\"ticks\":\"\"}}}],\"scattercarpet\":[{\"type\":\"scattercarpet\",\"marker\":{\"colorbar\":{\"outlinewidth\":0,\"ticks\":\"\"}}}],\"carpet\":[{\"aaxis\":{\"endlinecolor\":\"#2a3f5f\",\"gridcolor\":\"white\",\"linecolor\":\"white\",\"minorgridcolor\":\"white\",\"startlinecolor\":\"#2a3f5f\"},\"baxis\":{\"endlinecolor\":\"#2a3f5f\",\"gridcolor\":\"white\",\"linecolor\":\"white\",\"minorgridcolor\":\"white\",\"startlinecolor\":\"#2a3f5f\"},\"type\":\"carpet\"}],\"table\":[{\"cells\":{\"fill\":{\"color\":\"#EBF0F8\"},\"line\":{\"color\":\"white\"}},\"header\":{\"fill\":{\"color\":\"#C8D4E3\"},\"line\":{\"color\":\"white\"}},\"type\":\"table\"}],\"barpolar\":[{\"marker\":{\"line\":{\"color\":\"#E5ECF6\",\"width\":0.5},\"pattern\":{\"fillmode\":\"overlay\",\"size\":10,\"solidity\":0.2}},\"type\":\"barpolar\"}],\"pie\":[{\"automargin\":true,\"type\":\"pie\"}]},\"layout\":{\"autotypenumbers\":\"strict\",\"colorway\":[\"#636efa\",\"#EF553B\",\"#00cc96\",\"#ab63fa\",\"#FFA15A\",\"#19d3f3\",\"#FF6692\",\"#B6E880\",\"#FF97FF\",\"#FECB52\"],\"font\":{\"color\":\"#2a3f5f\"},\"hovermode\":\"closest\",\"hoverlabel\":{\"align\":\"left\"},\"paper_bgcolor\":\"white\",\"plot_bgcolor\":\"#E5ECF6\",\"polar\":{\"bgcolor\":\"#E5ECF6\",\"angularaxis\":{\"gridcolor\":\"white\",\"linecolor\":\"white\",\"ticks\":\"\"},\"radialaxis\":{\"gridcolor\":\"white\",\"linecolor\":\"white\",\"ticks\":\"\"}},\"ternary\":{\"bgcolor\":\"#E5ECF6\",\"aaxis\":{\"gridcolor\":\"white\",\"linecolor\":\"white\",\"ticks\":\"\"},\"baxis\":{\"gridcolor\":\"white\",\"linecolor\":\"white\",\"ticks\":\"\"},\"caxis\":{\"gridcolor\":\"white\",\"linecolor\":\"white\",\"ticks\":\"\"}},\"coloraxis\":{\"colorbar\":{\"outlinewidth\":0,\"ticks\":\"\"}},\"colorscale\":{\"sequential\":[[0.0,\"#0d0887\"],[0.1111111111111111,\"#46039f\"],[0.2222222222222222,\"#7201a8\"],[0.3333333333333333,\"#9c179e\"],[0.4444444444444444,\"#bd3786\"],[0.5555555555555556,\"#d8576b\"],[0.6666666666666666,\"#ed7953\"],[0.7777777777777778,\"#fb9f3a\"],[0.8888888888888888,\"#fdca26\"],[1.0,\"#f0f921\"]],\"sequentialminus\":[[0.0,\"#0d0887\"],[0.1111111111111111,\"#46039f\"],[0.2222222222222222,\"#7201a8\"],[0.3333333333333333,\"#9c179e\"],[0.4444444444444444,\"#bd3786\"],[0.5555555555555556,\"#d8576b\"],[0.6666666666666666,\"#ed7953\"],[0.7777777777777778,\"#fb9f3a\"],[0.8888888888888888,\"#fdca26\"],[1.0,\"#f0f921\"]],\"diverging\":[[0,\"#8e0152\"],[0.1,\"#c51b7d\"],[0.2,\"#de77ae\"],[0.3,\"#f1b6da\"],[0.4,\"#fde0ef\"],[0.5,\"#f7f7f7\"],[0.6,\"#e6f5d0\"],[0.7,\"#b8e186\"],[0.8,\"#7fbc41\"],[0.9,\"#4d9221\"],[1,\"#276419\"]]},\"xaxis\":{\"gridcolor\":\"white\",\"linecolor\":\"white\",\"ticks\":\"\",\"title\":{\"standoff\":15},\"zerolinecolor\":\"white\",\"automargin\":true,\"zerolinewidth\":2},\"yaxis\":{\"gridcolor\":\"white\",\"linecolor\":\"white\",\"ticks\":\"\",\"title\":{\"standoff\":15},\"zerolinecolor\":\"white\",\"automargin\":true,\"zerolinewidth\":2},\"scene\":{\"xaxis\":{\"backgroundcolor\":\"#E5ECF6\",\"gridcolor\":\"white\",\"linecolor\":\"white\",\"showbackground\":true,\"ticks\":\"\",\"zerolinecolor\":\"white\",\"gridwidth\":2},\"yaxis\":{\"backgroundcolor\":\"#E5ECF6\",\"gridcolor\":\"white\",\"linecolor\":\"white\",\"showbackground\":true,\"ticks\":\"\",\"zerolinecolor\":\"white\",\"gridwidth\":2},\"zaxis\":{\"backgroundcolor\":\"#E5ECF6\",\"gridcolor\":\"white\",\"linecolor\":\"white\",\"showbackground\":true,\"ticks\":\"\",\"zerolinecolor\":\"white\",\"gridwidth\":2}},\"shapedefaults\":{\"line\":{\"color\":\"#2a3f5f\"}},\"annotationdefaults\":{\"arrowcolor\":\"#2a3f5f\",\"arrowhead\":0,\"arrowwidth\":1},\"geo\":{\"bgcolor\":\"white\",\"landcolor\":\"#E5ECF6\",\"subunitcolor\":\"white\",\"showland\":true,\"showlakes\":true,\"lakecolor\":\"white\"},\"title\":{\"x\":0.05},\"mapbox\":{\"style\":\"light\"}}},\"xaxis\":{\"anchor\":\"y\",\"domain\":[0.0,1.0],\"title\":{\"text\":\"TotalAmount\"}},\"yaxis\":{\"anchor\":\"x\",\"domain\":[0.0,1.0],\"title\":{\"text\":\"PurchaserName\"}},\"coloraxis\":{\"colorbar\":{\"title\":{\"text\":\"TotalAmount\"}},\"colorscale\":[[0.0,\"#0d0887\"],[0.1111111111111111,\"#46039f\"],[0.2222222222222222,\"#7201a8\"],[0.3333333333333333,\"#9c179e\"],[0.4444444444444444,\"#bd3786\"],[0.5555555555555556,\"#d8576b\"],[0.6666666666666666,\"#ed7953\"],[0.7777777777777778,\"#fb9f3a\"],[0.8888888888888888,\"#fdca26\"],[1.0,\"#f0f921\"]]},\"legend\":{\"tracegroupgap\":0},\"title\":{\"text\":\"Top 50 Bonds Purchased Parties (Amount in Crores)\"},\"barmode\":\"stack\",\"uniformtext\":{\"minsize\":8,\"mode\":\"hide\"},\"height\":800,\"hovermode\":\"y unified\"},                        {\"responsive\": true}                    ).then(function(){\n",
              "                            \n",
              "var gd = document.getElementById('a5111804-9fb0-4984-b7fc-a9c2a0206cfd');\n",
              "var x = new MutationObserver(function (mutations, observer) {{\n",
              "        var display = window.getComputedStyle(gd).display;\n",
              "        if (!display || display === 'none') {{\n",
              "            console.log([gd, 'removed!']);\n",
              "            Plotly.purge(gd);\n",
              "            observer.disconnect();\n",
              "        }}\n",
              "}});\n",
              "\n",
              "// Listen for the removal of the full notebook cells\n",
              "var notebookContainer = gd.closest('#notebook-container');\n",
              "if (notebookContainer) {{\n",
              "    x.observe(notebookContainer, {childList: true});\n",
              "}}\n",
              "\n",
              "// Listen for the clearing of the current output cell\n",
              "var outputEl = gd.closest('.output');\n",
              "if (outputEl) {{\n",
              "    x.observe(outputEl, {childList: true});\n",
              "}}\n",
              "\n",
              "                        })                };                            </script>        </div>\n",
              "</body>\n",
              "</html>"
            ]
          },
          "metadata": {}
        }
      ]
    },
    {
      "cell_type": "code",
      "source": [
        "totalByYear_purchaser = purchaser_df.groupBy('PurchaserName', 'Year').agg(_sum('Denominations').alias('TotalAmountByYear')).orderBy('PurchaserName', 'Year', 'TotalAmountByYear')\n",
        "totalByYear_purchaser.show(5, truncate=False)"
      ],
      "metadata": {
        "colab": {
          "base_uri": "https://localhost:8080/"
        },
        "outputId": "3369131c-d0f0-4dad-f3b2-e2aa894e8fd8",
        "id": "9Z1p0MRK91tb"
      },
      "execution_count": 239,
      "outputs": [
        {
          "output_type": "stream",
          "name": "stdout",
          "text": [
            "+----------------------------------+----+-----------------+\n",
            "|PurchaserName                     |Year|TotalAmountByYear|\n",
            "+----------------------------------+----+-----------------+\n",
            "|14 REELS PLUS LLP                 |2022|1.0E7            |\n",
            "|A B C INDIA LIMITED               |2019|4000000.0        |\n",
            "|AAKANKSHA BAHETY                  |2022|1000000.0        |\n",
            "|AALAYA CONSTRUCTIONS              |2023|1.0E7            |\n",
            "|AARISH SOLAR POWER PRIVATE LIMITED|2023|2.0E7            |\n",
            "+----------------------------------+----+-----------------+\n",
            "only showing top 5 rows\n",
            "\n"
          ]
        }
      ]
    },
    {
      "cell_type": "code",
      "source": [
        "from dash import Dash, html, dcc, callback, Output, Input\n",
        "import plotly.express as px\n",
        "import pandas as pd\n",
        "\n",
        "totalByYearPD_purchasers = totalByYear_purchaser.toPandas()\n",
        "purchasrName = [row.PurchaserName for row in totalByYear_purchaser.select('PurchaserName').distinct().collect()]\n",
        "\n",
        "\n",
        "app = Dash(__name__)\n",
        "\n",
        "app.layout = html.Div([\n",
        "    html.H1(children='Total Purchased per Year', style={'textAlign': 'center', 'color': 'white'}),\n",
        "    dcc.Dropdown(\n",
        "        id='dropdown-selection',\n",
        "        options=[{'label': party, 'value': party} for party in totalByYearPD_purchasers['PurchaserName'].unique()],\n",
        "        value='FUTURE GAMING AND HOTEL SERVICES PR'\n",
        "    ),\n",
        "    dcc.Graph(id='graph-content')\n",
        "])\n",
        "\n",
        "@app.callback(\n",
        "    Output('graph-content', 'figure'),\n",
        "    [Input('dropdown-selection', 'value')]\n",
        ")\n",
        "def update_graph(value):\n",
        "    df = totalByYearPD_purchasers[totalByYearPD_purchasers['PurchaserName'] == value]\n",
        "    fig = px.bar(df, x='Year', y='TotalAmountByYear', color='TotalAmountByYear')\n",
        "    fig.update_xaxes(type='category')\n",
        "    fig.update_layout(bargap=0.3)\n",
        "\n",
        "    return fig\n",
        "\n",
        "if __name__ == '__main__':\n",
        "     app.run_server(mode='inline', host=\"0.0.0.0\", port=1005)\n"
      ],
      "metadata": {
        "colab": {
          "base_uri": "https://localhost:8080/",
          "height": 671
        },
        "outputId": "41c98766-85ee-48be-f5be-e72c7087d714",
        "id": "LzWw-hmM91tb"
      },
      "execution_count": 240,
      "outputs": [
        {
          "output_type": "display_data",
          "data": {
            "text/plain": [
              "<IPython.core.display.Javascript object>"
            ],
            "application/javascript": [
              "(async (port, path, width, height, cache, element) => {\n",
              "    if (!google.colab.kernel.accessAllowed && !cache) {\n",
              "      return;\n",
              "    }\n",
              "    element.appendChild(document.createTextNode(''));\n",
              "    const url = await google.colab.kernel.proxyPort(port, {cache});\n",
              "    const iframe = document.createElement('iframe');\n",
              "    iframe.src = new URL(path, url).toString();\n",
              "    iframe.height = height;\n",
              "    iframe.width = width;\n",
              "    iframe.style.border = 0;\n",
              "    iframe.allow = [\n",
              "        'accelerometer',\n",
              "        'autoplay',\n",
              "        'camera',\n",
              "        'clipboard-read',\n",
              "        'clipboard-write',\n",
              "        'gyroscope',\n",
              "        'magnetometer',\n",
              "        'microphone',\n",
              "        'serial',\n",
              "        'usb',\n",
              "        'xr-spatial-tracking',\n",
              "    ].join('; ');\n",
              "    element.appendChild(iframe);\n",
              "  })(1005, \"/\", \"100%\", 650, false, window.element)"
            ]
          },
          "metadata": {}
        }
      ]
    },
    {
      "cell_type": "markdown",
      "source": [
        "## Create combined data\n",
        "\n",
        "Join data based on bond number of purchaser information and enchaser information"
      ],
      "metadata": {
        "id": "yUdOzlZkj9Em"
      }
    },
    {
      "cell_type": "code",
      "source": [
        "enchaser_df.createOrReplaceTempView('edf')\n",
        "purchaser_df.createOrReplaceTempView('pdf')\n",
        "totalByYear_purchaser.createOrReplaceTempView('totalPruch')\n",
        "totalByYear_enchasers.createOrReplaceTempView('totalEnchas')"
      ],
      "metadata": {
        "id": "mNVjkFXxlxme"
      },
      "execution_count": 241,
      "outputs": []
    },
    {
      "cell_type": "markdown",
      "source": [
        "### Enchaser with no purchaser data"
      ],
      "metadata": {
        "id": "ecf68LZtQX6G"
      }
    },
    {
      "cell_type": "code",
      "source": [
        "enchaserWithNoPurch = spark.sql(\"\"\"select *\n",
        "                        -- edf.SrNo,\n",
        "                        -- EnchasedDate,\n",
        "                        -- EnchaserName,\n",
        "                        -- edf.Denominations,\n",
        "                        -- PurchasedDate,\n",
        "                        -- ExpiryDate,\n",
        "                        -- PurchaserName,\n",
        "                        -- Status,\n",
        "                        -- edf.BondNo\n",
        "                        from edf\n",
        "                        left join pdf on edf.bondno=pdf.bondno\"\"\")\n",
        "\n",
        "enchaserWithNoPurch.where('PurchasedDate is NULL').groupBy('EnchaserName', 'edf.Year').agg(_sum('edf.Denominations')).show(truncate=False)"
      ],
      "metadata": {
        "colab": {
          "base_uri": "https://localhost:8080/"
        },
        "id": "9ezHtEs8PgXf",
        "outputId": "a947cd6f-90d7-4b4b-e1df-de6ae50325f2"
      },
      "execution_count": 242,
      "outputs": [
        {
          "output_type": "stream",
          "name": "stdout",
          "text": [
            "+------------------------------------------------------------+----+----------------------+\n",
            "|EnchaserName                                                |Year|sum(edf.Denominations)|\n",
            "+------------------------------------------------------------+----+----------------------+\n",
            "|BHARATIYA JANATA PARTY                                      |2019|4.6631E9              |\n",
            "|ADYAKSHA SAMAJVADI PARTY                                    |2019|8400000.0             |\n",
            "|YSR  CONGRESS PARTY  (YUVAJANA SRAMIKA RYTHU CONGRESS PARTY)|2019|8.25E7                |\n",
            "|AAM AADMI PARTY                                             |2019|2000000.0             |\n",
            "|RASHTRIYA JANTA DAL                                         |2019|1.0E7                 |\n",
            "|BHARAT RASHTRA SAMITHI                                      |2019|2.355E8               |\n",
            "|BIHAR PRADESH JANTA DAL(UNITED)                             |2019|2.0E7                 |\n",
            "|ALL INDIA TRINAMOOL CONGRESS                                |2019|1.701E8               |\n",
            "|DRAVIDA MUNNETRA KAZHAGAM (DMK)                             |2019|7.0E7                 |\n",
            "|JHARKHAND MUKTI MORCHA                                      |2019|1.0E7                 |\n",
            "|ALL INDIA ANNA DRAVIDA MUNNETRA KAZHAGAM                    |2019|6.05E7                |\n",
            "|TELUGU DESAM PARTY                                          |2019|7.3E7                 |\n",
            "|NATIONALIST CONGRESS PARTY MAHARASHTRA PRADESH              |2019|2.5E7                 |\n",
            "|PRESIDENT, ALL INDIA CONGRESS COMMITTEE                     |2019|7.0771E8              |\n",
            "|SHIVSENA                                                    |2019|6.93E7                |\n",
            "|JANATA DAL ( SECULAR )                                      |2019|2.5E7                 |\n",
            "+------------------------------------------------------------+----+----------------------+\n",
            "\n"
          ]
        }
      ]
    },
    {
      "cell_type": "markdown",
      "source": [
        "### Purchaser with no enchaser data"
      ],
      "metadata": {
        "id": "gkoCJxx7Qegj"
      }
    },
    {
      "cell_type": "code",
      "source": [
        "enchaserWithNoPurch = spark.sql(\"\"\"select *\n",
        "                        -- edf.SrNo,\n",
        "                        -- EnchasedDate,\n",
        "                        -- EnchaserName,\n",
        "                        -- edf.Denominations,\n",
        "                        -- PurchasedDate,\n",
        "                        -- ExpiryDate,\n",
        "                        -- PurchaserName,\n",
        "                        -- Status,\n",
        "                        -- edf.BondNo\n",
        "                        from edf\n",
        "                        right join pdf on edf.bondno=pdf.bondno\"\"\")\n",
        "\n",
        "enchaserWithNoPurch.where('EnchasedDate is NULL')\\\n",
        "                    .groupBy('PurchaserName', 'pdf.Year').agg(_sum('pdf.Denominations').alias(\"TotalAmount\"))\\\n",
        "                    .orderBy(\"TotalAmount\", ascending=False).show(truncate=False)"
      ],
      "metadata": {
        "colab": {
          "base_uri": "https://localhost:8080/"
        },
        "id": "3PDqa1z3Qd_3",
        "outputId": "eb6377fe-1e25-4224-a2f5-60bc55ad53e3"
      },
      "execution_count": 243,
      "outputs": [
        {
          "output_type": "stream",
          "name": "stdout",
          "text": [
            "+------------------------------------------+----+-----------+\n",
            "|PurchaserName                             |Year|TotalAmount|\n",
            "+------------------------------------------+----+-----------+\n",
            "|FUTURE GAMING AND HOTEL SERVICES PR       |2022|3.0E7      |\n",
            "|ECL FINANCE LTD                           |2019|2.0E7      |\n",
            "|EDELWEISS RURAL   CORPORATE SERVICE       |2019|1.0E7      |\n",
            "|PACIFICA DEVELOPERS P LTD REFLECTIO       |2024|7500000.0  |\n",
            "|SYLVANUS BUILDERS AND DEVELOPERS LI       |2024|5000000.0  |\n",
            "|PACIFICA  INDIA  PROJECTS PVT LTD         |2024|5000000.0  |\n",
            "|C MACKERTICH PVT LTD                      |2019|4000000.0  |\n",
            "|VEDANTA LTD                               |2022|3000000.0  |\n",
            "|SUDHA COMMERCIAL COMPANY LTD              |2019|3000000.0  |\n",
            "|JUPITER MERCANTILES PVT LTD               |2019|2500000.0  |\n",
            "|UTKAL ALUMINA INTERNATIONAL LIMITED       |2019|2000000.0  |\n",
            "|V M SALGAOCAR CORPORATION PVT LTD         |2022|1000000.0  |\n",
            "|KEYSTONE REALTORS PVT LTD                 |2019|1000000.0  |\n",
            "|CHENNAMANAGATHIHALLI SOLAR POWER PROJECT  |2023|600000.0   |\n",
            "|BRINDABAN NASKAR                          |2023|500000.0   |\n",
            "|SAROJIT KUMAR DEY                         |2023|500000.0   |\n",
            "|DIPAN  P  SHAH                            |2023|300000.0   |\n",
            "|PRAKASH DISTILLERY & CHEMICAL CO (P) LT  D|2021|300000.0   |\n",
            "|RAKESH PRAVINCHANDRA SHAH                 |2023|100000.0   |\n",
            "|ANAND AGRAWAL                             |2023|25000.0    |\n",
            "+------------------------------------------+----+-----------+\n",
            "only showing top 20 rows\n",
            "\n"
          ]
        }
      ]
    },
    {
      "cell_type": "code",
      "source": [
        "joinData = spark.sql(\"\"\"select *\n",
        "                        -- edf.SrNo,\n",
        "                        -- EnchasedDate,\n",
        "                        -- EnchaserName,\n",
        "                        -- edf.Denominations,\n",
        "                        -- PurchasedDate,\n",
        "                        -- ExpiryDate,\n",
        "                        -- PurchaserName,\n",
        "                        -- Status,\n",
        "                        -- edf.BondNo\n",
        "                        from edf\n",
        "                        join pdf on edf.bondno=pdf.bondno\"\"\")\n",
        "\n",
        "joinData.show(5)"
      ],
      "metadata": {
        "id": "WrOWj67hxCbx",
        "colab": {
          "base_uri": "https://localhost:8080/"
        },
        "outputId": "4cc9d116-9b51-4720-8834-1c17393b0551"
      },
      "execution_count": 244,
      "outputs": [
        {
          "output_type": "stream",
          "name": "stdout",
          "text": [
            "+----+------------+--------------------+-------------+-------+---+-----+----+----+-------------+-----------+--------------------+-------------+------+-------+---+-----+----+\n",
            "|SrNo|EnchasedDate|        EnchaserName|Denominations| BondNo|Day|Month|Year|SrNo|PurchasedDate| ExpiryDate|       PurchaserName|Denominations|Status| BondNo|Day|Month|Year|\n",
            "+----+------------+--------------------+-------------+-------+---+-----+----+----+-------------+-----------+--------------------+-------------+------+-------+---+-----+----+\n",
            "| 874|  2019-04-16|BHARATIYA JANATA ...|        1.0E7|OC-5482| 16|    4|2019| 131|   2019-04-12|26/Apr/2019|MEGHA ENGINEERING...|        1.0E7|  Paid|OC-5482| 12|    4|2019|\n",
            "|1196|  2019-04-18|BHARATIYA JANATA ...|        1.0E7|OC-7052| 18|    4|2019| 188|   2019-04-12|26/Apr/2019|PHL FINIVEST PVT LTD|        1.0E7|  Paid|OC-7052| 12|    4|2019|\n",
            "|1209|  2019-04-18|BHARATIYA JANATA ...|        1.0E7|OC-6700| 18|    4|2019| 201|   2019-04-12|26/Apr/2019|PHL FINIVEST PVT LTD|        1.0E7|  Paid|OC-6700| 12|    4|2019|\n",
            "|1243|  2019-04-18|BHARATIYA JANATA ...|        1.0E7|OC-6685| 18|    4|2019| 235|   2019-04-12|26/Apr/2019|PIRAMAL CAPITAL A...|        1.0E7|  Paid|OC-6685| 12|    4|2019|\n",
            "|1822|  2019-04-20|BHARATIYA JANATA ...|        1.0E7|OC-7075| 20|    4|2019| 424|   2019-04-15|29/Apr/2019|SUN PHARMA LABORA...|        1.0E7|  Paid|OC-7075| 15|    4|2019|\n",
            "+----+------------+--------------------+-------------+-------+---+-----+----+----+-------------+-----------+--------------------+-------------+------+-------+---+-----+----+\n",
            "only showing top 5 rows\n",
            "\n"
          ]
        }
      ]
    },
    {
      "cell_type": "code",
      "source": [
        "# Lets create a column called date diff which means date difference in data of amount purhcased and enchased based on bond number\n",
        "\n",
        "joinData = joinData.withColumn(\"datadiff\", datediff(col('EnchasedDate'), col('PurchasedDate')))\n",
        "joinData.show(5)"
      ],
      "metadata": {
        "colab": {
          "base_uri": "https://localhost:8080/"
        },
        "id": "1oN4J8RmOaYC",
        "outputId": "a7b81169-4758-4e2a-e4d5-34bdec354e61"
      },
      "execution_count": 245,
      "outputs": [
        {
          "output_type": "stream",
          "name": "stdout",
          "text": [
            "+----+------------+--------------------+-------------+-------+---+-----+----+----+-------------+-----------+--------------------+-------------+------+-------+---+-----+----+--------+\n",
            "|SrNo|EnchasedDate|        EnchaserName|Denominations| BondNo|Day|Month|Year|SrNo|PurchasedDate| ExpiryDate|       PurchaserName|Denominations|Status| BondNo|Day|Month|Year|datadiff|\n",
            "+----+------------+--------------------+-------------+-------+---+-----+----+----+-------------+-----------+--------------------+-------------+------+-------+---+-----+----+--------+\n",
            "| 874|  2019-04-16|BHARATIYA JANATA ...|        1.0E7|OC-5482| 16|    4|2019| 131|   2019-04-12|26/Apr/2019|MEGHA ENGINEERING...|        1.0E7|  Paid|OC-5482| 12|    4|2019|       4|\n",
            "|1196|  2019-04-18|BHARATIYA JANATA ...|        1.0E7|OC-7052| 18|    4|2019| 188|   2019-04-12|26/Apr/2019|PHL FINIVEST PVT LTD|        1.0E7|  Paid|OC-7052| 12|    4|2019|       6|\n",
            "|1209|  2019-04-18|BHARATIYA JANATA ...|        1.0E7|OC-6700| 18|    4|2019| 201|   2019-04-12|26/Apr/2019|PHL FINIVEST PVT LTD|        1.0E7|  Paid|OC-6700| 12|    4|2019|       6|\n",
            "|1243|  2019-04-18|BHARATIYA JANATA ...|        1.0E7|OC-6685| 18|    4|2019| 235|   2019-04-12|26/Apr/2019|PIRAMAL CAPITAL A...|        1.0E7|  Paid|OC-6685| 12|    4|2019|       6|\n",
            "|1822|  2019-04-20|BHARATIYA JANATA ...|        1.0E7|OC-7075| 20|    4|2019| 424|   2019-04-15|29/Apr/2019|SUN PHARMA LABORA...|        1.0E7|  Paid|OC-7075| 15|    4|2019|       5|\n",
            "+----+------------+--------------------+-------------+-------+---+-----+----+----+-------------+-----------+--------------------+-------------+------+-------+---+-----+----+--------+\n",
            "only showing top 5 rows\n",
            "\n"
          ]
        }
      ]
    },
    {
      "cell_type": "markdown",
      "source": [
        "### Let find out Total amount based on with all enchaser and purchaser detail"
      ],
      "metadata": {
        "id": "r7MnVZK_nfVv"
      }
    },
    {
      "cell_type": "code",
      "source": [
        "joinData_party = joinData.groupBy('EnchaserName', 'edf.Year').agg(_sum('edf.Denominations').alias('TotalAmount')).orderBy('TotalAmount', ascending=False)\n",
        "joinData_party.show(5, truncate=False)"
      ],
      "metadata": {
        "colab": {
          "base_uri": "https://localhost:8080/"
        },
        "id": "nFkoQ2aG12IY",
        "outputId": "2cc94f97-13ed-4429-9813-5336d8580644"
      },
      "execution_count": 246,
      "outputs": [
        {
          "output_type": "stream",
          "name": "stdout",
          "text": [
            "+---------------------------------------+----+------------+\n",
            "|EnchaserName                           |Year|TotalAmount |\n",
            "+---------------------------------------+----+------------+\n",
            "|BHARATIYA JANATA PARTY                 |2022|1.7635499E10|\n",
            "|BHARATIYA JANATA PARTY                 |2023|1.6763261E10|\n",
            "|BHARATIYA JANATA PARTY                 |2019|1.5054401E10|\n",
            "|PRESIDENT, ALL INDIA CONGRESS COMMITTEE|2023|7.9337E9    |\n",
            "|ALL INDIA TRINAMOOL CONGRESS           |2023|5.624738E9  |\n",
            "+---------------------------------------+----+------------+\n",
            "only showing top 5 rows\n",
            "\n"
          ]
        }
      ]
    },
    {
      "cell_type": "code",
      "source": [
        "joinData_purch = joinData.groupBy('PurchaserName', 'pdf.Year').agg(_sum('pdf.Denominations').alias('TotalAmount')).orderBy('TotalAmount', ascending=False)\n",
        "joinData_purch.show(5, truncate=False)\n"
      ],
      "metadata": {
        "colab": {
          "base_uri": "https://localhost:8080/"
        },
        "id": "H4JvOZYInnKo",
        "outputId": "2cdfe172-e171-42d5-ddaf-87539e80aa0c"
      },
      "execution_count": 247,
      "outputs": [
        {
          "output_type": "stream",
          "name": "stdout",
          "text": [
            "+----------------------------------------------+----+-----------+\n",
            "|PurchaserName                                 |Year|TotalAmount|\n",
            "+----------------------------------------------+----+-----------+\n",
            "|MEGHA ENGINEERING AND INFRASTRUCTURES LI MITED|2023|4.15E9     |\n",
            "|FUTURE GAMING AND HOTEL SERVICES PR           |2022|4.02E9     |\n",
            "|QWIKSUPPLYCHAINPRIVATELIMITED                 |2022|3.6E9      |\n",
            "|FUTURE GAMING AND HOTEL SERVICES PR           |2021|3.34E9     |\n",
            "|FUTURE GAMING AND HOTEL SERVICES PR           |2023|2.56E9     |\n",
            "+----------------------------------------------+----+-----------+\n",
            "only showing top 5 rows\n",
            "\n"
          ]
        }
      ]
    },
    {
      "cell_type": "markdown",
      "source": [
        "### Amount given and received information\n",
        "Lets check who gave how much amount to the parties"
      ],
      "metadata": {
        "id": "H6ccw4XvUWuI"
      }
    },
    {
      "cell_type": "code",
      "source": [
        "joinData_party_purch = joinData.groupBy('EnchaserName', 'PurchaserName',).agg(_sum('edf.Denominations').alias('TotalAmount')).orderBy('TotalAmount', ascending=False)\n",
        "joinData_party_purch.show(truncate=False)\n"
      ],
      "metadata": {
        "colab": {
          "base_uri": "https://localhost:8080/"
        },
        "id": "uNHsSzDvli5Y",
        "outputId": "167e21ed-22f4-49c2-d972-bffbf1904b6b"
      },
      "execution_count": 248,
      "outputs": [
        {
          "output_type": "stream",
          "name": "stdout",
          "text": [
            "+------------------------------------------------------------+----------------------------------------------+-----------+\n",
            "|EnchaserName                                                |PurchaserName                                 |TotalAmount|\n",
            "+------------------------------------------------------------+----------------------------------------------+-----------+\n",
            "|BHARATIYA JANATA PARTY                                      |MEGHA ENGINEERING AND INFRASTRUCTURES LI MITED|5.19E9     |\n",
            "|DRAVIDA MUNNETRA KAZHAGAM (DMK)                             |FUTURE GAMING AND HOTEL SERVICES PR           |4.53E9     |\n",
            "|ALL INDIA TRINAMOOL CONGRESS                                |FUTURE GAMING AND HOTEL SERVICES PR           |4.35E9     |\n",
            "|BHARATIYA JANATA PARTY                                      |QWIKSUPPLYCHAINPRIVATELIMITED                 |3.75E9     |\n",
            "|ALL INDIA TRINAMOOL CONGRESS                                |HALDIA ENERGY LIMITED                         |2.81E9     |\n",
            "|BHARATIYA JANATA PARTY                                      |VEDANTA LIMITED                               |2.2665E9   |\n",
            "|BHARATIYA JANATA PARTY                                      |BHARTI AIRTEL LIMITED                         |1.83E9     |\n",
            "|BHARATIYA JANATA PARTY                                      |MADANLAL LTD.                                 |1.755E9    |\n",
            "|BIJU JANATA DAL                                             |ESSEL MINING AND INDS LTD                     |1.745E9    |\n",
            "|YSR  CONGRESS PARTY  (YUVAJANA SRAMIKA RYTHU CONGRESS PARTY)|FUTURE GAMING AND HOTEL SERVICES PR           |1.54E9     |\n",
            "|BHARAT RASHTRA SAMITHI                                      |MEGHA ENGINEERING AND INFRASTRUCTURES LI MITED|1.5E9      |\n",
            "|BHARATIYA JANATA PARTY                                      |KEVENTER FOODPARK INFRA LIMITED               |1.445E9    |\n",
            "|BHARATIYA JANATA PARTY                                      |DLF COMMERCIAL DEVELOPERS LIMITED             |1.3E9      |\n",
            "|PRESIDENT, ALL INDIA CONGRESS COMMITTEE                     |WESTERN UP POWER TRANSMISSION COMPANY LI MITED|1.1E9      |\n",
            "|BHARATIYA JANATA PARTY                                      |BIRLACARBONINDIAPRIVATELIMITED                |1.05E9     |\n",
            "|PRESIDENT, ALL INDIA CONGRESS COMMITTEE                     |VEDANTA LIMITED                               |1.04E9     |\n",
            "|BIJU JANATA DAL                                             |JINDAL STEEL AND POWER LIMITED                |1.0E9      |\n",
            "|BHARATIYA JANATA PARTY                                      |FUTURE GAMING AND HOTEL SERVICES PR           |1.0E9      |\n",
            "|BHARAT RASHTRA SAMITHI                                      |YASHODA SUPER SPECIALITY HOSPITAL             |9.4E8      |\n",
            "|ALL INDIA TRINAMOOL CONGRESS                                |DHARIWAL INFRASTRUCTURE LIMITED               |9.0E8      |\n",
            "+------------------------------------------------------------+----------------------------------------------+-----------+\n",
            "only showing top 20 rows\n",
            "\n"
          ]
        }
      ]
    },
    {
      "cell_type": "markdown",
      "source": [
        "Actual enchased, purchased amount and total enchased, purchased amount is not matching. so lets check on which year and for which purchaser or enchaser how much amount is missing."
      ],
      "metadata": {
        "id": "EjP4WrcyLvB3"
      }
    },
    {
      "cell_type": "markdown",
      "source": [
        "### Comparing Actual vs. Total Enchased Data\n",
        "\n",
        "We'll compare actual enchased amounts with total enchased amounts to identify discrepancies. This comparison helps detect missing enchased amount that doesnt have purchaser information and ensures data integrity."
      ],
      "metadata": {
        "id": "E7r4lHci1Hx3"
      }
    },
    {
      "cell_type": "code",
      "source": [
        "diffData_party = joinData_party.join(totalByYear_enchasers,\n",
        "                    (totalByYear_enchasers.EnchaserName == joinData_party.EnchaserName) &\n",
        "                    (totalByYear_enchasers.Year == joinData_party.Year),\n",
        "                    how=\"inner\")\n",
        "\n",
        "diffData_party = diffData_party.withColumnRenamed('TotalAmountByYear', 'TotalAmountActual') \\\n",
        "                               .withColumnRenamed('TotalAmount', 'TotalAmountWithPurchaserData')\n",
        "diffData_party = diffData_party.withColumn(\"DifferenceAmount\", abs(diffData_party.TotalAmountWithPurchaserData-diffData_party.TotalAmountActual))"
      ],
      "metadata": {
        "id": "kijGVr2W2IX0"
      },
      "execution_count": 249,
      "outputs": []
    },
    {
      "cell_type": "code",
      "source": [
        "diffData_party.select('edf.EnchaserName', 'edf.Year', 'TotalAmountWithPurchaserData', 'TotalAmountActual', 'DifferenceAmount').where('DifferenceAmount>0').show(truncate=False)\n"
      ],
      "metadata": {
        "colab": {
          "base_uri": "https://localhost:8080/"
        },
        "id": "t_U-MimvFohs",
        "outputId": "a1dda7e9-1113-495a-b364-251294df82d8"
      },
      "execution_count": 250,
      "outputs": [
        {
          "output_type": "stream",
          "name": "stdout",
          "text": [
            "+----------------------------------------------+----+----------------------------+-----------------+----------------+\n",
            "|EnchaserName                                  |Year|TotalAmountWithPurchaserData|TotalAmountActual|DifferenceAmount|\n",
            "+----------------------------------------------+----+----------------------------+-----------------+----------------+\n",
            "|BHARATIYA JANATA PARTY                        |2019|1.5054401E10                |1.9717501E10     |4.6631E9        |\n",
            "|ADYAKSHA SAMAJVADI PARTY                      |2019|1.0E8                       |1.084E8          |8400000.0       |\n",
            "|AAM AADMI PARTY                               |2019|2.0E7                       |2.2E7            |2000000.0       |\n",
            "|RASHTRIYA JANTA DAL                           |2019|1.5E7                       |2.5E7            |1.0E7           |\n",
            "|BHARAT RASHTRA SAMITHI                        |2019|1.36029E8                   |3.71529E8        |2.355E8         |\n",
            "|BIHAR PRADESH JANTA DAL(UNITED)               |2019|1.0E7                       |3.0E7            |2.0E7           |\n",
            "|ALL INDIA TRINAMOOL CONGRESS                  |2019|7.00846E8                   |8.70946E8        |1.701E8         |\n",
            "|DRAVIDA MUNNETRA KAZHAGAM (DMK)               |2019|2.0E7                       |9.0E7            |7.0E7           |\n",
            "|NATIONALIST CONGRESS PARTY MAHARASHTRA PRADESH|2019|1.3E8                       |1.55E8           |2.5E7           |\n",
            "|PRESIDENT, ALL INDIA CONGRESS COMMITTEE       |2019|9.954E8                     |1.70311E9        |7.0771E8        |\n",
            "|SHIVSENA                                      |2019|2.645E8                     |3.338E8          |6.93E7          |\n",
            "+----------------------------------------------+----+----------------------------+-----------------+----------------+\n",
            "\n"
          ]
        }
      ]
    },
    {
      "cell_type": "markdown",
      "source": [
        "### Comparing Actual vs. Total Purchased Data\n",
        "\n",
        "We'll compare actual purchased amounts with total purchased amounts to identify discrepancies. This comparison helps detect missing purchased amount that doesnt have enchaser information and ensures data integrity."
      ],
      "metadata": {
        "id": "I85qtCH8KUkv"
      }
    },
    {
      "cell_type": "code",
      "source": [
        "diffData_purch = joinData_purch.join(totalByYear_purchaser,\n",
        "                    (totalByYear_purchaser.PurchaserName == joinData_purch.PurchaserName) &\n",
        "                    (totalByYear_purchaser.Year == joinData_purch.Year),\n",
        "                    how=\"inner\")\n",
        "\n",
        "diffData_purch = diffData_purch.withColumnRenamed('TotalAmountByYear', 'TotalAmountActual') \\\n",
        "                               .withColumnRenamed('TotalAmount', 'TotalAmountWithEnchaserData')\n",
        "diffData_purch = diffData_purch.withColumn(\"DifferenceAmount\", abs(diffData_purch.TotalAmountWithEnchaserData-diffData_purch.TotalAmountActual))"
      ],
      "metadata": {
        "id": "2vKOpF2bLDld"
      },
      "execution_count": 251,
      "outputs": []
    },
    {
      "cell_type": "code",
      "source": [
        "diffData_purch.select('pdf.PurchaserName', 'pdf.Year', 'TotalAmountWithEnchaserData', 'TotalAmountActual', 'DifferenceAmount').where('DifferenceAmount>0').orderBy(\"PurchaserName\").show(truncate=False)"
      ],
      "metadata": {
        "colab": {
          "base_uri": "https://localhost:8080/"
        },
        "id": "tmuZnqO3GHVn",
        "outputId": "c353652c-2e9e-490f-e7f5-be4b09dda312"
      },
      "execution_count": 252,
      "outputs": [
        {
          "output_type": "stream",
          "name": "stdout",
          "text": [
            "+------------------------------------------+----+---------------------------+-----------------+----------------+\n",
            "|PurchaserName                             |Year|TotalAmountWithEnchaserData|TotalAmountActual|DifferenceAmount|\n",
            "+------------------------------------------+----+---------------------------+-----------------+----------------+\n",
            "|CHENNAMANAGATHIHALLI SOLAR POWER PROJECT  |2023|150000.0                   |750000.0         |600000.0        |\n",
            "|DIPAN  P  SHAH                            |2023|8500000.0                  |8800000.0        |300000.0        |\n",
            "|FUTURE GAMING AND HOTEL SERVICES PR       |2022|4.02E9                     |4.05E9           |3.0E7           |\n",
            "|KEYSTONE REALTORS PVT LTD                 |2019|4.9E7                      |5.0E7            |1000000.0       |\n",
            "|PRAKASH DISTILLERY & CHEMICAL CO (P) LT  D|2021|4780000.0                  |5080000.0        |300000.0        |\n",
            "|RAKESH PRAVINCHANDRA SHAH                 |2023|1.86E7                     |1.87E7           |100000.0        |\n",
            "|RAY CONSTRUCTIONS LTD                     |2021|6.5E7                      |6.5001E7         |1000.0          |\n",
            "|SAROJIT KUMAR DEY                         |2023|1.45E7                     |1.5E7            |500000.0        |\n",
            "|UTKAL ALUMINA INTERNATIONAL LIMITED       |2019|1000000.0                  |3000000.0        |2000000.0       |\n",
            "|V M SALGAOCAR CORPORATION PVT LTD         |2022|4.05E7                     |4.15E7           |1000000.0       |\n",
            "|VEDANTA LTD                               |2022|2.47E8                     |2.5E8            |3000000.0       |\n",
            "+------------------------------------------+----+---------------------------+-----------------+----------------+\n",
            "\n"
          ]
        }
      ]
    },
    {
      "cell_type": "markdown",
      "source": [
        "### Enchasers and their fund sources"
      ],
      "metadata": {
        "id": "Mj-vw843QJ1_"
      }
    },
    {
      "cell_type": "markdown",
      "source": [
        "#### TreeMap Chart"
      ],
      "metadata": {
        "id": "vHf3Op_sbIez"
      }
    },
    {
      "cell_type": "code",
      "source": [
        "from pyspark.sql.functions import col, sum as _sum\n",
        "from pyspark.sql import Window\n",
        "\n",
        "joinData_party_purch = joinData_party_purch.withColumn(\"PercentageShare\",\n",
        "      _sum('TotalAmount').over(Window.partitionBy(\"EnchaserName\", \"PurchaserName\")) / _sum('TotalAmount').over(Window.partitionBy(\"EnchaserName\"))*100)\\\n",
        "                                .orderBy(col(\"EnchaserName\").asc(), col(\"PercentageShare\").desc())\n",
        "\n",
        "joinData_party_purch.show(5, truncate=False)"
      ],
      "metadata": {
        "colab": {
          "base_uri": "https://localhost:8080/"
        },
        "id": "qeiYLt2SGLR0",
        "outputId": "fe7d2247-68a5-4c56-84cd-bfd2ee32945d"
      },
      "execution_count": 253,
      "outputs": [
        {
          "output_type": "stream",
          "name": "stdout",
          "text": [
            "+---------------+------------------------------+-----------+------------------+\n",
            "|EnchaserName   |PurchaserName                 |TotalAmount|PercentageShare   |\n",
            "+---------------+------------------------------+-----------+------------------+\n",
            "|AAM AADMI PARTY|AVEES TRADING FINANCE PVT LTD |1.0E8      |15.32567049808429 |\n",
            "|AAM AADMI PARTY|BAJAJ AUTO LTD                |8.0E7      |12.260536398467432|\n",
            "|AAM AADMI PARTY|TRANSWAYS EXIM PRIVATE LIMITED|7.0E7      |10.727969348659004|\n",
            "|AAM AADMI PARTY|MKJ ENTERPRISES LIMITED       |7.0E7      |10.727969348659004|\n",
            "|AAM AADMI PARTY|TORRENT  POWER  LIMITED       |5.0E7      |7.662835249042145 |\n",
            "+---------------+------------------------------+-----------+------------------+\n",
            "only showing top 5 rows\n",
            "\n"
          ]
        }
      ]
    },
    {
      "cell_type": "markdown",
      "source": [
        " Enchaser and their purchaser treemap"
      ],
      "metadata": {
        "id": "KS6Y4dYwQ2v-"
      }
    },
    {
      "cell_type": "code",
      "source": [
        "import plotly.express as px\n",
        "\n",
        "fig = px.treemap(joinData_party_purch.toPandas(),\n",
        "                 path=[px.Constant(\"Parties\"), 'EnchaserName', 'PurchaserName'],\n",
        "                 values='TotalAmount',\n",
        "                 color='TotalAmount',\n",
        "                 color_continuous_scale='RdBu')\n",
        "\n",
        "fig.update_traces(marker=dict(cornerradius=5),\n",
        "                  textinfo='label+value',\n",
        "                  hoverinfo='label+value+percent entry',\n",
        "                  textfont_size=10)\n",
        "\n",
        "fig.update_layout(margin=dict(t=50, l=25, r=25, b=25))\n",
        "\n",
        "fig.show()\n"
      ],
      "metadata": {
        "colab": {
          "base_uri": "https://localhost:8080/",
          "height": 542
        },
        "id": "-dO5cQ4PZPsQ",
        "outputId": "288a9693-1a51-4f12-f31a-d28eb6381246"
      },
      "execution_count": 254,
      "outputs": [
        {
          "output_type": "display_data",
          "data": {
            "text/html": [
              "<html>\n",
              "<head><meta charset=\"utf-8\" /></head>\n",
              "<body>\n",
              "    <div>            <script src=\"https://cdnjs.cloudflare.com/ajax/libs/mathjax/2.7.5/MathJax.js?config=TeX-AMS-MML_SVG\"></script><script type=\"text/javascript\">if (window.MathJax && window.MathJax.Hub && window.MathJax.Hub.Config) {window.MathJax.Hub.Config({SVG: {font: \"STIX-Web\"}});}</script>                <script type=\"text/javascript\">window.PlotlyConfig = {MathJaxConfig: 'local'};</script>\n",
              "        <script charset=\"utf-8\" src=\"https://cdn.plot.ly/plotly-2.24.1.min.js\"></script>                <div id=\"add080bd-fbab-4b7e-b149-f7fc52d72723\" class=\"plotly-graph-div\" style=\"height:525px; width:100%;\"></div>            <script type=\"text/javascript\">                                    window.PLOTLYENV=window.PLOTLYENV || {};                                    if (document.getElementById(\"add080bd-fbab-4b7e-b149-f7fc52d72723\")) {                    Plotly.newPlot(                        \"add080bd-fbab-4b7e-b149-f7fc52d72723\",                        [{\"branchvalues\":\"total\",\"customdata\":[[10000000.0],[4000000.0],[1000000.0],[10000000.0],[20000000.0],[10000000.0],[20000000.0],[3000000.0],[2000000.0],[5000000.0],[20000000.0],[5000000.0],[40000000.0],[10000000.0],[12000000.0],[85000000.0],[200000.0],[1000000.0],[400000.0],[1000000.0],[10500000.0],[32000000.0],[5000000.0],[100000000.0],[2500000.0],[100000000.0],[500000.0],[40000000.0],[10000000.0],[2500000.0],[10000000.0],[17500000.0],[3000000.0],[20000000.0],[25000000.0],[50000000.0],[30000000.0],[10000000.0],[40000000.0],[50000000.0],[25000000.0],[5000000.0],[200000.0],[150000000.0],[50000000.0],[500000.0],[102000000.0],[150000000.0],[10000000.0],[10000000.0],[20000000.0],[3000000.0],[1500000.0],[34000000.0],[1000000.0],[500000.0],[25000000.0],[20000000.0],[10000000.0],[10000000.0],[5000000.0],[7500000.0],[100000.0],[200000.0],[1500000.0],[100000.0],[300000.0],[75000.0],[800000.0],[1000000.0],[1000000.0],[20000000.0],[10000000.0],[20000000.0],[25000000.0],[2900000.0],[900000.0],[500000.0],[1300000.0],[20000000.0],[82000000.0],[5000000.0],[100000.0],[1000000.0],[300000.0],[10000000.0],[800000.0],[600000.0],[150000000.0],[150000000.0],[100000000.0],[100000000.0],[100000000.0],[100000000.0],[30000000.0],[10000000.0],[80000000.0],[150000000.0],[30000000.0],[1000.0],[5000000.0],[9000000.0],[40000000.0],[4000000.0],[50000000.0],[45000000.0],[10000000.0],[100000.0],[100000.0],[700000.0],[11000000.0],[30000000.0],[60000000.0],[30000000.0],[40000000.0],[1000000.0],[2000000.0],[600000.0],[30000000.0],[1000000.0],[100000.0],[200000.0],[2000000.0],[20000000.0],[50000000.0],[40000000.0],[10000000.0],[45000000.0],[5000000.0],[45000000.0],[50000000.0],[50000000.0],[20000000.0],[300000.0],[60000000.0],[90000000.0],[70000000.0],[20000000.0],[100000000.0],[700000.0],[50000000.0],[150000000.0],[315000000.0],[25000000.0],[30000000.0],[13000000.0],[4000000.0],[250000000.0],[240000000.0],[30000000.0],[100000000.0],[215000000.0],[10000000.0],[530000000.0],[1000000.0],[1000000.0],[30000000.0],[14000000.0],[50000000.0],[30000000.0],[300000.0],[300000000.0],[20000000.0],[850000000.0],[1000000.0],[10000000.0],[10000000.0],[10000000.0],[50000000.0],[80000000.0],[100000000.0],[200000000.0],[100000000.0],[10000000.0],[20000000.0],[45000000.0],[15000000.0],[40000000.0],[100000000.0],[60000000.0],[4000000.0],[5000000.0],[5000000.0],[7200000.0],[200000.0],[2500000.0],[2000000.0],[150000.0],[10000000.0],[113210000.0],[10000000.0],[20000000.0],[30000000.0],[40000000.0],[10000000.0],[25000000.0],[40000000.0],[100000000.0],[10000000.0],[5000000.0],[10000000.0],[768000.0],[10000000.0],[10000000.0],[600000.0],[100000000.0],[1830000000.0],[144000000.0],[5000000.0],[1000000.0],[20000000.0],[10000000.0],[80000000.0],[10000000.0],[370000000.0],[10000000.0],[500000.0],[50000.0],[500000.0],[25000000.0],[1000000.0],[400000.0],[1000000.0],[2000000.0],[500000.0],[50000000.0],[50000000.0],[100000000.0],[20000000.0],[1050000000.0],[20000000.0],[1000000.0],[10000000.0],[200000000.0],[50000000.0],[20000000.0],[2000000.0],[900000.0],[26000000.0],[10000000.0],[10000000.0],[5000000.0],[50000000.0],[100000000.0],[2000000.0],[15000000.0],[3500000.0],[6000000.0],[2500000.0],[2500000.0],[50000000.0],[10000000.0],[55000000.0],[10000000.0],[70000000.0],[20000000.0],[25000000.0],[20000000.0],[32500000.0],[20000000.0],[30000000.0],[20000000.0],[6500000.0],[68000000.0],[7000000.0],[8500000.0],[60000000.0],[10000000.0],[200000.0],[6000000.0],[3000000.0],[9000000.0],[5000000.0],[500000.0],[150000.0],[200000000.0],[100000000.0],[2000000.0],[10000000.0],[400000000.0],[500000000.0],[150000000.0],[150000.0],[10000000.0],[20000000.0],[2000000.0],[50000000.0],[10000000.0],[2000000.0],[12000000.0],[3000000.0],[5000000.0],[300000000.0],[22000000.0],[70000000.0],[3500000.0],[9500000.0],[25000000.0],[80000000.0],[2500000.0],[9600000.0],[330000000.0],[10000000.0],[20000000.0],[15000000.0],[12500000.0],[10000000.0],[200000.0],[10000000.0],[55000000.0],[100000000.0],[7500000.0],[30000000.0],[30000000.0],[50000000.0],[50000000.0],[10000000.0],[2000000.0],[20000000.0],[25000000.0],[50000000.0],[25000000.0],[50000000.0],[50000000.0],[3000000.0],[2000000.0],[100000.0],[300000.0],[600000.0],[5000000.0],[500000.0],[1000000.0],[500000.0],[50000000.0],[50000000.0],[15000000.0],[10000000.0],[10000000.0],[10000000.0],[10000000.0],[5000000.0],[10000000.0],[1268000.0],[20000000.0],[500000.0],[3000000.0],[7000000.0],[900000000.0],[250000000.0],[1000000.0],[620000.0],[1500000.0],[150000000.0],[20000000.0],[1915000.0],[30000000.0],[300000.0],[500000.0],[5500000.0],[150000000.0],[5000000.0],[30000000.0],[8500000.0],[6000000.0],[200000000.0],[300000000.0],[50000000.0],[7000000.0],[5000000.0],[10000000.0],[10000000.0],[10000000.0],[10000000.0],[20000000.0],[2500000.0],[1300000000.0],[150000000.0],[250000000.0],[10000000.0],[8000000.0],[10000000.0],[30000000.0],[1000000.0],[2000000.0],[2500000.0],[320000000.0],[240000000.0],[140000000.0],[100000000.0],[2800000.0],[2200000.0],[10000000.0],[40000000.0],[10000000.0],[20000000.0],[10000000.0],[20000000.0],[20000000.0],[5000000.0],[100000000.0],[100000000.0],[500000000.0],[1745000000.0],[5000000.0],[150000000.0],[2000000.0],[50000000.0],[60000000.0],[7000000.0],[50000000.0],[5000000.0],[50000000.0],[50000000.0],[180000000.0],[20000000.0],[3800000.0],[10000000.0],[63500000.0],[10000000.0],[5000000.0],[2000000.0],[10000000.0],[20000000.0],[4350000000.0],[1000000000.0],[4530000000.0],[500000000.0],[50000000.0],[80000000.0],[1540000000.0],[450000000.0],[500000000.0],[620000000.0],[30000000.0],[50000000.0],[500000.0],[4000000.0],[50000000.0],[40000000.0],[50000000.0],[31000000.0],[5000000.0],[60000000.0],[4000000.0],[5000000.0],[800000.0],[10000000.0],[10000000.0],[15000000.0],[1000000.0],[20000000.0],[30000000.0],[50000000.0],[255000000.0],[50000000.0],[30000000.0],[250000.0],[750000.0],[5000000.0],[60000000.0],[97500000.0],[1000000.0],[1000000.0],[1000000.0],[2000000.0],[1000000.0],[20000000.0],[75000000.0],[25000000.0],[50000000.0],[30000000.0],[10000000.0],[10000000.0],[3000000.0],[2000000.0],[30000.0],[500000.0],[500000.0],[1000000.0],[30000000.0],[230000000.0],[100000000.0],[100000.0],[20000000.0],[50000000.0],[10000000.0],[30000000.0],[80000000.0],[10000000.0],[50000000.0],[20000000.0],[30000000.0],[10000000.0],[10000000.0],[20000000.0],[30000000.0],[10000000.0],[100000000.0],[20000000.0],[500000.0],[2000000.0],[2000000.0],[20000000.0],[50000000.0],[50000000.0],[2500000.0],[2810000000.0],[810000000.0],[150000000.0],[40000000.0],[10000000.0],[90000000.0],[500000.0],[10000000.0],[768000.0],[4000000.0],[4000000.0],[100000000.0],[200000.0],[100000.0],[125000000.0],[2000000.0],[45000000.0],[5000000.0],[700000.0],[55000000.0],[40000000.0],[20000000.0],[200000000.0],[200000000.0],[20000000.0],[50000000.0],[300000000.0],[200000000.0],[50000000.0],[150000000.0],[50000000.0],[3000000.0],[13000000.0],[7000000.0],[112000000.0],[1000000.0],[2000000.0],[14000000.0],[1500000.0],[200000.0],[10000000.0],[50000000.0],[125000000.0],[50000000.0],[2000000.0],[10000000.0],[3000000.0],[4500000.0],[2500000.0],[300000000.0],[50000000.0],[200000000.0],[40000000.0],[9500000.0],[2000000.0],[10000000.0],[10000000.0],[60000000.0],[40000000.0],[420000000.0],[63000000.0],[50000000.0],[350000000.0],[50000000.0],[140000000.0],[60000000.0],[1000000.0],[39900000.0],[2000000.0],[50000000.0],[50000000.0],[1950000.0],[1950000.0],[90000000.0],[600000000.0],[50000000.0],[150000000.0],[100000000.0],[40000000.0],[2500000.0],[50000000.0],[100000000.0],[100000000.0],[40000000.0],[10000000.0],[200000000.0],[110000000.0],[50000000.0],[200000000.0],[15000000.0],[100000000.0],[35000000.0],[30000000.0],[250000000.0],[160000000.0],[500000.0],[1200000.0],[49546000.0],[16029000.0],[10000000.0],[10000000.0],[50000000.0],[50000000.0],[7500000.0],[100000000.0],[105000000.0],[40000000.0],[4000000.0],[5000000.0],[6300000.0],[9000000.0],[3500000.0],[500000.0],[3300000.0],[100000.0],[12500000.0],[90000000.0],[10000000.0],[30000000.0],[5000000.0],[270000000.0],[20000000.0],[300000000.0],[30000000.0],[1000000000.0],[200000000.0],[9990000.0],[140000000.0],[5000000.0],[30000000.0],[20000000.0],[25000000.0],[10000000.0],[500000.0],[200000.0],[10000000.0],[1000000.0],[104000000.0],[1500000.0],[2500000.0],[50000000.0],[2000000.0],[5000000.0],[25000000.0],[4000000.0],[2000000.0],[250000000.0],[180000000.0],[20000000.0],[10000000.0],[35000000.0],[255000000.0],[25000000.0],[3000000.0],[20000000.0],[15000000.0],[2000000.0],[500000.0],[60000000.0],[70000000.0],[10000000.0],[50000000.0],[115000000.0],[10000000.0],[20000000.0],[10000000.0],[900000.0],[1500000.0],[5000000.0],[140000000.0],[100000000.0],[30000000.0],[2000000.0],[50000000.0],[110000000.0],[40000000.0],[100000000.0],[200000000.0],[1445000000.0],[200000000.0],[5000000.0],[30000000.0],[6000000.0],[13000000.0],[20000000.0],[2500000.0],[40000000.0],[10000000.0],[10000000.0],[20000000.0],[1100000.0],[3000000.0],[25000000.0],[1000000.0],[2000000.0],[90000000.0],[160000000.0],[2000000.0],[10000000.0],[100000000.0],[45000000.0],[1990000.0],[500000.0],[200000000.0],[2000000.0],[30000000.0],[3000000.0],[1500000.0],[40000000.0],[10000000.0],[220000000.0],[20000000.0],[30000000.0],[350000000.0],[5000000.0],[50000000.0],[25000000.0],[20000000.0],[400000000.0],[27050000.0],[1400000.0],[7100000.0],[12100000.0],[24400000.0],[250000000.0],[315000000.0],[1000000.0],[4000000.0],[10000000.0],[10000000.0],[2000000.0],[1990000.0],[45000000.0],[30000000.0],[10000000.0],[200000000.0],[20000000.0],[20000000.0],[180000000.0],[3830000.0],[1500000.0],[33000000.0],[5000000.0],[2100000.0],[5000000.0],[23000000.0],[20000000.0],[35000000.0],[75000000.0],[4000000.0],[1000000.0],[140000000.0],[200000000.0],[50000000.0],[2000000.0],[1755000000.0],[100000000.0],[200000.0],[2500000.0],[60000000.0],[30000000.0],[35000000.0],[15000000.0],[25000000.0],[10000000.0],[25000000.0],[3000000.0],[2500000.0],[5000000.0],[250000000.0],[20000000.0],[5000000.0],[400000.0],[200000.0],[400000.0],[1000000.0],[5000000.0],[2000000.0],[240000000.0],[6000000.0],[450000.0],[12000000.0],[10000000.0],[20000000.0],[20000000.0],[10000000.0],[1436000.0],[50000000.0],[5006000.0],[30000000.0],[23000000.0],[200000000.0],[50000000.0],[6000000.0],[18000000.0],[450000000.0],[50000000.0],[250000000.0],[1500000000.0],[5190000000.0],[600000000.0],[40000000.0],[50000000.0],[180000000.0],[280000000.0],[370000000.0],[600000000.0],[100000000.0],[5000000.0],[2500000.0],[90000000.0],[70000000.0],[60000000.0],[30000000.0],[10000000.0],[5000000.0],[10000000.0],[4500000.0],[1000000.0],[140000000.0],[10000000.0],[70000000.0],[185000000.0],[100000000.0],[125000000.0],[100000000.0],[10000000.0],[693500000.0],[274000000.0],[144200000.0],[222500000.0],[50000000.0],[50000000.0],[25000000.0],[50000000.0],[50000000.0],[20000000.0],[60000000.0],[400000000.0],[140000000.0],[20000000.0],[2500000.0],[50000000.0],[70000000.0],[66500000.0],[20000000.0],[10000000.0],[5000000.0],[500000.0],[1500000.0],[1000000.0],[500000.0],[19900000.0],[1000000.0],[20000000.0],[500000.0],[3000000.0],[4000000.0],[3000000.0],[4000000.0],[1000000.0],[900000.0],[500000.0],[1000000.0],[7500000.0],[1000000.0],[1000000.0],[1000000.0],[500000.0],[1000000.0],[16000000.0],[450000000.0],[1000000.0],[100000000.0],[20000000.0],[200000000.0],[60000000.0],[10000000.0],[30000000.0],[25000000.0],[600000.0],[1500000.0],[9000000.0],[30000000.0],[30000000.0],[150000000.0],[50000000.0],[45000000.0],[1500000.0],[10000000.0],[100000000.0],[30000000.0],[50000000.0],[50000000.0],[5000000.0],[3000000.0],[20000000.0],[61800000.0],[5000000.0],[10000000.0],[100000000.0],[300000.0],[200000.0],[40000000.0],[5500000.0],[100000000.0],[20000000.0],[100000000.0],[130000000.0],[50000000.0],[122500000.0],[140000000.0],[30000000.0],[5000000.0],[2000000.0],[40000000.0],[200000.0],[450000000.0],[100000000.0],[600000000.0],[300000.0],[300000.0],[250000.0],[1000000.0],[30000000.0],[350000000.0],[500000.0],[500000.0],[20000000.0],[7500000.0],[1500000.0],[2000000.0],[30000000.0],[130000000.0],[20000000.0],[4000000.0],[250000.0],[2500000.0],[500000.0],[3200000.0],[16500000.0],[12000000.0],[50000000.0],[50000000.0],[195000000.0],[30000000.0],[70000000.0],[20000000.0],[15000000.0],[1000000.0],[30000000.0],[10000000.0],[3000000.0],[55000000.0],[15000000.0],[20000000.0],[6000000.0],[30000000.0],[15000000.0],[40000000.0],[6000000.0],[50000000.0],[100000000.0],[80000000.0],[170000000.0],[170000000.0],[400000.0],[5000000.0],[20000000.0],[32500000.0],[10000000.0],[900000.0],[500000.0],[2000000.0],[200000.0],[10000000.0],[10000000.0],[1500000.0],[2500000.0],[5000000.0],[60000000.0],[10000000.0],[5000000.0],[300000.0],[400000000.0],[50000000.0],[500000.0],[100000000.0],[275000000.0],[30000000.0],[10000000.0],[1800000.0],[50000000.0],[100000000.0],[200000000.0],[400000000.0],[100000000.0],[250000000.0],[100000000.0],[30000000.0],[2400000.0],[7500000.0],[400000.0],[300000.0],[500000.0],[100000000.0],[30000000.0],[5000000.0],[20000000.0],[10000000.0],[150000.0],[35000000.0],[200000.0],[30000000.0],[16580000.0],[8000000.0],[1200000.0],[500000.0],[300000.0],[1000000.0],[7500000.0],[380000000.0],[330000000.0],[50000000.0],[20000000.0],[30000000.0],[43000000.0],[250000000.0],[1000000.0],[7500000.0],[20000000.0],[1000000.0],[5000000.0],[15000000.0],[20000000.0],[1500000.0],[1500000.0],[2500000.0],[2500000.0],[1000000.0],[1000000.0],[500000.0],[700000.0],[10000000.0],[900000.0],[50000000.0],[50000000.0],[50000000.0],[50000000.0],[50000000.0],[50000000.0],[50000000.0],[50000000.0],[50000000.0],[12500000.0],[2500000.0],[4500000.0],[100000000.0],[50000000.0],[50000000.0],[10000000.0],[80000000.0],[25000000.0],[20000000.0],[10000000.0],[30000000.0],[20000000.0],[25000000.0],[25000000.0],[7500000.0],[20000000.0],[5000000.0],[10000000.0],[5000000.0],[3750000000.0],[100000000.0],[250000000.0],[25000000.0],[5000000.0],[7500000.0],[8800000.0],[4000000.0],[20000000.0],[200000.0],[200000.0],[1300000.0],[25000000.0],[10000000.0],[500000.0],[50000000.0],[1504000.0],[20000000.0],[25000000.0],[100000.0],[162000000.0],[38000000.0],[300000.0],[100000.0],[400000.0],[400000.0],[100000000.0],[400000.0],[10001000.0],[500000.0],[50000000.0],[200000000.0],[30000000.0],[2000000.0],[1000000.0],[2000000.0],[100000.0],[700000.0],[800000.0],[2000000.0],[20000000.0],[50000000.0],[50000000.0],[30000000.0],[700000.0],[1000000.0],[100000.0],[1000000.0],[100000000.0],[2500000.0],[18600000.0],[2000000.0],[200000.0],[15000000.0],[300000.0],[7200000.0],[2000000.0],[200000.0],[20000000.0],[1915000.0],[2500000.0],[3000000.0],[7500000.0],[70000000.0],[20000000.0],[15000000.0],[10000000.0],[15000000.0],[20000000.0],[185000000.0],[450000000.0],[270000000.0],[10000000.0],[768000.0],[25000000.0],[15000000.0],[35000000.0],[3000000.0],[10000000.0],[300000.0],[800000.0],[5000000.0],[1000000.0],[165000000.0],[10000000.0],[10000000.0],[50000000.0],[110000000.0],[17500000.0],[10000000.0],[50000000.0],[50000000.0],[500000.0],[5000000.0],[10000000.0],[15000000.0],[15000000.0],[85000000.0],[30000000.0],[1300000.0],[20000000.0],[5000000.0],[4000000.0],[31000000.0],[2500000.0],[20000000.0],[3400000.0],[3000000.0],[100000000.0],[300000000.0],[50000000.0],[5000000.0],[150000.0],[2500000.0],[5000000.0],[5000000.0],[10000000.0],[50000000.0],[30000000.0],[30000000.0],[20000000.0],[100000.0],[500000000.0],[500000000.0],[1000000.0],[1600000.0],[170000000.0],[5000000.0],[1000000.0],[1000000.0],[1000000.0],[1000000.0],[10000000.0],[7500000.0],[100000000.0],[350000000.0],[5000000.0],[5000000.0],[5000000.0],[5000000.0],[5000000.0],[10000000.0],[1000000.0],[2000000.0],[5000000.0],[1500000.0],[50000000.0],[2500000.0],[3000000.0],[3000000.0],[4000000.0],[2500000.0],[2500000.0],[70000000.0],[10000000.0],[20000000.0],[1250000.0],[40000.0],[1000000.0],[130000000.0],[500000.0],[1000000.0],[1000000.0],[300000.0],[1500000.0],[2000000.0],[1000000.0],[100000.0],[300000.0],[100000.0],[20000000.0],[1000000.0],[2833000.0],[6000000.0],[50000000.0],[1000000.0],[1000000.0],[3000000.0],[1000000.0],[20000000.0],[28600000.0],[5000000.0],[25000000.0],[50000000.0],[390000000.0],[120000000.0],[7500000.0],[100000000.0],[500000.0],[70000000.0],[3500000.0],[2500000.0],[1000000.0],[2000000.0],[10000000.0],[20000000.0],[20000000.0],[20000000.0],[20000000.0],[20000000.0],[100000000.0],[50000000.0],[100000000.0],[77000000.0],[1000000.0],[14000000.0],[5000000.0],[10000000.0],[50000000.0],[300000000.0],[50000000.0],[22500000.0],[7500000.0],[15000000.0],[1000000.0],[30000000.0],[50000000.0],[50000000.0],[10000000.0],[1368000.0],[400000000.0],[100000.0],[8500000.0],[3500000.0],[10000000.0],[5000000.0],[15000000.0],[10000000.0],[40000000.0],[10000000.0],[7500000.0],[7500000.0],[1000000.0],[10000000.0],[10000000.0],[20000000.0],[5000000.0],[140000000.0],[100000000.0],[500000.0],[5000000.0],[2000000.0],[5000000.0],[30000000.0],[2000000.0],[15000000.0],[2500000.0],[10000000.0],[1500000.0],[220000000.0],[2500000.0],[5000000.0],[30000000.0],[4000000.0],[3000000.0],[12000000.0],[20000000.0],[25000000.0],[5000000.0],[400000.0],[20000000.0],[50000000.0],[30000000.0],[50000000.0],[1500000.0],[10000000.0],[20000000.0],[30000000.0],[10000000.0],[10000000.0],[10000000.0],[100000000.0],[20000000.0],[100000.0],[30000000.0],[10000000.0],[10000000.0],[10000000.0],[50000000.0],[20000000.0],[2000000.0],[2688000.0],[35000000.0],[15000000.0],[25000000.0],[4000000.0],[6500000.0],[50000000.0],[30000000.0],[10000000.0],[500000.0],[800000.0],[10000000.0],[3000000.0],[10000000.0],[50000000.0],[10000000.0],[10000000.0],[20000000.0],[83300000.0],[35500000.0],[10000000.0],[9000000.0],[500000000.0],[100000000.0],[1000000.0],[900000.0],[1990000.0],[100000000.0],[2000000.0],[14900000.0],[10000000.0],[10000000.0],[30000000.0],[5000000.0],[45000000.0],[52000000.0],[100000.0],[50000000.0],[2000000.0],[300000.0],[500000.0],[2500000.0],[400000.0],[8500000.0],[5000000.0],[500000.0],[30000000.0],[40000000.0],[40000000.0],[200000000.0],[115000000.0],[20000000.0],[10000000.0],[500000.0],[5000000.0],[15000000.0],[2500000.0],[4000000.0],[100000000.0],[1000000.0],[10000000.0],[20000000.0],[850000.0],[10000000.0],[1450000.0],[10000000.0],[350000000.0],[50000000.0],[500000.0],[12500000.0],[10000000.0],[20000000.0],[100000000.0],[30000000.0],[200000.0],[10000000.0],[120000000.0],[10000000.0],[30000000.0],[56000000.0],[500000.0],[40000000.0],[10000000.0],[15000000.0],[50000000.0],[10000000.0],[10000000.0],[8700000.0],[20000000.0],[200000000.0],[150000000.0],[9000000.0],[50000000.0],[20000000.0],[20000000.0],[10000000.0],[10000000.0],[40000000.0],[78000000.0],[250000000.0],[50000000.0],[240000000.0],[56000000.0],[15000000.0],[12500000.0],[30000000.0],[50000000.0],[30000000.0],[600000.0],[70000000.0],[5000000.0],[50000000.0],[580000000.0],[35000000.0],[170000000.0],[30000000.0],[10000000.0],[290000000.0],[50000000.0],[30000000.0],[320000000.0],[5000000.0],[70000000.0],[20000000.0],[180000000.0],[10000000.0],[70000000.0],[193000000.0],[152000000.0],[18000000.0],[1000000.0],[6000000.0],[30000000.0],[2484000.0],[50000000.0],[20000000.0],[50000000.0],[10000000.0],[35000000.0],[40000000.0],[1000000.0],[160000000.0],[100000000.0],[120000000.0],[30000000.0],[100000000.0],[100000000.0],[40000000.0],[5000000.0],[5000000.0],[80000000.0],[500000000.0],[11000000.0],[100000000.0],[5000000.0],[2500000.0],[100000000.0],[750000000.0],[600000000.0],[1000000.0],[100000000.0],[500000.0],[10000000.0],[1000000.0],[250000.0],[2500000.0],[3000000.0],[9000000.0],[3000000.0],[3000000.0],[1500000.0],[22000000.0],[1500000.0],[3500000.0],[1000000.0],[8000000.0],[90000000.0],[200000.0],[10000000.0],[8500000.0],[10000000.0],[2500000.0],[30000000.0],[30000000.0],[10000000.0],[3500000.0],[3000000.0],[5000000.0],[30000000.0],[10000000.0],[5000000.0],[170000000.0],[7500000.0],[20000000.0],[50000000.0],[500000.0],[10000000.0],[17500000.0],[2266500000.0],[400000000.0],[50000000.0],[1040000000.0],[2000000.0],[35000000.0],[210000000.0],[50000000.0],[5000000.0],[55000000.0],[10000000.0],[2000000.0],[7000000.0],[40000000.0],[4800000.0],[5000000.0],[20000000.0],[1000000.0],[50000000.0],[10000000.0],[10000000.0],[30000.0],[35000000.0],[15000000.0],[20000000.0],[200000.0],[800000.0],[500000.0],[700000.0],[500000.0],[500000.0],[50000000.0],[800000.0],[100000.0],[1200000.0],[1500000.0],[1500000.0],[200000.0],[400000.0],[1000000.0],[20000000.0],[600000.0],[2500000.0],[2500000.0],[5000000.0],[10000000.0],[100000.0],[20000000.0],[50000000.0],[200000.0],[1000000.0],[700000.0],[20000000.0],[2000000.0],[1000000.0],[4000000.0],[5000000.0],[10000.0],[70000000.0],[130000000.0],[90000000.0],[50000000.0],[100000000.0],[30000000.0],[100000000.0],[50000000.0],[800000000.0],[100000000.0],[1100000000.0],[200000000.0],[154000000.0],[80000000.0],[51000000.0],[2500000.0],[100000000.0],[100000000.0],[20000000.0],[30000000.0],[70000000.0],[150000000.0],[10000000.0],[940000000.0],[20000000.0],[640000000.0],[10000000.0],[30000000.0],[55000000.0],[100000.0],[5000000.0],[700000.0],[1000000.0],[20000000.0],[30000000.0],[30000000.0],[10000000.0],[20000000.0],[180000000.0],[30000000.0],[80000000.0],[53085440.61302682],[82546631.33989403],[1851572174.3431513],[391241814.31401443],[1211444570.9779184],[85000000.0],[721339909.7356545],[3356827531.64557],[1785714.2857142857],[5000000.0],[68095238.09523809],[70487804.87804878],[31900000.0],[2954545.4545454546],[52135087.71929824],[353619947.8811438],[189716358.62068966],[36931865.013774104],[521928725.7630957],[45909090.90909091],[67739726.02739726],[167329586.91747802],[806989563.4980989],[1132833172.3206136]],\"domain\":{\"x\":[0.0,1.0],\"y\":[0.0,1.0]},\"hovertemplate\":\"labels=%{label}\\u003cbr\\u003eTotalAmount_sum=%{value}\\u003cbr\\u003eparent=%{parent}\\u003cbr\\u003eid=%{id}\\u003cbr\\u003eTotalAmount=%{color}\\u003cextra\\u003e\\u003c\\u002fextra\\u003e\",\"ids\":[\"Parties\\u002fBHARAT RASHTRA SAMITHI\\u002f14 REELS PLUS LLP\",\"Parties\\u002fBHARATIYA JANATA PARTY\\u002fA B C INDIA LIMITED\",\"Parties\\u002fPRESIDENT, ALL INDIA CONGRESS COMMITTEE\\u002fAAKANKSHA BAHETY\",\"Parties\\u002fBHARAT RASHTRA SAMITHI\\u002fAALAYA CONSTRUCTIONS\",\"Parties\\u002fYSR  CONGRESS PARTY  (YUVAJANA SRAMIKA RYTHU CONGRESS PARTY)\\u002fAARISH SOLAR POWER PRIVATE LIMITED\",\"Parties\\u002fYSR  CONGRESS PARTY  (YUVAJANA SRAMIKA RYTHU CONGRESS PARTY)\\u002fAASHMAN ENERGY PRIVATE LIMITED\",\"Parties\\u002fBHARAT RASHTRA SAMITHI\\u002fAASHMAN ENERGY PVT LTD\",\"Parties\\u002fAAM AADMI PARTY\\u002fAAYTEE LOGISTICS PRIVATE LIMITED\",\"Parties\\u002fPRESIDENT, ALL INDIA CONGRESS COMMITTEE\\u002fABHAY SHUKLA\",\"Parties\\u002fALL INDIA TRINAMOOL CONGRESS\\u002fABHIJIT INTERNATIONAL\",\"Parties\\u002fBHARATIYA JANATA PARTY\\u002fABHIJIT INTERNATIONAL\",\"Parties\\u002fPRESIDENT, ALL INDIA CONGRESS COMMITTEE\\u002fABHIJIT INTERNATIONAL\",\"Parties\\u002fALL INDIA TRINAMOOL CONGRESS\\u002fABHINANDANSTOCKBROKINGPVTLTD\",\"Parties\\u002fBHARAT RASHTRA SAMITHI\\u002fABHINANDANSTOCKBROKINGPVTLTD\",\"Parties\\u002fBIJU JANATA DAL\\u002fABHINANDANSTOCKBROKINGPVTLTD\",\"Parties\\u002fPRESIDENT, ALL INDIA CONGRESS COMMITTEE\\u002fABHINANDANSTOCKBROKINGPVTLTD\",\"Parties\\u002fPRESIDENT, ALL INDIA CONGRESS COMMITTEE\\u002fABHINAV JAIN\",\"Parties\\u002fAAM AADMI PARTY\\u002fABHISHEK KAUSHIK\",\"Parties\\u002fBHARATIYA JANATA PARTY\\u002fABHISHEK RATHI\",\"Parties\\u002fPRESIDENT, ALL INDIA CONGRESS COMMITTEE\\u002fABHISHEK TIBREWAL\",\"Parties\\u002fALL INDIA TRINAMOOL CONGRESS\\u002fABHRAJIT MITRA\",\"Parties\\u002fPRESIDENT, ALL INDIA CONGRESS COMMITTEE\\u002fABHRAJIT MITRA\",\"Parties\\u002fBHARATIYA JANATA PARTY\\u002fABIS AGROTECH PVT LTD\",\"Parties\\u002fBHARATIYA JANATA PARTY\\u002fABNLINVESTMENTLIMITED\",\"Parties\\u002fBHARATIYA JANATA PARTY\\u002fACE COMERCIAL COMPANY PRIVATE LIMITED\",\"Parties\\u002fBHARATIYA JANATA PARTY\\u002fACE URBAN DEVELOPERS PVT LTD\",\"Parties\\u002fPRESIDENT, ALL INDIA CONGRESS COMMITTEE\\u002fACHINT MAHESHWARI\",\"Parties\\u002fBHARAT RASHTRA SAMITHI\\u002fACHINTYA SOLAR POWER PRIVATE LIMITED\",\"Parties\\u002fYSR  CONGRESS PARTY  (YUVAJANA SRAMIKA RYTHU CONGRESS PARTY)\\u002fACHINTYA SOLAR POWER PVT LTD\",\"Parties\\u002fALL INDIA TRINAMOOL CONGRESS\\u002fACROPOLIS MAINTENANCE SERVICES PRIVATE LIMITED\",\"Parties\\u002fBHARATIYA JANATA PARTY\\u002fADIT BUILD WELL PVT LTD\",\"Parties\\u002fBHARATIYA JANATA PARTY\\u002fADITYA KUMAR GARG\",\"Parties\\u002fPRESIDENT, ALL INDIA CONGRESS COMMITTEE\\u002fAGARWAL  M BISHAN\",\"Parties\\u002fTELUGU DESAM PARTY\\u002fAIC VMR PROJECTS PVT LTD\",\"Parties\\u002fBHARATIYA JANATA PARTY\\u002fAIS DISTRIBUTION\",\"Parties\\u002fBHARATIYA JANATA PARTY\\u002fAISHWARYA BUSINESS CORPORATION PVT, LTD\",\"Parties\\u002fBHARATIYA JANATA PARTY\\u002fAJANTA PHARMA LTD\",\"Parties\\u002fPRESIDENT, ALL INDIA CONGRESS COMMITTEE\\u002fAJANTA PHARMA LTD\",\"Parties\\u002fBHARATIYA JANATA PARTY\\u002fAJAY GUPTA\",\"Parties\\u002fBHARATIYA JANATA PARTY\\u002fAJAY METALLOYS PVT LTD\",\"Parties\\u002fPRESIDENT, ALL INDIA CONGRESS COMMITTEE\\u002fAJAY METALLOYS PVT LTD\",\"Parties\\u002fPRESIDENT, ALL INDIA CONGRESS COMMITTEE\\u002fAJAY SARAF\",\"Parties\\u002fPRESIDENT, ALL INDIA CONGRESS COMMITTEE\\u002fAJIT KUMAR JAIN\",\"Parties\\u002fBHARATIYA JANATA PARTY\\u002fAKSENTT TECH SERVICES LIMITED (UNITY TEL ECOM INFRASTRUCTURE)\",\"Parties\\u002fBHARAT RASHTRA SAMITHI\\u002fAKSHAT GREENTECH PRIVATE LIMITED\",\"Parties\\u002fBHARAT RASHTRA SAMITHI\\u002fALA RAMANJANEYULU\",\"Parties\\u002fBHARATIYA JANATA PARTY\\u002fALEMBICPHARMACEUTICALSLINCLRTGS\",\"Parties\\u002fBHARATIYA JANATA PARTY\\u002fALKEM LABORATORIES LIMITED\",\"Parties\\u002fSHIVSENA\\u002fALLANA COLD STORAGE\",\"Parties\\u002fBHARATIYA JANATA PARTY\\u002fALLANASONS PRIVATE L\",\"Parties\\u002fSHIVSENA\\u002fALLANASONS PRIVATE L\",\"Parties\\u002fALL INDIA TRINAMOOL CONGRESS\\u002fALMIGHTY FINANCE AND INVESTMENT P\",\"Parties\\u002fPRESIDENT, ALL INDIA CONGRESS COMMITTEE\\u002fALOK KUMAR SOMANI\",\"Parties\\u002fBHARATIYA JANATA PARTY\\u002fALOK NARAYAN PANDEY\",\"Parties\\u002fALL INDIA TRINAMOOL CONGRESS\\u002fAMAN  JAISWAL\",\"Parties\\u002fBHARAT RASHTRA SAMITHI\\u002fAMAR KRISHNA SAJJA\",\"Parties\\u002fPRESIDENT, ALL INDIA CONGRESS COMMITTEE\\u002fAMAR SECURITIES PVT LTD\",\"Parties\\u002fTELUGU DESAM PARTY\\u002fAMARAVATI TEKSYSTEMS PRIVATE LIMITE\",\"Parties\\u002fNATIONALIST CONGRESS PARTY MAHARASHTRA PRADESH\\u002fAMBUJA HOUSING AND URBAN INFRASTRUCTURE  CO. LTD.\",\"Parties\\u002fALL INDIA TRINAMOOL CONGRESS\\u002fAMBUJA REALTY EVENTS MANAGMENT LTD\",\"Parties\\u002fNATIONALIST CONGRESS PARTY MAHARASHTRA PRADESH\\u002fAMBUJA REALTY EVENTS MANAGMENT LTD\",\"Parties\\u002fBHARATIYA JANATA PARTY\\u002fAMD ENGINEERING CONSULTANTS\",\"Parties\\u002fPRESIDENT, ALL INDIA CONGRESS COMMITTEE\\u002fAMIT AGARWAL\",\"Parties\\u002fPRESIDENT, ALL INDIA CONGRESS COMMITTEE\\u002fAMIT GUPTA\",\"Parties\\u002fPRESIDENT, ALL INDIA CONGRESS COMMITTEE\\u002fAMIT SOMANI\",\"Parties\\u002fBHARATIYA JANATA PARTY\\u002fAMRITA AGARWAL\",\"Parties\\u002fPRESIDENT, ALL INDIA CONGRESS COMMITTEE\\u002fAMRITA AGARWAL\",\"Parties\\u002fPRESIDENT, ALL INDIA CONGRESS COMMITTEE\\u002fANAND AGARWAL\",\"Parties\\u002fPRESIDENT, ALL INDIA CONGRESS COMMITTEE\\u002fANAND PIMPARKAR\",\"Parties\\u002fAAM AADMI PARTY\\u002fANAND SAKHARAM PIMPARKAR\",\"Parties\\u002fALL INDIA TRINAMOOL CONGRESS\\u002fANAND SAKHARAM PIMPARKAR\",\"Parties\\u002fPRESIDENT, ALL INDIA CONGRESS COMMITTEE\\u002fANANT UDYOG LLP\",\"Parties\\u002fBHARAT RASHTRA SAMITHI\\u002fANANTPURA WIND ENERGIES PVT LTD\",\"Parties\\u002fBHARAT RASHTRA SAMITHI\\u002fANBEE CONSTRUCTIONS LLP\",\"Parties\\u002fPRESIDENT, ALL INDIA CONGRESS COMMITTEE\\u002fANBEE CONSTRUCTIONS LLP\",\"Parties\\u002fBHARATIYA JANATA PARTY\\u002fANGEL FIBERS LIMITED\",\"Parties\\u002fBHARATIYA JANATA PARTY\\u002fANIL CHANDAK\",\"Parties\\u002fPRESIDENT, ALL INDIA CONGRESS COMMITTEE\\u002fANIL KUMAR KEDIA\",\"Parties\\u002fPRESIDENT, ALL INDIA CONGRESS COMMITTEE\\u002fANIL KUMAR MALAWAT\",\"Parties\\u002fYSR  CONGRESS PARTY  (YUVAJANA SRAMIKA RYTHU CONGRESS PARTY)\\u002fANIMALA WIND POWER PRIVATE LIMITED\",\"Parties\\u002fBHARATIYA JANATA PARTY\\u002fANITA HEMANT SHAH\",\"Parties\\u002fPRESIDENT, ALL INDIA CONGRESS COMMITTEE\\u002fANJANI ROADLINES\",\"Parties\\u002fPRESIDENT, ALL INDIA CONGRESS COMMITTEE\\u002fANKIT AGARWAL\",\"Parties\\u002fPRESIDENT, ALL INDIA CONGRESS COMMITTEE\\u002fANKIT BAHETY\",\"Parties\\u002fBHARATIYA JANATA PARTY\\u002fANSHUL GADIA\",\"Parties\\u002fBHARATIYA JANATA PARTY\\u002fANTIQUE INDIA PRIVATE LIMITED\",\"Parties\\u002fBHARATIYA JANATA PARTY\\u002fANUBHAV CHANDAK\",\"Parties\\u002fPRESIDENT, ALL INDIA CONGRESS COMMITTEE\\u002fANUJ KUMAR JAIN\",\"Parties\\u002fBHARAT RASHTRA SAMITHI\\u002fAPARNA FARMS AND ESTATES LLP\",\"Parties\\u002fPRESIDENT, ALL INDIA CONGRESS COMMITTEE\\u002fAPARNA FARMS AND ESTATES LLP\",\"Parties\\u002fBHARATIYA JANATA PARTY\\u002fAPCO INFRATECH PRIVATE LIMITED\",\"Parties\\u002fBHARATIYA JANATA PARTY\\u002fAPCO INFRATECH PRIVATE LTD\",\"Parties\\u002fBHARATIYA JANATA PARTY\\u002fAPCO INFRATECH PVT LTD  FORMERLY AP\",\"Parties\\u002fBHARATIYA JANATA PARTY\\u002fAPL HEALTHCARE LIMITED\",\"Parties\\u002fPRESIDENT, ALL INDIA CONGRESS COMMITTEE\\u002fAPOLLO TYRES LIMITED\",\"Parties\\u002fPRESIDENT, ALL INDIA CONGRESS COMMITTEE\\u002fAPOLLO VINTRADE PVT LTD\",\"Parties\\u002fBHARAT RASHTRA SAMITHI\\u002fAQ SQUARE REALTORS PRIVATE LIMITED\",\"Parties\\u002fBHARAT RASHTRA SAMITHI\\u002fAQUA SPACE DEVELOPERS PRIVATE LIMIT\",\"Parties\\u002fPRESIDENT, ALL INDIA CONGRESS COMMITTEE\\u002fARAVALI TECHNICAL SERVICES PVT LTD\",\"Parties\\u002fBHARATIYA JANATA PARTY\\u002fARAVIND S\",\"Parties\\u002fAAM AADMI PARTY\\u002fARCEDGES BUILDING INDIA LLP\",\"Parties\\u002fALL INDIA TRINAMOOL CONGRESS\\u002fARCHANA PROPERTIES  P LTD\",\"Parties\\u002fBIJU JANATA DAL\\u002fARDENT STEEL LIMITED\",\"Parties\\u002fBHARATIYA JANATA PARTY\\u002fARIHANT ENTERPRISES\",\"Parties\\u002fBHARATIYA JANATA PARTY\\u002fARIZONAGLOBALSERVICESPVTLTDBR\",\"Parties\\u002fALL INDIA TRINAMOOL CONGRESS\\u002fARROW PROJECTS PVT LTD\",\"Parties\\u002fPRESIDENT, ALL INDIA CONGRESS COMMITTEE\\u002fARS COATED STEEL\",\"Parties\\u002fALL INDIA TRINAMOOL CONGRESS\\u002fARUN  KUMAR GANERIWALA\",\"Parties\\u002fALL INDIA TRINAMOOL CONGRESS\\u002fARUN KUMAR GANERIWALA\",\"Parties\\u002fPRESIDENT, ALL INDIA CONGRESS COMMITTEE\\u002fARUN KUMAR JOSHI\",\"Parties\\u002fALL INDIA TRINAMOOL CONGRESS\\u002fARUNANGSHU MUKHERJEE\",\"Parties\\u002fBHARATIYA JANATA PARTY\\u002fARVIND  LIMITED\",\"Parties\\u002fBHARATIYA JANATA PARTY\\u002fARVIND LIMITED\",\"Parties\\u002fBHARATIYA JANATA PARTY\\u002fARVINDBEAUTYBRANDSRETAILPVTLTD\",\"Parties\\u002fBHARATIYA JANATA PARTY\\u002fARVINDINFRACONLLP\",\"Parties\\u002fAAM AADMI PARTY\\u002fASHISH AGARWAL\",\"Parties\\u002fBHARAT RASHTRA SAMITHI\\u002fASHISH JAIN\",\"Parties\\u002fBHARAT RASHTRA SAMITHI\\u002fASHISH KHANDELWAL\",\"Parties\\u002fPRESIDENT, ALL INDIA CONGRESS COMMITTEE\\u002fASHOK                                    KUMAR MODI\",\"Parties\\u002fPRESIDENT, ALL INDIA CONGRESS COMMITTEE\\u002fASHOK CHOUDHARY\",\"Parties\\u002fALL INDIA TRINAMOOL CONGRESS\\u002fASHOK DALMIA\",\"Parties\\u002fPRESIDENT, ALL INDIA CONGRESS COMMITTEE\\u002fASHOK DALMIA\",\"Parties\\u002fAAM AADMI PARTY\\u002fASHOK KUMAR\",\"Parties\\u002fPRESIDENT, ALL INDIA CONGRESS COMMITTEE\\u002fASHOK PATNI\",\"Parties\\u002fBHARATIYA JANATA PARTY\\u002fASHOKA  MUDHOL NIPANI ROADS LIMITED\",\"Parties\\u002fBHARATIYA JANATA PARTY\\u002fASHOKA BAGEWADI SAUNDATTI ROAD LIMITED\",\"Parties\\u002fBHARATIYA JANATA PARTY\\u002fASHOKA DEVELOPERS\",\"Parties\\u002fBHARATIYA JANATA PARTY\\u002fASHOKA HUNGUND TALIKOT ROAD LTD\",\"Parties\\u002fBHARATIYA JANATA PARTY\\u002fASHUTOSH JYOTIPRASAD TAPARIA\",\"Parties\\u002fBHARAT RASHTRA SAMITHI\\u002fASIAN AGRI GENETICS LIMITED\",\"Parties\\u002fAAM AADMI PARTY\\u002fASIAN TRADING CORPORATION LIMITED\",\"Parties\\u002fALL INDIA TRINAMOOL CONGRESS\\u002fASISH FINANCE PRIVATE LIMITED\",\"Parties\\u002fPRESIDENT, ALL INDIA CONGRESS COMMITTEE\\u002fASISH FINANCE PRIVATE LIMITED\",\"Parties\\u002fALL INDIA TRINAMOOL CONGRESS\\u002fASISH RAHA\",\"Parties\\u002fALL INDIA TRINAMOOL CONGRESS\\u002fASKUS LOGISTICS PRIV\",\"Parties\\u002fRASHTRIYA JANTA DAL\\u002fASKUS LOGISTICS PRIVATE LIMITED\",\"Parties\\u002fDRAVIDA MUNNETRA KAZHAGAM (DMK)\\u002fASKUS LOGISTICS PVT LTD\",\"Parties\\u002fBHARATIYA JANATA PARTY\\u002fASSOCIATED ALCOHOLS  BREWERIES LIMI\",\"Parties\\u002fBHARATIYA JANATA PARTY\\u002fATHENA INFRASTRUCTURE LIMITED\",\"Parties\\u002fPRESIDENT, ALL INDIA CONGRESS COMMITTEE\\u002fATUL KUMAR SINGH\",\"Parties\\u002fBHARATIYA JANATA PARTY\\u002fAUGMONT ENTERPRISES PRIVATE LIMITED\",\"Parties\\u002fBHARAT RASHTRA SAMITHI\\u002fAUROBINDO PHARMA LIMITED\",\"Parties\\u002fBHARATIYA JANATA PARTY\\u002fAUROBINDO PHARMA LIMITED\",\"Parties\\u002fTELUGU DESAM PARTY\\u002fAUROBINDO PHARMA LIMITED\",\"Parties\\u002fBHARATIYA JANATA PARTY\\u002fAUROBINDO PHARMA LTD\",\"Parties\\u002fALL INDIA TRINAMOOL CONGRESS\\u002fAUSTIN PLYWOOD PRIVATE LIMITED FORMERLY  B S PROGRESSIVE PVT\",\"Parties\\u002fPRESIDENT, ALL INDIA CONGRESS COMMITTEE\\u002fAUSTIN PLYWOOD PRIVATE LIMITED FORMERLY  B S PROGRESSIVE PVT\",\"Parties\\u002fBHARATIYA JANATA PARTY\\u002fAUTHUM INVESTMENT AND INFRASTRUCTURE LTD\",\"Parties\\u002fALL INDIA TRINAMOOL CONGRESS\\u002fAVEES TRADING & FINANCE PVT LTD\",\"Parties\\u002fBIJU JANATA DAL\\u002fAVEES TRADING AND FINANCE PVT LTD\",\"Parties\\u002fAAM AADMI PARTY\\u002fAVEES TRADING FINANCE PVT LTD\",\"Parties\\u002fALL INDIA TRINAMOOL CONGRESS\\u002fAVEES TRADING FINANCE PVT LTD\",\"Parties\\u002fBHARATIYA JANATA PARTY\\u002fAVEES TRADING FINANCE PVT LTD\",\"Parties\\u002fPRESIDENT, ALL INDIA CONGRESS COMMITTEE\\u002fAVEES TRADING FINANCE PVT LTD\",\"Parties\\u002fPRESIDENT, ALL INDIA CONGRESS COMMITTEE\\u002fAVIGHNA MEDITECH SOLUTIONS PVT LTD\",\"Parties\\u002fPRESIDENT, ALL INDIA CONGRESS COMMITTEE\\u002fAVIGHNA SOLUTIONS\",\"Parties\\u002fPRESIDENT, ALL INDIA CONGRESS COMMITTEE\\u002fAVINASH MODI\",\"Parties\\u002fAAM AADMI PARTY\\u002fAVON CYCLES LTD\",\"Parties\\u002fBHARAT RASHTRA SAMITHI\\u002fAXIS CLINICALS LIMITED\",\"Parties\\u002fYSR  CONGRESS PARTY  (YUVAJANA SRAMIKA RYTHU CONGRESS PARTY)\\u002fAXIS WIND FARMS (MPR DAM) PRIVATE L\",\"Parties\\u002fPRESIDENT, ALL INDIA CONGRESS COMMITTEE\\u002fAYUSH JAIN\",\"Parties\\u002fBHARATIYA JANATA PARTY\\u002fB G SHIRKE CONSTRUCTION TECHNOLOGY PVT L TD\",\"Parties\\u002fPRESIDENT, ALL INDIA CONGRESS COMMITTEE\\u002fB G SHIRKE CONSTRUCTION TECHNOLOGY PVT L TD\",\"Parties\\u002fSHIVSENA\\u002fB G SHIRKE CONSTRUCTION TECHNOLOGY PVT L TD\",\"Parties\\u002fALL INDIA TRINAMOOL CONGRESS\\u002fB M A MERCHANDISE LLP\",\"Parties\\u002fALL INDIA TRINAMOOL CONGRESS\\u002fB.DAS AND ASSOCIATES PVT. LTD.\",\"Parties\\u002fBHARATIYA JANATA PARTY\\u002fB2C CONSULTING LLP\",\"Parties\\u002fALL INDIA TRINAMOOL CONGRESS\\u002fBAGDOGRA REALTORS PVT LTD\",\"Parties\\u002fBHARATIYA JANATA PARTY\\u002fBAIN GLOBAL RESOURCES LLP\",\"Parties\\u002fAAM AADMI PARTY\\u002fBAJAJ AUTO LTD\",\"Parties\\u002fBHARATIYA JANATA PARTY\\u002fBAJAJ AUTO LTD\",\"Parties\\u002fBHARATIYA JANATA PARTY\\u002fBAJAJ FINANCE LTD\",\"Parties\\u002fBHARATIYA JANATA PARTY\\u002fBAJAJ HOLDINGS & INVESTMENT LIMITED\",\"Parties\\u002fBHARAT RASHTRA SAMITHI\\u002fBALAJI  REAL ESTATE VENTURES PVT LT\",\"Parties\\u002fBHARATIYA JANATA PARTY\\u002fBALRAMPUR CHINI MILLS LTD\",\"Parties\\u002fBHARATIYA JANATA PARTY\\u002fBALU CEMENT CORPORATION\",\"Parties\\u002fBIJU JANATA DAL\\u002fBALU CEMENT CORPORATION\",\"Parties\\u002fBHARATIYA JANATA PARTY\\u002fBALU IRON & STEEL COMPANY\",\"Parties\\u002fBHARATIYA JANATA PARTY\\u002fBALU IRON AND STEEL COMPANY\",\"Parties\\u002fBIJU JANATA DAL\\u002fBALU IRON AND STEEL COMPANY\",\"Parties\\u002fPRESIDENT, ALL INDIA CONGRESS COMMITTEE\\u002fBANGUR SHREE\",\"Parties\\u002fPRESIDENT, ALL INDIA CONGRESS COMMITTEE\\u002fBANSAL BUSINESS PRIVATE LIMITED\",\"Parties\\u002fALL INDIA TRINAMOOL CONGRESS\\u002fBANSAL UDYOG PRIVATE\",\"Parties\\u002fPRESIDENT, ALL INDIA CONGRESS COMMITTEE\\u002fBANSHIDHAR VYAPAAR PVT LTD\",\"Parties\\u002fBHARATIYA JANATA PARTY\\u002fBAPPADITYA ROY\",\"Parties\\u002fBHARATIYA JANATA PARTY\\u002fBAPUNA ALCOBREW PRIVATE LIMITED\",\"Parties\\u002fBHARAT RASHTRA SAMITHI\\u002fBASANT GAJANAND LAKHOTIYA\",\"Parties\\u002fPRESIDENT, ALL INDIA CONGRESS COMMITTEE\\u002fBASUDEV AGARWAL\",\"Parties\\u002fBHARATIYA JANATA PARTY\\u002fBELLWEY INTERNATIONAL CO\",\"Parties\\u002fPRESIDENT, ALL INDIA CONGRESS COMMITTEE\\u002fBENGAL COKE COMPANY LIMITED\",\"Parties\\u002fAAM AADMI PARTY\\u002fBENGAL VIPANAPAN PRIVATE LIMITED\",\"Parties\\u002fALL INDIA TRINAMOOL CONGRESS\\u002fBENGAL VIPANAPAN PRIVATE LIMITED\",\"Parties\\u002fBIJU JANATA DAL\\u002fBENGAL VIPANAPAN PRIVATE LIMITED\",\"Parties\\u002fPRESIDENT, ALL INDIA CONGRESS COMMITTEE\\u002fBESSEGGEN INFOTECH LLP\",\"Parties\\u002fAAM AADMI PARTY\\u002fBESSEGGENINFOTECHLLP\",\"Parties\\u002fALL INDIA TRINAMOOL CONGRESS\\u002fBESSEGGENINFOTECHLLP\",\"Parties\\u002fBHARAT RASHTRA SAMITHI\\u002fBESSEGGENINFOTECHLLP\",\"Parties\\u002fBHARATIYA JANATA PARTY\\u002fBEST AGROLIFE LIMITED\",\"Parties\\u002fAAM AADMI PARTY\\u002fBG SHIRKE CONSTRUCTION TECHNOLOGY PVT LTD\",\"Parties\\u002fBHARATIYA JANATA PARTY\\u002fBG SHIRKE CONSTRUCTION TECHNOLOGY PVT LTD\",\"Parties\\u002fBHARATIYA JANATA PARTY\\u002fBHACHIBEN KHAMUBHAI MANVAR\",\"Parties\\u002fSHIVSENA\\u002fBHACHIBEN KHAMUBHAI MANVAR\",\"Parties\\u002fBHARAT RASHTRA SAMITHI\\u002fBHAGYANAGAR INFRA PROJECTS\",\"Parties\\u002fBHARAT RASHTRA SAMITHI\\u002fBHAGYASREE REALTORS PRIVATE LIMITED\",\"Parties\\u002fALL INDIA TRINAMOOL CONGRESS\\u002fBHARAT AJMERA\",\"Parties\\u002fTELUGU DESAM PARTY\\u002fBHARAT BIOTECH INTERNATIONAL LIMITED\",\"Parties\\u002fBHARATIYA JANATA PARTY\\u002fBHARTI AIRTEL LIMITED\",\"Parties\\u002fBHARATIYA JANATA PARTY\\u002fBHARTI AIRTEL LIMITEDAIRTEL CURRE NT AC-GCO\",\"Parties\\u002fJAMMU AND KASHMIR NATIONAL CONFERENCE\\u002fBHARTI AIRTEL LIMITEDAIRTEL CURRE NT AC-GCO\",\"Parties\\u002fRASHTRIYA JANTA DAL\\u002fBHARTI AIRTEL LIMITEDAIRTEL CURRE NT AC-GCO\",\"Parties\\u002fBHARATIYA JANATA PARTY\\u002fBHARTI INFRATEL LIMITED\",\"Parties\\u002fBIHAR PRADESH JANTA DAL(UNITED)\\u002fBHARTI INFRATEL LIMITED\",\"Parties\\u002fPRESIDENT, ALL INDIA CONGRESS COMMITTEE\\u002fBHARTI INFRATEL LIMITED\",\"Parties\\u002fSHIROMANI AKALI DAL\\u002fBHARTI INFRATEL LIMITED\",\"Parties\\u002fBHARATIYA JANATA PARTY\\u002fBHARTI TELEMEDIA LIMITED\",\"Parties\\u002fBHARAT RASHTRA SAMITHI\\u002fBHASWINI DEVELOPERS\",\"Parties\\u002fBHARATIYA JANATA PARTY\\u002fBHAWNA AGARWAL\",\"Parties\\u002fBHARATIYA JANATA PARTY\\u002fBHAWNA KASAT\",\"Parties\\u002fPRESIDENT, ALL INDIA CONGRESS COMMITTEE\\u002fBHUDUTT JANGID\",\"Parties\\u002fBHARAT RASHTRA SAMITHI\\u002fBIGC MOBILES PVT LTD\",\"Parties\\u002fPRESIDENT, ALL INDIA CONGRESS COMMITTEE\\u002fBIJAY RATAN BAHETY\",\"Parties\\u002fPRESIDENT, ALL INDIA CONGRESS COMMITTEE\\u002fBIMALA PRASANNA SINGH ROY\",\"Parties\\u002fPRESIDENT, ALL INDIA CONGRESS COMMITTEE\\u002fBINOD KUMAR AGARWAL\",\"Parties\\u002fALL INDIA TRINAMOOL CONGRESS\\u002fBINOD KUMAR MAROTI\",\"Parties\\u002fPRESIDENT, ALL INDIA CONGRESS COMMITTEE\\u002fBINOD KUMAR MAROTI\",\"Parties\\u002fBHARAT RASHTRA SAMITHI\\u002fBIOLOGICAL E LIMITED\",\"Parties\\u002fTELUGU DESAM PARTY\\u002fBIOVET PVT LTD\",\"Parties\\u002fBHARATIYA JANATA PARTY\\u002fBIOXGREEN TECHNOLOGY PRIVATE LIMITE\",\"Parties\\u002fAAM AADMI PARTY\\u002fBIRD WORLDWIDE FLIGHT SERVICES INDI\",\"Parties\\u002fBHARATIYA JANATA PARTY\\u002fBIRLACARBONINDIAPRIVATELIMITED\",\"Parties\\u002fSHIVSENA\\u002fBIRLAESTATESPRIVATELIMITED\",\"Parties\\u002fBHARATIYA JANATA PARTY\\u002fBISHAN M AGARWAL\",\"Parties\\u002fBHARAT RASHTRA SAMITHI\\u002fBISHOPS WEED FOOD CRAFTS PRIVATE LI\",\"Parties\\u002fPRESIDENT, ALL INDIA CONGRESS COMMITTEE\\u002fBKC PROPERTIES PVT LTD\",\"Parties\\u002fPRESIDENT, ALL INDIA CONGRESS COMMITTEE\\u002fBLUEBERRY TRADING COMPANY PRIVATE L\",\"Parties\\u002fBHARATIYA JANATA PARTY\\u002fBLUESTONE COMMODITIES LLP\",\"Parties\\u002fPRESIDENT, ALL INDIA CONGRESS COMMITTEE\\u002fBM DEALERS LLP\",\"Parties\\u002fPRESIDENT, ALL INDIA CONGRESS COMMITTEE\\u002fBMW INFOTECH PRIVATE LIMITED\",\"Parties\\u002fPRESIDENT, ALL INDIA CONGRESS COMMITTEE\\u002fBMW INFRASTRUCTURE LLP\",\"Parties\\u002fBHARAT RASHTRA SAMITHI\\u002fBORAVELLI BHUPAL REDDY\",\"Parties\\u002fBHARAT RASHTRA SAMITHI\\u002fBORAVELLI RAMULAMMA\",\"Parties\\u002fBHARAT RASHTRA SAMITHI\\u002fBOSE CONSTRUCTIONS\",\"Parties\\u002fBHARAT RASHTRA SAMITHI\\u002fBRICKS INFRATECH LLP\",\"Parties\\u002fBHARATIYA JANATA PARTY\\u002fBRIGHT STAR INVESTMENTS PVT.LTD\",\"Parties\\u002fPRESIDENT, ALL INDIA CONGRESS COMMITTEE\\u002fBRIJESH BINANI\",\"Parties\\u002fBHARAT RASHTRA SAMITHI\\u002fBSCPL INFRASTRUCTURE LIMITED\",\"Parties\\u002fBHARAT RASHTRA SAMITHI\\u002fBUILDOX DEVELOPERS LLP\",\"Parties\\u002fBHARATIYA JANATA PARTY\\u002fBUILDOX DEVELOPERS LLP\",\"Parties\\u002fBHARAT RASHTRA SAMITHI\\u002fBUTTA HOSPITALITIES PVT LTD\",\"Parties\\u002fTELUGU DESAM PARTY\\u002fBYRAPANENI SHIVARJUN RAO\",\"Parties\\u002fTELUGU DESAM PARTY\\u002fC R ASSOCIATES\",\"Parties\\u002fBHARAT RASHTRA SAMITHI\\u002fCAMELIA GRIHA NIRMAN PRIVATE LIMITED\",\"Parties\\u002fPRESIDENT, ALL INDIA CONGRESS COMMITTEE\\u002fCAMELIA GRIHA NIRMAN PRIVATE LIMITED\",\"Parties\\u002fALL INDIA TRINAMOOL CONGRESS\\u002fCANDY SPIRITS PVT LTD\",\"Parties\\u002fBHARATIYA JANATA PARTY\\u002fCAPACITE INFRAPROJECTS LTD\",\"Parties\\u002fBHARAT RASHTRA SAMITHI\\u002fCAPE TRADING LLP\",\"Parties\\u002fPRESIDENT, ALL INDIA CONGRESS COMMITTEE\\u002fCAPE TRADING LLP\",\"Parties\\u002fBHARAT RASHTRA SAMITHI\\u002fCAPSTAN TRADING LLP\",\"Parties\\u002fPRESIDENT, ALL INDIA CONGRESS COMMITTEE\\u002fCAPSTAN TRADING LLP\",\"Parties\\u002fBHARAT RASHTRA SAMITHI\\u002fCASA MARIA PROPERTIES LLP\",\"Parties\\u002fPRESIDENT, ALL INDIA CONGRESS COMMITTEE\\u002fCASA MARIA PROPERTIES LLP\",\"Parties\\u002fPRESIDENT, ALL INDIA CONGRESS COMMITTEE\\u002fCASTAMET WORKS\",\"Parties\\u002fPRESIDENT, ALL INDIA CONGRESS COMMITTEE\\u002fCASTAMET WORKS PRIVATE LIMITED\",\"Parties\\u002fALL INDIA TRINAMOOL CONGRESS\\u002fCASTLE LIQUORS PRIVATE LIMITED\",\"Parties\\u002fRASHTRIYA JANTA DAL\\u002fCASTLE LIQUORS PRIVATE LIMITED\",\"Parties\\u002fBHARATIYA JANATA PARTY\\u002fCAVALIER TRANSPORTERS PRIVATE LIMITED\",\"Parties\\u002fBHARATIYA JANATA PARTY\\u002fCEAT LTD\",\"Parties\\u002fSHIVSENA\\u002fCENTURY TEXTILES AND INDUSTRIES LTD\",\"Parties\\u002fSHIVSENA\\u002fCH UDAYA SANKAR\",\"Parties\\u002fALL INDIA TRINAMOOL CONGRESS\\u002fCHAITANYA ESTATES PRIVATE  LIMITED\",\"Parties\\u002fALL INDIA TRINAMOOL CONGRESS\\u002fCHAKRADHARI TRADELINK PRIVATE LIMIT\",\"Parties\\u002fBHARATIYA JANATA PARTY\\u002fCHAKRADHARI TRADELINK PRIVATE LIMIT\",\"Parties\\u002fNATIONALIST CONGRESS PARTY MAHARASHTRA PRADESH\\u002fCHANDA INVESTMENT   TRADING CO. PVT\",\"Parties\\u002fBHARAT RASHTRA SAMITHI\\u002fCHANDAKA SANYASI RAO\",\"Parties\\u002fALL INDIA TRINAMOOL CONGRESS\\u002fCHANDAN AGARWAL\",\"Parties\\u002fBHARATIYA JANATA PARTY\\u002fCHANDER COMMERCIALS PVT LTD\",\"Parties\\u002fBHARATIYA JANATA PARTY\\u002fCHANDRAJYOTI ESTATE DEVELOPERS PVT.\",\"Parties\\u002fALL INDIA TRINAMOOL CONGRESS\\u002fCHARISMA COMBINES PVTLTD\",\"Parties\\u002fBHARAT RASHTRA SAMITHI\\u002fCHAYA REAL ESTATE PVT LIMITED\",\"Parties\\u002fALL INDIA TRINAMOOL CONGRESS\\u002fCHENNAI GREEN WOODS PRIVATE LIMITED\",\"Parties\\u002fBHARAT RASHTRA SAMITHI\\u002fCHENNAI GREEN WOODS PRIVATE LIMITED\",\"Parties\\u002fPRESIDENT, ALL INDIA CONGRESS COMMITTEE\\u002fCHENNAI GREEN WOODS PRIVATE LIMITED\",\"Parties\\u002fBHARATIYA JANATA PARTY\\u002fCHENNAMANAGATHIHALLI SOLAR POWER PROJECT\",\"Parties\\u002fBHARATIYA JANATA PARTY\\u002fCHHATTISGARH DISTILLERIES LIMITED\",\"Parties\\u002fPRESIDENT, ALL INDIA CONGRESS COMMITTEE\\u002fCHHATTISGARH DISTILLERIES LIMITED\",\"Parties\\u002fBHARATIYA JANATA PARTY\\u002fCHIKKAHALLI SOLAR POWER PROJECT LLP\",\"Parties\\u002fTELUGU DESAM PARTY\\u002fCHIRON BEHRING VACCINES PVT LTD\",\"Parties\\u002fALL INDIA TRINAMOOL CONGRESS\\u002fCHITRAKUT HOLDINGS LTD\",\"Parties\\u002fBHARATIYA JANATA PARTY\\u002fCHOUDHARY GARMENTS\",\"Parties\\u002fBHARATIYA JANATA PARTY\\u002fCHOWGLE AND COMPANY PVT LTD\",\"Parties\\u002fPRESIDENT, ALL INDIA CONGRESS COMMITTEE\\u002fCHOWGLE AND COMPANY PVT LTD\",\"Parties\\u002fBHARATIYA JANATA PARTY\\u002fCHOWGULE AND COMPANY PVT LTD\",\"Parties\\u002fBHARATIYA JANATA PARTY\\u002fCIPLA LIMITED\",\"Parties\\u002fPRESIDENT, ALL INDIA CONGRESS COMMITTEE\\u002fCIPLA LIMITED\",\"Parties\\u002fBHARATIYA JANATA PARTY\\u002fCIPLA LTD\",\"Parties\\u002fPRESIDENT, ALL INDIA CONGRESS COMMITTEE\\u002fCLIX SECURITIES PRIVATE LIMITED\",\"Parties\\u002fALL INDIA TRINAMOOL CONGRESS\\u002fCOALSALE COMPANY LTD\",\"Parties\\u002fBHARATIYA JANATA PARTY\\u002fCOMFORT TRIMS PRIVATE LIMITED\",\"Parties\\u002fBHARATIYA JANATA PARTY\\u002fCOMFORT TRIMS PRIVATE LIMITED DIVIS\",\"Parties\\u002fALL INDIA TRINAMOOL CONGRESS\\u002fCONFIDENT FINANCIAL CONSULTANCY PRI\",\"Parties\\u002fBHARATIYA JANATA PARTY\\u002fCREATIVE LLP\",\"Parties\\u002fALL INDIA TRINAMOOL CONGRESS\\u002fCRESCENT POWER LTD\",\"Parties\\u002fBHARATIYA JANATA PARTY\\u002fCRESCENT POWER LTD\",\"Parties\\u002fALL INDIA TRINAMOOL CONGRESS\\u002fCROCHET TRADE AND INVESTMENT PVT L\",\"Parties\\u002fALL INDIA TRINAMOOL CONGRESS\\u002fCROCHET TRADE AND INVESTMENT PVT LT\",\"Parties\\u002fALL INDIA TRINAMOOL CONGRESS\\u002fCRYSTAL TEA INDIA PVT LTD\",\"Parties\\u002fBHARAT RASHTRA SAMITHI\\u002fCURATED LIVING SOLUTIONS PRIVATE LI\",\"Parties\\u002fSHIVSENA\\u002fCV SRINIVASA\",\"Parties\\u002fBHARAT RASHTRA SAMITHI\\u002fCYBER HOMES\",\"Parties\\u002fPRESIDENT, ALL INDIA CONGRESS COMMITTEE\\u002fCYGNUS POWER INFRA SERVICES PRIVATE\",\"Parties\\u002fBHARATIYA JANATA PARTY\\u002fCYIENT LIMITED\",\"Parties\\u002fNATIONALIST CONGRESS PARTY MAHARASHTRA PRADESH\\u002fCYZACHEM PVT LTD\",\"Parties\\u002fPRESIDENT, ALL INDIA CONGRESS COMMITTEE\\u002fD R INTERNATIONAL PRIVATE LIMITED\",\"Parties\\u002fPRESIDENT, ALL INDIA CONGRESS COMMITTEE\\u002fD R POLYMERS PVT LTD\",\"Parties\\u002fBIJU JANATA DAL\\u002fD S ENGINEERING WORKS LLP\",\"Parties\\u002fBHARATIYA JANATA PARTY\\u002fD S ENGINEERING WORKSHOP LLP\",\"Parties\\u002fBHARATIYA JANATA PARTY\\u002fDAAWAT FOODS LTD\",\"Parties\\u002fALL INDIA TRINAMOOL CONGRESS\\u002fDAFFODIL GOODS PRIVATE LIMITED\",\"Parties\\u002fBHARATIYA JANATA PARTY\\u002fDALMIA BHARAT SUGAR AND INDUSTRIES LTD\",\"Parties\\u002fBHARAT RASHTRA SAMITHI\\u002fDANIKA TRADERS PRIVATE LTD\",\"Parties\\u002fPRESIDENT, ALL INDIA CONGRESS COMMITTEE\\u002fDASAMI LAB PRIVATE LIMITED (FORMERLY HEL IUS LAB PVT LTD)\",\"Parties\\u002fBHARAT RASHTRA SAMITHI\\u002fDASAMI LAB PRIVATE LTD\",\"Parties\\u002fBHARATIYA JANATA PARTY\\u002fDCM SHRIRAM LIMITED\",\"Parties\\u002fBHARATIYA JANATA PARTY\\u002fDCM SHRIRAM LTD\",\"Parties\\u002fPRESIDENT, ALL INDIA CONGRESS COMMITTEE\\u002fDEEP IRON AND STEEL PVT LTD\",\"Parties\\u002fBHARAT RASHTRA SAMITHI\\u002fDEEPAK                                   MAJJI VENKATA\",\"Parties\\u002fALL INDIA TRINAMOOL CONGRESS\\u002fDEEPAK GURUM\",\"Parties\\u002fPRESIDENT, ALL INDIA CONGRESS COMMITTEE\\u002fDEEPAK KHEMKA\",\"Parties\\u002fALL INDIA TRINAMOOL CONGRESS\\u002fDEEPAK KUMAR AGARWAL\",\"Parties\\u002fPRESIDENT, ALL INDIA CONGRESS COMMITTEE\\u002fDEEPAK KUMAR GADDHYAN\",\"Parties\\u002fAAM AADMI PARTY\\u002fDEMPO IND PVT LTD NAVHIND PAPERSAND PUB\",\"Parties\\u002fBHARATIYA JANATA PARTY\\u002fDEMPO IND PVT LTD NAVHIND PAPERSAND PUB\",\"Parties\\u002fBHARATIYA JANATA PARTY\\u002fDEMPO INDUSTRIES PVT LTD\",\"Parties\\u002fBHARATIYA JANATA PARTY\\u002fDERIVE INVESTMENTS\",\"Parties\\u002fBHARATIYA JANATA PARTY\\u002fDERIVE TRADING AND RESORTS PRIVATE LIMIT\",\"Parties\\u002fPRESIDENT, ALL INDIA CONGRESS COMMITTEE\\u002fDERIVE TRADING AND RESORTS PRIVATE LIMIT\",\"Parties\\u002fPRESIDENT, ALL INDIA CONGRESS COMMITTEE\\u002fDERIVE TRADING AND RESORTS PRIVATE LIMITED\",\"Parties\\u002fBHARAT RASHTRA SAMITHI\\u002fDESAI TRADING   CONSULTANTS PVT LTD\",\"Parties\\u002fALL INDIA TRINAMOOL CONGRESS\\u002fDESCENT BUILDWELL LLP\",\"Parties\\u002fBHARATIYA JANATA PARTY\\u002fDESCENT BUILDWELL LLP\",\"Parties\\u002fPRESIDENT, ALL INDIA CONGRESS COMMITTEE\\u002fDESCENT BUILDWELL LLP\",\"Parties\\u002fBHARATIYA JANATA PARTY\\u002fDEVAL KHAMUBHAI MANVAR\",\"Parties\\u002fSHIVSENA\\u002fDEVAL KHAMUBHAI MANVAR\",\"Parties\\u002fYSR  CONGRESS PARTY  (YUVAJANA SRAMIKA RYTHU CONGRESS PARTY)\\u002fDEVARAHIPPARIGI WIND POWER PVT LTD\",\"Parties\\u002fAAM AADMI PARTY\\u002fDEVASHRI NIRMAN LLP\",\"Parties\\u002fBHARATIYA JANATA PARTY\\u002fDEVASHRI NIRMAN LLP\",\"Parties\\u002fBHARATIYA JANATA PARTY\\u002fDEVEN CHAND JAIN\",\"Parties\\u002fALL INDIA TRINAMOOL CONGRESS\\u002fDHARIWAL INFRASTRUCTURE LIMITED\",\"Parties\\u002fBHARATIYA JANATA PARTY\\u002fDHARIWAL INFRASTRUCTURE LIMITED\",\"Parties\\u002fALL INDIA TRINAMOOL CONGRESS\\u002fDHARMENDRA JAYANTILAL VORA\",\"Parties\\u002fPRESIDENT, ALL INDIA CONGRESS COMMITTEE\\u002fDHARMENDRA JAYANTILAL VORA\",\"Parties\\u002fPRESIDENT, ALL INDIA CONGRESS COMMITTEE\\u002fDHARMENDRA VORA\",\"Parties\\u002fBHARAT RASHTRA SAMITHI\\u002fDHEERAJ MEDICALS\",\"Parties\\u002fPRESIDENT, ALL INDIA CONGRESS COMMITTEE\\u002fDHEERAJ MEDICALS\",\"Parties\\u002fBHARATIYA JANATA PARTY\\u002fDHRUV COTTON PROCESSING PVT LTD\",\"Parties\\u002fBHARATIYA JANATA PARTY\\u002fDILIP RAMANLAL THACKER\",\"Parties\\u002fPRESIDENT, ALL INDIA CONGRESS COMMITTEE\\u002fDINESH KUMAR AGARWALLA\",\"Parties\\u002fALL INDIA TRINAMOOL CONGRESS\\u002fDINESH KUMAR LAKHANPAL\",\"Parties\\u002fBHARAT RASHTRA SAMITHI\\u002fDINESH PROJECTS\",\"Parties\\u002fBHARATIYA JANATA PARTY\\u002fDINESHCHANDRA R AGRAWAL INFRACON PVT LTD\",\"Parties\\u002fJHARKHAND MUKTI MORCHA\\u002fDINESHCHANDRA R AGRAWAL INFRACON PVT LTD\",\"Parties\\u002fSHIVSENA\\u002fDINESHCHANDRA R AGRAWAL INFRACON PVT LTD\",\"Parties\\u002fBHARATIYA JANATA PARTY\\u002fDIPAN  P  SHAH\",\"Parties\\u002fBHARATIYA JANATA PARTY\\u002fDIPAN  PRAVINCHANDRA  SHAH\",\"Parties\\u002fBHARAT RASHTRA SAMITHI\\u002fDIVI S LABORATORIES LIMITED\",\"Parties\\u002fBHARATIYA JANATA PARTY\\u002fDIVI S LABORATORIES LIMITED\",\"Parties\\u002fPRESIDENT, ALL INDIA CONGRESS COMMITTEE\\u002fDIVI S LABORATORIES LIMITED\",\"Parties\\u002fBHARAT RASHTRA SAMITHI\\u002fDIVIT SECURITY\",\"Parties\\u002fBIJU JANATA DAL\\u002fDIVIT SECURITY\",\"Parties\\u002fBHARAT RASHTRA SAMITHI\\u002fDIVYASREE HOLDINGS PVT LTD\",\"Parties\\u002fBHARAT RASHTRA SAMITHI\\u002fDIVYASREE NSL INFRASTRUCTURE PRIVATE LIM ITED\",\"Parties\\u002fBHARAT RASHTRA SAMITHI\\u002fDIVYASREE SOFTTECH REALTORS PVT LTD\",\"Parties\\u002fYSR  CONGRESS PARTY  (YUVAJANA SRAMIKA RYTHU CONGRESS PARTY)\\u002fDIVYESH POWER PRIVATE LIMITED\",\"Parties\\u002fYSR  CONGRESS PARTY  (YUVAJANA SRAMIKA RYTHU CONGRESS PARTY)\\u002fDIVYESH POWER PVT LTD\",\"Parties\\u002fAAM AADMI PARTY\\u002fDIWAKAR NIGAM\",\"Parties\\u002fBHARATIYA JANATA PARTY\\u002fDLF COMMERCIAL DEVELOPERS LIMITED\",\"Parties\\u002fBHARATIYA JANATA PARTY\\u002fDLF GARDEN CITY INDORE PVT LTD\",\"Parties\\u002fBHARATIYA JANATA PARTY\\u002fDLF LUXURY HOMES LIMITED\",\"Parties\\u002fBHARAT RASHTRA SAMITHI\\u002fDOYEN ENGINEERING SERVICES PRIVATE\",\"Parties\\u002fPRESIDENT, ALL INDIA CONGRESS COMMITTEE\\u002fDR HEALTHTECH\",\"Parties\\u002fBHARATIYA JANATA PARTY\\u002fDR REDDYS LABORATORIES LIMITED\",\"Parties\\u002fTELUGU DESAM PARTY\\u002fDR REDDYS LABORATORIES LIMITED\",\"Parties\\u002fAAM AADMI PARTY\\u002fDR. MANDEEP SHARMA\",\"Parties\\u002fALL INDIA TRINAMOOL CONGRESS\\u002fDR. MANDEEP SHARMA\",\"Parties\\u002fPRESIDENT, ALL INDIA CONGRESS COMMITTEE\\u002fDR. MANDEEP SHARMA\",\"Parties\\u002fBHARAT RASHTRA SAMITHI\\u002fDR.REDDY'S LABORATORIES LTD\",\"Parties\\u002fBHARATIYA JANATA PARTY\\u002fDR.REDDY'S LABORATORIES LTD\",\"Parties\\u002fPRESIDENT, ALL INDIA CONGRESS COMMITTEE\\u002fDR.REDDY'S LABORATORIES LTD\",\"Parties\\u002fTELUGU DESAM PARTY\\u002fDR.REDDY'S LABORATORIES LTD\",\"Parties\\u002fALL INDIA TRINAMOOL CONGRESS\\u002fDYNAMIC CS BOTTLING PVT LTD\",\"Parties\\u002fRASHTRIYA JANTA DAL\\u002fDYNAMIC CS BOTTLING PVT LTD\",\"Parties\\u002fPRESIDENT, ALL INDIA CONGRESS COMMITTEE\\u002fDYNERE ENGINEERING PRIVATE LIMITED\",\"Parties\\u002fBHARATIYA JANATA PARTY\\u002fEAGLE INFRA INDIA LTD\",\"Parties\\u002fPRESIDENT, ALL INDIA CONGRESS COMMITTEE\\u002fEDELWEISS HOUSING FINANCE LTD.\",\"Parties\\u002fTELUGU DESAM PARTY\\u002fEFICENS SOFTWARE SERVICES PVT LTD\",\"Parties\\u002fYSR  CONGRESS PARTY  (YUVAJANA SRAMIKA RYTHU CONGRESS PARTY)\\u002fELENA RENEWABLE ENERGY PRIVATE LIMITED\",\"Parties\\u002fYSR  CONGRESS PARTY  (YUVAJANA SRAMIKA RYTHU CONGRESS PARTY)\\u002fELENA RENEWABLE ENERGY PVT LTD\",\"Parties\\u002fBHARAT RASHTRA SAMITHI\\u002fELITE DEVELOPERS\",\"Parties\\u002fBHARAT RASHTRA SAMITHI\\u002fELLISBRIDGE ESTATES PVT LTD\",\"Parties\\u002fBHARATIYA JANATA PARTY\\u002fENAM HOLDINGS PRIVATE LIMITED\",\"Parties\\u002fBHARATIYA JANATA PARTY\\u002fENVIRO CONTROL PRIVATE LIMITED FORM\",\"Parties\\u002fBHARATIYA JANATA PARTY\\u002fESSEL MINING AND INDS LTD\",\"Parties\\u002fBIJU JANATA DAL\\u002fESSEL MINING AND INDS LTD\",\"Parties\\u002fBHARATIYA JANATA PARTY\\u002fESTEE TRANSWAYS PRIVATE LIMITE\",\"Parties\\u002fBHARATIYA JANATA PARTY\\u002fEUGIA PHARMA SPECIALITIES LIMITED\",\"Parties\\u002fBHARAT RASHTRA SAMITHI\\u002fEVEREST ENTERPRISE\",\"Parties\\u002fYSR  CONGRESS PARTY  (YUVAJANA SRAMIKA RYTHU CONGRESS PARTY)\\u002fEVERSHINE INTERIORS CHENNAI PVT LTD\",\"Parties\\u002fBHARAT RASHTRA SAMITHI\\u002fEVEY TRANS PVT LTD\",\"Parties\\u002fALL INDIA TRINAMOOL CONGRESS\\u002fFAIRPLAN VINTRADE PRIVATE LIMITED\",\"Parties\\u002fBHARATIYA JANATA PARTY\\u002fFAMY ENERGY PRIVATE LIMITED\",\"Parties\\u002fBHARATIYA JANATA PARTY\\u002fFAMY STERI PVT LIMITED\",\"Parties\\u002fSHIROMANI AKALI DAL\\u002fFASTWAY TRANSMISSIONS PVT LTD\",\"Parties\\u002fDRAVIDA MUNNETRA KAZHAGAM (DMK)\\u002fFERTILELAND FOODS PRIVATE LIMITED\",\"Parties\\u002fBHARATIYA JANATA PARTY\\u002fFINOLEX CABLES LTD\",\"Parties\\u002fPRESIDENT, ALL INDIA CONGRESS COMMITTEE\\u002fFINOLEX CABLES LTD\",\"Parties\\u002fBHARATIYA JANATA PARTY\\u002fFIOTEX COTSPIN PRIVATE LIMITED\",\"Parties\\u002fBHARAT RASHTRA SAMITHI\\u002fFOR M\\u002fS SRI NIDHI CONSTRUCTIONS\",\"Parties\\u002fBHARATIYA JANATA PARTY\\u002fFORCE MOTORS LTD\",\"Parties\\u002fBHARAT RASHTRA SAMITHI\\u002fFORTUNE ESTATE DEVELOPERS PVT LTD\",\"Parties\\u002fAAM AADMI PARTY\\u002fFORTUNE METALIKS LIMITED\",\"Parties\\u002fPRESIDENT, ALL INDIA CONGRESS COMMITTEE\\u002fFRESHBYTE BUILDTECH PVT LTD\",\"Parties\\u002fBHARATIYA JANATA PARTY\\u002fFRIGERIO CONSERVA AL\",\"Parties\\u002fSHIVSENA\\u002fFRIGORIFICO ALLANA P\",\"Parties\\u002fALL INDIA TRINAMOOL CONGRESS\\u002fFUTURE GAMING AND HOTEL SERVICES PR\",\"Parties\\u002fBHARATIYA JANATA PARTY\\u002fFUTURE GAMING AND HOTEL SERVICES PR\",\"Parties\\u002fDRAVIDA MUNNETRA KAZHAGAM (DMK)\\u002fFUTURE GAMING AND HOTEL SERVICES PR\",\"Parties\\u002fPRESIDENT, ALL INDIA CONGRESS COMMITTEE\\u002fFUTURE GAMING AND HOTEL SERVICES PR\",\"Parties\\u002fSIKKIM DEMOCRATIC FRONT\\u002fFUTURE GAMING AND HOTEL SERVICES PR\",\"Parties\\u002fSIKKIM KRANTIKARI MORCHA\\u002fFUTURE GAMING AND HOTEL SERVICES PR\",\"Parties\\u002fYSR  CONGRESS PARTY  (YUVAJANA SRAMIKA RYTHU CONGRESS PARTY)\\u002fFUTURE GAMING AND HOTEL SERVICES PR\",\"Parties\\u002fALL INDIA TRINAMOOL CONGRESS\\u002fFUTURE GAMING AND HOTEL SERVICES PRIVATE LIMITED\",\"Parties\\u002fDRAVIDA MUNNETRA KAZHAGAM (DMK)\\u002fFUTURE GAMING AND HOTEL SERVICES PRIVATE LIMITED\",\"Parties\\u002fALL INDIA TRINAMOOL CONGRESS\\u002fFUTURE GAMING AND HOTEL SERVICES PVT LTD\",\"Parties\\u002fSIKKIM KRANTIKARI MORCHA\\u002fFUTURE GAMING AND HOTEL SERVICES PVT LTD\",\"Parties\\u002fYSR  CONGRESS PARTY  (YUVAJANA SRAMIKA RYTHU CONGRESS PARTY)\\u002fFUTURISTIC HANDLING SERVICES PVT LTD\",\"Parties\\u002fBHARAT RASHTRA SAMITHI\\u002fG CHANDRASHEKHAR\",\"Parties\\u002fALL INDIA TRINAMOOL CONGRESS\\u002fG M HOLDINGS PVT LTD\",\"Parties\\u002fBHARATIYA JANATA PARTY\\u002fG R INFRAPROJECTS L\",\"Parties\\u002fBHARATIYA JANATA PARTY\\u002fG S ISPAT\",\"Parties\\u002fBHARAT RASHTRA SAMITHI\\u002fGAJA ENGINEERING PVT LTD\",\"Parties\\u002fALL INDIA TRINAMOOL CONGRESS\\u002fGALAXY C.S. BOTTLING PLANT\",\"Parties\\u002fBIJU JANATA DAL\\u002fGALAXY C.S. BOTTLING PLANT\",\"Parties\\u002fBHARATIYA JANATA PARTY\\u002fGANDHAR COALS AND MINES PVT LTD\",\"Parties\\u002fPRESIDENT, ALL INDIA CONGRESS COMMITTEE\\u002fGANDHI BROTHERS\",\"Parties\\u002fBHARATIYA JANATA PARTY\\u002fGANDHI SECURITIES   INVESTMENT\",\"Parties\\u002fBHARAT RASHTRA SAMITHI\\u002fGANGADASU BASIVI REDDY\",\"Parties\\u002fBHARAT RASHTRA SAMITHI\\u002fGANGDARI HYDRO POWER PVT LTD\",\"Parties\\u002fBHARAT RASHTRA SAMITHI\\u002fGANGES JUTE PRIVATE LTD\",\"Parties\\u002fBHARATIYA JANATA PARTY\\u002fGANNON DUNKERLEY AND CO LIMITED\",\"Parties\\u002fPRESIDENT, ALL INDIA CONGRESS COMMITTEE\\u002fGAURAV  BAHETY\",\"Parties\\u002fBHARATIYA JANATA PARTY\\u002fGENEXT HARDWARE   PARKS PVT. LTD\",\"Parties\\u002fSHIVSENA\\u002fGENEXT HARDWARE   PARKS PVT. LTD\",\"Parties\\u002fPRESIDENT, ALL INDIA CONGRESS COMMITTEE\\u002fGENUS POWER\",\"Parties\\u002fBHARATIYA JANATA PARTY\\u002fGENUS POWER INFRASTRUCTURES LIMITED\",\"Parties\\u002fPRESIDENT, ALL INDIA CONGRESS COMMITTEE\\u002fGENUS POWER INFRASTRUCTURES LIMITED\",\"Parties\\u002fPRESIDENT, ALL INDIA CONGRESS COMMITTEE\\u002fGENUS POWER INFRASTRUCTURES LTD\",\"Parties\\u002fBHARATIYA JANATA PARTY\\u002fGEOJIT INVESTMENT SERVICES LTD\",\"Parties\\u002fPRESIDENT, ALL INDIA CONGRESS COMMITTEE\\u002fGEOJIT INVESTMENT SERVICES LTD\",\"Parties\\u002fBHARATIYA JANATA PARTY\\u002fGHCL LTD\",\"Parties\\u002fBHARATIYA JANATA PARTY\\u002fGK ENERGY MARKETERS PRIVATE LIMITED\",\"Parties\\u002fBHARATIYA JANATA PARTY\\u002fGLENMARK PHARMACEUTICALS LTD\",\"Parties\\u002fALL INDIA TRINAMOOL CONGRESS\\u002fGLOWING FERN HIGHRISE LLP\",\"Parties\\u002fAAM AADMI PARTY\\u002fGOA CARBON LTD\",\"Parties\\u002fALL INDIA TRINAMOOL CONGRESS\\u002fGOA CARBON LTD\",\"Parties\\u002fGOA FORWARD PARTY\\u002fGOA CARBON LTD\",\"Parties\\u002fNATIONALIST CONGRESS PARTY MAHARASHTRA PRADESH\\u002fGOA CARBON LTD\",\"Parties\\u002fALL INDIA TRINAMOOL CONGRESS\\u002fGOLDSTONE CEMENTS LTD\",\"Parties\\u002fBHARATIYA JANATA PARTY\\u002fGOODLUCK  INDIA LIMITED\",\"Parties\\u002fPRESIDENT, ALL INDIA CONGRESS COMMITTEE\\u002fGOODLUCK  INDIA LIMITED\",\"Parties\\u002fBHARATIYA JANATA PARTY\\u002fGOODLUCK INDIA LTD\",\"Parties\\u002fPRESIDENT, ALL INDIA CONGRESS COMMITTEE\\u002fGORJA STEEL PROCESSORS\",\"Parties\\u002fBHARAT RASHTRA SAMITHI\\u002fGORUKANTI DEVENDER RAO\",\"Parties\\u002fBHARAT RASHTRA SAMITHI\\u002fGORUKANTI SURENDER RAO\",\"Parties\\u002fALL INDIA TRINAMOOL CONGRESS\\u002fGOURAB ROY\",\"Parties\\u002fPRESIDENT, ALL INDIA CONGRESS COMMITTEE\\u002fGOURAB ROY\",\"Parties\\u002fSHIROMANI AKALI DAL\\u002fGOURAV KUMAR\",\"Parties\\u002fBHARAT RASHTRA SAMITHI\\u002fGOURAV RAJESH MUNDHRA\",\"Parties\\u002fBHARAT RASHTRA SAMITHI\\u002fGOWREDDY HARIPRASAD REDDY\",\"Parties\\u002fAAM AADMI PARTY\\u002fGPC FOODS PRIVATE LIMITED\",\"Parties\\u002fTELUGU DESAM PARTY\\u002fGRANULES INDIA LIMITED\",\"Parties\\u002fBHARATIYA JANATA PARTY\\u002fGRASIM INDUSTRIES LTD\",\"Parties\\u002fBIJU JANATA DAL\\u002fGRASIM INDUSTRIES LTD\",\"Parties\\u002fBHARATIYA JANATA PARTY\\u002fGRAUER  AMP  WEIL  INDIA  LIMITED\",\"Parties\\u002fALL INDIA TRINAMOOL CONGRESS\\u002fGREAT EASTERN STORES PVT LTD\",\"Parties\\u002fYSR  CONGRESS PARTY  (YUVAJANA SRAMIKA RYTHU CONGRESS PARTY)\\u002fGREENKO ANANTAPUR WIND POWER PRIVATE LIMITED\",\"Parties\\u002fBHARAT RASHTRA SAMITHI\\u002fGREENKO ASTHA PROJECTS (INDIA) PVT LTD\",\"Parties\\u002fBHARAT RASHTRA SAMITHI\\u002fGREENKO BUDHIL HYDRO POWER PVT LTD\",\"Parties\\u002fBHARATIYA JANATA PARTY\\u002fGREENKO ENERGY PROJECTS PRIVATE LTD\",\"Parties\\u002fBHARAT RASHTRA SAMITHI\\u002fGREENKO HIM KAILASH HYDRO POWER PVT LTD\",\"Parties\\u002fBHARATIYA JANATA PARTY\\u002fGREENKO MP01 IREP PRIVATE LIMITED\",\"Parties\\u002fYSR  CONGRESS PARTY  (YUVAJANA SRAMIKA RYTHU CONGRESS PARTY)\\u002fGREENKO RAYALA WIND POWER PRIVATE LIMITE D\",\"Parties\\u002fBHARAT RASHTRA SAMITHI\\u002fGREENKO RAYALA WIND POWER PVT LTD\",\"Parties\\u002fBHARAT RASHTRA SAMITHI\\u002fGREENKO SOLAR POWER (DHARAMAVARAM) LTD\",\"Parties\\u002fBHARAT RASHTRA SAMITHI\\u002fGREENKO SRI SAI KRISHNA HYDRO ENERGIES PVT LTD\",\"Parties\\u002fBHARAT RASHTRA SAMITHI\\u002fGREENKO SUMEZ HYDRO ENERGIES PVT LTD\",\"Parties\\u002fYSR  CONGRESS PARTY  (YUVAJANA SRAMIKA RYTHU CONGRESS PARTY)\\u002fGREENKO URAVAKONDA WIND POWER PRIVA\",\"Parties\\u002fBHARAT RASHTRA SAMITHI\\u002fGRINIBHRIT SOLAR POWER PVT LTD\",\"Parties\\u002fBHARATIYA JANATA PARTY\\u002fGUJARAT FLUORO CHEMICALS LIMITED\",\"Parties\\u002fPRESIDENT, ALL INDIA CONGRESS COMMITTEE\\u002fGUJARAT FLUORO CHEMICALS LIMITED\",\"Parties\\u002fALL INDIA TRINAMOOL CONGRESS\\u002fGUPTA VARUN\",\"Parties\\u002fBHARAT RASHTRA SAMITHI\\u002fGURRAM MOUNIKA\",\"Parties\\u002fBHARAT RASHTRA SAMITHI\\u002fGURRAM RAVI\",\"Parties\\u002fBHARATIYA JANATA PARTY\\u002fGUWAHATI CARBON LIMITED\",\"Parties\\u002fBHARATIYA JANATA PARTY\\u002fGVPR ENGINEERS LTD\",\"Parties\\u002fPRESIDENT, ALL INDIA CONGRESS COMMITTEE\\u002fGVPR ENGINEERS LTD\",\"Parties\\u002fBHARAT RASHTRA SAMITHI\\u002fH S ARAVINDA\",\"Parties\\u002fALL INDIA TRINAMOOL CONGRESS\\u002fHALDIA ENERGY LIMITED\",\"Parties\\u002fBHARATIYA JANATA PARTY\\u002fHALDIA ENERGY LIMITED\",\"Parties\\u002fPRESIDENT, ALL INDIA CONGRESS COMMITTEE\\u002fHALDIA ENERGY LIMITED\",\"Parties\\u002fBHARATIYA JANATA PARTY\\u002fHANSVAHINI AUTO INTERIOR PVT LTD\",\"Parties\\u002fPRESIDENT, ALL INDIA CONGRESS COMMITTEE\\u002fHAPPYTAT VILLAS PRIVATE LIMITED\",\"Parties\\u002fBHARATIYA JANATA PARTY\\u002fHARDESH ORES PVT LTD\",\"Parties\\u002fBHARATIYA JANATA PARTY\\u002fHARI PRASAD AGARWAL\",\"Parties\\u002fBHARATIYA JANATA PARTY\\u002fHARIJAN HIRIBAI\",\"Parties\\u002fSHIVSENA\\u002fHARIJAN HIRIBAI\",\"Parties\\u002fALL INDIA TRINAMOOL CONGRESS\\u002fHARINAGAR SUGAR MILLS LTD\",\"Parties\\u002fBHARATIYA JANATA PARTY\\u002fHARINAGAR SUGAR MILLS LTD\",\"Parties\\u002fBHARATIYA JANATA PARTY\\u002fHARMESH RAHUL JOSHI\",\"Parties\\u002fPRESIDENT, ALL INDIA CONGRESS COMMITTEE\\u002fHARSHIT CHHABRA\",\"Parties\\u002fPRESIDENT, ALL INDIA CONGRESS COMMITTEE\\u002fHARSHIT KOTHARI\",\"Parties\\u002fBHARAT RASHTRA SAMITHI\\u002fHAZELO LAB PRIVATE LTD\",\"Parties\\u002fPRESIDENT, ALL INDIA CONGRESS COMMITTEE\\u002fHEALTHTECH SOLUTION\",\"Parties\\u002fBHARATIYA JANATA PARTY\\u002fHEENA STEEL LLP\",\"Parties\\u002fPRESIDENT, ALL INDIA CONGRESS COMMITTEE\\u002fHEENA STEEL LLP\",\"Parties\\u002fBHARAT RASHTRA SAMITHI\\u002fHEMANT LAKHOTIA\",\"Parties\\u002fALL INDIA TRINAMOOL CONGRESS\\u002fHERALD BEVERAGES PRIVATE LIMITED\",\"Parties\\u002fDRAVIDA MUNNETRA KAZHAGAM (DMK)\\u002fHERALD BEVERAGES PRIVATE LIMITED\",\"Parties\\u002fRASHTRIYA JANTA DAL\\u002fHERALD BEVERAGES PRIVATE LIMITED\",\"Parties\\u002fBHARATIYA JANATA PARTY\\u002fHERO MOTOCORP LIMITED\",\"Parties\\u002fBHARAT RASHTRA SAMITHI\\u002fHES INFRA PVT LTD\",\"Parties\\u002fPRESIDENT, ALL INDIA CONGRESS COMMITTEE\\u002fHES INFRA PVT LTD\",\"Parties\\u002fBHARATIYA JANATA PARTY\\u002fHETERO BIOPHARMA LIMITED\",\"Parties\\u002fBHARAT RASHTRA SAMITHI\\u002fHETERO DRUGS LIMITED\",\"Parties\\u002fBHARAT RASHTRA SAMITHI\\u002fHETERO LABS LIMITED\",\"Parties\\u002fBHARATIYA JANATA PARTY\\u002fHETERO LABS LIMITED\",\"Parties\\u002fBHARATIYA JANATA PARTY\\u002fHH IRON AND STEEL PRIVATE LIMITED\",\"Parties\\u002fBIJU JANATA DAL\\u002fHH IRON AND STEEL PRIVATE LIMITED\",\"Parties\\u002fBHARATIYA JANATA PARTY\\u002fHIGHSTREET CRUISES AND ENTERTAINMENT PVT  LTD\",\"Parties\\u002fALL INDIA TRINAMOOL CONGRESS\\u002fHIMADRI KHAN\",\"Parties\\u002fALL INDIA TRINAMOOL CONGRESS\\u002fHIMADRI KHAN COUNTRY SPIRIT BOTTLING PLA NT CUM WARE HOUSE\",\"Parties\\u002fALL INDIA TRINAMOOL CONGRESS\\u002fHIMALAYAN ENDEAVOUR PVT LTD\",\"Parties\\u002fBHARATIYA JANATA PARTY\\u002fHIMALAYAN ENDEAVOUR PVT LTD\",\"Parties\\u002fPRESIDENT, ALL INDIA CONGRESS COMMITTEE\\u002fHIMALAYAN ENDEAVOUR PVT LTD\",\"Parties\\u002fYSR  CONGRESS PARTY  (YUVAJANA SRAMIKA RYTHU CONGRESS PARTY)\\u002fHIMALAYAN ENDEAVOUR PVT LTD\",\"Parties\\u002fALL INDIA TRINAMOOL CONGRESS\\u002fHIMANGA MERCANTILES PVT LTD\",\"Parties\\u002fBHARATIYA JANATA PARTY\\u002fHIMANSHU RAJNIKANT SHAH\",\"Parties\\u002fBHARATIYA JANATA PARTY\\u002fHIND TERMINALS PVT LTD\",\"Parties\\u002fBHARATIYA JANATA PARTY\\u002fHINDUSTAN TEXTILES\",\"Parties\\u002fBHARAT RASHTRA SAMITHI\\u002fHINDYS LAB PRIVATE LTD\",\"Parties\\u002fBHARAT RASHTRA SAMITHI\\u002fHINDYS LAB PVT. LTD. (PREVIOUSLY HIND LI FE SCIENCES PVT LTD)\",\"Parties\\u002fBHARATIYA JANATA PARTY\\u002fHIREHALLI SOLAR POWER PROJECT LLP\",\"Parties\\u002fALL INDIA TRINAMOOL CONGRESS\\u002fHITECH SYSTEMS & SERVICES LTD\",\"Parties\\u002fALL INDIA TRINAMOOL CONGRESS\\u002fHITESH D SHAH\",\"Parties\\u002fPRESIDENT, ALL INDIA CONGRESS COMMITTEE\\u002fHITESH D SHAH\",\"Parties\\u002fPRESIDENT, ALL INDIA CONGRESS COMMITTEE\\u002fHITESH D SHAH HUF\",\"Parties\\u002fBHARATIYA JANATA PARTY\\u002fHONEYWELL PROPERTIES PVT LTD\",\"Parties\\u002fBHARAT RASHTRA SAMITHI\\u002fHONOUR LAB LIMITED\",\"Parties\\u002fBHARAT RASHTRA SAMITHI\\u002fHONOUR LAB LTD\",\"Parties\\u002fPRESIDENT, ALL INDIA CONGRESS COMMITTEE\\u002fHORIZON MEDICAL SUPPLIES\",\"Parties\\u002fBHARATIYA JANATA PARTY\\u002fHUB POWER COMPANY\",\"Parties\\u002fBHARATIYA JANATA PARTY\\u002fHUNSANKODILLI SOLAR POWER PROJECT LLP\",\"Parties\\u002fBHARAT RASHTRA SAMITHI\\u002fICONICA PROJECTS\",\"Parties\\u002fPRESIDENT, ALL INDIA CONGRESS COMMITTEE\\u002fIDEAL REAL ESTATES PRIVATE LIMITED\",\"Parties\\u002fPRESIDENT, ALL INDIA CONGRESS COMMITTEE\\u002fIDEAL ROAD BUILDERS  PVT.LTD.\",\"Parties\\u002fAAM AADMI PARTY\\u002fIFB AGRO INDUSTRIES LIMITED\",\"Parties\\u002fALL INDIA TRINAMOOL CONGRESS\\u002fIFB AGRO INDUSTRIES LIMITED\",\"Parties\\u002fBIJU JANATA DAL\\u002fIFB AGRO INDUSTRIES LIMITED\",\"Parties\\u002fPRESIDENT, ALL INDIA CONGRESS COMMITTEE\\u002fIFB AGRO INDUSTRIES LIMITED\",\"Parties\\u002fRASHTRIYA JANTA DAL\\u002fIFB AGRO INDUSTRIES LIMITED\",\"Parties\\u002fJANATA DAL ( SECULAR )\\u002fILABS HYD TECHNOLOGY CENTRE PVT LTD\",\"Parties\\u002fBHARATIYA JANATA PARTY\\u002fINDER                                    THAKURDAS JAISINGHANI\",\"Parties\\u002fBHARATIYA JANATA PARTY\\u002fINDERDEEP CONSTRUCTION CO\",\"Parties\\u002fBHARATIYA JANATA PARTY\\u002fINDIA EXPOSITION MART LTD\",\"Parties\\u002fBHARATIYA JANATA PARTY\\u002fINDIA GLYCOLS LTD\",\"Parties\\u002fALL INDIA TRINAMOOL CONGRESS\\u002fINDIAN VALVE  CALCUTTA  PVT LTD\",\"Parties\\u002fBHARATIYA JANATA PARTY\\u002fINDRANI PATNAIK\",\"Parties\\u002fBHARATIYA JANATA PARTY\\u002fINDURU SUDHAKARA  REDDY\",\"Parties\\u002fBHARAT RASHTRA SAMITHI\\u002fINDUS INDUSTRIAL TEC\",\"Parties\\u002fBHARAT RASHTRA SAMITHI\\u002fINDUS ORGANICS\",\"Parties\\u002fBHARATIYA JANATA PARTY\\u002fINDUSTRIAL TECHNO MAN POWER SUPPLY AND SERVICES PVT LTD\",\"Parties\\u002fBHARATIYA JANATA PARTY\\u002fINFINA FINANCE PRIVATE LIMITED\",\"Parties\\u002fBHARATIYA JANATA PARTY\\u002fINFOTELACCESSENTERPRISESPL00108\",\"Parties\\u002fBHARATIYA JANATA PARTY\\u002fINFOTELBUSINESSSOLUTIONSLTDBR\",\"Parties\\u002fBHARATIYA JANATA PARTY\\u002fINFOTELTECHNOLOGIESPRIVATELIMITE\",\"Parties\\u002fBHARATIYA JANATA PARTY\\u002fINFRASTRUCTURE LOGISTICS PVT LTD\",\"Parties\\u002fALL INDIA TRINAMOOL CONGRESS\\u002fINNOCENT MERCHANDISE PVT LTD\",\"Parties\\u002fBHARAT RASHTRA SAMITHI\\u002fINORBIT MALLS  INDIA  PRIVATE LIMIT\",\"Parties\\u002fPRESIDENT, ALL INDIA CONGRESS COMMITTEE\\u002fINORBIT MALLS  INDIA  PRIVATE LIMIT\",\"Parties\\u002fPRESIDENT, ALL INDIA CONGRESS COMMITTEE\\u002fINORBIT MALLS INDIA PRIVATE LIMITED\",\"Parties\\u002fBHARATIYA JANATA PARTY\\u002fINOX AIR PRODUCTS LTD\",\"Parties\\u002fBHARATIYA JANATA PARTY\\u002fINOX LEISURE LTD\",\"Parties\\u002fBHARATIYA JANATA PARTY\\u002fINTAS PHARMACEUTICALS LIMITED\",\"Parties\\u002fBHARATIYA JANATA PARTY\\u002fINTERGLOBE AIR TRANSPORT LIMITED\",\"Parties\\u002fPRESIDENT, ALL INDIA CONGRESS COMMITTEE\\u002fINTERGLOBE AVIATION LIMITED\",\"Parties\\u002fBHARATIYA JANATA PARTY\\u002fINTERGLOBE REAL ESTATE VENTURES PVT LTD\",\"Parties\\u002fBHARATIYA JANATA PARTY\\u002fINTERNATIONAL TRADING CORPORATION\",\"Parties\\u002fBHARATIYA JANATA PARTY\\u002fIPCA LABORATORIES LIMITED\",\"Parties\\u002fSIKKIM KRANTIKARI MORCHA\\u002fIPCA LABORATORIES LIMITED\",\"Parties\\u002fBHARAT RASHTRA SAMITHI\\u002fIRA BLOSSOM FIELDS\",\"Parties\\u002fBHARAT RASHTRA SAMITHI\\u002fIRB MP EXPRESSWAY PRIVATE LIMITED\",\"Parties\\u002fBHARATIYA JANATA PARTY\\u002fISHAN TECHNICAL PLANT SERVICES PVT LTD\",\"Parties\\u002fALL INDIA TRINAMOOL CONGRESS\\u002fISHANI BHAVIK AJMERA\",\"Parties\\u002fBHARAT RASHTRA SAMITHI\\u002fISTAMSETTY SONY\",\"Parties\\u002fALL INDIA TRINAMOOL CONGRESS\\u002fITC LIMITED\",\"Parties\\u002fBHARAT RASHTRA SAMITHI\\u002fITC LIMITED\",\"Parties\\u002fBHARATIYA JANATA PARTY\\u002fIVL DHUNSERI PETROCHEM INDUSTRIES PRIVAT E LIMITED\",\"Parties\\u002fBHARATIYA JANATA PARTY\\u002fJ B ENTERPRISE\",\"Parties\\u002fBHARATIYA JANATA PARTY\\u002fJ K CEMENT LIMITED\",\"Parties\\u002fPRESIDENT, ALL INDIA CONGRESS COMMITTEE\\u002fJ K CEMENT LTD.\",\"Parties\\u002fPRESIDENT, ALL INDIA CONGRESS COMMITTEE\\u002fJ S K HOTELS P LTD\",\"Parties\\u002fBHARATIYA JANATA PARTY\\u002fJ.K.CEMENT LTD.\",\"Parties\\u002fBHARATIYA JANATA PARTY\\u002fJAI BHARAT TECHNICAL SERVICES PVT LTD\",\"Parties\\u002fBHARATIYA JANATA PARTY\\u002fJAI GANESH ISPAT AND FERRO ALLOYS PVT LTD\",\"Parties\\u002fBHARATIYA JANATA PARTY\\u002fJAI SUSPENSION SYSTEMS L L P\",\"Parties\\u002fBHARATIYA JANATA PARTY\\u002fJAI SUSPENSION SYSTEMS LLP\",\"Parties\\u002fBHARATIYA JANATA PARTY\\u002fJAINENDRA  P  SHAH\",\"Parties\\u002fBHARATIYA JANATA PARTY\\u002fJAINENDRA  PRAVINCHANDRA  SHAH\",\"Parties\\u002fPRESIDENT, ALL INDIA CONGRESS COMMITTEE\\u002fJANAM ENTERPRISES\",\"Parties\\u002fBHARATIYA JANATA PARTY\\u002fJASWANT KUMAR SETHIA\",\"Parties\\u002fBHARATIYA JANATA PARTY\\u002fJAY USHIN LTD\",\"Parties\\u002fBHARATIYA JANATA PARTY\\u002fJAYANTA KUMAR DAS\",\"Parties\\u002fBHARATIYA JANATA PARTY\\u002fJBM INDUSTRIES LIMITED\",\"Parties\\u002fBHARATIYA JANATA PARTY\\u002fJINDAL HOUSE\",\"Parties\\u002fPRESIDENT, ALL INDIA CONGRESS COMMITTEE\\u002fJINDAL HOUSE\",\"Parties\\u002fBHARATIYA JANATA PARTY\\u002fJINDAL POLY FILMS LIMITED\",\"Parties\\u002fSHIVSENA\\u002fJINDAL POLY FILMS LIMITED\",\"Parties\\u002fBHARATIYA JANATA PARTY\\u002fJINDAL SAW LIMITED\",\"Parties\\u002fPRESIDENT, ALL INDIA CONGRESS COMMITTEE\\u002fJINDAL SAW LIMITED\",\"Parties\\u002fBIJU JANATA DAL\\u002fJINDAL STAINLESS LTD\",\"Parties\\u002fBHARATIYA JANATA PARTY\\u002fJINDAL STEEL AND POWER LIMITED\",\"Parties\\u002fBIJU JANATA DAL\\u002fJINDAL STEEL AND POWER LIMITED\",\"Parties\\u002fPRESIDENT, ALL INDIA CONGRESS COMMITTEE\\u002fJINDAL STEEL AND POWER LIMITED\",\"Parties\\u002fPRESIDENT, ALL INDIA CONGRESS COMMITTEE\\u002fJIT INDUSTRIAL PARK LLP\",\"Parties\\u002fPRESIDENT, ALL INDIA CONGRESS COMMITTEE\\u002fJK LAKSHMI CEMENT LIMITED\",\"Parties\\u002fBHARAT RASHTRA SAMITHI\\u002fJK PAPER LIMITED\",\"Parties\\u002fBHARATIYA JANATA PARTY\\u002fJMC PROJECTS  INDIA  LTD\",\"Parties\\u002fPRESIDENT, ALL INDIA CONGRESS COMMITTEE\\u002fJMC PROJECTS  INDIA  LTD\",\"Parties\\u002fALL INDIA TRINAMOOL CONGRESS\\u002fJMS MINING  PRIVATE LIMITED\",\"Parties\\u002fBHARATIYA JANATA PARTY\\u002fJNS INSTRUMENTS LTD\",\"Parties\\u002fALL INDIA TRINAMOOL CONGRESS\\u002fJOSYULA VENKATESH\",\"Parties\\u002fBHARATIYA JANATA PARTY\\u002fJOSYULA VENKATESH\",\"Parties\\u002fPRESIDENT, ALL INDIA CONGRESS COMMITTEE\\u002fJUBILANT LIFE SCIENCES LIMITED\",\"Parties\\u002fALL INDIA TRINAMOOL CONGRESS\\u002fJWIL INFRA LTD. (FORM. JITF WATER\",\"Parties\\u002fBHARATIYA JANATA PARTY\\u002fJWIL INFRA LTD. (FORM. JITF WATER\",\"Parties\\u002fPRESIDENT, ALL INDIA CONGRESS COMMITTEE\\u002fJYOTI LADHA\",\"Parties\\u002fYSR  CONGRESS PARTY  (YUVAJANA SRAMIKA RYTHU CONGRESS PARTY)\\u002fJYOTSNA AGGARWAL\",\"Parties\\u002fBHARATIYA JANATA PARTY\\u002fK AMISH KUMAR TRADING PVT LTD\",\"Parties\\u002fPRESIDENT, ALL INDIA CONGRESS COMMITTEE\\u002fK B DEALERS PRIVATE LIMITED\",\"Parties\\u002fALL INDIA TRINAMOOL CONGRESS\\u002fK D LIQUOR AND FERTILIZER PVT LTD\",\"Parties\\u002fBHARATIYA JANATA PARTY\\u002fK K RESOURCES PRIVATE LIMITED\",\"Parties\\u002fPRESIDENT, ALL INDIA CONGRESS COMMITTEE\\u002fK M A COMMODITIES LLP\",\"Parties\\u002fPRESIDENT, ALL INDIA CONGRESS COMMITTEE\\u002fK M DEALERS LLP\",\"Parties\\u002fBHARATIYA JANATA PARTY\\u002fK R RAJA  JT\",\"Parties\\u002fBHARAT RASHTRA SAMITHI\\u002fK RAHEJA CORP PVT LTD\",\"Parties\\u002fBHARATIYA JANATA PARTY\\u002fK RAHEJA CORP PVT LTD\",\"Parties\\u002fSHIVSENA\\u002fK RAHEJA CORP PVT LTD\",\"Parties\\u002fDRAVIDA MUNNETRA KAZHAGAM (DMK)\\u002fKAL RADIO LIMITED\",\"Parties\\u002fBHARATIYA JANATA PARTY\\u002fKALPATARU PROJECTS INTERNATIONAL LIMITED\",\"Parties\\u002fALL INDIA TRINAMOOL CONGRESS\\u002fKALPTARU INVESTMENTS PVT.LTD.  PROP\",\"Parties\\u002fPRESIDENT, ALL INDIA CONGRESS COMMITTEE\\u002fKAMAL MANOHAR\",\"Parties\\u002fBHARATIYA JANATA PARTY\\u002fKAMAL TRADING CORPORATION\",\"Parties\\u002fPRESIDENT, ALL INDIA CONGRESS COMMITTEE\\u002fKAMAL TRADING CORPORATION\",\"Parties\\u002fBHARATIYA JANATA PARTY\\u002fKAMLANG SAW & VENEER MILLS PVT LTD\",\"Parties\\u002fPRESIDENT, ALL INDIA CONGRESS COMMITTEE\\u002fKAMNA COMMERCIAL PRIVATE LIMITED\",\"Parties\\u002fALL INDIA TRINAMOOL CONGRESS\\u002fKAMNA CREDITS AND PROMOTORS PVT LTD\",\"Parties\\u002fBHARAT RASHTRA SAMITHI\\u002fKAMNA CREDITS AND PROMOTORS PVT LTD\",\"Parties\\u002fBHARATIYA JANATA PARTY\\u002fKAMNA CREDITS AND PROMOTORS PVT LTD\",\"Parties\\u002fBIJU JANATA DAL\\u002fKAMNA CREDITS AND PROMOTORS PVT LTD\",\"Parties\\u002fPRESIDENT, ALL INDIA CONGRESS COMMITTEE\\u002fKAMNA CREDITS AND PROMOTORS PVT LTD\",\"Parties\\u002fBHARATIYA JANATA PARTY\\u002fKANHA VINCOM PRIVATE LIMITED\",\"Parties\\u002fPRESIDENT, ALL INDIA CONGRESS COMMITTEE\\u002fKANWAR                                   LAL PATNI\",\"Parties\\u002fBHARAT RASHTRA SAMITHI\\u002fKARTHIKEYA CONSTRUCTIONS\",\"Parties\\u002fBHARAT RASHTRA SAMITHI\\u002fKARTIKEYA INFRA\",\"Parties\\u002fBHARAT RASHTRA SAMITHI\\u002fKAUSHALENDER AGGARWAL\",\"Parties\\u002fBHARAT RASHTRA SAMITHI\\u002fKAUSTUBH VERMA\",\"Parties\\u002fBHARATIYA JANATA PARTY\\u002fKAYPEE ENTERPRISES\",\"Parties\\u002fBIJU JANATA DAL\\u002fKAYPEE ENTERPRISES\",\"Parties\\u002fPRESIDENT, ALL INDIA CONGRESS COMMITTEE\\u002fKAYPEE ENTERPRISES\",\"Parties\\u002fPRESIDENT, ALL INDIA CONGRESS COMMITTEE\\u002fKB DEALERS LLP\",\"Parties\\u002fJANATA DAL ( SECULAR )\\u002fKCR ENTERPRISE LLP\",\"Parties\\u002fBHARATIYA JANATA PARTY\\u002fKEC INTERNATIONAL LIMITED\",\"Parties\\u002fALL INDIA TRINAMOOL CONGRESS\\u002fKEJRIWAL MIINIING PRIVATE LIMITED\",\"Parties\\u002fADYAKSHA SAMAJVADI PARTY\\u002fKEVENTER FOODPARK INFRA LIMITED\",\"Parties\\u002fALL INDIA TRINAMOOL CONGRESS\\u002fKEVENTER FOODPARK INFRA LIMITED\",\"Parties\\u002fBHARATIYA JANATA PARTY\\u002fKEVENTER FOODPARK INFRA LIMITED\",\"Parties\\u002fPRESIDENT, ALL INDIA CONGRESS COMMITTEE\\u002fKEVENTER FOODPARK INFRA LIMITED\",\"Parties\\u002fSHIROMANI AKALI DAL\\u002fKEVENTER FOODPARK INFRA LIMITED\",\"Parties\\u002fBHARATIYA JANATA PARTY\\u002fKEYSTONE REALTORS PVT LTD\",\"Parties\\u002fPRESIDENT, ALL INDIA CONGRESS COMMITTEE\\u002fKEYSTONE REALTORS PVT LTD\",\"Parties\\u002fSHIVSENA\\u002fKEYSTONE REALTORS PVT LTD\",\"Parties\\u002fYSR  CONGRESS PARTY  (YUVAJANA SRAMIKA RYTHU CONGRESS PARTY)\\u002fKHANDKE WIND ENERGY PRIVATE LIMITED\",\"Parties\\u002fYSR  CONGRESS PARTY  (YUVAJANA SRAMIKA RYTHU CONGRESS PARTY)\\u002fKHUSHBU  AGGARWAL\",\"Parties\\u002fBHARATIYA JANATA PARTY\\u002fKIRAN MAZUMDAR SHAW\",\"Parties\\u002fJANATA DAL ( SECULAR )\\u002fKIRAN MAZUMDAR SHAW\",\"Parties\\u002fPRESIDENT, ALL INDIA CONGRESS COMMITTEE\\u002fKIRAN MAZUMDAR SHAW\",\"Parties\\u002fTELUGU DESAM PARTY\\u002fKIRITI VENTURES PRIVATE LIMITED\",\"Parties\\u002fALL INDIA TRINAMOOL CONGRESS\\u002fKIRTAN AJMERA\",\"Parties\\u002fPRESIDENT, ALL INDIA CONGRESS COMMITTEE\\u002fKISHAN  MIRANIA AGARWAL\",\"Parties\\u002fALL INDIA TRINAMOOL CONGRESS\\u002fKISHAN F.L. BOND HOUSE\",\"Parties\\u002fBHARATIYA JANATA PARTY\\u002fKISHAN M AGARWAL\",\"Parties\\u002fALL INDIA TRINAMOOL CONGRESS\\u002fKISHAN M AGARWAL HUF\",\"Parties\\u002fBHARAT RASHTRA SAMITHI\\u002fKITEX CHILDRENSWEAR LTD\",\"Parties\\u002fBHARAT RASHTRA SAMITHI\\u002fKITEX GARMENTS LIMITED\",\"Parties\\u002fPRESIDENT, ALL INDIA CONGRESS COMMITTEE\\u002fKM DEALERS LLP\",\"Parties\\u002fBHARAT RASHTRA SAMITHI\\u002fKMK DEVELOPERS PVT LTD ASHISH BHAS\",\"Parties\\u002fBHARAT RASHTRA SAMITHI\\u002fKNR CONSTRUCTIONS LTD\",\"Parties\\u002fBHARATIYA JANATA PARTY\\u002fKONARK RAJENDRA SHAH\",\"Parties\\u002fBHARAT RASHTRA SAMITHI\\u002fKONERU RAVITEJA\",\"Parties\\u002fPRESIDENT, ALL INDIA CONGRESS COMMITTEE\\u002fKOTESWAR RAO GULLAPALLY\",\"Parties\\u002fBHARAT RASHTRA SAMITHI\\u002fKOYA AND COMPANY CONSTRUCTION LTD\",\"Parties\\u002fAAM AADMI PARTY\\u002fKRBL LTD\",\"Parties\\u002fBHARATIYA JANATA PARTY\\u002fKRISHNA SHEET PROCESSORS PVT LTD\",\"Parties\\u002fAAM AADMI PARTY\\u002fKULWANT SINGH\",\"Parties\\u002fALL INDIA TRINAMOOL CONGRESS\\u002fKUSUM MAROTI\",\"Parties\\u002fALL INDIA TRINAMOOL CONGRESS\\u002fKVR BASELINE RESOURCES PRIVATE LIMI\",\"Parties\\u002fBHARATIYA JANATA PARTY\\u002fL S DAVAR AND CO\",\"Parties\\u002fBHARAT RASHTRA SAMITHI\\u002fL7 HITECH PRIVATE LIMITED\",\"Parties\\u002fBHARAT RASHTRA SAMITHI\\u002fLAKSHMI MEDICALS\",\"Parties\\u002fPRESIDENT, ALL INDIA CONGRESS COMMITTEE\\u002fLAKSHMI MEDICALS\",\"Parties\\u002fBHARATIYA JANATA PARTY\\u002fLAKSHMI NIWAS MITTAL\",\"Parties\\u002fBHARATIYA JANATA PARTY\\u002fLALIT GULATI\",\"Parties\\u002fBHARATIYA JANATA PARTY\\u002fLALITPUR POWER GENERATION COMPANY LIMITED\",\"Parties\\u002fALL INDIA TRINAMOOL CONGRESS\\u002fLAURELSECURITIESPVTLTD\",\"Parties\\u002fBHARAT RASHTRA SAMITHI\\u002fLAURELSECURITIESPVTLTD\",\"Parties\\u002fBHARATIYA JANATA PARTY\\u002fLAXMI CIVIL ENGINEERING SERVICES PR\",\"Parties\\u002fALL INDIA TRINAMOOL CONGRESS\\u002fLAXMI INDUSTRIAL BOTTLING PLAN\",\"Parties\\u002fBHARATIYA JANATA PARTY\\u002fLAXMI INDUSTRIAL BOTTLING PLAN\",\"Parties\\u002fYSR  CONGRESS PARTY  (YUVAJANA SRAMIKA RYTHU CONGRESS PARTY)\\u002fLAXMI INDUSTRIAL BOTTLING PLAN\",\"Parties\\u002fALL INDIA TRINAMOOL CONGRESS\\u002fLAXMI INDUSTRIAL BOTTLING PLANT\",\"Parties\\u002fRASHTRIYA JANTA DAL\\u002fLAXMI INDUSTRIAL BOTTLING PLANT\",\"Parties\\u002fBHARATIYA JANATA PARTY\\u002fLAXMIDAS VALLABHDAS   ASMITA MERCHA\",\"Parties\\u002fBHARATIYA JANATA PARTY\\u002fLCCPROJECTSPRIVATELIMITED\",\"Parties\\u002fAAM AADMI PARTY\\u002fLEPTON SOFTWARE EXPORT AND RESEARCH PRIVATE LTD\",\"Parties\\u002fPRESIDENT, ALL INDIA CONGRESS COMMITTEE\\u002fLEVOC FINANCE PVT LTD\",\"Parties\\u002fALL INDIA TRINAMOOL CONGRESS\\u002fLIFELINE MARKETING PRIVATE LIMITED\",\"Parties\\u002fPRESIDENT, ALL INDIA CONGRESS COMMITTEE\\u002fLIFELINE MARKETING PRIVATE LIMITED\",\"Parties\\u002fALL INDIA TRINAMOOL CONGRESS\\u002fLILAC MERCHANDISE PRIVATE LIMITED\",\"Parties\\u002fBHARAT RASHTRA SAMITHI\\u002fLOKESH KUMAR\",\"Parties\\u002fBHARATIYA JANATA PARTY\\u002fLOTUS TEXPARK LIMITED FORMERLY LOTUS INT EGRATED TEXPARK LTD\",\"Parties\\u002fPRESIDENT, ALL INDIA CONGRESS COMMITTEE\\u002fLOUISIANA INVESTMENT   FINANCE PVT\",\"Parties\\u002fBHARAT RASHTRA SAMITHI\\u002fLPF SYSTEMS PRIVATE LIMITED\",\"Parties\\u002fBHARATIYA JANATA PARTY\\u002fLUCINA LAND DEVELOPMENT LIMITED\",\"Parties\\u002fBHARATIYA JANATA PARTY\\u002fLULU INDIA SHOPPING MALL PRIVATE LI\",\"Parties\\u002fBHARATIYA JANATA PARTY\\u002fLUMAX INDUSTRIES LIMITED\",\"Parties\\u002fBHARATIYA JANATA PARTY\\u002fLUPIN LIMITED\",\"Parties\\u002fBHARATIYA JANATA PARTY\\u002fM M YARNS PVT LTD\",\"Parties\\u002fBHARATIYA JANATA PARTY\\u002fM R F LIMITED\",\"Parties\\u002fALL INDIA TRINAMOOL CONGRESS\\u002fM S  VARAS INTERNATIONAL PVT LTD\",\"Parties\\u002fRASHTRIYA JANTA DAL\\u002fM S  VARAS INTERNATIONAL PVT LTD\",\"Parties\\u002fADYAKSHA SAMAJVADI PARTY\\u002fM S JUGENDRA SINGH AND COMPANY\",\"Parties\\u002fPRESIDENT, ALL INDIA CONGRESS COMMITTEE\\u002fM\\u002fS KAMAL ISPAT\",\"Parties\\u002fBHARATIYA JANATA PARTY\\u002fM\\u002fS T S WIND POWER DEVELOPERS\",\"Parties\\u002fBHARATIYA JANATA PARTY\\u002fM\\u002fS VISION SECURITY SERVICES, PROP-MAJOR  DEVENDRA NATH DAS\",\"Parties\\u002fALL INDIA TRINAMOOL CONGRESS\\u002fM\\u002fS. K.D. LIQUOR  FERTILIZER PRIVATE L\",\"Parties\\u002fALL INDIA TRINAMOOL CONGRESS\\u002fM\\u002fS. RAMESH AGARWAL C S BOTTLING PL\",\"Parties\\u002fBHARATIYA JANATA PARTY\\u002fM\\u002fSGAURAV INTERNATIONAL\",\"Parties\\u002fRASHTRIYA JANTA DAL\\u002fM\\u002fSGAURAV INTERNATIONAL\",\"Parties\\u002fBHARATIYA JANATA PARTY\\u002fM\\u002fSKJS AHLUWALIA\",\"Parties\\u002fBHARATIYA JANATA PARTY\\u002fMAATHA PROJECTS LLP\",\"Parties\\u002fTELUGU DESAM PARTY\\u002fMAATHA PROJECTS LLP\",\"Parties\\u002fBHARATIYA JANATA PARTY\\u002fMADAMAGERI SOLAR POWER PROJECT LLP\",\"Parties\\u002fBHARATIYA JANATA PARTY\\u002fMADANLAL LTD.\",\"Parties\\u002fPRESIDENT, ALL INDIA CONGRESS COMMITTEE\\u002fMADANLAL LTD.\",\"Parties\\u002fALL INDIA TRINAMOOL CONGRESS\\u002fMADHUMITA SAH\",\"Parties\\u002fBHARATIYA JANATA PARTY\\u002fMADHYA PRADESH WASTE MANAGEMENT PR\",\"Parties\\u002fALL INDIA TRINAMOOL CONGRESS\\u002fMADHYA PRADESH WASTE MANAGEMENT PRI\",\"Parties\\u002fNATIONALIST CONGRESS PARTY MAHARASHTRA PRADESH\\u002fMAGARPATTA TOWNSHIP DEV AND CONST C\",\"Parties\\u002fALL INDIA TRINAMOOL CONGRESS\\u002fMAHABIR BANKA\",\"Parties\\u002fRASHTRIYA JANTA DAL\\u002fMAHABIR BANKA\",\"Parties\\u002fNATIONALIST CONGRESS PARTY MAHARASHTRA PRADESH\\u002fMAHALAXMI VIDYUT PVT.LTD.\",\"Parties\\u002fPRESIDENT, ALL INDIA CONGRESS COMMITTEE\\u002fMAHALAXMI VIDYUT PVT.LTD.\",\"Parties\\u002fSHIVSENA\\u002fMAHALAXMI VIDYUT PVT.LTD.\",\"Parties\\u002fALL INDIA TRINAMOOL CONGRESS\\u002fMAHAVIRA VINCOM PRIVATE LIMITED\",\"Parties\\u002fBHARATIYA JANATA PARTY\\u002fMAHENDRA SPONGE AND POWER LIMITED\",\"Parties\\u002fPRESIDENT, ALL INDIA CONGRESS COMMITTEE\\u002fMAHESH NARAYAN KHADE\",\"Parties\\u002fBHARATIYA JANATA PARTY\\u002fMAHINDRA & MAHINDRA LTD\",\"Parties\\u002fBHARATIYA JANATA PARTY\\u002fMAITHRI LABORATORIES (PVT) LTD\",\"Parties\\u002fBHARATIYA JANATA PARTY\\u002fMAKARAND PLANTATIONS PVT LIMITED\",\"Parties\\u002fPRESIDENT, ALL INDIA CONGRESS COMMITTEE\\u002fMANDADI RAMULU\",\"Parties\\u002fBHARATIYA JANATA PARTY\\u002fMANISH AGARWAL\",\"Parties\\u002fPRESIDENT, ALL INDIA CONGRESS COMMITTEE\\u002fMANISH KUMAR KHAKHOLIA\",\"Parties\\u002fBHARAT RASHTRA SAMITHI\\u002fMANITHEJ ENTERPRISES\",\"Parties\\u002fAAM AADMI PARTY\\u002fMANJIT KAUR\",\"Parties\\u002fPRESIDENT, ALL INDIA CONGRESS COMMITTEE\\u002fMANJU SHREE SOMANI\",\"Parties\\u002fBHARATIYA JANATA PARTY\\u002fMANKIND PHARMA LIMITED\",\"Parties\\u002fBHARATIYA JANATA PARTY\\u002fMANKIND TRACOM PRIVATE LIMITED\",\"Parties\\u002fPRESIDENT, ALL INDIA CONGRESS COMMITTEE\\u002fMANOJ KUMAR AGARWAL\",\"Parties\\u002fALL INDIA TRINAMOOL CONGRESS\\u002fMANOTOSH DAS\",\"Parties\\u002fALL INDIA TRINAMOOL CONGRESS\\u002fMANU VYAPAR (P) LTD.\",\"Parties\\u002fBIJU JANATA DAL\\u002fMANU VYAPAR (P) LTD.\",\"Parties\\u002fPRESIDENT, ALL INDIA CONGRESS COMMITTEE\\u002fMANU VYAPAR (P) LTD.\",\"Parties\\u002fBHARATIYA JANATA PARTY\\u002fMANVAR DEVABHAI\",\"Parties\\u002fSHIVSENA\\u002fMANVAR DEVABHAI\",\"Parties\\u002fBHARATIYA JANATA PARTY\\u002fMANVAR SAVABHAI\",\"Parties\\u002fSHIVSENA\\u002fMANVAR SAVABHAI\",\"Parties\\u002fBHARATIYA JANATA PARTY\\u002fMARAL OVERSEAS LTD.\",\"Parties\\u002fALL INDIA TRINAMOOL CONGRESS\\u002fMARDI GRAS LIQUOR DIV OF MARDI GRAS\",\"Parties\\u002fBHARATIYA JANATA PARTY\\u002fMARUTI SUZUKI INDIA LTD\",\"Parties\\u002fBHARAT RASHTRA SAMITHI\\u002fMB POWER (MADHYA PRADESH) LTD\",\"Parties\\u002fBHARATIYA JANATA PARTY\\u002fMEENU CREATION LLP\",\"Parties\\u002fPRESIDENT, ALL INDIA CONGRESS COMMITTEE\\u002fMEGA EQUITAS PRIVATE LIMITED\",\"Parties\\u002fBHARAT RASHTRA SAMITHI\\u002fMEGHA ENGINEERING & INFRASTRUCTURES LIMITED\",\"Parties\\u002fBHARATIYA JANATA PARTY\\u002fMEGHA ENGINEERING & INFRASTRUCTURES LIMITED\",\"Parties\\u002fDRAVIDA MUNNETRA KAZHAGAM (DMK)\\u002fMEGHA ENGINEERING & INFRASTRUCTURES LIMITED\",\"Parties\\u002fBHARAT RASHTRA SAMITHI\\u002fMEGHA ENGINEERING AND INFRASTRUCTURES LI MITED\",\"Parties\\u002fBHARATIYA JANATA PARTY\\u002fMEGHA ENGINEERING AND INFRASTRUCTURES LI MITED\",\"Parties\\u002fDRAVIDA MUNNETRA KAZHAGAM (DMK)\\u002fMEGHA ENGINEERING AND INFRASTRUCTURES LI MITED\",\"Parties\\u002fJANASENA PARTY\\u002fMEGHA ENGINEERING AND INFRASTRUCTURES LI MITED\",\"Parties\\u002fJANATA DAL ( SECULAR )\\u002fMEGHA ENGINEERING AND INFRASTRUCTURES LI MITED\",\"Parties\\u002fPRESIDENT, ALL INDIA CONGRESS COMMITTEE\\u002fMEGHA ENGINEERING AND INFRASTRUCTURES LI MITED\",\"Parties\\u002fTELUGU DESAM PARTY\\u002fMEGHA ENGINEERING AND INFRASTRUCTURES LI MITED\",\"Parties\\u002fYSR  CONGRESS PARTY  (YUVAJANA SRAMIKA RYTHU CONGRESS PARTY)\\u002fMEGHA ENGINEERING AND INFRASTRUCTURES LI MITED\",\"Parties\\u002fBHARATIYA JANATA PARTY\\u002fMEGHA ENGINEERING AND INFRASTRUCTURES LTD\",\"Parties\\u002fBIHAR PRADESH JANTA DAL(UNITED)\\u002fMEGHA ENGINEERING AND INFRASTRUCTURES LTD\",\"Parties\\u002fBHARATIYA JANATA PARTY\\u002fMEHERFOUNDATIONSANDCIVILENGPVT\",\"Parties\\u002fALL INDIA TRINAMOOL CONGRESS\\u002fMERLIN RECREATION PVT LTD\",\"Parties\\u002fBHARATIYA JANATA PARTY\\u002fMICHIGAN ENGINEERS PVT LTD\",\"Parties\\u002fSIKKIM KRANTIKARI MORCHA\\u002fMICRO LABS LIMITED\",\"Parties\\u002fBHARATIYA JANATA PARTY\\u002fMICRO LABS LTD\",\"Parties\\u002fPRESIDENT, ALL INDIA CONGRESS COMMITTEE\\u002fMICRO LABS LTD\",\"Parties\\u002fBHARAT RASHTRA SAMITHI\\u002fMIDAS PROJECTS PRIVATE LIMITED\",\"Parties\\u002fBHARATIYA JANATA PARTY\\u002fMINDA KYORAKU LTD\",\"Parties\\u002fBHARATIYA JANATA PARTY\\u002fMINDARIKA PRIVATE LTD\",\"Parties\\u002fALL INDIA TRINAMOOL CONGRESS\\u002fMIRANIA BUILDERS LLP\",\"Parties\\u002fALL INDIA TRINAMOOL CONGRESS\\u002fMIRANIA COMPLEX LLP\",\"Parties\\u002fALL INDIA TRINAMOOL CONGRESS\\u002fMISRILALL MINES PVT LTD\",\"Parties\\u002fPRESIDENT, ALL INDIA CONGRESS COMMITTEE\\u002fMISRILALL MINES PVT LTD\",\"Parties\\u002fAAM AADMI PARTY\\u002fMKJ ENTERPRISES LIMITED\",\"Parties\\u002fALL INDIA TRINAMOOL CONGRESS\\u002fMKJ ENTERPRISES LIMITED\",\"Parties\\u002fBHARAT RASHTRA SAMITHI\\u002fMKJ ENTERPRISES LIMITED\",\"Parties\\u002fBHARATIYA JANATA PARTY\\u002fMKJ ENTERPRISES LIMITED\",\"Parties\\u002fBIJU JANATA DAL\\u002fMKJ ENTERPRISES LIMITED\",\"Parties\\u002fJHARKHAND MUKTI MORCHA\\u002fMKJ ENTERPRISES LIMITED\",\"Parties\\u002fPRESIDENT, ALL INDIA CONGRESS COMMITTEE\\u002fMKJ ENTERPRISES LIMITED\",\"Parties\\u002fALL INDIA TRINAMOOL CONGRESS\\u002fMKJ ENTERPRISES LTD\",\"Parties\\u002fBHARATIYA JANATA PARTY\\u002fMKJ ENTERPRISES LTD\",\"Parties\\u002fPRESIDENT, ALL INDIA CONGRESS COMMITTEE\\u002fMKJ ENTERPRISES LTD\",\"Parties\\u002fBHARATIYA JANATA PARTY\\u002fMKK METAL SECTIONS P LTD\",\"Parties\\u002fPRESIDENT, ALL INDIA CONGRESS COMMITTEE\\u002fMKK METAL SECTIONS P LTD\",\"Parties\\u002fBHARATIYA JANATA PARTY\\u002fMKK METAL SECTIONS PVT LTD\",\"Parties\\u002fBHARATIYA JANATA PARTY\\u002fMNMEDIAVENTURESPVTL108\",\"Parties\\u002fBHARAT RASHTRA SAMITHI\\u002fMODERN ROAD MAKERS PVT LTD\",\"Parties\\u002fDRAVIDA MUNNETRA KAZHAGAM (DMK)\\u002fMODERN ROAD MAKERS PVT LTD\",\"Parties\\u002fPRESIDENT, ALL INDIA CONGRESS COMMITTEE\\u002fMODERN ROAD MAKERS PVT LTD\",\"Parties\\u002fBHARATIYA JANATA PARTY\\u002fMODERN ROAD MAKERS PVT. LTD.\",\"Parties\\u002fBHARATIYA JANATA PARTY\\u002fMOHAN STEEL CORPORATION\",\"Parties\\u002fPRESIDENT, ALL INDIA CONGRESS COMMITTEE\\u002fMOHAN STEEL CORPORATION\",\"Parties\\u002fBHARATIYA JANATA PARTY\\u002fMOHINDER                                 KUMAR JAIN\",\"Parties\\u002fBHARATIYA JANATA PARTY\\u002fMOHIT MINERALS  LTD\",\"Parties\\u002fBHARATIYA JANATA PARTY\\u002fMOHIT MINERALS LIMITED\",\"Parties\\u002fALL INDIA TRINAMOOL CONGRESS\\u002fMONALISA BOTTLING INDUSTRIES PVT LTD\",\"Parties\\u002fBIJU JANATA DAL\\u002fMONALISA BOTTLING INDUSTRIES PVT LTD\",\"Parties\\u002fRASHTRIYA JANTA DAL\\u002fMONALISA BOTTLING INDUSTRIES PVT LTD\",\"Parties\\u002fYSR  CONGRESS PARTY  (YUVAJANA SRAMIKA RYTHU CONGRESS PARTY)\\u002fMONALISA BOTTLING INDUSTRIES PVT LTD\",\"Parties\\u002fPRESIDENT, ALL INDIA CONGRESS COMMITTEE\\u002fMONIKA\",\"Parties\\u002fAAM AADMI PARTY\\u002fMOTOWN TRADING PVT LTD\",\"Parties\\u002fALL INDIA TRINAMOOL CONGRESS\\u002fMOTOWN TRADING PVT LTD\",\"Parties\\u002fBHARATIYA JANATA PARTY\\u002fMOTOWN TRADING PVT LTD\",\"Parties\\u002fBHARATIYA JANATA PARTY\\u002fMOUNT EVEREST BREWERIES LIMITED\",\"Parties\\u002fAAM AADMI PARTY\\u002fMR ANUJ GOENKA\",\"Parties\\u002fBHARATIYA JANATA PARTY\\u002fMR KONARK RAJENDRA SHAH\",\"Parties\\u002fBHARATIYA JANATA PARTY\\u002fMR RAJ DEEPAK VARSHNEY\",\"Parties\\u002fALL INDIA TRINAMOOL CONGRESS\\u002fMR SACHIN BAKLIWAL\",\"Parties\\u002fALL INDIA TRINAMOOL CONGRESS\\u002fMR SAURABH BAKLIWAL\",\"Parties\\u002fBHARATIYA JANATA PARTY\\u002fMR SAURABH BAKLIWAL\",\"Parties\\u002fPRESIDENT, ALL INDIA CONGRESS COMMITTEE\\u002fMR SAURABH BAKLIWAL\",\"Parties\\u002fAAM AADMI PARTY\\u002fMR. BAL KISHAN GOENKA\",\"Parties\\u002fPRESIDENT, ALL INDIA CONGRESS COMMITTEE\\u002fMR. DEEPAK  KHEMKA\",\"Parties\\u002fBHARAT RASHTRA SAMITHI\\u002fMR. ISHANT  GUPTA\",\"Parties\\u002fBHARATIYA JANATA PARTY\\u002fMR. KAUKUNTLA  VENU GOPAL\",\"Parties\\u002fBHARATIYA JANATA PARTY\\u002fMR. MAYANK SINGHAL\",\"Parties\\u002fBHARAT RASHTRA SAMITHI\\u002fMR. NISHANT K YADAV\",\"Parties\\u002fBHARATIYA JANATA PARTY\\u002fMR. VIJAY KUMAR  GOYAL\",\"Parties\\u002fALL INDIA TRINAMOOL CONGRESS\\u002fMRPANKAJKUMARGUPTA\",\"Parties\\u002fPRESIDENT, ALL INDIA CONGRESS COMMITTEE\\u002fMRS LILA DEVI SULTANIA\",\"Parties\\u002fAAM AADMI PARTY\\u002fMRS. SUSHILA GOENKA\",\"Parties\\u002fBHARATIYA JANATA PARTY\\u002fMS PEARL GLOBAL INDUSTRIES LTD FORM\",\"Parties\\u002fBIJU JANATA DAL\\u002fMS S N MOHANTY\",\"Parties\\u002fAAM AADMI PARTY\\u002fMS. SHIPRA GOENKA\",\"Parties\\u002fBHARATIYA JANATA PARTY\\u002fMSN LABORATORIES PVT LTD\",\"Parties\\u002fBHARATIYA JANATA PARTY\\u002fMSN ORGANICS PVT LTD\",\"Parties\\u002fBHARAT RASHTRA SAMITHI\\u002fMSN PHARMACHEM PVT LTD\",\"Parties\\u002fBHARATIYA JANATA PARTY\\u002fMSN PHARMACHEM PVT LTD\",\"Parties\\u002fBHARATIYA JANATA PARTY\\u002fMSPL LTD\",\"Parties\\u002fPRESIDENT, ALL INDIA CONGRESS COMMITTEE\\u002fMSPL LTD\",\"Parties\\u002fPRESIDENT, ALL INDIA CONGRESS COMMITTEE\\u002fMTC ISPAT PVT LTD\",\"Parties\\u002fALL INDIA TRINAMOOL CONGRESS\\u002fMUKESH AJMERA\",\"Parties\\u002fPRESIDENT, ALL INDIA CONGRESS COMMITTEE\\u002fMUKUND BINANI\",\"Parties\\u002fBHARAT RASHTRA SAMITHI\\u002fMUPPANA VENKATA RAO\",\"Parties\\u002fBHARATIYA JANATA PARTY\\u002fMUTHOOT FINANCE LTD\",\"Parties\\u002fPRESIDENT, ALL INDIA CONGRESS COMMITTEE\\u002fMVM SECURITIES PVT LTD-SELF A\\u002fC\",\"Parties\\u002fBHARAT RASHTRA SAMITHI\\u002fMY HOME INFRASTRUCTURES  PRIVATE LI\",\"Parties\\u002fBHARATIYA JANATA PARTY\\u002fMY HOME INFRASTRUCTURES PVT LTD MY\",\"Parties\\u002fPRESIDENT, ALL INDIA CONGRESS COMMITTEE\\u002fMY HOME INFRASTRUCTURES PVT LTD MY\",\"Parties\\u002fBHARATIYA JANATA PARTY\\u002fMYRIAD DEVELOPERS\",\"Parties\\u002fBHARAT RASHTRA SAMITHI\\u002fMYTRAH ENERGY INDIA PRIVATE LIMITED\",\"Parties\\u002fBHARATIYA JANATA PARTY\\u002fMYTRAH ENERGY INDIA PRIVATE LIMITED\",\"Parties\\u002fPRESIDENT, ALL INDIA CONGRESS COMMITTEE\\u002fMYTRAH ENERGY INDIA PRIVATE LIMITED\",\"Parties\\u002fBHARAT RASHTRA SAMITHI\\u002fMYTRAH ENERGY(INDIA) PRIVATE LIMITED\",\"Parties\\u002fTELUGU DESAM PARTY\\u002fN A R INFRA PRIVATE LIMITED\",\"Parties\\u002fPRESIDENT, ALL INDIA CONGRESS COMMITTEE\\u002fNAHAR BUILDERS AND DEVELOPERS LTD\",\"Parties\\u002fPRESIDENT, ALL INDIA CONGRESS COMMITTEE\\u002fNAMIT PURI\",\"Parties\\u002fNATIONALIST CONGRESS PARTY MAHARASHTRA PRADESH\\u002fNANDED CITY DEVELOPMENT AND CONSTRU\",\"Parties\\u002fPRESIDENT, ALL INDIA CONGRESS COMMITTEE\\u002fNANDI ENTERPRISES\",\"Parties\\u002fALL INDIA TRINAMOOL CONGRESS\\u002fNANGALIA ASSOCIATES\",\"Parties\\u002fPRESIDENT, ALL INDIA CONGRESS COMMITTEE\\u002fNANGALIA ASSOCIATES\",\"Parties\\u002fJANATA DAL ( SECULAR )\\u002fNARA CONSTRUCTIONS\",\"Parties\\u002fALL INDIA TRINAMOOL CONGRESS\\u002fNARAYAN PODDAR\",\"Parties\\u002fPRESIDENT, ALL INDIA CONGRESS COMMITTEE\\u002fNARAYAN PODDAR\",\"Parties\\u002fBHARATIYA JANATA PARTY\\u002fNARBHERAM VISHRAM\",\"Parties\\u002fPRESIDENT, ALL INDIA CONGRESS COMMITTEE\\u002fNARESH HIRALAL BHANSALI\",\"Parties\\u002fBHARAT RASHTRA SAMITHI\\u002fNATCO PHARMA LIMITED\",\"Parties\\u002fBHARATIYA JANATA PARTY\\u002fNATCO PHARMA LIMITED\",\"Parties\\u002fBHARAT RASHTRA SAMITHI\\u002fNATCO PHARMA LTD\",\"Parties\\u002fBHARATIYA JANATA PARTY\\u002fNATCO PHARMA LTD\",\"Parties\\u002fJANASENA PARTY\\u002fNATCO PHARMA LTD\",\"Parties\\u002fPRESIDENT, ALL INDIA CONGRESS COMMITTEE\\u002fNATCO PHARMA LTD\",\"Parties\\u002fTELUGU DESAM PARTY\\u002fNATCO PHARMA LTD\",\"Parties\\u002fYSR  CONGRESS PARTY  (YUVAJANA SRAMIKA RYTHU CONGRESS PARTY)\\u002fNATCO PHARMA LTD\",\"Parties\\u002fBHARATIYA JANATA PARTY\\u002fNATRAJ GOODS PRIVATE LIMITED\",\"Parties\\u002fALL INDIA TRINAMOOL CONGRESS\\u002fNATURAL RESIDENCY LLP\",\"Parties\\u002fBHARATIYA JANATA PARTY\\u002fNAVAL KISHORE AGARWAL\",\"Parties\\u002fBHARATIYA JANATA PARTY\\u002fNAVARUN SEN\",\"Parties\\u002fBHARATIYA JANATA PARTY\\u002fNAVAYUGA  ENGINEERING COMPANY LIMITED\",\"Parties\\u002fBHARATIYA JANATA PARTY\\u002fNAVAYUGA ENGINEERING CO LTD\",\"Parties\\u002fBHARATIYA JANATA PARTY\\u002fNCC LIMITED\",\"Parties\\u002fALL INDIA TRINAMOOL CONGRESS\\u002fNEERAJ GANDHI\",\"Parties\\u002fBHARATIYA JANATA PARTY\\u002fNEERAJ GANDHI\",\"Parties\\u002fPRESIDENT, ALL INDIA CONGRESS COMMITTEE\\u002fNEERAJ GANDHI\",\"Parties\\u002fPRESIDENT, ALL INDIA CONGRESS COMMITTEE\\u002fNEHA BAHETY\",\"Parties\\u002fALL INDIA TRINAMOOL CONGRESS\\u002fNETINCON MARKETING PVT LTD\",\"Parties\\u002fBHARATIYA JANATA PARTY\\u002fNEXG DEVICES PVT LTD\",\"Parties\\u002fPRESIDENT, ALL INDIA CONGRESS COMMITTEE\\u002fNIDHI SOMANI\",\"Parties\\u002fBHARAT RASHTRA SAMITHI\\u002fNIKHIL SUNIL MUNDHRA\",\"Parties\\u002fJANATA DAL ( SECULAR )\\u002fNIMBHA BIOTECH PRIVATE LIMITED\",\"Parties\\u002fBHARATIYA JANATA PARTY\\u002fNIRANJAN LAL AND SONS HUF\",\"Parties\\u002fAAM AADMI PARTY\\u002fNIRAV MAROTI\",\"Parties\\u002fALL INDIA TRINAMOOL CONGRESS\\u002fNIRAV MAROTI\",\"Parties\\u002fBHARATIYA JANATA PARTY\\u002fNIRMA LIMITED\",\"Parties\\u002fPRESIDENT, ALL INDIA CONGRESS COMMITTEE\\u002fNIRMA LIMITED\",\"Parties\\u002fBIJU JANATA DAL\\u002fNIRMAL KUMAR BATHWAL\",\"Parties\\u002fALL INDIA TRINAMOOL CONGRESS\\u002fNIRMALDEEP RESOURCES LTD\",\"Parties\\u002fPRESIDENT, ALL INDIA CONGRESS COMMITTEE\\u002fNISHANT SARAFF\",\"Parties\\u002fPRESIDENT, ALL INDIA CONGRESS COMMITTEE\\u002fNITESH KUMAR GUPTA\",\"Parties\\u002fPRESIDENT, ALL INDIA CONGRESS COMMITTEE\\u002fNITIN BANSAL\",\"Parties\\u002fPRESIDENT, ALL INDIA CONGRESS COMMITTEE\\u002fNLB SERVICES PRIVATE LIMITED\",\"Parties\\u002fALL INDIA TRINAMOOL CONGRESS\\u002fNORTH EAST INFRA NET WORK\",\"Parties\\u002fRASHTRIYA JANTA DAL\\u002fNORTHERN SPIRITS LTD\",\"Parties\\u002fBHARAT RASHTRA SAMITHI\\u002fNSL RENEWABLE POWER PRIVATE LIMITED\",\"Parties\\u002fBHARAT RASHTRA SAMITHI\\u002fNSL SEZ HYDERABAD PRIVATE LIMITED\",\"Parties\\u002fBHARAT RASHTRA SAMITHI\\u002fNSL SEZ(HYDERABAD) PRIVATE LIMITED\",\"Parties\\u002fPRESIDENT, ALL INDIA CONGRESS COMMITTEE\\u002fNUVOCO VISTAS CORP. LTD\",\"Parties\\u002fPRESIDENT, ALL INDIA CONGRESS COMMITTEE\\u002fNUVOCO VISTAS CORPORATION LTD\",\"Parties\\u002fBHARAT RASHTRA SAMITHI\\u002fNVNR POWER   INFRA PRIVATE LIMITED\",\"Parties\\u002fBHARAT RASHTRA SAMITHI\\u002fNVSUBBA RAO\",\"Parties\\u002fBHARATIYA JANATA PARTY\\u002fOCEAN SPARKLE LTD\",\"Parties\\u002fALL INDIA TRINAMOOL CONGRESS\\u002fOM CREDIT PVT LTD\",\"Parties\\u002fPRESIDENT, ALL INDIA CONGRESS COMMITTEE\\u002fOM CREDIT PVT LTD\",\"Parties\\u002fALL INDIA TRINAMOOL CONGRESS\\u002fOM ENCLAVE PVT LTD\",\"Parties\\u002fALL INDIA TRINAMOOL CONGRESS\\u002fOM METALS DEVELOPERS (P) LTD.\",\"Parties\\u002fBHARATIYA JANATA PARTY\\u002fOM METALS DEVELOPERS (P) LTD.\",\"Parties\\u002fPRESIDENT, ALL INDIA CONGRESS COMMITTEE\\u002fOM METALS DEVELOPERS (P) LTD.\",\"Parties\\u002fALL INDIA TRINAMOOL CONGRESS\\u002fOM VINCOM PVT LTD\",\"Parties\\u002fBHARATIYA JANATA PARTY\\u002fOMKAR REALTORS PROJECTS PVT LTD\",\"Parties\\u002fPRESIDENT, ALL INDIA CONGRESS COMMITTEE\\u002fOMKAR REALTORS PROJECTS PVT LTD\",\"Parties\\u002fBHARATIYA JANATA PARTY\\u002fOMKAR VENTURES PVT LTD\",\"Parties\\u002fBHARATIYA JANATA PARTY\\u002fORIENT FASHION EXP (I) PVT LTD\",\"Parties\\u002fBHARATIYA JANATA PARTY\\u002fORIENTAL SOUTH DELHI HOTELS PVT LTD\",\"Parties\\u002fBIJU JANATA DAL\\u002fORISSA METALIKS PVT LIMITED\",\"Parties\\u002fBIJU JANATA DAL\\u002fORRISA METALIKS PVT LTD\",\"Parties\\u002fYSR  CONGRESS PARTY  (YUVAJANA SRAMIKA RYTHU CONGRESS PARTY)\\u002fOSTRO JAISALMER PRIVATE LIMITED\",\"Parties\\u002fYSR  CONGRESS PARTY  (YUVAJANA SRAMIKA RYTHU CONGRESS PARTY)\\u002fOSTRO MADHYA WIND PRIVATE LIMITED\",\"Parties\\u002fPRESIDENT, ALL INDIA CONGRESS COMMITTEE\\u002fP SHIVA SHANKAR REDDY\",\"Parties\\u002fBHARAT RASHTRA SAMITHI\\u002fP TEJAVARDHAN REDDY\",\"Parties\\u002fBHARAT RASHTRA SAMITHI\\u002fPALM SHELTER ESTATE DEVELOPMENT LL\",\"Parties\\u002fPRESIDENT, ALL INDIA CONGRESS COMMITTEE\\u002fPALM SHELTER ESTATE DEVELOPMENT LLP\",\"Parties\\u002fBHARATIYA JANATA PARTY\\u002fPANACEA BIOTEC PHARMA LTD PHARMACEU\",\"Parties\\u002fBHARATIYA JANATA PARTY\\u002fPANKAJ PERIWAL\",\"Parties\\u002fPRESIDENT, ALL INDIA CONGRESS COMMITTEE\\u002fPAPPI REDDY                              KISHORE KUMAR REDDY\",\"Parties\\u002fAAM AADMI PARTY\\u002fPARAMJIT SINGH S O JAGJIT SINGH\",\"Parties\\u002fALL INDIA TRINAMOOL CONGRESS\\u002fPARESH AJMERA\",\"Parties\\u002fBIJU JANATA DAL\\u002fPARESH CHAMPAKLAL SHAH\",\"Parties\\u002fPRESIDENT, ALL INDIA CONGRESS COMMITTEE\\u002fPARIBARTAN ELECTORAL TRUST\",\"Parties\\u002fPRESIDENT, ALL INDIA CONGRESS COMMITTEE\\u002fPARIKSHIT SOMANI\",\"Parties\\u002fBHARAT RASHTRA SAMITHI\\u002fPASURA AGRI SCIENCES LLP\",\"Parties\\u002fBHARAT RASHTRA SAMITHI\\u002fPASURA CROP CARE PVT LTD\",\"Parties\\u002fBHARATIYA JANATA PARTY\\u002fPATEL ENGINEERING LTD.\",\"Parties\\u002fBHARATIYA JANATA PARTY\\u002fPATEL HIGHWAY MANAGEMENT PVT LTD\",\"Parties\\u002fBHARAT RASHTRA SAMITHI\\u002fPAVANKUMAR REDDY KUNDURU\",\"Parties\\u002fPRESIDENT, ALL INDIA CONGRESS COMMITTEE\\u002fPAYEL AGARWAL\",\"Parties\\u002fALL INDIA TRINAMOOL CONGRESS\\u002fPCBL LIMITED\",\"Parties\\u002fBHARAT RASHTRA SAMITHI\\u002fPCBL LIMITED\",\"Parties\\u002fPRESIDENT, ALL INDIA CONGRESS COMMITTEE\\u002fPEDDIREDDY RAMANJANEYA REDDY\",\"Parties\\u002fBHARATIYA JANATA PARTY\\u002fPEGASUS PROPERTIES PVT LTD\",\"Parties\\u002fBIJU JANATA DAL\\u002fPENGUIN TRADING & AGENCIES LIMITED\",\"Parties\\u002fBIJU JANATA DAL\\u002fPENGUIN TRADING AND AGENCIES LTD\",\"Parties\\u002fBHARAT RASHTRA SAMITHI\\u002fPENNAR RENEWABLES PVT LTD( NEW ERA\",\"Parties\\u002fALL INDIA TRINAMOOL CONGRESS\\u002fPERFECT INVESTMENT CONSULTANCY PRIV\",\"Parties\\u002fALL INDIA TRINAMOOL CONGRESS\\u002fPHILIPS CARBON BLACK LTD\",\"Parties\\u002fALL INDIA TRINAMOOL CONGRESS\\u002fPHILLIPS CARBON BLACK LIMITED\",\"Parties\\u002fBHARATIYA JANATA PARTY\\u002fPHILLIPS CARBON BLACK LIMITED\",\"Parties\\u002fBHARATIYA JANATA PARTY\\u002fPHL FINIVEST PVT LTD\",\"Parties\\u002fBHARATIYA JANATA PARTY\\u002fPIRAMAL CAPITAL AND HOUSING FINANCE LTD\",\"Parties\\u002fBHARATIYA JANATA PARTY\\u002fPIRAMAL ENTERPRISES LIMITED\",\"Parties\\u002fBHARATIYA JANATA PARTY\\u002fPIRAMAL ENTERPRISES LTD\",\"Parties\\u002fBHARATIYA JANATA PARTY\\u002fPIRAMAL PHARMA LIMITED\",\"Parties\\u002fALL INDIA TRINAMOOL CONGRESS\\u002fPLUTO FINANCE PRIVATE LTD\",\"Parties\\u002fALL INDIA TRINAMOOL CONGRESS\\u002fPLUTO FINANCE PRIVATE LTD.\",\"Parties\\u002fPRESIDENT, ALL INDIA CONGRESS COMMITTEE\\u002fPOLINA GANESWARARAO\",\"Parties\\u002fPRESIDENT, ALL INDIA CONGRESS COMMITTEE\\u002fPONUGOTI HEMENDAR RAO\",\"Parties\\u002fALL INDIA TRINAMOOL CONGRESS\\u002fPOORVI DUGAR AJMERA\",\"Parties\\u002fBHARAT RASHTRA SAMITHI\\u002fPPR M SAND LLP\",\"Parties\\u002fBHARAT RASHTRA SAMITHI\\u002fPRABHAKAR RAO ASHA PRIYA PROPERTIES\",\"Parties\\u002fBHARAT RASHTRA SAMITHI\\u002fPRABHAKARA RAO MANDAVA\",\"Parties\\u002fBHARAT RASHTRA SAMITHI\\u002fPRABHAT HOMES PRIVATE LIMITED\",\"Parties\\u002fBIJU JANATA DAL\\u002fPRADEEP AGGARWAL\",\"Parties\\u002fPRESIDENT, ALL INDIA CONGRESS COMMITTEE\\u002fPRADIP KUMAR DAS\",\"Parties\\u002fBHARATIYA JANATA PARTY\\u002fPRAGATI ENTERPRISES\",\"Parties\\u002fBHARATIYA JANATA PARTY\\u002fPRAHLAD SHARMA\",\"Parties\\u002fBHARATIYA JANATA PARTY\\u002fPRAKASH BALWANT MENGANE\",\"Parties\\u002fALL INDIA TRINAMOOL CONGRESS\\u002fPRAKASH DISTILLERY & CHEMICAL CO (P) LT  D\",\"Parties\\u002fRASHTRIYA JANTA DAL\\u002fPRAKASH DISTILLERY & CHEMICAL CO (P) LT  D\",\"Parties\\u002fYSR  CONGRESS PARTY  (YUVAJANA SRAMIKA RYTHU CONGRESS PARTY)\\u002fPRAKASH DISTILLERY & CHEMICAL CO (P) LT  D\",\"Parties\\u002fALL INDIA TRINAMOOL CONGRESS\\u002fPRAMOD BAJORIA\",\"Parties\\u002fBHARATIYA JANATA PARTY\\u002fPRAMOD BAJORIA\",\"Parties\\u002fPRESIDENT, ALL INDIA CONGRESS COMMITTEE\\u002fPRAMOD BAJORIA\",\"Parties\\u002fALL INDIA TRINAMOOL CONGRESS\\u002fPRARAMBH SECURITIES PVT LTDOWN A\\u002fC\",\"Parties\\u002fALL INDIA TRINAMOOL CONGRESS\\u002fPRARAMBH SECURITIES PVT LTDPROPRIET\",\"Parties\\u002fBHARATIYA JANATA PARTY\\u002fPRARAMBH SECURITIES PVT LTDPROPRIET\",\"Parties\\u002fPRESIDENT, ALL INDIA CONGRESS COMMITTEE\\u002fPRARAMBH SECURITIES PVT LTDPROPRIET\",\"Parties\\u002fSHIVSENA\\u002fPRARAMBH SECURITIES PVT LTDPROPRIET\",\"Parties\\u002fBHARATIYA JANATA PARTY\\u002fPRASAD AND COMPANY PRIVATE LIMITED\",\"Parties\\u002fALL INDIA TRINAMOOL CONGRESS\\u002fPRASHANT KUMAR JAISWAL\",\"Parties\\u002fBHARATIYA JANATA PARTY\\u002fPRATHMESH CONSTRUCTION\",\"Parties\\u002fAAM AADMI PARTY\\u002fPRATIBHA AGARWAL\",\"Parties\\u002fBHARATIYA JANATA PARTY\\u002fPRATIKSHA DOSHI\",\"Parties\\u002fBHARAT RASHTRA SAMITHI\\u002fPRATYASH RENEWABLE PRIVATE LIMITED\",\"Parties\\u002fPRESIDENT, ALL INDIA CONGRESS COMMITTEE\\u002fPRAVEEN BAHETY\",\"Parties\\u002fALL INDIA TRINAMOOL CONGRESS\\u002fPRB SECURITIES PVT LTD\",\"Parties\\u002fBIJU JANATA DAL\\u002fPRB SECURITIES PVT LTD\",\"Parties\\u002fPRESIDENT, ALL INDIA CONGRESS COMMITTEE\\u002fPRB SECURITIES PVT LTD\",\"Parties\\u002fPRESIDENT, ALL INDIA CONGRESS COMMITTEE\\u002fPREETI BINANI\",\"Parties\\u002fALL INDIA TRINAMOOL CONGRESS\\u002fPREETI MAROTI\",\"Parties\\u002fYSR  CONGRESS PARTY  (YUVAJANA SRAMIKA RYTHU CONGRESS PARTY)\\u002fPREM AGGARWAL\",\"Parties\\u002fYSR  CONGRESS PARTY  (YUVAJANA SRAMIKA RYTHU CONGRESS PARTY)\\u002fPREM AGGARWAL AND SONS HUF\",\"Parties\\u002fPRESIDENT, ALL INDIA CONGRESS COMMITTEE\\u002fPREM RATAN BAHETY\",\"Parties\\u002fBHARATIYA JANATA PARTY\\u002fPREMCHAND GODHA\",\"Parties\\u002fPRESIDENT, ALL INDIA CONGRESS COMMITTEE\\u002fPREMCHAND GODHA\",\"Parties\\u002fSHIVSENA\\u002fPREMCHAND GODHA\",\"Parties\\u002fBHARAT RASHTRA SAMITHI\\u002fPREMIER PHOTOVOLTAIC MEDAK (P)LTD\",\"Parties\\u002fBHARAT RASHTRA SAMITHI\\u002fPREMIER PLASTIC INDUSTRIES\",\"Parties\\u002fBHARATIYA JANATA PARTY\\u002fPRESTIGE ESTATES PROJECTS LTD PREST\",\"Parties\\u002fBHARAT RASHTRA SAMITHI\\u002fPRESTIGE GARDEN ESTATES PRIVATE LIM\",\"Parties\\u002fPRESIDENT, ALL INDIA CONGRESS COMMITTEE\\u002fPRESTIGE GARDEN ESTATES PRIVATE LIM\",\"Parties\\u002fBHARATIYA JANATA PARTY\\u002fPRESTIGE HABITAT VENTURES\",\"Parties\\u002fBHARATIYA JANATA PARTY\\u002fPRESTIGE NOTTING HILL INVESTMENTS\",\"Parties\\u002fBHARAT RASHTRA SAMITHI\\u002fPRESTIGE PROJECTS PVT LTD\",\"Parties\\u002fPRESIDENT, ALL INDIA CONGRESS COMMITTEE\\u002fPRESTIGE PROJECTS PVT LTD\",\"Parties\\u002fPRESIDENT, ALL INDIA CONGRESS COMMITTEE\\u002fPRESTIGE PROPERTY MANAGEMENT AND SE\",\"Parties\\u002fBHARATIYA JANATA PARTY\\u002fPRESTIGE SOUTHCITY HOLDINGS\",\"Parties\\u002fBHARATIYA JANATA PARTY\\u002fPRIME SALES CORPORATION\",\"Parties\\u002fBHARAT RASHTRA SAMITHI\\u002fPRIMUSGLOBALTECHNOLOGIESPVTLTD\",\"Parties\\u002fTELUGU DESAM PARTY\\u002fPRIMUSGLOBALTECHNOLOGIESPVTLTD\",\"Parties\\u002fBHARATIYA JANATA PARTY\\u002fPRL DEVELOPERS PRIVATE LIMITED\",\"Parties\\u002fPRESIDENT, ALL INDIA CONGRESS COMMITTEE\\u002fPRL DEVELOPERS PRIVATE LIMITED\",\"Parties\\u002fSHIVSENA\\u002fPRL DEVELOPERS PRIVATE LIMITED\",\"Parties\\u002fBIJU JANATA DAL\\u002fPROCURE ADVISORY SERVICES PRIVATE L\",\"Parties\\u002fBIJU JANATA DAL\\u002fPROCURE ADVISORY SERVICES PRIVATE LTD\",\"Parties\\u002fBHARAT RASHTRA SAMITHI\\u002fPRUDHVI CONSTRUCTIONS PRIVATE LIMIT\",\"Parties\\u002fJHARKHAND MUKTI MORCHA\\u002fPUJA COAL PRIVATE LIMITED\",\"Parties\\u002fBHARATIYA JANATA PARTY\\u002fPURI CONSTRUCTION PVT LTD\",\"Parties\\u002fBHARATIYA JANATA PARTY\\u002fPURSHOTTAM LAL GUPTA\",\"Parties\\u002fPRESIDENT, ALL INDIA CONGRESS COMMITTEE\\u002fPURSHOTTAM LAL GUPTA\",\"Parties\\u002fALL INDIA TRINAMOOL CONGRESS\\u002fPURULIA BOTTLING PVT LTD\",\"Parties\\u002fRASHTRIYA JANTA DAL\\u002fPURULIA BOTTLING PVT LTD\",\"Parties\\u002fBHARATIYA JANATA PARTY\\u002fPUSHKARA COMMOSALES PRIVATE LIMITED\",\"Parties\\u002fPRESIDENT, ALL INDIA CONGRESS COMMITTEE\\u002fPVR LTD\",\"Parties\\u002fALL INDIA TRINAMOOL CONGRESS\\u002fQUALITY MAINTENANCE VENTURE LTD\",\"Parties\\u002fBHARATIYA JANATA PARTY\\u002fQUALITY MAINTENANCE VENTURE LTD\",\"Parties\\u002fRASHTRIYA JANTA DAL\\u002fQUALITY MAINTENANCE VENTURE LTD\",\"Parties\\u002fBHARATIYA JANATA PARTY\\u002fQWIKSUPPLYCHAINPRIVATELIMITED\",\"Parties\\u002fNATIONALIST CONGRESS PARTY MAHARASHTRA PRADESH\\u002fQWIKSUPPLYCHAINPRIVATELIMITED\",\"Parties\\u002fSHIVSENA\\u002fQWIKSUPPLYCHAINPRIVATELIMITED\",\"Parties\\u002fBHARAT RASHTRA SAMITHI\\u002fR   R INFRATECH  INDIA  PRIVATE LIM\",\"Parties\\u002fALL INDIA TRINAMOOL CONGRESS\\u002fR B DEALERS PVT LTD\",\"Parties\\u002fPRESIDENT, ALL INDIA CONGRESS COMMITTEE\\u002fR B DEALERS PVT LTD\",\"Parties\\u002fTELUGU DESAM PARTY\\u002fR K INFRACORP PRIVATE LIMITED\",\"Parties\\u002fBHARAT RASHTRA SAMITHI\\u002fR K V FABTECH INDIA PRIVATE LIMITED\",\"Parties\\u002fBHARAT RASHTRA SAMITHI\\u002fR N CONSTRUCTIONS\",\"Parties\\u002fBHARATIYA JANATA PARTY\\u002fR R KABEL LIMITED\",\"Parties\\u002fSHIVSENA\\u002fR SURYA NARAYNARAJU\",\"Parties\\u002fBHARAT RASHTRA SAMITHI\\u002fR V SUBRAHAMANYAM ISTAMSETTY\",\"Parties\\u002fBHARAT RASHTRA SAMITHI\\u002fR.S.BROTHERS RETAIL INDIA PRIVATE LIMITE D\",\"Parties\\u002fBHARAT RASHTRA SAMITHI\\u002fR.S.BROTHERS RETIAL INDIA PVT LTD\",\"Parties\\u002fBHARAT RASHTRA SAMITHI\\u002fRACHIT KAILASH MUNDHRA\",\"Parties\\u002fBHARATIYA JANATA PARTY\\u002fRADICO KHAITAN LIMITED\",\"Parties\\u002fBHARATIYA JANATA PARTY\\u002fRAGHAV COTSPIN PRIVATE LIMITED\",\"Parties\\u002fBHARAT RASHTRA SAMITHI\\u002fRAGHUKOOL ESTATE DEVELOPMENT LLP\",\"Parties\\u002fPRESIDENT, ALL INDIA CONGRESS COMMITTEE\\u002fRAGHUKOOL ESTATE DEVELOPMENT LLP\",\"Parties\\u002fPRESIDENT, ALL INDIA CONGRESS COMMITTEE\\u002fRAHUL AGARWAL\",\"Parties\\u002fALL INDIA TRINAMOOL CONGRESS\\u002fRAHUL BHATIA\",\"Parties\\u002fNATIONALIST CONGRESS PARTY MAHARASHTRA PRADESH\\u002fRAHUL BHATIA\",\"Parties\\u002fPRESIDENT, ALL INDIA CONGRESS COMMITTEE\\u002fRAHUL BHUWANIA\",\"Parties\\u002fALL INDIA TRINAMOOL CONGRESS\\u002fRAHUL CHOUDHARY\",\"Parties\\u002fRASHTRIYA JANTA DAL\\u002fRAHUL CHOUDHARY\",\"Parties\\u002fPRESIDENT, ALL INDIA CONGRESS COMMITTEE\\u002fRAHUL GUPTA\",\"Parties\\u002fBHARATIYA JANATA PARTY\\u002fRAHUL JAGANNATH JOSHI\",\"Parties\\u002fBHARATIYA JANATA PARTY\\u002fRAHUL TULSIAN\",\"Parties\\u002fBHARATIYA JANATA PARTY\\u002fRAIPUR BOTLING COMPANY\",\"Parties\\u002fPRESIDENT, ALL INDIA CONGRESS COMMITTEE\\u002fRAJ KAMAL DRUGS\",\"Parties\\u002fBHARAT RASHTRA SAMITHI\\u002fRAJAPUSHPA ASSET MANAGEMENT LLP\",\"Parties\\u002fBHARAT RASHTRA SAMITHI\\u002fRAJAPUSHPA PROPERTIES PVT LTD\",\"Parties\\u002fALL INDIA TRINAMOOL CONGRESS\\u002fRAJDHANI DEALERS PRIVATE LIMITED\",\"Parties\\u002fBHARATIYA JANATA PARTY\\u002fRAJEEV KUMAR JAIN\",\"Parties\\u002fPRESIDENT, ALL INDIA CONGRESS COMMITTEE\\u002fRAJEEV KUMAR SHARMA\",\"Parties\\u002fPRESIDENT, ALL INDIA CONGRESS COMMITTEE\\u002fRAJENDRA AGARWAL\",\"Parties\\u002fBHARATIYA JANATA PARTY\\u002fRAJESH JAIN\",\"Parties\\u002fALL INDIA TRINAMOOL CONGRESS\\u002fRAJESH KUMAR AGARWAL\",\"Parties\\u002fBHARATIYA JANATA PARTY\\u002fRAJESH KUMAR AGARWAL\",\"Parties\\u002fPRESIDENT, ALL INDIA CONGRESS COMMITTEE\\u002fRAJESH KUMAR AGARWAL\",\"Parties\\u002fPRESIDENT, ALL INDIA CONGRESS COMMITTEE\\u002fRAJESH M AGRAWAL\",\"Parties\\u002fBHARAT RASHTRA SAMITHI\\u002fRAJESH MANNALAL AGRAWAL\",\"Parties\\u002fBHARATIYA JANATA PARTY\\u002fRAJESH MANNALAL AGRAWAL\",\"Parties\\u002fPRESIDENT, ALL INDIA CONGRESS COMMITTEE\\u002fRAJESH MANNALAL AGRAWAL\",\"Parties\\u002fALL INDIA TRINAMOOL CONGRESS\\u002fRAJESH SHARMA\",\"Parties\\u002fBHARATIYA JANATA PARTY\\u002fRAJESH SHARMA\",\"Parties\\u002fBHARATIYA JANATA PARTY\\u002fRAJIV KUMAR JHA\",\"Parties\\u002fBHARATIYA JANATA PARTY\\u002fRAJIV S SOMANI\",\"Parties\\u002fBHARATIYA JANATA PARTY\\u002fRAJU KUMAR SHARMA\",\"Parties\\u002fPRESIDENT, ALL INDIA CONGRESS COMMITTEE\\u002fRAKESH KUMAR SHARMA\",\"Parties\\u002fBHARATIYA JANATA PARTY\\u002fRAKESH PRAVINCHANDRA SHAH\",\"Parties\\u002fAAM AADMI PARTY\\u002fRAMAN SHARMA\",\"Parties\\u002fBHARATIYA JANATA PARTY\\u002fRAMAWATAR SHARMA\",\"Parties\\u002fALL INDIA TRINAMOOL CONGRESS\\u002fRAMESH AGARWAL C S BOTTLING PL\",\"Parties\\u002fBHARATIYA JANATA PARTY\\u002fRAMESH AGARWAL C S BOTTLING PLANT\",\"Parties\\u002fYSR  CONGRESS PARTY  (YUVAJANA SRAMIKA RYTHU CONGRESS PARTY)\\u002fRAMESH AGARWAL C S BOTTLING PLANT\",\"Parties\\u002fBHARAT RASHTRA SAMITHI\\u002fRAMESH KRISHNA ENGINEERS PRIVATE LIMITED\",\"Parties\\u002fBHARATIYA JANATA PARTY\\u002fRAMESH TAPARIA\",\"Parties\\u002fPRESIDENT, ALL INDIA CONGRESS COMMITTEE\\u002fRAMGAD MINERALS AND MINING LTD\",\"Parties\\u002fBHARATIYA JANATA PARTY\\u002fRAMKRISHNA COTSPIN PVT LTD\",\"Parties\\u002fPRESIDENT, ALL INDIA CONGRESS COMMITTEE\\u002fRAMOLI DEALERS PVT LTD\",\"Parties\\u002fALL INDIA TRINAMOOL CONGRESS\\u002fRANISATI MERCANTILES PVT LTD\",\"Parties\\u002fALL INDIA TRINAMOOL CONGRESS\\u002fRANISATI MERCANTILES PVT. LTD.\",\"Parties\\u002fBHARATIYA JANATA PARTY\\u002fRANJIT BUILDCON LIMITED\",\"Parties\\u002fSHIVSENA\\u002fRANJIT BUILDCON LIMITED\",\"Parties\\u002fBHARATIYA JANATA PARTY\\u002fRANJIT PROJECTS PRIVATE LIMITED\",\"Parties\\u002fSHIVSENA\\u002fRANJIT PROJECTS PRIVATE LIMITED\",\"Parties\\u002fBHARATIYA JANATA PARTY\\u002fRANJIT TOLL ROAD PRIVATE LIMITED\",\"Parties\\u002fSHIVSENA\\u002fRANJIT TOLL ROAD PRIVATE LIMITED\",\"Parties\\u002fALL INDIA TRINAMOOL CONGRESS\\u002fRASHMI CEMENT LTD\",\"Parties\\u002fBIJU JANATA DAL\\u002fRASHMI CEMENT LTD\",\"Parties\\u002fBIJU JANATA DAL\\u002fRASHMI METALIKS LTD\",\"Parties\\u002fBHARATIYA JANATA PARTY\\u002fRATHOD LAKHIBEN\",\"Parties\\u002fSHIVSENA\\u002fRATHOD LAKHIBEN\",\"Parties\\u002fBHARATIYA JANATA PARTY\\u002fRATNAMANI METALS AND TUBES LTD\",\"Parties\\u002fALL INDIA TRINAMOOL CONGRESS\\u002fRAUNAK GUPTA\",\"Parties\\u002fRASHTRIYA JANTA DAL\\u002fRAUNAK GUPTA\",\"Parties\\u002fALL INDIA TRINAMOOL CONGRESS\\u002fRAUNAK PROPERTIES PVT. LTD\",\"Parties\\u002fBHARAT RASHTRA SAMITHI\\u002fRAVENDER RAO GORUKANTI\",\"Parties\\u002fBHARATIYA JANATA PARTY\\u002fRAVI KUMAR SHARMA\",\"Parties\\u002fPRESIDENT, ALL INDIA CONGRESS COMMITTEE\\u002fRAVINDER AGARWAL\",\"Parties\\u002fBHARAT RASHTRA SAMITHI\\u002fRAVINDRANATHA REDDY BANDI\",\"Parties\\u002fPRESIDENT, ALL INDIA CONGRESS COMMITTEE\\u002fRAVLON PROPERTIES PVT LTD.\",\"Parties\\u002fBHARATIYA JANATA PARTY\\u002fRAY CONSTRUCTIONS LTD\",\"Parties\\u002fPRESIDENT, ALL INDIA CONGRESS COMMITTEE\\u002fRAY CONSTRUCTIONS LTD\",\"Parties\\u002fBHARAT RASHTRA SAMITHI\\u002fRAYALA SEEMA WIND ENERGY PVT LTD\",\"Parties\\u002fTELUGU DESAM PARTY\\u002fRCC NUTRA FILL PRIVATE LIMITED\",\"Parties\\u002fBHARATIYA JANATA PARTY\\u002fREAL TECHNICAL SOLUTIONS PVT LTD\",\"Parties\\u002fBHARATIYA JANATA PARTY\\u002fREENA GARG\",\"Parties\\u002fBHARATIYA JANATA PARTY\\u002fREGENT ELECTRO MECH PRIVATE LIMITED\",\"Parties\\u002fBHARATIYA JANATA PARTY\\u002fRENUKA INVESTMENTS AND FINANCE LTD\",\"Parties\\u002fBHARATIYA JANATA PARTY\\u002fRENUKESHWAR INVESTMENTS PVT LTD\",\"Parties\\u002fBHARAT RASHTRA SAMITHI\\u002fREPALLY ASHOK\",\"Parties\\u002fRASHTRIYA JANTA DAL\\u002fRICHA & CO\",\"Parties\\u002fBHARATIYA JANATA PARTY\\u002fRICHA GLOBAL EXPORTS PRIVATE LIMITED\",\"Parties\\u002fALL INDIA TRINAMOOL CONGRESS\\u002fRIGHT AID CONSULTANTS PVT LTD\",\"Parties\\u002fBHARAT RASHTRA SAMITHI\\u002fRIGHT AID CONSULTANTS PVT LTD\",\"Parties\\u002fALL INDIA TRINAMOOL CONGRESS\\u002fRIPLEY & CO STEVDORING & HANDLING PVT LT D\",\"Parties\\u002fALL INDIA TRINAMOOL CONGRESS\\u002fRIPLEY AND CO. STEVEDORING & HANDLING PVT LTD\",\"Parties\\u002fPRESIDENT, ALL INDIA CONGRESS COMMITTEE\\u002fRISHABH KHEMKA \\u002f ISHWAR CHAND KHEMK\",\"Parties\\u002fPRESIDENT, ALL INDIA CONGRESS COMMITTEE\\u002fRISHABH PATNI\",\"Parties\\u002fALL INDIA TRINAMOOL CONGRESS\\u002fRITESH ENCLAVE PVT LTD\",\"Parties\\u002fALL INDIA TRINAMOOL CONGRESS\\u002fRITESH NIRMAN PVT LTD\",\"Parties\\u002fALL INDIA TRINAMOOL CONGRESS\\u002fRITESH PROJECTS PVT LTD\",\"Parties\\u002fJHARKHAND MUKTI MORCHA\\u002fRITESH PROJECTS PVT LTD\",\"Parties\\u002fPRESIDENT, ALL INDIA CONGRESS COMMITTEE\\u002fRITESH PROJECTS PVT LTD\",\"Parties\\u002fALL INDIA TRINAMOOL CONGRESS\\u002fRITESH REAL ESTATES PVT LTD\",\"Parties\\u002fALL INDIA TRINAMOOL CONGRESS\\u002fRITESH VANIJYA PRIVATE LIMITED\",\"Parties\\u002fJANATA DAL ( SECULAR )\\u002fRITHWIK PROJECTS  PRIVATE LIMITED\",\"Parties\\u002fPRESIDENT, ALL INDIA CONGRESS COMMITTEE\\u002fRITHWIK PROJECTS  PRIVATE LIMITED\",\"Parties\\u002fTELUGU DESAM PARTY\\u002fRITHWIK PROJECTS  PRIVATE LIMITED\",\"Parties\\u002fBHARATIYA JANATA PARTY\\u002fRMC SWITCHGEARS LTD\",\"Parties\\u002fBHARATIYA JANATA PARTY\\u002fROHIT AGARWAL\",\"Parties\\u002fALL INDIA TRINAMOOL CONGRESS\\u002fRONAK AJMERA\",\"Parties\\u002fBHARATIYA JANATA PARTY\\u002fROOPREKHA VYAPAAR PRIVATE LIMITED\",\"Parties\\u002fPRESIDENT, ALL INDIA CONGRESS COMMITTEE\\u002fROSHINI DEVELOPERS PRIVATE LTD\",\"Parties\\u002fBIJU JANATA DAL\\u002fROSHNI DEALMARK PRIVATE LIMITED\",\"Parties\\u002fBIJU JANATA DAL\\u002fROSHNI DEALMARK PRIVATE LTD\",\"Parties\\u002fALL INDIA TRINAMOOL CONGRESS\\u002fRPSG VENTURES LIMITED\",\"Parties\\u002fBHARATIYA JANATA PARTY\\u002fRSLH AUTO SEAT TRIMS PVT LTD\",\"Parties\\u002fBHARAT RASHTRA SAMITHI\\u002fRT RENEWABLE ENERGY PVT LTD\",\"Parties\\u002fALL INDIA TRINAMOOL CONGRESS\\u002fRUMA GHATAK\",\"Parties\\u002fBHARATIYA JANATA PARTY\\u002fRUNGTA SONS P LTD\",\"Parties\\u002fBIJU JANATA DAL\\u002fRUNGTA SONS P LTD\",\"Parties\\u002fALL INDIA TRINAMOOL CONGRESS\\u002fRUPA H SHAH\",\"Parties\\u002fPRESIDENT, ALL INDIA CONGRESS COMMITTEE\\u002fRUPA H SHAH\",\"Parties\\u002fBHARATIYA JANATA PARTY\\u002fS D CORPORATION PVT LTD\",\"Parties\\u002fALL INDIA TRINAMOOL CONGRESS\\u002fS E BUILDERS AND REALTORS LTD\",\"Parties\\u002fPRESIDENT, ALL INDIA CONGRESS COMMITTEE\\u002fS G  AGARWAL & CO\",\"Parties\\u002fAAM AADMI PARTY\\u002fS K SUPPLY CHAIN SOLUTIONS\",\"Parties\\u002fAAM AADMI PARTY\\u002fS K TRADERS\",\"Parties\\u002fAAM AADMI PARTY\\u002fS K TRADING CO.\",\"Parties\\u002fBHARATIYA JANATA PARTY\\u002fS R C CHEMICALS PVT LTD\",\"Parties\\u002fBHARATIYA JANATA PARTY\\u002fS.P. SINGLA CONSTRUCTIONS PRIVATE LTD.\",\"Parties\\u002fBHARATIYA JANATA PARTY\\u002fS.S.EARTHMOVERS AND LOGISTICS\",\"Parties\\u002fBHARATIYA JANATA PARTY\\u002fSAFAL GOYAL REALTY LLP\",\"Parties\\u002fBHARAT RASHTRA SAMITHI\\u002fSAGAR CEMENTS LIMITED\",\"Parties\\u002fBHARATIYA JANATA PARTY\\u002fSAGAR CEMENTS LIMITED\",\"Parties\\u002fPRESIDENT, ALL INDIA CONGRESS COMMITTEE\\u002fSAGAR CEMENTS LIMITED\",\"Parties\\u002fTELUGU DESAM PARTY\\u002fSAGAR CEMENTS LIMITED\",\"Parties\\u002fYSR  CONGRESS PARTY  (YUVAJANA SRAMIKA RYTHU CONGRESS PARTY)\\u002fSAGAR CEMENTS LIMITED\",\"Parties\\u002fBHARAT RASHTRA SAMITHI\\u002fSAGI VENKATA RAMAKRISHNA RAJU\",\"Parties\\u002fALL INDIA TRINAMOOL CONGRESS\\u002fSAGUN TULSYAN\",\"Parties\\u002fPRESIDENT, ALL INDIA CONGRESS COMMITTEE\\u002fSAGUN TULSYAN\",\"Parties\\u002fALL INDIA TRINAMOOL CONGRESS\\u002fSALASAR FINANCIAL ADVISORY SERVICES\",\"Parties\\u002fALL INDIA TRINAMOOL CONGRESS\\u002fSALASAR SAREES PVT LTD\",\"Parties\\u002fALL INDIA TRINAMOOL CONGRESS\\u002fSALASAR STOCK BROKING LTD-PROPRIETARY\",\"Parties\\u002fBHARATIYA JANATA PARTY\\u002fSAMMAN LAL SHER SINGH PAPERS PVT LT\",\"Parties\\u002fAAM AADMI PARTY\\u002fSAN BEVERAGES PVT LTD\",\"Parties\\u002fAAM AADMI PARTY\\u002fSAN LOGISTICS\",\"Parties\\u002fPRESIDENT, ALL INDIA CONGRESS COMMITTEE\\u002fSAN LOGISTICS\",\"Parties\\u002fYSR  CONGRESS PARTY  (YUVAJANA SRAMIKA RYTHU CONGRESS PARTY)\\u002fSANDEEP AGGARWAL\",\"Parties\\u002fYSR  CONGRESS PARTY  (YUVAJANA SRAMIKA RYTHU CONGRESS PARTY)\\u002fSANDEEP AGGARWAL AND SONS HUF\",\"Parties\\u002fALL INDIA TRINAMOOL CONGRESS\\u002fSANDEEP AUTO LINES\",\"Parties\\u002fDRAVIDA MUNNETRA KAZHAGAM (DMK)\\u002fSANDEEP AUTO LINES\",\"Parties\\u002fRASHTRIYA JANTA DAL\\u002fSANDEEP AUTO LINES\",\"Parties\\u002fPRESIDENT, ALL INDIA CONGRESS COMMITTEE\\u002fSANDEEP JHUNJHUNWALA\",\"Parties\\u002fSHIROMANI AKALI DAL\\u002fSANDEEP KHANNA AND ASSOCIATES\",\"Parties\\u002fPRESIDENT, ALL INDIA CONGRESS COMMITTEE\\u002fSANDEEP KUMAR SULTANIA (JT1)\",\"Parties\\u002fBHARAT RASHTRA SAMITHI\\u002fSANDHYA  CONSTRUCTIONS & ESTATES PRIVATE  LIMITED\",\"Parties\\u002fPRESIDENT, ALL INDIA CONGRESS COMMITTEE\\u002fSANGIREDDY THIRUPATHI REDDY\",\"Parties\\u002fPRESIDENT, ALL INDIA CONGRESS COMMITTEE\\u002fSANJAY AGARWAL\",\"Parties\\u002fBHARATIYA JANATA PARTY\\u002fSANJAY JAIN\",\"Parties\\u002fPRESIDENT, ALL INDIA CONGRESS COMMITTEE\\u002fSANJAY JHUNJHUNWALA\",\"Parties\\u002fAAM AADMI PARTY\\u002fSANJAY KUMAR\",\"Parties\\u002fALL INDIA TRINAMOOL CONGRESS\\u002fSANJAY KUMAR\",\"Parties\\u002fPRESIDENT, ALL INDIA CONGRESS COMMITTEE\\u002fSANJAY KUMAR\",\"Parties\\u002fALL INDIA TRINAMOOL CONGRESS\\u002fSANJAY KUMAR SINHA\",\"Parties\\u002fPRESIDENT, ALL INDIA CONGRESS COMMITTEE\\u002fSANJAY KUMAR SINHA\",\"Parties\\u002fALL INDIA TRINAMOOL CONGRESS\\u002fSANJIB CHAKRABORTY\",\"Parties\\u002fBHARAT RASHTRA SAMITHI\\u002fSANOLA WIND PROJECT PVT LTD\",\"Parties\\u002fAAM AADMI PARTY\\u002fSANTOSH GOYAL\",\"Parties\\u002fBHARATIYA JANATA PARTY\\u002fSANVI SPINNING MILLS PVT LTD\",\"Parties\\u002fBHARATIYA JANATA PARTY\\u002fSARD INDIA PRIVATE L\",\"Parties\\u002fBHARATIYA JANATA PARTY\\u002fSARDA ENERGY AND MINERALS LTD\",\"Parties\\u002fPRESIDENT, ALL INDIA CONGRESS COMMITTEE\\u002fSARITA   MIRANIA AGARWAL\",\"Parties\\u002fPRESIDENT, ALL INDIA CONGRESS COMMITTEE\\u002fSARITA  MIRANIA AGARWAL\",\"Parties\\u002fRASHTRIYA JANTA DAL\\u002fSARITA HANDA EXPORTS PVT LTD\",\"Parties\\u002fBHARATIYA JANATA PARTY\\u002fSARITA MIRANIA AGARWAL\",\"Parties\\u002fBHARAT RASHTRA SAMITHI\\u002fSAROJA RENEWABLES PRIVATE LIMITED\",\"Parties\\u002fALL INDIA TRINAMOOL CONGRESS\\u002fSAROJIT KUMAR DEY\",\"Parties\\u002fYSR  CONGRESS PARTY  (YUVAJANA SRAMIKA RYTHU CONGRESS PARTY)\\u002fSAROJIT KUMAR DEY\",\"Parties\\u002fBHARATIYA JANATA PARTY\\u002fSAROSH ALIZAH MINING\",\"Parties\\u002fBHARATIYA JANATA PARTY\\u002fSASMAL INFRASTRUCTURE PRIVATE LIMITED\",\"Parties\\u002fPRESIDENT, ALL INDIA CONGRESS COMMITTEE\\u002fSASMAL INFRASTRUCTURE PRIVATE LIMITED\",\"Parties\\u002fBHARATIYA JANATA PARTY\\u002fSATEC ENVIR ENGINEERING (I) PVT LTD\",\"Parties\\u002fBHARATIYA JANATA PARTY\\u002fSATISHCHANDRA SHANTILAL DOSHI HUF\",\"Parties\\u002fBHARATIYA JANATA PARTY\\u002fSAURABH GUPTA\",\"Parties\\u002fPRESIDENT, ALL INDIA CONGRESS COMMITTEE\\u002fSAURABH JAIN\",\"Parties\\u002fPRESIDENT, ALL INDIA CONGRESS COMMITTEE\\u002fSCAFFOLD PROPERTIES PVT LTD\",\"Parties\\u002fBHARATIYA JANATA PARTY\\u002fSDS LOGISTICS PRIVATE LIMITED\",\"Parties\\u002fPRESIDENT, ALL INDIA CONGRESS COMMITTEE\\u002fSECURE METERS LTD\",\"Parties\\u002fBHARATIYA JANATA PARTY\\u002fSEEMA MIRANIA AGARWAL\",\"Parties\\u002fPRESIDENT, ALL INDIA CONGRESS COMMITTEE\\u002fSEEMA MIRANIA AGARWAL\",\"Parties\\u002fYSR  CONGRESS PARTY  (YUVAJANA SRAMIKA RYTHU CONGRESS PARTY)\\u002fSEI ARUSHI PVT LTD\",\"Parties\\u002fBHARAT RASHTRA SAMITHI\\u002fSEI BASKARA POWER PVT LTD\",\"Parties\\u002fYSR  CONGRESS PARTY  (YUVAJANA SRAMIKA RYTHU CONGRESS PARTY)\\u002fSEI DIAMOND PVT LTD\",\"Parties\\u002fBHARAT RASHTRA SAMITHI\\u002fSEI ENERSTAR RENEWABLE ENRGY PVT LTD\",\"Parties\\u002fBHARAT RASHTRA SAMITHI\\u002fSEI MIHIR ENERGY PVT LTD\",\"Parties\\u002fBHARAT RASHTRA SAMITHI\\u002fSEI VENUS PVT LTD\",\"Parties\\u002fBHARATIYA JANATA PARTY\\u002fSELENE CONSTRUCTIONS LIMITED\",\"Parties\\u002fBHARATIYA JANATA PARTY\\u002fSELMAR LAB  PRIVATE LIMITED\",\"Parties\\u002fBHARAT RASHTRA SAMITHI\\u002fSELMAR LAB PRIVATE LTD\",\"Parties\\u002fALL INDIA TRINAMOOL CONGRESS\\u002fSENGUPTA AND SENGUPTA PRIVATE LIMIT\",\"Parties\\u002fBHARATIYA JANATA PARTY\\u002fSENGUPTA AND SENGUPTA PRIVATE LIMIT\",\"Parties\\u002fYSR  CONGRESS PARTY  (YUVAJANA SRAMIKA RYTHU CONGRESS PARTY)\\u002fSENGUPTA AND SENGUPTA PRIVATE LIMIT\",\"Parties\\u002fALL INDIA TRINAMOOL CONGRESS\\u002fSENGUPTA AND SENGUPTA PVT LTD\",\"Parties\\u002fRASHTRIYA JANTA DAL\\u002fSENGUPTA AND SENGUPTA PVT LTD\",\"Parties\\u002fBHARATIYA JANATA PARTY\\u002fSEPC POWER PVT LTD OPERATION RETEN\",\"Parties\\u002fPRESIDENT, ALL INDIA CONGRESS COMMITTEE\\u002fSEPC POWER PVT LTD OPERATION RETEN\",\"Parties\\u002fTELUGU DESAM PARTY\\u002fSEPC POWER PVT LTD OPERATION RETEN\",\"Parties\\u002fPRESIDENT, ALL INDIA CONGRESS COMMITTEE\\u002fSERVEALL LAND DEVELOPERS PVT LTD\",\"Parties\\u002fNATIONALIST CONGRESS PARTY MAHARASHTRA PRADESH\\u002fSEZ BIOTECH SERVICES PVT LTD\",\"Parties\\u002fPRESIDENT, ALL INDIA CONGRESS COMMITTEE\\u002fSHADOWFAX TRADERS\",\"Parties\\u002fBHARATIYA JANATA PARTY\\u002fSHAHAB RIZVI\",\"Parties\\u002fBHARATIYA JANATA PARTY\\u002fSHAHIEXP\",\"Parties\\u002fBHARATIYA JANATA PARTY\\u002fSHANKARANARAYANA CONSTRUCTIONS PVT\",\"Parties\\u002fBHARATIYA JANATA PARTY\\u002fSHANKARRESOURCESPVTLTD\",\"Parties\\u002fBHARATIYA JANATA PARTY\\u002fSHAURYAVIR CARRIERS PRIVATE LIMITED\",\"Parties\\u002fBHARATIYA JANATA PARTY\\u002fSHINE COTSPIN PVT LTD\",\"Parties\\u002fTELUGU DESAM PARTY\\u002fSHIRDI SAI ELECTRICALS LTD\",\"Parties\\u002fBHARATIYA JANATA PARTY\\u002fSHIRISH BAJAJ\",\"Parties\\u002fALL INDIA TRINAMOOL CONGRESS\\u002fSHIV SHANKAR SECURITIES PVT LTD\",\"Parties\\u002fBHARATIYA JANATA PARTY\\u002fSHIVALIK PRINTS LIMITED\",\"Parties\\u002fPRESIDENT, ALL INDIA CONGRESS COMMITTEE\\u002fSHIVALIK PRINTS LIMITED\",\"Parties\\u002fBHARATIYA JANATA PARTY\\u002fSHIVAM TRANSCON PRIVATE LIMITED\",\"Parties\\u002fPRESIDENT, ALL INDIA CONGRESS COMMITTEE\\u002fSHREE CEMENT LIMITED\",\"Parties\\u002fBIHAR PRADESH JANTA DAL(UNITED)\\u002fSHREE CEMENT LTD\",\"Parties\\u002fPRESIDENT, ALL INDIA CONGRESS COMMITTEE\\u002fSHREE CEMENT LTD\",\"Parties\\u002fRASHTRIYA JANTA DAL\\u002fSHREE CEMENT LTD\",\"Parties\\u002fALL INDIA TRINAMOOL CONGRESS\\u002fSHREE CHAND SARAOGI\",\"Parties\\u002fJHARKHAND MUKTI MORCHA\\u002fSHREE CHAND SARAOGI\",\"Parties\\u002fPRESIDENT, ALL INDIA CONGRESS COMMITTEE\\u002fSHREE RATAN BAHETY\",\"Parties\\u002fALL INDIA TRINAMOOL CONGRESS\\u002fSHREE SALASAR PROPERTIES & FINANCE PVT LTD\",\"Parties\\u002fYSR  CONGRESS PARTY  (YUVAJANA SRAMIKA RYTHU CONGRESS PARTY)\\u002fSHREYAS RENEWABLE ENERGY PRIVATE LTD\",\"Parties\\u002fBHARAT RASHTRA SAMITHI\\u002fSHREYAS RENEWABLE ENERGY PVT LTD\",\"Parties\\u002fBHARATIYA JANATA PARTY\\u002fSHRI JAGANNATH STEELS & POWER LTD\",\"Parties\\u002fBIJU JANATA DAL\\u002fSHRI JAGANNATH STEELS & POWER LTD\",\"Parties\\u002fBIJU JANATA DAL\\u002fSHRI SHAMLAJI SALES PRIVATE LIMITED\",\"Parties\\u002fALL INDIA TRINAMOOL CONGRESS\\u002fSHRINIVAS VASUDEVA DEMPO\",\"Parties\\u002fBHARATIYA JANATA PARTY\\u002fSHRINIVAS VASUDEVA DEMPO\",\"Parties\\u002fMAHARASHTRAWADI GOMNTAK PARTY\\u002fSHRINIVAS VASUDEVA DEMPO\",\"Parties\\u002fPRESIDENT, ALL INDIA CONGRESS COMMITTEE\\u002fSHRINIVAS VASUDEVA DEMPO\",\"Parties\\u002fBHARATIYA JANATA PARTY\\u002fSHYAM STEEL MANUFACTURING LTD. (FLY SOVA  ISPAT LTD.)\",\"Parties\\u002fPRESIDENT, ALL INDIA CONGRESS COMMITTEE\\u002fSHYAM SUNDAR BAHETY\",\"Parties\\u002fBHARATIYA JANATA PARTY\\u002fSI AIR SPRINGS PRIVATE LTD\",\"Parties\\u002fBHARAT RASHTRA SAMITHI\\u002fSIAN INFRA AND REALCON LLP\",\"Parties\\u002fBHARAT RASHTRA SAMITHI\\u002fSIDDHARTH DEVELOPERS\",\"Parties\\u002fPRESIDENT, ALL INDIA CONGRESS COMMITTEE\\u002fSIDDHARTH MATHUR\",\"Parties\\u002fPRESIDENT, ALL INDIA CONGRESS COMMITTEE\\u002fSIDDHI TRADING\",\"Parties\\u002fALL INDIA TRINAMOOL CONGRESS\\u002fSIDHANT INVESTMENT ADVISORY PRIVATE\",\"Parties\\u002fPRESIDENT, ALL INDIA CONGRESS COMMITTEE\\u002fSIDHARTH AGARWAL\",\"Parties\\u002fJANATA DAL ( SECULAR )\\u002fSIGMA ADVANCED SYSTEMS PRIVATE LIMI\",\"Parties\\u002fALL INDIA TRINAMOOL CONGRESS\\u002fSILVER LINE INVESTMENT COMPANY\",\"Parties\\u002fBHARAT RASHTRA SAMITHI\\u002fSILVERTONE SECURITIES PRIVATE LIMIT\",\"Parties\\u002fBIJU JANATA DAL\\u002fSILVERTONE SECURITIES PRIVATE LIMIT\",\"Parties\\u002fALL INDIA TRINAMOOL CONGRESS\\u002fSILVERTONE SECURITIES PVT LTD\",\"Parties\\u002fBHARATIYA JANATA PARTY\\u002fSILVERTOSS SECURITIES PVT LTD\",\"Parties\\u002fSHIVSENA\\u002fSITARA DIAMOND PRIVATE LIMITED\",\"Parties\\u002fPRESIDENT, ALL INDIA CONGRESS COMMITTEE\\u002fSK INFRA\",\"Parties\\u002fYSR  CONGRESS PARTY  (YUVAJANA SRAMIKA RYTHU CONGRESS PARTY)\\u002fSKEIRON RENEWABLE ENERGY AMIDYALA P\",\"Parties\\u002fYSR  CONGRESS PARTY  (YUVAJANA SRAMIKA RYTHU CONGRESS PARTY)\\u002fSKEIRON RENEWABLE ENERGY AMIDYALA PRIVATE LIMITED\",\"Parties\\u002fALL INDIA TRINAMOOL CONGRESS\\u002fSKP MERCHANTS LLP\",\"Parties\\u002fPRESIDENT, ALL INDIA CONGRESS COMMITTEE\\u002fSKP MERCHANTS LLP\",\"Parties\\u002fBHARATIYA JANATA PARTY\\u002fSKYWORLD DEVELOPERS LLP\",\"Parties\\u002fTELUGU DESAM PARTY\\u002fSLICK SOFTWARE SOLUTIONS PRIVATE LI\",\"Parties\\u002fTELUGU DESAM PARTY\\u002fSLRV HOMES LLP\",\"Parties\\u002fBHARATIYA JANATA PARTY\\u002fSMR AUTOMOTIVE SYSTEMS INDIA LTD\",\"Parties\\u002fBHARAT RASHTRA SAMITHI\\u002fSMRITI  AGRAWAL\",\"Parties\\u002fPRESIDENT, ALL INDIA CONGRESS COMMITTEE\\u002fSMRITI  AGRAWAL\",\"Parties\\u002fBHARATIYA JANATA PARTY\\u002fSNB MINERALS PRIVATE LIMITED\",\"Parties\\u002fYSR  CONGRESS PARTY  (YUVAJANA SRAMIKA RYTHU CONGRESS PARTY)\\u002fSNEHA KINETIC POWER PROJECTS PVT LTD\",\"Parties\\u002fBHARATIYA JANATA PARTY\\u002fSNS CLOTHING PVT LTD\",\"Parties\\u002fBHARATIYA JANATA PARTY\\u002fSOHAN SARAF\",\"Parties\\u002fBHARAT RASHTRA SAMITHI\\u002fSOHINI DEVELOPERS LLP\",\"Parties\\u002fBHARATIYA JANATA PARTY\\u002fSOM DISTILERIES PRIVATE LTD\",\"Parties\\u002fBHARATIYA JANATA PARTY\\u002fSOM DISTILLERIES BREWERIES LIMITED\",\"Parties\\u002fBHARATIYA JANATA PARTY\\u002fSOM DISTILLERIES PVT LTD\",\"Parties\\u002fBHARATIYA JANATA PARTY\\u002fSOMASILA SOLAR POWER LIMITED\",\"Parties\\u002fTELUGU DESAM PARTY\\u002fSOMASILA SOLAR POWER LIMITED\",\"Parties\\u002fBHARATIYA JANATA PARTY\\u002fSOPANRAO BALKRISHNA DHASAL AGRO PRODUCTS  LIMITED\",\"Parties\\u002fALL INDIA TRINAMOOL CONGRESS\\u002fSOURABH                                  KUMAR ROY\",\"Parties\\u002fDRAVIDA MUNNETRA KAZHAGAM (DMK)\\u002fSOUTH ASIA FM LIMITED\",\"Parties\\u002fBHARATIYA JANATA PARTY\\u002fSPECO INFRASTRUCTURE\",\"Parties\\u002fBHARATIYA JANATA PARTY\\u002fSPECO INFRASTRUCTURES\",\"Parties\\u002fALL INDIA TRINAMOOL CONGRESS\\u002fSPEED BUSINESS PVT LTD\",\"Parties\\u002fAAM AADMI PARTY\\u002fSPICEJET LIMITED\",\"Parties\\u002fPRESIDENT, ALL INDIA CONGRESS COMMITTEE\\u002fSPML OM METALS JV\",\"Parties\\u002fBHARATIYA JANATA PARTY\\u002fSPPL PROPERTY MANAGEMENT PVT LTD\",\"Parties\\u002fBHARAT RASHTRA SAMITHI\\u002fSR DEVELOPERS\",\"Parties\\u002fPRESIDENT, ALL INDIA CONGRESS COMMITTEE\\u002fSRABANI ROY\",\"Parties\\u002fPRESIDENT, ALL INDIA CONGRESS COMMITTEE\\u002fSREE KRUTHI\",\"Parties\\u002fTELUGU DESAM PARTY\\u002fSREE RAYALASEEMA HI STRENGTH HYPO LTD\",\"Parties\\u002fPRESIDENT, ALL INDIA CONGRESS COMMITTEE\\u002fSREENATH FINVEST PRIVATE LIMITED\",\"Parties\\u002fJANASENA PARTY\\u002fSRI CHAITANYA STUDENTS FACILITY MANAGEME\",\"Parties\\u002fTELUGU DESAM PARTY\\u002fSRI CHAITANYA STUDENTS FACILITY MANAGEME\",\"Parties\\u002fBHARAT RASHTRA SAMITHI\\u002fSRI DEVELOPERS\",\"Parties\\u002fBHARAT RASHTRA SAMITHI\\u002fSRI KARTHIKEYA DEVELOPERS\",\"Parties\\u002fBHARATIYA JANATA PARTY\\u002fSRI KRISHNA INFRAASTRUCTURES\",\"Parties\\u002fPRESIDENT, ALL INDIA CONGRESS COMMITTEE\\u002fSRI KUMARASWAMY MINERAL EXPORTS PR\",\"Parties\\u002fBHARAT RASHTRA SAMITHI\\u002fSRI SAI BIO ORGANICS( OPR BY R V SUBRAHM ANYAM I)\",\"Parties\\u002fBHARAT RASHTRA SAMITHI\\u002fSRI SIDDARTHA CONSTRUCTIONS\",\"Parties\\u002fTELUGU DESAM PARTY\\u002fSRI SIDDHARTH INFRATECH & SERVICES(I) PVT LTD\",\"Parties\\u002fBHARATIYA JANATA PARTY\\u002fSRI SIDDHARTH INFRATECH AND SERVICES I P\",\"Parties\\u002fPRESIDENT, ALL INDIA CONGRESS COMMITTEE\\u002fSRI SIDDHARTH INFRATECH AND SERVICES I P\",\"Parties\\u002fTELUGU DESAM PARTY\\u002fSRI SIDDHARTH INFRATECH AND SERVICES I P\",\"Parties\\u002fBHARAT RASHTRA SAMITHI\\u002fSRI VIGNEWARA CONSTRUCTIONS\",\"Parties\\u002fBHARAT RASHTRA SAMITHI\\u002fSRI YANTRA ASSOCIATES\",\"Parties\\u002fBHARAT RASHTRA SAMITHI\\u002fSRICHAITANYA STUDENTS FACILITY MANAGEMENT PVT LTD\",\"Parties\\u002fPRESIDENT, ALL INDIA CONGRESS COMMITTEE\\u002fSRINIVASH BINANI\",\"Parties\\u002fBHARAT RASHTRA SAMITHI\\u002fSRIVAY INDUSTRIES LIMITED\",\"Parties\\u002fBHARAT RASHTRA SAMITHI\\u002fSRIVILAS HYDROTECH PVT LTD\",\"Parties\\u002fALL INDIA TRINAMOOL CONGRESS\\u002fSSALASAR  FINANCIAL ADVISORY SERVICE PVT LTD\",\"Parties\\u002fBHARATIYA JANATA PARTY\\u002fST PATRICKS REALTY PVT LTD\",\"Parties\\u002fBHARATIYA JANATA PARTY\\u002fSTAR CEMENT MEGHALAYA LIMITED\",\"Parties\\u002fPRESIDENT, ALL INDIA CONGRESS COMMITTEE\\u002fSTAR CEMENT MEGHALAYA LIMITED\",\"Parties\\u002fPRESIDENT, ALL INDIA CONGRESS COMMITTEE\\u002fSTOCKPATHADVISORSLLP\",\"Parties\\u002fBHARATIYA JANATA PARTY\\u002fSUBHASH CHANDRA GUPTA\",\"Parties\\u002fTELUGU DESAM PARTY\\u002fSUDHAKAR KANCHARLA\",\"Parties\\u002fALL INDIA TRINAMOOL CONGRESS\\u002fSUDSAR BUILDSPACE LLP\",\"Parties\\u002fBHARATIYA JANATA PARTY\\u002fSUKHBIR SINGH\",\"Parties\\u002fPRESIDENT, ALL INDIA CONGRESS COMMITTEE\\u002fSUKRITI GUPTA BAHETY\",\"Parties\\u002fSHIVSENA\\u002fSULA VINEYARDS PVT LTD\",\"Parties\\u002fALL INDIA TRINAMOOL CONGRESS\\u002fSUMAN AGARWAL\",\"Parties\\u002fALL INDIA TRINAMOOL CONGRESS\\u002fSUMAN ESTATES PRIVATE LIMITED\",\"Parties\\u002fPRESIDENT, ALL INDIA CONGRESS COMMITTEE\\u002fSUMAN ESTATES PRIVATE LIMITED\",\"Parties\\u002fBHARATIYA JANATA PARTY\\u002fSUMITRA DEVI AGARWAL\",\"Parties\\u002fDRAVIDA MUNNETRA KAZHAGAM (DMK)\\u002fSUN DISTRIBUTION SERVICES PVT LTD\",\"Parties\\u002fBHARATIYA JANATA PARTY\\u002fSUN OILNATURAL GAS DIV SUN PETRO P.\",\"Parties\\u002fPRESIDENT, ALL INDIA CONGRESS COMMITTEE\\u002fSUN OILNATURAL GAS DIV SUN PETRO P.\",\"Parties\\u002fBHARATIYA JANATA PARTY\\u002fSUN PHARMA LABORATORIES LIMTED\",\"Parties\\u002fBHARATIYA JANATA PARTY\\u002fSUN PHARMA LABORATORIES LTD\",\"Parties\\u002fBHARAT RASHTRA SAMITHI\\u002fSUNBORNE ENERGY ANDHRA PVT LTD\",\"Parties\\u002fBHARATIYA JANATA PARTY\\u002fSUNDARAM INDUSTRIES PVT LIMITED\",\"Parties\\u002fBHARATIYA JANATA PARTY\\u002fSUNDEEP JHUNJHUNWALA\",\"Parties\\u002fBHARATIYA JANATA PARTY\\u002fSUNDRAM INDUSTRIES PVT LTD\",\"Parties\\u002fBHARAT RASHTRA SAMITHI\\u002fSUNIL ENGINEERING AND SYSTEMS\",\"Parties\\u002fAAM AADMI PARTY\\u002fSUNKURU SURESH SUBUDHI  JT\",\"Parties\\u002fALL INDIA TRINAMOOL CONGRESS\\u002fSUNSHINE FINTRADE PVT LTD\",\"Parties\\u002fBHARAT RASHTRA SAMITHI\\u002fSUPER CYBERTECH PARK PRIVATE LIMITE\",\"Parties\\u002fPRESIDENT, ALL INDIA CONGRESS COMMITTEE\\u002fSURBHI AGARWAL\",\"Parties\\u002fALL INDIA TRINAMOOL CONGRESS\\u002fSURENDRA STEELS PRIVATE LIMITED\",\"Parties\\u002fPRESIDENT, ALL INDIA CONGRESS COMMITTEE\\u002fSURESH PATNI\",\"Parties\\u002fPRESIDENT, ALL INDIA CONGRESS COMMITTEE\\u002fSUSHIL KUMAR KOTHARI\",\"Parties\\u002fPRESIDENT, ALL INDIA CONGRESS COMMITTEE\\u002fSUSHILA PATNI\",\"Parties\\u002fBHARATIYA JANATA PARTY\\u002fSUSTAINABLE SPINNING AND COMMODITIES PVT  LTD\",\"Parties\\u002fBHARAT RASHTRA SAMITHI\\u002fSUVARCHAS SOLAR POWER PRIVATE LIMITED\",\"Parties\\u002fBHARATIYA JANATA PARTY\\u002fSWAL CORPORATION LIMITED\",\"Parties\\u002fBHARATIYA JANATA PARTY\\u002fSWAMI FUELS PRIVATE LIMITED\",\"Parties\\u002fPRESIDENT, ALL INDIA CONGRESS COMMITTEE\\u002fSWAPNA CHENNAVARAM\",\"Parties\\u002fALL INDIA TRINAMOOL CONGRESS\\u002fSWARNAPUSHPA VANIJYA PRIVATE LIMITE\",\"Parties\\u002fBHARAT RASHTRA SAMITHI\\u002fSWARNARETH MINERAL INDUSTRIES\",\"Parties\\u002fBHARATIYA JANATA PARTY\\u002fSWETA ESTATES PVT LTD\",\"Parties\\u002fBHARATIYA JANATA PARTY\\u002fSYLVANUS PROPERTIES LIMITED\",\"Parties\\u002fALL INDIA TRINAMOOL CONGRESS\\u002fSYNERGY DEALCOM PVT LTD-SELF A\\u002fC\",\"Parties\\u002fSHIVSENA\\u002fT SIRISH BABU\",\"Parties\\u002fYSR  CONGRESS PARTY  (YUVAJANA SRAMIKA RYTHU CONGRESS PARTY)\\u002fTADAS WIND ENERGY PVT LTD\",\"Parties\\u002fBHARATIYA JANATA PARTY\\u002fTALENTO TECHNICAL PLANT SERVICES PVT LTD\",\"Parties\\u002fBHARAT RASHTRA SAMITHI\\u002fTANOT WIND POWER VENTURES PVT LTD\",\"Parties\\u002fYSR  CONGRESS PARTY  (YUVAJANA SRAMIKA RYTHU CONGRESS PARTY)\\u002fTANOT WIND POWER VENTURES PVT LTD\",\"Parties\\u002fPRESIDENT, ALL INDIA CONGRESS COMMITTEE\\u002fTANUSHREE LOGISTICS PRIVATE LIMITED\",\"Parties\\u002fPRESIDENT, ALL INDIA CONGRESS COMMITTEE\\u002fTANUSHREE SOMANI\",\"Parties\\u002fBHARATIYA JANATA PARTY\\u002fTAQUITO LEASE OPERATORS PVT. LTD\",\"Parties\\u002fPRESIDENT, ALL INDIA CONGRESS COMMITTEE\\u002fTARGET VINCOM PVT LTD\",\"Parties\\u002fBHARATIYA JANATA PARTY\\u002fTARLA RAJENDRA SHAH\",\"Parties\\u002fBHARATIYA JANATA PARTY\\u002fTAVINDER SINGH KOHLI\",\"Parties\\u002fAAM AADMI PARTY\\u002fTECH MAHINDRA LTD\",\"Parties\\u002fALL INDIA TRINAMOOL CONGRESS\\u002fTEGA INDUSTRIES LIMI\",\"Parties\\u002fBHARATIYA JANATA PARTY\\u002fTEJAS  P  SHAH\",\"Parties\\u002fTELUGU DESAM PARTY\\u002fTEKREANT INDIA PRIVATE LIMITED\",\"Parties\\u002fBHARAT RASHTRA SAMITHI\\u002fTELLAPUR TECHNOCITY PRIVATE LIMI\",\"Parties\\u002fBHARATIYA JANATA PARTY\\u002fTERACON BUILDTECH LLP\",\"Parties\\u002fBHARATIYA JANATA PARTY\\u002fTEXPORT CREATION\",\"Parties\\u002fBHARATIYA JANATA PARTY\\u002fTHAKUR PRASAD SAO & SONS PVT LT\",\"Parties\\u002fBHARAT RASHTRA SAMITHI\\u002fTHE ANGUS COMPANY LIMITED\",\"Parties\\u002fBHARATIYA JANATA PARTY\\u002fTHE ANUP ENGINEERING\",\"Parties\\u002fBHARATIYA JANATA PARTY\\u002fTHE ASSOCIATED AUTO PARTS PRIVATE LIMITED\",\"Parties\\u002fBHARAT RASHTRA SAMITHI\\u002fTHE GANGES MANUFACTURING CO LTD\",\"Parties\\u002fDRAVIDA MUNNETRA KAZHAGAM (DMK)\\u002fTHE INDIA CEMENTS LTD\",\"Parties\\u002fBIJU JANATA DAL\\u002fTHE PUNJAB BUSINESS SUPPLY COMPANY\",\"Parties\\u002fBHARATIYA JANATA PARTY\\u002fTHE RAMCO CEMENTS LIMITED\",\"Parties\\u002fTELUGU DESAM PARTY\\u002fTHE RAMCO CEMENTS LIMITED\",\"Parties\\u002fYSR  CONGRESS PARTY  (YUVAJANA SRAMIKA RYTHU CONGRESS PARTY)\\u002fTHE RAMCO CEMENTS LIMITED\",\"Parties\\u002fPRESIDENT, ALL INDIA CONGRESS COMMITTEE\\u002fTHE SANDUR MANGANESE &AMP;AMP; IRON ORES LI\",\"Parties\\u002fBHARATIYA JANATA PARTY\\u002fTHE SUPREME INDUSTRIES LTD\",\"Parties\\u002fPRESIDENT, ALL INDIA CONGRESS COMMITTEE\\u002fTHE SUPREME INDUSTRIES LTD\",\"Parties\\u002fDRAVIDA MUNNETRA KAZHAGAM (DMK)\\u002fTHRIVENI EARTH MOVERS PVT LTD\",\"Parties\\u002fBIJU JANATA DAL\\u002fTHRIVENI EARTHMOVERS PVT LTD\",\"Parties\\u002fJHARKHAND MUKTI MORCHA\\u002fTHRIVENI SAINIK MINING PRIVATE LIMI\",\"Parties\\u002fALL INDIA TRINAMOOL CONGRESS\\u002fTILAK AJMERA\",\"Parties\\u002fALL INDIA TRINAMOOL CONGRESS\\u002fTIVOLI PARK APARTMENTS PVT LTD\",\"Parties\\u002fBHARAT RASHTRA SAMITHI\\u002fTOPNOTCH PROJECTS PRIVATE LIMITED\",\"Parties\\u002fAAM AADMI PARTY\\u002fTORRENT  POWER  LIMITED\",\"Parties\\u002fBHARATIYA JANATA PARTY\\u002fTORRENT  POWER  LIMITED\",\"Parties\\u002fNATIONALIST CONGRESS PARTY MAHARASHTRA PRADESH\\u002fTORRENT  POWER  LIMITED\",\"Parties\\u002fPRESIDENT, ALL INDIA CONGRESS COMMITTEE\\u002fTORRENT  POWER  LIMITED\",\"Parties\\u002fSHIVSENA\\u002fTORRENT  POWER  LIMITED\",\"Parties\\u002fAAM AADMI PARTY\\u002fTORRENT PHARMACEUTICALS LIMITED\",\"Parties\\u002fBHARATIYA JANATA PARTY\\u002fTORRENT PHARMACEUTICALS LIMITED\",\"Parties\\u002fPRESIDENT, ALL INDIA CONGRESS COMMITTEE\\u002fTORRENT PHARMACEUTICALS LIMITED\",\"Parties\\u002fADYAKSHA SAMAJVADI PARTY\\u002fTORRENT PHARMACEUTICALS LTD\",\"Parties\\u002fBHARATIYA JANATA PARTY\\u002fTORRENT PHARMACEUTICALS LTD\",\"Parties\\u002fSIKKIM DEMOCRATIC FRONT\\u002fTORRENT PHARMACEUTICALS LTD\",\"Parties\\u002fSIKKIM KRANTIKARI MORCHA\\u002fTORRENT PHARMACEUTICALS LTD\",\"Parties\\u002fAAM AADMI PARTY\\u002fTORRENT POWER LTD\",\"Parties\\u002fBHARATIYA JANATA PARTY\\u002fTORRENT POWER LTD\",\"Parties\\u002fPRESIDENT, ALL INDIA CONGRESS COMMITTEE\\u002fTPK PARTNERS\",\"Parties\\u002fAAM AADMI PARTY\\u002fTRANSWAYS EXIM PRIVATE LIMITED\",\"Parties\\u002fALL INDIA TRINAMOOL CONGRESS\\u002fTRANSWAYS EXIM PRIVATE LIMITED\",\"Parties\\u002fPRESIDENT, ALL INDIA CONGRESS COMMITTEE\\u002fTRANSWAYS EXIM PRIVATE LIMITED\",\"Parties\\u002fALL INDIA TRINAMOOL CONGRESS\\u002fTRANSWAYS EXIM PRIVATE LTD\",\"Parties\\u002fBHARATIYA JANATA PARTY\\u002fTRANSWAYS EXIM PRIVATE LTD\",\"Parties\\u002fYSR  CONGRESS PARTY  (YUVAJANA SRAMIKA RYTHU CONGRESS PARTY)\\u002fTRANSWAYS EXIM PRIVATE LTD\",\"Parties\\u002fPRESIDENT, ALL INDIA CONGRESS COMMITTEE\\u002fTRANSWAYS EXIM PVT LTD\",\"Parties\\u002fBHARATIYA JANATA PARTY\\u002fTRIBHUVAN SPINTEX PRIVATE LIMITED\",\"Parties\\u002fPRESIDENT, ALL INDIA CONGRESS COMMITTEE\\u002fTRIDENT LIMITED\",\"Parties\\u002fPRESIDENT, ALL INDIA CONGRESS COMMITTEE\\u002fTRIDENT LIMITED {FORMERLY ABHISHEK INDUS TRIES LIMITED}\",\"Parties\\u002fTELUGU DESAM PARTY\\u002fTRIDENTCHEMPHARLIMITED\",\"Parties\\u002fBHARAT RASHTRA SAMITHI\\u002fTRIREME INFRASTRUCTURRE  PVT LTD\",\"Parties\\u002fBHARAT RASHTRA SAMITHI\\u002fTSHARKS INFRA DEVELOPERS PRIVATE LI\",\"Parties\\u002fBHARAT RASHTRA SAMITHI\\u002fTSHARKS OVERSEAS EDUCATION CONSULTA\",\"Parties\\u002fALL INDIA TRINAMOOL CONGRESS\\u002fTULIP RESIDENCY LLP\",\"Parties\\u002fBHARATIYA JANATA PARTY\\u002fTVS MOBILITY PRIVATE LIMITED\",\"Parties\\u002fBHARATIYA JANATA PARTY\\u002fTVS MOTOR COMPANY LIMITED\",\"Parties\\u002fBHARATIYA JANATA PARTY\\u002fULTRA TECH CEMENT LIMITED\",\"Parties\\u002fSHIVSENA\\u002fULTRA TECH CEMENT LIMITED\",\"Parties\\u002fBHARATIYA JANATA PARTY\\u002fULTRATECHCEMENTSLTD\",\"Parties\\u002fBIJU JANATA DAL\\u002fULTRATECHCEMENTSLTD\",\"Parties\\u002fBHARATIYA JANATA PARTY\\u002fUM CABLES LIMITED\",\"Parties\\u002fPRESIDENT, ALL INDIA CONGRESS COMMITTEE\\u002fUM CABLES LIMITED\",\"Parties\\u002fBHARATIYA JANATA PARTY\\u002fUNILIGHT REINSURANCE BROKERS PVT LTD\",\"Parties\\u002fBHARATIYA JANATA PARTY\\u002fUNIPRO TECHNO INFRASTRUCTURE PVT LTD\",\"Parties\\u002fBHARATIYA JANATA PARTY\\u002fUNITED PHOSPHORUS INDIA LLP\",\"Parties\\u002fBHARATIYA JANATA PARTY\\u002fUNNIKRISHNAN K\",\"Parties\\u002fBHARATIYA JANATA PARTY\\u002fUPL LIMITED\",\"Parties\\u002fBHARATIYA JANATA PARTY\\u002fURMILA DEVI TAPARIA\",\"Parties\\u002fYSR  CONGRESS PARTY  (YUVAJANA SRAMIKA RYTHU CONGRESS PARTY)\\u002fUSHA AGGARWAL\",\"Parties\\u002fBHARATIYA JANATA PARTY\\u002fUSV PRIVATE LTD ( FORMERLY USV LTD)\",\"Parties\\u002fBHARATIYA JANATA PARTY\\u002fUTKAL ALUMINA INTERNATIONAL LIMITED\",\"Parties\\u002fBIJU JANATA DAL\\u002fUTKAL ALUMINA INTERNATIONAL LIMITED\",\"Parties\\u002fPRESIDENT, ALL INDIA CONGRESS COMMITTEE\\u002fUTKAL ALUMINA INTERNATIONAL LIMITED\",\"Parties\\u002fBIJU JANATA DAL\\u002fUTKAL ALUMINA INTERNATIONAL LTD\",\"Parties\\u002fPRESIDENT, ALL INDIA CONGRESS COMMITTEE\\u002fUTKARSH JAIN\",\"Parties\\u002fALL INDIA TRINAMOOL CONGRESS\\u002fUTKARSH SFATIK LIMITED\",\"Parties\\u002fALL INDIA TRINAMOOL CONGRESS\\u002fUTSAV ENCLAVE LLP\",\"Parties\\u002fPRESIDENT, ALL INDIA CONGRESS COMMITTEE\\u002fUTTAM KUMAR GHOSH\",\"Parties\\u002fBHARAT RASHTRA SAMITHI\\u002fV BALAVEERIAH SONS\",\"Parties\\u002fALL INDIA TRINAMOOL CONGRESS\\u002fV M SALGAOCAR   BROTHER PVT LTD\",\"Parties\\u002fBHARATIYA JANATA PARTY\\u002fV M SALGAOCAR   BROTHER PVT LTD\",\"Parties\\u002fPRESIDENT, ALL INDIA CONGRESS COMMITTEE\\u002fV M SALGAOCAR   BROTHER PVT LTD\",\"Parties\\u002fAAM AADMI PARTY\\u002fV M SALGAOCAR CORPORATION PVT LTD\",\"Parties\\u002fALL INDIA TRINAMOOL CONGRESS\\u002fV M SALGAOCAR CORPORATION PVT LTD\",\"Parties\\u002fBHARATIYA JANATA PARTY\\u002fV M SALGAOCAR CORPORATION PVT LTD\",\"Parties\\u002fGOA FORWARD PARTY\\u002fV M SALGAOCAR CORPORATION PVT LTD\",\"Parties\\u002fMAHARASHTRAWADI GOMNTAK PARTY\\u002fV M SALGAOCAR CORPORATION PVT LTD\",\"Parties\\u002fNATIONALIST CONGRESS PARTY MAHARASHTRA PRADESH\\u002fV M SALGAOCAR CORPORATION PVT LTD\",\"Parties\\u002fPRESIDENT, ALL INDIA CONGRESS COMMITTEE\\u002fV M SALGAOCAR CORPORATION PVT LTD\",\"Parties\\u002fBHARATIYA JANATA PARTY\\u002fVACMETINDIALIMITED\",\"Parties\\u002fBHARATIYA JANATA PARTY\\u002fVAIBHAV BHUTANI\",\"Parties\\u002fALL INDIA TRINAMOOL CONGRESS\\u002fVAIBHAV LAXMI CAPITAL MARKET PRIVATE LIM\",\"Parties\\u002fPRESIDENT, ALL INDIA CONGRESS COMMITTEE\\u002fVAIBHAW TIE UP PRIVATE LIMITED\",\"Parties\\u002fJANASENA PARTY\\u002fVALLURUPALLI PRABHU KISHORE\",\"Parties\\u002fSHIVSENA\\u002fVAMONA DEVELOPERS PRIVATE LIMITED\",\"Parties\\u002fBHARAT RASHTRA SAMITHI\\u002fVAMSIRAM BUILDERS LLP\",\"Parties\\u002fBHARAT RASHTRA SAMITHI\\u002fVAMSIRAM DEVELOPERS LLP\",\"Parties\\u002fBHARAT RASHTRA SAMITHI\\u002fVAMSIRAMS JYOTHI LORVEN\",\"Parties\\u002fALL INDIA TRINAMOOL CONGRESS\\u002fVARAS INTERNATIONAL PRIVATE LIMITED\",\"Parties\\u002fYSR  CONGRESS PARTY  (YUVAJANA SRAMIKA RYTHU CONGRESS PARTY)\\u002fVARAS INTERNATIONAL PRIVATE LIMITED\",\"Parties\\u002fALL INDIA TRINAMOOL CONGRESS\\u002fVARAS INTERNATIONAL PVT LTD\",\"Parties\\u002fBHARATIYA JANATA PARTY\\u002fVARDHMAN TEXTILES LIMITED\",\"Parties\\u002fPRESIDENT, ALL INDIA CONGRESS COMMITTEE\\u002fVARDHMAN TEXTILES LIMITED\",\"Parties\\u002fAAM AADMI PARTY\\u002fVARDHMAN TEXTILES LTD\",\"Parties\\u002fBHARATIYA JANATA PARTY\\u002fVARDHMAN TEXTILES LTD\",\"Parties\\u002fSHIROMANI AKALI DAL\\u002fVARDHMAN TEXTILES LTD\",\"Parties\\u002fBHARAT RASHTRA SAMITHI\\u002fVARSITY EDUCATION MANAGEMENT PVT LIMITED\",\"Parties\\u002fBHARAT RASHTRA SAMITHI\\u002fVASAVI  AVENUES LLP\",\"Parties\\u002fBHARATIYA JANATA PARTY\\u002fVASSUDEVA DEMPO FAMILY PRIVATE TRUST\",\"Parties\\u002fBHARAT RASHTRA SAMITHI\\u002fVASUDHA DEVELOPERS\",\"Parties\\u002fYSR  CONGRESS PARTY  (YUVAJANA SRAMIKA RYTHU CONGRESS PARTY)\\u002fVEDANTA ELECTRICALS PRIVATE LIMITED\",\"Parties\\u002fBHARATIYA JANATA PARTY\\u002fVEDANTA LIMITED\",\"Parties\\u002fBIJU JANATA DAL\\u002fVEDANTA LIMITED\",\"Parties\\u002fJHARKHAND MUKTI MORCHA\\u002fVEDANTA LIMITED\",\"Parties\\u002fPRESIDENT, ALL INDIA CONGRESS COMMITTEE\\u002fVEDANTA LIMITED\",\"Parties\\u002fALL INDIA TRINAMOOL CONGRESS\\u002fVEDANTA LTD\",\"Parties\\u002fBHARATIYA JANATA PARTY\\u002fVEDANTA LTD\",\"Parties\\u002fPRESIDENT, ALL INDIA CONGRESS COMMITTEE\\u002fVEDANTA LTD\",\"Parties\\u002fPRESIDENT, ALL INDIA CONGRESS COMMITTEE\\u002fVEDIKA VANIJYA PVT LTD-SELF A\\u002fC\",\"Parties\\u002fBHARAT RASHTRA SAMITHI\\u002fVEERA RAVEENDRA\",\"Parties\\u002fPRESIDENT, ALL INDIA CONGRESS COMMITTEE\\u002fVEERABHADRAPPA SANGAPPA AND CO\",\"Parties\\u002fBHARAT RASHTRA SAMITHI\\u002fVENKAT PRANEETH DEVELOPRS (P) LTD\",\"Parties\\u002fBHARAT RASHTRA SAMITHI\\u002fVENKATESH NARAYAN REDDY\",\"Parties\\u002fALL INDIA TRINAMOOL CONGRESS\\u002fVENUS FINANCIAL CONSULTANTS PVT LTD\",\"Parties\\u002fBHARAT RASHTRA SAMITHI\\u002fVERTEX VEGA DEVELOPERS LLP\",\"Parties\\u002fBHARATIYA JANATA PARTY\\u002fVIDITVA CONSTRUCTIONS\",\"Parties\\u002fPRESIDENT, ALL INDIA CONGRESS COMMITTEE\\u002fVIDUR GUPTA\",\"Parties\\u002fTELUGU DESAM PARTY\\u002fVIHAAN AUTO VENTURES PRIVATE LIMITED\",\"Parties\\u002fALL INDIA TRINAMOOL CONGRESS\\u002fVIJAY KUMAR GOYAL\",\"Parties\\u002fBHARATIYA JANATA PARTY\\u002fVIJAYKUMARMISHRACONSTRUCTIONPVT\",\"Parties\\u002fPRESIDENT, ALL INDIA CONGRESS COMMITTEE\\u002fVIJAYKUMARMISHRACONSTRUCTIONPVT\",\"Parties\\u002fBIJU JANATA DAL\\u002fVIKAS AGGARWAL\",\"Parties\\u002fSHIROMANI AKALI DAL\\u002fVIKAS KUMAR GARG\",\"Parties\\u002fALL INDIA TRINAMOOL CONGRESS\\u002fVIKAS PARASRAMPURIA\",\"Parties\\u002fRASHTRIYA JANTA DAL\\u002fVIKAS PARASRAMPURIA\",\"Parties\\u002fPRESIDENT, ALL INDIA CONGRESS COMMITTEE\\u002fVIKAS PATNI\",\"Parties\\u002fALL INDIA TRINAMOOL CONGRESS\\u002fVIKASH GUPTA\",\"Parties\\u002fPRESIDENT, ALL INDIA CONGRESS COMMITTEE\\u002fVIKASH GUPTA\",\"Parties\\u002fBHARATIYA JANATA PARTY\\u002fVIKASH JHUNJHUNWALA\",\"Parties\\u002fALL INDIA TRINAMOOL CONGRESS\\u002fVIKASH NAHATA\",\"Parties\\u002fBHARATIYA JANATA PARTY\\u002fVIKRAM KUMAR KHAITAN\",\"Parties\\u002fPRESIDENT, ALL INDIA CONGRESS COMMITTEE\\u002fVIKRAM SINGH\",\"Parties\\u002fBHARATIYA JANATA PARTY\\u002fVILLAGE DE NANDI PVT LTD RERA DESIG\",\"Parties\\u002fBHARAT RASHTRA SAMITHI\\u002fVINAY AGARWAL\",\"Parties\\u002fBHARATIYA JANATA PARTY\\u002fVINAY AGARWAL\",\"Parties\\u002fPRESIDENT, ALL INDIA CONGRESS COMMITTEE\\u002fVINAY AGARWAL\",\"Parties\\u002fAAM AADMI PARTY\\u002fVINAY KUMAR BHATT\",\"Parties\\u002fALL INDIA TRINAMOOL CONGRESS\\u002fVINAY KUMAR BHATT\",\"Parties\\u002fBHARATIYA JANATA PARTY\\u002fVINAY KUMAR GANERIWAL\",\"Parties\\u002fALL INDIA TRINAMOOL CONGRESS\\u002fVINEET GUPTA\",\"Parties\\u002fAAM AADMI PARTY\\u002fVINEET NANDA\",\"Parties\\u002fPRESIDENT, ALL INDIA CONGRESS COMMITTEE\\u002fVINEET PATNI\",\"Parties\\u002fPRESIDENT, ALL INDIA CONGRESS COMMITTEE\\u002fVINIT GUPTA\",\"Parties\\u002fYSR  CONGRESS PARTY  (YUVAJANA SRAMIKA RYTHU CONGRESS PARTY)\\u002fVIPIN AGGARWAL\",\"Parties\\u002fYSR  CONGRESS PARTY  (YUVAJANA SRAMIKA RYTHU CONGRESS PARTY)\\u002fVIPIN AGGARWAL AND SONS HUF\",\"Parties\\u002fALL INDIA TRINAMOOL CONGRESS\\u002fVIPIN GUPTA\",\"Parties\\u002fBIJU JANATA DAL\\u002fVIPUL CHAMPAKLAL SHAH\",\"Parties\\u002fPRESIDENT, ALL INDIA CONGRESS COMMITTEE\\u002fVISHAL KOTHARI\",\"Parties\\u002fBHARAT RASHTRA SAMITHI\\u002fVISHVARUPA SOLAR POWER PRIVATE LIMITED\",\"Parties\\u002fBHARATIYA JANATA PARTY\\u002fVIVA HIGHWAYS  LTD\",\"Parties\\u002fALL INDIA TRINAMOOL CONGRESS\\u002fVIVEK AGARWAL\",\"Parties\\u002fPRESIDENT, ALL INDIA CONGRESS COMMITTEE\\u002fVIVEK AGARWAL\",\"Parties\\u002fBHARAT RASHTRA SAMITHI\\u002fVIVEK BANSAL\",\"Parties\\u002fPRESIDENT, ALL INDIA CONGRESS COMMITTEE\\u002fVIVEK PATNI\",\"Parties\\u002fBHARATIYA JANATA PARTY\\u002fVM SALGAOCAR CORPORATION PVT LTD\",\"Parties\\u002fPRESIDENT, ALL INDIA CONGRESS COMMITTEE\\u002fVM SALGAOCAR CORPORATION PVT LTD\",\"Parties\\u002fALL INDIA TRINAMOOL CONGRESS\\u002fVPL OIL MARKETING PVT LTD\",\"Parties\\u002fBHARATIYA JANATA PARTY\\u002fVS TOWERS   CONTRACTORS PRIVATE LIM\",\"Parties\\u002fBHARATIYA JANATA PARTY\\u002fWARORA CHANDRAPUR BALLARPUR TOLLRO\",\"Parties\\u002fBHARATIYA JANATA PARTY\\u002fWARORA CHANDRAPUR BALLARPUR TOLLROA\",\"Parties\\u002fBHARATIYA JANATA PARTY\\u002fWELSPUN CORP LIMITED\",\"Parties\\u002fBHARATIYA JANATA PARTY\\u002fWELSPUN CORP LTD\",\"Parties\\u002fPRESIDENT, ALL INDIA CONGRESS COMMITTEE\\u002fWELSPUN CORP LTD\",\"Parties\\u002fBHARATIYA JANATA PARTY\\u002fWELSPUN ENTERPRISES LTD\",\"Parties\\u002fPRESIDENT, ALL INDIA CONGRESS COMMITTEE\\u002fWELSPUN ENTERPRISES LTD\",\"Parties\\u002fBHARATIYA JANATA PARTY\\u002fWELSPUN INDIA LIMITED\",\"Parties\\u002fBHARAT RASHTRA SAMITHI\\u002fWELSPUN LIVING LIMITED\",\"Parties\\u002fBHARATIYA JANATA PARTY\\u002fWESTERN UP POWER TRANSMISSION COMPANY LI MITED\",\"Parties\\u002fJANASENA PARTY\\u002fWESTERN UP POWER TRANSMISSION COMPANY LI MITED\",\"Parties\\u002fPRESIDENT, ALL INDIA CONGRESS COMMITTEE\\u002fWESTERN UP POWER TRANSMISSION COMPANY LI MITED\",\"Parties\\u002fTELUGU DESAM PARTY\\u002fWESTERN UP POWER TRANSMISSION COMPANY LI MITED\",\"Parties\\u002fALL INDIA TRINAMOOL CONGRESS\\u002fWESTWELL GASES PRIVATE LIMITED\",\"Parties\\u002fDRAVIDA MUNNETRA KAZHAGAM (DMK)\\u002fWESTWELL GASES PRIVATE LIMITED\",\"Parties\\u002fRASHTRIYA JANTA DAL\\u002fWESTWELL GASES PRIVATE LIMITED\",\"Parties\\u002fPRESIDENT, ALL INDIA CONGRESS COMMITTEE\\u002fWOLKEM INDIA LTD\",\"Parties\\u002fBHARATIYA JANATA PARTY\\u002fWONDER CEMENT LTD\",\"Parties\\u002fPRESIDENT, ALL INDIA CONGRESS COMMITTEE\\u002fWONDER CEMENT LTD\",\"Parties\\u002fPRESIDENT, ALL INDIA CONGRESS COMMITTEE\\u002fWONDER MARMOSTONES PVT LTD\",\"Parties\\u002fPRESIDENT, ALL INDIA CONGRESS COMMITTEE\\u002fWONDER MINERALS  PVT LTD.\",\"Parties\\u002fALL INDIA TRINAMOOL CONGRESS\\u002fWPIL LIMITED\",\"Parties\\u002fBHARATIYA JANATA PARTY\\u002fWPIL LIMITED\",\"Parties\\u002fAAM AADMI PARTY\\u002fYASHODA SUPER SPECIALITY HOSPITAL\",\"Parties\\u002fBHARAT RASHTRA SAMITHI\\u002fYASHODA SUPER SPECIALITY HOSPITAL\",\"Parties\\u002fBHARATIYA JANATA PARTY\\u002fYASHODA SUPER SPECIALITY HOSPITAL\",\"Parties\\u002fPRESIDENT, ALL INDIA CONGRESS COMMITTEE\\u002fYASHODA SUPER SPECIALITY HOSPITAL\",\"Parties\\u002fYSR  CONGRESS PARTY  (YUVAJANA SRAMIKA RYTHU CONGRESS PARTY)\\u002fYASHODA SUPER SPECIALITY HOSPITAL\",\"Parties\\u002fBHARAT RASHTRA SAMITHI\\u002fYOGA BUILDERS PVT LTD\",\"Parties\\u002fPRESIDENT, ALL INDIA CONGRESS COMMITTEE\\u002fYOGA BUILDERS PVT LTD\",\"Parties\\u002fBHARATIYA JANATA PARTY\\u002fYOGESH GARODIA\",\"Parties\\u002fPRESIDENT, ALL INDIA CONGRESS COMMITTEE\\u002fYOGESH MANNALAL AGRAWAL\",\"Parties\\u002fALL INDIA TRINAMOOL CONGRESS\\u002fYOGESH MANPURIA\",\"Parties\\u002fPRESIDENT, ALL INDIA CONGRESS COMMITTEE\\u002fYOGESH MANPURIA\",\"Parties\\u002fBHARAT RASHTRA SAMITHI\\u002fYUVAN TRADING   CONSULTANCY LLP\",\"Parties\\u002fSHIVSENA\\u002fYUVAN TRADING   CONSULTANCY LLP\",\"Parties\\u002fBHARATIYA JANATA PARTY\\u002fZENSAR TECHNOLOGIES LTD\",\"Parties\\u002fYSR  CONGRESS PARTY  (YUVAJANA SRAMIKA RYTHU CONGRESS PARTY)\\u002fZUVAN ENERGY PRIVATE LIMITED\",\"Parties\\u002fBHARAT RASHTRA SAMITHI\\u002fZUVAN ENERGY PVT LTD\",\"Parties\\u002fBHARATIYA JANATA PARTY\\u002fZYDUS HEALTHCARE LIMITED\",\"Parties\\u002fPRESIDENT, ALL INDIA CONGRESS COMMITTEE\\u002fZYDUS HEALTHCARE LIMITED\",\"Parties\\u002fSIKKIM KRANTIKARI MORCHA\\u002fZYDUS HEALTHCARE LIMITED\",\"Parties\\u002fAAM AADMI PARTY\",\"Parties\\u002fADYAKSHA SAMAJVADI PARTY\",\"Parties\\u002fALL INDIA TRINAMOOL CONGRESS\",\"Parties\\u002fBHARAT RASHTRA SAMITHI\",\"Parties\\u002fBHARATIYA JANATA PARTY\",\"Parties\\u002fBIHAR PRADESH JANTA DAL(UNITED)\",\"Parties\\u002fBIJU JANATA DAL\",\"Parties\\u002fDRAVIDA MUNNETRA KAZHAGAM (DMK)\",\"Parties\\u002fGOA FORWARD PARTY\",\"Parties\\u002fJAMMU AND KASHMIR NATIONAL CONFERENCE\",\"Parties\\u002fJANASENA PARTY\",\"Parties\\u002fJANATA DAL ( SECULAR )\",\"Parties\\u002fJHARKHAND MUKTI MORCHA\",\"Parties\\u002fMAHARASHTRAWADI GOMNTAK PARTY\",\"Parties\\u002fNATIONALIST CONGRESS PARTY MAHARASHTRA PRADESH\",\"Parties\\u002fPRESIDENT, ALL INDIA CONGRESS COMMITTEE\",\"Parties\\u002fRASHTRIYA JANTA DAL\",\"Parties\\u002fSHIROMANI AKALI DAL\",\"Parties\\u002fSHIVSENA\",\"Parties\\u002fSIKKIM DEMOCRATIC FRONT\",\"Parties\\u002fSIKKIM KRANTIKARI MORCHA\",\"Parties\\u002fTELUGU DESAM PARTY\",\"Parties\\u002fYSR  CONGRESS PARTY  (YUVAJANA SRAMIKA RYTHU CONGRESS PARTY)\",\"Parties\"],\"labels\":[\"14 REELS PLUS LLP\",\"A B C INDIA LIMITED\",\"AAKANKSHA BAHETY\",\"AALAYA CONSTRUCTIONS\",\"AARISH SOLAR POWER PRIVATE LIMITED\",\"AASHMAN ENERGY PRIVATE LIMITED\",\"AASHMAN ENERGY PVT LTD\",\"AAYTEE LOGISTICS PRIVATE LIMITED\",\"ABHAY SHUKLA\",\"ABHIJIT INTERNATIONAL\",\"ABHIJIT INTERNATIONAL\",\"ABHIJIT INTERNATIONAL\",\"ABHINANDANSTOCKBROKINGPVTLTD\",\"ABHINANDANSTOCKBROKINGPVTLTD\",\"ABHINANDANSTOCKBROKINGPVTLTD\",\"ABHINANDANSTOCKBROKINGPVTLTD\",\"ABHINAV JAIN\",\"ABHISHEK KAUSHIK\",\"ABHISHEK RATHI\",\"ABHISHEK TIBREWAL\",\"ABHRAJIT MITRA\",\"ABHRAJIT MITRA\",\"ABIS AGROTECH PVT LTD\",\"ABNLINVESTMENTLIMITED\",\"ACE COMERCIAL COMPANY PRIVATE LIMITED\",\"ACE URBAN DEVELOPERS PVT LTD\",\"ACHINT MAHESHWARI\",\"ACHINTYA SOLAR POWER PRIVATE LIMITED\",\"ACHINTYA SOLAR POWER PVT LTD\",\"ACROPOLIS MAINTENANCE SERVICES PRIVATE LIMITED\",\"ADIT BUILD WELL PVT LTD\",\"ADITYA KUMAR GARG\",\"AGARWAL  M BISHAN\",\"AIC VMR PROJECTS PVT LTD\",\"AIS DISTRIBUTION\",\"AISHWARYA BUSINESS CORPORATION PVT, LTD\",\"AJANTA PHARMA LTD\",\"AJANTA PHARMA LTD\",\"AJAY GUPTA\",\"AJAY METALLOYS PVT LTD\",\"AJAY METALLOYS PVT LTD\",\"AJAY SARAF\",\"AJIT KUMAR JAIN\",\"AKSENTT TECH SERVICES LIMITED (UNITY TEL ECOM INFRASTRUCTURE)\",\"AKSHAT GREENTECH PRIVATE LIMITED\",\"ALA RAMANJANEYULU\",\"ALEMBICPHARMACEUTICALSLINCLRTGS\",\"ALKEM LABORATORIES LIMITED\",\"ALLANA COLD STORAGE\",\"ALLANASONS PRIVATE L\",\"ALLANASONS PRIVATE L\",\"ALMIGHTY FINANCE AND INVESTMENT P\",\"ALOK KUMAR SOMANI\",\"ALOK NARAYAN PANDEY\",\"AMAN  JAISWAL\",\"AMAR KRISHNA SAJJA\",\"AMAR SECURITIES PVT LTD\",\"AMARAVATI TEKSYSTEMS PRIVATE LIMITE\",\"AMBUJA HOUSING AND URBAN INFRASTRUCTURE  CO. LTD.\",\"AMBUJA REALTY EVENTS MANAGMENT LTD\",\"AMBUJA REALTY EVENTS MANAGMENT LTD\",\"AMD ENGINEERING CONSULTANTS\",\"AMIT AGARWAL\",\"AMIT GUPTA\",\"AMIT SOMANI\",\"AMRITA AGARWAL\",\"AMRITA AGARWAL\",\"ANAND AGARWAL\",\"ANAND PIMPARKAR\",\"ANAND SAKHARAM PIMPARKAR\",\"ANAND SAKHARAM PIMPARKAR\",\"ANANT UDYOG LLP\",\"ANANTPURA WIND ENERGIES PVT LTD\",\"ANBEE CONSTRUCTIONS LLP\",\"ANBEE CONSTRUCTIONS LLP\",\"ANGEL FIBERS LIMITED\",\"ANIL CHANDAK\",\"ANIL KUMAR KEDIA\",\"ANIL KUMAR MALAWAT\",\"ANIMALA WIND POWER PRIVATE LIMITED\",\"ANITA HEMANT SHAH\",\"ANJANI ROADLINES\",\"ANKIT AGARWAL\",\"ANKIT BAHETY\",\"ANSHUL GADIA\",\"ANTIQUE INDIA PRIVATE LIMITED\",\"ANUBHAV CHANDAK\",\"ANUJ KUMAR JAIN\",\"APARNA FARMS AND ESTATES LLP\",\"APARNA FARMS AND ESTATES LLP\",\"APCO INFRATECH PRIVATE LIMITED\",\"APCO INFRATECH PRIVATE LTD\",\"APCO INFRATECH PVT LTD  FORMERLY AP\",\"APL HEALTHCARE LIMITED\",\"APOLLO TYRES LIMITED\",\"APOLLO VINTRADE PVT LTD\",\"AQ SQUARE REALTORS PRIVATE LIMITED\",\"AQUA SPACE DEVELOPERS PRIVATE LIMIT\",\"ARAVALI TECHNICAL SERVICES PVT LTD\",\"ARAVIND S\",\"ARCEDGES BUILDING INDIA LLP\",\"ARCHANA PROPERTIES  P LTD\",\"ARDENT STEEL LIMITED\",\"ARIHANT ENTERPRISES\",\"ARIZONAGLOBALSERVICESPVTLTDBR\",\"ARROW PROJECTS PVT LTD\",\"ARS COATED STEEL\",\"ARUN  KUMAR GANERIWALA\",\"ARUN KUMAR GANERIWALA\",\"ARUN KUMAR JOSHI\",\"ARUNANGSHU MUKHERJEE\",\"ARVIND  LIMITED\",\"ARVIND LIMITED\",\"ARVINDBEAUTYBRANDSRETAILPVTLTD\",\"ARVINDINFRACONLLP\",\"ASHISH AGARWAL\",\"ASHISH JAIN\",\"ASHISH KHANDELWAL\",\"ASHOK                                    KUMAR MODI\",\"ASHOK CHOUDHARY\",\"ASHOK DALMIA\",\"ASHOK DALMIA\",\"ASHOK KUMAR\",\"ASHOK PATNI\",\"ASHOKA  MUDHOL NIPANI ROADS LIMITED\",\"ASHOKA BAGEWADI SAUNDATTI ROAD LIMITED\",\"ASHOKA DEVELOPERS\",\"ASHOKA HUNGUND TALIKOT ROAD LTD\",\"ASHUTOSH JYOTIPRASAD TAPARIA\",\"ASIAN AGRI GENETICS LIMITED\",\"ASIAN TRADING CORPORATION LIMITED\",\"ASISH FINANCE PRIVATE LIMITED\",\"ASISH FINANCE PRIVATE LIMITED\",\"ASISH RAHA\",\"ASKUS LOGISTICS PRIV\",\"ASKUS LOGISTICS PRIVATE LIMITED\",\"ASKUS LOGISTICS PVT LTD\",\"ASSOCIATED ALCOHOLS  BREWERIES LIMI\",\"ATHENA INFRASTRUCTURE LIMITED\",\"ATUL KUMAR SINGH\",\"AUGMONT ENTERPRISES PRIVATE LIMITED\",\"AUROBINDO PHARMA LIMITED\",\"AUROBINDO PHARMA LIMITED\",\"AUROBINDO PHARMA LIMITED\",\"AUROBINDO PHARMA LTD\",\"AUSTIN PLYWOOD PRIVATE LIMITED FORMERLY  B S PROGRESSIVE PVT\",\"AUSTIN PLYWOOD PRIVATE LIMITED FORMERLY  B S PROGRESSIVE PVT\",\"AUTHUM INVESTMENT AND INFRASTRUCTURE LTD\",\"AVEES TRADING & FINANCE PVT LTD\",\"AVEES TRADING AND FINANCE PVT LTD\",\"AVEES TRADING FINANCE PVT LTD\",\"AVEES TRADING FINANCE PVT LTD\",\"AVEES TRADING FINANCE PVT LTD\",\"AVEES TRADING FINANCE PVT LTD\",\"AVIGHNA MEDITECH SOLUTIONS PVT LTD\",\"AVIGHNA SOLUTIONS\",\"AVINASH MODI\",\"AVON CYCLES LTD\",\"AXIS CLINICALS LIMITED\",\"AXIS WIND FARMS (MPR DAM) PRIVATE L\",\"AYUSH JAIN\",\"B G SHIRKE CONSTRUCTION TECHNOLOGY PVT L TD\",\"B G SHIRKE CONSTRUCTION TECHNOLOGY PVT L TD\",\"B G SHIRKE CONSTRUCTION TECHNOLOGY PVT L TD\",\"B M A MERCHANDISE LLP\",\"B.DAS AND ASSOCIATES PVT. LTD.\",\"B2C CONSULTING LLP\",\"BAGDOGRA REALTORS PVT LTD\",\"BAIN GLOBAL RESOURCES LLP\",\"BAJAJ AUTO LTD\",\"BAJAJ AUTO LTD\",\"BAJAJ FINANCE LTD\",\"BAJAJ HOLDINGS & INVESTMENT LIMITED\",\"BALAJI  REAL ESTATE VENTURES PVT LT\",\"BALRAMPUR CHINI MILLS LTD\",\"BALU CEMENT CORPORATION\",\"BALU CEMENT CORPORATION\",\"BALU IRON & STEEL COMPANY\",\"BALU IRON AND STEEL COMPANY\",\"BALU IRON AND STEEL COMPANY\",\"BANGUR SHREE\",\"BANSAL BUSINESS PRIVATE LIMITED\",\"BANSAL UDYOG PRIVATE\",\"BANSHIDHAR VYAPAAR PVT LTD\",\"BAPPADITYA ROY\",\"BAPUNA ALCOBREW PRIVATE LIMITED\",\"BASANT GAJANAND LAKHOTIYA\",\"BASUDEV AGARWAL\",\"BELLWEY INTERNATIONAL CO\",\"BENGAL COKE COMPANY LIMITED\",\"BENGAL VIPANAPAN PRIVATE LIMITED\",\"BENGAL VIPANAPAN PRIVATE LIMITED\",\"BENGAL VIPANAPAN PRIVATE LIMITED\",\"BESSEGGEN INFOTECH LLP\",\"BESSEGGENINFOTECHLLP\",\"BESSEGGENINFOTECHLLP\",\"BESSEGGENINFOTECHLLP\",\"BEST AGROLIFE LIMITED\",\"BG SHIRKE CONSTRUCTION TECHNOLOGY PVT LTD\",\"BG SHIRKE CONSTRUCTION TECHNOLOGY PVT LTD\",\"BHACHIBEN KHAMUBHAI MANVAR\",\"BHACHIBEN KHAMUBHAI MANVAR\",\"BHAGYANAGAR INFRA PROJECTS\",\"BHAGYASREE REALTORS PRIVATE LIMITED\",\"BHARAT AJMERA\",\"BHARAT BIOTECH INTERNATIONAL LIMITED\",\"BHARTI AIRTEL LIMITED\",\"BHARTI AIRTEL LIMITEDAIRTEL CURRE NT AC-GCO\",\"BHARTI AIRTEL LIMITEDAIRTEL CURRE NT AC-GCO\",\"BHARTI AIRTEL LIMITEDAIRTEL CURRE NT AC-GCO\",\"BHARTI INFRATEL LIMITED\",\"BHARTI INFRATEL LIMITED\",\"BHARTI INFRATEL LIMITED\",\"BHARTI INFRATEL LIMITED\",\"BHARTI TELEMEDIA LIMITED\",\"BHASWINI DEVELOPERS\",\"BHAWNA AGARWAL\",\"BHAWNA KASAT\",\"BHUDUTT JANGID\",\"BIGC MOBILES PVT LTD\",\"BIJAY RATAN BAHETY\",\"BIMALA PRASANNA SINGH ROY\",\"BINOD KUMAR AGARWAL\",\"BINOD KUMAR MAROTI\",\"BINOD KUMAR MAROTI\",\"BIOLOGICAL E LIMITED\",\"BIOVET PVT LTD\",\"BIOXGREEN TECHNOLOGY PRIVATE LIMITE\",\"BIRD WORLDWIDE FLIGHT SERVICES INDI\",\"BIRLACARBONINDIAPRIVATELIMITED\",\"BIRLAESTATESPRIVATELIMITED\",\"BISHAN M AGARWAL\",\"BISHOPS WEED FOOD CRAFTS PRIVATE LI\",\"BKC PROPERTIES PVT LTD\",\"BLUEBERRY TRADING COMPANY PRIVATE L\",\"BLUESTONE COMMODITIES LLP\",\"BM DEALERS LLP\",\"BMW INFOTECH PRIVATE LIMITED\",\"BMW INFRASTRUCTURE LLP\",\"BORAVELLI BHUPAL REDDY\",\"BORAVELLI RAMULAMMA\",\"BOSE CONSTRUCTIONS\",\"BRICKS INFRATECH LLP\",\"BRIGHT STAR INVESTMENTS PVT.LTD\",\"BRIJESH BINANI\",\"BSCPL INFRASTRUCTURE LIMITED\",\"BUILDOX DEVELOPERS LLP\",\"BUILDOX DEVELOPERS LLP\",\"BUTTA HOSPITALITIES PVT LTD\",\"BYRAPANENI SHIVARJUN RAO\",\"C R ASSOCIATES\",\"CAMELIA GRIHA NIRMAN PRIVATE LIMITED\",\"CAMELIA GRIHA NIRMAN PRIVATE LIMITED\",\"CANDY SPIRITS PVT LTD\",\"CAPACITE INFRAPROJECTS LTD\",\"CAPE TRADING LLP\",\"CAPE TRADING LLP\",\"CAPSTAN TRADING LLP\",\"CAPSTAN TRADING LLP\",\"CASA MARIA PROPERTIES LLP\",\"CASA MARIA PROPERTIES LLP\",\"CASTAMET WORKS\",\"CASTAMET WORKS PRIVATE LIMITED\",\"CASTLE LIQUORS PRIVATE LIMITED\",\"CASTLE LIQUORS PRIVATE LIMITED\",\"CAVALIER TRANSPORTERS PRIVATE LIMITED\",\"CEAT LTD\",\"CENTURY TEXTILES AND INDUSTRIES LTD\",\"CH UDAYA SANKAR\",\"CHAITANYA ESTATES PRIVATE  LIMITED\",\"CHAKRADHARI TRADELINK PRIVATE LIMIT\",\"CHAKRADHARI TRADELINK PRIVATE LIMIT\",\"CHANDA INVESTMENT   TRADING CO. PVT\",\"CHANDAKA SANYASI RAO\",\"CHANDAN AGARWAL\",\"CHANDER COMMERCIALS PVT LTD\",\"CHANDRAJYOTI ESTATE DEVELOPERS PVT.\",\"CHARISMA COMBINES PVTLTD\",\"CHAYA REAL ESTATE PVT LIMITED\",\"CHENNAI GREEN WOODS PRIVATE LIMITED\",\"CHENNAI GREEN WOODS PRIVATE LIMITED\",\"CHENNAI GREEN WOODS PRIVATE LIMITED\",\"CHENNAMANAGATHIHALLI SOLAR POWER PROJECT\",\"CHHATTISGARH DISTILLERIES LIMITED\",\"CHHATTISGARH DISTILLERIES LIMITED\",\"CHIKKAHALLI SOLAR POWER PROJECT LLP\",\"CHIRON BEHRING VACCINES PVT LTD\",\"CHITRAKUT HOLDINGS LTD\",\"CHOUDHARY GARMENTS\",\"CHOWGLE AND COMPANY PVT LTD\",\"CHOWGLE AND COMPANY PVT LTD\",\"CHOWGULE AND COMPANY PVT LTD\",\"CIPLA LIMITED\",\"CIPLA LIMITED\",\"CIPLA LTD\",\"CLIX SECURITIES PRIVATE LIMITED\",\"COALSALE COMPANY LTD\",\"COMFORT TRIMS PRIVATE LIMITED\",\"COMFORT TRIMS PRIVATE LIMITED DIVIS\",\"CONFIDENT FINANCIAL CONSULTANCY PRI\",\"CREATIVE LLP\",\"CRESCENT POWER LTD\",\"CRESCENT POWER LTD\",\"CROCHET TRADE AND INVESTMENT PVT L\",\"CROCHET TRADE AND INVESTMENT PVT LT\",\"CRYSTAL TEA INDIA PVT LTD\",\"CURATED LIVING SOLUTIONS PRIVATE LI\",\"CV SRINIVASA\",\"CYBER HOMES\",\"CYGNUS POWER INFRA SERVICES PRIVATE\",\"CYIENT LIMITED\",\"CYZACHEM PVT LTD\",\"D R INTERNATIONAL PRIVATE LIMITED\",\"D R POLYMERS PVT LTD\",\"D S ENGINEERING WORKS LLP\",\"D S ENGINEERING WORKSHOP LLP\",\"DAAWAT FOODS LTD\",\"DAFFODIL GOODS PRIVATE LIMITED\",\"DALMIA BHARAT SUGAR AND INDUSTRIES LTD\",\"DANIKA TRADERS PRIVATE LTD\",\"DASAMI LAB PRIVATE LIMITED (FORMERLY HEL IUS LAB PVT LTD)\",\"DASAMI LAB PRIVATE LTD\",\"DCM SHRIRAM LIMITED\",\"DCM SHRIRAM LTD\",\"DEEP IRON AND STEEL PVT LTD\",\"DEEPAK                                   MAJJI VENKATA\",\"DEEPAK GURUM\",\"DEEPAK KHEMKA\",\"DEEPAK KUMAR AGARWAL\",\"DEEPAK KUMAR GADDHYAN\",\"DEMPO IND PVT LTD NAVHIND PAPERSAND PUB\",\"DEMPO IND PVT LTD NAVHIND PAPERSAND PUB\",\"DEMPO INDUSTRIES PVT LTD\",\"DERIVE INVESTMENTS\",\"DERIVE TRADING AND RESORTS PRIVATE LIMIT\",\"DERIVE TRADING AND RESORTS PRIVATE LIMIT\",\"DERIVE TRADING AND RESORTS PRIVATE LIMITED\",\"DESAI TRADING   CONSULTANTS PVT LTD\",\"DESCENT BUILDWELL LLP\",\"DESCENT BUILDWELL LLP\",\"DESCENT BUILDWELL LLP\",\"DEVAL KHAMUBHAI MANVAR\",\"DEVAL KHAMUBHAI MANVAR\",\"DEVARAHIPPARIGI WIND POWER PVT LTD\",\"DEVASHRI NIRMAN LLP\",\"DEVASHRI NIRMAN LLP\",\"DEVEN CHAND JAIN\",\"DHARIWAL INFRASTRUCTURE LIMITED\",\"DHARIWAL INFRASTRUCTURE LIMITED\",\"DHARMENDRA JAYANTILAL VORA\",\"DHARMENDRA JAYANTILAL VORA\",\"DHARMENDRA VORA\",\"DHEERAJ MEDICALS\",\"DHEERAJ MEDICALS\",\"DHRUV COTTON PROCESSING PVT LTD\",\"DILIP RAMANLAL THACKER\",\"DINESH KUMAR AGARWALLA\",\"DINESH KUMAR LAKHANPAL\",\"DINESH PROJECTS\",\"DINESHCHANDRA R AGRAWAL INFRACON PVT LTD\",\"DINESHCHANDRA R AGRAWAL INFRACON PVT LTD\",\"DINESHCHANDRA R AGRAWAL INFRACON PVT LTD\",\"DIPAN  P  SHAH\",\"DIPAN  PRAVINCHANDRA  SHAH\",\"DIVI S LABORATORIES LIMITED\",\"DIVI S LABORATORIES LIMITED\",\"DIVI S LABORATORIES LIMITED\",\"DIVIT SECURITY\",\"DIVIT SECURITY\",\"DIVYASREE HOLDINGS PVT LTD\",\"DIVYASREE NSL INFRASTRUCTURE PRIVATE LIM ITED\",\"DIVYASREE SOFTTECH REALTORS PVT LTD\",\"DIVYESH POWER PRIVATE LIMITED\",\"DIVYESH POWER PVT LTD\",\"DIWAKAR NIGAM\",\"DLF COMMERCIAL DEVELOPERS LIMITED\",\"DLF GARDEN CITY INDORE PVT LTD\",\"DLF LUXURY HOMES LIMITED\",\"DOYEN ENGINEERING SERVICES PRIVATE\",\"DR HEALTHTECH\",\"DR REDDYS LABORATORIES LIMITED\",\"DR REDDYS LABORATORIES LIMITED\",\"DR. MANDEEP SHARMA\",\"DR. MANDEEP SHARMA\",\"DR. MANDEEP SHARMA\",\"DR.REDDY'S LABORATORIES LTD\",\"DR.REDDY'S LABORATORIES LTD\",\"DR.REDDY'S LABORATORIES LTD\",\"DR.REDDY'S LABORATORIES LTD\",\"DYNAMIC CS BOTTLING PVT LTD\",\"DYNAMIC CS BOTTLING PVT LTD\",\"DYNERE ENGINEERING PRIVATE LIMITED\",\"EAGLE INFRA INDIA LTD\",\"EDELWEISS HOUSING FINANCE LTD.\",\"EFICENS SOFTWARE SERVICES PVT LTD\",\"ELENA RENEWABLE ENERGY PRIVATE LIMITED\",\"ELENA RENEWABLE ENERGY PVT LTD\",\"ELITE DEVELOPERS\",\"ELLISBRIDGE ESTATES PVT LTD\",\"ENAM HOLDINGS PRIVATE LIMITED\",\"ENVIRO CONTROL PRIVATE LIMITED FORM\",\"ESSEL MINING AND INDS LTD\",\"ESSEL MINING AND INDS LTD\",\"ESTEE TRANSWAYS PRIVATE LIMITE\",\"EUGIA PHARMA SPECIALITIES LIMITED\",\"EVEREST ENTERPRISE\",\"EVERSHINE INTERIORS CHENNAI PVT LTD\",\"EVEY TRANS PVT LTD\",\"FAIRPLAN VINTRADE PRIVATE LIMITED\",\"FAMY ENERGY PRIVATE LIMITED\",\"FAMY STERI PVT LIMITED\",\"FASTWAY TRANSMISSIONS PVT LTD\",\"FERTILELAND FOODS PRIVATE LIMITED\",\"FINOLEX CABLES LTD\",\"FINOLEX CABLES LTD\",\"FIOTEX COTSPIN PRIVATE LIMITED\",\"FOR M\\u002fS SRI NIDHI CONSTRUCTIONS\",\"FORCE MOTORS LTD\",\"FORTUNE ESTATE DEVELOPERS PVT LTD\",\"FORTUNE METALIKS LIMITED\",\"FRESHBYTE BUILDTECH PVT LTD\",\"FRIGERIO CONSERVA AL\",\"FRIGORIFICO ALLANA P\",\"FUTURE GAMING AND HOTEL SERVICES PR\",\"FUTURE GAMING AND HOTEL SERVICES PR\",\"FUTURE GAMING AND HOTEL SERVICES PR\",\"FUTURE GAMING AND HOTEL SERVICES PR\",\"FUTURE GAMING AND HOTEL SERVICES PR\",\"FUTURE GAMING AND HOTEL SERVICES PR\",\"FUTURE GAMING AND HOTEL SERVICES PR\",\"FUTURE GAMING AND HOTEL SERVICES PRIVATE LIMITED\",\"FUTURE GAMING AND HOTEL SERVICES PRIVATE LIMITED\",\"FUTURE GAMING AND HOTEL SERVICES PVT LTD\",\"FUTURE GAMING AND HOTEL SERVICES PVT LTD\",\"FUTURISTIC HANDLING SERVICES PVT LTD\",\"G CHANDRASHEKHAR\",\"G M HOLDINGS PVT LTD\",\"G R INFRAPROJECTS L\",\"G S ISPAT\",\"GAJA ENGINEERING PVT LTD\",\"GALAXY C.S. BOTTLING PLANT\",\"GALAXY C.S. BOTTLING PLANT\",\"GANDHAR COALS AND MINES PVT LTD\",\"GANDHI BROTHERS\",\"GANDHI SECURITIES   INVESTMENT\",\"GANGADASU BASIVI REDDY\",\"GANGDARI HYDRO POWER PVT LTD\",\"GANGES JUTE PRIVATE LTD\",\"GANNON DUNKERLEY AND CO LIMITED\",\"GAURAV  BAHETY\",\"GENEXT HARDWARE   PARKS PVT. LTD\",\"GENEXT HARDWARE   PARKS PVT. LTD\",\"GENUS POWER\",\"GENUS POWER INFRASTRUCTURES LIMITED\",\"GENUS POWER INFRASTRUCTURES LIMITED\",\"GENUS POWER INFRASTRUCTURES LTD\",\"GEOJIT INVESTMENT SERVICES LTD\",\"GEOJIT INVESTMENT SERVICES LTD\",\"GHCL LTD\",\"GK ENERGY MARKETERS PRIVATE LIMITED\",\"GLENMARK PHARMACEUTICALS LTD\",\"GLOWING FERN HIGHRISE LLP\",\"GOA CARBON LTD\",\"GOA CARBON LTD\",\"GOA CARBON LTD\",\"GOA CARBON LTD\",\"GOLDSTONE CEMENTS LTD\",\"GOODLUCK  INDIA LIMITED\",\"GOODLUCK  INDIA LIMITED\",\"GOODLUCK INDIA LTD\",\"GORJA STEEL PROCESSORS\",\"GORUKANTI DEVENDER RAO\",\"GORUKANTI SURENDER RAO\",\"GOURAB ROY\",\"GOURAB ROY\",\"GOURAV KUMAR\",\"GOURAV RAJESH MUNDHRA\",\"GOWREDDY HARIPRASAD REDDY\",\"GPC FOODS PRIVATE LIMITED\",\"GRANULES INDIA LIMITED\",\"GRASIM INDUSTRIES LTD\",\"GRASIM INDUSTRIES LTD\",\"GRAUER  AMP  WEIL  INDIA  LIMITED\",\"GREAT EASTERN STORES PVT LTD\",\"GREENKO ANANTAPUR WIND POWER PRIVATE LIMITED\",\"GREENKO ASTHA PROJECTS (INDIA) PVT LTD\",\"GREENKO BUDHIL HYDRO POWER PVT LTD\",\"GREENKO ENERGY PROJECTS PRIVATE LTD\",\"GREENKO HIM KAILASH HYDRO POWER PVT LTD\",\"GREENKO MP01 IREP PRIVATE LIMITED\",\"GREENKO RAYALA WIND POWER PRIVATE LIMITE D\",\"GREENKO RAYALA WIND POWER PVT LTD\",\"GREENKO SOLAR POWER (DHARAMAVARAM) LTD\",\"GREENKO SRI SAI KRISHNA HYDRO ENERGIES PVT LTD\",\"GREENKO SUMEZ HYDRO ENERGIES PVT LTD\",\"GREENKO URAVAKONDA WIND POWER PRIVA\",\"GRINIBHRIT SOLAR POWER PVT LTD\",\"GUJARAT FLUORO CHEMICALS LIMITED\",\"GUJARAT FLUORO CHEMICALS LIMITED\",\"GUPTA VARUN\",\"GURRAM MOUNIKA\",\"GURRAM RAVI\",\"GUWAHATI CARBON LIMITED\",\"GVPR ENGINEERS LTD\",\"GVPR ENGINEERS LTD\",\"H S ARAVINDA\",\"HALDIA ENERGY LIMITED\",\"HALDIA ENERGY LIMITED\",\"HALDIA ENERGY LIMITED\",\"HANSVAHINI AUTO INTERIOR PVT LTD\",\"HAPPYTAT VILLAS PRIVATE LIMITED\",\"HARDESH ORES PVT LTD\",\"HARI PRASAD AGARWAL\",\"HARIJAN HIRIBAI\",\"HARIJAN HIRIBAI\",\"HARINAGAR SUGAR MILLS LTD\",\"HARINAGAR SUGAR MILLS LTD\",\"HARMESH RAHUL JOSHI\",\"HARSHIT CHHABRA\",\"HARSHIT KOTHARI\",\"HAZELO LAB PRIVATE LTD\",\"HEALTHTECH SOLUTION\",\"HEENA STEEL LLP\",\"HEENA STEEL LLP\",\"HEMANT LAKHOTIA\",\"HERALD BEVERAGES PRIVATE LIMITED\",\"HERALD BEVERAGES PRIVATE LIMITED\",\"HERALD BEVERAGES PRIVATE LIMITED\",\"HERO MOTOCORP LIMITED\",\"HES INFRA PVT LTD\",\"HES INFRA PVT LTD\",\"HETERO BIOPHARMA LIMITED\",\"HETERO DRUGS LIMITED\",\"HETERO LABS LIMITED\",\"HETERO LABS LIMITED\",\"HH IRON AND STEEL PRIVATE LIMITED\",\"HH IRON AND STEEL PRIVATE LIMITED\",\"HIGHSTREET CRUISES AND ENTERTAINMENT PVT  LTD\",\"HIMADRI KHAN\",\"HIMADRI KHAN COUNTRY SPIRIT BOTTLING PLA NT CUM WARE HOUSE\",\"HIMALAYAN ENDEAVOUR PVT LTD\",\"HIMALAYAN ENDEAVOUR PVT LTD\",\"HIMALAYAN ENDEAVOUR PVT LTD\",\"HIMALAYAN ENDEAVOUR PVT LTD\",\"HIMANGA MERCANTILES PVT LTD\",\"HIMANSHU RAJNIKANT SHAH\",\"HIND TERMINALS PVT LTD\",\"HINDUSTAN TEXTILES\",\"HINDYS LAB PRIVATE LTD\",\"HINDYS LAB PVT. LTD. (PREVIOUSLY HIND LI FE SCIENCES PVT LTD)\",\"HIREHALLI SOLAR POWER PROJECT LLP\",\"HITECH SYSTEMS & SERVICES LTD\",\"HITESH D SHAH\",\"HITESH D SHAH\",\"HITESH D SHAH HUF\",\"HONEYWELL PROPERTIES PVT LTD\",\"HONOUR LAB LIMITED\",\"HONOUR LAB LTD\",\"HORIZON MEDICAL SUPPLIES\",\"HUB POWER COMPANY\",\"HUNSANKODILLI SOLAR POWER PROJECT LLP\",\"ICONICA PROJECTS\",\"IDEAL REAL ESTATES PRIVATE LIMITED\",\"IDEAL ROAD BUILDERS  PVT.LTD.\",\"IFB AGRO INDUSTRIES LIMITED\",\"IFB AGRO INDUSTRIES LIMITED\",\"IFB AGRO INDUSTRIES LIMITED\",\"IFB AGRO INDUSTRIES LIMITED\",\"IFB AGRO INDUSTRIES LIMITED\",\"ILABS HYD TECHNOLOGY CENTRE PVT LTD\",\"INDER                                    THAKURDAS JAISINGHANI\",\"INDERDEEP CONSTRUCTION CO\",\"INDIA EXPOSITION MART LTD\",\"INDIA GLYCOLS LTD\",\"INDIAN VALVE  CALCUTTA  PVT LTD\",\"INDRANI PATNAIK\",\"INDURU SUDHAKARA  REDDY\",\"INDUS INDUSTRIAL TEC\",\"INDUS ORGANICS\",\"INDUSTRIAL TECHNO MAN POWER SUPPLY AND SERVICES PVT LTD\",\"INFINA FINANCE PRIVATE LIMITED\",\"INFOTELACCESSENTERPRISESPL00108\",\"INFOTELBUSINESSSOLUTIONSLTDBR\",\"INFOTELTECHNOLOGIESPRIVATELIMITE\",\"INFRASTRUCTURE LOGISTICS PVT LTD\",\"INNOCENT MERCHANDISE PVT LTD\",\"INORBIT MALLS  INDIA  PRIVATE LIMIT\",\"INORBIT MALLS  INDIA  PRIVATE LIMIT\",\"INORBIT MALLS INDIA PRIVATE LIMITED\",\"INOX AIR PRODUCTS LTD\",\"INOX LEISURE LTD\",\"INTAS PHARMACEUTICALS LIMITED\",\"INTERGLOBE AIR TRANSPORT LIMITED\",\"INTERGLOBE AVIATION LIMITED\",\"INTERGLOBE REAL ESTATE VENTURES PVT LTD\",\"INTERNATIONAL TRADING CORPORATION\",\"IPCA LABORATORIES LIMITED\",\"IPCA LABORATORIES LIMITED\",\"IRA BLOSSOM FIELDS\",\"IRB MP EXPRESSWAY PRIVATE LIMITED\",\"ISHAN TECHNICAL PLANT SERVICES PVT LTD\",\"ISHANI BHAVIK AJMERA\",\"ISTAMSETTY SONY\",\"ITC LIMITED\",\"ITC LIMITED\",\"IVL DHUNSERI PETROCHEM INDUSTRIES PRIVAT E LIMITED\",\"J B ENTERPRISE\",\"J K CEMENT LIMITED\",\"J K CEMENT LTD.\",\"J S K HOTELS P LTD\",\"J.K.CEMENT LTD.\",\"JAI BHARAT TECHNICAL SERVICES PVT LTD\",\"JAI GANESH ISPAT AND FERRO ALLOYS PVT LTD\",\"JAI SUSPENSION SYSTEMS L L P\",\"JAI SUSPENSION SYSTEMS LLP\",\"JAINENDRA  P  SHAH\",\"JAINENDRA  PRAVINCHANDRA  SHAH\",\"JANAM ENTERPRISES\",\"JASWANT KUMAR SETHIA\",\"JAY USHIN LTD\",\"JAYANTA KUMAR DAS\",\"JBM INDUSTRIES LIMITED\",\"JINDAL HOUSE\",\"JINDAL HOUSE\",\"JINDAL POLY FILMS LIMITED\",\"JINDAL POLY FILMS LIMITED\",\"JINDAL SAW LIMITED\",\"JINDAL SAW LIMITED\",\"JINDAL STAINLESS LTD\",\"JINDAL STEEL AND POWER LIMITED\",\"JINDAL STEEL AND POWER LIMITED\",\"JINDAL STEEL AND POWER LIMITED\",\"JIT INDUSTRIAL PARK LLP\",\"JK LAKSHMI CEMENT LIMITED\",\"JK PAPER LIMITED\",\"JMC PROJECTS  INDIA  LTD\",\"JMC PROJECTS  INDIA  LTD\",\"JMS MINING  PRIVATE LIMITED\",\"JNS INSTRUMENTS LTD\",\"JOSYULA VENKATESH\",\"JOSYULA VENKATESH\",\"JUBILANT LIFE SCIENCES LIMITED\",\"JWIL INFRA LTD. (FORM. JITF WATER\",\"JWIL INFRA LTD. (FORM. JITF WATER\",\"JYOTI LADHA\",\"JYOTSNA AGGARWAL\",\"K AMISH KUMAR TRADING PVT LTD\",\"K B DEALERS PRIVATE LIMITED\",\"K D LIQUOR AND FERTILIZER PVT LTD\",\"K K RESOURCES PRIVATE LIMITED\",\"K M A COMMODITIES LLP\",\"K M DEALERS LLP\",\"K R RAJA  JT\",\"K RAHEJA CORP PVT LTD\",\"K RAHEJA CORP PVT LTD\",\"K RAHEJA CORP PVT LTD\",\"KAL RADIO LIMITED\",\"KALPATARU PROJECTS INTERNATIONAL LIMITED\",\"KALPTARU INVESTMENTS PVT.LTD.  PROP\",\"KAMAL MANOHAR\",\"KAMAL TRADING CORPORATION\",\"KAMAL TRADING CORPORATION\",\"KAMLANG SAW & VENEER MILLS PVT LTD\",\"KAMNA COMMERCIAL PRIVATE LIMITED\",\"KAMNA CREDITS AND PROMOTORS PVT LTD\",\"KAMNA CREDITS AND PROMOTORS PVT LTD\",\"KAMNA CREDITS AND PROMOTORS PVT LTD\",\"KAMNA CREDITS AND PROMOTORS PVT LTD\",\"KAMNA CREDITS AND PROMOTORS PVT LTD\",\"KANHA VINCOM PRIVATE LIMITED\",\"KANWAR                                   LAL PATNI\",\"KARTHIKEYA CONSTRUCTIONS\",\"KARTIKEYA INFRA\",\"KAUSHALENDER AGGARWAL\",\"KAUSTUBH VERMA\",\"KAYPEE ENTERPRISES\",\"KAYPEE ENTERPRISES\",\"KAYPEE ENTERPRISES\",\"KB DEALERS LLP\",\"KCR ENTERPRISE LLP\",\"KEC INTERNATIONAL LIMITED\",\"KEJRIWAL MIINIING PRIVATE LIMITED\",\"KEVENTER FOODPARK INFRA LIMITED\",\"KEVENTER FOODPARK INFRA LIMITED\",\"KEVENTER FOODPARK INFRA LIMITED\",\"KEVENTER FOODPARK INFRA LIMITED\",\"KEVENTER FOODPARK INFRA LIMITED\",\"KEYSTONE REALTORS PVT LTD\",\"KEYSTONE REALTORS PVT LTD\",\"KEYSTONE REALTORS PVT LTD\",\"KHANDKE WIND ENERGY PRIVATE LIMITED\",\"KHUSHBU  AGGARWAL\",\"KIRAN MAZUMDAR SHAW\",\"KIRAN MAZUMDAR SHAW\",\"KIRAN MAZUMDAR SHAW\",\"KIRITI VENTURES PRIVATE LIMITED\",\"KIRTAN AJMERA\",\"KISHAN  MIRANIA AGARWAL\",\"KISHAN F.L. BOND HOUSE\",\"KISHAN M AGARWAL\",\"KISHAN M AGARWAL HUF\",\"KITEX CHILDRENSWEAR LTD\",\"KITEX GARMENTS LIMITED\",\"KM DEALERS LLP\",\"KMK DEVELOPERS PVT LTD ASHISH BHAS\",\"KNR CONSTRUCTIONS LTD\",\"KONARK RAJENDRA SHAH\",\"KONERU RAVITEJA\",\"KOTESWAR RAO GULLAPALLY\",\"KOYA AND COMPANY CONSTRUCTION LTD\",\"KRBL LTD\",\"KRISHNA SHEET PROCESSORS PVT LTD\",\"KULWANT SINGH\",\"KUSUM MAROTI\",\"KVR BASELINE RESOURCES PRIVATE LIMI\",\"L S DAVAR AND CO\",\"L7 HITECH PRIVATE LIMITED\",\"LAKSHMI MEDICALS\",\"LAKSHMI MEDICALS\",\"LAKSHMI NIWAS MITTAL\",\"LALIT GULATI\",\"LALITPUR POWER GENERATION COMPANY LIMITED\",\"LAURELSECURITIESPVTLTD\",\"LAURELSECURITIESPVTLTD\",\"LAXMI CIVIL ENGINEERING SERVICES PR\",\"LAXMI INDUSTRIAL BOTTLING PLAN\",\"LAXMI INDUSTRIAL BOTTLING PLAN\",\"LAXMI INDUSTRIAL BOTTLING PLAN\",\"LAXMI INDUSTRIAL BOTTLING PLANT\",\"LAXMI INDUSTRIAL BOTTLING PLANT\",\"LAXMIDAS VALLABHDAS   ASMITA MERCHA\",\"LCCPROJECTSPRIVATELIMITED\",\"LEPTON SOFTWARE EXPORT AND RESEARCH PRIVATE LTD\",\"LEVOC FINANCE PVT LTD\",\"LIFELINE MARKETING PRIVATE LIMITED\",\"LIFELINE MARKETING PRIVATE LIMITED\",\"LILAC MERCHANDISE PRIVATE LIMITED\",\"LOKESH KUMAR\",\"LOTUS TEXPARK LIMITED FORMERLY LOTUS INT EGRATED TEXPARK LTD\",\"LOUISIANA INVESTMENT   FINANCE PVT\",\"LPF SYSTEMS PRIVATE LIMITED\",\"LUCINA LAND DEVELOPMENT LIMITED\",\"LULU INDIA SHOPPING MALL PRIVATE LI\",\"LUMAX INDUSTRIES LIMITED\",\"LUPIN LIMITED\",\"M M YARNS PVT LTD\",\"M R F LIMITED\",\"M S  VARAS INTERNATIONAL PVT LTD\",\"M S  VARAS INTERNATIONAL PVT LTD\",\"M S JUGENDRA SINGH AND COMPANY\",\"M\\u002fS KAMAL ISPAT\",\"M\\u002fS T S WIND POWER DEVELOPERS\",\"M\\u002fS VISION SECURITY SERVICES, PROP-MAJOR  DEVENDRA NATH DAS\",\"M\\u002fS. K.D. LIQUOR  FERTILIZER PRIVATE L\",\"M\\u002fS. RAMESH AGARWAL C S BOTTLING PL\",\"M\\u002fSGAURAV INTERNATIONAL\",\"M\\u002fSGAURAV INTERNATIONAL\",\"M\\u002fSKJS AHLUWALIA\",\"MAATHA PROJECTS LLP\",\"MAATHA PROJECTS LLP\",\"MADAMAGERI SOLAR POWER PROJECT LLP\",\"MADANLAL LTD.\",\"MADANLAL LTD.\",\"MADHUMITA SAH\",\"MADHYA PRADESH WASTE MANAGEMENT PR\",\"MADHYA PRADESH WASTE MANAGEMENT PRI\",\"MAGARPATTA TOWNSHIP DEV AND CONST C\",\"MAHABIR BANKA\",\"MAHABIR BANKA\",\"MAHALAXMI VIDYUT PVT.LTD.\",\"MAHALAXMI VIDYUT PVT.LTD.\",\"MAHALAXMI VIDYUT PVT.LTD.\",\"MAHAVIRA VINCOM PRIVATE LIMITED\",\"MAHENDRA SPONGE AND POWER LIMITED\",\"MAHESH NARAYAN KHADE\",\"MAHINDRA & MAHINDRA LTD\",\"MAITHRI LABORATORIES (PVT) LTD\",\"MAKARAND PLANTATIONS PVT LIMITED\",\"MANDADI RAMULU\",\"MANISH AGARWAL\",\"MANISH KUMAR KHAKHOLIA\",\"MANITHEJ ENTERPRISES\",\"MANJIT KAUR\",\"MANJU SHREE SOMANI\",\"MANKIND PHARMA LIMITED\",\"MANKIND TRACOM PRIVATE LIMITED\",\"MANOJ KUMAR AGARWAL\",\"MANOTOSH DAS\",\"MANU VYAPAR (P) LTD.\",\"MANU VYAPAR (P) LTD.\",\"MANU VYAPAR (P) LTD.\",\"MANVAR DEVABHAI\",\"MANVAR DEVABHAI\",\"MANVAR SAVABHAI\",\"MANVAR SAVABHAI\",\"MARAL OVERSEAS LTD.\",\"MARDI GRAS LIQUOR DIV OF MARDI GRAS\",\"MARUTI SUZUKI INDIA LTD\",\"MB POWER (MADHYA PRADESH) LTD\",\"MEENU CREATION LLP\",\"MEGA EQUITAS PRIVATE LIMITED\",\"MEGHA ENGINEERING & INFRASTRUCTURES LIMITED\",\"MEGHA ENGINEERING & INFRASTRUCTURES LIMITED\",\"MEGHA ENGINEERING & INFRASTRUCTURES LIMITED\",\"MEGHA ENGINEERING AND INFRASTRUCTURES LI MITED\",\"MEGHA ENGINEERING AND INFRASTRUCTURES LI MITED\",\"MEGHA ENGINEERING AND INFRASTRUCTURES LI MITED\",\"MEGHA ENGINEERING AND INFRASTRUCTURES LI MITED\",\"MEGHA ENGINEERING AND INFRASTRUCTURES LI MITED\",\"MEGHA ENGINEERING AND INFRASTRUCTURES LI MITED\",\"MEGHA ENGINEERING AND INFRASTRUCTURES LI MITED\",\"MEGHA ENGINEERING AND INFRASTRUCTURES LI MITED\",\"MEGHA ENGINEERING AND INFRASTRUCTURES LTD\",\"MEGHA ENGINEERING AND INFRASTRUCTURES LTD\",\"MEHERFOUNDATIONSANDCIVILENGPVT\",\"MERLIN RECREATION PVT LTD\",\"MICHIGAN ENGINEERS PVT LTD\",\"MICRO LABS LIMITED\",\"MICRO LABS LTD\",\"MICRO LABS LTD\",\"MIDAS PROJECTS PRIVATE LIMITED\",\"MINDA KYORAKU LTD\",\"MINDARIKA PRIVATE LTD\",\"MIRANIA BUILDERS LLP\",\"MIRANIA COMPLEX LLP\",\"MISRILALL MINES PVT LTD\",\"MISRILALL MINES PVT LTD\",\"MKJ ENTERPRISES LIMITED\",\"MKJ ENTERPRISES LIMITED\",\"MKJ ENTERPRISES LIMITED\",\"MKJ ENTERPRISES LIMITED\",\"MKJ ENTERPRISES LIMITED\",\"MKJ ENTERPRISES LIMITED\",\"MKJ ENTERPRISES LIMITED\",\"MKJ ENTERPRISES LTD\",\"MKJ ENTERPRISES LTD\",\"MKJ ENTERPRISES LTD\",\"MKK METAL SECTIONS P LTD\",\"MKK METAL SECTIONS P LTD\",\"MKK METAL SECTIONS PVT LTD\",\"MNMEDIAVENTURESPVTL108\",\"MODERN ROAD MAKERS PVT LTD\",\"MODERN ROAD MAKERS PVT LTD\",\"MODERN ROAD MAKERS PVT LTD\",\"MODERN ROAD MAKERS PVT. LTD.\",\"MOHAN STEEL CORPORATION\",\"MOHAN STEEL CORPORATION\",\"MOHINDER                                 KUMAR JAIN\",\"MOHIT MINERALS  LTD\",\"MOHIT MINERALS LIMITED\",\"MONALISA BOTTLING INDUSTRIES PVT LTD\",\"MONALISA BOTTLING INDUSTRIES PVT LTD\",\"MONALISA BOTTLING INDUSTRIES PVT LTD\",\"MONALISA BOTTLING INDUSTRIES PVT LTD\",\"MONIKA\",\"MOTOWN TRADING PVT LTD\",\"MOTOWN TRADING PVT LTD\",\"MOTOWN TRADING PVT LTD\",\"MOUNT EVEREST BREWERIES LIMITED\",\"MR ANUJ GOENKA\",\"MR KONARK RAJENDRA SHAH\",\"MR RAJ DEEPAK VARSHNEY\",\"MR SACHIN BAKLIWAL\",\"MR SAURABH BAKLIWAL\",\"MR SAURABH BAKLIWAL\",\"MR SAURABH BAKLIWAL\",\"MR. BAL KISHAN GOENKA\",\"MR. DEEPAK  KHEMKA\",\"MR. ISHANT  GUPTA\",\"MR. KAUKUNTLA  VENU GOPAL\",\"MR. MAYANK SINGHAL\",\"MR. NISHANT K YADAV\",\"MR. VIJAY KUMAR  GOYAL\",\"MRPANKAJKUMARGUPTA\",\"MRS LILA DEVI SULTANIA\",\"MRS. SUSHILA GOENKA\",\"MS PEARL GLOBAL INDUSTRIES LTD FORM\",\"MS S N MOHANTY\",\"MS. SHIPRA GOENKA\",\"MSN LABORATORIES PVT LTD\",\"MSN ORGANICS PVT LTD\",\"MSN PHARMACHEM PVT LTD\",\"MSN PHARMACHEM PVT LTD\",\"MSPL LTD\",\"MSPL LTD\",\"MTC ISPAT PVT LTD\",\"MUKESH AJMERA\",\"MUKUND BINANI\",\"MUPPANA VENKATA RAO\",\"MUTHOOT FINANCE LTD\",\"MVM SECURITIES PVT LTD-SELF A\\u002fC\",\"MY HOME INFRASTRUCTURES  PRIVATE LI\",\"MY HOME INFRASTRUCTURES PVT LTD MY\",\"MY HOME INFRASTRUCTURES PVT LTD MY\",\"MYRIAD DEVELOPERS\",\"MYTRAH ENERGY INDIA PRIVATE LIMITED\",\"MYTRAH ENERGY INDIA PRIVATE LIMITED\",\"MYTRAH ENERGY INDIA PRIVATE LIMITED\",\"MYTRAH ENERGY(INDIA) PRIVATE LIMITED\",\"N A R INFRA PRIVATE LIMITED\",\"NAHAR BUILDERS AND DEVELOPERS LTD\",\"NAMIT PURI\",\"NANDED CITY DEVELOPMENT AND CONSTRU\",\"NANDI ENTERPRISES\",\"NANGALIA ASSOCIATES\",\"NANGALIA ASSOCIATES\",\"NARA CONSTRUCTIONS\",\"NARAYAN PODDAR\",\"NARAYAN PODDAR\",\"NARBHERAM VISHRAM\",\"NARESH HIRALAL BHANSALI\",\"NATCO PHARMA LIMITED\",\"NATCO PHARMA LIMITED\",\"NATCO PHARMA LTD\",\"NATCO PHARMA LTD\",\"NATCO PHARMA LTD\",\"NATCO PHARMA LTD\",\"NATCO PHARMA LTD\",\"NATCO PHARMA LTD\",\"NATRAJ GOODS PRIVATE LIMITED\",\"NATURAL RESIDENCY LLP\",\"NAVAL KISHORE AGARWAL\",\"NAVARUN SEN\",\"NAVAYUGA  ENGINEERING COMPANY LIMITED\",\"NAVAYUGA ENGINEERING CO LTD\",\"NCC LIMITED\",\"NEERAJ GANDHI\",\"NEERAJ GANDHI\",\"NEERAJ GANDHI\",\"NEHA BAHETY\",\"NETINCON MARKETING PVT LTD\",\"NEXG DEVICES PVT LTD\",\"NIDHI SOMANI\",\"NIKHIL SUNIL MUNDHRA\",\"NIMBHA BIOTECH PRIVATE LIMITED\",\"NIRANJAN LAL AND SONS HUF\",\"NIRAV MAROTI\",\"NIRAV MAROTI\",\"NIRMA LIMITED\",\"NIRMA LIMITED\",\"NIRMAL KUMAR BATHWAL\",\"NIRMALDEEP RESOURCES LTD\",\"NISHANT SARAFF\",\"NITESH KUMAR GUPTA\",\"NITIN BANSAL\",\"NLB SERVICES PRIVATE LIMITED\",\"NORTH EAST INFRA NET WORK\",\"NORTHERN SPIRITS LTD\",\"NSL RENEWABLE POWER PRIVATE LIMITED\",\"NSL SEZ HYDERABAD PRIVATE LIMITED\",\"NSL SEZ(HYDERABAD) PRIVATE LIMITED\",\"NUVOCO VISTAS CORP. LTD\",\"NUVOCO VISTAS CORPORATION LTD\",\"NVNR POWER   INFRA PRIVATE LIMITED\",\"NVSUBBA RAO\",\"OCEAN SPARKLE LTD\",\"OM CREDIT PVT LTD\",\"OM CREDIT PVT LTD\",\"OM ENCLAVE PVT LTD\",\"OM METALS DEVELOPERS (P) LTD.\",\"OM METALS DEVELOPERS (P) LTD.\",\"OM METALS DEVELOPERS (P) LTD.\",\"OM VINCOM PVT LTD\",\"OMKAR REALTORS PROJECTS PVT LTD\",\"OMKAR REALTORS PROJECTS PVT LTD\",\"OMKAR VENTURES PVT LTD\",\"ORIENT FASHION EXP (I) PVT LTD\",\"ORIENTAL SOUTH DELHI HOTELS PVT LTD\",\"ORISSA METALIKS PVT LIMITED\",\"ORRISA METALIKS PVT LTD\",\"OSTRO JAISALMER PRIVATE LIMITED\",\"OSTRO MADHYA WIND PRIVATE LIMITED\",\"P SHIVA SHANKAR REDDY\",\"P TEJAVARDHAN REDDY\",\"PALM SHELTER ESTATE DEVELOPMENT LL\",\"PALM SHELTER ESTATE DEVELOPMENT LLP\",\"PANACEA BIOTEC PHARMA LTD PHARMACEU\",\"PANKAJ PERIWAL\",\"PAPPI REDDY                              KISHORE KUMAR REDDY\",\"PARAMJIT SINGH S O JAGJIT SINGH\",\"PARESH AJMERA\",\"PARESH CHAMPAKLAL SHAH\",\"PARIBARTAN ELECTORAL TRUST\",\"PARIKSHIT SOMANI\",\"PASURA AGRI SCIENCES LLP\",\"PASURA CROP CARE PVT LTD\",\"PATEL ENGINEERING LTD.\",\"PATEL HIGHWAY MANAGEMENT PVT LTD\",\"PAVANKUMAR REDDY KUNDURU\",\"PAYEL AGARWAL\",\"PCBL LIMITED\",\"PCBL LIMITED\",\"PEDDIREDDY RAMANJANEYA REDDY\",\"PEGASUS PROPERTIES PVT LTD\",\"PENGUIN TRADING & AGENCIES LIMITED\",\"PENGUIN TRADING AND AGENCIES LTD\",\"PENNAR RENEWABLES PVT LTD( NEW ERA\",\"PERFECT INVESTMENT CONSULTANCY PRIV\",\"PHILIPS CARBON BLACK LTD\",\"PHILLIPS CARBON BLACK LIMITED\",\"PHILLIPS CARBON BLACK LIMITED\",\"PHL FINIVEST PVT LTD\",\"PIRAMAL CAPITAL AND HOUSING FINANCE LTD\",\"PIRAMAL ENTERPRISES LIMITED\",\"PIRAMAL ENTERPRISES LTD\",\"PIRAMAL PHARMA LIMITED\",\"PLUTO FINANCE PRIVATE LTD\",\"PLUTO FINANCE PRIVATE LTD.\",\"POLINA GANESWARARAO\",\"PONUGOTI HEMENDAR RAO\",\"POORVI DUGAR AJMERA\",\"PPR M SAND LLP\",\"PRABHAKAR RAO ASHA PRIYA PROPERTIES\",\"PRABHAKARA RAO MANDAVA\",\"PRABHAT HOMES PRIVATE LIMITED\",\"PRADEEP AGGARWAL\",\"PRADIP KUMAR DAS\",\"PRAGATI ENTERPRISES\",\"PRAHLAD SHARMA\",\"PRAKASH BALWANT MENGANE\",\"PRAKASH DISTILLERY & CHEMICAL CO (P) LT  D\",\"PRAKASH DISTILLERY & CHEMICAL CO (P) LT  D\",\"PRAKASH DISTILLERY & CHEMICAL CO (P) LT  D\",\"PRAMOD BAJORIA\",\"PRAMOD BAJORIA\",\"PRAMOD BAJORIA\",\"PRARAMBH SECURITIES PVT LTDOWN A\\u002fC\",\"PRARAMBH SECURITIES PVT LTDPROPRIET\",\"PRARAMBH SECURITIES PVT LTDPROPRIET\",\"PRARAMBH SECURITIES PVT LTDPROPRIET\",\"PRARAMBH SECURITIES PVT LTDPROPRIET\",\"PRASAD AND COMPANY PRIVATE LIMITED\",\"PRASHANT KUMAR JAISWAL\",\"PRATHMESH CONSTRUCTION\",\"PRATIBHA AGARWAL\",\"PRATIKSHA DOSHI\",\"PRATYASH RENEWABLE PRIVATE LIMITED\",\"PRAVEEN BAHETY\",\"PRB SECURITIES PVT LTD\",\"PRB SECURITIES PVT LTD\",\"PRB SECURITIES PVT LTD\",\"PREETI BINANI\",\"PREETI MAROTI\",\"PREM AGGARWAL\",\"PREM AGGARWAL AND SONS HUF\",\"PREM RATAN BAHETY\",\"PREMCHAND GODHA\",\"PREMCHAND GODHA\",\"PREMCHAND GODHA\",\"PREMIER PHOTOVOLTAIC MEDAK (P)LTD\",\"PREMIER PLASTIC INDUSTRIES\",\"PRESTIGE ESTATES PROJECTS LTD PREST\",\"PRESTIGE GARDEN ESTATES PRIVATE LIM\",\"PRESTIGE GARDEN ESTATES PRIVATE LIM\",\"PRESTIGE HABITAT VENTURES\",\"PRESTIGE NOTTING HILL INVESTMENTS\",\"PRESTIGE PROJECTS PVT LTD\",\"PRESTIGE PROJECTS PVT LTD\",\"PRESTIGE PROPERTY MANAGEMENT AND SE\",\"PRESTIGE SOUTHCITY HOLDINGS\",\"PRIME SALES CORPORATION\",\"PRIMUSGLOBALTECHNOLOGIESPVTLTD\",\"PRIMUSGLOBALTECHNOLOGIESPVTLTD\",\"PRL DEVELOPERS PRIVATE LIMITED\",\"PRL DEVELOPERS PRIVATE LIMITED\",\"PRL DEVELOPERS PRIVATE LIMITED\",\"PROCURE ADVISORY SERVICES PRIVATE L\",\"PROCURE ADVISORY SERVICES PRIVATE LTD\",\"PRUDHVI CONSTRUCTIONS PRIVATE LIMIT\",\"PUJA COAL PRIVATE LIMITED\",\"PURI CONSTRUCTION PVT LTD\",\"PURSHOTTAM LAL GUPTA\",\"PURSHOTTAM LAL GUPTA\",\"PURULIA BOTTLING PVT LTD\",\"PURULIA BOTTLING PVT LTD\",\"PUSHKARA COMMOSALES PRIVATE LIMITED\",\"PVR LTD\",\"QUALITY MAINTENANCE VENTURE LTD\",\"QUALITY MAINTENANCE VENTURE LTD\",\"QUALITY MAINTENANCE VENTURE LTD\",\"QWIKSUPPLYCHAINPRIVATELIMITED\",\"QWIKSUPPLYCHAINPRIVATELIMITED\",\"QWIKSUPPLYCHAINPRIVATELIMITED\",\"R   R INFRATECH  INDIA  PRIVATE LIM\",\"R B DEALERS PVT LTD\",\"R B DEALERS PVT LTD\",\"R K INFRACORP PRIVATE LIMITED\",\"R K V FABTECH INDIA PRIVATE LIMITED\",\"R N CONSTRUCTIONS\",\"R R KABEL LIMITED\",\"R SURYA NARAYNARAJU\",\"R V SUBRAHAMANYAM ISTAMSETTY\",\"R.S.BROTHERS RETAIL INDIA PRIVATE LIMITE D\",\"R.S.BROTHERS RETIAL INDIA PVT LTD\",\"RACHIT KAILASH MUNDHRA\",\"RADICO KHAITAN LIMITED\",\"RAGHAV COTSPIN PRIVATE LIMITED\",\"RAGHUKOOL ESTATE DEVELOPMENT LLP\",\"RAGHUKOOL ESTATE DEVELOPMENT LLP\",\"RAHUL AGARWAL\",\"RAHUL BHATIA\",\"RAHUL BHATIA\",\"RAHUL BHUWANIA\",\"RAHUL CHOUDHARY\",\"RAHUL CHOUDHARY\",\"RAHUL GUPTA\",\"RAHUL JAGANNATH JOSHI\",\"RAHUL TULSIAN\",\"RAIPUR BOTLING COMPANY\",\"RAJ KAMAL DRUGS\",\"RAJAPUSHPA ASSET MANAGEMENT LLP\",\"RAJAPUSHPA PROPERTIES PVT LTD\",\"RAJDHANI DEALERS PRIVATE LIMITED\",\"RAJEEV KUMAR JAIN\",\"RAJEEV KUMAR SHARMA\",\"RAJENDRA AGARWAL\",\"RAJESH JAIN\",\"RAJESH KUMAR AGARWAL\",\"RAJESH KUMAR AGARWAL\",\"RAJESH KUMAR AGARWAL\",\"RAJESH M AGRAWAL\",\"RAJESH MANNALAL AGRAWAL\",\"RAJESH MANNALAL AGRAWAL\",\"RAJESH MANNALAL AGRAWAL\",\"RAJESH SHARMA\",\"RAJESH SHARMA\",\"RAJIV KUMAR JHA\",\"RAJIV S SOMANI\",\"RAJU KUMAR SHARMA\",\"RAKESH KUMAR SHARMA\",\"RAKESH PRAVINCHANDRA SHAH\",\"RAMAN SHARMA\",\"RAMAWATAR SHARMA\",\"RAMESH AGARWAL C S BOTTLING PL\",\"RAMESH AGARWAL C S BOTTLING PLANT\",\"RAMESH AGARWAL C S BOTTLING PLANT\",\"RAMESH KRISHNA ENGINEERS PRIVATE LIMITED\",\"RAMESH TAPARIA\",\"RAMGAD MINERALS AND MINING LTD\",\"RAMKRISHNA COTSPIN PVT LTD\",\"RAMOLI DEALERS PVT LTD\",\"RANISATI MERCANTILES PVT LTD\",\"RANISATI MERCANTILES PVT. LTD.\",\"RANJIT BUILDCON LIMITED\",\"RANJIT BUILDCON LIMITED\",\"RANJIT PROJECTS PRIVATE LIMITED\",\"RANJIT PROJECTS PRIVATE LIMITED\",\"RANJIT TOLL ROAD PRIVATE LIMITED\",\"RANJIT TOLL ROAD PRIVATE LIMITED\",\"RASHMI CEMENT LTD\",\"RASHMI CEMENT LTD\",\"RASHMI METALIKS LTD\",\"RATHOD LAKHIBEN\",\"RATHOD LAKHIBEN\",\"RATNAMANI METALS AND TUBES LTD\",\"RAUNAK GUPTA\",\"RAUNAK GUPTA\",\"RAUNAK PROPERTIES PVT. LTD\",\"RAVENDER RAO GORUKANTI\",\"RAVI KUMAR SHARMA\",\"RAVINDER AGARWAL\",\"RAVINDRANATHA REDDY BANDI\",\"RAVLON PROPERTIES PVT LTD.\",\"RAY CONSTRUCTIONS LTD\",\"RAY CONSTRUCTIONS LTD\",\"RAYALA SEEMA WIND ENERGY PVT LTD\",\"RCC NUTRA FILL PRIVATE LIMITED\",\"REAL TECHNICAL SOLUTIONS PVT LTD\",\"REENA GARG\",\"REGENT ELECTRO MECH PRIVATE LIMITED\",\"RENUKA INVESTMENTS AND FINANCE LTD\",\"RENUKESHWAR INVESTMENTS PVT LTD\",\"REPALLY ASHOK\",\"RICHA & CO\",\"RICHA GLOBAL EXPORTS PRIVATE LIMITED\",\"RIGHT AID CONSULTANTS PVT LTD\",\"RIGHT AID CONSULTANTS PVT LTD\",\"RIPLEY & CO STEVDORING & HANDLING PVT LT D\",\"RIPLEY AND CO. STEVEDORING & HANDLING PVT LTD\",\"RISHABH KHEMKA \\u002f ISHWAR CHAND KHEMK\",\"RISHABH PATNI\",\"RITESH ENCLAVE PVT LTD\",\"RITESH NIRMAN PVT LTD\",\"RITESH PROJECTS PVT LTD\",\"RITESH PROJECTS PVT LTD\",\"RITESH PROJECTS PVT LTD\",\"RITESH REAL ESTATES PVT LTD\",\"RITESH VANIJYA PRIVATE LIMITED\",\"RITHWIK PROJECTS  PRIVATE LIMITED\",\"RITHWIK PROJECTS  PRIVATE LIMITED\",\"RITHWIK PROJECTS  PRIVATE LIMITED\",\"RMC SWITCHGEARS LTD\",\"ROHIT AGARWAL\",\"RONAK AJMERA\",\"ROOPREKHA VYAPAAR PRIVATE LIMITED\",\"ROSHINI DEVELOPERS PRIVATE LTD\",\"ROSHNI DEALMARK PRIVATE LIMITED\",\"ROSHNI DEALMARK PRIVATE LTD\",\"RPSG VENTURES LIMITED\",\"RSLH AUTO SEAT TRIMS PVT LTD\",\"RT RENEWABLE ENERGY PVT LTD\",\"RUMA GHATAK\",\"RUNGTA SONS P LTD\",\"RUNGTA SONS P LTD\",\"RUPA H SHAH\",\"RUPA H SHAH\",\"S D CORPORATION PVT LTD\",\"S E BUILDERS AND REALTORS LTD\",\"S G  AGARWAL & CO\",\"S K SUPPLY CHAIN SOLUTIONS\",\"S K TRADERS\",\"S K TRADING CO.\",\"S R C CHEMICALS PVT LTD\",\"S.P. SINGLA CONSTRUCTIONS PRIVATE LTD.\",\"S.S.EARTHMOVERS AND LOGISTICS\",\"SAFAL GOYAL REALTY LLP\",\"SAGAR CEMENTS LIMITED\",\"SAGAR CEMENTS LIMITED\",\"SAGAR CEMENTS LIMITED\",\"SAGAR CEMENTS LIMITED\",\"SAGAR CEMENTS LIMITED\",\"SAGI VENKATA RAMAKRISHNA RAJU\",\"SAGUN TULSYAN\",\"SAGUN TULSYAN\",\"SALASAR FINANCIAL ADVISORY SERVICES\",\"SALASAR SAREES PVT LTD\",\"SALASAR STOCK BROKING LTD-PROPRIETARY\",\"SAMMAN LAL SHER SINGH PAPERS PVT LT\",\"SAN BEVERAGES PVT LTD\",\"SAN LOGISTICS\",\"SAN LOGISTICS\",\"SANDEEP AGGARWAL\",\"SANDEEP AGGARWAL AND SONS HUF\",\"SANDEEP AUTO LINES\",\"SANDEEP AUTO LINES\",\"SANDEEP AUTO LINES\",\"SANDEEP JHUNJHUNWALA\",\"SANDEEP KHANNA AND ASSOCIATES\",\"SANDEEP KUMAR SULTANIA (JT1)\",\"SANDHYA  CONSTRUCTIONS & ESTATES PRIVATE  LIMITED\",\"SANGIREDDY THIRUPATHI REDDY\",\"SANJAY AGARWAL\",\"SANJAY JAIN\",\"SANJAY JHUNJHUNWALA\",\"SANJAY KUMAR\",\"SANJAY KUMAR\",\"SANJAY KUMAR\",\"SANJAY KUMAR SINHA\",\"SANJAY KUMAR SINHA\",\"SANJIB CHAKRABORTY\",\"SANOLA WIND PROJECT PVT LTD\",\"SANTOSH GOYAL\",\"SANVI SPINNING MILLS PVT LTD\",\"SARD INDIA PRIVATE L\",\"SARDA ENERGY AND MINERALS LTD\",\"SARITA   MIRANIA AGARWAL\",\"SARITA  MIRANIA AGARWAL\",\"SARITA HANDA EXPORTS PVT LTD\",\"SARITA MIRANIA AGARWAL\",\"SAROJA RENEWABLES PRIVATE LIMITED\",\"SAROJIT KUMAR DEY\",\"SAROJIT KUMAR DEY\",\"SAROSH ALIZAH MINING\",\"SASMAL INFRASTRUCTURE PRIVATE LIMITED\",\"SASMAL INFRASTRUCTURE PRIVATE LIMITED\",\"SATEC ENVIR ENGINEERING (I) PVT LTD\",\"SATISHCHANDRA SHANTILAL DOSHI HUF\",\"SAURABH GUPTA\",\"SAURABH JAIN\",\"SCAFFOLD PROPERTIES PVT LTD\",\"SDS LOGISTICS PRIVATE LIMITED\",\"SECURE METERS LTD\",\"SEEMA MIRANIA AGARWAL\",\"SEEMA MIRANIA AGARWAL\",\"SEI ARUSHI PVT LTD\",\"SEI BASKARA POWER PVT LTD\",\"SEI DIAMOND PVT LTD\",\"SEI ENERSTAR RENEWABLE ENRGY PVT LTD\",\"SEI MIHIR ENERGY PVT LTD\",\"SEI VENUS PVT LTD\",\"SELENE CONSTRUCTIONS LIMITED\",\"SELMAR LAB  PRIVATE LIMITED\",\"SELMAR LAB PRIVATE LTD\",\"SENGUPTA AND SENGUPTA PRIVATE LIMIT\",\"SENGUPTA AND SENGUPTA PRIVATE LIMIT\",\"SENGUPTA AND SENGUPTA PRIVATE LIMIT\",\"SENGUPTA AND SENGUPTA PVT LTD\",\"SENGUPTA AND SENGUPTA PVT LTD\",\"SEPC POWER PVT LTD OPERATION RETEN\",\"SEPC POWER PVT LTD OPERATION RETEN\",\"SEPC POWER PVT LTD OPERATION RETEN\",\"SERVEALL LAND DEVELOPERS PVT LTD\",\"SEZ BIOTECH SERVICES PVT LTD\",\"SHADOWFAX TRADERS\",\"SHAHAB RIZVI\",\"SHAHIEXP\",\"SHANKARANARAYANA CONSTRUCTIONS PVT\",\"SHANKARRESOURCESPVTLTD\",\"SHAURYAVIR CARRIERS PRIVATE LIMITED\",\"SHINE COTSPIN PVT LTD\",\"SHIRDI SAI ELECTRICALS LTD\",\"SHIRISH BAJAJ\",\"SHIV SHANKAR SECURITIES PVT LTD\",\"SHIVALIK PRINTS LIMITED\",\"SHIVALIK PRINTS LIMITED\",\"SHIVAM TRANSCON PRIVATE LIMITED\",\"SHREE CEMENT LIMITED\",\"SHREE CEMENT LTD\",\"SHREE CEMENT LTD\",\"SHREE CEMENT LTD\",\"SHREE CHAND SARAOGI\",\"SHREE CHAND SARAOGI\",\"SHREE RATAN BAHETY\",\"SHREE SALASAR PROPERTIES & FINANCE PVT LTD\",\"SHREYAS RENEWABLE ENERGY PRIVATE LTD\",\"SHREYAS RENEWABLE ENERGY PVT LTD\",\"SHRI JAGANNATH STEELS & POWER LTD\",\"SHRI JAGANNATH STEELS & POWER LTD\",\"SHRI SHAMLAJI SALES PRIVATE LIMITED\",\"SHRINIVAS VASUDEVA DEMPO\",\"SHRINIVAS VASUDEVA DEMPO\",\"SHRINIVAS VASUDEVA DEMPO\",\"SHRINIVAS VASUDEVA DEMPO\",\"SHYAM STEEL MANUFACTURING LTD. (FLY SOVA  ISPAT LTD.)\",\"SHYAM SUNDAR BAHETY\",\"SI AIR SPRINGS PRIVATE LTD\",\"SIAN INFRA AND REALCON LLP\",\"SIDDHARTH DEVELOPERS\",\"SIDDHARTH MATHUR\",\"SIDDHI TRADING\",\"SIDHANT INVESTMENT ADVISORY PRIVATE\",\"SIDHARTH AGARWAL\",\"SIGMA ADVANCED SYSTEMS PRIVATE LIMI\",\"SILVER LINE INVESTMENT COMPANY\",\"SILVERTONE SECURITIES PRIVATE LIMIT\",\"SILVERTONE SECURITIES PRIVATE LIMIT\",\"SILVERTONE SECURITIES PVT LTD\",\"SILVERTOSS SECURITIES PVT LTD\",\"SITARA DIAMOND PRIVATE LIMITED\",\"SK INFRA\",\"SKEIRON RENEWABLE ENERGY AMIDYALA P\",\"SKEIRON RENEWABLE ENERGY AMIDYALA PRIVATE LIMITED\",\"SKP MERCHANTS LLP\",\"SKP MERCHANTS LLP\",\"SKYWORLD DEVELOPERS LLP\",\"SLICK SOFTWARE SOLUTIONS PRIVATE LI\",\"SLRV HOMES LLP\",\"SMR AUTOMOTIVE SYSTEMS INDIA LTD\",\"SMRITI  AGRAWAL\",\"SMRITI  AGRAWAL\",\"SNB MINERALS PRIVATE LIMITED\",\"SNEHA KINETIC POWER PROJECTS PVT LTD\",\"SNS CLOTHING PVT LTD\",\"SOHAN SARAF\",\"SOHINI DEVELOPERS LLP\",\"SOM DISTILERIES PRIVATE LTD\",\"SOM DISTILLERIES BREWERIES LIMITED\",\"SOM DISTILLERIES PVT LTD\",\"SOMASILA SOLAR POWER LIMITED\",\"SOMASILA SOLAR POWER LIMITED\",\"SOPANRAO BALKRISHNA DHASAL AGRO PRODUCTS  LIMITED\",\"SOURABH                                  KUMAR ROY\",\"SOUTH ASIA FM LIMITED\",\"SPECO INFRASTRUCTURE\",\"SPECO INFRASTRUCTURES\",\"SPEED BUSINESS PVT LTD\",\"SPICEJET LIMITED\",\"SPML OM METALS JV\",\"SPPL PROPERTY MANAGEMENT PVT LTD\",\"SR DEVELOPERS\",\"SRABANI ROY\",\"SREE KRUTHI\",\"SREE RAYALASEEMA HI STRENGTH HYPO LTD\",\"SREENATH FINVEST PRIVATE LIMITED\",\"SRI CHAITANYA STUDENTS FACILITY MANAGEME\",\"SRI CHAITANYA STUDENTS FACILITY MANAGEME\",\"SRI DEVELOPERS\",\"SRI KARTHIKEYA DEVELOPERS\",\"SRI KRISHNA INFRAASTRUCTURES\",\"SRI KUMARASWAMY MINERAL EXPORTS PR\",\"SRI SAI BIO ORGANICS( OPR BY R V SUBRAHM ANYAM I)\",\"SRI SIDDARTHA CONSTRUCTIONS\",\"SRI SIDDHARTH INFRATECH & SERVICES(I) PVT LTD\",\"SRI SIDDHARTH INFRATECH AND SERVICES I P\",\"SRI SIDDHARTH INFRATECH AND SERVICES I P\",\"SRI SIDDHARTH INFRATECH AND SERVICES I P\",\"SRI VIGNEWARA CONSTRUCTIONS\",\"SRI YANTRA ASSOCIATES\",\"SRICHAITANYA STUDENTS FACILITY MANAGEMENT PVT LTD\",\"SRINIVASH BINANI\",\"SRIVAY INDUSTRIES LIMITED\",\"SRIVILAS HYDROTECH PVT LTD\",\"SSALASAR  FINANCIAL ADVISORY SERVICE PVT LTD\",\"ST PATRICKS REALTY PVT LTD\",\"STAR CEMENT MEGHALAYA LIMITED\",\"STAR CEMENT MEGHALAYA LIMITED\",\"STOCKPATHADVISORSLLP\",\"SUBHASH CHANDRA GUPTA\",\"SUDHAKAR KANCHARLA\",\"SUDSAR BUILDSPACE LLP\",\"SUKHBIR SINGH\",\"SUKRITI GUPTA BAHETY\",\"SULA VINEYARDS PVT LTD\",\"SUMAN AGARWAL\",\"SUMAN ESTATES PRIVATE LIMITED\",\"SUMAN ESTATES PRIVATE LIMITED\",\"SUMITRA DEVI AGARWAL\",\"SUN DISTRIBUTION SERVICES PVT LTD\",\"SUN OILNATURAL GAS DIV SUN PETRO P.\",\"SUN OILNATURAL GAS DIV SUN PETRO P.\",\"SUN PHARMA LABORATORIES LIMTED\",\"SUN PHARMA LABORATORIES LTD\",\"SUNBORNE ENERGY ANDHRA PVT LTD\",\"SUNDARAM INDUSTRIES PVT LIMITED\",\"SUNDEEP JHUNJHUNWALA\",\"SUNDRAM INDUSTRIES PVT LTD\",\"SUNIL ENGINEERING AND SYSTEMS\",\"SUNKURU SURESH SUBUDHI  JT\",\"SUNSHINE FINTRADE PVT LTD\",\"SUPER CYBERTECH PARK PRIVATE LIMITE\",\"SURBHI AGARWAL\",\"SURENDRA STEELS PRIVATE LIMITED\",\"SURESH PATNI\",\"SUSHIL KUMAR KOTHARI\",\"SUSHILA PATNI\",\"SUSTAINABLE SPINNING AND COMMODITIES PVT  LTD\",\"SUVARCHAS SOLAR POWER PRIVATE LIMITED\",\"SWAL CORPORATION LIMITED\",\"SWAMI FUELS PRIVATE LIMITED\",\"SWAPNA CHENNAVARAM\",\"SWARNAPUSHPA VANIJYA PRIVATE LIMITE\",\"SWARNARETH MINERAL INDUSTRIES\",\"SWETA ESTATES PVT LTD\",\"SYLVANUS PROPERTIES LIMITED\",\"SYNERGY DEALCOM PVT LTD-SELF A\\u002fC\",\"T SIRISH BABU\",\"TADAS WIND ENERGY PVT LTD\",\"TALENTO TECHNICAL PLANT SERVICES PVT LTD\",\"TANOT WIND POWER VENTURES PVT LTD\",\"TANOT WIND POWER VENTURES PVT LTD\",\"TANUSHREE LOGISTICS PRIVATE LIMITED\",\"TANUSHREE SOMANI\",\"TAQUITO LEASE OPERATORS PVT. LTD\",\"TARGET VINCOM PVT LTD\",\"TARLA RAJENDRA SHAH\",\"TAVINDER SINGH KOHLI\",\"TECH MAHINDRA LTD\",\"TEGA INDUSTRIES LIMI\",\"TEJAS  P  SHAH\",\"TEKREANT INDIA PRIVATE LIMITED\",\"TELLAPUR TECHNOCITY PRIVATE LIMI\",\"TERACON BUILDTECH LLP\",\"TEXPORT CREATION\",\"THAKUR PRASAD SAO & SONS PVT LT\",\"THE ANGUS COMPANY LIMITED\",\"THE ANUP ENGINEERING\",\"THE ASSOCIATED AUTO PARTS PRIVATE LIMITED\",\"THE GANGES MANUFACTURING CO LTD\",\"THE INDIA CEMENTS LTD\",\"THE PUNJAB BUSINESS SUPPLY COMPANY\",\"THE RAMCO CEMENTS LIMITED\",\"THE RAMCO CEMENTS LIMITED\",\"THE RAMCO CEMENTS LIMITED\",\"THE SANDUR MANGANESE &AMP;AMP; IRON ORES LI\",\"THE SUPREME INDUSTRIES LTD\",\"THE SUPREME INDUSTRIES LTD\",\"THRIVENI EARTH MOVERS PVT LTD\",\"THRIVENI EARTHMOVERS PVT LTD\",\"THRIVENI SAINIK MINING PRIVATE LIMI\",\"TILAK AJMERA\",\"TIVOLI PARK APARTMENTS PVT LTD\",\"TOPNOTCH PROJECTS PRIVATE LIMITED\",\"TORRENT  POWER  LIMITED\",\"TORRENT  POWER  LIMITED\",\"TORRENT  POWER  LIMITED\",\"TORRENT  POWER  LIMITED\",\"TORRENT  POWER  LIMITED\",\"TORRENT PHARMACEUTICALS LIMITED\",\"TORRENT PHARMACEUTICALS LIMITED\",\"TORRENT PHARMACEUTICALS LIMITED\",\"TORRENT PHARMACEUTICALS LTD\",\"TORRENT PHARMACEUTICALS LTD\",\"TORRENT PHARMACEUTICALS LTD\",\"TORRENT PHARMACEUTICALS LTD\",\"TORRENT POWER LTD\",\"TORRENT POWER LTD\",\"TPK PARTNERS\",\"TRANSWAYS EXIM PRIVATE LIMITED\",\"TRANSWAYS EXIM PRIVATE LIMITED\",\"TRANSWAYS EXIM PRIVATE LIMITED\",\"TRANSWAYS EXIM PRIVATE LTD\",\"TRANSWAYS EXIM PRIVATE LTD\",\"TRANSWAYS EXIM PRIVATE LTD\",\"TRANSWAYS EXIM PVT LTD\",\"TRIBHUVAN SPINTEX PRIVATE LIMITED\",\"TRIDENT LIMITED\",\"TRIDENT LIMITED {FORMERLY ABHISHEK INDUS TRIES LIMITED}\",\"TRIDENTCHEMPHARLIMITED\",\"TRIREME INFRASTRUCTURRE  PVT LTD\",\"TSHARKS INFRA DEVELOPERS PRIVATE LI\",\"TSHARKS OVERSEAS EDUCATION CONSULTA\",\"TULIP RESIDENCY LLP\",\"TVS MOBILITY PRIVATE LIMITED\",\"TVS MOTOR COMPANY LIMITED\",\"ULTRA TECH CEMENT LIMITED\",\"ULTRA TECH CEMENT LIMITED\",\"ULTRATECHCEMENTSLTD\",\"ULTRATECHCEMENTSLTD\",\"UM CABLES LIMITED\",\"UM CABLES LIMITED\",\"UNILIGHT REINSURANCE BROKERS PVT LTD\",\"UNIPRO TECHNO INFRASTRUCTURE PVT LTD\",\"UNITED PHOSPHORUS INDIA LLP\",\"UNNIKRISHNAN K\",\"UPL LIMITED\",\"URMILA DEVI TAPARIA\",\"USHA AGGARWAL\",\"USV PRIVATE LTD ( FORMERLY USV LTD)\",\"UTKAL ALUMINA INTERNATIONAL LIMITED\",\"UTKAL ALUMINA INTERNATIONAL LIMITED\",\"UTKAL ALUMINA INTERNATIONAL LIMITED\",\"UTKAL ALUMINA INTERNATIONAL LTD\",\"UTKARSH JAIN\",\"UTKARSH SFATIK LIMITED\",\"UTSAV ENCLAVE LLP\",\"UTTAM KUMAR GHOSH\",\"V BALAVEERIAH SONS\",\"V M SALGAOCAR   BROTHER PVT LTD\",\"V M SALGAOCAR   BROTHER PVT LTD\",\"V M SALGAOCAR   BROTHER PVT LTD\",\"V M SALGAOCAR CORPORATION PVT LTD\",\"V M SALGAOCAR CORPORATION PVT LTD\",\"V M SALGAOCAR CORPORATION PVT LTD\",\"V M SALGAOCAR CORPORATION PVT LTD\",\"V M SALGAOCAR CORPORATION PVT LTD\",\"V M SALGAOCAR CORPORATION PVT LTD\",\"V M SALGAOCAR CORPORATION PVT LTD\",\"VACMETINDIALIMITED\",\"VAIBHAV BHUTANI\",\"VAIBHAV LAXMI CAPITAL MARKET PRIVATE LIM\",\"VAIBHAW TIE UP PRIVATE LIMITED\",\"VALLURUPALLI PRABHU KISHORE\",\"VAMONA DEVELOPERS PRIVATE LIMITED\",\"VAMSIRAM BUILDERS LLP\",\"VAMSIRAM DEVELOPERS LLP\",\"VAMSIRAMS JYOTHI LORVEN\",\"VARAS INTERNATIONAL PRIVATE LIMITED\",\"VARAS INTERNATIONAL PRIVATE LIMITED\",\"VARAS INTERNATIONAL PVT LTD\",\"VARDHMAN TEXTILES LIMITED\",\"VARDHMAN TEXTILES LIMITED\",\"VARDHMAN TEXTILES LTD\",\"VARDHMAN TEXTILES LTD\",\"VARDHMAN TEXTILES LTD\",\"VARSITY EDUCATION MANAGEMENT PVT LIMITED\",\"VASAVI  AVENUES LLP\",\"VASSUDEVA DEMPO FAMILY PRIVATE TRUST\",\"VASUDHA DEVELOPERS\",\"VEDANTA ELECTRICALS PRIVATE LIMITED\",\"VEDANTA LIMITED\",\"VEDANTA LIMITED\",\"VEDANTA LIMITED\",\"VEDANTA LIMITED\",\"VEDANTA LTD\",\"VEDANTA LTD\",\"VEDANTA LTD\",\"VEDIKA VANIJYA PVT LTD-SELF A\\u002fC\",\"VEERA RAVEENDRA\",\"VEERABHADRAPPA SANGAPPA AND CO\",\"VENKAT PRANEETH DEVELOPRS (P) LTD\",\"VENKATESH NARAYAN REDDY\",\"VENUS FINANCIAL CONSULTANTS PVT LTD\",\"VERTEX VEGA DEVELOPERS LLP\",\"VIDITVA CONSTRUCTIONS\",\"VIDUR GUPTA\",\"VIHAAN AUTO VENTURES PRIVATE LIMITED\",\"VIJAY KUMAR GOYAL\",\"VIJAYKUMARMISHRACONSTRUCTIONPVT\",\"VIJAYKUMARMISHRACONSTRUCTIONPVT\",\"VIKAS AGGARWAL\",\"VIKAS KUMAR GARG\",\"VIKAS PARASRAMPURIA\",\"VIKAS PARASRAMPURIA\",\"VIKAS PATNI\",\"VIKASH GUPTA\",\"VIKASH GUPTA\",\"VIKASH JHUNJHUNWALA\",\"VIKASH NAHATA\",\"VIKRAM KUMAR KHAITAN\",\"VIKRAM SINGH\",\"VILLAGE DE NANDI PVT LTD RERA DESIG\",\"VINAY AGARWAL\",\"VINAY AGARWAL\",\"VINAY AGARWAL\",\"VINAY KUMAR BHATT\",\"VINAY KUMAR BHATT\",\"VINAY KUMAR GANERIWAL\",\"VINEET GUPTA\",\"VINEET NANDA\",\"VINEET PATNI\",\"VINIT GUPTA\",\"VIPIN AGGARWAL\",\"VIPIN AGGARWAL AND SONS HUF\",\"VIPIN GUPTA\",\"VIPUL CHAMPAKLAL SHAH\",\"VISHAL KOTHARI\",\"VISHVARUPA SOLAR POWER PRIVATE LIMITED\",\"VIVA HIGHWAYS  LTD\",\"VIVEK AGARWAL\",\"VIVEK AGARWAL\",\"VIVEK BANSAL\",\"VIVEK PATNI\",\"VM SALGAOCAR CORPORATION PVT LTD\",\"VM SALGAOCAR CORPORATION PVT LTD\",\"VPL OIL MARKETING PVT LTD\",\"VS TOWERS   CONTRACTORS PRIVATE LIM\",\"WARORA CHANDRAPUR BALLARPUR TOLLRO\",\"WARORA CHANDRAPUR BALLARPUR TOLLROA\",\"WELSPUN CORP LIMITED\",\"WELSPUN CORP LTD\",\"WELSPUN CORP LTD\",\"WELSPUN ENTERPRISES LTD\",\"WELSPUN ENTERPRISES LTD\",\"WELSPUN INDIA LIMITED\",\"WELSPUN LIVING LIMITED\",\"WESTERN UP POWER TRANSMISSION COMPANY LI MITED\",\"WESTERN UP POWER TRANSMISSION COMPANY LI MITED\",\"WESTERN UP POWER TRANSMISSION COMPANY LI MITED\",\"WESTERN UP POWER TRANSMISSION COMPANY LI MITED\",\"WESTWELL GASES PRIVATE LIMITED\",\"WESTWELL GASES PRIVATE LIMITED\",\"WESTWELL GASES PRIVATE LIMITED\",\"WOLKEM INDIA LTD\",\"WONDER CEMENT LTD\",\"WONDER CEMENT LTD\",\"WONDER MARMOSTONES PVT LTD\",\"WONDER MINERALS  PVT LTD.\",\"WPIL LIMITED\",\"WPIL LIMITED\",\"YASHODA SUPER SPECIALITY HOSPITAL\",\"YASHODA SUPER SPECIALITY HOSPITAL\",\"YASHODA SUPER SPECIALITY HOSPITAL\",\"YASHODA SUPER SPECIALITY HOSPITAL\",\"YASHODA SUPER SPECIALITY HOSPITAL\",\"YOGA BUILDERS PVT LTD\",\"YOGA BUILDERS PVT LTD\",\"YOGESH GARODIA\",\"YOGESH MANNALAL AGRAWAL\",\"YOGESH MANPURIA\",\"YOGESH MANPURIA\",\"YUVAN TRADING   CONSULTANCY LLP\",\"YUVAN TRADING   CONSULTANCY LLP\",\"ZENSAR TECHNOLOGIES LTD\",\"ZUVAN ENERGY PRIVATE LIMITED\",\"ZUVAN ENERGY PVT LTD\",\"ZYDUS HEALTHCARE LIMITED\",\"ZYDUS HEALTHCARE LIMITED\",\"ZYDUS HEALTHCARE LIMITED\",\"AAM AADMI PARTY\",\"ADYAKSHA SAMAJVADI PARTY\",\"ALL INDIA TRINAMOOL CONGRESS\",\"BHARAT RASHTRA SAMITHI\",\"BHARATIYA JANATA PARTY\",\"BIHAR PRADESH JANTA DAL(UNITED)\",\"BIJU JANATA DAL\",\"DRAVIDA MUNNETRA KAZHAGAM (DMK)\",\"GOA FORWARD PARTY\",\"JAMMU AND KASHMIR NATIONAL CONFERENCE\",\"JANASENA PARTY\",\"JANATA DAL ( SECULAR )\",\"JHARKHAND MUKTI MORCHA\",\"MAHARASHTRAWADI GOMNTAK PARTY\",\"NATIONALIST CONGRESS PARTY MAHARASHTRA PRADESH\",\"PRESIDENT, ALL INDIA CONGRESS COMMITTEE\",\"RASHTRIYA JANTA DAL\",\"SHIROMANI AKALI DAL\",\"SHIVSENA\",\"SIKKIM DEMOCRATIC FRONT\",\"SIKKIM KRANTIKARI MORCHA\",\"TELUGU DESAM PARTY\",\"YSR  CONGRESS PARTY  (YUVAJANA SRAMIKA RYTHU CONGRESS PARTY)\",\"Parties\"],\"marker\":{\"coloraxis\":\"coloraxis\",\"colors\":[10000000.0,4000000.0,1000000.0,10000000.0,20000000.0,10000000.0,20000000.0,3000000.0,2000000.0,5000000.0,20000000.0,5000000.0,40000000.0,10000000.0,12000000.0,85000000.0,200000.0,1000000.0,400000.0,1000000.0,10500000.0,32000000.0,5000000.0,100000000.0,2500000.0,100000000.0,500000.0,40000000.0,10000000.0,2500000.0,10000000.0,17500000.0,3000000.0,20000000.0,25000000.0,50000000.0,30000000.0,10000000.0,40000000.0,50000000.0,25000000.0,5000000.0,200000.0,150000000.0,50000000.0,500000.0,102000000.0,150000000.0,10000000.0,10000000.0,20000000.0,3000000.0,1500000.0,34000000.0,1000000.0,500000.0,25000000.0,20000000.0,10000000.0,10000000.0,5000000.0,7500000.0,100000.0,200000.0,1500000.0,100000.0,300000.0,75000.0,800000.0,1000000.0,1000000.0,20000000.0,10000000.0,20000000.0,25000000.0,2900000.0,900000.0,500000.0,1300000.0,20000000.0,82000000.0,5000000.0,100000.0,1000000.0,300000.0,10000000.0,800000.0,600000.0,150000000.0,150000000.0,100000000.0,100000000.0,100000000.0,100000000.0,30000000.0,10000000.0,80000000.0,150000000.0,30000000.0,1000.0,5000000.0,9000000.0,40000000.0,4000000.0,50000000.0,45000000.0,10000000.0,100000.0,100000.0,700000.0,11000000.0,30000000.0,60000000.0,30000000.0,40000000.0,1000000.0,2000000.0,600000.0,30000000.0,1000000.0,100000.0,200000.0,2000000.0,20000000.0,50000000.0,40000000.0,10000000.0,45000000.0,5000000.0,45000000.0,50000000.0,50000000.0,20000000.0,300000.0,60000000.0,90000000.0,70000000.0,20000000.0,100000000.0,700000.0,50000000.0,150000000.0,315000000.0,25000000.0,30000000.0,13000000.0,4000000.0,250000000.0,240000000.0,30000000.0,100000000.0,215000000.0,10000000.0,530000000.0,1000000.0,1000000.0,30000000.0,14000000.0,50000000.0,30000000.0,300000.0,300000000.0,20000000.0,850000000.0,1000000.0,10000000.0,10000000.0,10000000.0,50000000.0,80000000.0,100000000.0,200000000.0,100000000.0,10000000.0,20000000.0,45000000.0,15000000.0,40000000.0,100000000.0,60000000.0,4000000.0,5000000.0,5000000.0,7200000.0,200000.0,2500000.0,2000000.0,150000.0,10000000.0,113210000.0,10000000.0,20000000.0,30000000.0,40000000.0,10000000.0,25000000.0,40000000.0,100000000.0,10000000.0,5000000.0,10000000.0,768000.0,10000000.0,10000000.0,600000.0,100000000.0,1830000000.0,144000000.0,5000000.0,1000000.0,20000000.0,10000000.0,80000000.0,10000000.0,370000000.0,10000000.0,500000.0,50000.0,500000.0,25000000.0,1000000.0,400000.0,1000000.0,2000000.0,500000.0,50000000.0,50000000.0,100000000.0,20000000.0,1050000000.0,20000000.0,1000000.0,10000000.0,200000000.0,50000000.0,20000000.0,2000000.0,900000.0,26000000.0,10000000.0,10000000.0,5000000.0,50000000.0,100000000.0,2000000.0,15000000.0,3500000.0,6000000.0,2500000.0,2500000.0,50000000.0,10000000.0,55000000.0,10000000.0,70000000.0,20000000.0,25000000.0,20000000.0,32500000.0,20000000.0,30000000.0,20000000.0,6500000.0,68000000.0,7000000.0,8500000.0,60000000.0,10000000.0,200000.0,6000000.0,3000000.0,9000000.0,5000000.0,500000.0,150000.0,200000000.0,100000000.0,2000000.0,10000000.0,400000000.0,500000000.0,150000000.0,150000.0,10000000.0,20000000.0,2000000.0,50000000.0,10000000.0,2000000.0,12000000.0,3000000.0,5000000.0,300000000.0,22000000.0,70000000.0,3500000.0,9500000.0,25000000.0,80000000.0,2500000.0,9600000.0,330000000.0,10000000.0,20000000.0,15000000.0,12500000.0,10000000.0,200000.0,10000000.0,55000000.0,100000000.0,7500000.0,30000000.0,30000000.0,50000000.0,50000000.0,10000000.0,2000000.0,20000000.0,25000000.0,50000000.0,25000000.0,50000000.0,50000000.0,3000000.0,2000000.0,100000.0,300000.0,600000.0,5000000.0,500000.0,1000000.0,500000.0,50000000.0,50000000.0,15000000.0,10000000.0,10000000.0,10000000.0,10000000.0,5000000.0,10000000.0,1268000.0,20000000.0,500000.0,3000000.0,7000000.0,900000000.0,250000000.0,1000000.0,620000.0,1500000.0,150000000.0,20000000.0,1915000.0,30000000.0,300000.0,500000.0,5500000.0,150000000.0,5000000.0,30000000.0,8500000.0,6000000.0,200000000.0,300000000.0,50000000.0,7000000.0,5000000.0,10000000.0,10000000.0,10000000.0,10000000.0,20000000.0,2500000.0,1300000000.0,150000000.0,250000000.0,10000000.0,8000000.0,10000000.0,30000000.0,1000000.0,2000000.0,2500000.0,320000000.0,240000000.0,140000000.0,100000000.0,2800000.0,2200000.0,10000000.0,40000000.0,10000000.0,20000000.0,10000000.0,20000000.0,20000000.0,5000000.0,100000000.0,100000000.0,500000000.0,1745000000.0,5000000.0,150000000.0,2000000.0,50000000.0,60000000.0,7000000.0,50000000.0,5000000.0,50000000.0,50000000.0,180000000.0,20000000.0,3800000.0,10000000.0,63500000.0,10000000.0,5000000.0,2000000.0,10000000.0,20000000.0,4350000000.0,1000000000.0,4530000000.0,500000000.0,50000000.0,80000000.0,1540000000.0,450000000.0,500000000.0,620000000.0,30000000.0,50000000.0,500000.0,4000000.0,50000000.0,40000000.0,50000000.0,31000000.0,5000000.0,60000000.0,4000000.0,5000000.0,800000.0,10000000.0,10000000.0,15000000.0,1000000.0,20000000.0,30000000.0,50000000.0,255000000.0,50000000.0,30000000.0,250000.0,750000.0,5000000.0,60000000.0,97500000.0,1000000.0,1000000.0,1000000.0,2000000.0,1000000.0,20000000.0,75000000.0,25000000.0,50000000.0,30000000.0,10000000.0,10000000.0,3000000.0,2000000.0,30000.0,500000.0,500000.0,1000000.0,30000000.0,230000000.0,100000000.0,100000.0,20000000.0,50000000.0,10000000.0,30000000.0,80000000.0,10000000.0,50000000.0,20000000.0,30000000.0,10000000.0,10000000.0,20000000.0,30000000.0,10000000.0,100000000.0,20000000.0,500000.0,2000000.0,2000000.0,20000000.0,50000000.0,50000000.0,2500000.0,2810000000.0,810000000.0,150000000.0,40000000.0,10000000.0,90000000.0,500000.0,10000000.0,768000.0,4000000.0,4000000.0,100000000.0,200000.0,100000.0,125000000.0,2000000.0,45000000.0,5000000.0,700000.0,55000000.0,40000000.0,20000000.0,200000000.0,200000000.0,20000000.0,50000000.0,300000000.0,200000000.0,50000000.0,150000000.0,50000000.0,3000000.0,13000000.0,7000000.0,112000000.0,1000000.0,2000000.0,14000000.0,1500000.0,200000.0,10000000.0,50000000.0,125000000.0,50000000.0,2000000.0,10000000.0,3000000.0,4500000.0,2500000.0,300000000.0,50000000.0,200000000.0,40000000.0,9500000.0,2000000.0,10000000.0,10000000.0,60000000.0,40000000.0,420000000.0,63000000.0,50000000.0,350000000.0,50000000.0,140000000.0,60000000.0,1000000.0,39900000.0,2000000.0,50000000.0,50000000.0,1950000.0,1950000.0,90000000.0,600000000.0,50000000.0,150000000.0,100000000.0,40000000.0,2500000.0,50000000.0,100000000.0,100000000.0,40000000.0,10000000.0,200000000.0,110000000.0,50000000.0,200000000.0,15000000.0,100000000.0,35000000.0,30000000.0,250000000.0,160000000.0,500000.0,1200000.0,49546000.0,16029000.0,10000000.0,10000000.0,50000000.0,50000000.0,7500000.0,100000000.0,105000000.0,40000000.0,4000000.0,5000000.0,6300000.0,9000000.0,3500000.0,500000.0,3300000.0,100000.0,12500000.0,90000000.0,10000000.0,30000000.0,5000000.0,270000000.0,20000000.0,300000000.0,30000000.0,1000000000.0,200000000.0,9990000.0,140000000.0,5000000.0,30000000.0,20000000.0,25000000.0,10000000.0,500000.0,200000.0,10000000.0,1000000.0,104000000.0,1500000.0,2500000.0,50000000.0,2000000.0,5000000.0,25000000.0,4000000.0,2000000.0,250000000.0,180000000.0,20000000.0,10000000.0,35000000.0,255000000.0,25000000.0,3000000.0,20000000.0,15000000.0,2000000.0,500000.0,60000000.0,70000000.0,10000000.0,50000000.0,115000000.0,10000000.0,20000000.0,10000000.0,900000.0,1500000.0,5000000.0,140000000.0,100000000.0,30000000.0,2000000.0,50000000.0,110000000.0,40000000.0,100000000.0,200000000.0,1445000000.0,200000000.0,5000000.0,30000000.0,6000000.0,13000000.0,20000000.0,2500000.0,40000000.0,10000000.0,10000000.0,20000000.0,1100000.0,3000000.0,25000000.0,1000000.0,2000000.0,90000000.0,160000000.0,2000000.0,10000000.0,100000000.0,45000000.0,1990000.0,500000.0,200000000.0,2000000.0,30000000.0,3000000.0,1500000.0,40000000.0,10000000.0,220000000.0,20000000.0,30000000.0,350000000.0,5000000.0,50000000.0,25000000.0,20000000.0,400000000.0,27050000.0,1400000.0,7100000.0,12100000.0,24400000.0,250000000.0,315000000.0,1000000.0,4000000.0,10000000.0,10000000.0,2000000.0,1990000.0,45000000.0,30000000.0,10000000.0,200000000.0,20000000.0,20000000.0,180000000.0,3830000.0,1500000.0,33000000.0,5000000.0,2100000.0,5000000.0,23000000.0,20000000.0,35000000.0,75000000.0,4000000.0,1000000.0,140000000.0,200000000.0,50000000.0,2000000.0,1755000000.0,100000000.0,200000.0,2500000.0,60000000.0,30000000.0,35000000.0,15000000.0,25000000.0,10000000.0,25000000.0,3000000.0,2500000.0,5000000.0,250000000.0,20000000.0,5000000.0,400000.0,200000.0,400000.0,1000000.0,5000000.0,2000000.0,240000000.0,6000000.0,450000.0,12000000.0,10000000.0,20000000.0,20000000.0,10000000.0,1436000.0,50000000.0,5006000.0,30000000.0,23000000.0,200000000.0,50000000.0,6000000.0,18000000.0,450000000.0,50000000.0,250000000.0,1500000000.0,5190000000.0,600000000.0,40000000.0,50000000.0,180000000.0,280000000.0,370000000.0,600000000.0,100000000.0,5000000.0,2500000.0,90000000.0,70000000.0,60000000.0,30000000.0,10000000.0,5000000.0,10000000.0,4500000.0,1000000.0,140000000.0,10000000.0,70000000.0,185000000.0,100000000.0,125000000.0,100000000.0,10000000.0,693500000.0,274000000.0,144200000.0,222500000.0,50000000.0,50000000.0,25000000.0,50000000.0,50000000.0,20000000.0,60000000.0,400000000.0,140000000.0,20000000.0,2500000.0,50000000.0,70000000.0,66500000.0,20000000.0,10000000.0,5000000.0,500000.0,1500000.0,1000000.0,500000.0,19900000.0,1000000.0,20000000.0,500000.0,3000000.0,4000000.0,3000000.0,4000000.0,1000000.0,900000.0,500000.0,1000000.0,7500000.0,1000000.0,1000000.0,1000000.0,500000.0,1000000.0,16000000.0,450000000.0,1000000.0,100000000.0,20000000.0,200000000.0,60000000.0,10000000.0,30000000.0,25000000.0,600000.0,1500000.0,9000000.0,30000000.0,30000000.0,150000000.0,50000000.0,45000000.0,1500000.0,10000000.0,100000000.0,30000000.0,50000000.0,50000000.0,5000000.0,3000000.0,20000000.0,61800000.0,5000000.0,10000000.0,100000000.0,300000.0,200000.0,40000000.0,5500000.0,100000000.0,20000000.0,100000000.0,130000000.0,50000000.0,122500000.0,140000000.0,30000000.0,5000000.0,2000000.0,40000000.0,200000.0,450000000.0,100000000.0,600000000.0,300000.0,300000.0,250000.0,1000000.0,30000000.0,350000000.0,500000.0,500000.0,20000000.0,7500000.0,1500000.0,2000000.0,30000000.0,130000000.0,20000000.0,4000000.0,250000.0,2500000.0,500000.0,3200000.0,16500000.0,12000000.0,50000000.0,50000000.0,195000000.0,30000000.0,70000000.0,20000000.0,15000000.0,1000000.0,30000000.0,10000000.0,3000000.0,55000000.0,15000000.0,20000000.0,6000000.0,30000000.0,15000000.0,40000000.0,6000000.0,50000000.0,100000000.0,80000000.0,170000000.0,170000000.0,400000.0,5000000.0,20000000.0,32500000.0,10000000.0,900000.0,500000.0,2000000.0,200000.0,10000000.0,10000000.0,1500000.0,2500000.0,5000000.0,60000000.0,10000000.0,5000000.0,300000.0,400000000.0,50000000.0,500000.0,100000000.0,275000000.0,30000000.0,10000000.0,1800000.0,50000000.0,100000000.0,200000000.0,400000000.0,100000000.0,250000000.0,100000000.0,30000000.0,2400000.0,7500000.0,400000.0,300000.0,500000.0,100000000.0,30000000.0,5000000.0,20000000.0,10000000.0,150000.0,35000000.0,200000.0,30000000.0,16580000.0,8000000.0,1200000.0,500000.0,300000.0,1000000.0,7500000.0,380000000.0,330000000.0,50000000.0,20000000.0,30000000.0,43000000.0,250000000.0,1000000.0,7500000.0,20000000.0,1000000.0,5000000.0,15000000.0,20000000.0,1500000.0,1500000.0,2500000.0,2500000.0,1000000.0,1000000.0,500000.0,700000.0,10000000.0,900000.0,50000000.0,50000000.0,50000000.0,50000000.0,50000000.0,50000000.0,50000000.0,50000000.0,50000000.0,12500000.0,2500000.0,4500000.0,100000000.0,50000000.0,50000000.0,10000000.0,80000000.0,25000000.0,20000000.0,10000000.0,30000000.0,20000000.0,25000000.0,25000000.0,7500000.0,20000000.0,5000000.0,10000000.0,5000000.0,3750000000.0,100000000.0,250000000.0,25000000.0,5000000.0,7500000.0,8800000.0,4000000.0,20000000.0,200000.0,200000.0,1300000.0,25000000.0,10000000.0,500000.0,50000000.0,1504000.0,20000000.0,25000000.0,100000.0,162000000.0,38000000.0,300000.0,100000.0,400000.0,400000.0,100000000.0,400000.0,10001000.0,500000.0,50000000.0,200000000.0,30000000.0,2000000.0,1000000.0,2000000.0,100000.0,700000.0,800000.0,2000000.0,20000000.0,50000000.0,50000000.0,30000000.0,700000.0,1000000.0,100000.0,1000000.0,100000000.0,2500000.0,18600000.0,2000000.0,200000.0,15000000.0,300000.0,7200000.0,2000000.0,200000.0,20000000.0,1915000.0,2500000.0,3000000.0,7500000.0,70000000.0,20000000.0,15000000.0,10000000.0,15000000.0,20000000.0,185000000.0,450000000.0,270000000.0,10000000.0,768000.0,25000000.0,15000000.0,35000000.0,3000000.0,10000000.0,300000.0,800000.0,5000000.0,1000000.0,165000000.0,10000000.0,10000000.0,50000000.0,110000000.0,17500000.0,10000000.0,50000000.0,50000000.0,500000.0,5000000.0,10000000.0,15000000.0,15000000.0,85000000.0,30000000.0,1300000.0,20000000.0,5000000.0,4000000.0,31000000.0,2500000.0,20000000.0,3400000.0,3000000.0,100000000.0,300000000.0,50000000.0,5000000.0,150000.0,2500000.0,5000000.0,5000000.0,10000000.0,50000000.0,30000000.0,30000000.0,20000000.0,100000.0,500000000.0,500000000.0,1000000.0,1600000.0,170000000.0,5000000.0,1000000.0,1000000.0,1000000.0,1000000.0,10000000.0,7500000.0,100000000.0,350000000.0,5000000.0,5000000.0,5000000.0,5000000.0,5000000.0,10000000.0,1000000.0,2000000.0,5000000.0,1500000.0,50000000.0,2500000.0,3000000.0,3000000.0,4000000.0,2500000.0,2500000.0,70000000.0,10000000.0,20000000.0,1250000.0,40000.0,1000000.0,130000000.0,500000.0,1000000.0,1000000.0,300000.0,1500000.0,2000000.0,1000000.0,100000.0,300000.0,100000.0,20000000.0,1000000.0,2833000.0,6000000.0,50000000.0,1000000.0,1000000.0,3000000.0,1000000.0,20000000.0,28600000.0,5000000.0,25000000.0,50000000.0,390000000.0,120000000.0,7500000.0,100000000.0,500000.0,70000000.0,3500000.0,2500000.0,1000000.0,2000000.0,10000000.0,20000000.0,20000000.0,20000000.0,20000000.0,20000000.0,100000000.0,50000000.0,100000000.0,77000000.0,1000000.0,14000000.0,5000000.0,10000000.0,50000000.0,300000000.0,50000000.0,22500000.0,7500000.0,15000000.0,1000000.0,30000000.0,50000000.0,50000000.0,10000000.0,1368000.0,400000000.0,100000.0,8500000.0,3500000.0,10000000.0,5000000.0,15000000.0,10000000.0,40000000.0,10000000.0,7500000.0,7500000.0,1000000.0,10000000.0,10000000.0,20000000.0,5000000.0,140000000.0,100000000.0,500000.0,5000000.0,2000000.0,5000000.0,30000000.0,2000000.0,15000000.0,2500000.0,10000000.0,1500000.0,220000000.0,2500000.0,5000000.0,30000000.0,4000000.0,3000000.0,12000000.0,20000000.0,25000000.0,5000000.0,400000.0,20000000.0,50000000.0,30000000.0,50000000.0,1500000.0,10000000.0,20000000.0,30000000.0,10000000.0,10000000.0,10000000.0,100000000.0,20000000.0,100000.0,30000000.0,10000000.0,10000000.0,10000000.0,50000000.0,20000000.0,2000000.0,2688000.0,35000000.0,15000000.0,25000000.0,4000000.0,6500000.0,50000000.0,30000000.0,10000000.0,500000.0,800000.0,10000000.0,3000000.0,10000000.0,50000000.0,10000000.0,10000000.0,20000000.0,83300000.0,35500000.0,10000000.0,9000000.0,500000000.0,100000000.0,1000000.0,900000.0,1990000.0,100000000.0,2000000.0,14900000.0,10000000.0,10000000.0,30000000.0,5000000.0,45000000.0,52000000.0,100000.0,50000000.0,2000000.0,300000.0,500000.0,2500000.0,400000.0,8500000.0,5000000.0,500000.0,30000000.0,40000000.0,40000000.0,200000000.0,115000000.0,20000000.0,10000000.0,500000.0,5000000.0,15000000.0,2500000.0,4000000.0,100000000.0,1000000.0,10000000.0,20000000.0,850000.0,10000000.0,1450000.0,10000000.0,350000000.0,50000000.0,500000.0,12500000.0,10000000.0,20000000.0,100000000.0,30000000.0,200000.0,10000000.0,120000000.0,10000000.0,30000000.0,56000000.0,500000.0,40000000.0,10000000.0,15000000.0,50000000.0,10000000.0,10000000.0,8700000.0,20000000.0,200000000.0,150000000.0,9000000.0,50000000.0,20000000.0,20000000.0,10000000.0,10000000.0,40000000.0,78000000.0,250000000.0,50000000.0,240000000.0,56000000.0,15000000.0,12500000.0,30000000.0,50000000.0,30000000.0,600000.0,70000000.0,5000000.0,50000000.0,580000000.0,35000000.0,170000000.0,30000000.0,10000000.0,290000000.0,50000000.0,30000000.0,320000000.0,5000000.0,70000000.0,20000000.0,180000000.0,10000000.0,70000000.0,193000000.0,152000000.0,18000000.0,1000000.0,6000000.0,30000000.0,2484000.0,50000000.0,20000000.0,50000000.0,10000000.0,35000000.0,40000000.0,1000000.0,160000000.0,100000000.0,120000000.0,30000000.0,100000000.0,100000000.0,40000000.0,5000000.0,5000000.0,80000000.0,500000000.0,11000000.0,100000000.0,5000000.0,2500000.0,100000000.0,750000000.0,600000000.0,1000000.0,100000000.0,500000.0,10000000.0,1000000.0,250000.0,2500000.0,3000000.0,9000000.0,3000000.0,3000000.0,1500000.0,22000000.0,1500000.0,3500000.0,1000000.0,8000000.0,90000000.0,200000.0,10000000.0,8500000.0,10000000.0,2500000.0,30000000.0,30000000.0,10000000.0,3500000.0,3000000.0,5000000.0,30000000.0,10000000.0,5000000.0,170000000.0,7500000.0,20000000.0,50000000.0,500000.0,10000000.0,17500000.0,2266500000.0,400000000.0,50000000.0,1040000000.0,2000000.0,35000000.0,210000000.0,50000000.0,5000000.0,55000000.0,10000000.0,2000000.0,7000000.0,40000000.0,4800000.0,5000000.0,20000000.0,1000000.0,50000000.0,10000000.0,10000000.0,30000.0,35000000.0,15000000.0,20000000.0,200000.0,800000.0,500000.0,700000.0,500000.0,500000.0,50000000.0,800000.0,100000.0,1200000.0,1500000.0,1500000.0,200000.0,400000.0,1000000.0,20000000.0,600000.0,2500000.0,2500000.0,5000000.0,10000000.0,100000.0,20000000.0,50000000.0,200000.0,1000000.0,700000.0,20000000.0,2000000.0,1000000.0,4000000.0,5000000.0,10000.0,70000000.0,130000000.0,90000000.0,50000000.0,100000000.0,30000000.0,100000000.0,50000000.0,800000000.0,100000000.0,1100000000.0,200000000.0,154000000.0,80000000.0,51000000.0,2500000.0,100000000.0,100000000.0,20000000.0,30000000.0,70000000.0,150000000.0,10000000.0,940000000.0,20000000.0,640000000.0,10000000.0,30000000.0,55000000.0,100000.0,5000000.0,700000.0,1000000.0,20000000.0,30000000.0,30000000.0,10000000.0,20000000.0,180000000.0,30000000.0,80000000.0,53085440.61302682,82546631.33989403,1851572174.3431513,391241814.31401443,1211444570.9779184,85000000.0,721339909.7356545,3356827531.64557,1785714.2857142857,5000000.0,68095238.09523809,70487804.87804878,31900000.0,2954545.4545454546,52135087.71929824,353619947.8811438,189716358.62068966,36931865.013774104,521928725.7630957,45909090.90909091,67739726.02739726,167329586.91747802,806989563.4980989,1132833172.3206136],\"cornerradius\":5},\"name\":\"\",\"parents\":[\"Parties\\u002fBHARAT RASHTRA SAMITHI\",\"Parties\\u002fBHARATIYA JANATA PARTY\",\"Parties\\u002fPRESIDENT, ALL INDIA CONGRESS COMMITTEE\",\"Parties\\u002fBHARAT RASHTRA SAMITHI\",\"Parties\\u002fYSR  CONGRESS PARTY  (YUVAJANA SRAMIKA RYTHU CONGRESS PARTY)\",\"Parties\\u002fYSR  CONGRESS PARTY  (YUVAJANA SRAMIKA RYTHU CONGRESS PARTY)\",\"Parties\\u002fBHARAT RASHTRA SAMITHI\",\"Parties\\u002fAAM AADMI PARTY\",\"Parties\\u002fPRESIDENT, ALL INDIA CONGRESS COMMITTEE\",\"Parties\\u002fALL INDIA TRINAMOOL CONGRESS\",\"Parties\\u002fBHARATIYA JANATA PARTY\",\"Parties\\u002fPRESIDENT, ALL INDIA CONGRESS COMMITTEE\",\"Parties\\u002fALL INDIA TRINAMOOL CONGRESS\",\"Parties\\u002fBHARAT RASHTRA SAMITHI\",\"Parties\\u002fBIJU JANATA DAL\",\"Parties\\u002fPRESIDENT, ALL INDIA CONGRESS COMMITTEE\",\"Parties\\u002fPRESIDENT, ALL INDIA CONGRESS COMMITTEE\",\"Parties\\u002fAAM AADMI PARTY\",\"Parties\\u002fBHARATIYA JANATA PARTY\",\"Parties\\u002fPRESIDENT, ALL INDIA CONGRESS COMMITTEE\",\"Parties\\u002fALL INDIA TRINAMOOL CONGRESS\",\"Parties\\u002fPRESIDENT, ALL INDIA CONGRESS COMMITTEE\",\"Parties\\u002fBHARATIYA JANATA PARTY\",\"Parties\\u002fBHARATIYA JANATA PARTY\",\"Parties\\u002fBHARATIYA JANATA PARTY\",\"Parties\\u002fBHARATIYA JANATA PARTY\",\"Parties\\u002fPRESIDENT, ALL INDIA CONGRESS COMMITTEE\",\"Parties\\u002fBHARAT RASHTRA SAMITHI\",\"Parties\\u002fYSR  CONGRESS PARTY  (YUVAJANA SRAMIKA RYTHU CONGRESS PARTY)\",\"Parties\\u002fALL INDIA TRINAMOOL CONGRESS\",\"Parties\\u002fBHARATIYA JANATA PARTY\",\"Parties\\u002fBHARATIYA JANATA PARTY\",\"Parties\\u002fPRESIDENT, ALL INDIA CONGRESS COMMITTEE\",\"Parties\\u002fTELUGU DESAM PARTY\",\"Parties\\u002fBHARATIYA JANATA PARTY\",\"Parties\\u002fBHARATIYA JANATA PARTY\",\"Parties\\u002fBHARATIYA JANATA PARTY\",\"Parties\\u002fPRESIDENT, ALL INDIA CONGRESS COMMITTEE\",\"Parties\\u002fBHARATIYA JANATA PARTY\",\"Parties\\u002fBHARATIYA JANATA PARTY\",\"Parties\\u002fPRESIDENT, ALL INDIA CONGRESS COMMITTEE\",\"Parties\\u002fPRESIDENT, ALL INDIA CONGRESS COMMITTEE\",\"Parties\\u002fPRESIDENT, ALL INDIA CONGRESS COMMITTEE\",\"Parties\\u002fBHARATIYA JANATA PARTY\",\"Parties\\u002fBHARAT RASHTRA SAMITHI\",\"Parties\\u002fBHARAT RASHTRA SAMITHI\",\"Parties\\u002fBHARATIYA JANATA PARTY\",\"Parties\\u002fBHARATIYA JANATA PARTY\",\"Parties\\u002fSHIVSENA\",\"Parties\\u002fBHARATIYA JANATA PARTY\",\"Parties\\u002fSHIVSENA\",\"Parties\\u002fALL INDIA TRINAMOOL CONGRESS\",\"Parties\\u002fPRESIDENT, ALL INDIA CONGRESS COMMITTEE\",\"Parties\\u002fBHARATIYA JANATA PARTY\",\"Parties\\u002fALL INDIA TRINAMOOL CONGRESS\",\"Parties\\u002fBHARAT RASHTRA SAMITHI\",\"Parties\\u002fPRESIDENT, ALL INDIA CONGRESS COMMITTEE\",\"Parties\\u002fTELUGU DESAM PARTY\",\"Parties\\u002fNATIONALIST CONGRESS PARTY MAHARASHTRA PRADESH\",\"Parties\\u002fALL INDIA TRINAMOOL CONGRESS\",\"Parties\\u002fNATIONALIST CONGRESS PARTY MAHARASHTRA PRADESH\",\"Parties\\u002fBHARATIYA JANATA PARTY\",\"Parties\\u002fPRESIDENT, ALL INDIA CONGRESS COMMITTEE\",\"Parties\\u002fPRESIDENT, ALL INDIA CONGRESS COMMITTEE\",\"Parties\\u002fPRESIDENT, ALL INDIA CONGRESS COMMITTEE\",\"Parties\\u002fBHARATIYA JANATA PARTY\",\"Parties\\u002fPRESIDENT, ALL INDIA CONGRESS COMMITTEE\",\"Parties\\u002fPRESIDENT, ALL INDIA CONGRESS COMMITTEE\",\"Parties\\u002fPRESIDENT, ALL INDIA CONGRESS COMMITTEE\",\"Parties\\u002fAAM AADMI PARTY\",\"Parties\\u002fALL INDIA TRINAMOOL CONGRESS\",\"Parties\\u002fPRESIDENT, ALL INDIA CONGRESS COMMITTEE\",\"Parties\\u002fBHARAT RASHTRA SAMITHI\",\"Parties\\u002fBHARAT RASHTRA SAMITHI\",\"Parties\\u002fPRESIDENT, ALL INDIA CONGRESS COMMITTEE\",\"Parties\\u002fBHARATIYA JANATA PARTY\",\"Parties\\u002fBHARATIYA JANATA PARTY\",\"Parties\\u002fPRESIDENT, ALL INDIA CONGRESS COMMITTEE\",\"Parties\\u002fPRESIDENT, ALL INDIA CONGRESS COMMITTEE\",\"Parties\\u002fYSR  CONGRESS PARTY  (YUVAJANA SRAMIKA RYTHU CONGRESS PARTY)\",\"Parties\\u002fBHARATIYA JANATA PARTY\",\"Parties\\u002fPRESIDENT, ALL INDIA CONGRESS COMMITTEE\",\"Parties\\u002fPRESIDENT, ALL INDIA CONGRESS COMMITTEE\",\"Parties\\u002fPRESIDENT, ALL INDIA CONGRESS COMMITTEE\",\"Parties\\u002fBHARATIYA JANATA PARTY\",\"Parties\\u002fBHARATIYA JANATA PARTY\",\"Parties\\u002fBHARATIYA JANATA PARTY\",\"Parties\\u002fPRESIDENT, ALL INDIA CONGRESS COMMITTEE\",\"Parties\\u002fBHARAT RASHTRA SAMITHI\",\"Parties\\u002fPRESIDENT, ALL INDIA CONGRESS COMMITTEE\",\"Parties\\u002fBHARATIYA JANATA PARTY\",\"Parties\\u002fBHARATIYA JANATA PARTY\",\"Parties\\u002fBHARATIYA JANATA PARTY\",\"Parties\\u002fBHARATIYA JANATA PARTY\",\"Parties\\u002fPRESIDENT, ALL INDIA CONGRESS COMMITTEE\",\"Parties\\u002fPRESIDENT, ALL INDIA CONGRESS COMMITTEE\",\"Parties\\u002fBHARAT RASHTRA SAMITHI\",\"Parties\\u002fBHARAT RASHTRA SAMITHI\",\"Parties\\u002fPRESIDENT, ALL INDIA CONGRESS COMMITTEE\",\"Parties\\u002fBHARATIYA JANATA PARTY\",\"Parties\\u002fAAM AADMI PARTY\",\"Parties\\u002fALL INDIA TRINAMOOL CONGRESS\",\"Parties\\u002fBIJU JANATA DAL\",\"Parties\\u002fBHARATIYA JANATA PARTY\",\"Parties\\u002fBHARATIYA JANATA PARTY\",\"Parties\\u002fALL INDIA TRINAMOOL CONGRESS\",\"Parties\\u002fPRESIDENT, ALL INDIA CONGRESS COMMITTEE\",\"Parties\\u002fALL INDIA TRINAMOOL CONGRESS\",\"Parties\\u002fALL INDIA TRINAMOOL CONGRESS\",\"Parties\\u002fPRESIDENT, ALL INDIA CONGRESS COMMITTEE\",\"Parties\\u002fALL INDIA TRINAMOOL CONGRESS\",\"Parties\\u002fBHARATIYA JANATA PARTY\",\"Parties\\u002fBHARATIYA JANATA PARTY\",\"Parties\\u002fBHARATIYA JANATA PARTY\",\"Parties\\u002fBHARATIYA JANATA PARTY\",\"Parties\\u002fAAM AADMI PARTY\",\"Parties\\u002fBHARAT RASHTRA SAMITHI\",\"Parties\\u002fBHARAT RASHTRA SAMITHI\",\"Parties\\u002fPRESIDENT, ALL INDIA CONGRESS COMMITTEE\",\"Parties\\u002fPRESIDENT, ALL INDIA CONGRESS COMMITTEE\",\"Parties\\u002fALL INDIA TRINAMOOL CONGRESS\",\"Parties\\u002fPRESIDENT, ALL INDIA CONGRESS COMMITTEE\",\"Parties\\u002fAAM AADMI PARTY\",\"Parties\\u002fPRESIDENT, ALL INDIA CONGRESS COMMITTEE\",\"Parties\\u002fBHARATIYA JANATA PARTY\",\"Parties\\u002fBHARATIYA JANATA PARTY\",\"Parties\\u002fBHARATIYA JANATA PARTY\",\"Parties\\u002fBHARATIYA JANATA PARTY\",\"Parties\\u002fBHARATIYA JANATA PARTY\",\"Parties\\u002fBHARAT RASHTRA SAMITHI\",\"Parties\\u002fAAM AADMI PARTY\",\"Parties\\u002fALL INDIA TRINAMOOL CONGRESS\",\"Parties\\u002fPRESIDENT, ALL INDIA CONGRESS COMMITTEE\",\"Parties\\u002fALL INDIA TRINAMOOL CONGRESS\",\"Parties\\u002fALL INDIA TRINAMOOL CONGRESS\",\"Parties\\u002fRASHTRIYA JANTA DAL\",\"Parties\\u002fDRAVIDA MUNNETRA KAZHAGAM (DMK)\",\"Parties\\u002fBHARATIYA JANATA PARTY\",\"Parties\\u002fBHARATIYA JANATA PARTY\",\"Parties\\u002fPRESIDENT, ALL INDIA CONGRESS COMMITTEE\",\"Parties\\u002fBHARATIYA JANATA PARTY\",\"Parties\\u002fBHARAT RASHTRA SAMITHI\",\"Parties\\u002fBHARATIYA JANATA PARTY\",\"Parties\\u002fTELUGU DESAM PARTY\",\"Parties\\u002fBHARATIYA JANATA PARTY\",\"Parties\\u002fALL INDIA TRINAMOOL CONGRESS\",\"Parties\\u002fPRESIDENT, ALL INDIA CONGRESS COMMITTEE\",\"Parties\\u002fBHARATIYA JANATA PARTY\",\"Parties\\u002fALL INDIA TRINAMOOL CONGRESS\",\"Parties\\u002fBIJU JANATA DAL\",\"Parties\\u002fAAM AADMI PARTY\",\"Parties\\u002fALL INDIA TRINAMOOL CONGRESS\",\"Parties\\u002fBHARATIYA JANATA PARTY\",\"Parties\\u002fPRESIDENT, ALL INDIA CONGRESS COMMITTEE\",\"Parties\\u002fPRESIDENT, ALL INDIA CONGRESS COMMITTEE\",\"Parties\\u002fPRESIDENT, ALL INDIA CONGRESS COMMITTEE\",\"Parties\\u002fPRESIDENT, ALL INDIA CONGRESS COMMITTEE\",\"Parties\\u002fAAM AADMI PARTY\",\"Parties\\u002fBHARAT RASHTRA SAMITHI\",\"Parties\\u002fYSR  CONGRESS PARTY  (YUVAJANA SRAMIKA RYTHU CONGRESS PARTY)\",\"Parties\\u002fPRESIDENT, ALL INDIA CONGRESS COMMITTEE\",\"Parties\\u002fBHARATIYA JANATA PARTY\",\"Parties\\u002fPRESIDENT, ALL INDIA CONGRESS COMMITTEE\",\"Parties\\u002fSHIVSENA\",\"Parties\\u002fALL INDIA TRINAMOOL CONGRESS\",\"Parties\\u002fALL INDIA TRINAMOOL CONGRESS\",\"Parties\\u002fBHARATIYA JANATA PARTY\",\"Parties\\u002fALL INDIA TRINAMOOL CONGRESS\",\"Parties\\u002fBHARATIYA JANATA PARTY\",\"Parties\\u002fAAM AADMI PARTY\",\"Parties\\u002fBHARATIYA JANATA PARTY\",\"Parties\\u002fBHARATIYA JANATA PARTY\",\"Parties\\u002fBHARATIYA JANATA PARTY\",\"Parties\\u002fBHARAT RASHTRA SAMITHI\",\"Parties\\u002fBHARATIYA JANATA PARTY\",\"Parties\\u002fBHARATIYA JANATA PARTY\",\"Parties\\u002fBIJU JANATA DAL\",\"Parties\\u002fBHARATIYA JANATA PARTY\",\"Parties\\u002fBHARATIYA JANATA PARTY\",\"Parties\\u002fBIJU JANATA DAL\",\"Parties\\u002fPRESIDENT, ALL INDIA CONGRESS COMMITTEE\",\"Parties\\u002fPRESIDENT, ALL INDIA CONGRESS COMMITTEE\",\"Parties\\u002fALL INDIA TRINAMOOL CONGRESS\",\"Parties\\u002fPRESIDENT, ALL INDIA CONGRESS COMMITTEE\",\"Parties\\u002fBHARATIYA JANATA PARTY\",\"Parties\\u002fBHARATIYA JANATA PARTY\",\"Parties\\u002fBHARAT RASHTRA SAMITHI\",\"Parties\\u002fPRESIDENT, ALL INDIA CONGRESS COMMITTEE\",\"Parties\\u002fBHARATIYA JANATA PARTY\",\"Parties\\u002fPRESIDENT, ALL INDIA CONGRESS COMMITTEE\",\"Parties\\u002fAAM AADMI PARTY\",\"Parties\\u002fALL INDIA TRINAMOOL CONGRESS\",\"Parties\\u002fBIJU JANATA DAL\",\"Parties\\u002fPRESIDENT, ALL INDIA CONGRESS COMMITTEE\",\"Parties\\u002fAAM AADMI PARTY\",\"Parties\\u002fALL INDIA TRINAMOOL CONGRESS\",\"Parties\\u002fBHARAT RASHTRA SAMITHI\",\"Parties\\u002fBHARATIYA JANATA PARTY\",\"Parties\\u002fAAM AADMI PARTY\",\"Parties\\u002fBHARATIYA JANATA PARTY\",\"Parties\\u002fBHARATIYA JANATA PARTY\",\"Parties\\u002fSHIVSENA\",\"Parties\\u002fBHARAT RASHTRA SAMITHI\",\"Parties\\u002fBHARAT RASHTRA SAMITHI\",\"Parties\\u002fALL INDIA TRINAMOOL CONGRESS\",\"Parties\\u002fTELUGU DESAM PARTY\",\"Parties\\u002fBHARATIYA JANATA PARTY\",\"Parties\\u002fBHARATIYA JANATA PARTY\",\"Parties\\u002fJAMMU AND KASHMIR NATIONAL CONFERENCE\",\"Parties\\u002fRASHTRIYA JANTA DAL\",\"Parties\\u002fBHARATIYA JANATA PARTY\",\"Parties\\u002fBIHAR PRADESH JANTA DAL(UNITED)\",\"Parties\\u002fPRESIDENT, ALL INDIA CONGRESS COMMITTEE\",\"Parties\\u002fSHIROMANI AKALI DAL\",\"Parties\\u002fBHARATIYA JANATA PARTY\",\"Parties\\u002fBHARAT RASHTRA SAMITHI\",\"Parties\\u002fBHARATIYA JANATA PARTY\",\"Parties\\u002fBHARATIYA JANATA PARTY\",\"Parties\\u002fPRESIDENT, ALL INDIA CONGRESS COMMITTEE\",\"Parties\\u002fBHARAT RASHTRA SAMITHI\",\"Parties\\u002fPRESIDENT, ALL INDIA CONGRESS COMMITTEE\",\"Parties\\u002fPRESIDENT, ALL INDIA CONGRESS COMMITTEE\",\"Parties\\u002fPRESIDENT, ALL INDIA CONGRESS COMMITTEE\",\"Parties\\u002fALL INDIA TRINAMOOL CONGRESS\",\"Parties\\u002fPRESIDENT, ALL INDIA CONGRESS COMMITTEE\",\"Parties\\u002fBHARAT RASHTRA SAMITHI\",\"Parties\\u002fTELUGU DESAM PARTY\",\"Parties\\u002fBHARATIYA JANATA PARTY\",\"Parties\\u002fAAM AADMI PARTY\",\"Parties\\u002fBHARATIYA JANATA PARTY\",\"Parties\\u002fSHIVSENA\",\"Parties\\u002fBHARATIYA JANATA PARTY\",\"Parties\\u002fBHARAT RASHTRA SAMITHI\",\"Parties\\u002fPRESIDENT, ALL INDIA CONGRESS COMMITTEE\",\"Parties\\u002fPRESIDENT, ALL INDIA CONGRESS COMMITTEE\",\"Parties\\u002fBHARATIYA JANATA PARTY\",\"Parties\\u002fPRESIDENT, ALL INDIA CONGRESS COMMITTEE\",\"Parties\\u002fPRESIDENT, ALL INDIA CONGRESS COMMITTEE\",\"Parties\\u002fPRESIDENT, ALL INDIA CONGRESS COMMITTEE\",\"Parties\\u002fBHARAT RASHTRA SAMITHI\",\"Parties\\u002fBHARAT RASHTRA SAMITHI\",\"Parties\\u002fBHARAT RASHTRA SAMITHI\",\"Parties\\u002fBHARAT RASHTRA SAMITHI\",\"Parties\\u002fBHARATIYA JANATA PARTY\",\"Parties\\u002fPRESIDENT, ALL INDIA CONGRESS COMMITTEE\",\"Parties\\u002fBHARAT RASHTRA SAMITHI\",\"Parties\\u002fBHARAT RASHTRA SAMITHI\",\"Parties\\u002fBHARATIYA JANATA PARTY\",\"Parties\\u002fBHARAT RASHTRA SAMITHI\",\"Parties\\u002fTELUGU DESAM PARTY\",\"Parties\\u002fTELUGU DESAM PARTY\",\"Parties\\u002fBHARAT RASHTRA SAMITHI\",\"Parties\\u002fPRESIDENT, ALL INDIA CONGRESS COMMITTEE\",\"Parties\\u002fALL INDIA TRINAMOOL CONGRESS\",\"Parties\\u002fBHARATIYA JANATA PARTY\",\"Parties\\u002fBHARAT RASHTRA SAMITHI\",\"Parties\\u002fPRESIDENT, ALL INDIA CONGRESS COMMITTEE\",\"Parties\\u002fBHARAT RASHTRA SAMITHI\",\"Parties\\u002fPRESIDENT, ALL INDIA CONGRESS COMMITTEE\",\"Parties\\u002fBHARAT RASHTRA SAMITHI\",\"Parties\\u002fPRESIDENT, ALL INDIA CONGRESS COMMITTEE\",\"Parties\\u002fPRESIDENT, ALL INDIA CONGRESS COMMITTEE\",\"Parties\\u002fPRESIDENT, ALL INDIA CONGRESS COMMITTEE\",\"Parties\\u002fALL INDIA TRINAMOOL CONGRESS\",\"Parties\\u002fRASHTRIYA JANTA DAL\",\"Parties\\u002fBHARATIYA JANATA PARTY\",\"Parties\\u002fBHARATIYA JANATA PARTY\",\"Parties\\u002fSHIVSENA\",\"Parties\\u002fSHIVSENA\",\"Parties\\u002fALL INDIA TRINAMOOL CONGRESS\",\"Parties\\u002fALL INDIA TRINAMOOL CONGRESS\",\"Parties\\u002fBHARATIYA JANATA PARTY\",\"Parties\\u002fNATIONALIST CONGRESS PARTY MAHARASHTRA PRADESH\",\"Parties\\u002fBHARAT RASHTRA SAMITHI\",\"Parties\\u002fALL INDIA TRINAMOOL CONGRESS\",\"Parties\\u002fBHARATIYA JANATA PARTY\",\"Parties\\u002fBHARATIYA JANATA PARTY\",\"Parties\\u002fALL INDIA TRINAMOOL CONGRESS\",\"Parties\\u002fBHARAT RASHTRA SAMITHI\",\"Parties\\u002fALL INDIA TRINAMOOL CONGRESS\",\"Parties\\u002fBHARAT RASHTRA SAMITHI\",\"Parties\\u002fPRESIDENT, ALL INDIA CONGRESS COMMITTEE\",\"Parties\\u002fBHARATIYA JANATA PARTY\",\"Parties\\u002fBHARATIYA JANATA PARTY\",\"Parties\\u002fPRESIDENT, ALL INDIA CONGRESS COMMITTEE\",\"Parties\\u002fBHARATIYA JANATA PARTY\",\"Parties\\u002fTELUGU DESAM PARTY\",\"Parties\\u002fALL INDIA TRINAMOOL CONGRESS\",\"Parties\\u002fBHARATIYA JANATA PARTY\",\"Parties\\u002fBHARATIYA JANATA PARTY\",\"Parties\\u002fPRESIDENT, ALL INDIA CONGRESS COMMITTEE\",\"Parties\\u002fBHARATIYA JANATA PARTY\",\"Parties\\u002fBHARATIYA JANATA PARTY\",\"Parties\\u002fPRESIDENT, ALL INDIA CONGRESS COMMITTEE\",\"Parties\\u002fBHARATIYA JANATA PARTY\",\"Parties\\u002fPRESIDENT, ALL INDIA CONGRESS COMMITTEE\",\"Parties\\u002fALL INDIA TRINAMOOL CONGRESS\",\"Parties\\u002fBHARATIYA JANATA PARTY\",\"Parties\\u002fBHARATIYA JANATA PARTY\",\"Parties\\u002fALL INDIA TRINAMOOL CONGRESS\",\"Parties\\u002fBHARATIYA JANATA PARTY\",\"Parties\\u002fALL INDIA TRINAMOOL CONGRESS\",\"Parties\\u002fBHARATIYA JANATA PARTY\",\"Parties\\u002fALL INDIA TRINAMOOL CONGRESS\",\"Parties\\u002fALL INDIA TRINAMOOL CONGRESS\",\"Parties\\u002fALL INDIA TRINAMOOL CONGRESS\",\"Parties\\u002fBHARAT RASHTRA SAMITHI\",\"Parties\\u002fSHIVSENA\",\"Parties\\u002fBHARAT RASHTRA SAMITHI\",\"Parties\\u002fPRESIDENT, ALL INDIA CONGRESS COMMITTEE\",\"Parties\\u002fBHARATIYA JANATA PARTY\",\"Parties\\u002fNATIONALIST CONGRESS PARTY MAHARASHTRA PRADESH\",\"Parties\\u002fPRESIDENT, ALL INDIA CONGRESS COMMITTEE\",\"Parties\\u002fPRESIDENT, ALL INDIA CONGRESS COMMITTEE\",\"Parties\\u002fBIJU JANATA DAL\",\"Parties\\u002fBHARATIYA JANATA PARTY\",\"Parties\\u002fBHARATIYA JANATA PARTY\",\"Parties\\u002fALL INDIA TRINAMOOL CONGRESS\",\"Parties\\u002fBHARATIYA JANATA PARTY\",\"Parties\\u002fBHARAT RASHTRA SAMITHI\",\"Parties\\u002fPRESIDENT, ALL INDIA CONGRESS COMMITTEE\",\"Parties\\u002fBHARAT RASHTRA SAMITHI\",\"Parties\\u002fBHARATIYA JANATA PARTY\",\"Parties\\u002fBHARATIYA JANATA PARTY\",\"Parties\\u002fPRESIDENT, ALL INDIA CONGRESS COMMITTEE\",\"Parties\\u002fBHARAT RASHTRA SAMITHI\",\"Parties\\u002fALL INDIA TRINAMOOL CONGRESS\",\"Parties\\u002fPRESIDENT, ALL INDIA CONGRESS COMMITTEE\",\"Parties\\u002fALL INDIA TRINAMOOL CONGRESS\",\"Parties\\u002fPRESIDENT, ALL INDIA CONGRESS COMMITTEE\",\"Parties\\u002fAAM AADMI PARTY\",\"Parties\\u002fBHARATIYA JANATA PARTY\",\"Parties\\u002fBHARATIYA JANATA PARTY\",\"Parties\\u002fBHARATIYA JANATA PARTY\",\"Parties\\u002fBHARATIYA JANATA PARTY\",\"Parties\\u002fPRESIDENT, ALL INDIA CONGRESS COMMITTEE\",\"Parties\\u002fPRESIDENT, ALL INDIA CONGRESS COMMITTEE\",\"Parties\\u002fBHARAT RASHTRA SAMITHI\",\"Parties\\u002fALL INDIA TRINAMOOL CONGRESS\",\"Parties\\u002fBHARATIYA JANATA PARTY\",\"Parties\\u002fPRESIDENT, ALL INDIA CONGRESS COMMITTEE\",\"Parties\\u002fBHARATIYA JANATA PARTY\",\"Parties\\u002fSHIVSENA\",\"Parties\\u002fYSR  CONGRESS PARTY  (YUVAJANA SRAMIKA RYTHU CONGRESS PARTY)\",\"Parties\\u002fAAM AADMI PARTY\",\"Parties\\u002fBHARATIYA JANATA PARTY\",\"Parties\\u002fBHARATIYA JANATA PARTY\",\"Parties\\u002fALL INDIA TRINAMOOL CONGRESS\",\"Parties\\u002fBHARATIYA JANATA PARTY\",\"Parties\\u002fALL INDIA TRINAMOOL CONGRESS\",\"Parties\\u002fPRESIDENT, ALL INDIA CONGRESS COMMITTEE\",\"Parties\\u002fPRESIDENT, ALL INDIA CONGRESS COMMITTEE\",\"Parties\\u002fBHARAT RASHTRA SAMITHI\",\"Parties\\u002fPRESIDENT, ALL INDIA CONGRESS COMMITTEE\",\"Parties\\u002fBHARATIYA JANATA PARTY\",\"Parties\\u002fBHARATIYA JANATA PARTY\",\"Parties\\u002fPRESIDENT, ALL INDIA CONGRESS COMMITTEE\",\"Parties\\u002fALL INDIA TRINAMOOL CONGRESS\",\"Parties\\u002fBHARAT RASHTRA SAMITHI\",\"Parties\\u002fBHARATIYA JANATA PARTY\",\"Parties\\u002fJHARKHAND MUKTI MORCHA\",\"Parties\\u002fSHIVSENA\",\"Parties\\u002fBHARATIYA JANATA PARTY\",\"Parties\\u002fBHARATIYA JANATA PARTY\",\"Parties\\u002fBHARAT RASHTRA SAMITHI\",\"Parties\\u002fBHARATIYA JANATA PARTY\",\"Parties\\u002fPRESIDENT, ALL INDIA CONGRESS COMMITTEE\",\"Parties\\u002fBHARAT RASHTRA SAMITHI\",\"Parties\\u002fBIJU JANATA DAL\",\"Parties\\u002fBHARAT RASHTRA SAMITHI\",\"Parties\\u002fBHARAT RASHTRA SAMITHI\",\"Parties\\u002fBHARAT RASHTRA SAMITHI\",\"Parties\\u002fYSR  CONGRESS PARTY  (YUVAJANA SRAMIKA RYTHU CONGRESS PARTY)\",\"Parties\\u002fYSR  CONGRESS PARTY  (YUVAJANA SRAMIKA RYTHU CONGRESS PARTY)\",\"Parties\\u002fAAM AADMI PARTY\",\"Parties\\u002fBHARATIYA JANATA PARTY\",\"Parties\\u002fBHARATIYA JANATA PARTY\",\"Parties\\u002fBHARATIYA JANATA PARTY\",\"Parties\\u002fBHARAT RASHTRA SAMITHI\",\"Parties\\u002fPRESIDENT, ALL INDIA CONGRESS COMMITTEE\",\"Parties\\u002fBHARATIYA JANATA PARTY\",\"Parties\\u002fTELUGU DESAM PARTY\",\"Parties\\u002fAAM AADMI PARTY\",\"Parties\\u002fALL INDIA TRINAMOOL CONGRESS\",\"Parties\\u002fPRESIDENT, ALL INDIA CONGRESS COMMITTEE\",\"Parties\\u002fBHARAT RASHTRA SAMITHI\",\"Parties\\u002fBHARATIYA JANATA PARTY\",\"Parties\\u002fPRESIDENT, ALL INDIA CONGRESS COMMITTEE\",\"Parties\\u002fTELUGU DESAM PARTY\",\"Parties\\u002fALL INDIA TRINAMOOL CONGRESS\",\"Parties\\u002fRASHTRIYA JANTA DAL\",\"Parties\\u002fPRESIDENT, ALL INDIA CONGRESS COMMITTEE\",\"Parties\\u002fBHARATIYA JANATA PARTY\",\"Parties\\u002fPRESIDENT, ALL INDIA CONGRESS COMMITTEE\",\"Parties\\u002fTELUGU DESAM PARTY\",\"Parties\\u002fYSR  CONGRESS PARTY  (YUVAJANA SRAMIKA RYTHU CONGRESS PARTY)\",\"Parties\\u002fYSR  CONGRESS PARTY  (YUVAJANA SRAMIKA RYTHU CONGRESS PARTY)\",\"Parties\\u002fBHARAT RASHTRA SAMITHI\",\"Parties\\u002fBHARAT RASHTRA SAMITHI\",\"Parties\\u002fBHARATIYA JANATA PARTY\",\"Parties\\u002fBHARATIYA JANATA PARTY\",\"Parties\\u002fBHARATIYA JANATA PARTY\",\"Parties\\u002fBIJU JANATA DAL\",\"Parties\\u002fBHARATIYA JANATA PARTY\",\"Parties\\u002fBHARATIYA JANATA PARTY\",\"Parties\\u002fBHARAT RASHTRA SAMITHI\",\"Parties\\u002fYSR  CONGRESS PARTY  (YUVAJANA SRAMIKA RYTHU CONGRESS PARTY)\",\"Parties\\u002fBHARAT RASHTRA SAMITHI\",\"Parties\\u002fALL INDIA TRINAMOOL CONGRESS\",\"Parties\\u002fBHARATIYA JANATA PARTY\",\"Parties\\u002fBHARATIYA JANATA PARTY\",\"Parties\\u002fSHIROMANI AKALI DAL\",\"Parties\\u002fDRAVIDA MUNNETRA KAZHAGAM (DMK)\",\"Parties\\u002fBHARATIYA JANATA PARTY\",\"Parties\\u002fPRESIDENT, ALL INDIA CONGRESS COMMITTEE\",\"Parties\\u002fBHARATIYA JANATA PARTY\",\"Parties\\u002fBHARAT RASHTRA SAMITHI\",\"Parties\\u002fBHARATIYA JANATA PARTY\",\"Parties\\u002fBHARAT RASHTRA SAMITHI\",\"Parties\\u002fAAM AADMI PARTY\",\"Parties\\u002fPRESIDENT, ALL INDIA CONGRESS COMMITTEE\",\"Parties\\u002fBHARATIYA JANATA PARTY\",\"Parties\\u002fSHIVSENA\",\"Parties\\u002fALL INDIA TRINAMOOL CONGRESS\",\"Parties\\u002fBHARATIYA JANATA PARTY\",\"Parties\\u002fDRAVIDA MUNNETRA KAZHAGAM (DMK)\",\"Parties\\u002fPRESIDENT, ALL INDIA CONGRESS COMMITTEE\",\"Parties\\u002fSIKKIM DEMOCRATIC FRONT\",\"Parties\\u002fSIKKIM KRANTIKARI MORCHA\",\"Parties\\u002fYSR  CONGRESS PARTY  (YUVAJANA SRAMIKA RYTHU CONGRESS PARTY)\",\"Parties\\u002fALL INDIA TRINAMOOL CONGRESS\",\"Parties\\u002fDRAVIDA MUNNETRA KAZHAGAM (DMK)\",\"Parties\\u002fALL INDIA TRINAMOOL CONGRESS\",\"Parties\\u002fSIKKIM KRANTIKARI MORCHA\",\"Parties\\u002fYSR  CONGRESS PARTY  (YUVAJANA SRAMIKA RYTHU CONGRESS PARTY)\",\"Parties\\u002fBHARAT RASHTRA SAMITHI\",\"Parties\\u002fALL INDIA TRINAMOOL CONGRESS\",\"Parties\\u002fBHARATIYA JANATA PARTY\",\"Parties\\u002fBHARATIYA JANATA PARTY\",\"Parties\\u002fBHARAT RASHTRA SAMITHI\",\"Parties\\u002fALL INDIA TRINAMOOL CONGRESS\",\"Parties\\u002fBIJU JANATA DAL\",\"Parties\\u002fBHARATIYA JANATA PARTY\",\"Parties\\u002fPRESIDENT, ALL INDIA CONGRESS COMMITTEE\",\"Parties\\u002fBHARATIYA JANATA PARTY\",\"Parties\\u002fBHARAT RASHTRA SAMITHI\",\"Parties\\u002fBHARAT RASHTRA SAMITHI\",\"Parties\\u002fBHARAT RASHTRA SAMITHI\",\"Parties\\u002fBHARATIYA JANATA PARTY\",\"Parties\\u002fPRESIDENT, ALL INDIA CONGRESS COMMITTEE\",\"Parties\\u002fBHARATIYA JANATA PARTY\",\"Parties\\u002fSHIVSENA\",\"Parties\\u002fPRESIDENT, ALL INDIA CONGRESS COMMITTEE\",\"Parties\\u002fBHARATIYA JANATA PARTY\",\"Parties\\u002fPRESIDENT, ALL INDIA CONGRESS COMMITTEE\",\"Parties\\u002fPRESIDENT, ALL INDIA CONGRESS COMMITTEE\",\"Parties\\u002fBHARATIYA JANATA PARTY\",\"Parties\\u002fPRESIDENT, ALL INDIA CONGRESS COMMITTEE\",\"Parties\\u002fBHARATIYA JANATA PARTY\",\"Parties\\u002fBHARATIYA JANATA PARTY\",\"Parties\\u002fBHARATIYA JANATA PARTY\",\"Parties\\u002fALL INDIA TRINAMOOL CONGRESS\",\"Parties\\u002fAAM AADMI PARTY\",\"Parties\\u002fALL INDIA TRINAMOOL CONGRESS\",\"Parties\\u002fGOA FORWARD PARTY\",\"Parties\\u002fNATIONALIST CONGRESS PARTY MAHARASHTRA PRADESH\",\"Parties\\u002fALL INDIA TRINAMOOL CONGRESS\",\"Parties\\u002fBHARATIYA JANATA PARTY\",\"Parties\\u002fPRESIDENT, ALL INDIA CONGRESS COMMITTEE\",\"Parties\\u002fBHARATIYA JANATA PARTY\",\"Parties\\u002fPRESIDENT, ALL INDIA CONGRESS COMMITTEE\",\"Parties\\u002fBHARAT RASHTRA SAMITHI\",\"Parties\\u002fBHARAT RASHTRA SAMITHI\",\"Parties\\u002fALL INDIA TRINAMOOL CONGRESS\",\"Parties\\u002fPRESIDENT, ALL INDIA CONGRESS COMMITTEE\",\"Parties\\u002fSHIROMANI AKALI DAL\",\"Parties\\u002fBHARAT RASHTRA SAMITHI\",\"Parties\\u002fBHARAT RASHTRA SAMITHI\",\"Parties\\u002fAAM AADMI PARTY\",\"Parties\\u002fTELUGU DESAM PARTY\",\"Parties\\u002fBHARATIYA JANATA PARTY\",\"Parties\\u002fBIJU JANATA DAL\",\"Parties\\u002fBHARATIYA JANATA PARTY\",\"Parties\\u002fALL INDIA TRINAMOOL CONGRESS\",\"Parties\\u002fYSR  CONGRESS PARTY  (YUVAJANA SRAMIKA RYTHU CONGRESS PARTY)\",\"Parties\\u002fBHARAT RASHTRA SAMITHI\",\"Parties\\u002fBHARAT RASHTRA SAMITHI\",\"Parties\\u002fBHARATIYA JANATA PARTY\",\"Parties\\u002fBHARAT RASHTRA SAMITHI\",\"Parties\\u002fBHARATIYA JANATA PARTY\",\"Parties\\u002fYSR  CONGRESS PARTY  (YUVAJANA SRAMIKA RYTHU CONGRESS PARTY)\",\"Parties\\u002fBHARAT RASHTRA SAMITHI\",\"Parties\\u002fBHARAT RASHTRA SAMITHI\",\"Parties\\u002fBHARAT RASHTRA SAMITHI\",\"Parties\\u002fBHARAT RASHTRA SAMITHI\",\"Parties\\u002fYSR  CONGRESS PARTY  (YUVAJANA SRAMIKA RYTHU CONGRESS PARTY)\",\"Parties\\u002fBHARAT RASHTRA SAMITHI\",\"Parties\\u002fBHARATIYA JANATA PARTY\",\"Parties\\u002fPRESIDENT, ALL INDIA CONGRESS COMMITTEE\",\"Parties\\u002fALL INDIA TRINAMOOL CONGRESS\",\"Parties\\u002fBHARAT RASHTRA SAMITHI\",\"Parties\\u002fBHARAT RASHTRA SAMITHI\",\"Parties\\u002fBHARATIYA JANATA PARTY\",\"Parties\\u002fBHARATIYA JANATA PARTY\",\"Parties\\u002fPRESIDENT, ALL INDIA CONGRESS COMMITTEE\",\"Parties\\u002fBHARAT RASHTRA SAMITHI\",\"Parties\\u002fALL INDIA TRINAMOOL CONGRESS\",\"Parties\\u002fBHARATIYA JANATA PARTY\",\"Parties\\u002fPRESIDENT, ALL INDIA CONGRESS COMMITTEE\",\"Parties\\u002fBHARATIYA JANATA PARTY\",\"Parties\\u002fPRESIDENT, ALL INDIA CONGRESS COMMITTEE\",\"Parties\\u002fBHARATIYA JANATA PARTY\",\"Parties\\u002fBHARATIYA JANATA PARTY\",\"Parties\\u002fBHARATIYA JANATA PARTY\",\"Parties\\u002fSHIVSENA\",\"Parties\\u002fALL INDIA TRINAMOOL CONGRESS\",\"Parties\\u002fBHARATIYA JANATA PARTY\",\"Parties\\u002fBHARATIYA JANATA PARTY\",\"Parties\\u002fPRESIDENT, ALL INDIA CONGRESS COMMITTEE\",\"Parties\\u002fPRESIDENT, ALL INDIA CONGRESS COMMITTEE\",\"Parties\\u002fBHARAT RASHTRA SAMITHI\",\"Parties\\u002fPRESIDENT, ALL INDIA CONGRESS COMMITTEE\",\"Parties\\u002fBHARATIYA JANATA PARTY\",\"Parties\\u002fPRESIDENT, ALL INDIA CONGRESS COMMITTEE\",\"Parties\\u002fBHARAT RASHTRA SAMITHI\",\"Parties\\u002fALL INDIA TRINAMOOL CONGRESS\",\"Parties\\u002fDRAVIDA MUNNETRA KAZHAGAM (DMK)\",\"Parties\\u002fRASHTRIYA JANTA DAL\",\"Parties\\u002fBHARATIYA JANATA PARTY\",\"Parties\\u002fBHARAT RASHTRA SAMITHI\",\"Parties\\u002fPRESIDENT, ALL INDIA CONGRESS COMMITTEE\",\"Parties\\u002fBHARATIYA JANATA PARTY\",\"Parties\\u002fBHARAT RASHTRA SAMITHI\",\"Parties\\u002fBHARAT RASHTRA SAMITHI\",\"Parties\\u002fBHARATIYA JANATA PARTY\",\"Parties\\u002fBHARATIYA JANATA PARTY\",\"Parties\\u002fBIJU JANATA DAL\",\"Parties\\u002fBHARATIYA JANATA PARTY\",\"Parties\\u002fALL INDIA TRINAMOOL CONGRESS\",\"Parties\\u002fALL INDIA TRINAMOOL CONGRESS\",\"Parties\\u002fALL INDIA TRINAMOOL CONGRESS\",\"Parties\\u002fBHARATIYA JANATA PARTY\",\"Parties\\u002fPRESIDENT, ALL INDIA CONGRESS COMMITTEE\",\"Parties\\u002fYSR  CONGRESS PARTY  (YUVAJANA SRAMIKA RYTHU CONGRESS PARTY)\",\"Parties\\u002fALL INDIA TRINAMOOL CONGRESS\",\"Parties\\u002fBHARATIYA JANATA PARTY\",\"Parties\\u002fBHARATIYA JANATA PARTY\",\"Parties\\u002fBHARATIYA JANATA PARTY\",\"Parties\\u002fBHARAT RASHTRA SAMITHI\",\"Parties\\u002fBHARAT RASHTRA SAMITHI\",\"Parties\\u002fBHARATIYA JANATA PARTY\",\"Parties\\u002fALL INDIA TRINAMOOL CONGRESS\",\"Parties\\u002fALL INDIA TRINAMOOL CONGRESS\",\"Parties\\u002fPRESIDENT, ALL INDIA CONGRESS COMMITTEE\",\"Parties\\u002fPRESIDENT, ALL INDIA CONGRESS COMMITTEE\",\"Parties\\u002fBHARATIYA JANATA PARTY\",\"Parties\\u002fBHARAT RASHTRA SAMITHI\",\"Parties\\u002fBHARAT RASHTRA SAMITHI\",\"Parties\\u002fPRESIDENT, ALL INDIA CONGRESS COMMITTEE\",\"Parties\\u002fBHARATIYA JANATA PARTY\",\"Parties\\u002fBHARATIYA JANATA PARTY\",\"Parties\\u002fBHARAT RASHTRA SAMITHI\",\"Parties\\u002fPRESIDENT, ALL INDIA CONGRESS COMMITTEE\",\"Parties\\u002fPRESIDENT, ALL INDIA CONGRESS COMMITTEE\",\"Parties\\u002fAAM AADMI PARTY\",\"Parties\\u002fALL INDIA TRINAMOOL CONGRESS\",\"Parties\\u002fBIJU JANATA DAL\",\"Parties\\u002fPRESIDENT, ALL INDIA CONGRESS COMMITTEE\",\"Parties\\u002fRASHTRIYA JANTA DAL\",\"Parties\\u002fJANATA DAL ( SECULAR )\",\"Parties\\u002fBHARATIYA JANATA PARTY\",\"Parties\\u002fBHARATIYA JANATA PARTY\",\"Parties\\u002fBHARATIYA JANATA PARTY\",\"Parties\\u002fBHARATIYA JANATA PARTY\",\"Parties\\u002fALL INDIA TRINAMOOL CONGRESS\",\"Parties\\u002fBHARATIYA JANATA PARTY\",\"Parties\\u002fBHARATIYA JANATA PARTY\",\"Parties\\u002fBHARAT RASHTRA SAMITHI\",\"Parties\\u002fBHARAT RASHTRA SAMITHI\",\"Parties\\u002fBHARATIYA JANATA PARTY\",\"Parties\\u002fBHARATIYA JANATA PARTY\",\"Parties\\u002fBHARATIYA JANATA PARTY\",\"Parties\\u002fBHARATIYA JANATA PARTY\",\"Parties\\u002fBHARATIYA JANATA PARTY\",\"Parties\\u002fBHARATIYA JANATA PARTY\",\"Parties\\u002fALL INDIA TRINAMOOL CONGRESS\",\"Parties\\u002fBHARAT RASHTRA SAMITHI\",\"Parties\\u002fPRESIDENT, ALL INDIA CONGRESS COMMITTEE\",\"Parties\\u002fPRESIDENT, ALL INDIA CONGRESS COMMITTEE\",\"Parties\\u002fBHARATIYA JANATA PARTY\",\"Parties\\u002fBHARATIYA JANATA PARTY\",\"Parties\\u002fBHARATIYA JANATA PARTY\",\"Parties\\u002fBHARATIYA JANATA PARTY\",\"Parties\\u002fPRESIDENT, ALL INDIA CONGRESS COMMITTEE\",\"Parties\\u002fBHARATIYA JANATA PARTY\",\"Parties\\u002fBHARATIYA JANATA PARTY\",\"Parties\\u002fBHARATIYA JANATA PARTY\",\"Parties\\u002fSIKKIM KRANTIKARI MORCHA\",\"Parties\\u002fBHARAT RASHTRA SAMITHI\",\"Parties\\u002fBHARAT RASHTRA SAMITHI\",\"Parties\\u002fBHARATIYA JANATA PARTY\",\"Parties\\u002fALL INDIA TRINAMOOL CONGRESS\",\"Parties\\u002fBHARAT RASHTRA SAMITHI\",\"Parties\\u002fALL INDIA TRINAMOOL CONGRESS\",\"Parties\\u002fBHARAT RASHTRA SAMITHI\",\"Parties\\u002fBHARATIYA JANATA PARTY\",\"Parties\\u002fBHARATIYA JANATA PARTY\",\"Parties\\u002fBHARATIYA JANATA PARTY\",\"Parties\\u002fPRESIDENT, ALL INDIA CONGRESS COMMITTEE\",\"Parties\\u002fPRESIDENT, ALL INDIA CONGRESS COMMITTEE\",\"Parties\\u002fBHARATIYA JANATA PARTY\",\"Parties\\u002fBHARATIYA JANATA PARTY\",\"Parties\\u002fBHARATIYA JANATA PARTY\",\"Parties\\u002fBHARATIYA JANATA PARTY\",\"Parties\\u002fBHARATIYA JANATA PARTY\",\"Parties\\u002fBHARATIYA JANATA PARTY\",\"Parties\\u002fBHARATIYA JANATA PARTY\",\"Parties\\u002fPRESIDENT, ALL INDIA CONGRESS COMMITTEE\",\"Parties\\u002fBHARATIYA JANATA PARTY\",\"Parties\\u002fBHARATIYA JANATA PARTY\",\"Parties\\u002fBHARATIYA JANATA PARTY\",\"Parties\\u002fBHARATIYA JANATA PARTY\",\"Parties\\u002fBHARATIYA JANATA PARTY\",\"Parties\\u002fPRESIDENT, ALL INDIA CONGRESS COMMITTEE\",\"Parties\\u002fBHARATIYA JANATA PARTY\",\"Parties\\u002fSHIVSENA\",\"Parties\\u002fBHARATIYA JANATA PARTY\",\"Parties\\u002fPRESIDENT, ALL INDIA CONGRESS COMMITTEE\",\"Parties\\u002fBIJU JANATA DAL\",\"Parties\\u002fBHARATIYA JANATA PARTY\",\"Parties\\u002fBIJU JANATA DAL\",\"Parties\\u002fPRESIDENT, ALL INDIA CONGRESS COMMITTEE\",\"Parties\\u002fPRESIDENT, ALL INDIA CONGRESS COMMITTEE\",\"Parties\\u002fPRESIDENT, ALL INDIA CONGRESS COMMITTEE\",\"Parties\\u002fBHARAT RASHTRA SAMITHI\",\"Parties\\u002fBHARATIYA JANATA PARTY\",\"Parties\\u002fPRESIDENT, ALL INDIA CONGRESS COMMITTEE\",\"Parties\\u002fALL INDIA TRINAMOOL CONGRESS\",\"Parties\\u002fBHARATIYA JANATA PARTY\",\"Parties\\u002fALL INDIA TRINAMOOL CONGRESS\",\"Parties\\u002fBHARATIYA JANATA PARTY\",\"Parties\\u002fPRESIDENT, ALL INDIA CONGRESS COMMITTEE\",\"Parties\\u002fALL INDIA TRINAMOOL CONGRESS\",\"Parties\\u002fBHARATIYA JANATA PARTY\",\"Parties\\u002fPRESIDENT, ALL INDIA CONGRESS COMMITTEE\",\"Parties\\u002fYSR  CONGRESS PARTY  (YUVAJANA SRAMIKA RYTHU CONGRESS PARTY)\",\"Parties\\u002fBHARATIYA JANATA PARTY\",\"Parties\\u002fPRESIDENT, ALL INDIA CONGRESS COMMITTEE\",\"Parties\\u002fALL INDIA TRINAMOOL CONGRESS\",\"Parties\\u002fBHARATIYA JANATA PARTY\",\"Parties\\u002fPRESIDENT, ALL INDIA CONGRESS COMMITTEE\",\"Parties\\u002fPRESIDENT, ALL INDIA CONGRESS COMMITTEE\",\"Parties\\u002fBHARATIYA JANATA PARTY\",\"Parties\\u002fBHARAT RASHTRA SAMITHI\",\"Parties\\u002fBHARATIYA JANATA PARTY\",\"Parties\\u002fSHIVSENA\",\"Parties\\u002fDRAVIDA MUNNETRA KAZHAGAM (DMK)\",\"Parties\\u002fBHARATIYA JANATA PARTY\",\"Parties\\u002fALL INDIA TRINAMOOL CONGRESS\",\"Parties\\u002fPRESIDENT, ALL INDIA CONGRESS COMMITTEE\",\"Parties\\u002fBHARATIYA JANATA PARTY\",\"Parties\\u002fPRESIDENT, ALL INDIA CONGRESS COMMITTEE\",\"Parties\\u002fBHARATIYA JANATA PARTY\",\"Parties\\u002fPRESIDENT, ALL INDIA CONGRESS COMMITTEE\",\"Parties\\u002fALL INDIA TRINAMOOL CONGRESS\",\"Parties\\u002fBHARAT RASHTRA SAMITHI\",\"Parties\\u002fBHARATIYA JANATA PARTY\",\"Parties\\u002fBIJU JANATA DAL\",\"Parties\\u002fPRESIDENT, ALL INDIA CONGRESS COMMITTEE\",\"Parties\\u002fBHARATIYA JANATA PARTY\",\"Parties\\u002fPRESIDENT, ALL INDIA CONGRESS COMMITTEE\",\"Parties\\u002fBHARAT RASHTRA SAMITHI\",\"Parties\\u002fBHARAT RASHTRA SAMITHI\",\"Parties\\u002fBHARAT RASHTRA SAMITHI\",\"Parties\\u002fBHARAT RASHTRA SAMITHI\",\"Parties\\u002fBHARATIYA JANATA PARTY\",\"Parties\\u002fBIJU JANATA DAL\",\"Parties\\u002fPRESIDENT, ALL INDIA CONGRESS COMMITTEE\",\"Parties\\u002fPRESIDENT, ALL INDIA CONGRESS COMMITTEE\",\"Parties\\u002fJANATA DAL ( SECULAR )\",\"Parties\\u002fBHARATIYA JANATA PARTY\",\"Parties\\u002fALL INDIA TRINAMOOL CONGRESS\",\"Parties\\u002fADYAKSHA SAMAJVADI PARTY\",\"Parties\\u002fALL INDIA TRINAMOOL CONGRESS\",\"Parties\\u002fBHARATIYA JANATA PARTY\",\"Parties\\u002fPRESIDENT, ALL INDIA CONGRESS COMMITTEE\",\"Parties\\u002fSHIROMANI AKALI DAL\",\"Parties\\u002fBHARATIYA JANATA PARTY\",\"Parties\\u002fPRESIDENT, ALL INDIA CONGRESS COMMITTEE\",\"Parties\\u002fSHIVSENA\",\"Parties\\u002fYSR  CONGRESS PARTY  (YUVAJANA SRAMIKA RYTHU CONGRESS PARTY)\",\"Parties\\u002fYSR  CONGRESS PARTY  (YUVAJANA SRAMIKA RYTHU CONGRESS PARTY)\",\"Parties\\u002fBHARATIYA JANATA PARTY\",\"Parties\\u002fJANATA DAL ( SECULAR )\",\"Parties\\u002fPRESIDENT, ALL INDIA CONGRESS COMMITTEE\",\"Parties\\u002fTELUGU DESAM PARTY\",\"Parties\\u002fALL INDIA TRINAMOOL CONGRESS\",\"Parties\\u002fPRESIDENT, ALL INDIA CONGRESS COMMITTEE\",\"Parties\\u002fALL INDIA TRINAMOOL CONGRESS\",\"Parties\\u002fBHARATIYA JANATA PARTY\",\"Parties\\u002fALL INDIA TRINAMOOL CONGRESS\",\"Parties\\u002fBHARAT RASHTRA SAMITHI\",\"Parties\\u002fBHARAT RASHTRA SAMITHI\",\"Parties\\u002fPRESIDENT, ALL INDIA CONGRESS COMMITTEE\",\"Parties\\u002fBHARAT RASHTRA SAMITHI\",\"Parties\\u002fBHARAT RASHTRA SAMITHI\",\"Parties\\u002fBHARATIYA JANATA PARTY\",\"Parties\\u002fBHARAT RASHTRA SAMITHI\",\"Parties\\u002fPRESIDENT, ALL INDIA CONGRESS COMMITTEE\",\"Parties\\u002fBHARAT RASHTRA SAMITHI\",\"Parties\\u002fAAM AADMI PARTY\",\"Parties\\u002fBHARATIYA JANATA PARTY\",\"Parties\\u002fAAM AADMI PARTY\",\"Parties\\u002fALL INDIA TRINAMOOL CONGRESS\",\"Parties\\u002fALL INDIA TRINAMOOL CONGRESS\",\"Parties\\u002fBHARATIYA JANATA PARTY\",\"Parties\\u002fBHARAT RASHTRA SAMITHI\",\"Parties\\u002fBHARAT RASHTRA SAMITHI\",\"Parties\\u002fPRESIDENT, ALL INDIA CONGRESS COMMITTEE\",\"Parties\\u002fBHARATIYA JANATA PARTY\",\"Parties\\u002fBHARATIYA JANATA PARTY\",\"Parties\\u002fBHARATIYA JANATA PARTY\",\"Parties\\u002fALL INDIA TRINAMOOL CONGRESS\",\"Parties\\u002fBHARAT RASHTRA SAMITHI\",\"Parties\\u002fBHARATIYA JANATA PARTY\",\"Parties\\u002fALL INDIA TRINAMOOL CONGRESS\",\"Parties\\u002fBHARATIYA JANATA PARTY\",\"Parties\\u002fYSR  CONGRESS PARTY  (YUVAJANA SRAMIKA RYTHU CONGRESS PARTY)\",\"Parties\\u002fALL INDIA TRINAMOOL CONGRESS\",\"Parties\\u002fRASHTRIYA JANTA DAL\",\"Parties\\u002fBHARATIYA JANATA PARTY\",\"Parties\\u002fBHARATIYA JANATA PARTY\",\"Parties\\u002fAAM AADMI PARTY\",\"Parties\\u002fPRESIDENT, ALL INDIA CONGRESS COMMITTEE\",\"Parties\\u002fALL INDIA TRINAMOOL CONGRESS\",\"Parties\\u002fPRESIDENT, ALL INDIA CONGRESS COMMITTEE\",\"Parties\\u002fALL INDIA TRINAMOOL CONGRESS\",\"Parties\\u002fBHARAT RASHTRA SAMITHI\",\"Parties\\u002fBHARATIYA JANATA PARTY\",\"Parties\\u002fPRESIDENT, ALL INDIA CONGRESS COMMITTEE\",\"Parties\\u002fBHARAT RASHTRA SAMITHI\",\"Parties\\u002fBHARATIYA JANATA PARTY\",\"Parties\\u002fBHARATIYA JANATA PARTY\",\"Parties\\u002fBHARATIYA JANATA PARTY\",\"Parties\\u002fBHARATIYA JANATA PARTY\",\"Parties\\u002fBHARATIYA JANATA PARTY\",\"Parties\\u002fBHARATIYA JANATA PARTY\",\"Parties\\u002fALL INDIA TRINAMOOL CONGRESS\",\"Parties\\u002fRASHTRIYA JANTA DAL\",\"Parties\\u002fADYAKSHA SAMAJVADI PARTY\",\"Parties\\u002fPRESIDENT, ALL INDIA CONGRESS COMMITTEE\",\"Parties\\u002fBHARATIYA JANATA PARTY\",\"Parties\\u002fBHARATIYA JANATA PARTY\",\"Parties\\u002fALL INDIA TRINAMOOL CONGRESS\",\"Parties\\u002fALL INDIA TRINAMOOL CONGRESS\",\"Parties\\u002fBHARATIYA JANATA PARTY\",\"Parties\\u002fRASHTRIYA JANTA DAL\",\"Parties\\u002fBHARATIYA JANATA PARTY\",\"Parties\\u002fBHARATIYA JANATA PARTY\",\"Parties\\u002fTELUGU DESAM PARTY\",\"Parties\\u002fBHARATIYA JANATA PARTY\",\"Parties\\u002fBHARATIYA JANATA PARTY\",\"Parties\\u002fPRESIDENT, ALL INDIA CONGRESS COMMITTEE\",\"Parties\\u002fALL INDIA TRINAMOOL CONGRESS\",\"Parties\\u002fBHARATIYA JANATA PARTY\",\"Parties\\u002fALL INDIA TRINAMOOL CONGRESS\",\"Parties\\u002fNATIONALIST CONGRESS PARTY MAHARASHTRA PRADESH\",\"Parties\\u002fALL INDIA TRINAMOOL CONGRESS\",\"Parties\\u002fRASHTRIYA JANTA DAL\",\"Parties\\u002fNATIONALIST CONGRESS PARTY MAHARASHTRA PRADESH\",\"Parties\\u002fPRESIDENT, ALL INDIA CONGRESS COMMITTEE\",\"Parties\\u002fSHIVSENA\",\"Parties\\u002fALL INDIA TRINAMOOL CONGRESS\",\"Parties\\u002fBHARATIYA JANATA PARTY\",\"Parties\\u002fPRESIDENT, ALL INDIA CONGRESS COMMITTEE\",\"Parties\\u002fBHARATIYA JANATA PARTY\",\"Parties\\u002fBHARATIYA JANATA PARTY\",\"Parties\\u002fBHARATIYA JANATA PARTY\",\"Parties\\u002fPRESIDENT, ALL INDIA CONGRESS COMMITTEE\",\"Parties\\u002fBHARATIYA JANATA PARTY\",\"Parties\\u002fPRESIDENT, ALL INDIA CONGRESS COMMITTEE\",\"Parties\\u002fBHARAT RASHTRA SAMITHI\",\"Parties\\u002fAAM AADMI PARTY\",\"Parties\\u002fPRESIDENT, ALL INDIA CONGRESS COMMITTEE\",\"Parties\\u002fBHARATIYA JANATA PARTY\",\"Parties\\u002fBHARATIYA JANATA PARTY\",\"Parties\\u002fPRESIDENT, ALL INDIA CONGRESS COMMITTEE\",\"Parties\\u002fALL INDIA TRINAMOOL CONGRESS\",\"Parties\\u002fALL INDIA TRINAMOOL CONGRESS\",\"Parties\\u002fBIJU JANATA DAL\",\"Parties\\u002fPRESIDENT, ALL INDIA CONGRESS COMMITTEE\",\"Parties\\u002fBHARATIYA JANATA PARTY\",\"Parties\\u002fSHIVSENA\",\"Parties\\u002fBHARATIYA JANATA PARTY\",\"Parties\\u002fSHIVSENA\",\"Parties\\u002fBHARATIYA JANATA PARTY\",\"Parties\\u002fALL INDIA TRINAMOOL CONGRESS\",\"Parties\\u002fBHARATIYA JANATA PARTY\",\"Parties\\u002fBHARAT RASHTRA SAMITHI\",\"Parties\\u002fBHARATIYA JANATA PARTY\",\"Parties\\u002fPRESIDENT, ALL INDIA CONGRESS COMMITTEE\",\"Parties\\u002fBHARAT RASHTRA SAMITHI\",\"Parties\\u002fBHARATIYA JANATA PARTY\",\"Parties\\u002fDRAVIDA MUNNETRA KAZHAGAM (DMK)\",\"Parties\\u002fBHARAT RASHTRA SAMITHI\",\"Parties\\u002fBHARATIYA JANATA PARTY\",\"Parties\\u002fDRAVIDA MUNNETRA KAZHAGAM (DMK)\",\"Parties\\u002fJANASENA PARTY\",\"Parties\\u002fJANATA DAL ( SECULAR )\",\"Parties\\u002fPRESIDENT, ALL INDIA CONGRESS COMMITTEE\",\"Parties\\u002fTELUGU DESAM PARTY\",\"Parties\\u002fYSR  CONGRESS PARTY  (YUVAJANA SRAMIKA RYTHU CONGRESS PARTY)\",\"Parties\\u002fBHARATIYA JANATA PARTY\",\"Parties\\u002fBIHAR PRADESH JANTA DAL(UNITED)\",\"Parties\\u002fBHARATIYA JANATA PARTY\",\"Parties\\u002fALL INDIA TRINAMOOL CONGRESS\",\"Parties\\u002fBHARATIYA JANATA PARTY\",\"Parties\\u002fSIKKIM KRANTIKARI MORCHA\",\"Parties\\u002fBHARATIYA JANATA PARTY\",\"Parties\\u002fPRESIDENT, ALL INDIA CONGRESS COMMITTEE\",\"Parties\\u002fBHARAT RASHTRA SAMITHI\",\"Parties\\u002fBHARATIYA JANATA PARTY\",\"Parties\\u002fBHARATIYA JANATA PARTY\",\"Parties\\u002fALL INDIA TRINAMOOL CONGRESS\",\"Parties\\u002fALL INDIA TRINAMOOL CONGRESS\",\"Parties\\u002fALL INDIA TRINAMOOL CONGRESS\",\"Parties\\u002fPRESIDENT, ALL INDIA CONGRESS COMMITTEE\",\"Parties\\u002fAAM AADMI PARTY\",\"Parties\\u002fALL INDIA TRINAMOOL CONGRESS\",\"Parties\\u002fBHARAT RASHTRA SAMITHI\",\"Parties\\u002fBHARATIYA JANATA PARTY\",\"Parties\\u002fBIJU JANATA DAL\",\"Parties\\u002fJHARKHAND MUKTI MORCHA\",\"Parties\\u002fPRESIDENT, ALL INDIA CONGRESS COMMITTEE\",\"Parties\\u002fALL INDIA TRINAMOOL CONGRESS\",\"Parties\\u002fBHARATIYA JANATA PARTY\",\"Parties\\u002fPRESIDENT, ALL INDIA CONGRESS COMMITTEE\",\"Parties\\u002fBHARATIYA JANATA PARTY\",\"Parties\\u002fPRESIDENT, ALL INDIA CONGRESS COMMITTEE\",\"Parties\\u002fBHARATIYA JANATA PARTY\",\"Parties\\u002fBHARATIYA JANATA PARTY\",\"Parties\\u002fBHARAT RASHTRA SAMITHI\",\"Parties\\u002fDRAVIDA MUNNETRA KAZHAGAM (DMK)\",\"Parties\\u002fPRESIDENT, ALL INDIA CONGRESS COMMITTEE\",\"Parties\\u002fBHARATIYA JANATA PARTY\",\"Parties\\u002fBHARATIYA JANATA PARTY\",\"Parties\\u002fPRESIDENT, ALL INDIA CONGRESS COMMITTEE\",\"Parties\\u002fBHARATIYA JANATA PARTY\",\"Parties\\u002fBHARATIYA JANATA PARTY\",\"Parties\\u002fBHARATIYA JANATA PARTY\",\"Parties\\u002fALL INDIA TRINAMOOL CONGRESS\",\"Parties\\u002fBIJU JANATA DAL\",\"Parties\\u002fRASHTRIYA JANTA DAL\",\"Parties\\u002fYSR  CONGRESS PARTY  (YUVAJANA SRAMIKA RYTHU CONGRESS PARTY)\",\"Parties\\u002fPRESIDENT, ALL INDIA CONGRESS COMMITTEE\",\"Parties\\u002fAAM AADMI PARTY\",\"Parties\\u002fALL INDIA TRINAMOOL CONGRESS\",\"Parties\\u002fBHARATIYA JANATA PARTY\",\"Parties\\u002fBHARATIYA JANATA PARTY\",\"Parties\\u002fAAM AADMI PARTY\",\"Parties\\u002fBHARATIYA JANATA PARTY\",\"Parties\\u002fBHARATIYA JANATA PARTY\",\"Parties\\u002fALL INDIA TRINAMOOL CONGRESS\",\"Parties\\u002fALL INDIA TRINAMOOL CONGRESS\",\"Parties\\u002fBHARATIYA JANATA PARTY\",\"Parties\\u002fPRESIDENT, ALL INDIA CONGRESS COMMITTEE\",\"Parties\\u002fAAM AADMI PARTY\",\"Parties\\u002fPRESIDENT, ALL INDIA CONGRESS COMMITTEE\",\"Parties\\u002fBHARAT RASHTRA SAMITHI\",\"Parties\\u002fBHARATIYA JANATA PARTY\",\"Parties\\u002fBHARATIYA JANATA PARTY\",\"Parties\\u002fBHARAT RASHTRA SAMITHI\",\"Parties\\u002fBHARATIYA JANATA PARTY\",\"Parties\\u002fALL INDIA TRINAMOOL CONGRESS\",\"Parties\\u002fPRESIDENT, ALL INDIA CONGRESS COMMITTEE\",\"Parties\\u002fAAM AADMI PARTY\",\"Parties\\u002fBHARATIYA JANATA PARTY\",\"Parties\\u002fBIJU JANATA DAL\",\"Parties\\u002fAAM AADMI PARTY\",\"Parties\\u002fBHARATIYA JANATA PARTY\",\"Parties\\u002fBHARATIYA JANATA PARTY\",\"Parties\\u002fBHARAT RASHTRA SAMITHI\",\"Parties\\u002fBHARATIYA JANATA PARTY\",\"Parties\\u002fBHARATIYA JANATA PARTY\",\"Parties\\u002fPRESIDENT, ALL INDIA CONGRESS COMMITTEE\",\"Parties\\u002fPRESIDENT, ALL INDIA CONGRESS COMMITTEE\",\"Parties\\u002fALL INDIA TRINAMOOL CONGRESS\",\"Parties\\u002fPRESIDENT, ALL INDIA CONGRESS COMMITTEE\",\"Parties\\u002fBHARAT RASHTRA SAMITHI\",\"Parties\\u002fBHARATIYA JANATA PARTY\",\"Parties\\u002fPRESIDENT, ALL INDIA CONGRESS COMMITTEE\",\"Parties\\u002fBHARAT RASHTRA SAMITHI\",\"Parties\\u002fBHARATIYA JANATA PARTY\",\"Parties\\u002fPRESIDENT, ALL INDIA CONGRESS COMMITTEE\",\"Parties\\u002fBHARATIYA JANATA PARTY\",\"Parties\\u002fBHARAT RASHTRA SAMITHI\",\"Parties\\u002fBHARATIYA JANATA PARTY\",\"Parties\\u002fPRESIDENT, ALL INDIA CONGRESS COMMITTEE\",\"Parties\\u002fBHARAT RASHTRA SAMITHI\",\"Parties\\u002fTELUGU DESAM PARTY\",\"Parties\\u002fPRESIDENT, ALL INDIA CONGRESS COMMITTEE\",\"Parties\\u002fPRESIDENT, ALL INDIA CONGRESS COMMITTEE\",\"Parties\\u002fNATIONALIST CONGRESS PARTY MAHARASHTRA PRADESH\",\"Parties\\u002fPRESIDENT, ALL INDIA CONGRESS COMMITTEE\",\"Parties\\u002fALL INDIA TRINAMOOL CONGRESS\",\"Parties\\u002fPRESIDENT, ALL INDIA CONGRESS COMMITTEE\",\"Parties\\u002fJANATA DAL ( SECULAR )\",\"Parties\\u002fALL INDIA TRINAMOOL CONGRESS\",\"Parties\\u002fPRESIDENT, ALL INDIA CONGRESS COMMITTEE\",\"Parties\\u002fBHARATIYA JANATA PARTY\",\"Parties\\u002fPRESIDENT, ALL INDIA CONGRESS COMMITTEE\",\"Parties\\u002fBHARAT RASHTRA SAMITHI\",\"Parties\\u002fBHARATIYA JANATA PARTY\",\"Parties\\u002fBHARAT RASHTRA SAMITHI\",\"Parties\\u002fBHARATIYA JANATA PARTY\",\"Parties\\u002fJANASENA PARTY\",\"Parties\\u002fPRESIDENT, ALL INDIA CONGRESS COMMITTEE\",\"Parties\\u002fTELUGU DESAM PARTY\",\"Parties\\u002fYSR  CONGRESS PARTY  (YUVAJANA SRAMIKA RYTHU CONGRESS PARTY)\",\"Parties\\u002fBHARATIYA JANATA PARTY\",\"Parties\\u002fALL INDIA TRINAMOOL CONGRESS\",\"Parties\\u002fBHARATIYA JANATA PARTY\",\"Parties\\u002fBHARATIYA JANATA PARTY\",\"Parties\\u002fBHARATIYA JANATA PARTY\",\"Parties\\u002fBHARATIYA JANATA PARTY\",\"Parties\\u002fBHARATIYA JANATA PARTY\",\"Parties\\u002fALL INDIA TRINAMOOL CONGRESS\",\"Parties\\u002fBHARATIYA JANATA PARTY\",\"Parties\\u002fPRESIDENT, ALL INDIA CONGRESS COMMITTEE\",\"Parties\\u002fPRESIDENT, ALL INDIA CONGRESS COMMITTEE\",\"Parties\\u002fALL INDIA TRINAMOOL CONGRESS\",\"Parties\\u002fBHARATIYA JANATA PARTY\",\"Parties\\u002fPRESIDENT, ALL INDIA CONGRESS COMMITTEE\",\"Parties\\u002fBHARAT RASHTRA SAMITHI\",\"Parties\\u002fJANATA DAL ( SECULAR )\",\"Parties\\u002fBHARATIYA JANATA PARTY\",\"Parties\\u002fAAM AADMI PARTY\",\"Parties\\u002fALL INDIA TRINAMOOL CONGRESS\",\"Parties\\u002fBHARATIYA JANATA PARTY\",\"Parties\\u002fPRESIDENT, ALL INDIA CONGRESS COMMITTEE\",\"Parties\\u002fBIJU JANATA DAL\",\"Parties\\u002fALL INDIA TRINAMOOL CONGRESS\",\"Parties\\u002fPRESIDENT, ALL INDIA CONGRESS COMMITTEE\",\"Parties\\u002fPRESIDENT, ALL INDIA CONGRESS COMMITTEE\",\"Parties\\u002fPRESIDENT, ALL INDIA CONGRESS COMMITTEE\",\"Parties\\u002fPRESIDENT, ALL INDIA CONGRESS COMMITTEE\",\"Parties\\u002fALL INDIA TRINAMOOL CONGRESS\",\"Parties\\u002fRASHTRIYA JANTA DAL\",\"Parties\\u002fBHARAT RASHTRA SAMITHI\",\"Parties\\u002fBHARAT RASHTRA SAMITHI\",\"Parties\\u002fBHARAT RASHTRA SAMITHI\",\"Parties\\u002fPRESIDENT, ALL INDIA CONGRESS COMMITTEE\",\"Parties\\u002fPRESIDENT, ALL INDIA CONGRESS COMMITTEE\",\"Parties\\u002fBHARAT RASHTRA SAMITHI\",\"Parties\\u002fBHARAT RASHTRA SAMITHI\",\"Parties\\u002fBHARATIYA JANATA PARTY\",\"Parties\\u002fALL INDIA TRINAMOOL CONGRESS\",\"Parties\\u002fPRESIDENT, ALL INDIA CONGRESS COMMITTEE\",\"Parties\\u002fALL INDIA TRINAMOOL CONGRESS\",\"Parties\\u002fALL INDIA TRINAMOOL CONGRESS\",\"Parties\\u002fBHARATIYA JANATA PARTY\",\"Parties\\u002fPRESIDENT, ALL INDIA CONGRESS COMMITTEE\",\"Parties\\u002fALL INDIA TRINAMOOL CONGRESS\",\"Parties\\u002fBHARATIYA JANATA PARTY\",\"Parties\\u002fPRESIDENT, ALL INDIA CONGRESS COMMITTEE\",\"Parties\\u002fBHARATIYA JANATA PARTY\",\"Parties\\u002fBHARATIYA JANATA PARTY\",\"Parties\\u002fBHARATIYA JANATA PARTY\",\"Parties\\u002fBIJU JANATA DAL\",\"Parties\\u002fBIJU JANATA DAL\",\"Parties\\u002fYSR  CONGRESS PARTY  (YUVAJANA SRAMIKA RYTHU CONGRESS PARTY)\",\"Parties\\u002fYSR  CONGRESS PARTY  (YUVAJANA SRAMIKA RYTHU CONGRESS PARTY)\",\"Parties\\u002fPRESIDENT, ALL INDIA CONGRESS COMMITTEE\",\"Parties\\u002fBHARAT RASHTRA SAMITHI\",\"Parties\\u002fBHARAT RASHTRA SAMITHI\",\"Parties\\u002fPRESIDENT, ALL INDIA CONGRESS COMMITTEE\",\"Parties\\u002fBHARATIYA JANATA PARTY\",\"Parties\\u002fBHARATIYA JANATA PARTY\",\"Parties\\u002fPRESIDENT, ALL INDIA CONGRESS COMMITTEE\",\"Parties\\u002fAAM AADMI PARTY\",\"Parties\\u002fALL INDIA TRINAMOOL CONGRESS\",\"Parties\\u002fBIJU JANATA DAL\",\"Parties\\u002fPRESIDENT, ALL INDIA CONGRESS COMMITTEE\",\"Parties\\u002fPRESIDENT, ALL INDIA CONGRESS COMMITTEE\",\"Parties\\u002fBHARAT RASHTRA SAMITHI\",\"Parties\\u002fBHARAT RASHTRA SAMITHI\",\"Parties\\u002fBHARATIYA JANATA PARTY\",\"Parties\\u002fBHARATIYA JANATA PARTY\",\"Parties\\u002fBHARAT RASHTRA SAMITHI\",\"Parties\\u002fPRESIDENT, ALL INDIA CONGRESS COMMITTEE\",\"Parties\\u002fALL INDIA TRINAMOOL CONGRESS\",\"Parties\\u002fBHARAT RASHTRA SAMITHI\",\"Parties\\u002fPRESIDENT, ALL INDIA CONGRESS COMMITTEE\",\"Parties\\u002fBHARATIYA JANATA PARTY\",\"Parties\\u002fBIJU JANATA DAL\",\"Parties\\u002fBIJU JANATA DAL\",\"Parties\\u002fBHARAT RASHTRA SAMITHI\",\"Parties\\u002fALL INDIA TRINAMOOL CONGRESS\",\"Parties\\u002fALL INDIA TRINAMOOL CONGRESS\",\"Parties\\u002fALL INDIA TRINAMOOL CONGRESS\",\"Parties\\u002fBHARATIYA JANATA PARTY\",\"Parties\\u002fBHARATIYA JANATA PARTY\",\"Parties\\u002fBHARATIYA JANATA PARTY\",\"Parties\\u002fBHARATIYA JANATA PARTY\",\"Parties\\u002fBHARATIYA JANATA PARTY\",\"Parties\\u002fBHARATIYA JANATA PARTY\",\"Parties\\u002fALL INDIA TRINAMOOL CONGRESS\",\"Parties\\u002fALL INDIA TRINAMOOL CONGRESS\",\"Parties\\u002fPRESIDENT, ALL INDIA CONGRESS COMMITTEE\",\"Parties\\u002fPRESIDENT, ALL INDIA CONGRESS COMMITTEE\",\"Parties\\u002fALL INDIA TRINAMOOL CONGRESS\",\"Parties\\u002fBHARAT RASHTRA SAMITHI\",\"Parties\\u002fBHARAT RASHTRA SAMITHI\",\"Parties\\u002fBHARAT RASHTRA SAMITHI\",\"Parties\\u002fBHARAT RASHTRA SAMITHI\",\"Parties\\u002fBIJU JANATA DAL\",\"Parties\\u002fPRESIDENT, ALL INDIA CONGRESS COMMITTEE\",\"Parties\\u002fBHARATIYA JANATA PARTY\",\"Parties\\u002fBHARATIYA JANATA PARTY\",\"Parties\\u002fBHARATIYA JANATA PARTY\",\"Parties\\u002fALL INDIA TRINAMOOL CONGRESS\",\"Parties\\u002fRASHTRIYA JANTA DAL\",\"Parties\\u002fYSR  CONGRESS PARTY  (YUVAJANA SRAMIKA RYTHU CONGRESS PARTY)\",\"Parties\\u002fALL INDIA TRINAMOOL CONGRESS\",\"Parties\\u002fBHARATIYA JANATA PARTY\",\"Parties\\u002fPRESIDENT, ALL INDIA CONGRESS COMMITTEE\",\"Parties\\u002fALL INDIA TRINAMOOL CONGRESS\",\"Parties\\u002fALL INDIA TRINAMOOL CONGRESS\",\"Parties\\u002fBHARATIYA JANATA PARTY\",\"Parties\\u002fPRESIDENT, ALL INDIA CONGRESS COMMITTEE\",\"Parties\\u002fSHIVSENA\",\"Parties\\u002fBHARATIYA JANATA PARTY\",\"Parties\\u002fALL INDIA TRINAMOOL CONGRESS\",\"Parties\\u002fBHARATIYA JANATA PARTY\",\"Parties\\u002fAAM AADMI PARTY\",\"Parties\\u002fBHARATIYA JANATA PARTY\",\"Parties\\u002fBHARAT RASHTRA SAMITHI\",\"Parties\\u002fPRESIDENT, ALL INDIA CONGRESS COMMITTEE\",\"Parties\\u002fALL INDIA TRINAMOOL CONGRESS\",\"Parties\\u002fBIJU JANATA DAL\",\"Parties\\u002fPRESIDENT, ALL INDIA CONGRESS COMMITTEE\",\"Parties\\u002fPRESIDENT, ALL INDIA CONGRESS COMMITTEE\",\"Parties\\u002fALL INDIA TRINAMOOL CONGRESS\",\"Parties\\u002fYSR  CONGRESS PARTY  (YUVAJANA SRAMIKA RYTHU CONGRESS PARTY)\",\"Parties\\u002fYSR  CONGRESS PARTY  (YUVAJANA SRAMIKA RYTHU CONGRESS PARTY)\",\"Parties\\u002fPRESIDENT, ALL INDIA CONGRESS COMMITTEE\",\"Parties\\u002fBHARATIYA JANATA PARTY\",\"Parties\\u002fPRESIDENT, ALL INDIA CONGRESS COMMITTEE\",\"Parties\\u002fSHIVSENA\",\"Parties\\u002fBHARAT RASHTRA SAMITHI\",\"Parties\\u002fBHARAT RASHTRA SAMITHI\",\"Parties\\u002fBHARATIYA JANATA PARTY\",\"Parties\\u002fBHARAT RASHTRA SAMITHI\",\"Parties\\u002fPRESIDENT, ALL INDIA CONGRESS COMMITTEE\",\"Parties\\u002fBHARATIYA JANATA PARTY\",\"Parties\\u002fBHARATIYA JANATA PARTY\",\"Parties\\u002fBHARAT RASHTRA SAMITHI\",\"Parties\\u002fPRESIDENT, ALL INDIA CONGRESS COMMITTEE\",\"Parties\\u002fPRESIDENT, ALL INDIA CONGRESS COMMITTEE\",\"Parties\\u002fBHARATIYA JANATA PARTY\",\"Parties\\u002fBHARATIYA JANATA PARTY\",\"Parties\\u002fBHARAT RASHTRA SAMITHI\",\"Parties\\u002fTELUGU DESAM PARTY\",\"Parties\\u002fBHARATIYA JANATA PARTY\",\"Parties\\u002fPRESIDENT, ALL INDIA CONGRESS COMMITTEE\",\"Parties\\u002fSHIVSENA\",\"Parties\\u002fBIJU JANATA DAL\",\"Parties\\u002fBIJU JANATA DAL\",\"Parties\\u002fBHARAT RASHTRA SAMITHI\",\"Parties\\u002fJHARKHAND MUKTI MORCHA\",\"Parties\\u002fBHARATIYA JANATA PARTY\",\"Parties\\u002fBHARATIYA JANATA PARTY\",\"Parties\\u002fPRESIDENT, ALL INDIA CONGRESS COMMITTEE\",\"Parties\\u002fALL INDIA TRINAMOOL CONGRESS\",\"Parties\\u002fRASHTRIYA JANTA DAL\",\"Parties\\u002fBHARATIYA JANATA PARTY\",\"Parties\\u002fPRESIDENT, ALL INDIA CONGRESS COMMITTEE\",\"Parties\\u002fALL INDIA TRINAMOOL CONGRESS\",\"Parties\\u002fBHARATIYA JANATA PARTY\",\"Parties\\u002fRASHTRIYA JANTA DAL\",\"Parties\\u002fBHARATIYA JANATA PARTY\",\"Parties\\u002fNATIONALIST CONGRESS PARTY MAHARASHTRA PRADESH\",\"Parties\\u002fSHIVSENA\",\"Parties\\u002fBHARAT RASHTRA SAMITHI\",\"Parties\\u002fALL INDIA TRINAMOOL CONGRESS\",\"Parties\\u002fPRESIDENT, ALL INDIA CONGRESS COMMITTEE\",\"Parties\\u002fTELUGU DESAM PARTY\",\"Parties\\u002fBHARAT RASHTRA SAMITHI\",\"Parties\\u002fBHARAT RASHTRA SAMITHI\",\"Parties\\u002fBHARATIYA JANATA PARTY\",\"Parties\\u002fSHIVSENA\",\"Parties\\u002fBHARAT RASHTRA SAMITHI\",\"Parties\\u002fBHARAT RASHTRA SAMITHI\",\"Parties\\u002fBHARAT RASHTRA SAMITHI\",\"Parties\\u002fBHARAT RASHTRA SAMITHI\",\"Parties\\u002fBHARATIYA JANATA PARTY\",\"Parties\\u002fBHARATIYA JANATA PARTY\",\"Parties\\u002fBHARAT RASHTRA SAMITHI\",\"Parties\\u002fPRESIDENT, ALL INDIA CONGRESS COMMITTEE\",\"Parties\\u002fPRESIDENT, ALL INDIA CONGRESS COMMITTEE\",\"Parties\\u002fALL INDIA TRINAMOOL CONGRESS\",\"Parties\\u002fNATIONALIST CONGRESS PARTY MAHARASHTRA PRADESH\",\"Parties\\u002fPRESIDENT, ALL INDIA CONGRESS COMMITTEE\",\"Parties\\u002fALL INDIA TRINAMOOL CONGRESS\",\"Parties\\u002fRASHTRIYA JANTA DAL\",\"Parties\\u002fPRESIDENT, ALL INDIA CONGRESS COMMITTEE\",\"Parties\\u002fBHARATIYA JANATA PARTY\",\"Parties\\u002fBHARATIYA JANATA PARTY\",\"Parties\\u002fBHARATIYA JANATA PARTY\",\"Parties\\u002fPRESIDENT, ALL INDIA CONGRESS COMMITTEE\",\"Parties\\u002fBHARAT RASHTRA SAMITHI\",\"Parties\\u002fBHARAT RASHTRA SAMITHI\",\"Parties\\u002fALL INDIA TRINAMOOL CONGRESS\",\"Parties\\u002fBHARATIYA JANATA PARTY\",\"Parties\\u002fPRESIDENT, ALL INDIA CONGRESS COMMITTEE\",\"Parties\\u002fPRESIDENT, ALL INDIA CONGRESS COMMITTEE\",\"Parties\\u002fBHARATIYA JANATA PARTY\",\"Parties\\u002fALL INDIA TRINAMOOL CONGRESS\",\"Parties\\u002fBHARATIYA JANATA PARTY\",\"Parties\\u002fPRESIDENT, ALL INDIA CONGRESS COMMITTEE\",\"Parties\\u002fPRESIDENT, ALL INDIA CONGRESS COMMITTEE\",\"Parties\\u002fBHARAT RASHTRA SAMITHI\",\"Parties\\u002fBHARATIYA JANATA PARTY\",\"Parties\\u002fPRESIDENT, ALL INDIA CONGRESS COMMITTEE\",\"Parties\\u002fALL INDIA TRINAMOOL CONGRESS\",\"Parties\\u002fBHARATIYA JANATA PARTY\",\"Parties\\u002fBHARATIYA JANATA PARTY\",\"Parties\\u002fBHARATIYA JANATA PARTY\",\"Parties\\u002fBHARATIYA JANATA PARTY\",\"Parties\\u002fPRESIDENT, ALL INDIA CONGRESS COMMITTEE\",\"Parties\\u002fBHARATIYA JANATA PARTY\",\"Parties\\u002fAAM AADMI PARTY\",\"Parties\\u002fBHARATIYA JANATA PARTY\",\"Parties\\u002fALL INDIA TRINAMOOL CONGRESS\",\"Parties\\u002fBHARATIYA JANATA PARTY\",\"Parties\\u002fYSR  CONGRESS PARTY  (YUVAJANA SRAMIKA RYTHU CONGRESS PARTY)\",\"Parties\\u002fBHARAT RASHTRA SAMITHI\",\"Parties\\u002fBHARATIYA JANATA PARTY\",\"Parties\\u002fPRESIDENT, ALL INDIA CONGRESS COMMITTEE\",\"Parties\\u002fBHARATIYA JANATA PARTY\",\"Parties\\u002fPRESIDENT, ALL INDIA CONGRESS COMMITTEE\",\"Parties\\u002fALL INDIA TRINAMOOL CONGRESS\",\"Parties\\u002fALL INDIA TRINAMOOL CONGRESS\",\"Parties\\u002fBHARATIYA JANATA PARTY\",\"Parties\\u002fSHIVSENA\",\"Parties\\u002fBHARATIYA JANATA PARTY\",\"Parties\\u002fSHIVSENA\",\"Parties\\u002fBHARATIYA JANATA PARTY\",\"Parties\\u002fSHIVSENA\",\"Parties\\u002fALL INDIA TRINAMOOL CONGRESS\",\"Parties\\u002fBIJU JANATA DAL\",\"Parties\\u002fBIJU JANATA DAL\",\"Parties\\u002fBHARATIYA JANATA PARTY\",\"Parties\\u002fSHIVSENA\",\"Parties\\u002fBHARATIYA JANATA PARTY\",\"Parties\\u002fALL INDIA TRINAMOOL CONGRESS\",\"Parties\\u002fRASHTRIYA JANTA DAL\",\"Parties\\u002fALL INDIA TRINAMOOL CONGRESS\",\"Parties\\u002fBHARAT RASHTRA SAMITHI\",\"Parties\\u002fBHARATIYA JANATA PARTY\",\"Parties\\u002fPRESIDENT, ALL INDIA CONGRESS COMMITTEE\",\"Parties\\u002fBHARAT RASHTRA SAMITHI\",\"Parties\\u002fPRESIDENT, ALL INDIA CONGRESS COMMITTEE\",\"Parties\\u002fBHARATIYA JANATA PARTY\",\"Parties\\u002fPRESIDENT, ALL INDIA CONGRESS COMMITTEE\",\"Parties\\u002fBHARAT RASHTRA SAMITHI\",\"Parties\\u002fTELUGU DESAM PARTY\",\"Parties\\u002fBHARATIYA JANATA PARTY\",\"Parties\\u002fBHARATIYA JANATA PARTY\",\"Parties\\u002fBHARATIYA JANATA PARTY\",\"Parties\\u002fBHARATIYA JANATA PARTY\",\"Parties\\u002fBHARATIYA JANATA PARTY\",\"Parties\\u002fBHARAT RASHTRA SAMITHI\",\"Parties\\u002fRASHTRIYA JANTA DAL\",\"Parties\\u002fBHARATIYA JANATA PARTY\",\"Parties\\u002fALL INDIA TRINAMOOL CONGRESS\",\"Parties\\u002fBHARAT RASHTRA SAMITHI\",\"Parties\\u002fALL INDIA TRINAMOOL CONGRESS\",\"Parties\\u002fALL INDIA TRINAMOOL CONGRESS\",\"Parties\\u002fPRESIDENT, ALL INDIA CONGRESS COMMITTEE\",\"Parties\\u002fPRESIDENT, ALL INDIA CONGRESS COMMITTEE\",\"Parties\\u002fALL INDIA TRINAMOOL CONGRESS\",\"Parties\\u002fALL INDIA TRINAMOOL CONGRESS\",\"Parties\\u002fALL INDIA TRINAMOOL CONGRESS\",\"Parties\\u002fJHARKHAND MUKTI MORCHA\",\"Parties\\u002fPRESIDENT, ALL INDIA CONGRESS COMMITTEE\",\"Parties\\u002fALL INDIA TRINAMOOL CONGRESS\",\"Parties\\u002fALL INDIA TRINAMOOL CONGRESS\",\"Parties\\u002fJANATA DAL ( SECULAR )\",\"Parties\\u002fPRESIDENT, ALL INDIA CONGRESS COMMITTEE\",\"Parties\\u002fTELUGU DESAM PARTY\",\"Parties\\u002fBHARATIYA JANATA PARTY\",\"Parties\\u002fBHARATIYA JANATA PARTY\",\"Parties\\u002fALL INDIA TRINAMOOL CONGRESS\",\"Parties\\u002fBHARATIYA JANATA PARTY\",\"Parties\\u002fPRESIDENT, ALL INDIA CONGRESS COMMITTEE\",\"Parties\\u002fBIJU JANATA DAL\",\"Parties\\u002fBIJU JANATA DAL\",\"Parties\\u002fALL INDIA TRINAMOOL CONGRESS\",\"Parties\\u002fBHARATIYA JANATA PARTY\",\"Parties\\u002fBHARAT RASHTRA SAMITHI\",\"Parties\\u002fALL INDIA TRINAMOOL CONGRESS\",\"Parties\\u002fBHARATIYA JANATA PARTY\",\"Parties\\u002fBIJU JANATA DAL\",\"Parties\\u002fALL INDIA TRINAMOOL CONGRESS\",\"Parties\\u002fPRESIDENT, ALL INDIA CONGRESS COMMITTEE\",\"Parties\\u002fBHARATIYA JANATA PARTY\",\"Parties\\u002fALL INDIA TRINAMOOL CONGRESS\",\"Parties\\u002fPRESIDENT, ALL INDIA CONGRESS COMMITTEE\",\"Parties\\u002fAAM AADMI PARTY\",\"Parties\\u002fAAM AADMI PARTY\",\"Parties\\u002fAAM AADMI PARTY\",\"Parties\\u002fBHARATIYA JANATA PARTY\",\"Parties\\u002fBHARATIYA JANATA PARTY\",\"Parties\\u002fBHARATIYA JANATA PARTY\",\"Parties\\u002fBHARATIYA JANATA PARTY\",\"Parties\\u002fBHARAT RASHTRA SAMITHI\",\"Parties\\u002fBHARATIYA JANATA PARTY\",\"Parties\\u002fPRESIDENT, ALL INDIA CONGRESS COMMITTEE\",\"Parties\\u002fTELUGU DESAM PARTY\",\"Parties\\u002fYSR  CONGRESS PARTY  (YUVAJANA SRAMIKA RYTHU CONGRESS PARTY)\",\"Parties\\u002fBHARAT RASHTRA SAMITHI\",\"Parties\\u002fALL INDIA TRINAMOOL CONGRESS\",\"Parties\\u002fPRESIDENT, ALL INDIA CONGRESS COMMITTEE\",\"Parties\\u002fALL INDIA TRINAMOOL CONGRESS\",\"Parties\\u002fALL INDIA TRINAMOOL CONGRESS\",\"Parties\\u002fALL INDIA TRINAMOOL CONGRESS\",\"Parties\\u002fBHARATIYA JANATA PARTY\",\"Parties\\u002fAAM AADMI PARTY\",\"Parties\\u002fAAM AADMI PARTY\",\"Parties\\u002fPRESIDENT, ALL INDIA CONGRESS COMMITTEE\",\"Parties\\u002fYSR  CONGRESS PARTY  (YUVAJANA SRAMIKA RYTHU CONGRESS PARTY)\",\"Parties\\u002fYSR  CONGRESS PARTY  (YUVAJANA SRAMIKA RYTHU CONGRESS PARTY)\",\"Parties\\u002fALL INDIA TRINAMOOL CONGRESS\",\"Parties\\u002fDRAVIDA MUNNETRA KAZHAGAM (DMK)\",\"Parties\\u002fRASHTRIYA JANTA DAL\",\"Parties\\u002fPRESIDENT, ALL INDIA CONGRESS COMMITTEE\",\"Parties\\u002fSHIROMANI AKALI DAL\",\"Parties\\u002fPRESIDENT, ALL INDIA CONGRESS COMMITTEE\",\"Parties\\u002fBHARAT RASHTRA SAMITHI\",\"Parties\\u002fPRESIDENT, ALL INDIA CONGRESS COMMITTEE\",\"Parties\\u002fPRESIDENT, ALL INDIA CONGRESS COMMITTEE\",\"Parties\\u002fBHARATIYA JANATA PARTY\",\"Parties\\u002fPRESIDENT, ALL INDIA CONGRESS COMMITTEE\",\"Parties\\u002fAAM AADMI PARTY\",\"Parties\\u002fALL INDIA TRINAMOOL CONGRESS\",\"Parties\\u002fPRESIDENT, ALL INDIA CONGRESS COMMITTEE\",\"Parties\\u002fALL INDIA TRINAMOOL CONGRESS\",\"Parties\\u002fPRESIDENT, ALL INDIA CONGRESS COMMITTEE\",\"Parties\\u002fALL INDIA TRINAMOOL CONGRESS\",\"Parties\\u002fBHARAT RASHTRA SAMITHI\",\"Parties\\u002fAAM AADMI PARTY\",\"Parties\\u002fBHARATIYA JANATA PARTY\",\"Parties\\u002fBHARATIYA JANATA PARTY\",\"Parties\\u002fBHARATIYA JANATA PARTY\",\"Parties\\u002fPRESIDENT, ALL INDIA CONGRESS COMMITTEE\",\"Parties\\u002fPRESIDENT, ALL INDIA CONGRESS COMMITTEE\",\"Parties\\u002fRASHTRIYA JANTA DAL\",\"Parties\\u002fBHARATIYA JANATA PARTY\",\"Parties\\u002fBHARAT RASHTRA SAMITHI\",\"Parties\\u002fALL INDIA TRINAMOOL CONGRESS\",\"Parties\\u002fYSR  CONGRESS PARTY  (YUVAJANA SRAMIKA RYTHU CONGRESS PARTY)\",\"Parties\\u002fBHARATIYA JANATA PARTY\",\"Parties\\u002fBHARATIYA JANATA PARTY\",\"Parties\\u002fPRESIDENT, ALL INDIA CONGRESS COMMITTEE\",\"Parties\\u002fBHARATIYA JANATA PARTY\",\"Parties\\u002fBHARATIYA JANATA PARTY\",\"Parties\\u002fBHARATIYA JANATA PARTY\",\"Parties\\u002fPRESIDENT, ALL INDIA CONGRESS COMMITTEE\",\"Parties\\u002fPRESIDENT, ALL INDIA CONGRESS COMMITTEE\",\"Parties\\u002fBHARATIYA JANATA PARTY\",\"Parties\\u002fPRESIDENT, ALL INDIA CONGRESS COMMITTEE\",\"Parties\\u002fBHARATIYA JANATA PARTY\",\"Parties\\u002fPRESIDENT, ALL INDIA CONGRESS COMMITTEE\",\"Parties\\u002fYSR  CONGRESS PARTY  (YUVAJANA SRAMIKA RYTHU CONGRESS PARTY)\",\"Parties\\u002fBHARAT RASHTRA SAMITHI\",\"Parties\\u002fYSR  CONGRESS PARTY  (YUVAJANA SRAMIKA RYTHU CONGRESS PARTY)\",\"Parties\\u002fBHARAT RASHTRA SAMITHI\",\"Parties\\u002fBHARAT RASHTRA SAMITHI\",\"Parties\\u002fBHARAT RASHTRA SAMITHI\",\"Parties\\u002fBHARATIYA JANATA PARTY\",\"Parties\\u002fBHARATIYA JANATA PARTY\",\"Parties\\u002fBHARAT RASHTRA SAMITHI\",\"Parties\\u002fALL INDIA TRINAMOOL CONGRESS\",\"Parties\\u002fBHARATIYA JANATA PARTY\",\"Parties\\u002fYSR  CONGRESS PARTY  (YUVAJANA SRAMIKA RYTHU CONGRESS PARTY)\",\"Parties\\u002fALL INDIA TRINAMOOL CONGRESS\",\"Parties\\u002fRASHTRIYA JANTA DAL\",\"Parties\\u002fBHARATIYA JANATA PARTY\",\"Parties\\u002fPRESIDENT, ALL INDIA CONGRESS COMMITTEE\",\"Parties\\u002fTELUGU DESAM PARTY\",\"Parties\\u002fPRESIDENT, ALL INDIA CONGRESS COMMITTEE\",\"Parties\\u002fNATIONALIST CONGRESS PARTY MAHARASHTRA PRADESH\",\"Parties\\u002fPRESIDENT, ALL INDIA CONGRESS COMMITTEE\",\"Parties\\u002fBHARATIYA JANATA PARTY\",\"Parties\\u002fBHARATIYA JANATA PARTY\",\"Parties\\u002fBHARATIYA JANATA PARTY\",\"Parties\\u002fBHARATIYA JANATA PARTY\",\"Parties\\u002fBHARATIYA JANATA PARTY\",\"Parties\\u002fBHARATIYA JANATA PARTY\",\"Parties\\u002fTELUGU DESAM PARTY\",\"Parties\\u002fBHARATIYA JANATA PARTY\",\"Parties\\u002fALL INDIA TRINAMOOL CONGRESS\",\"Parties\\u002fBHARATIYA JANATA PARTY\",\"Parties\\u002fPRESIDENT, ALL INDIA CONGRESS COMMITTEE\",\"Parties\\u002fBHARATIYA JANATA PARTY\",\"Parties\\u002fPRESIDENT, ALL INDIA CONGRESS COMMITTEE\",\"Parties\\u002fBIHAR PRADESH JANTA DAL(UNITED)\",\"Parties\\u002fPRESIDENT, ALL INDIA CONGRESS COMMITTEE\",\"Parties\\u002fRASHTRIYA JANTA DAL\",\"Parties\\u002fALL INDIA TRINAMOOL CONGRESS\",\"Parties\\u002fJHARKHAND MUKTI MORCHA\",\"Parties\\u002fPRESIDENT, ALL INDIA CONGRESS COMMITTEE\",\"Parties\\u002fALL INDIA TRINAMOOL CONGRESS\",\"Parties\\u002fYSR  CONGRESS PARTY  (YUVAJANA SRAMIKA RYTHU CONGRESS PARTY)\",\"Parties\\u002fBHARAT RASHTRA SAMITHI\",\"Parties\\u002fBHARATIYA JANATA PARTY\",\"Parties\\u002fBIJU JANATA DAL\",\"Parties\\u002fBIJU JANATA DAL\",\"Parties\\u002fALL INDIA TRINAMOOL CONGRESS\",\"Parties\\u002fBHARATIYA JANATA PARTY\",\"Parties\\u002fMAHARASHTRAWADI GOMNTAK PARTY\",\"Parties\\u002fPRESIDENT, ALL INDIA CONGRESS COMMITTEE\",\"Parties\\u002fBHARATIYA JANATA PARTY\",\"Parties\\u002fPRESIDENT, ALL INDIA CONGRESS COMMITTEE\",\"Parties\\u002fBHARATIYA JANATA PARTY\",\"Parties\\u002fBHARAT RASHTRA SAMITHI\",\"Parties\\u002fBHARAT RASHTRA SAMITHI\",\"Parties\\u002fPRESIDENT, ALL INDIA CONGRESS COMMITTEE\",\"Parties\\u002fPRESIDENT, ALL INDIA CONGRESS COMMITTEE\",\"Parties\\u002fALL INDIA TRINAMOOL CONGRESS\",\"Parties\\u002fPRESIDENT, ALL INDIA CONGRESS COMMITTEE\",\"Parties\\u002fJANATA DAL ( SECULAR )\",\"Parties\\u002fALL INDIA TRINAMOOL CONGRESS\",\"Parties\\u002fBHARAT RASHTRA SAMITHI\",\"Parties\\u002fBIJU JANATA DAL\",\"Parties\\u002fALL INDIA TRINAMOOL CONGRESS\",\"Parties\\u002fBHARATIYA JANATA PARTY\",\"Parties\\u002fSHIVSENA\",\"Parties\\u002fPRESIDENT, ALL INDIA CONGRESS COMMITTEE\",\"Parties\\u002fYSR  CONGRESS PARTY  (YUVAJANA SRAMIKA RYTHU CONGRESS PARTY)\",\"Parties\\u002fYSR  CONGRESS PARTY  (YUVAJANA SRAMIKA RYTHU CONGRESS PARTY)\",\"Parties\\u002fALL INDIA TRINAMOOL CONGRESS\",\"Parties\\u002fPRESIDENT, ALL INDIA CONGRESS COMMITTEE\",\"Parties\\u002fBHARATIYA JANATA PARTY\",\"Parties\\u002fTELUGU DESAM PARTY\",\"Parties\\u002fTELUGU DESAM PARTY\",\"Parties\\u002fBHARATIYA JANATA PARTY\",\"Parties\\u002fBHARAT RASHTRA SAMITHI\",\"Parties\\u002fPRESIDENT, ALL INDIA CONGRESS COMMITTEE\",\"Parties\\u002fBHARATIYA JANATA PARTY\",\"Parties\\u002fYSR  CONGRESS PARTY  (YUVAJANA SRAMIKA RYTHU CONGRESS PARTY)\",\"Parties\\u002fBHARATIYA JANATA PARTY\",\"Parties\\u002fBHARATIYA JANATA PARTY\",\"Parties\\u002fBHARAT RASHTRA SAMITHI\",\"Parties\\u002fBHARATIYA JANATA PARTY\",\"Parties\\u002fBHARATIYA JANATA PARTY\",\"Parties\\u002fBHARATIYA JANATA PARTY\",\"Parties\\u002fBHARATIYA JANATA PARTY\",\"Parties\\u002fTELUGU DESAM PARTY\",\"Parties\\u002fBHARATIYA JANATA PARTY\",\"Parties\\u002fALL INDIA TRINAMOOL CONGRESS\",\"Parties\\u002fDRAVIDA MUNNETRA KAZHAGAM (DMK)\",\"Parties\\u002fBHARATIYA JANATA PARTY\",\"Parties\\u002fBHARATIYA JANATA PARTY\",\"Parties\\u002fALL INDIA TRINAMOOL CONGRESS\",\"Parties\\u002fAAM AADMI PARTY\",\"Parties\\u002fPRESIDENT, ALL INDIA CONGRESS COMMITTEE\",\"Parties\\u002fBHARATIYA JANATA PARTY\",\"Parties\\u002fBHARAT RASHTRA SAMITHI\",\"Parties\\u002fPRESIDENT, ALL INDIA CONGRESS COMMITTEE\",\"Parties\\u002fPRESIDENT, ALL INDIA CONGRESS COMMITTEE\",\"Parties\\u002fTELUGU DESAM PARTY\",\"Parties\\u002fPRESIDENT, ALL INDIA CONGRESS COMMITTEE\",\"Parties\\u002fJANASENA PARTY\",\"Parties\\u002fTELUGU DESAM PARTY\",\"Parties\\u002fBHARAT RASHTRA SAMITHI\",\"Parties\\u002fBHARAT RASHTRA SAMITHI\",\"Parties\\u002fBHARATIYA JANATA PARTY\",\"Parties\\u002fPRESIDENT, ALL INDIA CONGRESS COMMITTEE\",\"Parties\\u002fBHARAT RASHTRA SAMITHI\",\"Parties\\u002fBHARAT RASHTRA SAMITHI\",\"Parties\\u002fTELUGU DESAM PARTY\",\"Parties\\u002fBHARATIYA JANATA PARTY\",\"Parties\\u002fPRESIDENT, ALL INDIA CONGRESS COMMITTEE\",\"Parties\\u002fTELUGU DESAM PARTY\",\"Parties\\u002fBHARAT RASHTRA SAMITHI\",\"Parties\\u002fBHARAT RASHTRA SAMITHI\",\"Parties\\u002fBHARAT RASHTRA SAMITHI\",\"Parties\\u002fPRESIDENT, ALL INDIA CONGRESS COMMITTEE\",\"Parties\\u002fBHARAT RASHTRA SAMITHI\",\"Parties\\u002fBHARAT RASHTRA SAMITHI\",\"Parties\\u002fALL INDIA TRINAMOOL CONGRESS\",\"Parties\\u002fBHARATIYA JANATA PARTY\",\"Parties\\u002fBHARATIYA JANATA PARTY\",\"Parties\\u002fPRESIDENT, ALL INDIA CONGRESS COMMITTEE\",\"Parties\\u002fPRESIDENT, ALL INDIA CONGRESS COMMITTEE\",\"Parties\\u002fBHARATIYA JANATA PARTY\",\"Parties\\u002fTELUGU DESAM PARTY\",\"Parties\\u002fALL INDIA TRINAMOOL CONGRESS\",\"Parties\\u002fBHARATIYA JANATA PARTY\",\"Parties\\u002fPRESIDENT, ALL INDIA CONGRESS COMMITTEE\",\"Parties\\u002fSHIVSENA\",\"Parties\\u002fALL INDIA TRINAMOOL CONGRESS\",\"Parties\\u002fALL INDIA TRINAMOOL CONGRESS\",\"Parties\\u002fPRESIDENT, ALL INDIA CONGRESS COMMITTEE\",\"Parties\\u002fBHARATIYA JANATA PARTY\",\"Parties\\u002fDRAVIDA MUNNETRA KAZHAGAM (DMK)\",\"Parties\\u002fBHARATIYA JANATA PARTY\",\"Parties\\u002fPRESIDENT, ALL INDIA CONGRESS COMMITTEE\",\"Parties\\u002fBHARATIYA JANATA PARTY\",\"Parties\\u002fBHARATIYA JANATA PARTY\",\"Parties\\u002fBHARAT RASHTRA SAMITHI\",\"Parties\\u002fBHARATIYA JANATA PARTY\",\"Parties\\u002fBHARATIYA JANATA PARTY\",\"Parties\\u002fBHARATIYA JANATA PARTY\",\"Parties\\u002fBHARAT RASHTRA SAMITHI\",\"Parties\\u002fAAM AADMI PARTY\",\"Parties\\u002fALL INDIA TRINAMOOL CONGRESS\",\"Parties\\u002fBHARAT RASHTRA SAMITHI\",\"Parties\\u002fPRESIDENT, ALL INDIA CONGRESS COMMITTEE\",\"Parties\\u002fALL INDIA TRINAMOOL CONGRESS\",\"Parties\\u002fPRESIDENT, ALL INDIA CONGRESS COMMITTEE\",\"Parties\\u002fPRESIDENT, ALL INDIA CONGRESS COMMITTEE\",\"Parties\\u002fPRESIDENT, ALL INDIA CONGRESS COMMITTEE\",\"Parties\\u002fBHARATIYA JANATA PARTY\",\"Parties\\u002fBHARAT RASHTRA SAMITHI\",\"Parties\\u002fBHARATIYA JANATA PARTY\",\"Parties\\u002fBHARATIYA JANATA PARTY\",\"Parties\\u002fPRESIDENT, ALL INDIA CONGRESS COMMITTEE\",\"Parties\\u002fALL INDIA TRINAMOOL CONGRESS\",\"Parties\\u002fBHARAT RASHTRA SAMITHI\",\"Parties\\u002fBHARATIYA JANATA PARTY\",\"Parties\\u002fBHARATIYA JANATA PARTY\",\"Parties\\u002fALL INDIA TRINAMOOL CONGRESS\",\"Parties\\u002fSHIVSENA\",\"Parties\\u002fYSR  CONGRESS PARTY  (YUVAJANA SRAMIKA RYTHU CONGRESS PARTY)\",\"Parties\\u002fBHARATIYA JANATA PARTY\",\"Parties\\u002fBHARAT RASHTRA SAMITHI\",\"Parties\\u002fYSR  CONGRESS PARTY  (YUVAJANA SRAMIKA RYTHU CONGRESS PARTY)\",\"Parties\\u002fPRESIDENT, ALL INDIA CONGRESS COMMITTEE\",\"Parties\\u002fPRESIDENT, ALL INDIA CONGRESS COMMITTEE\",\"Parties\\u002fBHARATIYA JANATA PARTY\",\"Parties\\u002fPRESIDENT, ALL INDIA CONGRESS COMMITTEE\",\"Parties\\u002fBHARATIYA JANATA PARTY\",\"Parties\\u002fBHARATIYA JANATA PARTY\",\"Parties\\u002fAAM AADMI PARTY\",\"Parties\\u002fALL INDIA TRINAMOOL CONGRESS\",\"Parties\\u002fBHARATIYA JANATA PARTY\",\"Parties\\u002fTELUGU DESAM PARTY\",\"Parties\\u002fBHARAT RASHTRA SAMITHI\",\"Parties\\u002fBHARATIYA JANATA PARTY\",\"Parties\\u002fBHARATIYA JANATA PARTY\",\"Parties\\u002fBHARATIYA JANATA PARTY\",\"Parties\\u002fBHARAT RASHTRA SAMITHI\",\"Parties\\u002fBHARATIYA JANATA PARTY\",\"Parties\\u002fBHARATIYA JANATA PARTY\",\"Parties\\u002fBHARAT RASHTRA SAMITHI\",\"Parties\\u002fDRAVIDA MUNNETRA KAZHAGAM (DMK)\",\"Parties\\u002fBIJU JANATA DAL\",\"Parties\\u002fBHARATIYA JANATA PARTY\",\"Parties\\u002fTELUGU DESAM PARTY\",\"Parties\\u002fYSR  CONGRESS PARTY  (YUVAJANA SRAMIKA RYTHU CONGRESS PARTY)\",\"Parties\\u002fPRESIDENT, ALL INDIA CONGRESS COMMITTEE\",\"Parties\\u002fBHARATIYA JANATA PARTY\",\"Parties\\u002fPRESIDENT, ALL INDIA CONGRESS COMMITTEE\",\"Parties\\u002fDRAVIDA MUNNETRA KAZHAGAM (DMK)\",\"Parties\\u002fBIJU JANATA DAL\",\"Parties\\u002fJHARKHAND MUKTI MORCHA\",\"Parties\\u002fALL INDIA TRINAMOOL CONGRESS\",\"Parties\\u002fALL INDIA TRINAMOOL CONGRESS\",\"Parties\\u002fBHARAT RASHTRA SAMITHI\",\"Parties\\u002fAAM AADMI PARTY\",\"Parties\\u002fBHARATIYA JANATA PARTY\",\"Parties\\u002fNATIONALIST CONGRESS PARTY MAHARASHTRA PRADESH\",\"Parties\\u002fPRESIDENT, ALL INDIA CONGRESS COMMITTEE\",\"Parties\\u002fSHIVSENA\",\"Parties\\u002fAAM AADMI PARTY\",\"Parties\\u002fBHARATIYA JANATA PARTY\",\"Parties\\u002fPRESIDENT, ALL INDIA CONGRESS COMMITTEE\",\"Parties\\u002fADYAKSHA SAMAJVADI PARTY\",\"Parties\\u002fBHARATIYA JANATA PARTY\",\"Parties\\u002fSIKKIM DEMOCRATIC FRONT\",\"Parties\\u002fSIKKIM KRANTIKARI MORCHA\",\"Parties\\u002fAAM AADMI PARTY\",\"Parties\\u002fBHARATIYA JANATA PARTY\",\"Parties\\u002fPRESIDENT, ALL INDIA CONGRESS COMMITTEE\",\"Parties\\u002fAAM AADMI PARTY\",\"Parties\\u002fALL INDIA TRINAMOOL CONGRESS\",\"Parties\\u002fPRESIDENT, ALL INDIA CONGRESS COMMITTEE\",\"Parties\\u002fALL INDIA TRINAMOOL CONGRESS\",\"Parties\\u002fBHARATIYA JANATA PARTY\",\"Parties\\u002fYSR  CONGRESS PARTY  (YUVAJANA SRAMIKA RYTHU CONGRESS PARTY)\",\"Parties\\u002fPRESIDENT, ALL INDIA CONGRESS COMMITTEE\",\"Parties\\u002fBHARATIYA JANATA PARTY\",\"Parties\\u002fPRESIDENT, ALL INDIA CONGRESS COMMITTEE\",\"Parties\\u002fPRESIDENT, ALL INDIA CONGRESS COMMITTEE\",\"Parties\\u002fTELUGU DESAM PARTY\",\"Parties\\u002fBHARAT RASHTRA SAMITHI\",\"Parties\\u002fBHARAT RASHTRA SAMITHI\",\"Parties\\u002fBHARAT RASHTRA SAMITHI\",\"Parties\\u002fALL INDIA TRINAMOOL CONGRESS\",\"Parties\\u002fBHARATIYA JANATA PARTY\",\"Parties\\u002fBHARATIYA JANATA PARTY\",\"Parties\\u002fBHARATIYA JANATA PARTY\",\"Parties\\u002fSHIVSENA\",\"Parties\\u002fBHARATIYA JANATA PARTY\",\"Parties\\u002fBIJU JANATA DAL\",\"Parties\\u002fBHARATIYA JANATA PARTY\",\"Parties\\u002fPRESIDENT, ALL INDIA CONGRESS COMMITTEE\",\"Parties\\u002fBHARATIYA JANATA PARTY\",\"Parties\\u002fBHARATIYA JANATA PARTY\",\"Parties\\u002fBHARATIYA JANATA PARTY\",\"Parties\\u002fBHARATIYA JANATA PARTY\",\"Parties\\u002fBHARATIYA JANATA PARTY\",\"Parties\\u002fBHARATIYA JANATA PARTY\",\"Parties\\u002fYSR  CONGRESS PARTY  (YUVAJANA SRAMIKA RYTHU CONGRESS PARTY)\",\"Parties\\u002fBHARATIYA JANATA PARTY\",\"Parties\\u002fBHARATIYA JANATA PARTY\",\"Parties\\u002fBIJU JANATA DAL\",\"Parties\\u002fPRESIDENT, ALL INDIA CONGRESS COMMITTEE\",\"Parties\\u002fBIJU JANATA DAL\",\"Parties\\u002fPRESIDENT, ALL INDIA CONGRESS COMMITTEE\",\"Parties\\u002fALL INDIA TRINAMOOL CONGRESS\",\"Parties\\u002fALL INDIA TRINAMOOL CONGRESS\",\"Parties\\u002fPRESIDENT, ALL INDIA CONGRESS COMMITTEE\",\"Parties\\u002fBHARAT RASHTRA SAMITHI\",\"Parties\\u002fALL INDIA TRINAMOOL CONGRESS\",\"Parties\\u002fBHARATIYA JANATA PARTY\",\"Parties\\u002fPRESIDENT, ALL INDIA CONGRESS COMMITTEE\",\"Parties\\u002fAAM AADMI PARTY\",\"Parties\\u002fALL INDIA TRINAMOOL CONGRESS\",\"Parties\\u002fBHARATIYA JANATA PARTY\",\"Parties\\u002fGOA FORWARD PARTY\",\"Parties\\u002fMAHARASHTRAWADI GOMNTAK PARTY\",\"Parties\\u002fNATIONALIST CONGRESS PARTY MAHARASHTRA PRADESH\",\"Parties\\u002fPRESIDENT, ALL INDIA CONGRESS COMMITTEE\",\"Parties\\u002fBHARATIYA JANATA PARTY\",\"Parties\\u002fBHARATIYA JANATA PARTY\",\"Parties\\u002fALL INDIA TRINAMOOL CONGRESS\",\"Parties\\u002fPRESIDENT, ALL INDIA CONGRESS COMMITTEE\",\"Parties\\u002fJANASENA PARTY\",\"Parties\\u002fSHIVSENA\",\"Parties\\u002fBHARAT RASHTRA SAMITHI\",\"Parties\\u002fBHARAT RASHTRA SAMITHI\",\"Parties\\u002fBHARAT RASHTRA SAMITHI\",\"Parties\\u002fALL INDIA TRINAMOOL CONGRESS\",\"Parties\\u002fYSR  CONGRESS PARTY  (YUVAJANA SRAMIKA RYTHU CONGRESS PARTY)\",\"Parties\\u002fALL INDIA TRINAMOOL CONGRESS\",\"Parties\\u002fBHARATIYA JANATA PARTY\",\"Parties\\u002fPRESIDENT, ALL INDIA CONGRESS COMMITTEE\",\"Parties\\u002fAAM AADMI PARTY\",\"Parties\\u002fBHARATIYA JANATA PARTY\",\"Parties\\u002fSHIROMANI AKALI DAL\",\"Parties\\u002fBHARAT RASHTRA SAMITHI\",\"Parties\\u002fBHARAT RASHTRA SAMITHI\",\"Parties\\u002fBHARATIYA JANATA PARTY\",\"Parties\\u002fBHARAT RASHTRA SAMITHI\",\"Parties\\u002fYSR  CONGRESS PARTY  (YUVAJANA SRAMIKA RYTHU CONGRESS PARTY)\",\"Parties\\u002fBHARATIYA JANATA PARTY\",\"Parties\\u002fBIJU JANATA DAL\",\"Parties\\u002fJHARKHAND MUKTI MORCHA\",\"Parties\\u002fPRESIDENT, ALL INDIA CONGRESS COMMITTEE\",\"Parties\\u002fALL INDIA TRINAMOOL CONGRESS\",\"Parties\\u002fBHARATIYA JANATA PARTY\",\"Parties\\u002fPRESIDENT, ALL INDIA CONGRESS COMMITTEE\",\"Parties\\u002fPRESIDENT, ALL INDIA CONGRESS COMMITTEE\",\"Parties\\u002fBHARAT RASHTRA SAMITHI\",\"Parties\\u002fPRESIDENT, ALL INDIA CONGRESS COMMITTEE\",\"Parties\\u002fBHARAT RASHTRA SAMITHI\",\"Parties\\u002fBHARAT RASHTRA SAMITHI\",\"Parties\\u002fALL INDIA TRINAMOOL CONGRESS\",\"Parties\\u002fBHARAT RASHTRA SAMITHI\",\"Parties\\u002fBHARATIYA JANATA PARTY\",\"Parties\\u002fPRESIDENT, ALL INDIA CONGRESS COMMITTEE\",\"Parties\\u002fTELUGU DESAM PARTY\",\"Parties\\u002fALL INDIA TRINAMOOL CONGRESS\",\"Parties\\u002fBHARATIYA JANATA PARTY\",\"Parties\\u002fPRESIDENT, ALL INDIA CONGRESS COMMITTEE\",\"Parties\\u002fBIJU JANATA DAL\",\"Parties\\u002fSHIROMANI AKALI DAL\",\"Parties\\u002fALL INDIA TRINAMOOL CONGRESS\",\"Parties\\u002fRASHTRIYA JANTA DAL\",\"Parties\\u002fPRESIDENT, ALL INDIA CONGRESS COMMITTEE\",\"Parties\\u002fALL INDIA TRINAMOOL CONGRESS\",\"Parties\\u002fPRESIDENT, ALL INDIA CONGRESS COMMITTEE\",\"Parties\\u002fBHARATIYA JANATA PARTY\",\"Parties\\u002fALL INDIA TRINAMOOL CONGRESS\",\"Parties\\u002fBHARATIYA JANATA PARTY\",\"Parties\\u002fPRESIDENT, ALL INDIA CONGRESS COMMITTEE\",\"Parties\\u002fBHARATIYA JANATA PARTY\",\"Parties\\u002fBHARAT RASHTRA SAMITHI\",\"Parties\\u002fBHARATIYA JANATA PARTY\",\"Parties\\u002fPRESIDENT, ALL INDIA CONGRESS COMMITTEE\",\"Parties\\u002fAAM AADMI PARTY\",\"Parties\\u002fALL INDIA TRINAMOOL CONGRESS\",\"Parties\\u002fBHARATIYA JANATA PARTY\",\"Parties\\u002fALL INDIA TRINAMOOL CONGRESS\",\"Parties\\u002fAAM AADMI PARTY\",\"Parties\\u002fPRESIDENT, ALL INDIA CONGRESS COMMITTEE\",\"Parties\\u002fPRESIDENT, ALL INDIA CONGRESS COMMITTEE\",\"Parties\\u002fYSR  CONGRESS PARTY  (YUVAJANA SRAMIKA RYTHU CONGRESS PARTY)\",\"Parties\\u002fYSR  CONGRESS PARTY  (YUVAJANA SRAMIKA RYTHU CONGRESS PARTY)\",\"Parties\\u002fALL INDIA TRINAMOOL CONGRESS\",\"Parties\\u002fBIJU JANATA DAL\",\"Parties\\u002fPRESIDENT, ALL INDIA CONGRESS COMMITTEE\",\"Parties\\u002fBHARAT RASHTRA SAMITHI\",\"Parties\\u002fBHARATIYA JANATA PARTY\",\"Parties\\u002fALL INDIA TRINAMOOL CONGRESS\",\"Parties\\u002fPRESIDENT, ALL INDIA CONGRESS COMMITTEE\",\"Parties\\u002fBHARAT RASHTRA SAMITHI\",\"Parties\\u002fPRESIDENT, ALL INDIA CONGRESS COMMITTEE\",\"Parties\\u002fBHARATIYA JANATA PARTY\",\"Parties\\u002fPRESIDENT, ALL INDIA CONGRESS COMMITTEE\",\"Parties\\u002fALL INDIA TRINAMOOL CONGRESS\",\"Parties\\u002fBHARATIYA JANATA PARTY\",\"Parties\\u002fBHARATIYA JANATA PARTY\",\"Parties\\u002fBHARATIYA JANATA PARTY\",\"Parties\\u002fBHARATIYA JANATA PARTY\",\"Parties\\u002fBHARATIYA JANATA PARTY\",\"Parties\\u002fPRESIDENT, ALL INDIA CONGRESS COMMITTEE\",\"Parties\\u002fBHARATIYA JANATA PARTY\",\"Parties\\u002fPRESIDENT, ALL INDIA CONGRESS COMMITTEE\",\"Parties\\u002fBHARATIYA JANATA PARTY\",\"Parties\\u002fBHARAT RASHTRA SAMITHI\",\"Parties\\u002fBHARATIYA JANATA PARTY\",\"Parties\\u002fJANASENA PARTY\",\"Parties\\u002fPRESIDENT, ALL INDIA CONGRESS COMMITTEE\",\"Parties\\u002fTELUGU DESAM PARTY\",\"Parties\\u002fALL INDIA TRINAMOOL CONGRESS\",\"Parties\\u002fDRAVIDA MUNNETRA KAZHAGAM (DMK)\",\"Parties\\u002fRASHTRIYA JANTA DAL\",\"Parties\\u002fPRESIDENT, ALL INDIA CONGRESS COMMITTEE\",\"Parties\\u002fBHARATIYA JANATA PARTY\",\"Parties\\u002fPRESIDENT, ALL INDIA CONGRESS COMMITTEE\",\"Parties\\u002fPRESIDENT, ALL INDIA CONGRESS COMMITTEE\",\"Parties\\u002fPRESIDENT, ALL INDIA CONGRESS COMMITTEE\",\"Parties\\u002fALL INDIA TRINAMOOL CONGRESS\",\"Parties\\u002fBHARATIYA JANATA PARTY\",\"Parties\\u002fAAM AADMI PARTY\",\"Parties\\u002fBHARAT RASHTRA SAMITHI\",\"Parties\\u002fBHARATIYA JANATA PARTY\",\"Parties\\u002fPRESIDENT, ALL INDIA CONGRESS COMMITTEE\",\"Parties\\u002fYSR  CONGRESS PARTY  (YUVAJANA SRAMIKA RYTHU CONGRESS PARTY)\",\"Parties\\u002fBHARAT RASHTRA SAMITHI\",\"Parties\\u002fPRESIDENT, ALL INDIA CONGRESS COMMITTEE\",\"Parties\\u002fBHARATIYA JANATA PARTY\",\"Parties\\u002fPRESIDENT, ALL INDIA CONGRESS COMMITTEE\",\"Parties\\u002fALL INDIA TRINAMOOL CONGRESS\",\"Parties\\u002fPRESIDENT, ALL INDIA CONGRESS COMMITTEE\",\"Parties\\u002fBHARAT RASHTRA SAMITHI\",\"Parties\\u002fSHIVSENA\",\"Parties\\u002fBHARATIYA JANATA PARTY\",\"Parties\\u002fYSR  CONGRESS PARTY  (YUVAJANA SRAMIKA RYTHU CONGRESS PARTY)\",\"Parties\\u002fBHARAT RASHTRA SAMITHI\",\"Parties\\u002fBHARATIYA JANATA PARTY\",\"Parties\\u002fPRESIDENT, ALL INDIA CONGRESS COMMITTEE\",\"Parties\\u002fSIKKIM KRANTIKARI MORCHA\",\"Parties\",\"Parties\",\"Parties\",\"Parties\",\"Parties\",\"Parties\",\"Parties\",\"Parties\",\"Parties\",\"Parties\",\"Parties\",\"Parties\",\"Parties\",\"Parties\",\"Parties\",\"Parties\",\"Parties\",\"Parties\",\"Parties\",\"Parties\",\"Parties\",\"Parties\",\"Parties\",\"\"],\"values\":[10000000.0,4000000.0,1000000.0,10000000.0,20000000.0,10000000.0,20000000.0,3000000.0,2000000.0,5000000.0,20000000.0,5000000.0,40000000.0,10000000.0,12000000.0,85000000.0,200000.0,1000000.0,400000.0,1000000.0,10500000.0,32000000.0,5000000.0,100000000.0,2500000.0,100000000.0,500000.0,40000000.0,10000000.0,2500000.0,10000000.0,17500000.0,3000000.0,20000000.0,25000000.0,50000000.0,30000000.0,10000000.0,40000000.0,50000000.0,25000000.0,5000000.0,200000.0,150000000.0,50000000.0,500000.0,102000000.0,150000000.0,10000000.0,10000000.0,20000000.0,3000000.0,1500000.0,34000000.0,1000000.0,500000.0,25000000.0,20000000.0,10000000.0,10000000.0,5000000.0,7500000.0,100000.0,200000.0,1500000.0,100000.0,300000.0,75000.0,800000.0,1000000.0,1000000.0,20000000.0,10000000.0,20000000.0,25000000.0,2900000.0,900000.0,500000.0,1300000.0,20000000.0,82000000.0,5000000.0,100000.0,1000000.0,300000.0,10000000.0,800000.0,600000.0,150000000.0,150000000.0,100000000.0,100000000.0,100000000.0,100000000.0,30000000.0,10000000.0,80000000.0,150000000.0,30000000.0,1000.0,5000000.0,9000000.0,40000000.0,4000000.0,50000000.0,45000000.0,10000000.0,100000.0,100000.0,700000.0,11000000.0,30000000.0,60000000.0,30000000.0,40000000.0,1000000.0,2000000.0,600000.0,30000000.0,1000000.0,100000.0,200000.0,2000000.0,20000000.0,50000000.0,40000000.0,10000000.0,45000000.0,5000000.0,45000000.0,50000000.0,50000000.0,20000000.0,300000.0,60000000.0,90000000.0,70000000.0,20000000.0,100000000.0,700000.0,50000000.0,150000000.0,315000000.0,25000000.0,30000000.0,13000000.0,4000000.0,250000000.0,240000000.0,30000000.0,100000000.0,215000000.0,10000000.0,530000000.0,1000000.0,1000000.0,30000000.0,14000000.0,50000000.0,30000000.0,300000.0,300000000.0,20000000.0,850000000.0,1000000.0,10000000.0,10000000.0,10000000.0,50000000.0,80000000.0,100000000.0,200000000.0,100000000.0,10000000.0,20000000.0,45000000.0,15000000.0,40000000.0,100000000.0,60000000.0,4000000.0,5000000.0,5000000.0,7200000.0,200000.0,2500000.0,2000000.0,150000.0,10000000.0,113210000.0,10000000.0,20000000.0,30000000.0,40000000.0,10000000.0,25000000.0,40000000.0,100000000.0,10000000.0,5000000.0,10000000.0,768000.0,10000000.0,10000000.0,600000.0,100000000.0,1830000000.0,144000000.0,5000000.0,1000000.0,20000000.0,10000000.0,80000000.0,10000000.0,370000000.0,10000000.0,500000.0,50000.0,500000.0,25000000.0,1000000.0,400000.0,1000000.0,2000000.0,500000.0,50000000.0,50000000.0,100000000.0,20000000.0,1050000000.0,20000000.0,1000000.0,10000000.0,200000000.0,50000000.0,20000000.0,2000000.0,900000.0,26000000.0,10000000.0,10000000.0,5000000.0,50000000.0,100000000.0,2000000.0,15000000.0,3500000.0,6000000.0,2500000.0,2500000.0,50000000.0,10000000.0,55000000.0,10000000.0,70000000.0,20000000.0,25000000.0,20000000.0,32500000.0,20000000.0,30000000.0,20000000.0,6500000.0,68000000.0,7000000.0,8500000.0,60000000.0,10000000.0,200000.0,6000000.0,3000000.0,9000000.0,5000000.0,500000.0,150000.0,200000000.0,100000000.0,2000000.0,10000000.0,400000000.0,500000000.0,150000000.0,150000.0,10000000.0,20000000.0,2000000.0,50000000.0,10000000.0,2000000.0,12000000.0,3000000.0,5000000.0,300000000.0,22000000.0,70000000.0,3500000.0,9500000.0,25000000.0,80000000.0,2500000.0,9600000.0,330000000.0,10000000.0,20000000.0,15000000.0,12500000.0,10000000.0,200000.0,10000000.0,55000000.0,100000000.0,7500000.0,30000000.0,30000000.0,50000000.0,50000000.0,10000000.0,2000000.0,20000000.0,25000000.0,50000000.0,25000000.0,50000000.0,50000000.0,3000000.0,2000000.0,100000.0,300000.0,600000.0,5000000.0,500000.0,1000000.0,500000.0,50000000.0,50000000.0,15000000.0,10000000.0,10000000.0,10000000.0,10000000.0,5000000.0,10000000.0,1268000.0,20000000.0,500000.0,3000000.0,7000000.0,900000000.0,250000000.0,1000000.0,620000.0,1500000.0,150000000.0,20000000.0,1915000.0,30000000.0,300000.0,500000.0,5500000.0,150000000.0,5000000.0,30000000.0,8500000.0,6000000.0,200000000.0,300000000.0,50000000.0,7000000.0,5000000.0,10000000.0,10000000.0,10000000.0,10000000.0,20000000.0,2500000.0,1300000000.0,150000000.0,250000000.0,10000000.0,8000000.0,10000000.0,30000000.0,1000000.0,2000000.0,2500000.0,320000000.0,240000000.0,140000000.0,100000000.0,2800000.0,2200000.0,10000000.0,40000000.0,10000000.0,20000000.0,10000000.0,20000000.0,20000000.0,5000000.0,100000000.0,100000000.0,500000000.0,1745000000.0,5000000.0,150000000.0,2000000.0,50000000.0,60000000.0,7000000.0,50000000.0,5000000.0,50000000.0,50000000.0,180000000.0,20000000.0,3800000.0,10000000.0,63500000.0,10000000.0,5000000.0,2000000.0,10000000.0,20000000.0,4350000000.0,1000000000.0,4530000000.0,500000000.0,50000000.0,80000000.0,1540000000.0,450000000.0,500000000.0,620000000.0,30000000.0,50000000.0,500000.0,4000000.0,50000000.0,40000000.0,50000000.0,31000000.0,5000000.0,60000000.0,4000000.0,5000000.0,800000.0,10000000.0,10000000.0,15000000.0,1000000.0,20000000.0,30000000.0,50000000.0,255000000.0,50000000.0,30000000.0,250000.0,750000.0,5000000.0,60000000.0,97500000.0,1000000.0,1000000.0,1000000.0,2000000.0,1000000.0,20000000.0,75000000.0,25000000.0,50000000.0,30000000.0,10000000.0,10000000.0,3000000.0,2000000.0,30000.0,500000.0,500000.0,1000000.0,30000000.0,230000000.0,100000000.0,100000.0,20000000.0,50000000.0,10000000.0,30000000.0,80000000.0,10000000.0,50000000.0,20000000.0,30000000.0,10000000.0,10000000.0,20000000.0,30000000.0,10000000.0,100000000.0,20000000.0,500000.0,2000000.0,2000000.0,20000000.0,50000000.0,50000000.0,2500000.0,2810000000.0,810000000.0,150000000.0,40000000.0,10000000.0,90000000.0,500000.0,10000000.0,768000.0,4000000.0,4000000.0,100000000.0,200000.0,100000.0,125000000.0,2000000.0,45000000.0,5000000.0,700000.0,55000000.0,40000000.0,20000000.0,200000000.0,200000000.0,20000000.0,50000000.0,300000000.0,200000000.0,50000000.0,150000000.0,50000000.0,3000000.0,13000000.0,7000000.0,112000000.0,1000000.0,2000000.0,14000000.0,1500000.0,200000.0,10000000.0,50000000.0,125000000.0,50000000.0,2000000.0,10000000.0,3000000.0,4500000.0,2500000.0,300000000.0,50000000.0,200000000.0,40000000.0,9500000.0,2000000.0,10000000.0,10000000.0,60000000.0,40000000.0,420000000.0,63000000.0,50000000.0,350000000.0,50000000.0,140000000.0,60000000.0,1000000.0,39900000.0,2000000.0,50000000.0,50000000.0,1950000.0,1950000.0,90000000.0,600000000.0,50000000.0,150000000.0,100000000.0,40000000.0,2500000.0,50000000.0,100000000.0,100000000.0,40000000.0,10000000.0,200000000.0,110000000.0,50000000.0,200000000.0,15000000.0,100000000.0,35000000.0,30000000.0,250000000.0,160000000.0,500000.0,1200000.0,49546000.0,16029000.0,10000000.0,10000000.0,50000000.0,50000000.0,7500000.0,100000000.0,105000000.0,40000000.0,4000000.0,5000000.0,6300000.0,9000000.0,3500000.0,500000.0,3300000.0,100000.0,12500000.0,90000000.0,10000000.0,30000000.0,5000000.0,270000000.0,20000000.0,300000000.0,30000000.0,1000000000.0,200000000.0,9990000.0,140000000.0,5000000.0,30000000.0,20000000.0,25000000.0,10000000.0,500000.0,200000.0,10000000.0,1000000.0,104000000.0,1500000.0,2500000.0,50000000.0,2000000.0,5000000.0,25000000.0,4000000.0,2000000.0,250000000.0,180000000.0,20000000.0,10000000.0,35000000.0,255000000.0,25000000.0,3000000.0,20000000.0,15000000.0,2000000.0,500000.0,60000000.0,70000000.0,10000000.0,50000000.0,115000000.0,10000000.0,20000000.0,10000000.0,900000.0,1500000.0,5000000.0,140000000.0,100000000.0,30000000.0,2000000.0,50000000.0,110000000.0,40000000.0,100000000.0,200000000.0,1445000000.0,200000000.0,5000000.0,30000000.0,6000000.0,13000000.0,20000000.0,2500000.0,40000000.0,10000000.0,10000000.0,20000000.0,1100000.0,3000000.0,25000000.0,1000000.0,2000000.0,90000000.0,160000000.0,2000000.0,10000000.0,100000000.0,45000000.0,1990000.0,500000.0,200000000.0,2000000.0,30000000.0,3000000.0,1500000.0,40000000.0,10000000.0,220000000.0,20000000.0,30000000.0,350000000.0,5000000.0,50000000.0,25000000.0,20000000.0,400000000.0,27050000.0,1400000.0,7100000.0,12100000.0,24400000.0,250000000.0,315000000.0,1000000.0,4000000.0,10000000.0,10000000.0,2000000.0,1990000.0,45000000.0,30000000.0,10000000.0,200000000.0,20000000.0,20000000.0,180000000.0,3830000.0,1500000.0,33000000.0,5000000.0,2100000.0,5000000.0,23000000.0,20000000.0,35000000.0,75000000.0,4000000.0,1000000.0,140000000.0,200000000.0,50000000.0,2000000.0,1755000000.0,100000000.0,200000.0,2500000.0,60000000.0,30000000.0,35000000.0,15000000.0,25000000.0,10000000.0,25000000.0,3000000.0,2500000.0,5000000.0,250000000.0,20000000.0,5000000.0,400000.0,200000.0,400000.0,1000000.0,5000000.0,2000000.0,240000000.0,6000000.0,450000.0,12000000.0,10000000.0,20000000.0,20000000.0,10000000.0,1436000.0,50000000.0,5006000.0,30000000.0,23000000.0,200000000.0,50000000.0,6000000.0,18000000.0,450000000.0,50000000.0,250000000.0,1500000000.0,5190000000.0,600000000.0,40000000.0,50000000.0,180000000.0,280000000.0,370000000.0,600000000.0,100000000.0,5000000.0,2500000.0,90000000.0,70000000.0,60000000.0,30000000.0,10000000.0,5000000.0,10000000.0,4500000.0,1000000.0,140000000.0,10000000.0,70000000.0,185000000.0,100000000.0,125000000.0,100000000.0,10000000.0,693500000.0,274000000.0,144200000.0,222500000.0,50000000.0,50000000.0,25000000.0,50000000.0,50000000.0,20000000.0,60000000.0,400000000.0,140000000.0,20000000.0,2500000.0,50000000.0,70000000.0,66500000.0,20000000.0,10000000.0,5000000.0,500000.0,1500000.0,1000000.0,500000.0,19900000.0,1000000.0,20000000.0,500000.0,3000000.0,4000000.0,3000000.0,4000000.0,1000000.0,900000.0,500000.0,1000000.0,7500000.0,1000000.0,1000000.0,1000000.0,500000.0,1000000.0,16000000.0,450000000.0,1000000.0,100000000.0,20000000.0,200000000.0,60000000.0,10000000.0,30000000.0,25000000.0,600000.0,1500000.0,9000000.0,30000000.0,30000000.0,150000000.0,50000000.0,45000000.0,1500000.0,10000000.0,100000000.0,30000000.0,50000000.0,50000000.0,5000000.0,3000000.0,20000000.0,61800000.0,5000000.0,10000000.0,100000000.0,300000.0,200000.0,40000000.0,5500000.0,100000000.0,20000000.0,100000000.0,130000000.0,50000000.0,122500000.0,140000000.0,30000000.0,5000000.0,2000000.0,40000000.0,200000.0,450000000.0,100000000.0,600000000.0,300000.0,300000.0,250000.0,1000000.0,30000000.0,350000000.0,500000.0,500000.0,20000000.0,7500000.0,1500000.0,2000000.0,30000000.0,130000000.0,20000000.0,4000000.0,250000.0,2500000.0,500000.0,3200000.0,16500000.0,12000000.0,50000000.0,50000000.0,195000000.0,30000000.0,70000000.0,20000000.0,15000000.0,1000000.0,30000000.0,10000000.0,3000000.0,55000000.0,15000000.0,20000000.0,6000000.0,30000000.0,15000000.0,40000000.0,6000000.0,50000000.0,100000000.0,80000000.0,170000000.0,170000000.0,400000.0,5000000.0,20000000.0,32500000.0,10000000.0,900000.0,500000.0,2000000.0,200000.0,10000000.0,10000000.0,1500000.0,2500000.0,5000000.0,60000000.0,10000000.0,5000000.0,300000.0,400000000.0,50000000.0,500000.0,100000000.0,275000000.0,30000000.0,10000000.0,1800000.0,50000000.0,100000000.0,200000000.0,400000000.0,100000000.0,250000000.0,100000000.0,30000000.0,2400000.0,7500000.0,400000.0,300000.0,500000.0,100000000.0,30000000.0,5000000.0,20000000.0,10000000.0,150000.0,35000000.0,200000.0,30000000.0,16580000.0,8000000.0,1200000.0,500000.0,300000.0,1000000.0,7500000.0,380000000.0,330000000.0,50000000.0,20000000.0,30000000.0,43000000.0,250000000.0,1000000.0,7500000.0,20000000.0,1000000.0,5000000.0,15000000.0,20000000.0,1500000.0,1500000.0,2500000.0,2500000.0,1000000.0,1000000.0,500000.0,700000.0,10000000.0,900000.0,50000000.0,50000000.0,50000000.0,50000000.0,50000000.0,50000000.0,50000000.0,50000000.0,50000000.0,12500000.0,2500000.0,4500000.0,100000000.0,50000000.0,50000000.0,10000000.0,80000000.0,25000000.0,20000000.0,10000000.0,30000000.0,20000000.0,25000000.0,25000000.0,7500000.0,20000000.0,5000000.0,10000000.0,5000000.0,3750000000.0,100000000.0,250000000.0,25000000.0,5000000.0,7500000.0,8800000.0,4000000.0,20000000.0,200000.0,200000.0,1300000.0,25000000.0,10000000.0,500000.0,50000000.0,1504000.0,20000000.0,25000000.0,100000.0,162000000.0,38000000.0,300000.0,100000.0,400000.0,400000.0,100000000.0,400000.0,10001000.0,500000.0,50000000.0,200000000.0,30000000.0,2000000.0,1000000.0,2000000.0,100000.0,700000.0,800000.0,2000000.0,20000000.0,50000000.0,50000000.0,30000000.0,700000.0,1000000.0,100000.0,1000000.0,100000000.0,2500000.0,18600000.0,2000000.0,200000.0,15000000.0,300000.0,7200000.0,2000000.0,200000.0,20000000.0,1915000.0,2500000.0,3000000.0,7500000.0,70000000.0,20000000.0,15000000.0,10000000.0,15000000.0,20000000.0,185000000.0,450000000.0,270000000.0,10000000.0,768000.0,25000000.0,15000000.0,35000000.0,3000000.0,10000000.0,300000.0,800000.0,5000000.0,1000000.0,165000000.0,10000000.0,10000000.0,50000000.0,110000000.0,17500000.0,10000000.0,50000000.0,50000000.0,500000.0,5000000.0,10000000.0,15000000.0,15000000.0,85000000.0,30000000.0,1300000.0,20000000.0,5000000.0,4000000.0,31000000.0,2500000.0,20000000.0,3400000.0,3000000.0,100000000.0,300000000.0,50000000.0,5000000.0,150000.0,2500000.0,5000000.0,5000000.0,10000000.0,50000000.0,30000000.0,30000000.0,20000000.0,100000.0,500000000.0,500000000.0,1000000.0,1600000.0,170000000.0,5000000.0,1000000.0,1000000.0,1000000.0,1000000.0,10000000.0,7500000.0,100000000.0,350000000.0,5000000.0,5000000.0,5000000.0,5000000.0,5000000.0,10000000.0,1000000.0,2000000.0,5000000.0,1500000.0,50000000.0,2500000.0,3000000.0,3000000.0,4000000.0,2500000.0,2500000.0,70000000.0,10000000.0,20000000.0,1250000.0,40000.0,1000000.0,130000000.0,500000.0,1000000.0,1000000.0,300000.0,1500000.0,2000000.0,1000000.0,100000.0,300000.0,100000.0,20000000.0,1000000.0,2833000.0,6000000.0,50000000.0,1000000.0,1000000.0,3000000.0,1000000.0,20000000.0,28600000.0,5000000.0,25000000.0,50000000.0,390000000.0,120000000.0,7500000.0,100000000.0,500000.0,70000000.0,3500000.0,2500000.0,1000000.0,2000000.0,10000000.0,20000000.0,20000000.0,20000000.0,20000000.0,20000000.0,100000000.0,50000000.0,100000000.0,77000000.0,1000000.0,14000000.0,5000000.0,10000000.0,50000000.0,300000000.0,50000000.0,22500000.0,7500000.0,15000000.0,1000000.0,30000000.0,50000000.0,50000000.0,10000000.0,1368000.0,400000000.0,100000.0,8500000.0,3500000.0,10000000.0,5000000.0,15000000.0,10000000.0,40000000.0,10000000.0,7500000.0,7500000.0,1000000.0,10000000.0,10000000.0,20000000.0,5000000.0,140000000.0,100000000.0,500000.0,5000000.0,2000000.0,5000000.0,30000000.0,2000000.0,15000000.0,2500000.0,10000000.0,1500000.0,220000000.0,2500000.0,5000000.0,30000000.0,4000000.0,3000000.0,12000000.0,20000000.0,25000000.0,5000000.0,400000.0,20000000.0,50000000.0,30000000.0,50000000.0,1500000.0,10000000.0,20000000.0,30000000.0,10000000.0,10000000.0,10000000.0,100000000.0,20000000.0,100000.0,30000000.0,10000000.0,10000000.0,10000000.0,50000000.0,20000000.0,2000000.0,2688000.0,35000000.0,15000000.0,25000000.0,4000000.0,6500000.0,50000000.0,30000000.0,10000000.0,500000.0,800000.0,10000000.0,3000000.0,10000000.0,50000000.0,10000000.0,10000000.0,20000000.0,83300000.0,35500000.0,10000000.0,9000000.0,500000000.0,100000000.0,1000000.0,900000.0,1990000.0,100000000.0,2000000.0,14900000.0,10000000.0,10000000.0,30000000.0,5000000.0,45000000.0,52000000.0,100000.0,50000000.0,2000000.0,300000.0,500000.0,2500000.0,400000.0,8500000.0,5000000.0,500000.0,30000000.0,40000000.0,40000000.0,200000000.0,115000000.0,20000000.0,10000000.0,500000.0,5000000.0,15000000.0,2500000.0,4000000.0,100000000.0,1000000.0,10000000.0,20000000.0,850000.0,10000000.0,1450000.0,10000000.0,350000000.0,50000000.0,500000.0,12500000.0,10000000.0,20000000.0,100000000.0,30000000.0,200000.0,10000000.0,120000000.0,10000000.0,30000000.0,56000000.0,500000.0,40000000.0,10000000.0,15000000.0,50000000.0,10000000.0,10000000.0,8700000.0,20000000.0,200000000.0,150000000.0,9000000.0,50000000.0,20000000.0,20000000.0,10000000.0,10000000.0,40000000.0,78000000.0,250000000.0,50000000.0,240000000.0,56000000.0,15000000.0,12500000.0,30000000.0,50000000.0,30000000.0,600000.0,70000000.0,5000000.0,50000000.0,580000000.0,35000000.0,170000000.0,30000000.0,10000000.0,290000000.0,50000000.0,30000000.0,320000000.0,5000000.0,70000000.0,20000000.0,180000000.0,10000000.0,70000000.0,193000000.0,152000000.0,18000000.0,1000000.0,6000000.0,30000000.0,2484000.0,50000000.0,20000000.0,50000000.0,10000000.0,35000000.0,40000000.0,1000000.0,160000000.0,100000000.0,120000000.0,30000000.0,100000000.0,100000000.0,40000000.0,5000000.0,5000000.0,80000000.0,500000000.0,11000000.0,100000000.0,5000000.0,2500000.0,100000000.0,750000000.0,600000000.0,1000000.0,100000000.0,500000.0,10000000.0,1000000.0,250000.0,2500000.0,3000000.0,9000000.0,3000000.0,3000000.0,1500000.0,22000000.0,1500000.0,3500000.0,1000000.0,8000000.0,90000000.0,200000.0,10000000.0,8500000.0,10000000.0,2500000.0,30000000.0,30000000.0,10000000.0,3500000.0,3000000.0,5000000.0,30000000.0,10000000.0,5000000.0,170000000.0,7500000.0,20000000.0,50000000.0,500000.0,10000000.0,17500000.0,2266500000.0,400000000.0,50000000.0,1040000000.0,2000000.0,35000000.0,210000000.0,50000000.0,5000000.0,55000000.0,10000000.0,2000000.0,7000000.0,40000000.0,4800000.0,5000000.0,20000000.0,1000000.0,50000000.0,10000000.0,10000000.0,30000.0,35000000.0,15000000.0,20000000.0,200000.0,800000.0,500000.0,700000.0,500000.0,500000.0,50000000.0,800000.0,100000.0,1200000.0,1500000.0,1500000.0,200000.0,400000.0,1000000.0,20000000.0,600000.0,2500000.0,2500000.0,5000000.0,10000000.0,100000.0,20000000.0,50000000.0,200000.0,1000000.0,700000.0,20000000.0,2000000.0,1000000.0,4000000.0,5000000.0,10000.0,70000000.0,130000000.0,90000000.0,50000000.0,100000000.0,30000000.0,100000000.0,50000000.0,800000000.0,100000000.0,1100000000.0,200000000.0,154000000.0,80000000.0,51000000.0,2500000.0,100000000.0,100000000.0,20000000.0,30000000.0,70000000.0,150000000.0,10000000.0,940000000.0,20000000.0,640000000.0,10000000.0,30000000.0,55000000.0,100000.0,5000000.0,700000.0,1000000.0,20000000.0,30000000.0,30000000.0,10000000.0,20000000.0,180000000.0,30000000.0,80000000.0,652500000.0,132100000.0,15925214000.0,11911599000.0,55942011000.0,120000000.0,7755000000.0,6320000000.0,3500000.0,5000000.0,210000000.0,410000000.0,125000000.0,5500000.0,285000000.0,13510945000.0,725000000.0,72600000.0,1524514000.0,55000000.0,365000000.0,2115800000.0,3287500000.0,121458783000.0],\"type\":\"treemap\",\"textfont\":{\"size\":10},\"hoverinfo\":\"label+value+percent entry\",\"textinfo\":\"label+value\"}],                        {\"template\":{\"data\":{\"histogram2dcontour\":[{\"type\":\"histogram2dcontour\",\"colorbar\":{\"outlinewidth\":0,\"ticks\":\"\"},\"colorscale\":[[0.0,\"#0d0887\"],[0.1111111111111111,\"#46039f\"],[0.2222222222222222,\"#7201a8\"],[0.3333333333333333,\"#9c179e\"],[0.4444444444444444,\"#bd3786\"],[0.5555555555555556,\"#d8576b\"],[0.6666666666666666,\"#ed7953\"],[0.7777777777777778,\"#fb9f3a\"],[0.8888888888888888,\"#fdca26\"],[1.0,\"#f0f921\"]]}],\"choropleth\":[{\"type\":\"choropleth\",\"colorbar\":{\"outlinewidth\":0,\"ticks\":\"\"}}],\"histogram2d\":[{\"type\":\"histogram2d\",\"colorbar\":{\"outlinewidth\":0,\"ticks\":\"\"},\"colorscale\":[[0.0,\"#0d0887\"],[0.1111111111111111,\"#46039f\"],[0.2222222222222222,\"#7201a8\"],[0.3333333333333333,\"#9c179e\"],[0.4444444444444444,\"#bd3786\"],[0.5555555555555556,\"#d8576b\"],[0.6666666666666666,\"#ed7953\"],[0.7777777777777778,\"#fb9f3a\"],[0.8888888888888888,\"#fdca26\"],[1.0,\"#f0f921\"]]}],\"heatmap\":[{\"type\":\"heatmap\",\"colorbar\":{\"outlinewidth\":0,\"ticks\":\"\"},\"colorscale\":[[0.0,\"#0d0887\"],[0.1111111111111111,\"#46039f\"],[0.2222222222222222,\"#7201a8\"],[0.3333333333333333,\"#9c179e\"],[0.4444444444444444,\"#bd3786\"],[0.5555555555555556,\"#d8576b\"],[0.6666666666666666,\"#ed7953\"],[0.7777777777777778,\"#fb9f3a\"],[0.8888888888888888,\"#fdca26\"],[1.0,\"#f0f921\"]]}],\"heatmapgl\":[{\"type\":\"heatmapgl\",\"colorbar\":{\"outlinewidth\":0,\"ticks\":\"\"},\"colorscale\":[[0.0,\"#0d0887\"],[0.1111111111111111,\"#46039f\"],[0.2222222222222222,\"#7201a8\"],[0.3333333333333333,\"#9c179e\"],[0.4444444444444444,\"#bd3786\"],[0.5555555555555556,\"#d8576b\"],[0.6666666666666666,\"#ed7953\"],[0.7777777777777778,\"#fb9f3a\"],[0.8888888888888888,\"#fdca26\"],[1.0,\"#f0f921\"]]}],\"contourcarpet\":[{\"type\":\"contourcarpet\",\"colorbar\":{\"outlinewidth\":0,\"ticks\":\"\"}}],\"contour\":[{\"type\":\"contour\",\"colorbar\":{\"outlinewidth\":0,\"ticks\":\"\"},\"colorscale\":[[0.0,\"#0d0887\"],[0.1111111111111111,\"#46039f\"],[0.2222222222222222,\"#7201a8\"],[0.3333333333333333,\"#9c179e\"],[0.4444444444444444,\"#bd3786\"],[0.5555555555555556,\"#d8576b\"],[0.6666666666666666,\"#ed7953\"],[0.7777777777777778,\"#fb9f3a\"],[0.8888888888888888,\"#fdca26\"],[1.0,\"#f0f921\"]]}],\"surface\":[{\"type\":\"surface\",\"colorbar\":{\"outlinewidth\":0,\"ticks\":\"\"},\"colorscale\":[[0.0,\"#0d0887\"],[0.1111111111111111,\"#46039f\"],[0.2222222222222222,\"#7201a8\"],[0.3333333333333333,\"#9c179e\"],[0.4444444444444444,\"#bd3786\"],[0.5555555555555556,\"#d8576b\"],[0.6666666666666666,\"#ed7953\"],[0.7777777777777778,\"#fb9f3a\"],[0.8888888888888888,\"#fdca26\"],[1.0,\"#f0f921\"]]}],\"mesh3d\":[{\"type\":\"mesh3d\",\"colorbar\":{\"outlinewidth\":0,\"ticks\":\"\"}}],\"scatter\":[{\"fillpattern\":{\"fillmode\":\"overlay\",\"size\":10,\"solidity\":0.2},\"type\":\"scatter\"}],\"parcoords\":[{\"type\":\"parcoords\",\"line\":{\"colorbar\":{\"outlinewidth\":0,\"ticks\":\"\"}}}],\"scatterpolargl\":[{\"type\":\"scatterpolargl\",\"marker\":{\"colorbar\":{\"outlinewidth\":0,\"ticks\":\"\"}}}],\"bar\":[{\"error_x\":{\"color\":\"#2a3f5f\"},\"error_y\":{\"color\":\"#2a3f5f\"},\"marker\":{\"line\":{\"color\":\"#E5ECF6\",\"width\":0.5},\"pattern\":{\"fillmode\":\"overlay\",\"size\":10,\"solidity\":0.2}},\"type\":\"bar\"}],\"scattergeo\":[{\"type\":\"scattergeo\",\"marker\":{\"colorbar\":{\"outlinewidth\":0,\"ticks\":\"\"}}}],\"scatterpolar\":[{\"type\":\"scatterpolar\",\"marker\":{\"colorbar\":{\"outlinewidth\":0,\"ticks\":\"\"}}}],\"histogram\":[{\"marker\":{\"pattern\":{\"fillmode\":\"overlay\",\"size\":10,\"solidity\":0.2}},\"type\":\"histogram\"}],\"scattergl\":[{\"type\":\"scattergl\",\"marker\":{\"colorbar\":{\"outlinewidth\":0,\"ticks\":\"\"}}}],\"scatter3d\":[{\"type\":\"scatter3d\",\"line\":{\"colorbar\":{\"outlinewidth\":0,\"ticks\":\"\"}},\"marker\":{\"colorbar\":{\"outlinewidth\":0,\"ticks\":\"\"}}}],\"scattermapbox\":[{\"type\":\"scattermapbox\",\"marker\":{\"colorbar\":{\"outlinewidth\":0,\"ticks\":\"\"}}}],\"scatterternary\":[{\"type\":\"scatterternary\",\"marker\":{\"colorbar\":{\"outlinewidth\":0,\"ticks\":\"\"}}}],\"scattercarpet\":[{\"type\":\"scattercarpet\",\"marker\":{\"colorbar\":{\"outlinewidth\":0,\"ticks\":\"\"}}}],\"carpet\":[{\"aaxis\":{\"endlinecolor\":\"#2a3f5f\",\"gridcolor\":\"white\",\"linecolor\":\"white\",\"minorgridcolor\":\"white\",\"startlinecolor\":\"#2a3f5f\"},\"baxis\":{\"endlinecolor\":\"#2a3f5f\",\"gridcolor\":\"white\",\"linecolor\":\"white\",\"minorgridcolor\":\"white\",\"startlinecolor\":\"#2a3f5f\"},\"type\":\"carpet\"}],\"table\":[{\"cells\":{\"fill\":{\"color\":\"#EBF0F8\"},\"line\":{\"color\":\"white\"}},\"header\":{\"fill\":{\"color\":\"#C8D4E3\"},\"line\":{\"color\":\"white\"}},\"type\":\"table\"}],\"barpolar\":[{\"marker\":{\"line\":{\"color\":\"#E5ECF6\",\"width\":0.5},\"pattern\":{\"fillmode\":\"overlay\",\"size\":10,\"solidity\":0.2}},\"type\":\"barpolar\"}],\"pie\":[{\"automargin\":true,\"type\":\"pie\"}]},\"layout\":{\"autotypenumbers\":\"strict\",\"colorway\":[\"#636efa\",\"#EF553B\",\"#00cc96\",\"#ab63fa\",\"#FFA15A\",\"#19d3f3\",\"#FF6692\",\"#B6E880\",\"#FF97FF\",\"#FECB52\"],\"font\":{\"color\":\"#2a3f5f\"},\"hovermode\":\"closest\",\"hoverlabel\":{\"align\":\"left\"},\"paper_bgcolor\":\"white\",\"plot_bgcolor\":\"#E5ECF6\",\"polar\":{\"bgcolor\":\"#E5ECF6\",\"angularaxis\":{\"gridcolor\":\"white\",\"linecolor\":\"white\",\"ticks\":\"\"},\"radialaxis\":{\"gridcolor\":\"white\",\"linecolor\":\"white\",\"ticks\":\"\"}},\"ternary\":{\"bgcolor\":\"#E5ECF6\",\"aaxis\":{\"gridcolor\":\"white\",\"linecolor\":\"white\",\"ticks\":\"\"},\"baxis\":{\"gridcolor\":\"white\",\"linecolor\":\"white\",\"ticks\":\"\"},\"caxis\":{\"gridcolor\":\"white\",\"linecolor\":\"white\",\"ticks\":\"\"}},\"coloraxis\":{\"colorbar\":{\"outlinewidth\":0,\"ticks\":\"\"}},\"colorscale\":{\"sequential\":[[0.0,\"#0d0887\"],[0.1111111111111111,\"#46039f\"],[0.2222222222222222,\"#7201a8\"],[0.3333333333333333,\"#9c179e\"],[0.4444444444444444,\"#bd3786\"],[0.5555555555555556,\"#d8576b\"],[0.6666666666666666,\"#ed7953\"],[0.7777777777777778,\"#fb9f3a\"],[0.8888888888888888,\"#fdca26\"],[1.0,\"#f0f921\"]],\"sequentialminus\":[[0.0,\"#0d0887\"],[0.1111111111111111,\"#46039f\"],[0.2222222222222222,\"#7201a8\"],[0.3333333333333333,\"#9c179e\"],[0.4444444444444444,\"#bd3786\"],[0.5555555555555556,\"#d8576b\"],[0.6666666666666666,\"#ed7953\"],[0.7777777777777778,\"#fb9f3a\"],[0.8888888888888888,\"#fdca26\"],[1.0,\"#f0f921\"]],\"diverging\":[[0,\"#8e0152\"],[0.1,\"#c51b7d\"],[0.2,\"#de77ae\"],[0.3,\"#f1b6da\"],[0.4,\"#fde0ef\"],[0.5,\"#f7f7f7\"],[0.6,\"#e6f5d0\"],[0.7,\"#b8e186\"],[0.8,\"#7fbc41\"],[0.9,\"#4d9221\"],[1,\"#276419\"]]},\"xaxis\":{\"gridcolor\":\"white\",\"linecolor\":\"white\",\"ticks\":\"\",\"title\":{\"standoff\":15},\"zerolinecolor\":\"white\",\"automargin\":true,\"zerolinewidth\":2},\"yaxis\":{\"gridcolor\":\"white\",\"linecolor\":\"white\",\"ticks\":\"\",\"title\":{\"standoff\":15},\"zerolinecolor\":\"white\",\"automargin\":true,\"zerolinewidth\":2},\"scene\":{\"xaxis\":{\"backgroundcolor\":\"#E5ECF6\",\"gridcolor\":\"white\",\"linecolor\":\"white\",\"showbackground\":true,\"ticks\":\"\",\"zerolinecolor\":\"white\",\"gridwidth\":2},\"yaxis\":{\"backgroundcolor\":\"#E5ECF6\",\"gridcolor\":\"white\",\"linecolor\":\"white\",\"showbackground\":true,\"ticks\":\"\",\"zerolinecolor\":\"white\",\"gridwidth\":2},\"zaxis\":{\"backgroundcolor\":\"#E5ECF6\",\"gridcolor\":\"white\",\"linecolor\":\"white\",\"showbackground\":true,\"ticks\":\"\",\"zerolinecolor\":\"white\",\"gridwidth\":2}},\"shapedefaults\":{\"line\":{\"color\":\"#2a3f5f\"}},\"annotationdefaults\":{\"arrowcolor\":\"#2a3f5f\",\"arrowhead\":0,\"arrowwidth\":1},\"geo\":{\"bgcolor\":\"white\",\"landcolor\":\"#E5ECF6\",\"subunitcolor\":\"white\",\"showland\":true,\"showlakes\":true,\"lakecolor\":\"white\"},\"title\":{\"x\":0.05},\"mapbox\":{\"style\":\"light\"}}},\"coloraxis\":{\"colorbar\":{\"title\":{\"text\":\"TotalAmount\"}},\"colorscale\":[[0.0,\"rgb(103,0,31)\"],[0.1,\"rgb(178,24,43)\"],[0.2,\"rgb(214,96,77)\"],[0.3,\"rgb(244,165,130)\"],[0.4,\"rgb(253,219,199)\"],[0.5,\"rgb(247,247,247)\"],[0.6,\"rgb(209,229,240)\"],[0.7,\"rgb(146,197,222)\"],[0.8,\"rgb(67,147,195)\"],[0.9,\"rgb(33,102,172)\"],[1.0,\"rgb(5,48,97)\"]]},\"legend\":{\"tracegroupgap\":0},\"margin\":{\"t\":50,\"l\":25,\"r\":25,\"b\":25}},                        {\"responsive\": true}                    ).then(function(){\n",
              "                            \n",
              "var gd = document.getElementById('add080bd-fbab-4b7e-b149-f7fc52d72723');\n",
              "var x = new MutationObserver(function (mutations, observer) {{\n",
              "        var display = window.getComputedStyle(gd).display;\n",
              "        if (!display || display === 'none') {{\n",
              "            console.log([gd, 'removed!']);\n",
              "            Plotly.purge(gd);\n",
              "            observer.disconnect();\n",
              "        }}\n",
              "}});\n",
              "\n",
              "// Listen for the removal of the full notebook cells\n",
              "var notebookContainer = gd.closest('#notebook-container');\n",
              "if (notebookContainer) {{\n",
              "    x.observe(notebookContainer, {childList: true});\n",
              "}}\n",
              "\n",
              "// Listen for the clearing of the current output cell\n",
              "var outputEl = gd.closest('.output');\n",
              "if (outputEl) {{\n",
              "    x.observe(outputEl, {childList: true});\n",
              "}}\n",
              "\n",
              "                        })                };                            </script>        </div>\n",
              "</body>\n",
              "</html>"
            ]
          },
          "metadata": {}
        }
      ]
    },
    {
      "cell_type": "markdown",
      "source": [
        "Lets simply the plot"
      ],
      "metadata": {
        "id": "dNtYd_x9Q9Ic"
      }
    },
    {
      "cell_type": "code",
      "source": [
        "from pyspark.sql.functions import when, rank\n",
        "\n",
        "top_n = 5\n",
        "\n",
        "jDPPN = joinData_party_purch.alias(\"jDPPN\")\n",
        "windowSpec = Window.partitionBy(\"EnchaserName\").orderBy(col(\"TotalAmount\").desc())\n",
        "jDPPN = jDPPN.withColumn(\"rank\", rank().over(windowSpec))\n",
        "\n",
        "other_total_amounts = jDPPN.filter(jDPPN['rank'] > top_n).groupBy('EnchaserName').agg(_sum('TotalAmount').alias('OtherTotalAmount'))\n",
        "df_with_other = jDPPN.join(other_total_amounts, on='EnchaserName', how='left')\n",
        "df_with_other = df_with_other.withColumn('PurchaserName', when(df_with_other['rank'] > top_n, 'Other').otherwise(df_with_other['PurchaserName']))\n",
        "df_with_other = df_with_other.withColumn('TotalAmount', when(df_with_other['PurchaserName'] == 'Other', df_with_other['OtherTotalAmount']).otherwise(df_with_other['TotalAmount']))\n",
        "df_with_other = df_with_other.drop('OtherTotalAmount', \"PercentageShare\", \"rank\").drop_duplicates()\n",
        "\n",
        "df_with_other.show(5, truncate=False)\n"
      ],
      "metadata": {
        "colab": {
          "base_uri": "https://localhost:8080/"
        },
        "id": "LVxUWygSOIse",
        "outputId": "59a0d3de-62a7-4a1c-8ac7-26583a375c2e"
      },
      "execution_count": 255,
      "outputs": [
        {
          "output_type": "stream",
          "name": "stdout",
          "text": [
            "+---------------+---------------------------------+-----------+\n",
            "|EnchaserName   |PurchaserName                    |TotalAmount|\n",
            "+---------------+---------------------------------+-----------+\n",
            "|AAM AADMI PARTY|AVEES TRADING FINANCE PVT LTD    |1.0E8      |\n",
            "|AAM AADMI PARTY|BAJAJ AUTO LTD                   |8.0E7      |\n",
            "|AAM AADMI PARTY|MKJ ENTERPRISES LIMITED          |7.0E7      |\n",
            "|AAM AADMI PARTY|TRANSWAYS EXIM PRIVATE LIMITED   |7.0E7      |\n",
            "|AAM AADMI PARTY|ASIAN TRADING CORPORATION LIMITED|5.0E7      |\n",
            "+---------------+---------------------------------+-----------+\n",
            "only showing top 5 rows\n",
            "\n"
          ]
        }
      ]
    },
    {
      "cell_type": "code",
      "source": [
        "max_value_threshold = df_with_other.toPandas()['TotalAmount'].quantile(0.99)\n",
        "\n",
        "fig = px.treemap(df_with_other.toPandas(),\n",
        "                #  path=['EnchaserName', 'PurchaserName'],\n",
        "                 path=[px.Constant(\"Parties\"), 'EnchaserName', 'PurchaserName'],\n",
        "                 values='TotalAmount',\n",
        "                 color=\"TotalAmount\",\n",
        "                 color_continuous_scale='earth',\n",
        "                 color_continuous_midpoint=df_with_other.toPandas()['TotalAmount'].quantile(0.75), #df_with_other.toPandas()['TotalAmount'].mean(),\n",
        "                 range_color=[0, max_value_threshold],\n",
        "                 title=\"Enchasers and their fund sources\")\n",
        "\n",
        "fig.update_traces(marker=dict(cornerradius=5),\n",
        "                  textinfo='label+value',\n",
        "                  hoverinfo='label+value+percent entry',\n",
        "                  textfont_size=15,\n",
        "                  textfont_color=\"white\",\n",
        "                  textposition='top left')\n",
        "\n",
        "fig.update_layout(margin=dict(t=50, l=25, r=25, b=25), uniformtext_minsize=8, uniformtext_mode=False, paper_bgcolor=\"LightSteelBlue\")\n",
        "fig.show()\n"
      ],
      "metadata": {
        "colab": {
          "base_uri": "https://localhost:8080/",
          "height": 542
        },
        "id": "CUDQeLZ4PcdH",
        "outputId": "408b3d0c-135c-4c06-a097-b8f9741f488f"
      },
      "execution_count": 256,
      "outputs": [
        {
          "output_type": "display_data",
          "data": {
            "text/html": [
              "<html>\n",
              "<head><meta charset=\"utf-8\" /></head>\n",
              "<body>\n",
              "    <div>            <script src=\"https://cdnjs.cloudflare.com/ajax/libs/mathjax/2.7.5/MathJax.js?config=TeX-AMS-MML_SVG\"></script><script type=\"text/javascript\">if (window.MathJax && window.MathJax.Hub && window.MathJax.Hub.Config) {window.MathJax.Hub.Config({SVG: {font: \"STIX-Web\"}});}</script>                <script type=\"text/javascript\">window.PlotlyConfig = {MathJaxConfig: 'local'};</script>\n",
              "        <script charset=\"utf-8\" src=\"https://cdn.plot.ly/plotly-2.24.1.min.js\"></script>                <div id=\"d69c2d16-95ec-4de7-bdf2-9c2e609f55c3\" class=\"plotly-graph-div\" style=\"height:525px; width:100%;\"></div>            <script type=\"text/javascript\">                                    window.PLOTLYENV=window.PLOTLYENV || {};                                    if (document.getElementById(\"d69c2d16-95ec-4de7-bdf2-9c2e609f55c3\")) {                    Plotly.newPlot(                        \"d69c2d16-95ec-4de7-bdf2-9c2e609f55c3\",                        [{\"branchvalues\":\"total\",\"customdata\":[[50000000.0],[90000000.0],[100000000.0],[530000000.0],[850000000.0],[80000000.0],[100000000.0],[1830000000.0],[5000000.0],[10000000.0],[10000000.0],[500000000.0],[900000000.0],[30000000.0],[320000000.0],[100000000.0],[1745000000.0],[50000000.0],[4350000000.0],[4530000000.0],[50000000.0],[80000000.0],[1540000000.0],[450000000.0],[500000000.0],[620000000.0],[30000000.0],[2000000.0],[2810000000.0],[350000000.0],[50000000.0],[35000000.0],[1000000000.0],[50000000.0],[100000000.0],[5000000.0],[2100000.0],[1755000000.0],[30000000.0],[25000000.0],[450000000.0],[250000000.0],[1500000000.0],[5190000000.0],[600000000.0],[40000000.0],[50000000.0],[280000000.0],[370000000.0],[100000000.0],[70000000.0],[70000000.0],[10000000.0],[693500000.0],[450000000.0],[100000000.0],[50000000.0],[140000000.0],[170000000.0],[170000000.0],[232500000.0],[6795214000.0],[8201599000.0],[41150511000.0],[3010000000.0],[360000000.0],[60000000.0],[7500000.0],[57000000.0],[9507445000.0],[174000000.0],[60000.0],[224514000.0],[30000000.0],[895800000.0],[797500000.0],[50000000.0],[20000000.0],[25000000.0],[3750000000.0],[100000000.0],[250000000.0],[38000000.0],[450000000.0],[35000000.0],[100000000.0],[500000000.0],[40000.0],[400000000.0],[10000000.0],[7500000.0],[2000000.0],[10000000.0],[240000000.0],[30000000.0],[50000000.0],[35000000.0],[30000000.0],[30000000.0],[5000000.0],[70000000.0],[70000000.0],[30000000.0],[600000000.0],[1500000.0],[3500000.0],[10000000.0],[7500000.0],[2266500000.0],[50000000.0],[1040000000.0],[100000000.0],[1100000000.0],[200000000.0],[80000000.0],[51000000.0],[940000000.0],[640000000.0],[30000000.0],[80000000.0],[130660919.54022989],[82546631.33989403],[4671236022.686791],[5956775925.448884],[31209623529.82128],[85000000.0],[1820776918.1173437],[3374905063.291139],[1785714.2857142857],[5000000.0],[68095238.09523809],[75853658.53658536],[32100000.0],[2954545.4545454546],[61203508.77192982],[6946557230.306615],[228037241.37931034],[36931889.80716253],[552573827.5909568],[45909090.90909091],[67739726.02739726],[529566896.6821061],[991606463.878327],[16681952364.804604]],\"domain\":{\"x\":[0.0,1.0],\"y\":[0.0,1.0]},\"hovertemplate\":\"labels=%{label}\\u003cbr\\u003eTotalAmount_sum=%{value}\\u003cbr\\u003eparent=%{parent}\\u003cbr\\u003eid=%{id}\\u003cbr\\u003eTotalAmount=%{color}\\u003cextra\\u003e\\u003c\\u002fextra\\u003e\",\"ids\":[\"Parties\\u002fAAM AADMI PARTY\\u002fASIAN TRADING CORPORATION LIMITED\",\"Parties\\u002fRASHTRIYA JANTA DAL\\u002fASKUS LOGISTICS PRIVATE LIMITED\",\"Parties\\u002fAAM AADMI PARTY\\u002fAVEES TRADING FINANCE PVT LTD\",\"Parties\\u002fPRESIDENT, ALL INDIA CONGRESS COMMITTEE\\u002fAVEES TRADING FINANCE PVT LTD\",\"Parties\\u002fSHIVSENA\\u002fB G SHIRKE CONSTRUCTION TECHNOLOGY PVT L TD\",\"Parties\\u002fAAM AADMI PARTY\\u002fBAJAJ AUTO LTD\",\"Parties\\u002fTELUGU DESAM PARTY\\u002fBHARAT BIOTECH INTERNATIONAL LIMITED\",\"Parties\\u002fBHARATIYA JANATA PARTY\\u002fBHARTI AIRTEL LIMITED\",\"Parties\\u002fJAMMU AND KASHMIR NATIONAL CONFERENCE\\u002fBHARTI AIRTEL LIMITEDAIRTEL CURRE NT AC-GCO\",\"Parties\\u002fBIHAR PRADESH JANTA DAL(UNITED)\\u002fBHARTI INFRATEL LIMITED\",\"Parties\\u002fSHIROMANI AKALI DAL\\u002fBHARTI INFRATEL LIMITED\",\"Parties\\u002fBHARAT RASHTRA SAMITHI\\u002fCHENNAI GREEN WOODS PRIVATE LIMITED\",\"Parties\\u002fALL INDIA TRINAMOOL CONGRESS\\u002fDHARIWAL INFRASTRUCTURE LIMITED\",\"Parties\\u002fSHIVSENA\\u002fDINESHCHANDRA R AGRAWAL INFRACON PVT LTD\",\"Parties\\u002fBHARAT RASHTRA SAMITHI\\u002fDR.REDDY'S LABORATORIES LTD\",\"Parties\\u002fTELUGU DESAM PARTY\\u002fDR.REDDY'S LABORATORIES LTD\",\"Parties\\u002fBIJU JANATA DAL\\u002fESSEL MINING AND INDS LTD\",\"Parties\\u002fSHIROMANI AKALI DAL\\u002fFASTWAY TRANSMISSIONS PVT LTD\",\"Parties\\u002fALL INDIA TRINAMOOL CONGRESS\\u002fFUTURE GAMING AND HOTEL SERVICES PR\",\"Parties\\u002fDRAVIDA MUNNETRA KAZHAGAM (DMK)\\u002fFUTURE GAMING AND HOTEL SERVICES PR\",\"Parties\\u002fSIKKIM DEMOCRATIC FRONT\\u002fFUTURE GAMING AND HOTEL SERVICES PR\",\"Parties\\u002fSIKKIM KRANTIKARI MORCHA\\u002fFUTURE GAMING AND HOTEL SERVICES PR\",\"Parties\\u002fYSR  CONGRESS PARTY  (YUVAJANA SRAMIKA RYTHU CONGRESS PARTY)\\u002fFUTURE GAMING AND HOTEL SERVICES PR\",\"Parties\\u002fALL INDIA TRINAMOOL CONGRESS\\u002fFUTURE GAMING AND HOTEL SERVICES PRIVATE LIMITED\",\"Parties\\u002fDRAVIDA MUNNETRA KAZHAGAM (DMK)\\u002fFUTURE GAMING AND HOTEL SERVICES PRIVATE LIMITED\",\"Parties\\u002fALL INDIA TRINAMOOL CONGRESS\\u002fFUTURE GAMING AND HOTEL SERVICES PVT LTD\",\"Parties\\u002fSHIVSENA\\u002fGENEXT HARDWARE   PARKS PVT. LTD\",\"Parties\\u002fGOA FORWARD PARTY\\u002fGOA CARBON LTD\",\"Parties\\u002fALL INDIA TRINAMOOL CONGRESS\\u002fHALDIA ENERGY LIMITED\",\"Parties\\u002fRASHTRIYA JANTA DAL\\u002fIFB AGRO INDUSTRIES LIMITED\",\"Parties\\u002fJANATA DAL ( SECULAR )\\u002fILABS HYD TECHNOLOGY CENTRE PVT LTD\",\"Parties\\u002fSIKKIM KRANTIKARI MORCHA\\u002fIPCA LABORATORIES LIMITED\",\"Parties\\u002fBIJU JANATA DAL\\u002fJINDAL STEEL AND POWER LIMITED\",\"Parties\\u002fJANATA DAL ( SECULAR )\\u002fKCR ENTERPRISE LLP\",\"Parties\\u002fADYAKSHA SAMAJVADI PARTY\\u002fKEVENTER FOODPARK INFRA LIMITED\",\"Parties\\u002fSHIROMANI AKALI DAL\\u002fKEVENTER FOODPARK INFRA LIMITED\",\"Parties\\u002fADYAKSHA SAMAJVADI PARTY\\u002fM S JUGENDRA SINGH AND COMPANY\",\"Parties\\u002fBHARATIYA JANATA PARTY\\u002fMADANLAL LTD.\",\"Parties\\u002fNATIONALIST CONGRESS PARTY MAHARASHTRA PRADESH\\u002fMAGARPATTA TOWNSHIP DEV AND CONST C\",\"Parties\\u002fNATIONALIST CONGRESS PARTY MAHARASHTRA PRADESH\\u002fMAHALAXMI VIDYUT PVT.LTD.\",\"Parties\\u002fBHARAT RASHTRA SAMITHI\\u002fMEGHA ENGINEERING & INFRASTRUCTURES LIMITED\",\"Parties\\u002fDRAVIDA MUNNETRA KAZHAGAM (DMK)\\u002fMEGHA ENGINEERING & INFRASTRUCTURES LIMITED\",\"Parties\\u002fBHARAT RASHTRA SAMITHI\\u002fMEGHA ENGINEERING AND INFRASTRUCTURES LI MITED\",\"Parties\\u002fBHARATIYA JANATA PARTY\\u002fMEGHA ENGINEERING AND INFRASTRUCTURES LI MITED\",\"Parties\\u002fDRAVIDA MUNNETRA KAZHAGAM (DMK)\\u002fMEGHA ENGINEERING AND INFRASTRUCTURES LI MITED\",\"Parties\\u002fJANASENA PARTY\\u002fMEGHA ENGINEERING AND INFRASTRUCTURES LI MITED\",\"Parties\\u002fJANATA DAL ( SECULAR )\\u002fMEGHA ENGINEERING AND INFRASTRUCTURES LI MITED\",\"Parties\\u002fTELUGU DESAM PARTY\\u002fMEGHA ENGINEERING AND INFRASTRUCTURES LI MITED\",\"Parties\\u002fYSR  CONGRESS PARTY  (YUVAJANA SRAMIKA RYTHU CONGRESS PARTY)\\u002fMEGHA ENGINEERING AND INFRASTRUCTURES LI MITED\",\"Parties\\u002fBIHAR PRADESH JANTA DAL(UNITED)\\u002fMEGHA ENGINEERING AND INFRASTRUCTURES LTD\",\"Parties\\u002fSIKKIM KRANTIKARI MORCHA\\u002fMICRO LABS LIMITED\",\"Parties\\u002fAAM AADMI PARTY\\u002fMKJ ENTERPRISES LIMITED\",\"Parties\\u002fJHARKHAND MUKTI MORCHA\\u002fMKJ ENTERPRISES LIMITED\",\"Parties\\u002fPRESIDENT, ALL INDIA CONGRESS COMMITTEE\\u002fMKJ ENTERPRISES LIMITED\",\"Parties\\u002fBIJU JANATA DAL\\u002fMS S N MOHANTY\",\"Parties\\u002fJANATA DAL ( SECULAR )\\u002fNARA CONSTRUCTIONS\",\"Parties\\u002fJANASENA PARTY\\u002fNATCO PHARMA LTD\",\"Parties\\u002fTELUGU DESAM PARTY\\u002fNATCO PHARMA LTD\",\"Parties\\u002fYSR  CONGRESS PARTY  (YUVAJANA SRAMIKA RYTHU CONGRESS PARTY)\\u002fOSTRO JAISALMER PRIVATE LIMITED\",\"Parties\\u002fYSR  CONGRESS PARTY  (YUVAJANA SRAMIKA RYTHU CONGRESS PARTY)\\u002fOSTRO MADHYA WIND PRIVATE LIMITED\",\"Parties\\u002fAAM AADMI PARTY\\u002fOther\",\"Parties\\u002fALL INDIA TRINAMOOL CONGRESS\\u002fOther\",\"Parties\\u002fBHARAT RASHTRA SAMITHI\\u002fOther\",\"Parties\\u002fBHARATIYA JANATA PARTY\\u002fOther\",\"Parties\\u002fBIJU JANATA DAL\\u002fOther\",\"Parties\\u002fDRAVIDA MUNNETRA KAZHAGAM (DMK)\\u002fOther\",\"Parties\\u002fJANATA DAL ( SECULAR )\\u002fOther\",\"Parties\\u002fJHARKHAND MUKTI MORCHA\\u002fOther\",\"Parties\\u002fNATIONALIST CONGRESS PARTY MAHARASHTRA PRADESH\\u002fOther\",\"Parties\\u002fPRESIDENT, ALL INDIA CONGRESS COMMITTEE\\u002fOther\",\"Parties\\u002fRASHTRIYA JANTA DAL\\u002fOther\",\"Parties\\u002fSHIROMANI AKALI DAL\\u002fOther\",\"Parties\\u002fSHIVSENA\\u002fOther\",\"Parties\\u002fSIKKIM KRANTIKARI MORCHA\\u002fOther\",\"Parties\\u002fTELUGU DESAM PARTY\\u002fOther\",\"Parties\\u002fYSR  CONGRESS PARTY  (YUVAJANA SRAMIKA RYTHU CONGRESS PARTY)\\u002fOther\",\"Parties\\u002fSHIVSENA\\u002fPRL DEVELOPERS PRIVATE LIMITED\",\"Parties\\u002fJHARKHAND MUKTI MORCHA\\u002fPUJA COAL PRIVATE LIMITED\",\"Parties\\u002fRASHTRIYA JANTA DAL\\u002fPURULIA BOTTLING PVT LTD\",\"Parties\\u002fBHARATIYA JANATA PARTY\\u002fQWIKSUPPLYCHAINPRIVATELIMITED\",\"Parties\\u002fNATIONALIST CONGRESS PARTY MAHARASHTRA PRADESH\\u002fQWIKSUPPLYCHAINPRIVATELIMITED\",\"Parties\\u002fSHIVSENA\\u002fQWIKSUPPLYCHAINPRIVATELIMITED\",\"Parties\\u002fNATIONALIST CONGRESS PARTY MAHARASHTRA PRADESH\\u002fRAHUL BHATIA\",\"Parties\\u002fBIJU JANATA DAL\\u002fRASHMI CEMENT LTD\",\"Parties\\u002fRASHTRIYA JANTA DAL\\u002fRAUNAK GUPTA\",\"Parties\\u002fJANATA DAL ( SECULAR )\\u002fRITHWIK PROJECTS  PRIVATE LIMITED\",\"Parties\\u002fBIJU JANATA DAL\\u002fRUNGTA SONS P LTD\",\"Parties\\u002fSHIROMANI AKALI DAL\\u002fSANDEEP KHANNA AND ASSOCIATES\",\"Parties\\u002fTELUGU DESAM PARTY\\u002fSHIRDI SAI ELECTRICALS LTD\",\"Parties\\u002fBIHAR PRADESH JANTA DAL(UNITED)\\u002fSHREE CEMENT LTD\",\"Parties\\u002fJHARKHAND MUKTI MORCHA\\u002fSHREE CHAND SARAOGI\",\"Parties\\u002fMAHARASHTRAWADI GOMNTAK PARTY\\u002fSHRINIVAS VASUDEVA DEMPO\",\"Parties\\u002fJANASENA PARTY\\u002fSRI CHAITANYA STUDENTS FACILITY MANAGEME\",\"Parties\\u002fYSR  CONGRESS PARTY  (YUVAJANA SRAMIKA RYTHU CONGRESS PARTY)\\u002fTHE RAMCO CEMENTS LIMITED\",\"Parties\\u002fJHARKHAND MUKTI MORCHA\\u002fTHRIVENI SAINIK MINING PRIVATE LIMI\",\"Parties\\u002fAAM AADMI PARTY\\u002fTORRENT  POWER  LIMITED\",\"Parties\\u002fNATIONALIST CONGRESS PARTY MAHARASHTRA PRADESH\\u002fTORRENT  POWER  LIMITED\",\"Parties\\u002fSHIVSENA\\u002fTORRENT  POWER  LIMITED\",\"Parties\\u002fADYAKSHA SAMAJVADI PARTY\\u002fTORRENT PHARMACEUTICALS LTD\",\"Parties\\u002fSIKKIM DEMOCRATIC FRONT\\u002fTORRENT PHARMACEUTICALS LTD\",\"Parties\\u002fSIKKIM KRANTIKARI MORCHA\\u002fTORRENT PHARMACEUTICALS LTD\",\"Parties\\u002fAAM AADMI PARTY\\u002fTRANSWAYS EXIM PRIVATE LIMITED\",\"Parties\\u002fSHIVSENA\\u002fULTRA TECH CEMENT LIMITED\",\"Parties\\u002fBIJU JANATA DAL\\u002fUTKAL ALUMINA INTERNATIONAL LIMITED\",\"Parties\\u002fGOA FORWARD PARTY\\u002fV M SALGAOCAR CORPORATION PVT LTD\",\"Parties\\u002fMAHARASHTRAWADI GOMNTAK PARTY\\u002fV M SALGAOCAR CORPORATION PVT LTD\",\"Parties\\u002fJANASENA PARTY\\u002fVALLURUPALLI PRABHU KISHORE\",\"Parties\\u002fSHIROMANI AKALI DAL\\u002fVARDHMAN TEXTILES LTD\",\"Parties\\u002fBHARATIYA JANATA PARTY\\u002fVEDANTA LIMITED\",\"Parties\\u002fJHARKHAND MUKTI MORCHA\\u002fVEDANTA LIMITED\",\"Parties\\u002fPRESIDENT, ALL INDIA CONGRESS COMMITTEE\\u002fVEDANTA LIMITED\",\"Parties\\u002fJANASENA PARTY\\u002fWESTERN UP POWER TRANSMISSION COMPANY LI MITED\",\"Parties\\u002fPRESIDENT, ALL INDIA CONGRESS COMMITTEE\\u002fWESTERN UP POWER TRANSMISSION COMPANY LI MITED\",\"Parties\\u002fTELUGU DESAM PARTY\\u002fWESTERN UP POWER TRANSMISSION COMPANY LI MITED\",\"Parties\\u002fDRAVIDA MUNNETRA KAZHAGAM (DMK)\\u002fWESTWELL GASES PRIVATE LIMITED\",\"Parties\\u002fRASHTRIYA JANTA DAL\\u002fWESTWELL GASES PRIVATE LIMITED\",\"Parties\\u002fBHARAT RASHTRA SAMITHI\\u002fYASHODA SUPER SPECIALITY HOSPITAL\",\"Parties\\u002fPRESIDENT, ALL INDIA CONGRESS COMMITTEE\\u002fYASHODA SUPER SPECIALITY HOSPITAL\",\"Parties\\u002fSHIVSENA\\u002fYUVAN TRADING   CONSULTANCY LLP\",\"Parties\\u002fSIKKIM KRANTIKARI MORCHA\\u002fZYDUS HEALTHCARE LIMITED\",\"Parties\\u002fAAM AADMI PARTY\",\"Parties\\u002fADYAKSHA SAMAJVADI PARTY\",\"Parties\\u002fALL INDIA TRINAMOOL CONGRESS\",\"Parties\\u002fBHARAT RASHTRA SAMITHI\",\"Parties\\u002fBHARATIYA JANATA PARTY\",\"Parties\\u002fBIHAR PRADESH JANTA DAL(UNITED)\",\"Parties\\u002fBIJU JANATA DAL\",\"Parties\\u002fDRAVIDA MUNNETRA KAZHAGAM (DMK)\",\"Parties\\u002fGOA FORWARD PARTY\",\"Parties\\u002fJAMMU AND KASHMIR NATIONAL CONFERENCE\",\"Parties\\u002fJANASENA PARTY\",\"Parties\\u002fJANATA DAL ( SECULAR )\",\"Parties\\u002fJHARKHAND MUKTI MORCHA\",\"Parties\\u002fMAHARASHTRAWADI GOMNTAK PARTY\",\"Parties\\u002fNATIONALIST CONGRESS PARTY MAHARASHTRA PRADESH\",\"Parties\\u002fPRESIDENT, ALL INDIA CONGRESS COMMITTEE\",\"Parties\\u002fRASHTRIYA JANTA DAL\",\"Parties\\u002fSHIROMANI AKALI DAL\",\"Parties\\u002fSHIVSENA\",\"Parties\\u002fSIKKIM DEMOCRATIC FRONT\",\"Parties\\u002fSIKKIM KRANTIKARI MORCHA\",\"Parties\\u002fTELUGU DESAM PARTY\",\"Parties\\u002fYSR  CONGRESS PARTY  (YUVAJANA SRAMIKA RYTHU CONGRESS PARTY)\",\"Parties\"],\"labels\":[\"ASIAN TRADING CORPORATION LIMITED\",\"ASKUS LOGISTICS PRIVATE LIMITED\",\"AVEES TRADING FINANCE PVT LTD\",\"AVEES TRADING FINANCE PVT LTD\",\"B G SHIRKE CONSTRUCTION TECHNOLOGY PVT L TD\",\"BAJAJ AUTO LTD\",\"BHARAT BIOTECH INTERNATIONAL LIMITED\",\"BHARTI AIRTEL LIMITED\",\"BHARTI AIRTEL LIMITEDAIRTEL CURRE NT AC-GCO\",\"BHARTI INFRATEL LIMITED\",\"BHARTI INFRATEL LIMITED\",\"CHENNAI GREEN WOODS PRIVATE LIMITED\",\"DHARIWAL INFRASTRUCTURE LIMITED\",\"DINESHCHANDRA R AGRAWAL INFRACON PVT LTD\",\"DR.REDDY'S LABORATORIES LTD\",\"DR.REDDY'S LABORATORIES LTD\",\"ESSEL MINING AND INDS LTD\",\"FASTWAY TRANSMISSIONS PVT LTD\",\"FUTURE GAMING AND HOTEL SERVICES PR\",\"FUTURE GAMING AND HOTEL SERVICES PR\",\"FUTURE GAMING AND HOTEL SERVICES PR\",\"FUTURE GAMING AND HOTEL SERVICES PR\",\"FUTURE GAMING AND HOTEL SERVICES PR\",\"FUTURE GAMING AND HOTEL SERVICES PRIVATE LIMITED\",\"FUTURE GAMING AND HOTEL SERVICES PRIVATE LIMITED\",\"FUTURE GAMING AND HOTEL SERVICES PVT LTD\",\"GENEXT HARDWARE   PARKS PVT. LTD\",\"GOA CARBON LTD\",\"HALDIA ENERGY LIMITED\",\"IFB AGRO INDUSTRIES LIMITED\",\"ILABS HYD TECHNOLOGY CENTRE PVT LTD\",\"IPCA LABORATORIES LIMITED\",\"JINDAL STEEL AND POWER LIMITED\",\"KCR ENTERPRISE LLP\",\"KEVENTER FOODPARK INFRA LIMITED\",\"KEVENTER FOODPARK INFRA LIMITED\",\"M S JUGENDRA SINGH AND COMPANY\",\"MADANLAL LTD.\",\"MAGARPATTA TOWNSHIP DEV AND CONST C\",\"MAHALAXMI VIDYUT PVT.LTD.\",\"MEGHA ENGINEERING & INFRASTRUCTURES LIMITED\",\"MEGHA ENGINEERING & INFRASTRUCTURES LIMITED\",\"MEGHA ENGINEERING AND INFRASTRUCTURES LI MITED\",\"MEGHA ENGINEERING AND INFRASTRUCTURES LI MITED\",\"MEGHA ENGINEERING AND INFRASTRUCTURES LI MITED\",\"MEGHA ENGINEERING AND INFRASTRUCTURES LI MITED\",\"MEGHA ENGINEERING AND INFRASTRUCTURES LI MITED\",\"MEGHA ENGINEERING AND INFRASTRUCTURES LI MITED\",\"MEGHA ENGINEERING AND INFRASTRUCTURES LI MITED\",\"MEGHA ENGINEERING AND INFRASTRUCTURES LTD\",\"MICRO LABS LIMITED\",\"MKJ ENTERPRISES LIMITED\",\"MKJ ENTERPRISES LIMITED\",\"MKJ ENTERPRISES LIMITED\",\"MS S N MOHANTY\",\"NARA CONSTRUCTIONS\",\"NATCO PHARMA LTD\",\"NATCO PHARMA LTD\",\"OSTRO JAISALMER PRIVATE LIMITED\",\"OSTRO MADHYA WIND PRIVATE LIMITED\",\"Other\",\"Other\",\"Other\",\"Other\",\"Other\",\"Other\",\"Other\",\"Other\",\"Other\",\"Other\",\"Other\",\"Other\",\"Other\",\"Other\",\"Other\",\"Other\",\"PRL DEVELOPERS PRIVATE LIMITED\",\"PUJA COAL PRIVATE LIMITED\",\"PURULIA BOTTLING PVT LTD\",\"QWIKSUPPLYCHAINPRIVATELIMITED\",\"QWIKSUPPLYCHAINPRIVATELIMITED\",\"QWIKSUPPLYCHAINPRIVATELIMITED\",\"RAHUL BHATIA\",\"RASHMI CEMENT LTD\",\"RAUNAK GUPTA\",\"RITHWIK PROJECTS  PRIVATE LIMITED\",\"RUNGTA SONS P LTD\",\"SANDEEP KHANNA AND ASSOCIATES\",\"SHIRDI SAI ELECTRICALS LTD\",\"SHREE CEMENT LTD\",\"SHREE CHAND SARAOGI\",\"SHRINIVAS VASUDEVA DEMPO\",\"SRI CHAITANYA STUDENTS FACILITY MANAGEME\",\"THE RAMCO CEMENTS LIMITED\",\"THRIVENI SAINIK MINING PRIVATE LIMI\",\"TORRENT  POWER  LIMITED\",\"TORRENT  POWER  LIMITED\",\"TORRENT  POWER  LIMITED\",\"TORRENT PHARMACEUTICALS LTD\",\"TORRENT PHARMACEUTICALS LTD\",\"TORRENT PHARMACEUTICALS LTD\",\"TRANSWAYS EXIM PRIVATE LIMITED\",\"ULTRA TECH CEMENT LIMITED\",\"UTKAL ALUMINA INTERNATIONAL LIMITED\",\"V M SALGAOCAR CORPORATION PVT LTD\",\"V M SALGAOCAR CORPORATION PVT LTD\",\"VALLURUPALLI PRABHU KISHORE\",\"VARDHMAN TEXTILES LTD\",\"VEDANTA LIMITED\",\"VEDANTA LIMITED\",\"VEDANTA LIMITED\",\"WESTERN UP POWER TRANSMISSION COMPANY LI MITED\",\"WESTERN UP POWER TRANSMISSION COMPANY LI MITED\",\"WESTERN UP POWER TRANSMISSION COMPANY LI MITED\",\"WESTWELL GASES PRIVATE LIMITED\",\"WESTWELL GASES PRIVATE LIMITED\",\"YASHODA SUPER SPECIALITY HOSPITAL\",\"YASHODA SUPER SPECIALITY HOSPITAL\",\"YUVAN TRADING   CONSULTANCY LLP\",\"ZYDUS HEALTHCARE LIMITED\",\"AAM AADMI PARTY\",\"ADYAKSHA SAMAJVADI PARTY\",\"ALL INDIA TRINAMOOL CONGRESS\",\"BHARAT RASHTRA SAMITHI\",\"BHARATIYA JANATA PARTY\",\"BIHAR PRADESH JANTA DAL(UNITED)\",\"BIJU JANATA DAL\",\"DRAVIDA MUNNETRA KAZHAGAM (DMK)\",\"GOA FORWARD PARTY\",\"JAMMU AND KASHMIR NATIONAL CONFERENCE\",\"JANASENA PARTY\",\"JANATA DAL ( SECULAR )\",\"JHARKHAND MUKTI MORCHA\",\"MAHARASHTRAWADI GOMNTAK PARTY\",\"NATIONALIST CONGRESS PARTY MAHARASHTRA PRADESH\",\"PRESIDENT, ALL INDIA CONGRESS COMMITTEE\",\"RASHTRIYA JANTA DAL\",\"SHIROMANI AKALI DAL\",\"SHIVSENA\",\"SIKKIM DEMOCRATIC FRONT\",\"SIKKIM KRANTIKARI MORCHA\",\"TELUGU DESAM PARTY\",\"YSR  CONGRESS PARTY  (YUVAJANA SRAMIKA RYTHU CONGRESS PARTY)\",\"Parties\"],\"marker\":{\"coloraxis\":\"coloraxis\",\"colors\":[50000000.0,90000000.0,100000000.0,530000000.0,850000000.0,80000000.0,100000000.0,1830000000.0,5000000.0,10000000.0,10000000.0,500000000.0,900000000.0,30000000.0,320000000.0,100000000.0,1745000000.0,50000000.0,4350000000.0,4530000000.0,50000000.0,80000000.0,1540000000.0,450000000.0,500000000.0,620000000.0,30000000.0,2000000.0,2810000000.0,350000000.0,50000000.0,35000000.0,1000000000.0,50000000.0,100000000.0,5000000.0,2100000.0,1755000000.0,30000000.0,25000000.0,450000000.0,250000000.0,1500000000.0,5190000000.0,600000000.0,40000000.0,50000000.0,280000000.0,370000000.0,100000000.0,70000000.0,70000000.0,10000000.0,693500000.0,450000000.0,100000000.0,50000000.0,140000000.0,170000000.0,170000000.0,232500000.0,6795214000.0,8201599000.0,41150511000.0,3010000000.0,360000000.0,60000000.0,7500000.0,57000000.0,9507445000.0,174000000.0,60000.0,224514000.0,30000000.0,895800000.0,797500000.0,50000000.0,20000000.0,25000000.0,3750000000.0,100000000.0,250000000.0,38000000.0,450000000.0,35000000.0,100000000.0,500000000.0,40000.0,400000000.0,10000000.0,7500000.0,2000000.0,10000000.0,240000000.0,30000000.0,50000000.0,35000000.0,30000000.0,30000000.0,5000000.0,70000000.0,70000000.0,30000000.0,600000000.0,1500000.0,3500000.0,10000000.0,7500000.0,2266500000.0,50000000.0,1040000000.0,100000000.0,1100000000.0,200000000.0,80000000.0,51000000.0,940000000.0,640000000.0,30000000.0,80000000.0,130660919.54022989,82546631.33989403,4671236022.686791,5956775925.448884,31209623529.82128,85000000.0,1820776918.1173437,3374905063.291139,1785714.2857142857,5000000.0,68095238.09523809,75853658.53658536,32100000.0,2954545.4545454546,61203508.77192982,6946557230.306615,228037241.37931034,36931889.80716253,552573827.5909568,45909090.90909091,67739726.02739726,529566896.6821061,991606463.878327,16681952364.804604],\"cornerradius\":5},\"name\":\"\",\"parents\":[\"Parties\\u002fAAM AADMI PARTY\",\"Parties\\u002fRASHTRIYA JANTA DAL\",\"Parties\\u002fAAM AADMI PARTY\",\"Parties\\u002fPRESIDENT, ALL INDIA CONGRESS COMMITTEE\",\"Parties\\u002fSHIVSENA\",\"Parties\\u002fAAM AADMI PARTY\",\"Parties\\u002fTELUGU DESAM PARTY\",\"Parties\\u002fBHARATIYA JANATA PARTY\",\"Parties\\u002fJAMMU AND KASHMIR NATIONAL CONFERENCE\",\"Parties\\u002fBIHAR PRADESH JANTA DAL(UNITED)\",\"Parties\\u002fSHIROMANI AKALI DAL\",\"Parties\\u002fBHARAT RASHTRA SAMITHI\",\"Parties\\u002fALL INDIA TRINAMOOL CONGRESS\",\"Parties\\u002fSHIVSENA\",\"Parties\\u002fBHARAT RASHTRA SAMITHI\",\"Parties\\u002fTELUGU DESAM PARTY\",\"Parties\\u002fBIJU JANATA DAL\",\"Parties\\u002fSHIROMANI AKALI DAL\",\"Parties\\u002fALL INDIA TRINAMOOL CONGRESS\",\"Parties\\u002fDRAVIDA MUNNETRA KAZHAGAM (DMK)\",\"Parties\\u002fSIKKIM DEMOCRATIC FRONT\",\"Parties\\u002fSIKKIM KRANTIKARI MORCHA\",\"Parties\\u002fYSR  CONGRESS PARTY  (YUVAJANA SRAMIKA RYTHU CONGRESS PARTY)\",\"Parties\\u002fALL INDIA TRINAMOOL CONGRESS\",\"Parties\\u002fDRAVIDA MUNNETRA KAZHAGAM (DMK)\",\"Parties\\u002fALL INDIA TRINAMOOL CONGRESS\",\"Parties\\u002fSHIVSENA\",\"Parties\\u002fGOA FORWARD PARTY\",\"Parties\\u002fALL INDIA TRINAMOOL CONGRESS\",\"Parties\\u002fRASHTRIYA JANTA DAL\",\"Parties\\u002fJANATA DAL ( SECULAR )\",\"Parties\\u002fSIKKIM KRANTIKARI MORCHA\",\"Parties\\u002fBIJU JANATA DAL\",\"Parties\\u002fJANATA DAL ( SECULAR )\",\"Parties\\u002fADYAKSHA SAMAJVADI PARTY\",\"Parties\\u002fSHIROMANI AKALI DAL\",\"Parties\\u002fADYAKSHA SAMAJVADI PARTY\",\"Parties\\u002fBHARATIYA JANATA PARTY\",\"Parties\\u002fNATIONALIST CONGRESS PARTY MAHARASHTRA PRADESH\",\"Parties\\u002fNATIONALIST CONGRESS PARTY MAHARASHTRA PRADESH\",\"Parties\\u002fBHARAT RASHTRA SAMITHI\",\"Parties\\u002fDRAVIDA MUNNETRA KAZHAGAM (DMK)\",\"Parties\\u002fBHARAT RASHTRA SAMITHI\",\"Parties\\u002fBHARATIYA JANATA PARTY\",\"Parties\\u002fDRAVIDA MUNNETRA KAZHAGAM (DMK)\",\"Parties\\u002fJANASENA PARTY\",\"Parties\\u002fJANATA DAL ( SECULAR )\",\"Parties\\u002fTELUGU DESAM PARTY\",\"Parties\\u002fYSR  CONGRESS PARTY  (YUVAJANA SRAMIKA RYTHU CONGRESS PARTY)\",\"Parties\\u002fBIHAR PRADESH JANTA DAL(UNITED)\",\"Parties\\u002fSIKKIM KRANTIKARI MORCHA\",\"Parties\\u002fAAM AADMI PARTY\",\"Parties\\u002fJHARKHAND MUKTI MORCHA\",\"Parties\\u002fPRESIDENT, ALL INDIA CONGRESS COMMITTEE\",\"Parties\\u002fBIJU JANATA DAL\",\"Parties\\u002fJANATA DAL ( SECULAR )\",\"Parties\\u002fJANASENA PARTY\",\"Parties\\u002fTELUGU DESAM PARTY\",\"Parties\\u002fYSR  CONGRESS PARTY  (YUVAJANA SRAMIKA RYTHU CONGRESS PARTY)\",\"Parties\\u002fYSR  CONGRESS PARTY  (YUVAJANA SRAMIKA RYTHU CONGRESS PARTY)\",\"Parties\\u002fAAM AADMI PARTY\",\"Parties\\u002fALL INDIA TRINAMOOL CONGRESS\",\"Parties\\u002fBHARAT RASHTRA SAMITHI\",\"Parties\\u002fBHARATIYA JANATA PARTY\",\"Parties\\u002fBIJU JANATA DAL\",\"Parties\\u002fDRAVIDA MUNNETRA KAZHAGAM (DMK)\",\"Parties\\u002fJANATA DAL ( SECULAR )\",\"Parties\\u002fJHARKHAND MUKTI MORCHA\",\"Parties\\u002fNATIONALIST CONGRESS PARTY MAHARASHTRA PRADESH\",\"Parties\\u002fPRESIDENT, ALL INDIA CONGRESS COMMITTEE\",\"Parties\\u002fRASHTRIYA JANTA DAL\",\"Parties\\u002fSHIROMANI AKALI DAL\",\"Parties\\u002fSHIVSENA\",\"Parties\\u002fSIKKIM KRANTIKARI MORCHA\",\"Parties\\u002fTELUGU DESAM PARTY\",\"Parties\\u002fYSR  CONGRESS PARTY  (YUVAJANA SRAMIKA RYTHU CONGRESS PARTY)\",\"Parties\\u002fSHIVSENA\",\"Parties\\u002fJHARKHAND MUKTI MORCHA\",\"Parties\\u002fRASHTRIYA JANTA DAL\",\"Parties\\u002fBHARATIYA JANATA PARTY\",\"Parties\\u002fNATIONALIST CONGRESS PARTY MAHARASHTRA PRADESH\",\"Parties\\u002fSHIVSENA\",\"Parties\\u002fNATIONALIST CONGRESS PARTY MAHARASHTRA PRADESH\",\"Parties\\u002fBIJU JANATA DAL\",\"Parties\\u002fRASHTRIYA JANTA DAL\",\"Parties\\u002fJANATA DAL ( SECULAR )\",\"Parties\\u002fBIJU JANATA DAL\",\"Parties\\u002fSHIROMANI AKALI DAL\",\"Parties\\u002fTELUGU DESAM PARTY\",\"Parties\\u002fBIHAR PRADESH JANTA DAL(UNITED)\",\"Parties\\u002fJHARKHAND MUKTI MORCHA\",\"Parties\\u002fMAHARASHTRAWADI GOMNTAK PARTY\",\"Parties\\u002fJANASENA PARTY\",\"Parties\\u002fYSR  CONGRESS PARTY  (YUVAJANA SRAMIKA RYTHU CONGRESS PARTY)\",\"Parties\\u002fJHARKHAND MUKTI MORCHA\",\"Parties\\u002fAAM AADMI PARTY\",\"Parties\\u002fNATIONALIST CONGRESS PARTY MAHARASHTRA PRADESH\",\"Parties\\u002fSHIVSENA\",\"Parties\\u002fADYAKSHA SAMAJVADI PARTY\",\"Parties\\u002fSIKKIM DEMOCRATIC FRONT\",\"Parties\\u002fSIKKIM KRANTIKARI MORCHA\",\"Parties\\u002fAAM AADMI PARTY\",\"Parties\\u002fSHIVSENA\",\"Parties\\u002fBIJU JANATA DAL\",\"Parties\\u002fGOA FORWARD PARTY\",\"Parties\\u002fMAHARASHTRAWADI GOMNTAK PARTY\",\"Parties\\u002fJANASENA PARTY\",\"Parties\\u002fSHIROMANI AKALI DAL\",\"Parties\\u002fBHARATIYA JANATA PARTY\",\"Parties\\u002fJHARKHAND MUKTI MORCHA\",\"Parties\\u002fPRESIDENT, ALL INDIA CONGRESS COMMITTEE\",\"Parties\\u002fJANASENA PARTY\",\"Parties\\u002fPRESIDENT, ALL INDIA CONGRESS COMMITTEE\",\"Parties\\u002fTELUGU DESAM PARTY\",\"Parties\\u002fDRAVIDA MUNNETRA KAZHAGAM (DMK)\",\"Parties\\u002fRASHTRIYA JANTA DAL\",\"Parties\\u002fBHARAT RASHTRA SAMITHI\",\"Parties\\u002fPRESIDENT, ALL INDIA CONGRESS COMMITTEE\",\"Parties\\u002fSHIVSENA\",\"Parties\\u002fSIKKIM KRANTIKARI MORCHA\",\"Parties\",\"Parties\",\"Parties\",\"Parties\",\"Parties\",\"Parties\",\"Parties\",\"Parties\",\"Parties\",\"Parties\",\"Parties\",\"Parties\",\"Parties\",\"Parties\",\"Parties\",\"Parties\",\"Parties\",\"Parties\",\"Parties\",\"Parties\",\"Parties\",\"Parties\",\"Parties\",\"\"],\"values\":[50000000.0,90000000.0,100000000.0,530000000.0,850000000.0,80000000.0,100000000.0,1830000000.0,5000000.0,10000000.0,10000000.0,500000000.0,900000000.0,30000000.0,320000000.0,100000000.0,1745000000.0,50000000.0,4350000000.0,4530000000.0,50000000.0,80000000.0,1540000000.0,450000000.0,500000000.0,620000000.0,30000000.0,2000000.0,2810000000.0,350000000.0,50000000.0,35000000.0,1000000000.0,50000000.0,100000000.0,5000000.0,2100000.0,1755000000.0,30000000.0,25000000.0,450000000.0,250000000.0,1500000000.0,5190000000.0,600000000.0,40000000.0,50000000.0,280000000.0,370000000.0,100000000.0,70000000.0,70000000.0,10000000.0,693500000.0,450000000.0,100000000.0,50000000.0,140000000.0,170000000.0,170000000.0,232500000.0,6795214000.0,8201599000.0,41150511000.0,3010000000.0,360000000.0,60000000.0,7500000.0,57000000.0,9507445000.0,174000000.0,60000.0,224514000.0,30000000.0,895800000.0,797500000.0,50000000.0,20000000.0,25000000.0,3750000000.0,100000000.0,250000000.0,38000000.0,450000000.0,35000000.0,100000000.0,500000000.0,40000.0,400000000.0,10000000.0,7500000.0,2000000.0,10000000.0,240000000.0,30000000.0,50000000.0,35000000.0,30000000.0,30000000.0,5000000.0,70000000.0,70000000.0,30000000.0,600000000.0,1500000.0,3500000.0,10000000.0,7500000.0,2266500000.0,50000000.0,1040000000.0,100000000.0,1100000000.0,200000000.0,80000000.0,51000000.0,940000000.0,640000000.0,30000000.0,80000000.0,652500000.0,132100000.0,15925214000.0,11911599000.0,55942011000.0,120000000.0,7755000000.0,6320000000.0,3500000.0,5000000.0,210000000.0,410000000.0,125000000.0,5500000.0,285000000.0,13510945000.0,725000000.0,72600000.0,1524514000.0,55000000.0,365000000.0,2115800000.0,3287500000.0,121458783000.0],\"type\":\"treemap\",\"textfont\":{\"color\":\"white\",\"size\":15},\"hoverinfo\":\"label+value+percent entry\",\"textinfo\":\"label+value\",\"textposition\":\"top left\"}],                        {\"template\":{\"data\":{\"histogram2dcontour\":[{\"type\":\"histogram2dcontour\",\"colorbar\":{\"outlinewidth\":0,\"ticks\":\"\"},\"colorscale\":[[0.0,\"#0d0887\"],[0.1111111111111111,\"#46039f\"],[0.2222222222222222,\"#7201a8\"],[0.3333333333333333,\"#9c179e\"],[0.4444444444444444,\"#bd3786\"],[0.5555555555555556,\"#d8576b\"],[0.6666666666666666,\"#ed7953\"],[0.7777777777777778,\"#fb9f3a\"],[0.8888888888888888,\"#fdca26\"],[1.0,\"#f0f921\"]]}],\"choropleth\":[{\"type\":\"choropleth\",\"colorbar\":{\"outlinewidth\":0,\"ticks\":\"\"}}],\"histogram2d\":[{\"type\":\"histogram2d\",\"colorbar\":{\"outlinewidth\":0,\"ticks\":\"\"},\"colorscale\":[[0.0,\"#0d0887\"],[0.1111111111111111,\"#46039f\"],[0.2222222222222222,\"#7201a8\"],[0.3333333333333333,\"#9c179e\"],[0.4444444444444444,\"#bd3786\"],[0.5555555555555556,\"#d8576b\"],[0.6666666666666666,\"#ed7953\"],[0.7777777777777778,\"#fb9f3a\"],[0.8888888888888888,\"#fdca26\"],[1.0,\"#f0f921\"]]}],\"heatmap\":[{\"type\":\"heatmap\",\"colorbar\":{\"outlinewidth\":0,\"ticks\":\"\"},\"colorscale\":[[0.0,\"#0d0887\"],[0.1111111111111111,\"#46039f\"],[0.2222222222222222,\"#7201a8\"],[0.3333333333333333,\"#9c179e\"],[0.4444444444444444,\"#bd3786\"],[0.5555555555555556,\"#d8576b\"],[0.6666666666666666,\"#ed7953\"],[0.7777777777777778,\"#fb9f3a\"],[0.8888888888888888,\"#fdca26\"],[1.0,\"#f0f921\"]]}],\"heatmapgl\":[{\"type\":\"heatmapgl\",\"colorbar\":{\"outlinewidth\":0,\"ticks\":\"\"},\"colorscale\":[[0.0,\"#0d0887\"],[0.1111111111111111,\"#46039f\"],[0.2222222222222222,\"#7201a8\"],[0.3333333333333333,\"#9c179e\"],[0.4444444444444444,\"#bd3786\"],[0.5555555555555556,\"#d8576b\"],[0.6666666666666666,\"#ed7953\"],[0.7777777777777778,\"#fb9f3a\"],[0.8888888888888888,\"#fdca26\"],[1.0,\"#f0f921\"]]}],\"contourcarpet\":[{\"type\":\"contourcarpet\",\"colorbar\":{\"outlinewidth\":0,\"ticks\":\"\"}}],\"contour\":[{\"type\":\"contour\",\"colorbar\":{\"outlinewidth\":0,\"ticks\":\"\"},\"colorscale\":[[0.0,\"#0d0887\"],[0.1111111111111111,\"#46039f\"],[0.2222222222222222,\"#7201a8\"],[0.3333333333333333,\"#9c179e\"],[0.4444444444444444,\"#bd3786\"],[0.5555555555555556,\"#d8576b\"],[0.6666666666666666,\"#ed7953\"],[0.7777777777777778,\"#fb9f3a\"],[0.8888888888888888,\"#fdca26\"],[1.0,\"#f0f921\"]]}],\"surface\":[{\"type\":\"surface\",\"colorbar\":{\"outlinewidth\":0,\"ticks\":\"\"},\"colorscale\":[[0.0,\"#0d0887\"],[0.1111111111111111,\"#46039f\"],[0.2222222222222222,\"#7201a8\"],[0.3333333333333333,\"#9c179e\"],[0.4444444444444444,\"#bd3786\"],[0.5555555555555556,\"#d8576b\"],[0.6666666666666666,\"#ed7953\"],[0.7777777777777778,\"#fb9f3a\"],[0.8888888888888888,\"#fdca26\"],[1.0,\"#f0f921\"]]}],\"mesh3d\":[{\"type\":\"mesh3d\",\"colorbar\":{\"outlinewidth\":0,\"ticks\":\"\"}}],\"scatter\":[{\"fillpattern\":{\"fillmode\":\"overlay\",\"size\":10,\"solidity\":0.2},\"type\":\"scatter\"}],\"parcoords\":[{\"type\":\"parcoords\",\"line\":{\"colorbar\":{\"outlinewidth\":0,\"ticks\":\"\"}}}],\"scatterpolargl\":[{\"type\":\"scatterpolargl\",\"marker\":{\"colorbar\":{\"outlinewidth\":0,\"ticks\":\"\"}}}],\"bar\":[{\"error_x\":{\"color\":\"#2a3f5f\"},\"error_y\":{\"color\":\"#2a3f5f\"},\"marker\":{\"line\":{\"color\":\"#E5ECF6\",\"width\":0.5},\"pattern\":{\"fillmode\":\"overlay\",\"size\":10,\"solidity\":0.2}},\"type\":\"bar\"}],\"scattergeo\":[{\"type\":\"scattergeo\",\"marker\":{\"colorbar\":{\"outlinewidth\":0,\"ticks\":\"\"}}}],\"scatterpolar\":[{\"type\":\"scatterpolar\",\"marker\":{\"colorbar\":{\"outlinewidth\":0,\"ticks\":\"\"}}}],\"histogram\":[{\"marker\":{\"pattern\":{\"fillmode\":\"overlay\",\"size\":10,\"solidity\":0.2}},\"type\":\"histogram\"}],\"scattergl\":[{\"type\":\"scattergl\",\"marker\":{\"colorbar\":{\"outlinewidth\":0,\"ticks\":\"\"}}}],\"scatter3d\":[{\"type\":\"scatter3d\",\"line\":{\"colorbar\":{\"outlinewidth\":0,\"ticks\":\"\"}},\"marker\":{\"colorbar\":{\"outlinewidth\":0,\"ticks\":\"\"}}}],\"scattermapbox\":[{\"type\":\"scattermapbox\",\"marker\":{\"colorbar\":{\"outlinewidth\":0,\"ticks\":\"\"}}}],\"scatterternary\":[{\"type\":\"scatterternary\",\"marker\":{\"colorbar\":{\"outlinewidth\":0,\"ticks\":\"\"}}}],\"scattercarpet\":[{\"type\":\"scattercarpet\",\"marker\":{\"colorbar\":{\"outlinewidth\":0,\"ticks\":\"\"}}}],\"carpet\":[{\"aaxis\":{\"endlinecolor\":\"#2a3f5f\",\"gridcolor\":\"white\",\"linecolor\":\"white\",\"minorgridcolor\":\"white\",\"startlinecolor\":\"#2a3f5f\"},\"baxis\":{\"endlinecolor\":\"#2a3f5f\",\"gridcolor\":\"white\",\"linecolor\":\"white\",\"minorgridcolor\":\"white\",\"startlinecolor\":\"#2a3f5f\"},\"type\":\"carpet\"}],\"table\":[{\"cells\":{\"fill\":{\"color\":\"#EBF0F8\"},\"line\":{\"color\":\"white\"}},\"header\":{\"fill\":{\"color\":\"#C8D4E3\"},\"line\":{\"color\":\"white\"}},\"type\":\"table\"}],\"barpolar\":[{\"marker\":{\"line\":{\"color\":\"#E5ECF6\",\"width\":0.5},\"pattern\":{\"fillmode\":\"overlay\",\"size\":10,\"solidity\":0.2}},\"type\":\"barpolar\"}],\"pie\":[{\"automargin\":true,\"type\":\"pie\"}]},\"layout\":{\"autotypenumbers\":\"strict\",\"colorway\":[\"#636efa\",\"#EF553B\",\"#00cc96\",\"#ab63fa\",\"#FFA15A\",\"#19d3f3\",\"#FF6692\",\"#B6E880\",\"#FF97FF\",\"#FECB52\"],\"font\":{\"color\":\"#2a3f5f\"},\"hovermode\":\"closest\",\"hoverlabel\":{\"align\":\"left\"},\"paper_bgcolor\":\"white\",\"plot_bgcolor\":\"#E5ECF6\",\"polar\":{\"bgcolor\":\"#E5ECF6\",\"angularaxis\":{\"gridcolor\":\"white\",\"linecolor\":\"white\",\"ticks\":\"\"},\"radialaxis\":{\"gridcolor\":\"white\",\"linecolor\":\"white\",\"ticks\":\"\"}},\"ternary\":{\"bgcolor\":\"#E5ECF6\",\"aaxis\":{\"gridcolor\":\"white\",\"linecolor\":\"white\",\"ticks\":\"\"},\"baxis\":{\"gridcolor\":\"white\",\"linecolor\":\"white\",\"ticks\":\"\"},\"caxis\":{\"gridcolor\":\"white\",\"linecolor\":\"white\",\"ticks\":\"\"}},\"coloraxis\":{\"colorbar\":{\"outlinewidth\":0,\"ticks\":\"\"}},\"colorscale\":{\"sequential\":[[0.0,\"#0d0887\"],[0.1111111111111111,\"#46039f\"],[0.2222222222222222,\"#7201a8\"],[0.3333333333333333,\"#9c179e\"],[0.4444444444444444,\"#bd3786\"],[0.5555555555555556,\"#d8576b\"],[0.6666666666666666,\"#ed7953\"],[0.7777777777777778,\"#fb9f3a\"],[0.8888888888888888,\"#fdca26\"],[1.0,\"#f0f921\"]],\"sequentialminus\":[[0.0,\"#0d0887\"],[0.1111111111111111,\"#46039f\"],[0.2222222222222222,\"#7201a8\"],[0.3333333333333333,\"#9c179e\"],[0.4444444444444444,\"#bd3786\"],[0.5555555555555556,\"#d8576b\"],[0.6666666666666666,\"#ed7953\"],[0.7777777777777778,\"#fb9f3a\"],[0.8888888888888888,\"#fdca26\"],[1.0,\"#f0f921\"]],\"diverging\":[[0,\"#8e0152\"],[0.1,\"#c51b7d\"],[0.2,\"#de77ae\"],[0.3,\"#f1b6da\"],[0.4,\"#fde0ef\"],[0.5,\"#f7f7f7\"],[0.6,\"#e6f5d0\"],[0.7,\"#b8e186\"],[0.8,\"#7fbc41\"],[0.9,\"#4d9221\"],[1,\"#276419\"]]},\"xaxis\":{\"gridcolor\":\"white\",\"linecolor\":\"white\",\"ticks\":\"\",\"title\":{\"standoff\":15},\"zerolinecolor\":\"white\",\"automargin\":true,\"zerolinewidth\":2},\"yaxis\":{\"gridcolor\":\"white\",\"linecolor\":\"white\",\"ticks\":\"\",\"title\":{\"standoff\":15},\"zerolinecolor\":\"white\",\"automargin\":true,\"zerolinewidth\":2},\"scene\":{\"xaxis\":{\"backgroundcolor\":\"#E5ECF6\",\"gridcolor\":\"white\",\"linecolor\":\"white\",\"showbackground\":true,\"ticks\":\"\",\"zerolinecolor\":\"white\",\"gridwidth\":2},\"yaxis\":{\"backgroundcolor\":\"#E5ECF6\",\"gridcolor\":\"white\",\"linecolor\":\"white\",\"showbackground\":true,\"ticks\":\"\",\"zerolinecolor\":\"white\",\"gridwidth\":2},\"zaxis\":{\"backgroundcolor\":\"#E5ECF6\",\"gridcolor\":\"white\",\"linecolor\":\"white\",\"showbackground\":true,\"ticks\":\"\",\"zerolinecolor\":\"white\",\"gridwidth\":2}},\"shapedefaults\":{\"line\":{\"color\":\"#2a3f5f\"}},\"annotationdefaults\":{\"arrowcolor\":\"#2a3f5f\",\"arrowhead\":0,\"arrowwidth\":1},\"geo\":{\"bgcolor\":\"white\",\"landcolor\":\"#E5ECF6\",\"subunitcolor\":\"white\",\"showland\":true,\"showlakes\":true,\"lakecolor\":\"white\"},\"title\":{\"x\":0.05},\"mapbox\":{\"style\":\"light\"}}},\"coloraxis\":{\"colorbar\":{\"title\":{\"text\":\"TotalAmount\"}},\"colorscale\":[[0.0,\"rgb(161, 105, 40)\"],[0.16666666666666666,\"rgb(189, 146, 90)\"],[0.3333333333333333,\"rgb(214, 189, 141)\"],[0.5,\"rgb(237, 234, 194)\"],[0.6666666666666666,\"rgb(181, 200, 184)\"],[0.8333333333333334,\"rgb(121, 167, 172)\"],[1.0,\"rgb(40, 135, 161)\"]],\"cmid\":507500000.0,\"cmin\":0,\"cmax\":9259334260.000004},\"legend\":{\"tracegroupgap\":0},\"title\":{\"text\":\"Enchasers and their fund sources\"},\"margin\":{\"t\":50,\"l\":25,\"r\":25,\"b\":25},\"uniformtext\":{\"minsize\":8,\"mode\":false},\"paper_bgcolor\":\"LightSteelBlue\"},                        {\"responsive\": true}                    ).then(function(){\n",
              "                            \n",
              "var gd = document.getElementById('d69c2d16-95ec-4de7-bdf2-9c2e609f55c3');\n",
              "var x = new MutationObserver(function (mutations, observer) {{\n",
              "        var display = window.getComputedStyle(gd).display;\n",
              "        if (!display || display === 'none') {{\n",
              "            console.log([gd, 'removed!']);\n",
              "            Plotly.purge(gd);\n",
              "            observer.disconnect();\n",
              "        }}\n",
              "}});\n",
              "\n",
              "// Listen for the removal of the full notebook cells\n",
              "var notebookContainer = gd.closest('#notebook-container');\n",
              "if (notebookContainer) {{\n",
              "    x.observe(notebookContainer, {childList: true});\n",
              "}}\n",
              "\n",
              "// Listen for the clearing of the current output cell\n",
              "var outputEl = gd.closest('.output');\n",
              "if (outputEl) {{\n",
              "    x.observe(outputEl, {childList: true});\n",
              "}}\n",
              "\n",
              "                        })                };                            </script>        </div>\n",
              "</body>\n",
              "</html>"
            ]
          },
          "metadata": {}
        }
      ]
    },
    {
      "cell_type": "markdown",
      "source": [
        "#### Sunburst Chart"
      ],
      "metadata": {
        "id": "ok9iGV-XbQYN"
      }
    },
    {
      "cell_type": "code",
      "source": [
        "max_value_threshold = df_with_other.toPandas()['TotalAmount'].quantile(0.99)\n",
        "\n",
        "fig = px.sunburst(\n",
        "    df_with_other.toPandas(),\n",
        "    path=['EnchaserName', 'PurchaserName'],\n",
        "    values='TotalAmount',\n",
        "    color=\"TotalAmount\",\n",
        "    color_continuous_scale='earth',\n",
        "    color_continuous_midpoint=df_with_other.toPandas()['TotalAmount'].quantile(0.75), #df_with_other.toPandas()['TotalAmount'].mean(),\n",
        "    range_color=[0, max_value_threshold]\n",
        ")\n",
        "\n",
        "fig.update_traces(textinfo='label',\n",
        "                  hoverinfo='label+value+percent entry',\n",
        "                  textfont_size=25,\n",
        "                  textfont_color=\"black\",\n",
        "                  insidetextorientation='radial')\n",
        "\n",
        "fig.update_layout(uniformtext=dict(minsize=8, mode='hide'),\n",
        "                  margin=dict(t=50, l=25, r=25, b=25),\n",
        "                  title_text=\"Enchasers and their fund sources\",\n",
        "                  title_font_size=15,\n",
        "                  autosize=False,\n",
        "                  width=1000,\n",
        "                  height=1000,\n",
        "                  paper_bgcolor=\"LightSteelBlue\")\n",
        "fig.show()"
      ],
      "metadata": {
        "colab": {
          "base_uri": "https://localhost:8080/",
          "height": 1000
        },
        "id": "Z1S3MkZQrJVl",
        "outputId": "a63cfda7-1f3d-445e-fcd7-6e02f137d335"
      },
      "execution_count": 257,
      "outputs": [
        {
          "output_type": "display_data",
          "data": {
            "text/html": [
              "<html>\n",
              "<head><meta charset=\"utf-8\" /></head>\n",
              "<body>\n",
              "    <div>            <script src=\"https://cdnjs.cloudflare.com/ajax/libs/mathjax/2.7.5/MathJax.js?config=TeX-AMS-MML_SVG\"></script><script type=\"text/javascript\">if (window.MathJax && window.MathJax.Hub && window.MathJax.Hub.Config) {window.MathJax.Hub.Config({SVG: {font: \"STIX-Web\"}});}</script>                <script type=\"text/javascript\">window.PlotlyConfig = {MathJaxConfig: 'local'};</script>\n",
              "        <script charset=\"utf-8\" src=\"https://cdn.plot.ly/plotly-2.24.1.min.js\"></script>                <div id=\"d5e53117-eebb-48f8-9cfa-8bd7508f82dd\" class=\"plotly-graph-div\" style=\"height:1000px; width:1000px;\"></div>            <script type=\"text/javascript\">                                    window.PLOTLYENV=window.PLOTLYENV || {};                                    if (document.getElementById(\"d5e53117-eebb-48f8-9cfa-8bd7508f82dd\")) {                    Plotly.newPlot(                        \"d5e53117-eebb-48f8-9cfa-8bd7508f82dd\",                        [{\"branchvalues\":\"total\",\"customdata\":[[50000000.0],[90000000.0],[100000000.0],[530000000.0],[850000000.0],[80000000.0],[100000000.0],[1830000000.0],[5000000.0],[10000000.0],[10000000.0],[500000000.0],[900000000.0],[30000000.0],[320000000.0],[100000000.0],[1745000000.0],[50000000.0],[4350000000.0],[4530000000.0],[50000000.0],[80000000.0],[1540000000.0],[450000000.0],[500000000.0],[620000000.0],[30000000.0],[2000000.0],[2810000000.0],[350000000.0],[50000000.0],[35000000.0],[1000000000.0],[50000000.0],[100000000.0],[5000000.0],[2100000.0],[1755000000.0],[30000000.0],[25000000.0],[450000000.0],[250000000.0],[1500000000.0],[5190000000.0],[600000000.0],[40000000.0],[50000000.0],[280000000.0],[370000000.0],[100000000.0],[70000000.0],[70000000.0],[10000000.0],[693500000.0],[450000000.0],[100000000.0],[50000000.0],[140000000.0],[170000000.0],[170000000.0],[232500000.0],[6795214000.0],[8201599000.0],[41150511000.0],[3010000000.0],[360000000.0],[60000000.0],[7500000.0],[57000000.0],[9507445000.0],[174000000.0],[60000.0],[224514000.0],[30000000.0],[895800000.0],[797500000.0],[50000000.0],[20000000.0],[25000000.0],[3750000000.0],[100000000.0],[250000000.0],[38000000.0],[450000000.0],[35000000.0],[100000000.0],[500000000.0],[40000.0],[400000000.0],[10000000.0],[7500000.0],[2000000.0],[10000000.0],[240000000.0],[30000000.0],[50000000.0],[35000000.0],[30000000.0],[30000000.0],[5000000.0],[70000000.0],[70000000.0],[30000000.0],[600000000.0],[1500000.0],[3500000.0],[10000000.0],[7500000.0],[2266500000.0],[50000000.0],[1040000000.0],[100000000.0],[1100000000.0],[200000000.0],[80000000.0],[51000000.0],[940000000.0],[640000000.0],[30000000.0],[80000000.0],[130660919.54022989],[82546631.33989403],[4671236022.686791],[5956775925.448884],[31209623529.82128],[85000000.0],[1820776918.1173437],[3374905063.291139],[1785714.2857142857],[5000000.0],[68095238.09523809],[75853658.53658536],[32100000.0],[2954545.4545454546],[61203508.77192982],[6946557230.306615],[228037241.37931034],[36931889.80716253],[552573827.5909568],[45909090.90909091],[67739726.02739726],[529566896.6821061],[991606463.878327]],\"domain\":{\"x\":[0.0,1.0],\"y\":[0.0,1.0]},\"hovertemplate\":\"labels=%{label}\\u003cbr\\u003eTotalAmount_sum=%{value}\\u003cbr\\u003eparent=%{parent}\\u003cbr\\u003eid=%{id}\\u003cbr\\u003eTotalAmount=%{color}\\u003cextra\\u003e\\u003c\\u002fextra\\u003e\",\"ids\":[\"AAM AADMI PARTY\\u002fASIAN TRADING CORPORATION LIMITED\",\"RASHTRIYA JANTA DAL\\u002fASKUS LOGISTICS PRIVATE LIMITED\",\"AAM AADMI PARTY\\u002fAVEES TRADING FINANCE PVT LTD\",\"PRESIDENT, ALL INDIA CONGRESS COMMITTEE\\u002fAVEES TRADING FINANCE PVT LTD\",\"SHIVSENA\\u002fB G SHIRKE CONSTRUCTION TECHNOLOGY PVT L TD\",\"AAM AADMI PARTY\\u002fBAJAJ AUTO LTD\",\"TELUGU DESAM PARTY\\u002fBHARAT BIOTECH INTERNATIONAL LIMITED\",\"BHARATIYA JANATA PARTY\\u002fBHARTI AIRTEL LIMITED\",\"JAMMU AND KASHMIR NATIONAL CONFERENCE\\u002fBHARTI AIRTEL LIMITEDAIRTEL CURRE NT AC-GCO\",\"BIHAR PRADESH JANTA DAL(UNITED)\\u002fBHARTI INFRATEL LIMITED\",\"SHIROMANI AKALI DAL\\u002fBHARTI INFRATEL LIMITED\",\"BHARAT RASHTRA SAMITHI\\u002fCHENNAI GREEN WOODS PRIVATE LIMITED\",\"ALL INDIA TRINAMOOL CONGRESS\\u002fDHARIWAL INFRASTRUCTURE LIMITED\",\"SHIVSENA\\u002fDINESHCHANDRA R AGRAWAL INFRACON PVT LTD\",\"BHARAT RASHTRA SAMITHI\\u002fDR.REDDY'S LABORATORIES LTD\",\"TELUGU DESAM PARTY\\u002fDR.REDDY'S LABORATORIES LTD\",\"BIJU JANATA DAL\\u002fESSEL MINING AND INDS LTD\",\"SHIROMANI AKALI DAL\\u002fFASTWAY TRANSMISSIONS PVT LTD\",\"ALL INDIA TRINAMOOL CONGRESS\\u002fFUTURE GAMING AND HOTEL SERVICES PR\",\"DRAVIDA MUNNETRA KAZHAGAM (DMK)\\u002fFUTURE GAMING AND HOTEL SERVICES PR\",\"SIKKIM DEMOCRATIC FRONT\\u002fFUTURE GAMING AND HOTEL SERVICES PR\",\"SIKKIM KRANTIKARI MORCHA\\u002fFUTURE GAMING AND HOTEL SERVICES PR\",\"YSR  CONGRESS PARTY  (YUVAJANA SRAMIKA RYTHU CONGRESS PARTY)\\u002fFUTURE GAMING AND HOTEL SERVICES PR\",\"ALL INDIA TRINAMOOL CONGRESS\\u002fFUTURE GAMING AND HOTEL SERVICES PRIVATE LIMITED\",\"DRAVIDA MUNNETRA KAZHAGAM (DMK)\\u002fFUTURE GAMING AND HOTEL SERVICES PRIVATE LIMITED\",\"ALL INDIA TRINAMOOL CONGRESS\\u002fFUTURE GAMING AND HOTEL SERVICES PVT LTD\",\"SHIVSENA\\u002fGENEXT HARDWARE   PARKS PVT. LTD\",\"GOA FORWARD PARTY\\u002fGOA CARBON LTD\",\"ALL INDIA TRINAMOOL CONGRESS\\u002fHALDIA ENERGY LIMITED\",\"RASHTRIYA JANTA DAL\\u002fIFB AGRO INDUSTRIES LIMITED\",\"JANATA DAL ( SECULAR )\\u002fILABS HYD TECHNOLOGY CENTRE PVT LTD\",\"SIKKIM KRANTIKARI MORCHA\\u002fIPCA LABORATORIES LIMITED\",\"BIJU JANATA DAL\\u002fJINDAL STEEL AND POWER LIMITED\",\"JANATA DAL ( SECULAR )\\u002fKCR ENTERPRISE LLP\",\"ADYAKSHA SAMAJVADI PARTY\\u002fKEVENTER FOODPARK INFRA LIMITED\",\"SHIROMANI AKALI DAL\\u002fKEVENTER FOODPARK INFRA LIMITED\",\"ADYAKSHA SAMAJVADI PARTY\\u002fM S JUGENDRA SINGH AND COMPANY\",\"BHARATIYA JANATA PARTY\\u002fMADANLAL LTD.\",\"NATIONALIST CONGRESS PARTY MAHARASHTRA PRADESH\\u002fMAGARPATTA TOWNSHIP DEV AND CONST C\",\"NATIONALIST CONGRESS PARTY MAHARASHTRA PRADESH\\u002fMAHALAXMI VIDYUT PVT.LTD.\",\"BHARAT RASHTRA SAMITHI\\u002fMEGHA ENGINEERING & INFRASTRUCTURES LIMITED\",\"DRAVIDA MUNNETRA KAZHAGAM (DMK)\\u002fMEGHA ENGINEERING & INFRASTRUCTURES LIMITED\",\"BHARAT RASHTRA SAMITHI\\u002fMEGHA ENGINEERING AND INFRASTRUCTURES LI MITED\",\"BHARATIYA JANATA PARTY\\u002fMEGHA ENGINEERING AND INFRASTRUCTURES LI MITED\",\"DRAVIDA MUNNETRA KAZHAGAM (DMK)\\u002fMEGHA ENGINEERING AND INFRASTRUCTURES LI MITED\",\"JANASENA PARTY\\u002fMEGHA ENGINEERING AND INFRASTRUCTURES LI MITED\",\"JANATA DAL ( SECULAR )\\u002fMEGHA ENGINEERING AND INFRASTRUCTURES LI MITED\",\"TELUGU DESAM PARTY\\u002fMEGHA ENGINEERING AND INFRASTRUCTURES LI MITED\",\"YSR  CONGRESS PARTY  (YUVAJANA SRAMIKA RYTHU CONGRESS PARTY)\\u002fMEGHA ENGINEERING AND INFRASTRUCTURES LI MITED\",\"BIHAR PRADESH JANTA DAL(UNITED)\\u002fMEGHA ENGINEERING AND INFRASTRUCTURES LTD\",\"SIKKIM KRANTIKARI MORCHA\\u002fMICRO LABS LIMITED\",\"AAM AADMI PARTY\\u002fMKJ ENTERPRISES LIMITED\",\"JHARKHAND MUKTI MORCHA\\u002fMKJ ENTERPRISES LIMITED\",\"PRESIDENT, ALL INDIA CONGRESS COMMITTEE\\u002fMKJ ENTERPRISES LIMITED\",\"BIJU JANATA DAL\\u002fMS S N MOHANTY\",\"JANATA DAL ( SECULAR )\\u002fNARA CONSTRUCTIONS\",\"JANASENA PARTY\\u002fNATCO PHARMA LTD\",\"TELUGU DESAM PARTY\\u002fNATCO PHARMA LTD\",\"YSR  CONGRESS PARTY  (YUVAJANA SRAMIKA RYTHU CONGRESS PARTY)\\u002fOSTRO JAISALMER PRIVATE LIMITED\",\"YSR  CONGRESS PARTY  (YUVAJANA SRAMIKA RYTHU CONGRESS PARTY)\\u002fOSTRO MADHYA WIND PRIVATE LIMITED\",\"AAM AADMI PARTY\\u002fOther\",\"ALL INDIA TRINAMOOL CONGRESS\\u002fOther\",\"BHARAT RASHTRA SAMITHI\\u002fOther\",\"BHARATIYA JANATA PARTY\\u002fOther\",\"BIJU JANATA DAL\\u002fOther\",\"DRAVIDA MUNNETRA KAZHAGAM (DMK)\\u002fOther\",\"JANATA DAL ( SECULAR )\\u002fOther\",\"JHARKHAND MUKTI MORCHA\\u002fOther\",\"NATIONALIST CONGRESS PARTY MAHARASHTRA PRADESH\\u002fOther\",\"PRESIDENT, ALL INDIA CONGRESS COMMITTEE\\u002fOther\",\"RASHTRIYA JANTA DAL\\u002fOther\",\"SHIROMANI AKALI DAL\\u002fOther\",\"SHIVSENA\\u002fOther\",\"SIKKIM KRANTIKARI MORCHA\\u002fOther\",\"TELUGU DESAM PARTY\\u002fOther\",\"YSR  CONGRESS PARTY  (YUVAJANA SRAMIKA RYTHU CONGRESS PARTY)\\u002fOther\",\"SHIVSENA\\u002fPRL DEVELOPERS PRIVATE LIMITED\",\"JHARKHAND MUKTI MORCHA\\u002fPUJA COAL PRIVATE LIMITED\",\"RASHTRIYA JANTA DAL\\u002fPURULIA BOTTLING PVT LTD\",\"BHARATIYA JANATA PARTY\\u002fQWIKSUPPLYCHAINPRIVATELIMITED\",\"NATIONALIST CONGRESS PARTY MAHARASHTRA PRADESH\\u002fQWIKSUPPLYCHAINPRIVATELIMITED\",\"SHIVSENA\\u002fQWIKSUPPLYCHAINPRIVATELIMITED\",\"NATIONALIST CONGRESS PARTY MAHARASHTRA PRADESH\\u002fRAHUL BHATIA\",\"BIJU JANATA DAL\\u002fRASHMI CEMENT LTD\",\"RASHTRIYA JANTA DAL\\u002fRAUNAK GUPTA\",\"JANATA DAL ( SECULAR )\\u002fRITHWIK PROJECTS  PRIVATE LIMITED\",\"BIJU JANATA DAL\\u002fRUNGTA SONS P LTD\",\"SHIROMANI AKALI DAL\\u002fSANDEEP KHANNA AND ASSOCIATES\",\"TELUGU DESAM PARTY\\u002fSHIRDI SAI ELECTRICALS LTD\",\"BIHAR PRADESH JANTA DAL(UNITED)\\u002fSHREE CEMENT LTD\",\"JHARKHAND MUKTI MORCHA\\u002fSHREE CHAND SARAOGI\",\"MAHARASHTRAWADI GOMNTAK PARTY\\u002fSHRINIVAS VASUDEVA DEMPO\",\"JANASENA PARTY\\u002fSRI CHAITANYA STUDENTS FACILITY MANAGEME\",\"YSR  CONGRESS PARTY  (YUVAJANA SRAMIKA RYTHU CONGRESS PARTY)\\u002fTHE RAMCO CEMENTS LIMITED\",\"JHARKHAND MUKTI MORCHA\\u002fTHRIVENI SAINIK MINING PRIVATE LIMI\",\"AAM AADMI PARTY\\u002fTORRENT  POWER  LIMITED\",\"NATIONALIST CONGRESS PARTY MAHARASHTRA PRADESH\\u002fTORRENT  POWER  LIMITED\",\"SHIVSENA\\u002fTORRENT  POWER  LIMITED\",\"ADYAKSHA SAMAJVADI PARTY\\u002fTORRENT PHARMACEUTICALS LTD\",\"SIKKIM DEMOCRATIC FRONT\\u002fTORRENT PHARMACEUTICALS LTD\",\"SIKKIM KRANTIKARI MORCHA\\u002fTORRENT PHARMACEUTICALS LTD\",\"AAM AADMI PARTY\\u002fTRANSWAYS EXIM PRIVATE LIMITED\",\"SHIVSENA\\u002fULTRA TECH CEMENT LIMITED\",\"BIJU JANATA DAL\\u002fUTKAL ALUMINA INTERNATIONAL LIMITED\",\"GOA FORWARD PARTY\\u002fV M SALGAOCAR CORPORATION PVT LTD\",\"MAHARASHTRAWADI GOMNTAK PARTY\\u002fV M SALGAOCAR CORPORATION PVT LTD\",\"JANASENA PARTY\\u002fVALLURUPALLI PRABHU KISHORE\",\"SHIROMANI AKALI DAL\\u002fVARDHMAN TEXTILES LTD\",\"BHARATIYA JANATA PARTY\\u002fVEDANTA LIMITED\",\"JHARKHAND MUKTI MORCHA\\u002fVEDANTA LIMITED\",\"PRESIDENT, ALL INDIA CONGRESS COMMITTEE\\u002fVEDANTA LIMITED\",\"JANASENA PARTY\\u002fWESTERN UP POWER TRANSMISSION COMPANY LI MITED\",\"PRESIDENT, ALL INDIA CONGRESS COMMITTEE\\u002fWESTERN UP POWER TRANSMISSION COMPANY LI MITED\",\"TELUGU DESAM PARTY\\u002fWESTERN UP POWER TRANSMISSION COMPANY LI MITED\",\"DRAVIDA MUNNETRA KAZHAGAM (DMK)\\u002fWESTWELL GASES PRIVATE LIMITED\",\"RASHTRIYA JANTA DAL\\u002fWESTWELL GASES PRIVATE LIMITED\",\"BHARAT RASHTRA SAMITHI\\u002fYASHODA SUPER SPECIALITY HOSPITAL\",\"PRESIDENT, ALL INDIA CONGRESS COMMITTEE\\u002fYASHODA SUPER SPECIALITY HOSPITAL\",\"SHIVSENA\\u002fYUVAN TRADING   CONSULTANCY LLP\",\"SIKKIM KRANTIKARI MORCHA\\u002fZYDUS HEALTHCARE LIMITED\",\"AAM AADMI PARTY\",\"ADYAKSHA SAMAJVADI PARTY\",\"ALL INDIA TRINAMOOL CONGRESS\",\"BHARAT RASHTRA SAMITHI\",\"BHARATIYA JANATA PARTY\",\"BIHAR PRADESH JANTA DAL(UNITED)\",\"BIJU JANATA DAL\",\"DRAVIDA MUNNETRA KAZHAGAM (DMK)\",\"GOA FORWARD PARTY\",\"JAMMU AND KASHMIR NATIONAL CONFERENCE\",\"JANASENA PARTY\",\"JANATA DAL ( SECULAR )\",\"JHARKHAND MUKTI MORCHA\",\"MAHARASHTRAWADI GOMNTAK PARTY\",\"NATIONALIST CONGRESS PARTY MAHARASHTRA PRADESH\",\"PRESIDENT, ALL INDIA CONGRESS COMMITTEE\",\"RASHTRIYA JANTA DAL\",\"SHIROMANI AKALI DAL\",\"SHIVSENA\",\"SIKKIM DEMOCRATIC FRONT\",\"SIKKIM KRANTIKARI MORCHA\",\"TELUGU DESAM PARTY\",\"YSR  CONGRESS PARTY  (YUVAJANA SRAMIKA RYTHU CONGRESS PARTY)\"],\"labels\":[\"ASIAN TRADING CORPORATION LIMITED\",\"ASKUS LOGISTICS PRIVATE LIMITED\",\"AVEES TRADING FINANCE PVT LTD\",\"AVEES TRADING FINANCE PVT LTD\",\"B G SHIRKE CONSTRUCTION TECHNOLOGY PVT L TD\",\"BAJAJ AUTO LTD\",\"BHARAT BIOTECH INTERNATIONAL LIMITED\",\"BHARTI AIRTEL LIMITED\",\"BHARTI AIRTEL LIMITEDAIRTEL CURRE NT AC-GCO\",\"BHARTI INFRATEL LIMITED\",\"BHARTI INFRATEL LIMITED\",\"CHENNAI GREEN WOODS PRIVATE LIMITED\",\"DHARIWAL INFRASTRUCTURE LIMITED\",\"DINESHCHANDRA R AGRAWAL INFRACON PVT LTD\",\"DR.REDDY'S LABORATORIES LTD\",\"DR.REDDY'S LABORATORIES LTD\",\"ESSEL MINING AND INDS LTD\",\"FASTWAY TRANSMISSIONS PVT LTD\",\"FUTURE GAMING AND HOTEL SERVICES PR\",\"FUTURE GAMING AND HOTEL SERVICES PR\",\"FUTURE GAMING AND HOTEL SERVICES PR\",\"FUTURE GAMING AND HOTEL SERVICES PR\",\"FUTURE GAMING AND HOTEL SERVICES PR\",\"FUTURE GAMING AND HOTEL SERVICES PRIVATE LIMITED\",\"FUTURE GAMING AND HOTEL SERVICES PRIVATE LIMITED\",\"FUTURE GAMING AND HOTEL SERVICES PVT LTD\",\"GENEXT HARDWARE   PARKS PVT. LTD\",\"GOA CARBON LTD\",\"HALDIA ENERGY LIMITED\",\"IFB AGRO INDUSTRIES LIMITED\",\"ILABS HYD TECHNOLOGY CENTRE PVT LTD\",\"IPCA LABORATORIES LIMITED\",\"JINDAL STEEL AND POWER LIMITED\",\"KCR ENTERPRISE LLP\",\"KEVENTER FOODPARK INFRA LIMITED\",\"KEVENTER FOODPARK INFRA LIMITED\",\"M S JUGENDRA SINGH AND COMPANY\",\"MADANLAL LTD.\",\"MAGARPATTA TOWNSHIP DEV AND CONST C\",\"MAHALAXMI VIDYUT PVT.LTD.\",\"MEGHA ENGINEERING & INFRASTRUCTURES LIMITED\",\"MEGHA ENGINEERING & INFRASTRUCTURES LIMITED\",\"MEGHA ENGINEERING AND INFRASTRUCTURES LI MITED\",\"MEGHA ENGINEERING AND INFRASTRUCTURES LI MITED\",\"MEGHA ENGINEERING AND INFRASTRUCTURES LI MITED\",\"MEGHA ENGINEERING AND INFRASTRUCTURES LI MITED\",\"MEGHA ENGINEERING AND INFRASTRUCTURES LI MITED\",\"MEGHA ENGINEERING AND INFRASTRUCTURES LI MITED\",\"MEGHA ENGINEERING AND INFRASTRUCTURES LI MITED\",\"MEGHA ENGINEERING AND INFRASTRUCTURES LTD\",\"MICRO LABS LIMITED\",\"MKJ ENTERPRISES LIMITED\",\"MKJ ENTERPRISES LIMITED\",\"MKJ ENTERPRISES LIMITED\",\"MS S N MOHANTY\",\"NARA CONSTRUCTIONS\",\"NATCO PHARMA LTD\",\"NATCO PHARMA LTD\",\"OSTRO JAISALMER PRIVATE LIMITED\",\"OSTRO MADHYA WIND PRIVATE LIMITED\",\"Other\",\"Other\",\"Other\",\"Other\",\"Other\",\"Other\",\"Other\",\"Other\",\"Other\",\"Other\",\"Other\",\"Other\",\"Other\",\"Other\",\"Other\",\"Other\",\"PRL DEVELOPERS PRIVATE LIMITED\",\"PUJA COAL PRIVATE LIMITED\",\"PURULIA BOTTLING PVT LTD\",\"QWIKSUPPLYCHAINPRIVATELIMITED\",\"QWIKSUPPLYCHAINPRIVATELIMITED\",\"QWIKSUPPLYCHAINPRIVATELIMITED\",\"RAHUL BHATIA\",\"RASHMI CEMENT LTD\",\"RAUNAK GUPTA\",\"RITHWIK PROJECTS  PRIVATE LIMITED\",\"RUNGTA SONS P LTD\",\"SANDEEP KHANNA AND ASSOCIATES\",\"SHIRDI SAI ELECTRICALS LTD\",\"SHREE CEMENT LTD\",\"SHREE CHAND SARAOGI\",\"SHRINIVAS VASUDEVA DEMPO\",\"SRI CHAITANYA STUDENTS FACILITY MANAGEME\",\"THE RAMCO CEMENTS LIMITED\",\"THRIVENI SAINIK MINING PRIVATE LIMI\",\"TORRENT  POWER  LIMITED\",\"TORRENT  POWER  LIMITED\",\"TORRENT  POWER  LIMITED\",\"TORRENT PHARMACEUTICALS LTD\",\"TORRENT PHARMACEUTICALS LTD\",\"TORRENT PHARMACEUTICALS LTD\",\"TRANSWAYS EXIM PRIVATE LIMITED\",\"ULTRA TECH CEMENT LIMITED\",\"UTKAL ALUMINA INTERNATIONAL LIMITED\",\"V M SALGAOCAR CORPORATION PVT LTD\",\"V M SALGAOCAR CORPORATION PVT LTD\",\"VALLURUPALLI PRABHU KISHORE\",\"VARDHMAN TEXTILES LTD\",\"VEDANTA LIMITED\",\"VEDANTA LIMITED\",\"VEDANTA LIMITED\",\"WESTERN UP POWER TRANSMISSION COMPANY LI MITED\",\"WESTERN UP POWER TRANSMISSION COMPANY LI MITED\",\"WESTERN UP POWER TRANSMISSION COMPANY LI MITED\",\"WESTWELL GASES PRIVATE LIMITED\",\"WESTWELL GASES PRIVATE LIMITED\",\"YASHODA SUPER SPECIALITY HOSPITAL\",\"YASHODA SUPER SPECIALITY HOSPITAL\",\"YUVAN TRADING   CONSULTANCY LLP\",\"ZYDUS HEALTHCARE LIMITED\",\"AAM AADMI PARTY\",\"ADYAKSHA SAMAJVADI PARTY\",\"ALL INDIA TRINAMOOL CONGRESS\",\"BHARAT RASHTRA SAMITHI\",\"BHARATIYA JANATA PARTY\",\"BIHAR PRADESH JANTA DAL(UNITED)\",\"BIJU JANATA DAL\",\"DRAVIDA MUNNETRA KAZHAGAM (DMK)\",\"GOA FORWARD PARTY\",\"JAMMU AND KASHMIR NATIONAL CONFERENCE\",\"JANASENA PARTY\",\"JANATA DAL ( SECULAR )\",\"JHARKHAND MUKTI MORCHA\",\"MAHARASHTRAWADI GOMNTAK PARTY\",\"NATIONALIST CONGRESS PARTY MAHARASHTRA PRADESH\",\"PRESIDENT, ALL INDIA CONGRESS COMMITTEE\",\"RASHTRIYA JANTA DAL\",\"SHIROMANI AKALI DAL\",\"SHIVSENA\",\"SIKKIM DEMOCRATIC FRONT\",\"SIKKIM KRANTIKARI MORCHA\",\"TELUGU DESAM PARTY\",\"YSR  CONGRESS PARTY  (YUVAJANA SRAMIKA RYTHU CONGRESS PARTY)\"],\"marker\":{\"coloraxis\":\"coloraxis\",\"colors\":[50000000.0,90000000.0,100000000.0,530000000.0,850000000.0,80000000.0,100000000.0,1830000000.0,5000000.0,10000000.0,10000000.0,500000000.0,900000000.0,30000000.0,320000000.0,100000000.0,1745000000.0,50000000.0,4350000000.0,4530000000.0,50000000.0,80000000.0,1540000000.0,450000000.0,500000000.0,620000000.0,30000000.0,2000000.0,2810000000.0,350000000.0,50000000.0,35000000.0,1000000000.0,50000000.0,100000000.0,5000000.0,2100000.0,1755000000.0,30000000.0,25000000.0,450000000.0,250000000.0,1500000000.0,5190000000.0,600000000.0,40000000.0,50000000.0,280000000.0,370000000.0,100000000.0,70000000.0,70000000.0,10000000.0,693500000.0,450000000.0,100000000.0,50000000.0,140000000.0,170000000.0,170000000.0,232500000.0,6795214000.0,8201599000.0,41150511000.0,3010000000.0,360000000.0,60000000.0,7500000.0,57000000.0,9507445000.0,174000000.0,60000.0,224514000.0,30000000.0,895800000.0,797500000.0,50000000.0,20000000.0,25000000.0,3750000000.0,100000000.0,250000000.0,38000000.0,450000000.0,35000000.0,100000000.0,500000000.0,40000.0,400000000.0,10000000.0,7500000.0,2000000.0,10000000.0,240000000.0,30000000.0,50000000.0,35000000.0,30000000.0,30000000.0,5000000.0,70000000.0,70000000.0,30000000.0,600000000.0,1500000.0,3500000.0,10000000.0,7500000.0,2266500000.0,50000000.0,1040000000.0,100000000.0,1100000000.0,200000000.0,80000000.0,51000000.0,940000000.0,640000000.0,30000000.0,80000000.0,130660919.54022989,82546631.33989403,4671236022.686791,5956775925.448884,31209623529.82128,85000000.0,1820776918.1173437,3374905063.291139,1785714.2857142857,5000000.0,68095238.09523809,75853658.53658536,32100000.0,2954545.4545454546,61203508.77192982,6946557230.306615,228037241.37931034,36931889.80716253,552573827.5909568,45909090.90909091,67739726.02739726,529566896.6821061,991606463.878327]},\"name\":\"\",\"parents\":[\"AAM AADMI PARTY\",\"RASHTRIYA JANTA DAL\",\"AAM AADMI PARTY\",\"PRESIDENT, ALL INDIA CONGRESS COMMITTEE\",\"SHIVSENA\",\"AAM AADMI PARTY\",\"TELUGU DESAM PARTY\",\"BHARATIYA JANATA PARTY\",\"JAMMU AND KASHMIR NATIONAL CONFERENCE\",\"BIHAR PRADESH JANTA DAL(UNITED)\",\"SHIROMANI AKALI DAL\",\"BHARAT RASHTRA SAMITHI\",\"ALL INDIA TRINAMOOL CONGRESS\",\"SHIVSENA\",\"BHARAT RASHTRA SAMITHI\",\"TELUGU DESAM PARTY\",\"BIJU JANATA DAL\",\"SHIROMANI AKALI DAL\",\"ALL INDIA TRINAMOOL CONGRESS\",\"DRAVIDA MUNNETRA KAZHAGAM (DMK)\",\"SIKKIM DEMOCRATIC FRONT\",\"SIKKIM KRANTIKARI MORCHA\",\"YSR  CONGRESS PARTY  (YUVAJANA SRAMIKA RYTHU CONGRESS PARTY)\",\"ALL INDIA TRINAMOOL CONGRESS\",\"DRAVIDA MUNNETRA KAZHAGAM (DMK)\",\"ALL INDIA TRINAMOOL CONGRESS\",\"SHIVSENA\",\"GOA FORWARD PARTY\",\"ALL INDIA TRINAMOOL CONGRESS\",\"RASHTRIYA JANTA DAL\",\"JANATA DAL ( SECULAR )\",\"SIKKIM KRANTIKARI MORCHA\",\"BIJU JANATA DAL\",\"JANATA DAL ( SECULAR )\",\"ADYAKSHA SAMAJVADI PARTY\",\"SHIROMANI AKALI DAL\",\"ADYAKSHA SAMAJVADI PARTY\",\"BHARATIYA JANATA PARTY\",\"NATIONALIST CONGRESS PARTY MAHARASHTRA PRADESH\",\"NATIONALIST CONGRESS PARTY MAHARASHTRA PRADESH\",\"BHARAT RASHTRA SAMITHI\",\"DRAVIDA MUNNETRA KAZHAGAM (DMK)\",\"BHARAT RASHTRA SAMITHI\",\"BHARATIYA JANATA PARTY\",\"DRAVIDA MUNNETRA KAZHAGAM (DMK)\",\"JANASENA PARTY\",\"JANATA DAL ( SECULAR )\",\"TELUGU DESAM PARTY\",\"YSR  CONGRESS PARTY  (YUVAJANA SRAMIKA RYTHU CONGRESS PARTY)\",\"BIHAR PRADESH JANTA DAL(UNITED)\",\"SIKKIM KRANTIKARI MORCHA\",\"AAM AADMI PARTY\",\"JHARKHAND MUKTI MORCHA\",\"PRESIDENT, ALL INDIA CONGRESS COMMITTEE\",\"BIJU JANATA DAL\",\"JANATA DAL ( SECULAR )\",\"JANASENA PARTY\",\"TELUGU DESAM PARTY\",\"YSR  CONGRESS PARTY  (YUVAJANA SRAMIKA RYTHU CONGRESS PARTY)\",\"YSR  CONGRESS PARTY  (YUVAJANA SRAMIKA RYTHU CONGRESS PARTY)\",\"AAM AADMI PARTY\",\"ALL INDIA TRINAMOOL CONGRESS\",\"BHARAT RASHTRA SAMITHI\",\"BHARATIYA JANATA PARTY\",\"BIJU JANATA DAL\",\"DRAVIDA MUNNETRA KAZHAGAM (DMK)\",\"JANATA DAL ( SECULAR )\",\"JHARKHAND MUKTI MORCHA\",\"NATIONALIST CONGRESS PARTY MAHARASHTRA PRADESH\",\"PRESIDENT, ALL INDIA CONGRESS COMMITTEE\",\"RASHTRIYA JANTA DAL\",\"SHIROMANI AKALI DAL\",\"SHIVSENA\",\"SIKKIM KRANTIKARI MORCHA\",\"TELUGU DESAM PARTY\",\"YSR  CONGRESS PARTY  (YUVAJANA SRAMIKA RYTHU CONGRESS PARTY)\",\"SHIVSENA\",\"JHARKHAND MUKTI MORCHA\",\"RASHTRIYA JANTA DAL\",\"BHARATIYA JANATA PARTY\",\"NATIONALIST CONGRESS PARTY MAHARASHTRA PRADESH\",\"SHIVSENA\",\"NATIONALIST CONGRESS PARTY MAHARASHTRA PRADESH\",\"BIJU JANATA DAL\",\"RASHTRIYA JANTA DAL\",\"JANATA DAL ( SECULAR )\",\"BIJU JANATA DAL\",\"SHIROMANI AKALI DAL\",\"TELUGU DESAM PARTY\",\"BIHAR PRADESH JANTA DAL(UNITED)\",\"JHARKHAND MUKTI MORCHA\",\"MAHARASHTRAWADI GOMNTAK PARTY\",\"JANASENA PARTY\",\"YSR  CONGRESS PARTY  (YUVAJANA SRAMIKA RYTHU CONGRESS PARTY)\",\"JHARKHAND MUKTI MORCHA\",\"AAM AADMI PARTY\",\"NATIONALIST CONGRESS PARTY MAHARASHTRA PRADESH\",\"SHIVSENA\",\"ADYAKSHA SAMAJVADI PARTY\",\"SIKKIM DEMOCRATIC FRONT\",\"SIKKIM KRANTIKARI MORCHA\",\"AAM AADMI PARTY\",\"SHIVSENA\",\"BIJU JANATA DAL\",\"GOA FORWARD PARTY\",\"MAHARASHTRAWADI GOMNTAK PARTY\",\"JANASENA PARTY\",\"SHIROMANI AKALI DAL\",\"BHARATIYA JANATA PARTY\",\"JHARKHAND MUKTI MORCHA\",\"PRESIDENT, ALL INDIA CONGRESS COMMITTEE\",\"JANASENA PARTY\",\"PRESIDENT, ALL INDIA CONGRESS COMMITTEE\",\"TELUGU DESAM PARTY\",\"DRAVIDA MUNNETRA KAZHAGAM (DMK)\",\"RASHTRIYA JANTA DAL\",\"BHARAT RASHTRA SAMITHI\",\"PRESIDENT, ALL INDIA CONGRESS COMMITTEE\",\"SHIVSENA\",\"SIKKIM KRANTIKARI MORCHA\",\"\",\"\",\"\",\"\",\"\",\"\",\"\",\"\",\"\",\"\",\"\",\"\",\"\",\"\",\"\",\"\",\"\",\"\",\"\",\"\",\"\",\"\",\"\"],\"values\":[50000000.0,90000000.0,100000000.0,530000000.0,850000000.0,80000000.0,100000000.0,1830000000.0,5000000.0,10000000.0,10000000.0,500000000.0,900000000.0,30000000.0,320000000.0,100000000.0,1745000000.0,50000000.0,4350000000.0,4530000000.0,50000000.0,80000000.0,1540000000.0,450000000.0,500000000.0,620000000.0,30000000.0,2000000.0,2810000000.0,350000000.0,50000000.0,35000000.0,1000000000.0,50000000.0,100000000.0,5000000.0,2100000.0,1755000000.0,30000000.0,25000000.0,450000000.0,250000000.0,1500000000.0,5190000000.0,600000000.0,40000000.0,50000000.0,280000000.0,370000000.0,100000000.0,70000000.0,70000000.0,10000000.0,693500000.0,450000000.0,100000000.0,50000000.0,140000000.0,170000000.0,170000000.0,232500000.0,6795214000.0,8201599000.0,41150511000.0,3010000000.0,360000000.0,60000000.0,7500000.0,57000000.0,9507445000.0,174000000.0,60000.0,224514000.0,30000000.0,895800000.0,797500000.0,50000000.0,20000000.0,25000000.0,3750000000.0,100000000.0,250000000.0,38000000.0,450000000.0,35000000.0,100000000.0,500000000.0,40000.0,400000000.0,10000000.0,7500000.0,2000000.0,10000000.0,240000000.0,30000000.0,50000000.0,35000000.0,30000000.0,30000000.0,5000000.0,70000000.0,70000000.0,30000000.0,600000000.0,1500000.0,3500000.0,10000000.0,7500000.0,2266500000.0,50000000.0,1040000000.0,100000000.0,1100000000.0,200000000.0,80000000.0,51000000.0,940000000.0,640000000.0,30000000.0,80000000.0,652500000.0,132100000.0,15925214000.0,11911599000.0,55942011000.0,120000000.0,7755000000.0,6320000000.0,3500000.0,5000000.0,210000000.0,410000000.0,125000000.0,5500000.0,285000000.0,13510945000.0,725000000.0,72600000.0,1524514000.0,55000000.0,365000000.0,2115800000.0,3287500000.0],\"type\":\"sunburst\",\"textfont\":{\"color\":\"black\",\"size\":25},\"hoverinfo\":\"label+value+percent entry\",\"insidetextorientation\":\"radial\",\"textinfo\":\"label\"}],                        {\"template\":{\"data\":{\"histogram2dcontour\":[{\"type\":\"histogram2dcontour\",\"colorbar\":{\"outlinewidth\":0,\"ticks\":\"\"},\"colorscale\":[[0.0,\"#0d0887\"],[0.1111111111111111,\"#46039f\"],[0.2222222222222222,\"#7201a8\"],[0.3333333333333333,\"#9c179e\"],[0.4444444444444444,\"#bd3786\"],[0.5555555555555556,\"#d8576b\"],[0.6666666666666666,\"#ed7953\"],[0.7777777777777778,\"#fb9f3a\"],[0.8888888888888888,\"#fdca26\"],[1.0,\"#f0f921\"]]}],\"choropleth\":[{\"type\":\"choropleth\",\"colorbar\":{\"outlinewidth\":0,\"ticks\":\"\"}}],\"histogram2d\":[{\"type\":\"histogram2d\",\"colorbar\":{\"outlinewidth\":0,\"ticks\":\"\"},\"colorscale\":[[0.0,\"#0d0887\"],[0.1111111111111111,\"#46039f\"],[0.2222222222222222,\"#7201a8\"],[0.3333333333333333,\"#9c179e\"],[0.4444444444444444,\"#bd3786\"],[0.5555555555555556,\"#d8576b\"],[0.6666666666666666,\"#ed7953\"],[0.7777777777777778,\"#fb9f3a\"],[0.8888888888888888,\"#fdca26\"],[1.0,\"#f0f921\"]]}],\"heatmap\":[{\"type\":\"heatmap\",\"colorbar\":{\"outlinewidth\":0,\"ticks\":\"\"},\"colorscale\":[[0.0,\"#0d0887\"],[0.1111111111111111,\"#46039f\"],[0.2222222222222222,\"#7201a8\"],[0.3333333333333333,\"#9c179e\"],[0.4444444444444444,\"#bd3786\"],[0.5555555555555556,\"#d8576b\"],[0.6666666666666666,\"#ed7953\"],[0.7777777777777778,\"#fb9f3a\"],[0.8888888888888888,\"#fdca26\"],[1.0,\"#f0f921\"]]}],\"heatmapgl\":[{\"type\":\"heatmapgl\",\"colorbar\":{\"outlinewidth\":0,\"ticks\":\"\"},\"colorscale\":[[0.0,\"#0d0887\"],[0.1111111111111111,\"#46039f\"],[0.2222222222222222,\"#7201a8\"],[0.3333333333333333,\"#9c179e\"],[0.4444444444444444,\"#bd3786\"],[0.5555555555555556,\"#d8576b\"],[0.6666666666666666,\"#ed7953\"],[0.7777777777777778,\"#fb9f3a\"],[0.8888888888888888,\"#fdca26\"],[1.0,\"#f0f921\"]]}],\"contourcarpet\":[{\"type\":\"contourcarpet\",\"colorbar\":{\"outlinewidth\":0,\"ticks\":\"\"}}],\"contour\":[{\"type\":\"contour\",\"colorbar\":{\"outlinewidth\":0,\"ticks\":\"\"},\"colorscale\":[[0.0,\"#0d0887\"],[0.1111111111111111,\"#46039f\"],[0.2222222222222222,\"#7201a8\"],[0.3333333333333333,\"#9c179e\"],[0.4444444444444444,\"#bd3786\"],[0.5555555555555556,\"#d8576b\"],[0.6666666666666666,\"#ed7953\"],[0.7777777777777778,\"#fb9f3a\"],[0.8888888888888888,\"#fdca26\"],[1.0,\"#f0f921\"]]}],\"surface\":[{\"type\":\"surface\",\"colorbar\":{\"outlinewidth\":0,\"ticks\":\"\"},\"colorscale\":[[0.0,\"#0d0887\"],[0.1111111111111111,\"#46039f\"],[0.2222222222222222,\"#7201a8\"],[0.3333333333333333,\"#9c179e\"],[0.4444444444444444,\"#bd3786\"],[0.5555555555555556,\"#d8576b\"],[0.6666666666666666,\"#ed7953\"],[0.7777777777777778,\"#fb9f3a\"],[0.8888888888888888,\"#fdca26\"],[1.0,\"#f0f921\"]]}],\"mesh3d\":[{\"type\":\"mesh3d\",\"colorbar\":{\"outlinewidth\":0,\"ticks\":\"\"}}],\"scatter\":[{\"fillpattern\":{\"fillmode\":\"overlay\",\"size\":10,\"solidity\":0.2},\"type\":\"scatter\"}],\"parcoords\":[{\"type\":\"parcoords\",\"line\":{\"colorbar\":{\"outlinewidth\":0,\"ticks\":\"\"}}}],\"scatterpolargl\":[{\"type\":\"scatterpolargl\",\"marker\":{\"colorbar\":{\"outlinewidth\":0,\"ticks\":\"\"}}}],\"bar\":[{\"error_x\":{\"color\":\"#2a3f5f\"},\"error_y\":{\"color\":\"#2a3f5f\"},\"marker\":{\"line\":{\"color\":\"#E5ECF6\",\"width\":0.5},\"pattern\":{\"fillmode\":\"overlay\",\"size\":10,\"solidity\":0.2}},\"type\":\"bar\"}],\"scattergeo\":[{\"type\":\"scattergeo\",\"marker\":{\"colorbar\":{\"outlinewidth\":0,\"ticks\":\"\"}}}],\"scatterpolar\":[{\"type\":\"scatterpolar\",\"marker\":{\"colorbar\":{\"outlinewidth\":0,\"ticks\":\"\"}}}],\"histogram\":[{\"marker\":{\"pattern\":{\"fillmode\":\"overlay\",\"size\":10,\"solidity\":0.2}},\"type\":\"histogram\"}],\"scattergl\":[{\"type\":\"scattergl\",\"marker\":{\"colorbar\":{\"outlinewidth\":0,\"ticks\":\"\"}}}],\"scatter3d\":[{\"type\":\"scatter3d\",\"line\":{\"colorbar\":{\"outlinewidth\":0,\"ticks\":\"\"}},\"marker\":{\"colorbar\":{\"outlinewidth\":0,\"ticks\":\"\"}}}],\"scattermapbox\":[{\"type\":\"scattermapbox\",\"marker\":{\"colorbar\":{\"outlinewidth\":0,\"ticks\":\"\"}}}],\"scatterternary\":[{\"type\":\"scatterternary\",\"marker\":{\"colorbar\":{\"outlinewidth\":0,\"ticks\":\"\"}}}],\"scattercarpet\":[{\"type\":\"scattercarpet\",\"marker\":{\"colorbar\":{\"outlinewidth\":0,\"ticks\":\"\"}}}],\"carpet\":[{\"aaxis\":{\"endlinecolor\":\"#2a3f5f\",\"gridcolor\":\"white\",\"linecolor\":\"white\",\"minorgridcolor\":\"white\",\"startlinecolor\":\"#2a3f5f\"},\"baxis\":{\"endlinecolor\":\"#2a3f5f\",\"gridcolor\":\"white\",\"linecolor\":\"white\",\"minorgridcolor\":\"white\",\"startlinecolor\":\"#2a3f5f\"},\"type\":\"carpet\"}],\"table\":[{\"cells\":{\"fill\":{\"color\":\"#EBF0F8\"},\"line\":{\"color\":\"white\"}},\"header\":{\"fill\":{\"color\":\"#C8D4E3\"},\"line\":{\"color\":\"white\"}},\"type\":\"table\"}],\"barpolar\":[{\"marker\":{\"line\":{\"color\":\"#E5ECF6\",\"width\":0.5},\"pattern\":{\"fillmode\":\"overlay\",\"size\":10,\"solidity\":0.2}},\"type\":\"barpolar\"}],\"pie\":[{\"automargin\":true,\"type\":\"pie\"}]},\"layout\":{\"autotypenumbers\":\"strict\",\"colorway\":[\"#636efa\",\"#EF553B\",\"#00cc96\",\"#ab63fa\",\"#FFA15A\",\"#19d3f3\",\"#FF6692\",\"#B6E880\",\"#FF97FF\",\"#FECB52\"],\"font\":{\"color\":\"#2a3f5f\"},\"hovermode\":\"closest\",\"hoverlabel\":{\"align\":\"left\"},\"paper_bgcolor\":\"white\",\"plot_bgcolor\":\"#E5ECF6\",\"polar\":{\"bgcolor\":\"#E5ECF6\",\"angularaxis\":{\"gridcolor\":\"white\",\"linecolor\":\"white\",\"ticks\":\"\"},\"radialaxis\":{\"gridcolor\":\"white\",\"linecolor\":\"white\",\"ticks\":\"\"}},\"ternary\":{\"bgcolor\":\"#E5ECF6\",\"aaxis\":{\"gridcolor\":\"white\",\"linecolor\":\"white\",\"ticks\":\"\"},\"baxis\":{\"gridcolor\":\"white\",\"linecolor\":\"white\",\"ticks\":\"\"},\"caxis\":{\"gridcolor\":\"white\",\"linecolor\":\"white\",\"ticks\":\"\"}},\"coloraxis\":{\"colorbar\":{\"outlinewidth\":0,\"ticks\":\"\"}},\"colorscale\":{\"sequential\":[[0.0,\"#0d0887\"],[0.1111111111111111,\"#46039f\"],[0.2222222222222222,\"#7201a8\"],[0.3333333333333333,\"#9c179e\"],[0.4444444444444444,\"#bd3786\"],[0.5555555555555556,\"#d8576b\"],[0.6666666666666666,\"#ed7953\"],[0.7777777777777778,\"#fb9f3a\"],[0.8888888888888888,\"#fdca26\"],[1.0,\"#f0f921\"]],\"sequentialminus\":[[0.0,\"#0d0887\"],[0.1111111111111111,\"#46039f\"],[0.2222222222222222,\"#7201a8\"],[0.3333333333333333,\"#9c179e\"],[0.4444444444444444,\"#bd3786\"],[0.5555555555555556,\"#d8576b\"],[0.6666666666666666,\"#ed7953\"],[0.7777777777777778,\"#fb9f3a\"],[0.8888888888888888,\"#fdca26\"],[1.0,\"#f0f921\"]],\"diverging\":[[0,\"#8e0152\"],[0.1,\"#c51b7d\"],[0.2,\"#de77ae\"],[0.3,\"#f1b6da\"],[0.4,\"#fde0ef\"],[0.5,\"#f7f7f7\"],[0.6,\"#e6f5d0\"],[0.7,\"#b8e186\"],[0.8,\"#7fbc41\"],[0.9,\"#4d9221\"],[1,\"#276419\"]]},\"xaxis\":{\"gridcolor\":\"white\",\"linecolor\":\"white\",\"ticks\":\"\",\"title\":{\"standoff\":15},\"zerolinecolor\":\"white\",\"automargin\":true,\"zerolinewidth\":2},\"yaxis\":{\"gridcolor\":\"white\",\"linecolor\":\"white\",\"ticks\":\"\",\"title\":{\"standoff\":15},\"zerolinecolor\":\"white\",\"automargin\":true,\"zerolinewidth\":2},\"scene\":{\"xaxis\":{\"backgroundcolor\":\"#E5ECF6\",\"gridcolor\":\"white\",\"linecolor\":\"white\",\"showbackground\":true,\"ticks\":\"\",\"zerolinecolor\":\"white\",\"gridwidth\":2},\"yaxis\":{\"backgroundcolor\":\"#E5ECF6\",\"gridcolor\":\"white\",\"linecolor\":\"white\",\"showbackground\":true,\"ticks\":\"\",\"zerolinecolor\":\"white\",\"gridwidth\":2},\"zaxis\":{\"backgroundcolor\":\"#E5ECF6\",\"gridcolor\":\"white\",\"linecolor\":\"white\",\"showbackground\":true,\"ticks\":\"\",\"zerolinecolor\":\"white\",\"gridwidth\":2}},\"shapedefaults\":{\"line\":{\"color\":\"#2a3f5f\"}},\"annotationdefaults\":{\"arrowcolor\":\"#2a3f5f\",\"arrowhead\":0,\"arrowwidth\":1},\"geo\":{\"bgcolor\":\"white\",\"landcolor\":\"#E5ECF6\",\"subunitcolor\":\"white\",\"showland\":true,\"showlakes\":true,\"lakecolor\":\"white\"},\"title\":{\"x\":0.05},\"mapbox\":{\"style\":\"light\"}}},\"coloraxis\":{\"colorbar\":{\"title\":{\"text\":\"TotalAmount\"}},\"colorscale\":[[0.0,\"rgb(161, 105, 40)\"],[0.16666666666666666,\"rgb(189, 146, 90)\"],[0.3333333333333333,\"rgb(214, 189, 141)\"],[0.5,\"rgb(237, 234, 194)\"],[0.6666666666666666,\"rgb(181, 200, 184)\"],[0.8333333333333334,\"rgb(121, 167, 172)\"],[1.0,\"rgb(40, 135, 161)\"]],\"cmid\":507500000.0,\"cmin\":0,\"cmax\":9259334260.000004},\"legend\":{\"tracegroupgap\":0},\"margin\":{\"t\":50,\"l\":25,\"r\":25,\"b\":25},\"uniformtext\":{\"minsize\":8,\"mode\":\"hide\"},\"title\":{\"font\":{\"size\":15},\"text\":\"Enchasers and their fund sources\"},\"autosize\":false,\"width\":1000,\"height\":1000,\"paper_bgcolor\":\"LightSteelBlue\"},                        {\"responsive\": true}                    ).then(function(){\n",
              "                            \n",
              "var gd = document.getElementById('d5e53117-eebb-48f8-9cfa-8bd7508f82dd');\n",
              "var x = new MutationObserver(function (mutations, observer) {{\n",
              "        var display = window.getComputedStyle(gd).display;\n",
              "        if (!display || display === 'none') {{\n",
              "            console.log([gd, 'removed!']);\n",
              "            Plotly.purge(gd);\n",
              "            observer.disconnect();\n",
              "        }}\n",
              "}});\n",
              "\n",
              "// Listen for the removal of the full notebook cells\n",
              "var notebookContainer = gd.closest('#notebook-container');\n",
              "if (notebookContainer) {{\n",
              "    x.observe(notebookContainer, {childList: true});\n",
              "}}\n",
              "\n",
              "// Listen for the clearing of the current output cell\n",
              "var outputEl = gd.closest('.output');\n",
              "if (outputEl) {{\n",
              "    x.observe(outputEl, {childList: true});\n",
              "}}\n",
              "\n",
              "                        })                };                            </script>        </div>\n",
              "</body>\n",
              "</html>"
            ]
          },
          "metadata": {}
        }
      ]
    },
    {
      "cell_type": "code",
      "source": [
        "from pyspark.sql.functions import col\n",
        "from pyspark.sql import functions as F\n",
        "\n",
        "# Get distinct EnchaserName and PurchaserName values\n",
        "enchaser_names = df_with_other.select(\"EnchaserName\").distinct()\n",
        "purchaser_names = df_with_other.select(\"PurchaserName\").distinct()\n",
        "\n",
        "# Create a combined list of unique names\n",
        "combined_names = enchaser_names.union(purchaser_names).distinct()\n",
        "\n",
        "# Assign indices to each unique name\n",
        "name_dict = combined_names.rdd.zipWithIndex().map(lambda x: (x[0][0], x[1])).collectAsMap()\n",
        "\n",
        "# Create DataFrame with indices\n",
        "df_sankey = df_with_other.select(\n",
        "    col(\"EnchaserName\").alias(\"EN\"),\n",
        "    col(\"PurchaserName\").alias(\"PN\"),\n",
        "    \"TotalAmount\"\n",
        ").withColumn(\"EN_id\", F.udf(lambda x: name_dict[x])(col(\"EN\"))).withColumn(\n",
        "    \"PN_id\", F.udf(lambda x: name_dict[x])(col(\"PN\"))\n",
        ").select(\"EN_id\", \"PN_id\", \"TotalAmount\")\n",
        "\n",
        "# Collect lists\n",
        "en = df_sankey.select(\"EN_id\").rdd.flatMap(lambda x: x).collect()\n",
        "pn = df_sankey.select(\"PN_id\").rdd.flatMap(lambda x: x).collect()\n",
        "ta = df_sankey.select(\"TotalAmount\").rdd.flatMap(lambda x: x).collect()\n"
      ],
      "metadata": {
        "id": "j0JAjXQ2SSAC"
      },
      "execution_count": 258,
      "outputs": []
    },
    {
      "cell_type": "markdown",
      "source": [
        "#### Sankey Chart"
      ],
      "metadata": {
        "id": "p21jGqe5bg2g"
      }
    },
    {
      "cell_type": "code",
      "source": [
        "import plotly.graph_objects as go\n",
        "\n",
        "fig = go.Figure(data=[go.Sankey(\n",
        "    node = dict(\n",
        "      pad = 15,\n",
        "      thickness = 20,\n",
        "      line = dict(color = \"black\", width = 0.5),\n",
        "      label = list(name_dict.keys()),\n",
        "      color = \"blue\"\n",
        "    ),\n",
        "    link = dict(\n",
        "      source = en,\n",
        "      target = pn,\n",
        "      value = ta,\n",
        "      color = \"aliceblue\"\n",
        "  ))])\n",
        "\n",
        "fig.update_layout(uniformtext=dict(minsize=8, mode='hide'),\n",
        "                  margin=dict(t=50, l=25, r=25, b=25),\n",
        "                  title_text=\"Enchasers and their fund sources\",\n",
        "                  title_font_size=15,\n",
        "                  autosize=False,\n",
        "                  width=2000,\n",
        "                  height=1000,\n",
        "                  paper_bgcolor=\"LightSteelBlue\",\n",
        "                  font_size=10)\n",
        "fig.show()"
      ],
      "metadata": {
        "colab": {
          "base_uri": "https://localhost:8080/",
          "height": 1000
        },
        "id": "NclCPZpYAmFf",
        "outputId": "b56d3786-7ff8-409c-c7d9-a67e6c2f2868"
      },
      "execution_count": 259,
      "outputs": [
        {
          "output_type": "display_data",
          "data": {
            "text/html": [
              "<html>\n",
              "<head><meta charset=\"utf-8\" /></head>\n",
              "<body>\n",
              "    <div>            <script src=\"https://cdnjs.cloudflare.com/ajax/libs/mathjax/2.7.5/MathJax.js?config=TeX-AMS-MML_SVG\"></script><script type=\"text/javascript\">if (window.MathJax && window.MathJax.Hub && window.MathJax.Hub.Config) {window.MathJax.Hub.Config({SVG: {font: \"STIX-Web\"}});}</script>                <script type=\"text/javascript\">window.PlotlyConfig = {MathJaxConfig: 'local'};</script>\n",
              "        <script charset=\"utf-8\" src=\"https://cdn.plot.ly/plotly-2.24.1.min.js\"></script>                <div id=\"a79a8071-1cfb-499a-8209-fcf575fa6247\" class=\"plotly-graph-div\" style=\"height:1000px; width:2000px;\"></div>            <script type=\"text/javascript\">                                    window.PLOTLYENV=window.PLOTLYENV || {};                                    if (document.getElementById(\"a79a8071-1cfb-499a-8209-fcf575fa6247\")) {                    Plotly.newPlot(                        \"a79a8071-1cfb-499a-8209-fcf575fa6247\",                        [{\"link\":{\"color\":\"aliceblue\",\"source\":[\"5\",\"5\",\"5\",\"5\",\"5\",\"5\",\"5\",\"20\",\"20\",\"20\",\"16\",\"16\",\"16\",\"16\",\"16\",\"16\",\"8\",\"8\",\"8\",\"8\",\"8\",\"8\",\"12\",\"12\",\"12\",\"12\",\"12\",\"12\",\"0\",\"0\",\"0\",\"7\",\"7\",\"7\",\"7\",\"7\",\"7\",\"7\",\"17\",\"17\",\"17\",\"17\",\"17\",\"17\",\"10\",\"10\",\"3\",\"9\",\"9\",\"9\",\"9\",\"9\",\"18\",\"18\",\"18\",\"18\",\"18\",\"18\",\"11\",\"11\",\"11\",\"11\",\"11\",\"11\",\"21\",\"21\",\"1\",\"1\",\"1\",\"1\",\"1\",\"1\",\"22\",\"22\",\"22\",\"22\",\"22\",\"22\",\"13\",\"13\",\"13\",\"13\",\"13\",\"13\",\"2\",\"2\",\"2\",\"2\",\"2\",\"2\",\"15\",\"15\",\"15\",\"15\",\"15\",\"15\",\"15\",\"15\",\"15\",\"4\",\"4\",\"6\",\"6\",\"6\",\"6\",\"6\",\"6\",\"19\",\"19\",\"19\",\"19\",\"19\",\"19\",\"19\",\"14\",\"14\",\"14\",\"14\",\"14\",\"14\"],\"target\":[\"53\",\"60\",\"49\",\"35\",\"90\",\"84\",\"48\",\"94\",\"78\",\"38\",\"68\",\"46\",\"72\",\"70\",\"81\",\"48\",\"55\",\"73\",\"40\",\"25\",\"76\",\"48\",\"55\",\"75\",\"39\",\"34\",\"23\",\"48\",\"26\",\"79\",\"31\",\"58\",\"37\",\"92\",\"82\",\"91\",\"32\",\"48\",\"68\",\"55\",\"81\",\"25\",\"50\",\"48\",\"87\",\"44\",\"54\",\"86\",\"77\",\"55\",\"30\",\"69\",\"59\",\"88\",\"28\",\"80\",\"55\",\"48\",\"39\",\"65\",\"43\",\"49\",\"93\",\"48\",\"44\",\"74\",\"75\",\"89\",\"84\",\"61\",\"51\",\"48\",\"86\",\"39\",\"49\",\"73\",\"53\",\"48\",\"57\",\"29\",\"50\",\"64\",\"71\",\"48\",\"63\",\"79\",\"24\",\"94\",\"52\",\"48\",\"66\",\"75\",\"47\",\"36\",\"42\",\"84\",\"45\",\"62\",\"48\",\"68\",\"78\",\"68\",\"85\",\"83\",\"78\",\"56\",\"48\",\"67\",\"55\",\"86\",\"77\",\"33\",\"76\",\"48\",\"68\",\"55\",\"27\",\"41\",\"95\",\"48\"],\"value\":[100000000.0,80000000.0,70000000.0,70000000.0,50000000.0,50000000.0,232500000.0,100000000.0,30000000.0,2100000.0,4350000000.0,2810000000.0,900000000.0,620000000.0,450000000.0,6795214000.0,1500000000.0,940000000.0,500000000.0,450000000.0,320000000.0,8201599000.0,5190000000.0,3750000000.0,2266500000.0,1830000000.0,1755000000.0,41150511000.0,100000000.0,10000000.0,10000000.0,1745000000.0,1000000000.0,600000000.0,500000000.0,450000000.0,450000000.0,3010000000.0,4530000000.0,600000000.0,500000000.0,250000000.0,80000000.0,360000000.0,2000000.0,1500000.0,5000000.0,100000000.0,50000000.0,40000000.0,10000000.0,10000000.0,100000000.0,100000000.0,50000000.0,50000000.0,50000000.0,60000000.0,50000000.0,30000000.0,20000000.0,10000000.0,7500000.0,7500000.0,3500000.0,2000000.0,100000000.0,38000000.0,35000000.0,30000000.0,25000000.0,57000000.0,1100000000.0,1040000000.0,693500000.0,640000000.0,530000000.0,9507445000.0,350000000.0,90000000.0,51000000.0,35000000.0,25000000.0,174000000.0,50000000.0,10000000.0,7500000.0,5000000.0,40000.0,60000.0,850000000.0,250000000.0,50000000.0,30000000.0,30000000.0,30000000.0,30000000.0,30000000.0,224514000.0,50000000.0,5000000.0,80000000.0,80000000.0,70000000.0,70000000.0,35000000.0,30000000.0,400000000.0,280000000.0,200000000.0,140000000.0,100000000.0,100000000.0,895800000.0,1540000000.0,370000000.0,240000000.0,170000000.0,170000000.0,797500000.0]},\"node\":{\"color\":\"blue\",\"label\":[\"BIHAR PRADESH JANTA DAL(UNITED)\",\"NATIONALIST CONGRESS PARTY MAHARASHTRA PRADESH\",\"SHIROMANI AKALI DAL\",\"JAMMU AND KASHMIR NATIONAL CONFERENCE\",\"SIKKIM DEMOCRATIC FRONT\",\"AAM AADMI PARTY\",\"SIKKIM KRANTIKARI MORCHA\",\"BIJU JANATA DAL\",\"BHARAT RASHTRA SAMITHI\",\"JANASENA PARTY\",\"GOA FORWARD PARTY\",\"JHARKHAND MUKTI MORCHA\",\"BHARATIYA JANATA PARTY\",\"RASHTRIYA JANTA DAL\",\"YSR  CONGRESS PARTY  (YUVAJANA SRAMIKA RYTHU CONGRESS PARTY)\",\"SHIVSENA\",\"ALL INDIA TRINAMOOL CONGRESS\",\"DRAVIDA MUNNETRA KAZHAGAM (DMK)\",\"JANATA DAL ( SECULAR )\",\"TELUGU DESAM PARTY\",\"ADYAKSHA SAMAJVADI PARTY\",\"MAHARASHTRAWADI GOMNTAK PARTY\",\"PRESIDENT, ALL INDIA CONGRESS COMMITTEE\",\"MADANLAL LTD.\",\"VARDHMAN TEXTILES LTD\",\"MEGHA ENGINEERING & INFRASTRUCTURES LIMITED\",\"MEGHA ENGINEERING AND INFRASTRUCTURES LTD\",\"THE RAMCO CEMENTS LIMITED\",\"ILABS HYD TECHNOLOGY CENTRE PVT LTD\",\"ASKUS LOGISTICS PRIVATE LIMITED\",\"SRI CHAITANYA STUDENTS FACILITY MANAGEME\",\"SHREE CEMENT LTD\",\"RASHMI CEMENT LTD\",\"BHARAT BIOTECH INTERNATIONAL LIMITED\",\"BHARTI AIRTEL LIMITED\",\"TRANSWAYS EXIM PRIVATE LIMITED\",\"DINESHCHANDRA R AGRAWAL INFRACON PVT LTD\",\"JINDAL STEEL AND POWER LIMITED\",\"M S JUGENDRA SINGH AND COMPANY\",\"VEDANTA LIMITED\",\"CHENNAI GREEN WOODS PRIVATE LIMITED\",\"OSTRO JAISALMER PRIVATE LIMITED\",\"GENEXT HARDWARE   PARKS PVT. LTD\",\"PUJA COAL PRIVATE LIMITED\",\"V M SALGAOCAR CORPORATION PVT LTD\",\"ULTRA TECH CEMENT LIMITED\",\"HALDIA ENERGY LIMITED\",\"PRL DEVELOPERS PRIVATE LIMITED\",\"Other\",\"MKJ ENTERPRISES LIMITED\",\"WESTWELL GASES PRIVATE LIMITED\",\"MAHALAXMI VIDYUT PVT.LTD.\",\"SANDEEP KHANNA AND ASSOCIATES\",\"AVEES TRADING FINANCE PVT LTD\",\"BHARTI AIRTEL LIMITEDAIRTEL CURRE NT AC-GCO\",\"MEGHA ENGINEERING AND INFRASTRUCTURES LI MITED\",\"IPCA LABORATORIES LIMITED\",\"IFB AGRO INDUSTRIES LIMITED\",\"ESSEL MINING AND INDS LTD\",\"NARA CONSTRUCTIONS\",\"BAJAJ AUTO LTD\",\"MAGARPATTA TOWNSHIP DEV AND CONST C\",\"YUVAN TRADING   CONSULTANCY LLP\",\"FASTWAY TRANSMISSIONS PVT LTD\",\"RAUNAK GUPTA\",\"THRIVENI SAINIK MINING PRIVATE LIMI\",\"B G SHIRKE CONSTRUCTION TECHNOLOGY PVT L TD\",\"SHIRDI SAI ELECTRICALS LTD\",\"FUTURE GAMING AND HOTEL SERVICES PR\",\"VALLURUPALLI PRABHU KISHORE\",\"FUTURE GAMING AND HOTEL SERVICES PVT LTD\",\"PURULIA BOTTLING PVT LTD\",\"DHARIWAL INFRASTRUCTURE LIMITED\",\"YASHODA SUPER SPECIALITY HOSPITAL\",\"SHRINIVAS VASUDEVA DEMPO\",\"QWIKSUPPLYCHAINPRIVATELIMITED\",\"DR.REDDY'S LABORATORIES LTD\",\"NATCO PHARMA LTD\",\"TORRENT PHARMACEUTICALS LTD\",\"BHARTI INFRATEL LIMITED\",\"KCR ENTERPRISE LLP\",\"FUTURE GAMING AND HOTEL SERVICES PRIVATE LIMITED\",\"RUNGTA SONS P LTD\",\"MICRO LABS LIMITED\",\"TORRENT  POWER  LIMITED\",\"ZYDUS HEALTHCARE LIMITED\",\"WESTERN UP POWER TRANSMISSION COMPANY LI MITED\",\"GOA CARBON LTD\",\"RITHWIK PROJECTS  PRIVATE LIMITED\",\"RAHUL BHATIA\",\"ASIAN TRADING CORPORATION LIMITED\",\"MS S N MOHANTY\",\"UTKAL ALUMINA INTERNATIONAL LIMITED\",\"SHREE CHAND SARAOGI\",\"KEVENTER FOODPARK INFRA LIMITED\",\"OSTRO MADHYA WIND PRIVATE LIMITED\"],\"line\":{\"color\":\"black\",\"width\":0.5},\"pad\":15,\"thickness\":20},\"type\":\"sankey\"}],                        {\"template\":{\"data\":{\"histogram2dcontour\":[{\"type\":\"histogram2dcontour\",\"colorbar\":{\"outlinewidth\":0,\"ticks\":\"\"},\"colorscale\":[[0.0,\"#0d0887\"],[0.1111111111111111,\"#46039f\"],[0.2222222222222222,\"#7201a8\"],[0.3333333333333333,\"#9c179e\"],[0.4444444444444444,\"#bd3786\"],[0.5555555555555556,\"#d8576b\"],[0.6666666666666666,\"#ed7953\"],[0.7777777777777778,\"#fb9f3a\"],[0.8888888888888888,\"#fdca26\"],[1.0,\"#f0f921\"]]}],\"choropleth\":[{\"type\":\"choropleth\",\"colorbar\":{\"outlinewidth\":0,\"ticks\":\"\"}}],\"histogram2d\":[{\"type\":\"histogram2d\",\"colorbar\":{\"outlinewidth\":0,\"ticks\":\"\"},\"colorscale\":[[0.0,\"#0d0887\"],[0.1111111111111111,\"#46039f\"],[0.2222222222222222,\"#7201a8\"],[0.3333333333333333,\"#9c179e\"],[0.4444444444444444,\"#bd3786\"],[0.5555555555555556,\"#d8576b\"],[0.6666666666666666,\"#ed7953\"],[0.7777777777777778,\"#fb9f3a\"],[0.8888888888888888,\"#fdca26\"],[1.0,\"#f0f921\"]]}],\"heatmap\":[{\"type\":\"heatmap\",\"colorbar\":{\"outlinewidth\":0,\"ticks\":\"\"},\"colorscale\":[[0.0,\"#0d0887\"],[0.1111111111111111,\"#46039f\"],[0.2222222222222222,\"#7201a8\"],[0.3333333333333333,\"#9c179e\"],[0.4444444444444444,\"#bd3786\"],[0.5555555555555556,\"#d8576b\"],[0.6666666666666666,\"#ed7953\"],[0.7777777777777778,\"#fb9f3a\"],[0.8888888888888888,\"#fdca26\"],[1.0,\"#f0f921\"]]}],\"heatmapgl\":[{\"type\":\"heatmapgl\",\"colorbar\":{\"outlinewidth\":0,\"ticks\":\"\"},\"colorscale\":[[0.0,\"#0d0887\"],[0.1111111111111111,\"#46039f\"],[0.2222222222222222,\"#7201a8\"],[0.3333333333333333,\"#9c179e\"],[0.4444444444444444,\"#bd3786\"],[0.5555555555555556,\"#d8576b\"],[0.6666666666666666,\"#ed7953\"],[0.7777777777777778,\"#fb9f3a\"],[0.8888888888888888,\"#fdca26\"],[1.0,\"#f0f921\"]]}],\"contourcarpet\":[{\"type\":\"contourcarpet\",\"colorbar\":{\"outlinewidth\":0,\"ticks\":\"\"}}],\"contour\":[{\"type\":\"contour\",\"colorbar\":{\"outlinewidth\":0,\"ticks\":\"\"},\"colorscale\":[[0.0,\"#0d0887\"],[0.1111111111111111,\"#46039f\"],[0.2222222222222222,\"#7201a8\"],[0.3333333333333333,\"#9c179e\"],[0.4444444444444444,\"#bd3786\"],[0.5555555555555556,\"#d8576b\"],[0.6666666666666666,\"#ed7953\"],[0.7777777777777778,\"#fb9f3a\"],[0.8888888888888888,\"#fdca26\"],[1.0,\"#f0f921\"]]}],\"surface\":[{\"type\":\"surface\",\"colorbar\":{\"outlinewidth\":0,\"ticks\":\"\"},\"colorscale\":[[0.0,\"#0d0887\"],[0.1111111111111111,\"#46039f\"],[0.2222222222222222,\"#7201a8\"],[0.3333333333333333,\"#9c179e\"],[0.4444444444444444,\"#bd3786\"],[0.5555555555555556,\"#d8576b\"],[0.6666666666666666,\"#ed7953\"],[0.7777777777777778,\"#fb9f3a\"],[0.8888888888888888,\"#fdca26\"],[1.0,\"#f0f921\"]]}],\"mesh3d\":[{\"type\":\"mesh3d\",\"colorbar\":{\"outlinewidth\":0,\"ticks\":\"\"}}],\"scatter\":[{\"fillpattern\":{\"fillmode\":\"overlay\",\"size\":10,\"solidity\":0.2},\"type\":\"scatter\"}],\"parcoords\":[{\"type\":\"parcoords\",\"line\":{\"colorbar\":{\"outlinewidth\":0,\"ticks\":\"\"}}}],\"scatterpolargl\":[{\"type\":\"scatterpolargl\",\"marker\":{\"colorbar\":{\"outlinewidth\":0,\"ticks\":\"\"}}}],\"bar\":[{\"error_x\":{\"color\":\"#2a3f5f\"},\"error_y\":{\"color\":\"#2a3f5f\"},\"marker\":{\"line\":{\"color\":\"#E5ECF6\",\"width\":0.5},\"pattern\":{\"fillmode\":\"overlay\",\"size\":10,\"solidity\":0.2}},\"type\":\"bar\"}],\"scattergeo\":[{\"type\":\"scattergeo\",\"marker\":{\"colorbar\":{\"outlinewidth\":0,\"ticks\":\"\"}}}],\"scatterpolar\":[{\"type\":\"scatterpolar\",\"marker\":{\"colorbar\":{\"outlinewidth\":0,\"ticks\":\"\"}}}],\"histogram\":[{\"marker\":{\"pattern\":{\"fillmode\":\"overlay\",\"size\":10,\"solidity\":0.2}},\"type\":\"histogram\"}],\"scattergl\":[{\"type\":\"scattergl\",\"marker\":{\"colorbar\":{\"outlinewidth\":0,\"ticks\":\"\"}}}],\"scatter3d\":[{\"type\":\"scatter3d\",\"line\":{\"colorbar\":{\"outlinewidth\":0,\"ticks\":\"\"}},\"marker\":{\"colorbar\":{\"outlinewidth\":0,\"ticks\":\"\"}}}],\"scattermapbox\":[{\"type\":\"scattermapbox\",\"marker\":{\"colorbar\":{\"outlinewidth\":0,\"ticks\":\"\"}}}],\"scatterternary\":[{\"type\":\"scatterternary\",\"marker\":{\"colorbar\":{\"outlinewidth\":0,\"ticks\":\"\"}}}],\"scattercarpet\":[{\"type\":\"scattercarpet\",\"marker\":{\"colorbar\":{\"outlinewidth\":0,\"ticks\":\"\"}}}],\"carpet\":[{\"aaxis\":{\"endlinecolor\":\"#2a3f5f\",\"gridcolor\":\"white\",\"linecolor\":\"white\",\"minorgridcolor\":\"white\",\"startlinecolor\":\"#2a3f5f\"},\"baxis\":{\"endlinecolor\":\"#2a3f5f\",\"gridcolor\":\"white\",\"linecolor\":\"white\",\"minorgridcolor\":\"white\",\"startlinecolor\":\"#2a3f5f\"},\"type\":\"carpet\"}],\"table\":[{\"cells\":{\"fill\":{\"color\":\"#EBF0F8\"},\"line\":{\"color\":\"white\"}},\"header\":{\"fill\":{\"color\":\"#C8D4E3\"},\"line\":{\"color\":\"white\"}},\"type\":\"table\"}],\"barpolar\":[{\"marker\":{\"line\":{\"color\":\"#E5ECF6\",\"width\":0.5},\"pattern\":{\"fillmode\":\"overlay\",\"size\":10,\"solidity\":0.2}},\"type\":\"barpolar\"}],\"pie\":[{\"automargin\":true,\"type\":\"pie\"}]},\"layout\":{\"autotypenumbers\":\"strict\",\"colorway\":[\"#636efa\",\"#EF553B\",\"#00cc96\",\"#ab63fa\",\"#FFA15A\",\"#19d3f3\",\"#FF6692\",\"#B6E880\",\"#FF97FF\",\"#FECB52\"],\"font\":{\"color\":\"#2a3f5f\"},\"hovermode\":\"closest\",\"hoverlabel\":{\"align\":\"left\"},\"paper_bgcolor\":\"white\",\"plot_bgcolor\":\"#E5ECF6\",\"polar\":{\"bgcolor\":\"#E5ECF6\",\"angularaxis\":{\"gridcolor\":\"white\",\"linecolor\":\"white\",\"ticks\":\"\"},\"radialaxis\":{\"gridcolor\":\"white\",\"linecolor\":\"white\",\"ticks\":\"\"}},\"ternary\":{\"bgcolor\":\"#E5ECF6\",\"aaxis\":{\"gridcolor\":\"white\",\"linecolor\":\"white\",\"ticks\":\"\"},\"baxis\":{\"gridcolor\":\"white\",\"linecolor\":\"white\",\"ticks\":\"\"},\"caxis\":{\"gridcolor\":\"white\",\"linecolor\":\"white\",\"ticks\":\"\"}},\"coloraxis\":{\"colorbar\":{\"outlinewidth\":0,\"ticks\":\"\"}},\"colorscale\":{\"sequential\":[[0.0,\"#0d0887\"],[0.1111111111111111,\"#46039f\"],[0.2222222222222222,\"#7201a8\"],[0.3333333333333333,\"#9c179e\"],[0.4444444444444444,\"#bd3786\"],[0.5555555555555556,\"#d8576b\"],[0.6666666666666666,\"#ed7953\"],[0.7777777777777778,\"#fb9f3a\"],[0.8888888888888888,\"#fdca26\"],[1.0,\"#f0f921\"]],\"sequentialminus\":[[0.0,\"#0d0887\"],[0.1111111111111111,\"#46039f\"],[0.2222222222222222,\"#7201a8\"],[0.3333333333333333,\"#9c179e\"],[0.4444444444444444,\"#bd3786\"],[0.5555555555555556,\"#d8576b\"],[0.6666666666666666,\"#ed7953\"],[0.7777777777777778,\"#fb9f3a\"],[0.8888888888888888,\"#fdca26\"],[1.0,\"#f0f921\"]],\"diverging\":[[0,\"#8e0152\"],[0.1,\"#c51b7d\"],[0.2,\"#de77ae\"],[0.3,\"#f1b6da\"],[0.4,\"#fde0ef\"],[0.5,\"#f7f7f7\"],[0.6,\"#e6f5d0\"],[0.7,\"#b8e186\"],[0.8,\"#7fbc41\"],[0.9,\"#4d9221\"],[1,\"#276419\"]]},\"xaxis\":{\"gridcolor\":\"white\",\"linecolor\":\"white\",\"ticks\":\"\",\"title\":{\"standoff\":15},\"zerolinecolor\":\"white\",\"automargin\":true,\"zerolinewidth\":2},\"yaxis\":{\"gridcolor\":\"white\",\"linecolor\":\"white\",\"ticks\":\"\",\"title\":{\"standoff\":15},\"zerolinecolor\":\"white\",\"automargin\":true,\"zerolinewidth\":2},\"scene\":{\"xaxis\":{\"backgroundcolor\":\"#E5ECF6\",\"gridcolor\":\"white\",\"linecolor\":\"white\",\"showbackground\":true,\"ticks\":\"\",\"zerolinecolor\":\"white\",\"gridwidth\":2},\"yaxis\":{\"backgroundcolor\":\"#E5ECF6\",\"gridcolor\":\"white\",\"linecolor\":\"white\",\"showbackground\":true,\"ticks\":\"\",\"zerolinecolor\":\"white\",\"gridwidth\":2},\"zaxis\":{\"backgroundcolor\":\"#E5ECF6\",\"gridcolor\":\"white\",\"linecolor\":\"white\",\"showbackground\":true,\"ticks\":\"\",\"zerolinecolor\":\"white\",\"gridwidth\":2}},\"shapedefaults\":{\"line\":{\"color\":\"#2a3f5f\"}},\"annotationdefaults\":{\"arrowcolor\":\"#2a3f5f\",\"arrowhead\":0,\"arrowwidth\":1},\"geo\":{\"bgcolor\":\"white\",\"landcolor\":\"#E5ECF6\",\"subunitcolor\":\"white\",\"showland\":true,\"showlakes\":true,\"lakecolor\":\"white\"},\"title\":{\"x\":0.05},\"mapbox\":{\"style\":\"light\"}}},\"uniformtext\":{\"minsize\":8,\"mode\":\"hide\"},\"margin\":{\"t\":50,\"l\":25,\"r\":25,\"b\":25},\"title\":{\"font\":{\"size\":15},\"text\":\"Enchasers and their fund sources\"},\"font\":{\"size\":10},\"autosize\":false,\"width\":2000,\"height\":1000,\"paper_bgcolor\":\"LightSteelBlue\"},                        {\"responsive\": true}                    ).then(function(){\n",
              "                            \n",
              "var gd = document.getElementById('a79a8071-1cfb-499a-8209-fcf575fa6247');\n",
              "var x = new MutationObserver(function (mutations, observer) {{\n",
              "        var display = window.getComputedStyle(gd).display;\n",
              "        if (!display || display === 'none') {{\n",
              "            console.log([gd, 'removed!']);\n",
              "            Plotly.purge(gd);\n",
              "            observer.disconnect();\n",
              "        }}\n",
              "}});\n",
              "\n",
              "// Listen for the removal of the full notebook cells\n",
              "var notebookContainer = gd.closest('#notebook-container');\n",
              "if (notebookContainer) {{\n",
              "    x.observe(notebookContainer, {childList: true});\n",
              "}}\n",
              "\n",
              "// Listen for the clearing of the current output cell\n",
              "var outputEl = gd.closest('.output');\n",
              "if (outputEl) {{\n",
              "    x.observe(outputEl, {childList: true});\n",
              "}}\n",
              "\n",
              "                        })                };                            </script>        </div>\n",
              "</body>\n",
              "</html>"
            ]
          },
          "metadata": {}
        }
      ]
    },
    {
      "cell_type": "markdown",
      "source": [
        "#### Icicle Chart"
      ],
      "metadata": {
        "id": "oM34p2Wbbrhs"
      }
    },
    {
      "cell_type": "code",
      "source": [
        "fig = px.icicle(df_with_other.toPandas(),\n",
        "                path=[px.Constant(\"Parties\"), 'EnchaserName', 'PurchaserName'],\n",
        "                values='TotalAmount',)\n",
        "                # tiling = dict(orientation='v', flip='y'))\n",
        "\n",
        "fig.update_traces(root_color=\"lightgrey\", tiling = dict(orientation='v', flip='y'))\n",
        "fig.update_layout(margin = dict(t=50, l=25, r=25, b=25),\n",
        "                  autosize=False,\n",
        "                  width=1500,\n",
        "                  height=500,)\n",
        "fig.show()"
      ],
      "metadata": {
        "colab": {
          "base_uri": "https://localhost:8080/",
          "height": 537
        },
        "id": "lorE9pYZE-wD",
        "outputId": "c7bf942d-3732-4b3c-f927-98f9a6448cf7"
      },
      "execution_count": 260,
      "outputs": [
        {
          "output_type": "display_data",
          "data": {
            "text/html": [
              "<html>\n",
              "<head><meta charset=\"utf-8\" /></head>\n",
              "<body>\n",
              "    <div>            <script src=\"https://cdnjs.cloudflare.com/ajax/libs/mathjax/2.7.5/MathJax.js?config=TeX-AMS-MML_SVG\"></script><script type=\"text/javascript\">if (window.MathJax && window.MathJax.Hub && window.MathJax.Hub.Config) {window.MathJax.Hub.Config({SVG: {font: \"STIX-Web\"}});}</script>                <script type=\"text/javascript\">window.PlotlyConfig = {MathJaxConfig: 'local'};</script>\n",
              "        <script charset=\"utf-8\" src=\"https://cdn.plot.ly/plotly-2.24.1.min.js\"></script>                <div id=\"5945c29d-5c56-4a1e-9da0-9557149f1041\" class=\"plotly-graph-div\" style=\"height:500px; width:1500px;\"></div>            <script type=\"text/javascript\">                                    window.PLOTLYENV=window.PLOTLYENV || {};                                    if (document.getElementById(\"5945c29d-5c56-4a1e-9da0-9557149f1041\")) {                    Plotly.newPlot(                        \"5945c29d-5c56-4a1e-9da0-9557149f1041\",                        [{\"branchvalues\":\"total\",\"domain\":{\"x\":[0.0,1.0],\"y\":[0.0,1.0]},\"hovertemplate\":\"labels=%{label}\\u003cbr\\u003eTotalAmount=%{value}\\u003cbr\\u003eparent=%{parent}\\u003cbr\\u003eid=%{id}\\u003cextra\\u003e\\u003c\\u002fextra\\u003e\",\"ids\":[\"Parties\\u002fAAM AADMI PARTY\\u002fASIAN TRADING CORPORATION LIMITED\",\"Parties\\u002fRASHTRIYA JANTA DAL\\u002fASKUS LOGISTICS PRIVATE LIMITED\",\"Parties\\u002fAAM AADMI PARTY\\u002fAVEES TRADING FINANCE PVT LTD\",\"Parties\\u002fPRESIDENT, ALL INDIA CONGRESS COMMITTEE\\u002fAVEES TRADING FINANCE PVT LTD\",\"Parties\\u002fSHIVSENA\\u002fB G SHIRKE CONSTRUCTION TECHNOLOGY PVT L TD\",\"Parties\\u002fAAM AADMI PARTY\\u002fBAJAJ AUTO LTD\",\"Parties\\u002fTELUGU DESAM PARTY\\u002fBHARAT BIOTECH INTERNATIONAL LIMITED\",\"Parties\\u002fBHARATIYA JANATA PARTY\\u002fBHARTI AIRTEL LIMITED\",\"Parties\\u002fJAMMU AND KASHMIR NATIONAL CONFERENCE\\u002fBHARTI AIRTEL LIMITEDAIRTEL CURRE NT AC-GCO\",\"Parties\\u002fBIHAR PRADESH JANTA DAL(UNITED)\\u002fBHARTI INFRATEL LIMITED\",\"Parties\\u002fSHIROMANI AKALI DAL\\u002fBHARTI INFRATEL LIMITED\",\"Parties\\u002fBHARAT RASHTRA SAMITHI\\u002fCHENNAI GREEN WOODS PRIVATE LIMITED\",\"Parties\\u002fALL INDIA TRINAMOOL CONGRESS\\u002fDHARIWAL INFRASTRUCTURE LIMITED\",\"Parties\\u002fSHIVSENA\\u002fDINESHCHANDRA R AGRAWAL INFRACON PVT LTD\",\"Parties\\u002fBHARAT RASHTRA SAMITHI\\u002fDR.REDDY'S LABORATORIES LTD\",\"Parties\\u002fTELUGU DESAM PARTY\\u002fDR.REDDY'S LABORATORIES LTD\",\"Parties\\u002fBIJU JANATA DAL\\u002fESSEL MINING AND INDS LTD\",\"Parties\\u002fSHIROMANI AKALI DAL\\u002fFASTWAY TRANSMISSIONS PVT LTD\",\"Parties\\u002fALL INDIA TRINAMOOL CONGRESS\\u002fFUTURE GAMING AND HOTEL SERVICES PR\",\"Parties\\u002fDRAVIDA MUNNETRA KAZHAGAM (DMK)\\u002fFUTURE GAMING AND HOTEL SERVICES PR\",\"Parties\\u002fSIKKIM DEMOCRATIC FRONT\\u002fFUTURE GAMING AND HOTEL SERVICES PR\",\"Parties\\u002fSIKKIM KRANTIKARI MORCHA\\u002fFUTURE GAMING AND HOTEL SERVICES PR\",\"Parties\\u002fYSR  CONGRESS PARTY  (YUVAJANA SRAMIKA RYTHU CONGRESS PARTY)\\u002fFUTURE GAMING AND HOTEL SERVICES PR\",\"Parties\\u002fALL INDIA TRINAMOOL CONGRESS\\u002fFUTURE GAMING AND HOTEL SERVICES PRIVATE LIMITED\",\"Parties\\u002fDRAVIDA MUNNETRA KAZHAGAM (DMK)\\u002fFUTURE GAMING AND HOTEL SERVICES PRIVATE LIMITED\",\"Parties\\u002fALL INDIA TRINAMOOL CONGRESS\\u002fFUTURE GAMING AND HOTEL SERVICES PVT LTD\",\"Parties\\u002fSHIVSENA\\u002fGENEXT HARDWARE   PARKS PVT. LTD\",\"Parties\\u002fGOA FORWARD PARTY\\u002fGOA CARBON LTD\",\"Parties\\u002fALL INDIA TRINAMOOL CONGRESS\\u002fHALDIA ENERGY LIMITED\",\"Parties\\u002fRASHTRIYA JANTA DAL\\u002fIFB AGRO INDUSTRIES LIMITED\",\"Parties\\u002fJANATA DAL ( SECULAR )\\u002fILABS HYD TECHNOLOGY CENTRE PVT LTD\",\"Parties\\u002fSIKKIM KRANTIKARI MORCHA\\u002fIPCA LABORATORIES LIMITED\",\"Parties\\u002fBIJU JANATA DAL\\u002fJINDAL STEEL AND POWER LIMITED\",\"Parties\\u002fJANATA DAL ( SECULAR )\\u002fKCR ENTERPRISE LLP\",\"Parties\\u002fADYAKSHA SAMAJVADI PARTY\\u002fKEVENTER FOODPARK INFRA LIMITED\",\"Parties\\u002fSHIROMANI AKALI DAL\\u002fKEVENTER FOODPARK INFRA LIMITED\",\"Parties\\u002fADYAKSHA SAMAJVADI PARTY\\u002fM S JUGENDRA SINGH AND COMPANY\",\"Parties\\u002fBHARATIYA JANATA PARTY\\u002fMADANLAL LTD.\",\"Parties\\u002fNATIONALIST CONGRESS PARTY MAHARASHTRA PRADESH\\u002fMAGARPATTA TOWNSHIP DEV AND CONST C\",\"Parties\\u002fNATIONALIST CONGRESS PARTY MAHARASHTRA PRADESH\\u002fMAHALAXMI VIDYUT PVT.LTD.\",\"Parties\\u002fBHARAT RASHTRA SAMITHI\\u002fMEGHA ENGINEERING & INFRASTRUCTURES LIMITED\",\"Parties\\u002fDRAVIDA MUNNETRA KAZHAGAM (DMK)\\u002fMEGHA ENGINEERING & INFRASTRUCTURES LIMITED\",\"Parties\\u002fBHARAT RASHTRA SAMITHI\\u002fMEGHA ENGINEERING AND INFRASTRUCTURES LI MITED\",\"Parties\\u002fBHARATIYA JANATA PARTY\\u002fMEGHA ENGINEERING AND INFRASTRUCTURES LI MITED\",\"Parties\\u002fDRAVIDA MUNNETRA KAZHAGAM (DMK)\\u002fMEGHA ENGINEERING AND INFRASTRUCTURES LI MITED\",\"Parties\\u002fJANASENA PARTY\\u002fMEGHA ENGINEERING AND INFRASTRUCTURES LI MITED\",\"Parties\\u002fJANATA DAL ( SECULAR )\\u002fMEGHA ENGINEERING AND INFRASTRUCTURES LI MITED\",\"Parties\\u002fTELUGU DESAM PARTY\\u002fMEGHA ENGINEERING AND INFRASTRUCTURES LI MITED\",\"Parties\\u002fYSR  CONGRESS PARTY  (YUVAJANA SRAMIKA RYTHU CONGRESS PARTY)\\u002fMEGHA ENGINEERING AND INFRASTRUCTURES LI MITED\",\"Parties\\u002fBIHAR PRADESH JANTA DAL(UNITED)\\u002fMEGHA ENGINEERING AND INFRASTRUCTURES LTD\",\"Parties\\u002fSIKKIM KRANTIKARI MORCHA\\u002fMICRO LABS LIMITED\",\"Parties\\u002fAAM AADMI PARTY\\u002fMKJ ENTERPRISES LIMITED\",\"Parties\\u002fJHARKHAND MUKTI MORCHA\\u002fMKJ ENTERPRISES LIMITED\",\"Parties\\u002fPRESIDENT, ALL INDIA CONGRESS COMMITTEE\\u002fMKJ ENTERPRISES LIMITED\",\"Parties\\u002fBIJU JANATA DAL\\u002fMS S N MOHANTY\",\"Parties\\u002fJANATA DAL ( SECULAR )\\u002fNARA CONSTRUCTIONS\",\"Parties\\u002fJANASENA PARTY\\u002fNATCO PHARMA LTD\",\"Parties\\u002fTELUGU DESAM PARTY\\u002fNATCO PHARMA LTD\",\"Parties\\u002fYSR  CONGRESS PARTY  (YUVAJANA SRAMIKA RYTHU CONGRESS PARTY)\\u002fOSTRO JAISALMER PRIVATE LIMITED\",\"Parties\\u002fYSR  CONGRESS PARTY  (YUVAJANA SRAMIKA RYTHU CONGRESS PARTY)\\u002fOSTRO MADHYA WIND PRIVATE LIMITED\",\"Parties\\u002fAAM AADMI PARTY\\u002fOther\",\"Parties\\u002fALL INDIA TRINAMOOL CONGRESS\\u002fOther\",\"Parties\\u002fBHARAT RASHTRA SAMITHI\\u002fOther\",\"Parties\\u002fBHARATIYA JANATA PARTY\\u002fOther\",\"Parties\\u002fBIJU JANATA DAL\\u002fOther\",\"Parties\\u002fDRAVIDA MUNNETRA KAZHAGAM (DMK)\\u002fOther\",\"Parties\\u002fJANATA DAL ( SECULAR )\\u002fOther\",\"Parties\\u002fJHARKHAND MUKTI MORCHA\\u002fOther\",\"Parties\\u002fNATIONALIST CONGRESS PARTY MAHARASHTRA PRADESH\\u002fOther\",\"Parties\\u002fPRESIDENT, ALL INDIA CONGRESS COMMITTEE\\u002fOther\",\"Parties\\u002fRASHTRIYA JANTA DAL\\u002fOther\",\"Parties\\u002fSHIROMANI AKALI DAL\\u002fOther\",\"Parties\\u002fSHIVSENA\\u002fOther\",\"Parties\\u002fSIKKIM KRANTIKARI MORCHA\\u002fOther\",\"Parties\\u002fTELUGU DESAM PARTY\\u002fOther\",\"Parties\\u002fYSR  CONGRESS PARTY  (YUVAJANA SRAMIKA RYTHU CONGRESS PARTY)\\u002fOther\",\"Parties\\u002fSHIVSENA\\u002fPRL DEVELOPERS PRIVATE LIMITED\",\"Parties\\u002fJHARKHAND MUKTI MORCHA\\u002fPUJA COAL PRIVATE LIMITED\",\"Parties\\u002fRASHTRIYA JANTA DAL\\u002fPURULIA BOTTLING PVT LTD\",\"Parties\\u002fBHARATIYA JANATA PARTY\\u002fQWIKSUPPLYCHAINPRIVATELIMITED\",\"Parties\\u002fNATIONALIST CONGRESS PARTY MAHARASHTRA PRADESH\\u002fQWIKSUPPLYCHAINPRIVATELIMITED\",\"Parties\\u002fSHIVSENA\\u002fQWIKSUPPLYCHAINPRIVATELIMITED\",\"Parties\\u002fNATIONALIST CONGRESS PARTY MAHARASHTRA PRADESH\\u002fRAHUL BHATIA\",\"Parties\\u002fBIJU JANATA DAL\\u002fRASHMI CEMENT LTD\",\"Parties\\u002fRASHTRIYA JANTA DAL\\u002fRAUNAK GUPTA\",\"Parties\\u002fJANATA DAL ( SECULAR )\\u002fRITHWIK PROJECTS  PRIVATE LIMITED\",\"Parties\\u002fBIJU JANATA DAL\\u002fRUNGTA SONS P LTD\",\"Parties\\u002fSHIROMANI AKALI DAL\\u002fSANDEEP KHANNA AND ASSOCIATES\",\"Parties\\u002fTELUGU DESAM PARTY\\u002fSHIRDI SAI ELECTRICALS LTD\",\"Parties\\u002fBIHAR PRADESH JANTA DAL(UNITED)\\u002fSHREE CEMENT LTD\",\"Parties\\u002fJHARKHAND MUKTI MORCHA\\u002fSHREE CHAND SARAOGI\",\"Parties\\u002fMAHARASHTRAWADI GOMNTAK PARTY\\u002fSHRINIVAS VASUDEVA DEMPO\",\"Parties\\u002fJANASENA PARTY\\u002fSRI CHAITANYA STUDENTS FACILITY MANAGEME\",\"Parties\\u002fYSR  CONGRESS PARTY  (YUVAJANA SRAMIKA RYTHU CONGRESS PARTY)\\u002fTHE RAMCO CEMENTS LIMITED\",\"Parties\\u002fJHARKHAND MUKTI MORCHA\\u002fTHRIVENI SAINIK MINING PRIVATE LIMI\",\"Parties\\u002fAAM AADMI PARTY\\u002fTORRENT  POWER  LIMITED\",\"Parties\\u002fNATIONALIST CONGRESS PARTY MAHARASHTRA PRADESH\\u002fTORRENT  POWER  LIMITED\",\"Parties\\u002fSHIVSENA\\u002fTORRENT  POWER  LIMITED\",\"Parties\\u002fADYAKSHA SAMAJVADI PARTY\\u002fTORRENT PHARMACEUTICALS LTD\",\"Parties\\u002fSIKKIM DEMOCRATIC FRONT\\u002fTORRENT PHARMACEUTICALS LTD\",\"Parties\\u002fSIKKIM KRANTIKARI MORCHA\\u002fTORRENT PHARMACEUTICALS LTD\",\"Parties\\u002fAAM AADMI PARTY\\u002fTRANSWAYS EXIM PRIVATE LIMITED\",\"Parties\\u002fSHIVSENA\\u002fULTRA TECH CEMENT LIMITED\",\"Parties\\u002fBIJU JANATA DAL\\u002fUTKAL ALUMINA INTERNATIONAL LIMITED\",\"Parties\\u002fGOA FORWARD PARTY\\u002fV M SALGAOCAR CORPORATION PVT LTD\",\"Parties\\u002fMAHARASHTRAWADI GOMNTAK PARTY\\u002fV M SALGAOCAR CORPORATION PVT LTD\",\"Parties\\u002fJANASENA PARTY\\u002fVALLURUPALLI PRABHU KISHORE\",\"Parties\\u002fSHIROMANI AKALI DAL\\u002fVARDHMAN TEXTILES LTD\",\"Parties\\u002fBHARATIYA JANATA PARTY\\u002fVEDANTA LIMITED\",\"Parties\\u002fJHARKHAND MUKTI MORCHA\\u002fVEDANTA LIMITED\",\"Parties\\u002fPRESIDENT, ALL INDIA CONGRESS COMMITTEE\\u002fVEDANTA LIMITED\",\"Parties\\u002fJANASENA PARTY\\u002fWESTERN UP POWER TRANSMISSION COMPANY LI MITED\",\"Parties\\u002fPRESIDENT, ALL INDIA CONGRESS COMMITTEE\\u002fWESTERN UP POWER TRANSMISSION COMPANY LI MITED\",\"Parties\\u002fTELUGU DESAM PARTY\\u002fWESTERN UP POWER TRANSMISSION COMPANY LI MITED\",\"Parties\\u002fDRAVIDA MUNNETRA KAZHAGAM (DMK)\\u002fWESTWELL GASES PRIVATE LIMITED\",\"Parties\\u002fRASHTRIYA JANTA DAL\\u002fWESTWELL GASES PRIVATE LIMITED\",\"Parties\\u002fBHARAT RASHTRA SAMITHI\\u002fYASHODA SUPER SPECIALITY HOSPITAL\",\"Parties\\u002fPRESIDENT, ALL INDIA CONGRESS COMMITTEE\\u002fYASHODA SUPER SPECIALITY HOSPITAL\",\"Parties\\u002fSHIVSENA\\u002fYUVAN TRADING   CONSULTANCY LLP\",\"Parties\\u002fSIKKIM KRANTIKARI MORCHA\\u002fZYDUS HEALTHCARE LIMITED\",\"Parties\\u002fAAM AADMI PARTY\",\"Parties\\u002fADYAKSHA SAMAJVADI PARTY\",\"Parties\\u002fALL INDIA TRINAMOOL CONGRESS\",\"Parties\\u002fBHARAT RASHTRA SAMITHI\",\"Parties\\u002fBHARATIYA JANATA PARTY\",\"Parties\\u002fBIHAR PRADESH JANTA DAL(UNITED)\",\"Parties\\u002fBIJU JANATA DAL\",\"Parties\\u002fDRAVIDA MUNNETRA KAZHAGAM (DMK)\",\"Parties\\u002fGOA FORWARD PARTY\",\"Parties\\u002fJAMMU AND KASHMIR NATIONAL CONFERENCE\",\"Parties\\u002fJANASENA PARTY\",\"Parties\\u002fJANATA DAL ( SECULAR )\",\"Parties\\u002fJHARKHAND MUKTI MORCHA\",\"Parties\\u002fMAHARASHTRAWADI GOMNTAK PARTY\",\"Parties\\u002fNATIONALIST CONGRESS PARTY MAHARASHTRA PRADESH\",\"Parties\\u002fPRESIDENT, ALL INDIA CONGRESS COMMITTEE\",\"Parties\\u002fRASHTRIYA JANTA DAL\",\"Parties\\u002fSHIROMANI AKALI DAL\",\"Parties\\u002fSHIVSENA\",\"Parties\\u002fSIKKIM DEMOCRATIC FRONT\",\"Parties\\u002fSIKKIM KRANTIKARI MORCHA\",\"Parties\\u002fTELUGU DESAM PARTY\",\"Parties\\u002fYSR  CONGRESS PARTY  (YUVAJANA SRAMIKA RYTHU CONGRESS PARTY)\",\"Parties\"],\"labels\":[\"ASIAN TRADING CORPORATION LIMITED\",\"ASKUS LOGISTICS PRIVATE LIMITED\",\"AVEES TRADING FINANCE PVT LTD\",\"AVEES TRADING FINANCE PVT LTD\",\"B G SHIRKE CONSTRUCTION TECHNOLOGY PVT L TD\",\"BAJAJ AUTO LTD\",\"BHARAT BIOTECH INTERNATIONAL LIMITED\",\"BHARTI AIRTEL LIMITED\",\"BHARTI AIRTEL LIMITEDAIRTEL CURRE NT AC-GCO\",\"BHARTI INFRATEL LIMITED\",\"BHARTI INFRATEL LIMITED\",\"CHENNAI GREEN WOODS PRIVATE LIMITED\",\"DHARIWAL INFRASTRUCTURE LIMITED\",\"DINESHCHANDRA R AGRAWAL INFRACON PVT LTD\",\"DR.REDDY'S LABORATORIES LTD\",\"DR.REDDY'S LABORATORIES LTD\",\"ESSEL MINING AND INDS LTD\",\"FASTWAY TRANSMISSIONS PVT LTD\",\"FUTURE GAMING AND HOTEL SERVICES PR\",\"FUTURE GAMING AND HOTEL SERVICES PR\",\"FUTURE GAMING AND HOTEL SERVICES PR\",\"FUTURE GAMING AND HOTEL SERVICES PR\",\"FUTURE GAMING AND HOTEL SERVICES PR\",\"FUTURE GAMING AND HOTEL SERVICES PRIVATE LIMITED\",\"FUTURE GAMING AND HOTEL SERVICES PRIVATE LIMITED\",\"FUTURE GAMING AND HOTEL SERVICES PVT LTD\",\"GENEXT HARDWARE   PARKS PVT. LTD\",\"GOA CARBON LTD\",\"HALDIA ENERGY LIMITED\",\"IFB AGRO INDUSTRIES LIMITED\",\"ILABS HYD TECHNOLOGY CENTRE PVT LTD\",\"IPCA LABORATORIES LIMITED\",\"JINDAL STEEL AND POWER LIMITED\",\"KCR ENTERPRISE LLP\",\"KEVENTER FOODPARK INFRA LIMITED\",\"KEVENTER FOODPARK INFRA LIMITED\",\"M S JUGENDRA SINGH AND COMPANY\",\"MADANLAL LTD.\",\"MAGARPATTA TOWNSHIP DEV AND CONST C\",\"MAHALAXMI VIDYUT PVT.LTD.\",\"MEGHA ENGINEERING & INFRASTRUCTURES LIMITED\",\"MEGHA ENGINEERING & INFRASTRUCTURES LIMITED\",\"MEGHA ENGINEERING AND INFRASTRUCTURES LI MITED\",\"MEGHA ENGINEERING AND INFRASTRUCTURES LI MITED\",\"MEGHA ENGINEERING AND INFRASTRUCTURES LI MITED\",\"MEGHA ENGINEERING AND INFRASTRUCTURES LI MITED\",\"MEGHA ENGINEERING AND INFRASTRUCTURES LI MITED\",\"MEGHA ENGINEERING AND INFRASTRUCTURES LI MITED\",\"MEGHA ENGINEERING AND INFRASTRUCTURES LI MITED\",\"MEGHA ENGINEERING AND INFRASTRUCTURES LTD\",\"MICRO LABS LIMITED\",\"MKJ ENTERPRISES LIMITED\",\"MKJ ENTERPRISES LIMITED\",\"MKJ ENTERPRISES LIMITED\",\"MS S N MOHANTY\",\"NARA CONSTRUCTIONS\",\"NATCO PHARMA LTD\",\"NATCO PHARMA LTD\",\"OSTRO JAISALMER PRIVATE LIMITED\",\"OSTRO MADHYA WIND PRIVATE LIMITED\",\"Other\",\"Other\",\"Other\",\"Other\",\"Other\",\"Other\",\"Other\",\"Other\",\"Other\",\"Other\",\"Other\",\"Other\",\"Other\",\"Other\",\"Other\",\"Other\",\"PRL DEVELOPERS PRIVATE LIMITED\",\"PUJA COAL PRIVATE LIMITED\",\"PURULIA BOTTLING PVT LTD\",\"QWIKSUPPLYCHAINPRIVATELIMITED\",\"QWIKSUPPLYCHAINPRIVATELIMITED\",\"QWIKSUPPLYCHAINPRIVATELIMITED\",\"RAHUL BHATIA\",\"RASHMI CEMENT LTD\",\"RAUNAK GUPTA\",\"RITHWIK PROJECTS  PRIVATE LIMITED\",\"RUNGTA SONS P LTD\",\"SANDEEP KHANNA AND ASSOCIATES\",\"SHIRDI SAI ELECTRICALS LTD\",\"SHREE CEMENT LTD\",\"SHREE CHAND SARAOGI\",\"SHRINIVAS VASUDEVA DEMPO\",\"SRI CHAITANYA STUDENTS FACILITY MANAGEME\",\"THE RAMCO CEMENTS LIMITED\",\"THRIVENI SAINIK MINING PRIVATE LIMI\",\"TORRENT  POWER  LIMITED\",\"TORRENT  POWER  LIMITED\",\"TORRENT  POWER  LIMITED\",\"TORRENT PHARMACEUTICALS LTD\",\"TORRENT PHARMACEUTICALS LTD\",\"TORRENT PHARMACEUTICALS LTD\",\"TRANSWAYS EXIM PRIVATE LIMITED\",\"ULTRA TECH CEMENT LIMITED\",\"UTKAL ALUMINA INTERNATIONAL LIMITED\",\"V M SALGAOCAR CORPORATION PVT LTD\",\"V M SALGAOCAR CORPORATION PVT LTD\",\"VALLURUPALLI PRABHU KISHORE\",\"VARDHMAN TEXTILES LTD\",\"VEDANTA LIMITED\",\"VEDANTA LIMITED\",\"VEDANTA LIMITED\",\"WESTERN UP POWER TRANSMISSION COMPANY LI MITED\",\"WESTERN UP POWER TRANSMISSION COMPANY LI MITED\",\"WESTERN UP POWER TRANSMISSION COMPANY LI MITED\",\"WESTWELL GASES PRIVATE LIMITED\",\"WESTWELL GASES PRIVATE LIMITED\",\"YASHODA SUPER SPECIALITY HOSPITAL\",\"YASHODA SUPER SPECIALITY HOSPITAL\",\"YUVAN TRADING   CONSULTANCY LLP\",\"ZYDUS HEALTHCARE LIMITED\",\"AAM AADMI PARTY\",\"ADYAKSHA SAMAJVADI PARTY\",\"ALL INDIA TRINAMOOL CONGRESS\",\"BHARAT RASHTRA SAMITHI\",\"BHARATIYA JANATA PARTY\",\"BIHAR PRADESH JANTA DAL(UNITED)\",\"BIJU JANATA DAL\",\"DRAVIDA MUNNETRA KAZHAGAM (DMK)\",\"GOA FORWARD PARTY\",\"JAMMU AND KASHMIR NATIONAL CONFERENCE\",\"JANASENA PARTY\",\"JANATA DAL ( SECULAR )\",\"JHARKHAND MUKTI MORCHA\",\"MAHARASHTRAWADI GOMNTAK PARTY\",\"NATIONALIST CONGRESS PARTY MAHARASHTRA PRADESH\",\"PRESIDENT, ALL INDIA CONGRESS COMMITTEE\",\"RASHTRIYA JANTA DAL\",\"SHIROMANI AKALI DAL\",\"SHIVSENA\",\"SIKKIM DEMOCRATIC FRONT\",\"SIKKIM KRANTIKARI MORCHA\",\"TELUGU DESAM PARTY\",\"YSR  CONGRESS PARTY  (YUVAJANA SRAMIKA RYTHU CONGRESS PARTY)\",\"Parties\"],\"name\":\"\",\"parents\":[\"Parties\\u002fAAM AADMI PARTY\",\"Parties\\u002fRASHTRIYA JANTA DAL\",\"Parties\\u002fAAM AADMI PARTY\",\"Parties\\u002fPRESIDENT, ALL INDIA CONGRESS COMMITTEE\",\"Parties\\u002fSHIVSENA\",\"Parties\\u002fAAM AADMI PARTY\",\"Parties\\u002fTELUGU DESAM PARTY\",\"Parties\\u002fBHARATIYA JANATA PARTY\",\"Parties\\u002fJAMMU AND KASHMIR NATIONAL CONFERENCE\",\"Parties\\u002fBIHAR PRADESH JANTA DAL(UNITED)\",\"Parties\\u002fSHIROMANI AKALI DAL\",\"Parties\\u002fBHARAT RASHTRA SAMITHI\",\"Parties\\u002fALL INDIA TRINAMOOL CONGRESS\",\"Parties\\u002fSHIVSENA\",\"Parties\\u002fBHARAT RASHTRA SAMITHI\",\"Parties\\u002fTELUGU DESAM PARTY\",\"Parties\\u002fBIJU JANATA DAL\",\"Parties\\u002fSHIROMANI AKALI DAL\",\"Parties\\u002fALL INDIA TRINAMOOL CONGRESS\",\"Parties\\u002fDRAVIDA MUNNETRA KAZHAGAM (DMK)\",\"Parties\\u002fSIKKIM DEMOCRATIC FRONT\",\"Parties\\u002fSIKKIM KRANTIKARI MORCHA\",\"Parties\\u002fYSR  CONGRESS PARTY  (YUVAJANA SRAMIKA RYTHU CONGRESS PARTY)\",\"Parties\\u002fALL INDIA TRINAMOOL CONGRESS\",\"Parties\\u002fDRAVIDA MUNNETRA KAZHAGAM (DMK)\",\"Parties\\u002fALL INDIA TRINAMOOL CONGRESS\",\"Parties\\u002fSHIVSENA\",\"Parties\\u002fGOA FORWARD PARTY\",\"Parties\\u002fALL INDIA TRINAMOOL CONGRESS\",\"Parties\\u002fRASHTRIYA JANTA DAL\",\"Parties\\u002fJANATA DAL ( SECULAR )\",\"Parties\\u002fSIKKIM KRANTIKARI MORCHA\",\"Parties\\u002fBIJU JANATA DAL\",\"Parties\\u002fJANATA DAL ( SECULAR )\",\"Parties\\u002fADYAKSHA SAMAJVADI PARTY\",\"Parties\\u002fSHIROMANI AKALI DAL\",\"Parties\\u002fADYAKSHA SAMAJVADI PARTY\",\"Parties\\u002fBHARATIYA JANATA PARTY\",\"Parties\\u002fNATIONALIST CONGRESS PARTY MAHARASHTRA PRADESH\",\"Parties\\u002fNATIONALIST CONGRESS PARTY MAHARASHTRA PRADESH\",\"Parties\\u002fBHARAT RASHTRA SAMITHI\",\"Parties\\u002fDRAVIDA MUNNETRA KAZHAGAM (DMK)\",\"Parties\\u002fBHARAT RASHTRA SAMITHI\",\"Parties\\u002fBHARATIYA JANATA PARTY\",\"Parties\\u002fDRAVIDA MUNNETRA KAZHAGAM (DMK)\",\"Parties\\u002fJANASENA PARTY\",\"Parties\\u002fJANATA DAL ( SECULAR )\",\"Parties\\u002fTELUGU DESAM PARTY\",\"Parties\\u002fYSR  CONGRESS PARTY  (YUVAJANA SRAMIKA RYTHU CONGRESS PARTY)\",\"Parties\\u002fBIHAR PRADESH JANTA DAL(UNITED)\",\"Parties\\u002fSIKKIM KRANTIKARI MORCHA\",\"Parties\\u002fAAM AADMI PARTY\",\"Parties\\u002fJHARKHAND MUKTI MORCHA\",\"Parties\\u002fPRESIDENT, ALL INDIA CONGRESS COMMITTEE\",\"Parties\\u002fBIJU JANATA DAL\",\"Parties\\u002fJANATA DAL ( SECULAR )\",\"Parties\\u002fJANASENA PARTY\",\"Parties\\u002fTELUGU DESAM PARTY\",\"Parties\\u002fYSR  CONGRESS PARTY  (YUVAJANA SRAMIKA RYTHU CONGRESS PARTY)\",\"Parties\\u002fYSR  CONGRESS PARTY  (YUVAJANA SRAMIKA RYTHU CONGRESS PARTY)\",\"Parties\\u002fAAM AADMI PARTY\",\"Parties\\u002fALL INDIA TRINAMOOL CONGRESS\",\"Parties\\u002fBHARAT RASHTRA SAMITHI\",\"Parties\\u002fBHARATIYA JANATA PARTY\",\"Parties\\u002fBIJU JANATA DAL\",\"Parties\\u002fDRAVIDA MUNNETRA KAZHAGAM (DMK)\",\"Parties\\u002fJANATA DAL ( SECULAR )\",\"Parties\\u002fJHARKHAND MUKTI MORCHA\",\"Parties\\u002fNATIONALIST CONGRESS PARTY MAHARASHTRA PRADESH\",\"Parties\\u002fPRESIDENT, ALL INDIA CONGRESS COMMITTEE\",\"Parties\\u002fRASHTRIYA JANTA DAL\",\"Parties\\u002fSHIROMANI AKALI DAL\",\"Parties\\u002fSHIVSENA\",\"Parties\\u002fSIKKIM KRANTIKARI MORCHA\",\"Parties\\u002fTELUGU DESAM PARTY\",\"Parties\\u002fYSR  CONGRESS PARTY  (YUVAJANA SRAMIKA RYTHU CONGRESS PARTY)\",\"Parties\\u002fSHIVSENA\",\"Parties\\u002fJHARKHAND MUKTI MORCHA\",\"Parties\\u002fRASHTRIYA JANTA DAL\",\"Parties\\u002fBHARATIYA JANATA PARTY\",\"Parties\\u002fNATIONALIST CONGRESS PARTY MAHARASHTRA PRADESH\",\"Parties\\u002fSHIVSENA\",\"Parties\\u002fNATIONALIST CONGRESS PARTY MAHARASHTRA PRADESH\",\"Parties\\u002fBIJU JANATA DAL\",\"Parties\\u002fRASHTRIYA JANTA DAL\",\"Parties\\u002fJANATA DAL ( SECULAR )\",\"Parties\\u002fBIJU JANATA DAL\",\"Parties\\u002fSHIROMANI AKALI DAL\",\"Parties\\u002fTELUGU DESAM PARTY\",\"Parties\\u002fBIHAR PRADESH JANTA DAL(UNITED)\",\"Parties\\u002fJHARKHAND MUKTI MORCHA\",\"Parties\\u002fMAHARASHTRAWADI GOMNTAK PARTY\",\"Parties\\u002fJANASENA PARTY\",\"Parties\\u002fYSR  CONGRESS PARTY  (YUVAJANA SRAMIKA RYTHU CONGRESS PARTY)\",\"Parties\\u002fJHARKHAND MUKTI MORCHA\",\"Parties\\u002fAAM AADMI PARTY\",\"Parties\\u002fNATIONALIST CONGRESS PARTY MAHARASHTRA PRADESH\",\"Parties\\u002fSHIVSENA\",\"Parties\\u002fADYAKSHA SAMAJVADI PARTY\",\"Parties\\u002fSIKKIM DEMOCRATIC FRONT\",\"Parties\\u002fSIKKIM KRANTIKARI MORCHA\",\"Parties\\u002fAAM AADMI PARTY\",\"Parties\\u002fSHIVSENA\",\"Parties\\u002fBIJU JANATA DAL\",\"Parties\\u002fGOA FORWARD PARTY\",\"Parties\\u002fMAHARASHTRAWADI GOMNTAK PARTY\",\"Parties\\u002fJANASENA PARTY\",\"Parties\\u002fSHIROMANI AKALI DAL\",\"Parties\\u002fBHARATIYA JANATA PARTY\",\"Parties\\u002fJHARKHAND MUKTI MORCHA\",\"Parties\\u002fPRESIDENT, ALL INDIA CONGRESS COMMITTEE\",\"Parties\\u002fJANASENA PARTY\",\"Parties\\u002fPRESIDENT, ALL INDIA CONGRESS COMMITTEE\",\"Parties\\u002fTELUGU DESAM PARTY\",\"Parties\\u002fDRAVIDA MUNNETRA KAZHAGAM (DMK)\",\"Parties\\u002fRASHTRIYA JANTA DAL\",\"Parties\\u002fBHARAT RASHTRA SAMITHI\",\"Parties\\u002fPRESIDENT, ALL INDIA CONGRESS COMMITTEE\",\"Parties\\u002fSHIVSENA\",\"Parties\\u002fSIKKIM KRANTIKARI MORCHA\",\"Parties\",\"Parties\",\"Parties\",\"Parties\",\"Parties\",\"Parties\",\"Parties\",\"Parties\",\"Parties\",\"Parties\",\"Parties\",\"Parties\",\"Parties\",\"Parties\",\"Parties\",\"Parties\",\"Parties\",\"Parties\",\"Parties\",\"Parties\",\"Parties\",\"Parties\",\"Parties\",\"\"],\"values\":[50000000.0,90000000.0,100000000.0,530000000.0,850000000.0,80000000.0,100000000.0,1830000000.0,5000000.0,10000000.0,10000000.0,500000000.0,900000000.0,30000000.0,320000000.0,100000000.0,1745000000.0,50000000.0,4350000000.0,4530000000.0,50000000.0,80000000.0,1540000000.0,450000000.0,500000000.0,620000000.0,30000000.0,2000000.0,2810000000.0,350000000.0,50000000.0,35000000.0,1000000000.0,50000000.0,100000000.0,5000000.0,2100000.0,1755000000.0,30000000.0,25000000.0,450000000.0,250000000.0,1500000000.0,5190000000.0,600000000.0,40000000.0,50000000.0,280000000.0,370000000.0,100000000.0,70000000.0,70000000.0,10000000.0,693500000.0,450000000.0,100000000.0,50000000.0,140000000.0,170000000.0,170000000.0,232500000.0,6795214000.0,8201599000.0,41150511000.0,3010000000.0,360000000.0,60000000.0,7500000.0,57000000.0,9507445000.0,174000000.0,60000.0,224514000.0,30000000.0,895800000.0,797500000.0,50000000.0,20000000.0,25000000.0,3750000000.0,100000000.0,250000000.0,38000000.0,450000000.0,35000000.0,100000000.0,500000000.0,40000.0,400000000.0,10000000.0,7500000.0,2000000.0,10000000.0,240000000.0,30000000.0,50000000.0,35000000.0,30000000.0,30000000.0,5000000.0,70000000.0,70000000.0,30000000.0,600000000.0,1500000.0,3500000.0,10000000.0,7500000.0,2266500000.0,50000000.0,1040000000.0,100000000.0,1100000000.0,200000000.0,80000000.0,51000000.0,940000000.0,640000000.0,30000000.0,80000000.0,652500000.0,132100000.0,15925214000.0,11911599000.0,55942011000.0,120000000.0,7755000000.0,6320000000.0,3500000.0,5000000.0,210000000.0,410000000.0,125000000.0,5500000.0,285000000.0,13510945000.0,725000000.0,72600000.0,1524514000.0,55000000.0,365000000.0,2115800000.0,3287500000.0,121458783000.0],\"type\":\"icicle\",\"root\":{\"color\":\"lightgrey\"},\"tiling\":{\"flip\":\"y\",\"orientation\":\"v\"}}],                        {\"template\":{\"data\":{\"histogram2dcontour\":[{\"type\":\"histogram2dcontour\",\"colorbar\":{\"outlinewidth\":0,\"ticks\":\"\"},\"colorscale\":[[0.0,\"#0d0887\"],[0.1111111111111111,\"#46039f\"],[0.2222222222222222,\"#7201a8\"],[0.3333333333333333,\"#9c179e\"],[0.4444444444444444,\"#bd3786\"],[0.5555555555555556,\"#d8576b\"],[0.6666666666666666,\"#ed7953\"],[0.7777777777777778,\"#fb9f3a\"],[0.8888888888888888,\"#fdca26\"],[1.0,\"#f0f921\"]]}],\"choropleth\":[{\"type\":\"choropleth\",\"colorbar\":{\"outlinewidth\":0,\"ticks\":\"\"}}],\"histogram2d\":[{\"type\":\"histogram2d\",\"colorbar\":{\"outlinewidth\":0,\"ticks\":\"\"},\"colorscale\":[[0.0,\"#0d0887\"],[0.1111111111111111,\"#46039f\"],[0.2222222222222222,\"#7201a8\"],[0.3333333333333333,\"#9c179e\"],[0.4444444444444444,\"#bd3786\"],[0.5555555555555556,\"#d8576b\"],[0.6666666666666666,\"#ed7953\"],[0.7777777777777778,\"#fb9f3a\"],[0.8888888888888888,\"#fdca26\"],[1.0,\"#f0f921\"]]}],\"heatmap\":[{\"type\":\"heatmap\",\"colorbar\":{\"outlinewidth\":0,\"ticks\":\"\"},\"colorscale\":[[0.0,\"#0d0887\"],[0.1111111111111111,\"#46039f\"],[0.2222222222222222,\"#7201a8\"],[0.3333333333333333,\"#9c179e\"],[0.4444444444444444,\"#bd3786\"],[0.5555555555555556,\"#d8576b\"],[0.6666666666666666,\"#ed7953\"],[0.7777777777777778,\"#fb9f3a\"],[0.8888888888888888,\"#fdca26\"],[1.0,\"#f0f921\"]]}],\"heatmapgl\":[{\"type\":\"heatmapgl\",\"colorbar\":{\"outlinewidth\":0,\"ticks\":\"\"},\"colorscale\":[[0.0,\"#0d0887\"],[0.1111111111111111,\"#46039f\"],[0.2222222222222222,\"#7201a8\"],[0.3333333333333333,\"#9c179e\"],[0.4444444444444444,\"#bd3786\"],[0.5555555555555556,\"#d8576b\"],[0.6666666666666666,\"#ed7953\"],[0.7777777777777778,\"#fb9f3a\"],[0.8888888888888888,\"#fdca26\"],[1.0,\"#f0f921\"]]}],\"contourcarpet\":[{\"type\":\"contourcarpet\",\"colorbar\":{\"outlinewidth\":0,\"ticks\":\"\"}}],\"contour\":[{\"type\":\"contour\",\"colorbar\":{\"outlinewidth\":0,\"ticks\":\"\"},\"colorscale\":[[0.0,\"#0d0887\"],[0.1111111111111111,\"#46039f\"],[0.2222222222222222,\"#7201a8\"],[0.3333333333333333,\"#9c179e\"],[0.4444444444444444,\"#bd3786\"],[0.5555555555555556,\"#d8576b\"],[0.6666666666666666,\"#ed7953\"],[0.7777777777777778,\"#fb9f3a\"],[0.8888888888888888,\"#fdca26\"],[1.0,\"#f0f921\"]]}],\"surface\":[{\"type\":\"surface\",\"colorbar\":{\"outlinewidth\":0,\"ticks\":\"\"},\"colorscale\":[[0.0,\"#0d0887\"],[0.1111111111111111,\"#46039f\"],[0.2222222222222222,\"#7201a8\"],[0.3333333333333333,\"#9c179e\"],[0.4444444444444444,\"#bd3786\"],[0.5555555555555556,\"#d8576b\"],[0.6666666666666666,\"#ed7953\"],[0.7777777777777778,\"#fb9f3a\"],[0.8888888888888888,\"#fdca26\"],[1.0,\"#f0f921\"]]}],\"mesh3d\":[{\"type\":\"mesh3d\",\"colorbar\":{\"outlinewidth\":0,\"ticks\":\"\"}}],\"scatter\":[{\"fillpattern\":{\"fillmode\":\"overlay\",\"size\":10,\"solidity\":0.2},\"type\":\"scatter\"}],\"parcoords\":[{\"type\":\"parcoords\",\"line\":{\"colorbar\":{\"outlinewidth\":0,\"ticks\":\"\"}}}],\"scatterpolargl\":[{\"type\":\"scatterpolargl\",\"marker\":{\"colorbar\":{\"outlinewidth\":0,\"ticks\":\"\"}}}],\"bar\":[{\"error_x\":{\"color\":\"#2a3f5f\"},\"error_y\":{\"color\":\"#2a3f5f\"},\"marker\":{\"line\":{\"color\":\"#E5ECF6\",\"width\":0.5},\"pattern\":{\"fillmode\":\"overlay\",\"size\":10,\"solidity\":0.2}},\"type\":\"bar\"}],\"scattergeo\":[{\"type\":\"scattergeo\",\"marker\":{\"colorbar\":{\"outlinewidth\":0,\"ticks\":\"\"}}}],\"scatterpolar\":[{\"type\":\"scatterpolar\",\"marker\":{\"colorbar\":{\"outlinewidth\":0,\"ticks\":\"\"}}}],\"histogram\":[{\"marker\":{\"pattern\":{\"fillmode\":\"overlay\",\"size\":10,\"solidity\":0.2}},\"type\":\"histogram\"}],\"scattergl\":[{\"type\":\"scattergl\",\"marker\":{\"colorbar\":{\"outlinewidth\":0,\"ticks\":\"\"}}}],\"scatter3d\":[{\"type\":\"scatter3d\",\"line\":{\"colorbar\":{\"outlinewidth\":0,\"ticks\":\"\"}},\"marker\":{\"colorbar\":{\"outlinewidth\":0,\"ticks\":\"\"}}}],\"scattermapbox\":[{\"type\":\"scattermapbox\",\"marker\":{\"colorbar\":{\"outlinewidth\":0,\"ticks\":\"\"}}}],\"scatterternary\":[{\"type\":\"scatterternary\",\"marker\":{\"colorbar\":{\"outlinewidth\":0,\"ticks\":\"\"}}}],\"scattercarpet\":[{\"type\":\"scattercarpet\",\"marker\":{\"colorbar\":{\"outlinewidth\":0,\"ticks\":\"\"}}}],\"carpet\":[{\"aaxis\":{\"endlinecolor\":\"#2a3f5f\",\"gridcolor\":\"white\",\"linecolor\":\"white\",\"minorgridcolor\":\"white\",\"startlinecolor\":\"#2a3f5f\"},\"baxis\":{\"endlinecolor\":\"#2a3f5f\",\"gridcolor\":\"white\",\"linecolor\":\"white\",\"minorgridcolor\":\"white\",\"startlinecolor\":\"#2a3f5f\"},\"type\":\"carpet\"}],\"table\":[{\"cells\":{\"fill\":{\"color\":\"#EBF0F8\"},\"line\":{\"color\":\"white\"}},\"header\":{\"fill\":{\"color\":\"#C8D4E3\"},\"line\":{\"color\":\"white\"}},\"type\":\"table\"}],\"barpolar\":[{\"marker\":{\"line\":{\"color\":\"#E5ECF6\",\"width\":0.5},\"pattern\":{\"fillmode\":\"overlay\",\"size\":10,\"solidity\":0.2}},\"type\":\"barpolar\"}],\"pie\":[{\"automargin\":true,\"type\":\"pie\"}]},\"layout\":{\"autotypenumbers\":\"strict\",\"colorway\":[\"#636efa\",\"#EF553B\",\"#00cc96\",\"#ab63fa\",\"#FFA15A\",\"#19d3f3\",\"#FF6692\",\"#B6E880\",\"#FF97FF\",\"#FECB52\"],\"font\":{\"color\":\"#2a3f5f\"},\"hovermode\":\"closest\",\"hoverlabel\":{\"align\":\"left\"},\"paper_bgcolor\":\"white\",\"plot_bgcolor\":\"#E5ECF6\",\"polar\":{\"bgcolor\":\"#E5ECF6\",\"angularaxis\":{\"gridcolor\":\"white\",\"linecolor\":\"white\",\"ticks\":\"\"},\"radialaxis\":{\"gridcolor\":\"white\",\"linecolor\":\"white\",\"ticks\":\"\"}},\"ternary\":{\"bgcolor\":\"#E5ECF6\",\"aaxis\":{\"gridcolor\":\"white\",\"linecolor\":\"white\",\"ticks\":\"\"},\"baxis\":{\"gridcolor\":\"white\",\"linecolor\":\"white\",\"ticks\":\"\"},\"caxis\":{\"gridcolor\":\"white\",\"linecolor\":\"white\",\"ticks\":\"\"}},\"coloraxis\":{\"colorbar\":{\"outlinewidth\":0,\"ticks\":\"\"}},\"colorscale\":{\"sequential\":[[0.0,\"#0d0887\"],[0.1111111111111111,\"#46039f\"],[0.2222222222222222,\"#7201a8\"],[0.3333333333333333,\"#9c179e\"],[0.4444444444444444,\"#bd3786\"],[0.5555555555555556,\"#d8576b\"],[0.6666666666666666,\"#ed7953\"],[0.7777777777777778,\"#fb9f3a\"],[0.8888888888888888,\"#fdca26\"],[1.0,\"#f0f921\"]],\"sequentialminus\":[[0.0,\"#0d0887\"],[0.1111111111111111,\"#46039f\"],[0.2222222222222222,\"#7201a8\"],[0.3333333333333333,\"#9c179e\"],[0.4444444444444444,\"#bd3786\"],[0.5555555555555556,\"#d8576b\"],[0.6666666666666666,\"#ed7953\"],[0.7777777777777778,\"#fb9f3a\"],[0.8888888888888888,\"#fdca26\"],[1.0,\"#f0f921\"]],\"diverging\":[[0,\"#8e0152\"],[0.1,\"#c51b7d\"],[0.2,\"#de77ae\"],[0.3,\"#f1b6da\"],[0.4,\"#fde0ef\"],[0.5,\"#f7f7f7\"],[0.6,\"#e6f5d0\"],[0.7,\"#b8e186\"],[0.8,\"#7fbc41\"],[0.9,\"#4d9221\"],[1,\"#276419\"]]},\"xaxis\":{\"gridcolor\":\"white\",\"linecolor\":\"white\",\"ticks\":\"\",\"title\":{\"standoff\":15},\"zerolinecolor\":\"white\",\"automargin\":true,\"zerolinewidth\":2},\"yaxis\":{\"gridcolor\":\"white\",\"linecolor\":\"white\",\"ticks\":\"\",\"title\":{\"standoff\":15},\"zerolinecolor\":\"white\",\"automargin\":true,\"zerolinewidth\":2},\"scene\":{\"xaxis\":{\"backgroundcolor\":\"#E5ECF6\",\"gridcolor\":\"white\",\"linecolor\":\"white\",\"showbackground\":true,\"ticks\":\"\",\"zerolinecolor\":\"white\",\"gridwidth\":2},\"yaxis\":{\"backgroundcolor\":\"#E5ECF6\",\"gridcolor\":\"white\",\"linecolor\":\"white\",\"showbackground\":true,\"ticks\":\"\",\"zerolinecolor\":\"white\",\"gridwidth\":2},\"zaxis\":{\"backgroundcolor\":\"#E5ECF6\",\"gridcolor\":\"white\",\"linecolor\":\"white\",\"showbackground\":true,\"ticks\":\"\",\"zerolinecolor\":\"white\",\"gridwidth\":2}},\"shapedefaults\":{\"line\":{\"color\":\"#2a3f5f\"}},\"annotationdefaults\":{\"arrowcolor\":\"#2a3f5f\",\"arrowhead\":0,\"arrowwidth\":1},\"geo\":{\"bgcolor\":\"white\",\"landcolor\":\"#E5ECF6\",\"subunitcolor\":\"white\",\"showland\":true,\"showlakes\":true,\"lakecolor\":\"white\"},\"title\":{\"x\":0.05},\"mapbox\":{\"style\":\"light\"}}},\"legend\":{\"tracegroupgap\":0},\"margin\":{\"t\":50,\"l\":25,\"r\":25,\"b\":25},\"autosize\":false,\"width\":1500,\"height\":500},                        {\"responsive\": true}                    ).then(function(){\n",
              "                            \n",
              "var gd = document.getElementById('5945c29d-5c56-4a1e-9da0-9557149f1041');\n",
              "var x = new MutationObserver(function (mutations, observer) {{\n",
              "        var display = window.getComputedStyle(gd).display;\n",
              "        if (!display || display === 'none') {{\n",
              "            console.log([gd, 'removed!']);\n",
              "            Plotly.purge(gd);\n",
              "            observer.disconnect();\n",
              "        }}\n",
              "}});\n",
              "\n",
              "// Listen for the removal of the full notebook cells\n",
              "var notebookContainer = gd.closest('#notebook-container');\n",
              "if (notebookContainer) {{\n",
              "    x.observe(notebookContainer, {childList: true});\n",
              "}}\n",
              "\n",
              "// Listen for the clearing of the current output cell\n",
              "var outputEl = gd.closest('.output');\n",
              "if (outputEl) {{\n",
              "    x.observe(outputEl, {childList: true});\n",
              "}}\n",
              "\n",
              "                        })                };                            </script>        </div>\n",
              "</body>\n",
              "</html>"
            ]
          },
          "metadata": {}
        }
      ]
    },
    {
      "cell_type": "markdown",
      "source": [
        "#### Network Graph"
      ],
      "metadata": {
        "id": "imLoQa9S6sac"
      }
    },
    {
      "cell_type": "code",
      "source": [
        "import networkx as nx\n",
        "from pyvis.network import Network\n",
        "from IPython.display import IFrame, HTML, display\n",
        "\n",
        "df_with_other_pandas = df_with_other.toPandas()\n",
        "G = nx.from_pandas_edgelist(df_with_other_pandas, source='EnchaserName', target='PurchaserName', edge_attr='TotalAmount')\n",
        "\n",
        "net = Network(height='500px', width='100%', notebook=True, cdn_resources='remote', select_menu=True)\n",
        "\n",
        "for node in G.nodes():\n",
        "    if node in df_with_other_pandas['EnchaserName'].tolist():\n",
        "        net.add_node(node, color='blue')\n",
        "    elif node in df_with_other_pandas['PurchaserName'].tolist():\n",
        "        net.add_node(node, color='red')\n",
        "\n",
        "for source, target, data in G.edges(data=True):\n",
        "    net.add_edge(source, target, value=data['TotalAmount'], width=data['TotalAmount'])\n",
        "\n",
        "name = \"enchaser_purchaser_graph.html\"\n",
        "\n",
        "# net.show_buttons(filter_=['physics'])\n",
        "net.show(name)\n",
        "display(HTML(name))"
      ],
      "metadata": {
        "colab": {
          "base_uri": "https://localhost:8080/",
          "height": 626
        },
        "id": "qKjbat5JaMzV",
        "outputId": "35aa1f6b-9815-484c-cf39-f07d18a46521"
      },
      "execution_count": 319,
      "outputs": [
        {
          "output_type": "stream",
          "name": "stdout",
          "text": [
            "enchaser_purchaser_graph.html\n"
          ]
        },
        {
          "output_type": "display_data",
          "data": {
            "text/plain": [
              "<IPython.core.display.HTML object>"
            ],
            "text/html": [
              "<html>\n",
              "    <head>\n",
              "        <meta charset=\"utf-8\">\n",
              "        \n",
              "            <script>function neighbourhoodHighlight(params) {\n",
              "  // console.log(\"in nieghbourhoodhighlight\");\n",
              "  allNodes = nodes.get({ returnType: \"Object\" });\n",
              "  // originalNodes = JSON.parse(JSON.stringify(allNodes));\n",
              "  // if something is selected:\n",
              "  if (params.nodes.length > 0) {\n",
              "    highlightActive = true;\n",
              "    var i, j;\n",
              "    var selectedNode = params.nodes[0];\n",
              "    var degrees = 2;\n",
              "\n",
              "    // mark all nodes as hard to read.\n",
              "    for (let nodeId in allNodes) {\n",
              "      // nodeColors[nodeId] = allNodes[nodeId].color;\n",
              "      allNodes[nodeId].color = \"rgba(200,200,200,0.5)\";\n",
              "      if (allNodes[nodeId].hiddenLabel === undefined) {\n",
              "        allNodes[nodeId].hiddenLabel = allNodes[nodeId].label;\n",
              "        allNodes[nodeId].label = undefined;\n",
              "      }\n",
              "    }\n",
              "    var connectedNodes = network.getConnectedNodes(selectedNode);\n",
              "    var allConnectedNodes = [];\n",
              "\n",
              "    // get the second degree nodes\n",
              "    for (i = 1; i < degrees; i++) {\n",
              "      for (j = 0; j < connectedNodes.length; j++) {\n",
              "        allConnectedNodes = allConnectedNodes.concat(\n",
              "          network.getConnectedNodes(connectedNodes[j])\n",
              "        );\n",
              "      }\n",
              "    }\n",
              "\n",
              "    // all second degree nodes get a different color and their label back\n",
              "    for (i = 0; i < allConnectedNodes.length; i++) {\n",
              "      // allNodes[allConnectedNodes[i]].color = \"pink\";\n",
              "      allNodes[allConnectedNodes[i]].color = \"rgba(150,150,150,0.75)\";\n",
              "      if (allNodes[allConnectedNodes[i]].hiddenLabel !== undefined) {\n",
              "        allNodes[allConnectedNodes[i]].label =\n",
              "          allNodes[allConnectedNodes[i]].hiddenLabel;\n",
              "        allNodes[allConnectedNodes[i]].hiddenLabel = undefined;\n",
              "      }\n",
              "    }\n",
              "\n",
              "    // all first degree nodes get their own color and their label back\n",
              "    for (i = 0; i < connectedNodes.length; i++) {\n",
              "      // allNodes[connectedNodes[i]].color = undefined;\n",
              "      allNodes[connectedNodes[i]].color = nodeColors[connectedNodes[i]];\n",
              "      if (allNodes[connectedNodes[i]].hiddenLabel !== undefined) {\n",
              "        allNodes[connectedNodes[i]].label =\n",
              "          allNodes[connectedNodes[i]].hiddenLabel;\n",
              "        allNodes[connectedNodes[i]].hiddenLabel = undefined;\n",
              "      }\n",
              "    }\n",
              "\n",
              "    // the main node gets its own color and its label back.\n",
              "    // allNodes[selectedNode].color = undefined;\n",
              "    allNodes[selectedNode].color = nodeColors[selectedNode];\n",
              "    if (allNodes[selectedNode].hiddenLabel !== undefined) {\n",
              "      allNodes[selectedNode].label = allNodes[selectedNode].hiddenLabel;\n",
              "      allNodes[selectedNode].hiddenLabel = undefined;\n",
              "    }\n",
              "  } else if (highlightActive === true) {\n",
              "    // console.log(\"highlightActive was true\");\n",
              "    // reset all nodes\n",
              "    for (let nodeId in allNodes) {\n",
              "      // allNodes[nodeId].color = \"purple\";\n",
              "      allNodes[nodeId].color = nodeColors[nodeId];\n",
              "      // delete allNodes[nodeId].color;\n",
              "      if (allNodes[nodeId].hiddenLabel !== undefined) {\n",
              "        allNodes[nodeId].label = allNodes[nodeId].hiddenLabel;\n",
              "        allNodes[nodeId].hiddenLabel = undefined;\n",
              "      }\n",
              "    }\n",
              "    highlightActive = false;\n",
              "  }\n",
              "\n",
              "  // transform the object into an array\n",
              "  var updateArray = [];\n",
              "  if (params.nodes.length > 0) {\n",
              "    for (let nodeId in allNodes) {\n",
              "      if (allNodes.hasOwnProperty(nodeId)) {\n",
              "        // console.log(allNodes[nodeId]);\n",
              "        updateArray.push(allNodes[nodeId]);\n",
              "      }\n",
              "    }\n",
              "    nodes.update(updateArray);\n",
              "  } else {\n",
              "    // console.log(\"Nothing was selected\");\n",
              "    for (let nodeId in allNodes) {\n",
              "      if (allNodes.hasOwnProperty(nodeId)) {\n",
              "        // console.log(allNodes[nodeId]);\n",
              "        // allNodes[nodeId].color = {};\n",
              "        updateArray.push(allNodes[nodeId]);\n",
              "      }\n",
              "    }\n",
              "    nodes.update(updateArray);\n",
              "  }\n",
              "}\n",
              "\n",
              "function filterHighlight(params) {\n",
              "  allNodes = nodes.get({ returnType: \"Object\" });\n",
              "  // if something is selected:\n",
              "  if (params.nodes.length > 0) {\n",
              "    filterActive = true;\n",
              "    let selectedNodes = params.nodes;\n",
              "\n",
              "    // hiding all nodes and saving the label\n",
              "    for (let nodeId in allNodes) {\n",
              "      allNodes[nodeId].hidden = true;\n",
              "      if (allNodes[nodeId].savedLabel === undefined) {\n",
              "        allNodes[nodeId].savedLabel = allNodes[nodeId].label;\n",
              "        allNodes[nodeId].label = undefined;\n",
              "      }\n",
              "    }\n",
              "\n",
              "    for (let i=0; i < selectedNodes.length; i++) {\n",
              "      allNodes[selectedNodes[i]].hidden = false;\n",
              "      if (allNodes[selectedNodes[i]].savedLabel !== undefined) {\n",
              "        allNodes[selectedNodes[i]].label = allNodes[selectedNodes[i]].savedLabel;\n",
              "        allNodes[selectedNodes[i]].savedLabel = undefined;\n",
              "      }\n",
              "    }\n",
              "\n",
              "  } else if (filterActive === true) {\n",
              "    // reset all nodes\n",
              "    for (let nodeId in allNodes) {\n",
              "      allNodes[nodeId].hidden = false;\n",
              "      if (allNodes[nodeId].savedLabel !== undefined) {\n",
              "        allNodes[nodeId].label = allNodes[nodeId].savedLabel;\n",
              "        allNodes[nodeId].savedLabel = undefined;\n",
              "      }\n",
              "    }\n",
              "    filterActive = false;\n",
              "  }\n",
              "\n",
              "  // transform the object into an array\n",
              "  var updateArray = [];\n",
              "  if (params.nodes.length > 0) {\n",
              "    for (let nodeId in allNodes) {\n",
              "      if (allNodes.hasOwnProperty(nodeId)) {\n",
              "        updateArray.push(allNodes[nodeId]);\n",
              "      }\n",
              "    }\n",
              "    nodes.update(updateArray);\n",
              "  } else {\n",
              "    for (let nodeId in allNodes) {\n",
              "      if (allNodes.hasOwnProperty(nodeId)) {\n",
              "        updateArray.push(allNodes[nodeId]);\n",
              "      }\n",
              "    }\n",
              "    nodes.update(updateArray);\n",
              "  }\n",
              "}\n",
              "\n",
              "function selectNode(nodes) {\n",
              "  network.selectNodes(nodes);\n",
              "  neighbourhoodHighlight({ nodes: nodes });\n",
              "  return nodes;\n",
              "}\n",
              "\n",
              "function selectNodes(nodes) {\n",
              "  network.selectNodes(nodes);\n",
              "  filterHighlight({nodes: nodes});\n",
              "  return nodes;\n",
              "}\n",
              "\n",
              "function highlightFilter(filter) {\n",
              "  let selectedNodes = []\n",
              "  let selectedProp = filter['property']\n",
              "  if (filter['item'] === 'node') {\n",
              "    let allNodes = nodes.get({ returnType: \"Object\" });\n",
              "    for (let nodeId in allNodes) {\n",
              "      if (allNodes[nodeId][selectedProp] && filter['value'].includes((allNodes[nodeId][selectedProp]).toString())) {\n",
              "        selectedNodes.push(nodeId)\n",
              "      }\n",
              "    }\n",
              "  }\n",
              "  else if (filter['item'] === 'edge'){\n",
              "    let allEdges = edges.get({returnType: 'object'});\n",
              "    // check if the selected property exists for selected edge and select the nodes connected to the edge\n",
              "    for (let edge in allEdges) {\n",
              "      if (allEdges[edge][selectedProp] && filter['value'].includes((allEdges[edge][selectedProp]).toString())) {\n",
              "        selectedNodes.push(allEdges[edge]['from'])\n",
              "        selectedNodes.push(allEdges[edge]['to'])\n",
              "      }\n",
              "    }\n",
              "  }\n",
              "  selectNodes(selectedNodes)\n",
              "}</script>\n",
              "            <link rel=\"stylesheet\" href=\"https://cdnjs.cloudflare.com/ajax/libs/vis-network/9.1.2/dist/dist/vis-network.min.css\" integrity=\"sha512-WgxfT5LWjfszlPHXRmBWHkV2eceiWTOBvrKCNbdgDYTHrT2AeLCGbF4sZlZw3UMN3WtL0tGUoIAKsu8mllg/XA==\" crossorigin=\"anonymous\" referrerpolicy=\"no-referrer\" />\n",
              "            <script src=\"https://cdnjs.cloudflare.com/ajax/libs/vis-network/9.1.2/dist/vis-network.min.js\" integrity=\"sha512-LnvoEWDFrqGHlHmDD2101OrLcbsfkrzoSpvtSQtxK3RMnRV0eOkhhBN2dXHKRrUU8p2DGRTk35n4O8nWSVe1mQ==\" crossorigin=\"anonymous\" referrerpolicy=\"no-referrer\"></script>\n",
              "            \n",
              "            \n",
              "            \n",
              "            \n",
              "            \n",
              "            \n",
              "                <link rel=\"stylesheet\" href=\"https://cdnjs.cloudflare.com/ajax/libs/tom-select/2.0.0-rc.4/css/tom-select.min.css\" integrity=\"sha512-43fHB3GLgZfz8QXl1RPQ8O66oIgv3po9cJ5erMt1c4QISq9dYb195T3vr5ImnJPXuVroKcGBPXBFKETW8jrPNQ==\" crossorigin=\"anonymous\" referrerpolicy=\"no-referrer\" />\n",
              "                <script src=\"https://cdnjs.cloudflare.com/ajax/libs/tom-select/2.0.0-rc.4/js/tom-select.complete.js\" integrity=\"sha512-jeF9CfnvzDiw9G9xiksVjxR2lib44Gnovvkv+3CgCG6NXCD4gqlA5nDAVW5WjpA+i+/zKsUWV5xNEbW1X/HH0Q==\" crossorigin=\"anonymous\" referrerpolicy=\"no-referrer\"></script>\n",
              "            \n",
              "\n",
              "        \n",
              "<center>\n",
              "<h1></h1>\n",
              "</center>\n",
              "\n",
              "<!-- <link rel=\"stylesheet\" href=\"../node_modules/vis/dist/vis.min.css\" type=\"text/css\" />\n",
              "<script type=\"text/javascript\" src=\"../node_modules/vis/dist/vis.js\"> </script>-->\n",
              "        <link\n",
              "          href=\"https://cdn.jsdelivr.net/npm/bootstrap@5.0.0-beta3/dist/css/bootstrap.min.css\"\n",
              "          rel=\"stylesheet\"\n",
              "          integrity=\"sha384-eOJMYsd53ii+scO/bJGFsiCZc+5NDVN2yr8+0RDqr0Ql0h+rP48ckxlpbzKgwra6\"\n",
              "          crossorigin=\"anonymous\"\n",
              "        />\n",
              "        <script\n",
              "          src=\"https://cdn.jsdelivr.net/npm/bootstrap@5.0.0-beta3/dist/js/bootstrap.bundle.min.js\"\n",
              "          integrity=\"sha384-JEW9xMcG8R+pH31jmWH6WWP0WintQrMb4s7ZOdauHnUtxwoG2vI5DkLtS3qm9Ekf\"\n",
              "          crossorigin=\"anonymous\"\n",
              "        ></script>\n",
              "\n",
              "\n",
              "        <center>\n",
              "          <h1></h1>\n",
              "        </center>\n",
              "        <style type=\"text/css\">\n",
              "\n",
              "             #mynetwork {\n",
              "                 width: 100%;\n",
              "                 height: 500px;\n",
              "                 background-color: #ffffff;\n",
              "                 border: 1px solid lightgray;\n",
              "                 position: relative;\n",
              "                 float: left;\n",
              "             }\n",
              "\n",
              "             \n",
              "\n",
              "             \n",
              "\n",
              "             \n",
              "        </style>\n",
              "    </head>\n",
              "\n",
              "\n",
              "    <body>\n",
              "        <div class=\"card\" style=\"width: 100%\">\n",
              "            \n",
              "                <div id=\"select-menu\" class=\"card-header\">\n",
              "                    <div class=\"row no-gutters\">\n",
              "                        <div class=\"col-10 pb-2\">\n",
              "                            <select\n",
              "                            class=\"form-select\"\n",
              "                            aria-label=\"Default select example\"\n",
              "                            onchange=\"selectNode([value]);\"\n",
              "                            id=\"select-node\"\n",
              "                            placeholder=\"Select node...\"\n",
              "                            >\n",
              "                                <option selected>Select a Node by ID</option>\n",
              "                                \n",
              "                                    <option value=\"AAM AADMI PARTY\">AAM AADMI PARTY</option>\n",
              "                                \n",
              "                                    <option value=\"AVEES TRADING FINANCE PVT LTD\">AVEES TRADING FINANCE PVT LTD</option>\n",
              "                                \n",
              "                                    <option value=\"BAJAJ AUTO LTD\">BAJAJ AUTO LTD</option>\n",
              "                                \n",
              "                                    <option value=\"MKJ ENTERPRISES LIMITED\">MKJ ENTERPRISES LIMITED</option>\n",
              "                                \n",
              "                                    <option value=\"TRANSWAYS EXIM PRIVATE LIMITED\">TRANSWAYS EXIM PRIVATE LIMITED</option>\n",
              "                                \n",
              "                                    <option value=\"ASIAN TRADING CORPORATION LIMITED\">ASIAN TRADING CORPORATION LIMITED</option>\n",
              "                                \n",
              "                                    <option value=\"TORRENT  POWER  LIMITED\">TORRENT  POWER  LIMITED</option>\n",
              "                                \n",
              "                                    <option value=\"Other\">Other</option>\n",
              "                                \n",
              "                                    <option value=\"ADYAKSHA SAMAJVADI PARTY\">ADYAKSHA SAMAJVADI PARTY</option>\n",
              "                                \n",
              "                                    <option value=\"KEVENTER FOODPARK INFRA LIMITED\">KEVENTER FOODPARK INFRA LIMITED</option>\n",
              "                                \n",
              "                                    <option value=\"TORRENT PHARMACEUTICALS LTD\">TORRENT PHARMACEUTICALS LTD</option>\n",
              "                                \n",
              "                                    <option value=\"M S JUGENDRA SINGH AND COMPANY\">M S JUGENDRA SINGH AND COMPANY</option>\n",
              "                                \n",
              "                                    <option value=\"ALL INDIA TRINAMOOL CONGRESS\">ALL INDIA TRINAMOOL CONGRESS</option>\n",
              "                                \n",
              "                                    <option value=\"FUTURE GAMING AND HOTEL SERVICES PR\">FUTURE GAMING AND HOTEL SERVICES PR</option>\n",
              "                                \n",
              "                                    <option value=\"HALDIA ENERGY LIMITED\">HALDIA ENERGY LIMITED</option>\n",
              "                                \n",
              "                                    <option value=\"DHARIWAL INFRASTRUCTURE LIMITED\">DHARIWAL INFRASTRUCTURE LIMITED</option>\n",
              "                                \n",
              "                                    <option value=\"FUTURE GAMING AND HOTEL SERVICES PVT LTD\">FUTURE GAMING AND HOTEL SERVICES PVT LTD</option>\n",
              "                                \n",
              "                                    <option value=\"FUTURE GAMING AND HOTEL SERVICES PRIVATE LIMITED\">FUTURE GAMING AND HOTEL SERVICES PRIVATE LIMITED</option>\n",
              "                                \n",
              "                                    <option value=\"BHARAT RASHTRA SAMITHI\">BHARAT RASHTRA SAMITHI</option>\n",
              "                                \n",
              "                                    <option value=\"MEGHA ENGINEERING AND INFRASTRUCTURES LI MITED\">MEGHA ENGINEERING AND INFRASTRUCTURES LI MITED</option>\n",
              "                                \n",
              "                                    <option value=\"YASHODA SUPER SPECIALITY HOSPITAL\">YASHODA SUPER SPECIALITY HOSPITAL</option>\n",
              "                                \n",
              "                                    <option value=\"CHENNAI GREEN WOODS PRIVATE LIMITED\">CHENNAI GREEN WOODS PRIVATE LIMITED</option>\n",
              "                                \n",
              "                                    <option value=\"MEGHA ENGINEERING & INFRASTRUCTURES LIMITED\">MEGHA ENGINEERING & INFRASTRUCTURES LIMITED</option>\n",
              "                                \n",
              "                                    <option value=\"DR.REDDY'S LABORATORIES LTD\">DR.REDDY'S LABORATORIES LTD</option>\n",
              "                                \n",
              "                                    <option value=\"BHARATIYA JANATA PARTY\">BHARATIYA JANATA PARTY</option>\n",
              "                                \n",
              "                                    <option value=\"QWIKSUPPLYCHAINPRIVATELIMITED\">QWIKSUPPLYCHAINPRIVATELIMITED</option>\n",
              "                                \n",
              "                                    <option value=\"VEDANTA LIMITED\">VEDANTA LIMITED</option>\n",
              "                                \n",
              "                                    <option value=\"BHARTI AIRTEL LIMITED\">BHARTI AIRTEL LIMITED</option>\n",
              "                                \n",
              "                                    <option value=\"MADANLAL LTD.\">MADANLAL LTD.</option>\n",
              "                                \n",
              "                                    <option value=\"BIHAR PRADESH JANTA DAL(UNITED)\">BIHAR PRADESH JANTA DAL(UNITED)</option>\n",
              "                                \n",
              "                                    <option value=\"MEGHA ENGINEERING AND INFRASTRUCTURES LTD\">MEGHA ENGINEERING AND INFRASTRUCTURES LTD</option>\n",
              "                                \n",
              "                                    <option value=\"BHARTI INFRATEL LIMITED\">BHARTI INFRATEL LIMITED</option>\n",
              "                                \n",
              "                                    <option value=\"SHREE CEMENT LTD\">SHREE CEMENT LTD</option>\n",
              "                                \n",
              "                                    <option value=\"BIJU JANATA DAL\">BIJU JANATA DAL</option>\n",
              "                                \n",
              "                                    <option value=\"ESSEL MINING AND INDS LTD\">ESSEL MINING AND INDS LTD</option>\n",
              "                                \n",
              "                                    <option value=\"JINDAL STEEL AND POWER LIMITED\">JINDAL STEEL AND POWER LIMITED</option>\n",
              "                                \n",
              "                                    <option value=\"UTKAL ALUMINA INTERNATIONAL LIMITED\">UTKAL ALUMINA INTERNATIONAL LIMITED</option>\n",
              "                                \n",
              "                                    <option value=\"RUNGTA SONS P LTD\">RUNGTA SONS P LTD</option>\n",
              "                                \n",
              "                                    <option value=\"MS S N MOHANTY\">MS S N MOHANTY</option>\n",
              "                                \n",
              "                                    <option value=\"RASHMI CEMENT LTD\">RASHMI CEMENT LTD</option>\n",
              "                                \n",
              "                                    <option value=\"DRAVIDA MUNNETRA KAZHAGAM (DMK)\">DRAVIDA MUNNETRA KAZHAGAM (DMK)</option>\n",
              "                                \n",
              "                                    <option value=\"WESTWELL GASES PRIVATE LIMITED\">WESTWELL GASES PRIVATE LIMITED</option>\n",
              "                                \n",
              "                                    <option value=\"GOA FORWARD PARTY\">GOA FORWARD PARTY</option>\n",
              "                                \n",
              "                                    <option value=\"GOA CARBON LTD\">GOA CARBON LTD</option>\n",
              "                                \n",
              "                                    <option value=\"V M SALGAOCAR CORPORATION PVT LTD\">V M SALGAOCAR CORPORATION PVT LTD</option>\n",
              "                                \n",
              "                                    <option value=\"JAMMU AND KASHMIR NATIONAL CONFERENCE\">JAMMU AND KASHMIR NATIONAL CONFERENCE</option>\n",
              "                                \n",
              "                                    <option value=\"BHARTI AIRTEL LIMITEDAIRTEL CURRE NT AC-GCO\">BHARTI AIRTEL LIMITEDAIRTEL CURRE NT AC-GCO</option>\n",
              "                                \n",
              "                                    <option value=\"JANASENA PARTY\">JANASENA PARTY</option>\n",
              "                                \n",
              "                                    <option value=\"WESTERN UP POWER TRANSMISSION COMPANY LI MITED\">WESTERN UP POWER TRANSMISSION COMPANY LI MITED</option>\n",
              "                                \n",
              "                                    <option value=\"NATCO PHARMA LTD\">NATCO PHARMA LTD</option>\n",
              "                                \n",
              "                                    <option value=\"SRI CHAITANYA STUDENTS FACILITY MANAGEME\">SRI CHAITANYA STUDENTS FACILITY MANAGEME</option>\n",
              "                                \n",
              "                                    <option value=\"VALLURUPALLI PRABHU KISHORE\">VALLURUPALLI PRABHU KISHORE</option>\n",
              "                                \n",
              "                                    <option value=\"JANATA DAL ( SECULAR )\">JANATA DAL ( SECULAR )</option>\n",
              "                                \n",
              "                                    <option value=\"NARA CONSTRUCTIONS\">NARA CONSTRUCTIONS</option>\n",
              "                                \n",
              "                                    <option value=\"RITHWIK PROJECTS  PRIVATE LIMITED\">RITHWIK PROJECTS  PRIVATE LIMITED</option>\n",
              "                                \n",
              "                                    <option value=\"ILABS HYD TECHNOLOGY CENTRE PVT LTD\">ILABS HYD TECHNOLOGY CENTRE PVT LTD</option>\n",
              "                                \n",
              "                                    <option value=\"KCR ENTERPRISE LLP\">KCR ENTERPRISE LLP</option>\n",
              "                                \n",
              "                                    <option value=\"JHARKHAND MUKTI MORCHA\">JHARKHAND MUKTI MORCHA</option>\n",
              "                                \n",
              "                                    <option value=\"THRIVENI SAINIK MINING PRIVATE LIMI\">THRIVENI SAINIK MINING PRIVATE LIMI</option>\n",
              "                                \n",
              "                                    <option value=\"PUJA COAL PRIVATE LIMITED\">PUJA COAL PRIVATE LIMITED</option>\n",
              "                                \n",
              "                                    <option value=\"SHREE CHAND SARAOGI\">SHREE CHAND SARAOGI</option>\n",
              "                                \n",
              "                                    <option value=\"MAHARASHTRAWADI GOMNTAK PARTY\">MAHARASHTRAWADI GOMNTAK PARTY</option>\n",
              "                                \n",
              "                                    <option value=\"SHRINIVAS VASUDEVA DEMPO\">SHRINIVAS VASUDEVA DEMPO</option>\n",
              "                                \n",
              "                                    <option value=\"NATIONALIST CONGRESS PARTY MAHARASHTRA PRADESH\">NATIONALIST CONGRESS PARTY MAHARASHTRA PRADESH</option>\n",
              "                                \n",
              "                                    <option value=\"RAHUL BHATIA\">RAHUL BHATIA</option>\n",
              "                                \n",
              "                                    <option value=\"MAGARPATTA TOWNSHIP DEV AND CONST C\">MAGARPATTA TOWNSHIP DEV AND CONST C</option>\n",
              "                                \n",
              "                                    <option value=\"MAHALAXMI VIDYUT PVT.LTD.\">MAHALAXMI VIDYUT PVT.LTD.</option>\n",
              "                                \n",
              "                                    <option value=\"PRESIDENT, ALL INDIA CONGRESS COMMITTEE\">PRESIDENT, ALL INDIA CONGRESS COMMITTEE</option>\n",
              "                                \n",
              "                                    <option value=\"RASHTRIYA JANTA DAL\">RASHTRIYA JANTA DAL</option>\n",
              "                                \n",
              "                                    <option value=\"IFB AGRO INDUSTRIES LIMITED\">IFB AGRO INDUSTRIES LIMITED</option>\n",
              "                                \n",
              "                                    <option value=\"ASKUS LOGISTICS PRIVATE LIMITED\">ASKUS LOGISTICS PRIVATE LIMITED</option>\n",
              "                                \n",
              "                                    <option value=\"RAUNAK GUPTA\">RAUNAK GUPTA</option>\n",
              "                                \n",
              "                                    <option value=\"PURULIA BOTTLING PVT LTD\">PURULIA BOTTLING PVT LTD</option>\n",
              "                                \n",
              "                                    <option value=\"SHIROMANI AKALI DAL\">SHIROMANI AKALI DAL</option>\n",
              "                                \n",
              "                                    <option value=\"FASTWAY TRANSMISSIONS PVT LTD\">FASTWAY TRANSMISSIONS PVT LTD</option>\n",
              "                                \n",
              "                                    <option value=\"VARDHMAN TEXTILES LTD\">VARDHMAN TEXTILES LTD</option>\n",
              "                                \n",
              "                                    <option value=\"SANDEEP KHANNA AND ASSOCIATES\">SANDEEP KHANNA AND ASSOCIATES</option>\n",
              "                                \n",
              "                                    <option value=\"SHIVSENA\">SHIVSENA</option>\n",
              "                                \n",
              "                                    <option value=\"B G SHIRKE CONSTRUCTION TECHNOLOGY PVT L TD\">B G SHIRKE CONSTRUCTION TECHNOLOGY PVT L TD</option>\n",
              "                                \n",
              "                                    <option value=\"PRL DEVELOPERS PRIVATE LIMITED\">PRL DEVELOPERS PRIVATE LIMITED</option>\n",
              "                                \n",
              "                                    <option value=\"DINESHCHANDRA R AGRAWAL INFRACON PVT LTD\">DINESHCHANDRA R AGRAWAL INFRACON PVT LTD</option>\n",
              "                                \n",
              "                                    <option value=\"GENEXT HARDWARE   PARKS PVT. LTD\">GENEXT HARDWARE   PARKS PVT. LTD</option>\n",
              "                                \n",
              "                                    <option value=\"ULTRA TECH CEMENT LIMITED\">ULTRA TECH CEMENT LIMITED</option>\n",
              "                                \n",
              "                                    <option value=\"YUVAN TRADING   CONSULTANCY LLP\">YUVAN TRADING   CONSULTANCY LLP</option>\n",
              "                                \n",
              "                                    <option value=\"SIKKIM DEMOCRATIC FRONT\">SIKKIM DEMOCRATIC FRONT</option>\n",
              "                                \n",
              "                                    <option value=\"SIKKIM KRANTIKARI MORCHA\">SIKKIM KRANTIKARI MORCHA</option>\n",
              "                                \n",
              "                                    <option value=\"ZYDUS HEALTHCARE LIMITED\">ZYDUS HEALTHCARE LIMITED</option>\n",
              "                                \n",
              "                                    <option value=\"MICRO LABS LIMITED\">MICRO LABS LIMITED</option>\n",
              "                                \n",
              "                                    <option value=\"IPCA LABORATORIES LIMITED\">IPCA LABORATORIES LIMITED</option>\n",
              "                                \n",
              "                                    <option value=\"TELUGU DESAM PARTY\">TELUGU DESAM PARTY</option>\n",
              "                                \n",
              "                                    <option value=\"SHIRDI SAI ELECTRICALS LTD\">SHIRDI SAI ELECTRICALS LTD</option>\n",
              "                                \n",
              "                                    <option value=\"BHARAT BIOTECH INTERNATIONAL LIMITED\">BHARAT BIOTECH INTERNATIONAL LIMITED</option>\n",
              "                                \n",
              "                                    <option value=\"YSR  CONGRESS PARTY  (YUVAJANA SRAMIKA RYTHU CONGRESS PARTY)\">YSR  CONGRESS PARTY  (YUVAJANA SRAMIKA RYTHU CONGRESS PARTY)</option>\n",
              "                                \n",
              "                                    <option value=\"THE RAMCO CEMENTS LIMITED\">THE RAMCO CEMENTS LIMITED</option>\n",
              "                                \n",
              "                                    <option value=\"OSTRO JAISALMER PRIVATE LIMITED\">OSTRO JAISALMER PRIVATE LIMITED</option>\n",
              "                                \n",
              "                                    <option value=\"OSTRO MADHYA WIND PRIVATE LIMITED\">OSTRO MADHYA WIND PRIVATE LIMITED</option>\n",
              "                                \n",
              "                            </select>\n",
              "                        </div>\n",
              "                        <div class=\"col-2 pb-2\">\n",
              "                            <button type=\"button\" class=\"btn btn-primary btn-block\" onclick=\"neighbourhoodHighlight({nodes: []});\">Reset Selection</button>\n",
              "                        </div>\n",
              "                    </div>\n",
              "                </div>\n",
              "            \n",
              "            \n",
              "            <div id=\"mynetwork\" class=\"card-body\"></div>\n",
              "        </div>\n",
              "\n",
              "        \n",
              "        \n",
              "\n",
              "        <script type=\"text/javascript\">\n",
              "\n",
              "              // initialize global variables.\n",
              "              var edges;\n",
              "              var nodes;\n",
              "              var allNodes;\n",
              "              var allEdges;\n",
              "              var nodeColors;\n",
              "              var originalNodes;\n",
              "              var network;\n",
              "              var container;\n",
              "              var options, data;\n",
              "              var filter = {\n",
              "                  item : '',\n",
              "                  property : '',\n",
              "                  value : []\n",
              "              };\n",
              "\n",
              "              \n",
              "                  new TomSelect(\"#select-node\",{\n",
              "                      create: false,\n",
              "                      sortField: {\n",
              "                          field: \"text\",\n",
              "                          direction: \"asc\"\n",
              "                      }\n",
              "                  });\n",
              "              \n",
              "\n",
              "              \n",
              "\n",
              "              // This method is responsible for drawing the graph, returns the drawn network\n",
              "              function drawGraph() {\n",
              "                  var container = document.getElementById('mynetwork');\n",
              "\n",
              "                  \n",
              "\n",
              "                  // parsing and collecting nodes and edges from the python\n",
              "                  nodes = new vis.DataSet([{\"color\": \"blue\", \"id\": \"AAM AADMI PARTY\", \"label\": \"AAM AADMI PARTY\", \"shape\": \"dot\"}, {\"color\": \"red\", \"id\": \"AVEES TRADING FINANCE PVT LTD\", \"label\": \"AVEES TRADING FINANCE PVT LTD\", \"shape\": \"dot\"}, {\"color\": \"red\", \"id\": \"BAJAJ AUTO LTD\", \"label\": \"BAJAJ AUTO LTD\", \"shape\": \"dot\"}, {\"color\": \"red\", \"id\": \"MKJ ENTERPRISES LIMITED\", \"label\": \"MKJ ENTERPRISES LIMITED\", \"shape\": \"dot\"}, {\"color\": \"red\", \"id\": \"TRANSWAYS EXIM PRIVATE LIMITED\", \"label\": \"TRANSWAYS EXIM PRIVATE LIMITED\", \"shape\": \"dot\"}, {\"color\": \"red\", \"id\": \"ASIAN TRADING CORPORATION LIMITED\", \"label\": \"ASIAN TRADING CORPORATION LIMITED\", \"shape\": \"dot\"}, {\"color\": \"red\", \"id\": \"TORRENT  POWER  LIMITED\", \"label\": \"TORRENT  POWER  LIMITED\", \"shape\": \"dot\"}, {\"color\": \"red\", \"id\": \"Other\", \"label\": \"Other\", \"shape\": \"dot\"}, {\"color\": \"blue\", \"id\": \"ADYAKSHA SAMAJVADI PARTY\", \"label\": \"ADYAKSHA SAMAJVADI PARTY\", \"shape\": \"dot\"}, {\"color\": \"red\", \"id\": \"KEVENTER FOODPARK INFRA LIMITED\", \"label\": \"KEVENTER FOODPARK INFRA LIMITED\", \"shape\": \"dot\"}, {\"color\": \"red\", \"id\": \"TORRENT PHARMACEUTICALS LTD\", \"label\": \"TORRENT PHARMACEUTICALS LTD\", \"shape\": \"dot\"}, {\"color\": \"red\", \"id\": \"M S JUGENDRA SINGH AND COMPANY\", \"label\": \"M S JUGENDRA SINGH AND COMPANY\", \"shape\": \"dot\"}, {\"color\": \"blue\", \"id\": \"ALL INDIA TRINAMOOL CONGRESS\", \"label\": \"ALL INDIA TRINAMOOL CONGRESS\", \"shape\": \"dot\"}, {\"color\": \"red\", \"id\": \"FUTURE GAMING AND HOTEL SERVICES PR\", \"label\": \"FUTURE GAMING AND HOTEL SERVICES PR\", \"shape\": \"dot\"}, {\"color\": \"red\", \"id\": \"HALDIA ENERGY LIMITED\", \"label\": \"HALDIA ENERGY LIMITED\", \"shape\": \"dot\"}, {\"color\": \"red\", \"id\": \"DHARIWAL INFRASTRUCTURE LIMITED\", \"label\": \"DHARIWAL INFRASTRUCTURE LIMITED\", \"shape\": \"dot\"}, {\"color\": \"red\", \"id\": \"FUTURE GAMING AND HOTEL SERVICES PVT LTD\", \"label\": \"FUTURE GAMING AND HOTEL SERVICES PVT LTD\", \"shape\": \"dot\"}, {\"color\": \"red\", \"id\": \"FUTURE GAMING AND HOTEL SERVICES PRIVATE LIMITED\", \"label\": \"FUTURE GAMING AND HOTEL SERVICES PRIVATE LIMITED\", \"shape\": \"dot\"}, {\"color\": \"blue\", \"id\": \"BHARAT RASHTRA SAMITHI\", \"label\": \"BHARAT RASHTRA SAMITHI\", \"shape\": \"dot\"}, {\"color\": \"red\", \"id\": \"MEGHA ENGINEERING AND INFRASTRUCTURES LI MITED\", \"label\": \"MEGHA ENGINEERING AND INFRASTRUCTURES LI MITED\", \"shape\": \"dot\"}, {\"color\": \"red\", \"id\": \"YASHODA SUPER SPECIALITY HOSPITAL\", \"label\": \"YASHODA SUPER SPECIALITY HOSPITAL\", \"shape\": \"dot\"}, {\"color\": \"red\", \"id\": \"CHENNAI GREEN WOODS PRIVATE LIMITED\", \"label\": \"CHENNAI GREEN WOODS PRIVATE LIMITED\", \"shape\": \"dot\"}, {\"color\": \"red\", \"id\": \"MEGHA ENGINEERING \\u0026 INFRASTRUCTURES LIMITED\", \"label\": \"MEGHA ENGINEERING \\u0026 INFRASTRUCTURES LIMITED\", \"shape\": \"dot\"}, {\"color\": \"red\", \"id\": \"DR.REDDY\\u0027S LABORATORIES LTD\", \"label\": \"DR.REDDY\\u0027S LABORATORIES LTD\", \"shape\": \"dot\"}, {\"color\": \"blue\", \"id\": \"BHARATIYA JANATA PARTY\", \"label\": \"BHARATIYA JANATA PARTY\", \"shape\": \"dot\"}, {\"color\": \"red\", \"id\": \"QWIKSUPPLYCHAINPRIVATELIMITED\", \"label\": \"QWIKSUPPLYCHAINPRIVATELIMITED\", \"shape\": \"dot\"}, {\"color\": \"red\", \"id\": \"VEDANTA LIMITED\", \"label\": \"VEDANTA LIMITED\", \"shape\": \"dot\"}, {\"color\": \"red\", \"id\": \"BHARTI AIRTEL LIMITED\", \"label\": \"BHARTI AIRTEL LIMITED\", \"shape\": \"dot\"}, {\"color\": \"red\", \"id\": \"MADANLAL LTD.\", \"label\": \"MADANLAL LTD.\", \"shape\": \"dot\"}, {\"color\": \"blue\", \"id\": \"BIHAR PRADESH JANTA DAL(UNITED)\", \"label\": \"BIHAR PRADESH JANTA DAL(UNITED)\", \"shape\": \"dot\"}, {\"color\": \"red\", \"id\": \"MEGHA ENGINEERING AND INFRASTRUCTURES LTD\", \"label\": \"MEGHA ENGINEERING AND INFRASTRUCTURES LTD\", \"shape\": \"dot\"}, {\"color\": \"red\", \"id\": \"BHARTI INFRATEL LIMITED\", \"label\": \"BHARTI INFRATEL LIMITED\", \"shape\": \"dot\"}, {\"color\": \"red\", \"id\": \"SHREE CEMENT LTD\", \"label\": \"SHREE CEMENT LTD\", \"shape\": \"dot\"}, {\"color\": \"blue\", \"id\": \"BIJU JANATA DAL\", \"label\": \"BIJU JANATA DAL\", \"shape\": \"dot\"}, {\"color\": \"red\", \"id\": \"ESSEL MINING AND INDS LTD\", \"label\": \"ESSEL MINING AND INDS LTD\", \"shape\": \"dot\"}, {\"color\": \"red\", \"id\": \"JINDAL STEEL AND POWER LIMITED\", \"label\": \"JINDAL STEEL AND POWER LIMITED\", \"shape\": \"dot\"}, {\"color\": \"red\", \"id\": \"UTKAL ALUMINA INTERNATIONAL LIMITED\", \"label\": \"UTKAL ALUMINA INTERNATIONAL LIMITED\", \"shape\": \"dot\"}, {\"color\": \"red\", \"id\": \"RUNGTA SONS P LTD\", \"label\": \"RUNGTA SONS P LTD\", \"shape\": \"dot\"}, {\"color\": \"red\", \"id\": \"MS S N MOHANTY\", \"label\": \"MS S N MOHANTY\", \"shape\": \"dot\"}, {\"color\": \"red\", \"id\": \"RASHMI CEMENT LTD\", \"label\": \"RASHMI CEMENT LTD\", \"shape\": \"dot\"}, {\"color\": \"blue\", \"id\": \"DRAVIDA MUNNETRA KAZHAGAM (DMK)\", \"label\": \"DRAVIDA MUNNETRA KAZHAGAM (DMK)\", \"shape\": \"dot\"}, {\"color\": \"red\", \"id\": \"WESTWELL GASES PRIVATE LIMITED\", \"label\": \"WESTWELL GASES PRIVATE LIMITED\", \"shape\": \"dot\"}, {\"color\": \"blue\", \"id\": \"GOA FORWARD PARTY\", \"label\": \"GOA FORWARD PARTY\", \"shape\": \"dot\"}, {\"color\": \"red\", \"id\": \"GOA CARBON LTD\", \"label\": \"GOA CARBON LTD\", \"shape\": \"dot\"}, {\"color\": \"red\", \"id\": \"V M SALGAOCAR CORPORATION PVT LTD\", \"label\": \"V M SALGAOCAR CORPORATION PVT LTD\", \"shape\": \"dot\"}, {\"color\": \"blue\", \"id\": \"JAMMU AND KASHMIR NATIONAL CONFERENCE\", \"label\": \"JAMMU AND KASHMIR NATIONAL CONFERENCE\", \"shape\": \"dot\"}, {\"color\": \"red\", \"id\": \"BHARTI AIRTEL LIMITEDAIRTEL CURRE NT AC-GCO\", \"label\": \"BHARTI AIRTEL LIMITEDAIRTEL CURRE NT AC-GCO\", \"shape\": \"dot\"}, {\"color\": \"blue\", \"id\": \"JANASENA PARTY\", \"label\": \"JANASENA PARTY\", \"shape\": \"dot\"}, {\"color\": \"red\", \"id\": \"WESTERN UP POWER TRANSMISSION COMPANY LI MITED\", \"label\": \"WESTERN UP POWER TRANSMISSION COMPANY LI MITED\", \"shape\": \"dot\"}, {\"color\": \"red\", \"id\": \"NATCO PHARMA LTD\", \"label\": \"NATCO PHARMA LTD\", \"shape\": \"dot\"}, {\"color\": \"red\", \"id\": \"SRI CHAITANYA STUDENTS FACILITY MANAGEME\", \"label\": \"SRI CHAITANYA STUDENTS FACILITY MANAGEME\", \"shape\": \"dot\"}, {\"color\": \"red\", \"id\": \"VALLURUPALLI PRABHU KISHORE\", \"label\": \"VALLURUPALLI PRABHU KISHORE\", \"shape\": \"dot\"}, {\"color\": \"blue\", \"id\": \"JANATA DAL ( SECULAR )\", \"label\": \"JANATA DAL ( SECULAR )\", \"shape\": \"dot\"}, {\"color\": \"red\", \"id\": \"NARA CONSTRUCTIONS\", \"label\": \"NARA CONSTRUCTIONS\", \"shape\": \"dot\"}, {\"color\": \"red\", \"id\": \"RITHWIK PROJECTS  PRIVATE LIMITED\", \"label\": \"RITHWIK PROJECTS  PRIVATE LIMITED\", \"shape\": \"dot\"}, {\"color\": \"red\", \"id\": \"ILABS HYD TECHNOLOGY CENTRE PVT LTD\", \"label\": \"ILABS HYD TECHNOLOGY CENTRE PVT LTD\", \"shape\": \"dot\"}, {\"color\": \"red\", \"id\": \"KCR ENTERPRISE LLP\", \"label\": \"KCR ENTERPRISE LLP\", \"shape\": \"dot\"}, {\"color\": \"blue\", \"id\": \"JHARKHAND MUKTI MORCHA\", \"label\": \"JHARKHAND MUKTI MORCHA\", \"shape\": \"dot\"}, {\"color\": \"red\", \"id\": \"THRIVENI SAINIK MINING PRIVATE LIMI\", \"label\": \"THRIVENI SAINIK MINING PRIVATE LIMI\", \"shape\": \"dot\"}, {\"color\": \"red\", \"id\": \"PUJA COAL PRIVATE LIMITED\", \"label\": \"PUJA COAL PRIVATE LIMITED\", \"shape\": \"dot\"}, {\"color\": \"red\", \"id\": \"SHREE CHAND SARAOGI\", \"label\": \"SHREE CHAND SARAOGI\", \"shape\": \"dot\"}, {\"color\": \"blue\", \"id\": \"MAHARASHTRAWADI GOMNTAK PARTY\", \"label\": \"MAHARASHTRAWADI GOMNTAK PARTY\", \"shape\": \"dot\"}, {\"color\": \"red\", \"id\": \"SHRINIVAS VASUDEVA DEMPO\", \"label\": \"SHRINIVAS VASUDEVA DEMPO\", \"shape\": \"dot\"}, {\"color\": \"blue\", \"id\": \"NATIONALIST CONGRESS PARTY MAHARASHTRA PRADESH\", \"label\": \"NATIONALIST CONGRESS PARTY MAHARASHTRA PRADESH\", \"shape\": \"dot\"}, {\"color\": \"red\", \"id\": \"RAHUL BHATIA\", \"label\": \"RAHUL BHATIA\", \"shape\": \"dot\"}, {\"color\": \"red\", \"id\": \"MAGARPATTA TOWNSHIP DEV AND CONST C\", \"label\": \"MAGARPATTA TOWNSHIP DEV AND CONST C\", \"shape\": \"dot\"}, {\"color\": \"red\", \"id\": \"MAHALAXMI VIDYUT PVT.LTD.\", \"label\": \"MAHALAXMI VIDYUT PVT.LTD.\", \"shape\": \"dot\"}, {\"color\": \"blue\", \"id\": \"PRESIDENT, ALL INDIA CONGRESS COMMITTEE\", \"label\": \"PRESIDENT, ALL INDIA CONGRESS COMMITTEE\", \"shape\": \"dot\"}, {\"color\": \"blue\", \"id\": \"RASHTRIYA JANTA DAL\", \"label\": \"RASHTRIYA JANTA DAL\", \"shape\": \"dot\"}, {\"color\": \"red\", \"id\": \"IFB AGRO INDUSTRIES LIMITED\", \"label\": \"IFB AGRO INDUSTRIES LIMITED\", \"shape\": \"dot\"}, {\"color\": \"red\", \"id\": \"ASKUS LOGISTICS PRIVATE LIMITED\", \"label\": \"ASKUS LOGISTICS PRIVATE LIMITED\", \"shape\": \"dot\"}, {\"color\": \"red\", \"id\": \"RAUNAK GUPTA\", \"label\": \"RAUNAK GUPTA\", \"shape\": \"dot\"}, {\"color\": \"red\", \"id\": \"PURULIA BOTTLING PVT LTD\", \"label\": \"PURULIA BOTTLING PVT LTD\", \"shape\": \"dot\"}, {\"color\": \"blue\", \"id\": \"SHIROMANI AKALI DAL\", \"label\": \"SHIROMANI AKALI DAL\", \"shape\": \"dot\"}, {\"color\": \"red\", \"id\": \"FASTWAY TRANSMISSIONS PVT LTD\", \"label\": \"FASTWAY TRANSMISSIONS PVT LTD\", \"shape\": \"dot\"}, {\"color\": \"red\", \"id\": \"VARDHMAN TEXTILES LTD\", \"label\": \"VARDHMAN TEXTILES LTD\", \"shape\": \"dot\"}, {\"color\": \"red\", \"id\": \"SANDEEP KHANNA AND ASSOCIATES\", \"label\": \"SANDEEP KHANNA AND ASSOCIATES\", \"shape\": \"dot\"}, {\"color\": \"blue\", \"id\": \"SHIVSENA\", \"label\": \"SHIVSENA\", \"shape\": \"dot\"}, {\"color\": \"red\", \"id\": \"B G SHIRKE CONSTRUCTION TECHNOLOGY PVT L TD\", \"label\": \"B G SHIRKE CONSTRUCTION TECHNOLOGY PVT L TD\", \"shape\": \"dot\"}, {\"color\": \"red\", \"id\": \"PRL DEVELOPERS PRIVATE LIMITED\", \"label\": \"PRL DEVELOPERS PRIVATE LIMITED\", \"shape\": \"dot\"}, {\"color\": \"red\", \"id\": \"DINESHCHANDRA R AGRAWAL INFRACON PVT LTD\", \"label\": \"DINESHCHANDRA R AGRAWAL INFRACON PVT LTD\", \"shape\": \"dot\"}, {\"color\": \"red\", \"id\": \"GENEXT HARDWARE   PARKS PVT. LTD\", \"label\": \"GENEXT HARDWARE   PARKS PVT. LTD\", \"shape\": \"dot\"}, {\"color\": \"red\", \"id\": \"ULTRA TECH CEMENT LIMITED\", \"label\": \"ULTRA TECH CEMENT LIMITED\", \"shape\": \"dot\"}, {\"color\": \"red\", \"id\": \"YUVAN TRADING   CONSULTANCY LLP\", \"label\": \"YUVAN TRADING   CONSULTANCY LLP\", \"shape\": \"dot\"}, {\"color\": \"blue\", \"id\": \"SIKKIM DEMOCRATIC FRONT\", \"label\": \"SIKKIM DEMOCRATIC FRONT\", \"shape\": \"dot\"}, {\"color\": \"blue\", \"id\": \"SIKKIM KRANTIKARI MORCHA\", \"label\": \"SIKKIM KRANTIKARI MORCHA\", \"shape\": \"dot\"}, {\"color\": \"red\", \"id\": \"ZYDUS HEALTHCARE LIMITED\", \"label\": \"ZYDUS HEALTHCARE LIMITED\", \"shape\": \"dot\"}, {\"color\": \"red\", \"id\": \"MICRO LABS LIMITED\", \"label\": \"MICRO LABS LIMITED\", \"shape\": \"dot\"}, {\"color\": \"red\", \"id\": \"IPCA LABORATORIES LIMITED\", \"label\": \"IPCA LABORATORIES LIMITED\", \"shape\": \"dot\"}, {\"color\": \"blue\", \"id\": \"TELUGU DESAM PARTY\", \"label\": \"TELUGU DESAM PARTY\", \"shape\": \"dot\"}, {\"color\": \"red\", \"id\": \"SHIRDI SAI ELECTRICALS LTD\", \"label\": \"SHIRDI SAI ELECTRICALS LTD\", \"shape\": \"dot\"}, {\"color\": \"red\", \"id\": \"BHARAT BIOTECH INTERNATIONAL LIMITED\", \"label\": \"BHARAT BIOTECH INTERNATIONAL LIMITED\", \"shape\": \"dot\"}, {\"color\": \"blue\", \"id\": \"YSR  CONGRESS PARTY  (YUVAJANA SRAMIKA RYTHU CONGRESS PARTY)\", \"label\": \"YSR  CONGRESS PARTY  (YUVAJANA SRAMIKA RYTHU CONGRESS PARTY)\", \"shape\": \"dot\"}, {\"color\": \"red\", \"id\": \"THE RAMCO CEMENTS LIMITED\", \"label\": \"THE RAMCO CEMENTS LIMITED\", \"shape\": \"dot\"}, {\"color\": \"red\", \"id\": \"OSTRO JAISALMER PRIVATE LIMITED\", \"label\": \"OSTRO JAISALMER PRIVATE LIMITED\", \"shape\": \"dot\"}, {\"color\": \"red\", \"id\": \"OSTRO MADHYA WIND PRIVATE LIMITED\", \"label\": \"OSTRO MADHYA WIND PRIVATE LIMITED\", \"shape\": \"dot\"}]);\n",
              "                  edges = new vis.DataSet([{\"from\": \"AAM AADMI PARTY\", \"to\": \"AVEES TRADING FINANCE PVT LTD\", \"value\": 100000000.0, \"width\": 100000000.0}, {\"from\": \"AAM AADMI PARTY\", \"to\": \"BAJAJ AUTO LTD\", \"value\": 80000000.0, \"width\": 80000000.0}, {\"from\": \"AAM AADMI PARTY\", \"to\": \"MKJ ENTERPRISES LIMITED\", \"value\": 70000000.0, \"width\": 70000000.0}, {\"from\": \"AAM AADMI PARTY\", \"to\": \"TRANSWAYS EXIM PRIVATE LIMITED\", \"value\": 70000000.0, \"width\": 70000000.0}, {\"from\": \"AAM AADMI PARTY\", \"to\": \"ASIAN TRADING CORPORATION LIMITED\", \"value\": 50000000.0, \"width\": 50000000.0}, {\"from\": \"AAM AADMI PARTY\", \"to\": \"TORRENT  POWER  LIMITED\", \"value\": 50000000.0, \"width\": 50000000.0}, {\"from\": \"AAM AADMI PARTY\", \"to\": \"Other\", \"value\": 232500000.0, \"width\": 232500000.0}, {\"from\": \"AVEES TRADING FINANCE PVT LTD\", \"to\": \"PRESIDENT, ALL INDIA CONGRESS COMMITTEE\", \"value\": 530000000.0, \"width\": 530000000.0}, {\"from\": \"MKJ ENTERPRISES LIMITED\", \"to\": \"JHARKHAND MUKTI MORCHA\", \"value\": 10000000.0, \"width\": 10000000.0}, {\"from\": \"MKJ ENTERPRISES LIMITED\", \"to\": \"PRESIDENT, ALL INDIA CONGRESS COMMITTEE\", \"value\": 693500000.0, \"width\": 693500000.0}, {\"from\": \"TORRENT  POWER  LIMITED\", \"to\": \"NATIONALIST CONGRESS PARTY MAHARASHTRA PRADESH\", \"value\": 35000000.0, \"width\": 35000000.0}, {\"from\": \"TORRENT  POWER  LIMITED\", \"to\": \"SHIVSENA\", \"value\": 30000000.0, \"width\": 30000000.0}, {\"from\": \"Other\", \"to\": \"ALL INDIA TRINAMOOL CONGRESS\", \"value\": 6795214000.0, \"width\": 6795214000.0}, {\"from\": \"Other\", \"to\": \"BHARAT RASHTRA SAMITHI\", \"value\": 8201599000.0, \"width\": 8201599000.0}, {\"from\": \"Other\", \"to\": \"BHARATIYA JANATA PARTY\", \"value\": 41150511000.0, \"width\": 41150511000.0}, {\"from\": \"Other\", \"to\": \"BIJU JANATA DAL\", \"value\": 3010000000.0, \"width\": 3010000000.0}, {\"from\": \"Other\", \"to\": \"DRAVIDA MUNNETRA KAZHAGAM (DMK)\", \"value\": 360000000.0, \"width\": 360000000.0}, {\"from\": \"Other\", \"to\": \"JANATA DAL ( SECULAR )\", \"value\": 60000000.0, \"width\": 60000000.0}, {\"from\": \"Other\", \"to\": \"JHARKHAND MUKTI MORCHA\", \"value\": 7500000.0, \"width\": 7500000.0}, {\"from\": \"Other\", \"to\": \"NATIONALIST CONGRESS PARTY MAHARASHTRA PRADESH\", \"value\": 57000000.0, \"width\": 57000000.0}, {\"from\": \"Other\", \"to\": \"PRESIDENT, ALL INDIA CONGRESS COMMITTEE\", \"value\": 9507445000.0, \"width\": 9507445000.0}, {\"from\": \"Other\", \"to\": \"RASHTRIYA JANTA DAL\", \"value\": 174000000.0, \"width\": 174000000.0}, {\"from\": \"Other\", \"to\": \"SHIROMANI AKALI DAL\", \"value\": 60000.0, \"width\": 60000.0}, {\"from\": \"Other\", \"to\": \"SHIVSENA\", \"value\": 224514000.0, \"width\": 224514000.0}, {\"from\": \"Other\", \"to\": \"SIKKIM KRANTIKARI MORCHA\", \"value\": 30000000.0, \"width\": 30000000.0}, {\"from\": \"Other\", \"to\": \"TELUGU DESAM PARTY\", \"value\": 895800000.0, \"width\": 895800000.0}, {\"from\": \"Other\", \"to\": \"YSR  CONGRESS PARTY  (YUVAJANA SRAMIKA RYTHU CONGRESS PARTY)\", \"value\": 797500000.0, \"width\": 797500000.0}, {\"from\": \"ADYAKSHA SAMAJVADI PARTY\", \"to\": \"KEVENTER FOODPARK INFRA LIMITED\", \"value\": 100000000.0, \"width\": 100000000.0}, {\"from\": \"ADYAKSHA SAMAJVADI PARTY\", \"to\": \"TORRENT PHARMACEUTICALS LTD\", \"value\": 30000000.0, \"width\": 30000000.0}, {\"from\": \"ADYAKSHA SAMAJVADI PARTY\", \"to\": \"M S JUGENDRA SINGH AND COMPANY\", \"value\": 2100000.0, \"width\": 2100000.0}, {\"from\": \"KEVENTER FOODPARK INFRA LIMITED\", \"to\": \"SHIROMANI AKALI DAL\", \"value\": 5000000.0, \"width\": 5000000.0}, {\"from\": \"TORRENT PHARMACEUTICALS LTD\", \"to\": \"SIKKIM DEMOCRATIC FRONT\", \"value\": 5000000.0, \"width\": 5000000.0}, {\"from\": \"TORRENT PHARMACEUTICALS LTD\", \"to\": \"SIKKIM KRANTIKARI MORCHA\", \"value\": 70000000.0, \"width\": 70000000.0}, {\"from\": \"ALL INDIA TRINAMOOL CONGRESS\", \"to\": \"FUTURE GAMING AND HOTEL SERVICES PR\", \"value\": 4350000000.0, \"width\": 4350000000.0}, {\"from\": \"ALL INDIA TRINAMOOL CONGRESS\", \"to\": \"HALDIA ENERGY LIMITED\", \"value\": 2810000000.0, \"width\": 2810000000.0}, {\"from\": \"ALL INDIA TRINAMOOL CONGRESS\", \"to\": \"DHARIWAL INFRASTRUCTURE LIMITED\", \"value\": 900000000.0, \"width\": 900000000.0}, {\"from\": \"ALL INDIA TRINAMOOL CONGRESS\", \"to\": \"FUTURE GAMING AND HOTEL SERVICES PVT LTD\", \"value\": 620000000.0, \"width\": 620000000.0}, {\"from\": \"ALL INDIA TRINAMOOL CONGRESS\", \"to\": \"FUTURE GAMING AND HOTEL SERVICES PRIVATE LIMITED\", \"value\": 450000000.0, \"width\": 450000000.0}, {\"from\": \"FUTURE GAMING AND HOTEL SERVICES PR\", \"to\": \"DRAVIDA MUNNETRA KAZHAGAM (DMK)\", \"value\": 4530000000.0, \"width\": 4530000000.0}, {\"from\": \"FUTURE GAMING AND HOTEL SERVICES PR\", \"to\": \"SIKKIM DEMOCRATIC FRONT\", \"value\": 50000000.0, \"width\": 50000000.0}, {\"from\": \"FUTURE GAMING AND HOTEL SERVICES PR\", \"to\": \"SIKKIM KRANTIKARI MORCHA\", \"value\": 80000000.0, \"width\": 80000000.0}, {\"from\": \"FUTURE GAMING AND HOTEL SERVICES PR\", \"to\": \"YSR  CONGRESS PARTY  (YUVAJANA SRAMIKA RYTHU CONGRESS PARTY)\", \"value\": 1540000000.0, \"width\": 1540000000.0}, {\"from\": \"FUTURE GAMING AND HOTEL SERVICES PRIVATE LIMITED\", \"to\": \"DRAVIDA MUNNETRA KAZHAGAM (DMK)\", \"value\": 500000000.0, \"width\": 500000000.0}, {\"from\": \"BHARAT RASHTRA SAMITHI\", \"to\": \"MEGHA ENGINEERING AND INFRASTRUCTURES LI MITED\", \"value\": 1500000000.0, \"width\": 1500000000.0}, {\"from\": \"BHARAT RASHTRA SAMITHI\", \"to\": \"YASHODA SUPER SPECIALITY HOSPITAL\", \"value\": 940000000.0, \"width\": 940000000.0}, {\"from\": \"BHARAT RASHTRA SAMITHI\", \"to\": \"CHENNAI GREEN WOODS PRIVATE LIMITED\", \"value\": 500000000.0, \"width\": 500000000.0}, {\"from\": \"BHARAT RASHTRA SAMITHI\", \"to\": \"MEGHA ENGINEERING \\u0026 INFRASTRUCTURES LIMITED\", \"value\": 450000000.0, \"width\": 450000000.0}, {\"from\": \"BHARAT RASHTRA SAMITHI\", \"to\": \"DR.REDDY\\u0027S LABORATORIES LTD\", \"value\": 320000000.0, \"width\": 320000000.0}, {\"from\": \"MEGHA ENGINEERING AND INFRASTRUCTURES LI MITED\", \"to\": \"BHARATIYA JANATA PARTY\", \"value\": 5190000000.0, \"width\": 5190000000.0}, {\"from\": \"MEGHA ENGINEERING AND INFRASTRUCTURES LI MITED\", \"to\": \"DRAVIDA MUNNETRA KAZHAGAM (DMK)\", \"value\": 600000000.0, \"width\": 600000000.0}, {\"from\": \"MEGHA ENGINEERING AND INFRASTRUCTURES LI MITED\", \"to\": \"JANASENA PARTY\", \"value\": 40000000.0, \"width\": 40000000.0}, {\"from\": \"MEGHA ENGINEERING AND INFRASTRUCTURES LI MITED\", \"to\": \"JANATA DAL ( SECULAR )\", \"value\": 50000000.0, \"width\": 50000000.0}, {\"from\": \"MEGHA ENGINEERING AND INFRASTRUCTURES LI MITED\", \"to\": \"TELUGU DESAM PARTY\", \"value\": 280000000.0, \"width\": 280000000.0}, {\"from\": \"MEGHA ENGINEERING AND INFRASTRUCTURES LI MITED\", \"to\": \"YSR  CONGRESS PARTY  (YUVAJANA SRAMIKA RYTHU CONGRESS PARTY)\", \"value\": 370000000.0, \"width\": 370000000.0}, {\"from\": \"YASHODA SUPER SPECIALITY HOSPITAL\", \"to\": \"PRESIDENT, ALL INDIA CONGRESS COMMITTEE\", \"value\": 640000000.0, \"width\": 640000000.0}, {\"from\": \"MEGHA ENGINEERING \\u0026 INFRASTRUCTURES LIMITED\", \"to\": \"DRAVIDA MUNNETRA KAZHAGAM (DMK)\", \"value\": 250000000.0, \"width\": 250000000.0}, {\"from\": \"DR.REDDY\\u0027S LABORATORIES LTD\", \"to\": \"TELUGU DESAM PARTY\", \"value\": 100000000.0, \"width\": 100000000.0}, {\"from\": \"BHARATIYA JANATA PARTY\", \"to\": \"QWIKSUPPLYCHAINPRIVATELIMITED\", \"value\": 3750000000.0, \"width\": 3750000000.0}, {\"from\": \"BHARATIYA JANATA PARTY\", \"to\": \"VEDANTA LIMITED\", \"value\": 2266500000.0, \"width\": 2266500000.0}, {\"from\": \"BHARATIYA JANATA PARTY\", \"to\": \"BHARTI AIRTEL LIMITED\", \"value\": 1830000000.0, \"width\": 1830000000.0}, {\"from\": \"BHARATIYA JANATA PARTY\", \"to\": \"MADANLAL LTD.\", \"value\": 1755000000.0, \"width\": 1755000000.0}, {\"from\": \"QWIKSUPPLYCHAINPRIVATELIMITED\", \"to\": \"NATIONALIST CONGRESS PARTY MAHARASHTRA PRADESH\", \"value\": 100000000.0, \"width\": 100000000.0}, {\"from\": \"QWIKSUPPLYCHAINPRIVATELIMITED\", \"to\": \"SHIVSENA\", \"value\": 250000000.0, \"width\": 250000000.0}, {\"from\": \"VEDANTA LIMITED\", \"to\": \"JHARKHAND MUKTI MORCHA\", \"value\": 50000000.0, \"width\": 50000000.0}, {\"from\": \"VEDANTA LIMITED\", \"to\": \"PRESIDENT, ALL INDIA CONGRESS COMMITTEE\", \"value\": 1040000000.0, \"width\": 1040000000.0}, {\"from\": \"BIHAR PRADESH JANTA DAL(UNITED)\", \"to\": \"MEGHA ENGINEERING AND INFRASTRUCTURES LTD\", \"value\": 100000000.0, \"width\": 100000000.0}, {\"from\": \"BIHAR PRADESH JANTA DAL(UNITED)\", \"to\": \"BHARTI INFRATEL LIMITED\", \"value\": 10000000.0, \"width\": 10000000.0}, {\"from\": \"BIHAR PRADESH JANTA DAL(UNITED)\", \"to\": \"SHREE CEMENT LTD\", \"value\": 10000000.0, \"width\": 10000000.0}, {\"from\": \"BHARTI INFRATEL LIMITED\", \"to\": \"SHIROMANI AKALI DAL\", \"value\": 10000000.0, \"width\": 10000000.0}, {\"from\": \"BIJU JANATA DAL\", \"to\": \"ESSEL MINING AND INDS LTD\", \"value\": 1745000000.0, \"width\": 1745000000.0}, {\"from\": \"BIJU JANATA DAL\", \"to\": \"JINDAL STEEL AND POWER LIMITED\", \"value\": 1000000000.0, \"width\": 1000000000.0}, {\"from\": \"BIJU JANATA DAL\", \"to\": \"UTKAL ALUMINA INTERNATIONAL LIMITED\", \"value\": 600000000.0, \"width\": 600000000.0}, {\"from\": \"BIJU JANATA DAL\", \"to\": \"RUNGTA SONS P LTD\", \"value\": 500000000.0, \"width\": 500000000.0}, {\"from\": \"BIJU JANATA DAL\", \"to\": \"MS S N MOHANTY\", \"value\": 450000000.0, \"width\": 450000000.0}, {\"from\": \"BIJU JANATA DAL\", \"to\": \"RASHMI CEMENT LTD\", \"value\": 450000000.0, \"width\": 450000000.0}, {\"from\": \"DRAVIDA MUNNETRA KAZHAGAM (DMK)\", \"to\": \"WESTWELL GASES PRIVATE LIMITED\", \"value\": 80000000.0, \"width\": 80000000.0}, {\"from\": \"WESTWELL GASES PRIVATE LIMITED\", \"to\": \"RASHTRIYA JANTA DAL\", \"value\": 51000000.0, \"width\": 51000000.0}, {\"from\": \"GOA FORWARD PARTY\", \"to\": \"GOA CARBON LTD\", \"value\": 2000000.0, \"width\": 2000000.0}, {\"from\": \"GOA FORWARD PARTY\", \"to\": \"V M SALGAOCAR CORPORATION PVT LTD\", \"value\": 1500000.0, \"width\": 1500000.0}, {\"from\": \"V M SALGAOCAR CORPORATION PVT LTD\", \"to\": \"MAHARASHTRAWADI GOMNTAK PARTY\", \"value\": 3500000.0, \"width\": 3500000.0}, {\"from\": \"JAMMU AND KASHMIR NATIONAL CONFERENCE\", \"to\": \"BHARTI AIRTEL LIMITEDAIRTEL CURRE NT AC-GCO\", \"value\": 5000000.0, \"width\": 5000000.0}, {\"from\": \"JANASENA PARTY\", \"to\": \"WESTERN UP POWER TRANSMISSION COMPANY LI MITED\", \"value\": 100000000.0, \"width\": 100000000.0}, {\"from\": \"JANASENA PARTY\", \"to\": \"NATCO PHARMA LTD\", \"value\": 50000000.0, \"width\": 50000000.0}, {\"from\": \"JANASENA PARTY\", \"to\": \"SRI CHAITANYA STUDENTS FACILITY MANAGEME\", \"value\": 10000000.0, \"width\": 10000000.0}, {\"from\": \"JANASENA PARTY\", \"to\": \"VALLURUPALLI PRABHU KISHORE\", \"value\": 10000000.0, \"width\": 10000000.0}, {\"from\": \"WESTERN UP POWER TRANSMISSION COMPANY LI MITED\", \"to\": \"PRESIDENT, ALL INDIA CONGRESS COMMITTEE\", \"value\": 1100000000.0, \"width\": 1100000000.0}, {\"from\": \"WESTERN UP POWER TRANSMISSION COMPANY LI MITED\", \"to\": \"TELUGU DESAM PARTY\", \"value\": 200000000.0, \"width\": 200000000.0}, {\"from\": \"NATCO PHARMA LTD\", \"to\": \"TELUGU DESAM PARTY\", \"value\": 140000000.0, \"width\": 140000000.0}, {\"from\": \"JANATA DAL ( SECULAR )\", \"to\": \"NARA CONSTRUCTIONS\", \"value\": 100000000.0, \"width\": 100000000.0}, {\"from\": \"JANATA DAL ( SECULAR )\", \"to\": \"RITHWIK PROJECTS  PRIVATE LIMITED\", \"value\": 100000000.0, \"width\": 100000000.0}, {\"from\": \"JANATA DAL ( SECULAR )\", \"to\": \"ILABS HYD TECHNOLOGY CENTRE PVT LTD\", \"value\": 50000000.0, \"width\": 50000000.0}, {\"from\": \"JANATA DAL ( SECULAR )\", \"to\": \"KCR ENTERPRISE LLP\", \"value\": 50000000.0, \"width\": 50000000.0}, {\"from\": \"JHARKHAND MUKTI MORCHA\", \"to\": \"THRIVENI SAINIK MINING PRIVATE LIMI\", \"value\": 30000000.0, \"width\": 30000000.0}, {\"from\": \"JHARKHAND MUKTI MORCHA\", \"to\": \"PUJA COAL PRIVATE LIMITED\", \"value\": 20000000.0, \"width\": 20000000.0}, {\"from\": \"JHARKHAND MUKTI MORCHA\", \"to\": \"SHREE CHAND SARAOGI\", \"value\": 7500000.0, \"width\": 7500000.0}, {\"from\": \"MAHARASHTRAWADI GOMNTAK PARTY\", \"to\": \"SHRINIVAS VASUDEVA DEMPO\", \"value\": 2000000.0, \"width\": 2000000.0}, {\"from\": \"NATIONALIST CONGRESS PARTY MAHARASHTRA PRADESH\", \"to\": \"RAHUL BHATIA\", \"value\": 38000000.0, \"width\": 38000000.0}, {\"from\": \"NATIONALIST CONGRESS PARTY MAHARASHTRA PRADESH\", \"to\": \"MAGARPATTA TOWNSHIP DEV AND CONST C\", \"value\": 30000000.0, \"width\": 30000000.0}, {\"from\": \"NATIONALIST CONGRESS PARTY MAHARASHTRA PRADESH\", \"to\": \"MAHALAXMI VIDYUT PVT.LTD.\", \"value\": 25000000.0, \"width\": 25000000.0}, {\"from\": \"RASHTRIYA JANTA DAL\", \"to\": \"IFB AGRO INDUSTRIES LIMITED\", \"value\": 350000000.0, \"width\": 350000000.0}, {\"from\": \"RASHTRIYA JANTA DAL\", \"to\": \"ASKUS LOGISTICS PRIVATE LIMITED\", \"value\": 90000000.0, \"width\": 90000000.0}, {\"from\": \"RASHTRIYA JANTA DAL\", \"to\": \"RAUNAK GUPTA\", \"value\": 35000000.0, \"width\": 35000000.0}, {\"from\": \"RASHTRIYA JANTA DAL\", \"to\": \"PURULIA BOTTLING PVT LTD\", \"value\": 25000000.0, \"width\": 25000000.0}, {\"from\": \"SHIROMANI AKALI DAL\", \"to\": \"FASTWAY TRANSMISSIONS PVT LTD\", \"value\": 50000000.0, \"width\": 50000000.0}, {\"from\": \"SHIROMANI AKALI DAL\", \"to\": \"VARDHMAN TEXTILES LTD\", \"value\": 7500000.0, \"width\": 7500000.0}, {\"from\": \"SHIROMANI AKALI DAL\", \"to\": \"SANDEEP KHANNA AND ASSOCIATES\", \"value\": 40000.0, \"width\": 40000.0}, {\"from\": \"SHIVSENA\", \"to\": \"B G SHIRKE CONSTRUCTION TECHNOLOGY PVT L TD\", \"value\": 850000000.0, \"width\": 850000000.0}, {\"from\": \"SHIVSENA\", \"to\": \"PRL DEVELOPERS PRIVATE LIMITED\", \"value\": 50000000.0, \"width\": 50000000.0}, {\"from\": \"SHIVSENA\", \"to\": \"DINESHCHANDRA R AGRAWAL INFRACON PVT LTD\", \"value\": 30000000.0, \"width\": 30000000.0}, {\"from\": \"SHIVSENA\", \"to\": \"GENEXT HARDWARE   PARKS PVT. LTD\", \"value\": 30000000.0, \"width\": 30000000.0}, {\"from\": \"SHIVSENA\", \"to\": \"ULTRA TECH CEMENT LIMITED\", \"value\": 30000000.0, \"width\": 30000000.0}, {\"from\": \"SHIVSENA\", \"to\": \"YUVAN TRADING   CONSULTANCY LLP\", \"value\": 30000000.0, \"width\": 30000000.0}, {\"from\": \"SIKKIM KRANTIKARI MORCHA\", \"to\": \"ZYDUS HEALTHCARE LIMITED\", \"value\": 80000000.0, \"width\": 80000000.0}, {\"from\": \"SIKKIM KRANTIKARI MORCHA\", \"to\": \"MICRO LABS LIMITED\", \"value\": 70000000.0, \"width\": 70000000.0}, {\"from\": \"SIKKIM KRANTIKARI MORCHA\", \"to\": \"IPCA LABORATORIES LIMITED\", \"value\": 35000000.0, \"width\": 35000000.0}, {\"from\": \"TELUGU DESAM PARTY\", \"to\": \"SHIRDI SAI ELECTRICALS LTD\", \"value\": 400000000.0, \"width\": 400000000.0}, {\"from\": \"TELUGU DESAM PARTY\", \"to\": \"BHARAT BIOTECH INTERNATIONAL LIMITED\", \"value\": 100000000.0, \"width\": 100000000.0}, {\"from\": \"YSR  CONGRESS PARTY  (YUVAJANA SRAMIKA RYTHU CONGRESS PARTY)\", \"to\": \"THE RAMCO CEMENTS LIMITED\", \"value\": 240000000.0, \"width\": 240000000.0}, {\"from\": \"YSR  CONGRESS PARTY  (YUVAJANA SRAMIKA RYTHU CONGRESS PARTY)\", \"to\": \"OSTRO JAISALMER PRIVATE LIMITED\", \"value\": 170000000.0, \"width\": 170000000.0}, {\"from\": \"YSR  CONGRESS PARTY  (YUVAJANA SRAMIKA RYTHU CONGRESS PARTY)\", \"to\": \"OSTRO MADHYA WIND PRIVATE LIMITED\", \"value\": 170000000.0, \"width\": 170000000.0}]);\n",
              "\n",
              "                  nodeColors = {};\n",
              "                  allNodes = nodes.get({ returnType: \"Object\" });\n",
              "                  for (nodeId in allNodes) {\n",
              "                    nodeColors[nodeId] = allNodes[nodeId].color;\n",
              "                  }\n",
              "                  allEdges = edges.get({ returnType: \"Object\" });\n",
              "                  // adding nodes and edges to the graph\n",
              "                  data = {nodes: nodes, edges: edges};\n",
              "\n",
              "                  var options = {\n",
              "    \"configure\": {\n",
              "        \"enabled\": false\n",
              "    },\n",
              "    \"edges\": {\n",
              "        \"color\": {\n",
              "            \"inherit\": true\n",
              "        },\n",
              "        \"smooth\": {\n",
              "            \"enabled\": true,\n",
              "            \"type\": \"dynamic\"\n",
              "        }\n",
              "    },\n",
              "    \"interaction\": {\n",
              "        \"dragNodes\": true,\n",
              "        \"hideEdgesOnDrag\": false,\n",
              "        \"hideNodesOnDrag\": false\n",
              "    },\n",
              "    \"physics\": {\n",
              "        \"enabled\": true,\n",
              "        \"stabilization\": {\n",
              "            \"enabled\": true,\n",
              "            \"fit\": true,\n",
              "            \"iterations\": 1000,\n",
              "            \"onlyDynamicEdges\": false,\n",
              "            \"updateInterval\": 50\n",
              "        }\n",
              "    }\n",
              "};\n",
              "\n",
              "                  \n",
              "\n",
              "\n",
              "                  \n",
              "\n",
              "                  network = new vis.Network(container, data, options);\n",
              "\n",
              "                  \n",
              "\n",
              "                  \n",
              "                    network.on(\"selectNode\", neighbourhoodHighlight);\n",
              "                  \n",
              "\n",
              "                  \n",
              "\n",
              "\n",
              "                  \n",
              "\n",
              "                  return network;\n",
              "\n",
              "              }\n",
              "              drawGraph();\n",
              "        </script>\n",
              "    </body>\n",
              "</html>"
            ]
          },
          "metadata": {}
        }
      ]
    },
    {
      "cell_type": "code",
      "source": [],
      "metadata": {
        "id": "aM3bT-KKx9ZZ"
      },
      "execution_count": null,
      "outputs": []
    }
  ],
  "metadata": {
    "colab": {
      "provenance": [],
      "collapsed_sections": [
        "Me4ZiJp66izs",
        "pG965NlG3B1d",
        "nHU0d4c324IA",
        "XqGl1NXg2zG7",
        "pqeuW9RI3p-d",
        "0WNyM7bX_XNH",
        "nia5G6rm7DuJ",
        "2FkNFNzy5hjl",
        "yyNtOY7r91tG",
        "yUdOzlZkj9Em"
      ],
      "toc_visible": true,
      "authorship_tag": "ABX9TyMaQUWn+pbp4SNfozvFY8Hk",
      "include_colab_link": true
    },
    "kernelspec": {
      "display_name": "Python 3",
      "name": "python3"
    },
    "language_info": {
      "name": "python"
    }
  },
  "nbformat": 4,
  "nbformat_minor": 0
}